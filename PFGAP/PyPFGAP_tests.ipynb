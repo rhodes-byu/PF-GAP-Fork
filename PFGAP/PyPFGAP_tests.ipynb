{
 "cells": [
  {
   "cell_type": "markdown",
   "id": "2f2f7f2c",
   "metadata": {},
   "source": [
    "# Testing PyPFGAP"
   ]
  },
  {
   "cell_type": "code",
   "execution_count": null,
   "id": "bb5919a6",
   "metadata": {},
   "outputs": [
    {
     "ename": "",
     "evalue": "",
     "output_type": "error",
     "traceback": [
      "\u001b[1;31mRunning cells with '.venv (Python 3.10.12)' requires the ipykernel package.\n",
      "\u001b[1;31mInstall 'ipykernel' into the Python environment. \n",
      "\u001b[1;31mCommand: '/yunity/arusty/PF-GAP/.venv/bin/python -m pip install ipykernel -U --force-reinstall'"
     ]
    }
   ],
   "source": [
    "from aeon.classification.shapelet_based import RDSTClassifier\n",
    "import numpy as np\n",
    "import os\n",
    "\n",
    "#Data\n",
    "from aeon.datasets import load_gunpoint\n",
    "from aeon.datasets import load_basic_motions\n",
    "\n",
    "#Adjust the path\n",
    "import sys\n",
    "sys.path.insert(0, '/yunity/arusty/PF-GAP')\n",
    "\n",
    "import Application.proxUtil as proxUtil\n"
   ]
  },
  {
   "cell_type": "code",
   "execution_count": null,
   "id": "08d302ad",
   "metadata": {},
   "outputs": [],
   "source": [
    "# Load Data\n",
    "XTRAIN, YTRAIN = load_gunpoint(split=\"TRAIN\")\n",
    "XTEST, YTEST = load_gunpoint(split=\"TEST\")\n",
    "\n",
    "# XTRAIN, YTRAIN = load_basic_motions(split=\"TRAIN\")\n",
    "# XTEST, YTEST = load_basic_motions(split=\"TEST\")\n",
    "\n",
    "#Generate random static variables to test algorithm\n",
    "XSTATIC = np.random.rand(XTRAIN.shape[0], 45)\n",
    "XSTATIC_TEST = np.random.rand(XTEST.shape[0], 45)"
   ]
  },
  {
   "cell_type": "code",
   "execution_count": null,
   "id": "26a6a52d",
   "metadata": {},
   "outputs": [],
   "source": [
    "def run_Java(self, X, y, static = None, train_file = \"~/data/train\"):\n",
    "        \"\"\"\n",
    "        Runs the Java proces\n",
    "        \"\"\"\n",
    "        # Call the Java process to calculate proximities\n",
    "        # Expand the user path and create the full file path\n",
    "        tsv_path = os.path.expanduser(train_file)\n",
    "\n",
    "        # Ensure y is a column vector\n",
    "        if y.ndim == 1:\n",
    "            y = y.reshape(-1, 1)\n",
    "        # Combine X and y horizontally\n",
    "        print(X.shape)\n",
    "        print(y.shape)\n",
    "        data = np.vstack([X, y])\n",
    "        print(data.shape)\n",
    "        # Save combined data to a TSV file\n",
    "        np.savetxt(tsv_path, data, delimiter='\\t', fmt='%s')\n",
    "\n",
    "        proxUtil.getProx(tsv_path, tsv_path, num_trees=18, r=5)\n",
    "        prox,labels = proxUtil.getProxArrays()\n",
    "\n",
    "        if os.path.exists(tsv_path):\n",
    "            os.remove(tsv_path)\n",
    "\n",
    "\n",
    "        return prox\n",
    "\n"
   ]
  },
  {
   "cell_type": "code",
   "execution_count": null,
   "id": "75bbc1a9",
   "metadata": {},
   "outputs": [],
   "source": [
    "# Read the data from the TSV file\n",
    "test_data_path = '/yunity/arusty/PF-GAP/PFGAP/PFGAP/Data/GunPoint_TEST.tsv'\n",
    "test_data = np.loadtxt(test_data_path, delimiter='\\t')\n",
    "\n",
    "# Display the shape of the loaded data\n",
    "print(\"Shape of the test data:\", test_data.shape)"
   ]
  },
  {
   "cell_type": "code",
   "execution_count": null,
   "id": "04c36eef",
   "metadata": {},
   "outputs": [],
   "source": [
    "test_data[:, 0]"
   ]
  },
  {
   "cell_type": "code",
   "execution_count": null,
   "id": "38b7daef",
   "metadata": {},
   "outputs": [],
   "source": [
    "YTEST"
   ]
  },
  {
   "cell_type": "code",
   "execution_count": null,
   "id": "add807b9",
   "metadata": {},
   "outputs": [],
   "source": [
    "\n",
    "# Run the Java process with reshaped XTRAIN\n",
    "run_Java(None, XTRAIN, YTRAIN, static=XSTATIC, train_file=\"~/data/train\")"
   ]
  }
 ],
 "metadata": {
  "kernelspec": {
   "display_name": ".venv",
   "language": "python",
   "name": "python3"
  },
  "language_info": {
   "codemirror_mode": {
    "name": "ipython",
    "version": 3
   },
   "file_extension": ".py",
   "mimetype": "text/x-python",
   "name": "python",
   "nbconvert_exporter": "python",
   "pygments_lexer": "ipython3",
   "version": "3.10.12"
  }
 },
 "nbformat": 4,
 "nbformat_minor": 5
}
