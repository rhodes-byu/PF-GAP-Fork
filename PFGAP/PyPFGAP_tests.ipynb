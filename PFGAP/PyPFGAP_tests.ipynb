{
 "cells": [
  {
   "cell_type": "markdown",
   "id": "2f2f7f2c",
   "metadata": {},
   "source": [
    "# Testing PyPFGAP"
   ]
  },
  {
   "cell_type": "code",
   "execution_count": null,
   "id": "bb5919a6",
   "metadata": {},
   "outputs": [],
   "source": [
    "from aeon.classification.shapelet_based import RDSTClassifier\n",
    "import numpy as np\n",
    "import os\n",
    "\n",
    "#Data\n",
    "from aeon.datasets import load_gunpoint\n",
    "from aeon.datasets import load_basic_motions\n",
    "\n",
    "#Adjust the path\n",
    "import sys\n",
    "sys.path.insert(0, '/yunity/arusty/PF-GAP')\n",
    "\n",
    "from PFGAP.PyPFGAP import PyPFGAP\n"
   ]
  },
  {
   "cell_type": "code",
   "execution_count": 2,
   "id": "08d302ad",
   "metadata": {},
   "outputs": [],
   "source": [
    "# Load Data\n",
    "XTRAIN, YTRAIN = load_gunpoint(split=\"TRAIN\")\n",
    "XTEST, YTEST = load_gunpoint(split=\"TEST\")\n",
    "\n",
    "# XTRAIN, YTRAIN = load_basic_motions(split=\"TRAIN\")\n",
    "# XTEST, YTEST = load_basic_motions(split=\"TEST\")\n",
    "\n",
    "#Generate random static variables to test algorithm\n",
    "XSTATIC = np.random.rand(XTRAIN.shape[0], 45)\n",
    "XSTATIC_TEST = np.random.rand(XTEST.shape[0], 45)"
   ]
  },
  {
   "cell_type": "code",
   "execution_count": 3,
   "id": "75bbc1a9",
   "metadata": {},
   "outputs": [
    {
     "name": "stdout",
     "output_type": "stream",
     "text": [
      "Shape of the test data: (150, 151)\n"
     ]
    }
   ],
   "source": [
    "# Read the data from the TSV file\n",
    "test_data_path = '/yunity/arusty/PF-GAP/PFGAP/PFGAP/Data/GunPoint_TEST.tsv'\n",
    "test_data = np.loadtxt(test_data_path, delimiter='\\t')\n",
    "\n",
    "# Display the shape of the loaded data\n",
    "print(\"Shape of the test data:\", test_data.shape)"
   ]
  },
  {
   "cell_type": "code",
   "execution_count": 4,
   "id": "04c36eef",
   "metadata": {},
   "outputs": [
    {
     "data": {
      "text/plain": [
       "array([1., 2., 2., 1., 1., 2., 1., 2., 2., 1., 1., 1., 2., 1., 1., 1., 1.,\n",
       "       2., 2., 2., 1., 2., 1., 1., 1., 2., 1., 1., 2., 1., 1., 2., 2., 1.,\n",
       "       1., 1., 1., 1., 1., 2., 1., 2., 1., 1., 2., 1., 2., 2., 1., 2., 2.,\n",
       "       2., 1., 2., 1., 1., 2., 2., 1., 2., 1., 2., 1., 1., 2., 1., 1., 2.,\n",
       "       2., 2., 2., 2., 2., 2., 2., 2., 2., 2., 2., 1., 1., 1., 2., 2., 2.,\n",
       "       2., 1., 2., 1., 1., 1., 2., 1., 2., 1., 1., 2., 2., 1., 1., 2., 1.,\n",
       "       1., 2., 2., 1., 1., 2., 1., 2., 2., 2., 1., 2., 1., 1., 2., 1., 1.,\n",
       "       2., 1., 2., 2., 2., 1., 2., 1., 1., 2., 2., 2., 2., 1., 1., 1., 2.,\n",
       "       1., 2., 1., 1., 2., 1., 1., 2., 1., 2., 1., 2., 2., 1.])"
      ]
     },
     "execution_count": 4,
     "metadata": {},
     "output_type": "execute_result"
    }
   ],
   "source": [
    "test_data[:, 0]"
   ]
  },
  {
   "cell_type": "code",
   "execution_count": 5,
   "id": "38b7daef",
   "metadata": {},
   "outputs": [
    {
     "data": {
      "text/plain": [
       "array(['1', '2', '2', '1', '1', '2', '1', '2', '2', '1', '1', '1', '2',\n",
       "       '1', '1', '1', '1', '2', '2', '2', '1', '2', '1', '1', '1', '2',\n",
       "       '1', '1', '2', '1', '1', '2', '2', '1', '1', '1', '1', '1', '1',\n",
       "       '2', '1', '2', '1', '1', '2', '1', '2', '2', '1', '2', '2', '2',\n",
       "       '1', '2', '1', '1', '2', '2', '1', '2', '1', '2', '1', '1', '2',\n",
       "       '1', '1', '2', '2', '2', '2', '2', '2', '2', '2', '2', '2', '2',\n",
       "       '2', '1', '1', '1', '2', '2', '2', '2', '1', '2', '1', '1', '1',\n",
       "       '2', '1', '2', '1', '1', '2', '2', '1', '1', '2', '1', '1', '2',\n",
       "       '2', '1', '1', '2', '1', '2', '2', '2', '1', '2', '1', '1', '2',\n",
       "       '1', '1', '2', '1', '2', '2', '2', '1', '2', '1', '1', '2', '2',\n",
       "       '2', '2', '1', '1', '1', '2', '1', '2', '1', '1', '2', '1', '1',\n",
       "       '2', '1', '2', '1', '2', '2', '1'], dtype='<U1')"
      ]
     },
     "execution_count": 5,
     "metadata": {},
     "output_type": "execute_result"
    }
   ],
   "source": [
    "YTEST"
   ]
  },
  {
   "cell_type": "code",
   "execution_count": 6,
   "id": "028659b6",
   "metadata": {},
   "outputs": [],
   "source": [
    "pf = PyPFGAP()"
   ]
  },
  {
   "cell_type": "code",
   "execution_count": 7,
   "id": "f2433e22",
   "metadata": {},
   "outputs": [
    {
     "name": "stdout",
     "output_type": "stream",
     "text": [
      "Shape of the training data: (50, 151)\n"
     ]
    }
   ],
   "source": [
    "train_data_path = '/yunity/arusty/PF-GAP/PFGAP/PFGAP/Data/GunPoint_TRAIN.tsv'\n",
    "train_data = np.loadtxt(train_data_path, delimiter='\\t')\n",
    "print(\"Shape of the training data:\", train_data.shape)\n"
   ]
  },
  {
   "cell_type": "code",
   "execution_count": 8,
   "id": "f1be419b",
   "metadata": {},
   "outputs": [
    {
     "data": {
      "text/plain": [
       "array([-0.64199155, -0.64540093, -0.77827907, -0.7481029 , -0.59742191,\n",
       "       -0.55366008, -1.294884  , -2.0120689 , -1.0665005 , -1.1758389 ,\n",
       "       -0.81410425, -1.1407461 , -1.186591  , -1.2084099 , -0.60737568,\n",
       "       -1.161359  , -0.80929234, -0.61916421, -1.0507165 , -1.0824705 ,\n",
       "       -0.849687  , -0.7728034 , -1.1867783 , -1.7464956 , -0.71306248,\n",
       "       -0.97210768, -1.012182  , -1.0788593 , -1.008827  , -1.5047556 ,\n",
       "       -0.96426418, -1.4829241 , -0.97910197, -0.72526276, -0.64100512,\n",
       "       -0.60808394, -1.2824317 , -0.54858405, -1.6236964 , -1.1131568 ,\n",
       "       -0.73426195, -1.1508991 , -0.97268011, -1.2430027 , -1.0374974 ,\n",
       "       -0.56504961, -0.61498675, -0.77837863, -0.70261754, -1.4322717 ])"
      ]
     },
     "execution_count": 8,
     "metadata": {},
     "output_type": "execute_result"
    }
   ],
   "source": [
    "train_data[:, 2]"
   ]
  },
  {
   "cell_type": "code",
   "execution_count": 9,
   "id": "48e84e23",
   "metadata": {},
   "outputs": [
    {
     "data": {
      "text/plain": [
       "(50, 1, 150)"
      ]
     },
     "execution_count": 9,
     "metadata": {},
     "output_type": "execute_result"
    }
   ],
   "source": [
    "XTRAIN.shape"
   ]
  },
  {
   "cell_type": "code",
   "execution_count": 12,
   "id": "add807b9",
   "metadata": {},
   "outputs": [
    {
     "name": "stdout",
     "output_type": "stream",
     "text": [
      "reading file [train]:finished in 0:0:0.020\n",
      "reading file [test]:finished in 0:0:0.023\n",
      "Running on configurations...\n",
      "Dataset: train, Training Data : 50x150 , Testing Data: 150x150, Train #Classes: 2, Test #Classes: 2\n",
      "Repeats: 1 , Trees: 18 , Candidates per Split(r): 5\n",
      "Output Dir: output, Export: 1, Verbosity: 1\n",
      "Select DM per node: true , Shuffle Data: false, JVM WarmUp: false\n",
      "----------------------------------------------------------------------------------------------------\n",
      "\n",
      "-----------------Repetition No: 1 (train)   -----------------\n",
      "Using: 4 MB, Free: 30 MB, Allocated Pool: 34 MB, Max Available: 1024 MB\n",
      "core.ProximityForestResult@4f3f5b24\n",
      "0.1.2.3.4.5.6.7.8.9.10.11.12.13.14.15.16.17.\n",
      "Using: 52 MB, Free: 38 MB, Allocated Pool: 90 MB, Max Available: 1024 MB\n",
      "**\n",
      "Computing Forest Proximities...\n",
      "Done Computing Forest Proximities. Computation time: 18.0ms\n",
      "Training Time: 1951.598710ms (0:0:1.951)\n",
      "Prediction Time: 1138.013321ms (0:0:1.138)\n",
      "Correct(TP+TN): 149 vs Incorrect(FP+FN): 1\n",
      "Accuracy: 0.9933333333333333\n",
      "Error Rate: 0.00666666666666671\n",
      "REPEAT:1 ,train, 0.9933333333333333, 1951.59871, 1138.013321, 4.111111111111111\n",
      "Subprocess finished successfully.\n"
     ]
    },
    {
     "data": {
      "text/plain": [
       "array([[0.        , 0.        , 0.        , ..., 0.03367003, 0.13333333,\n",
       "        0.        ],\n",
       "       [0.06200397, 0.        , 0.        , ..., 0.0973575 , 0.        ,\n",
       "        0.02128623],\n",
       "       [0.        , 0.        , 0.        , ..., 0.        , 0.25698006,\n",
       "        0.        ],\n",
       "       ...,\n",
       "       [0.        , 0.        , 0.        , ..., 0.        , 0.2       ,\n",
       "        0.04166667],\n",
       "       [0.05555556, 0.        , 0.375     , ..., 0.11111111, 0.        ,\n",
       "        0.        ],\n",
       "       [0.02857143, 0.00952381, 0.        , ..., 0.03722944, 0.        ,\n",
       "        0.        ]])"
      ]
     },
     "execution_count": 12,
     "metadata": {},
     "output_type": "execute_result"
    }
   ],
   "source": [
    "# Run the Java process with reshaped XTRAIN\n",
    "pf.run_Java(XTRAIN, YTRAIN, XTEST, YTEST, static=XSTATIC)"
   ]
  },
  {
   "cell_type": "code",
   "execution_count": 11,
   "id": "21e836ee",
   "metadata": {},
   "outputs": [
    {
     "name": "stdout",
     "output_type": "stream",
     "text": [
      "reading file [GunPoint_TRAIN.tsv]:finished in 0:0:0.022\n",
      "reading file [GunPoint_TEST.tsv]:finished in 0:0:0.019\n",
      "Running on configurations...\n",
      "Dataset: GunPoint_TRAIN.tsv, Training Data : 50x150 , Testing Data: 150x150, Train #Classes: 2, Test #Classes: 2\n",
      "Repeats: 1 , Trees: 18 , Candidates per Split(r): 5\n",
      "Output Dir: output, Export: 1, Verbosity: 1\n",
      "Select DM per node: true , Shuffle Data: false, JVM WarmUp: false\n",
      "----------------------------------------------------------------------------------------------------\n",
      "\n",
      "-----------------Repetition No: 1 (GunPoint_TRAIN.tsv)   -----------------\n",
      "Using: 4 MB, Free: 30 MB, Allocated Pool: 34 MB, Max Available: 1024 MB\n",
      "core.ProximityForestResult@4f3f5b24\n",
      "0.1.2.3.4.5.6.7.8.9.10.11.12.13.14.15.16.17.\n",
      "Using: 48 MB, Free: 42 MB, Allocated Pool: 90 MB, Max Available: 1024 MB\n",
      "**\n",
      "Computing Forest Proximities...\n",
      "Done Computing Forest Proximities. Computation time: 17.0ms\n",
      "Training Time: 1936.832782ms (0:0:1.936)\n",
      "Prediction Time: 996.703784ms (0:0:0.996)\n",
      "Correct(TP+TN): 150 vs Incorrect(FP+FN): 0\n",
      "Accuracy: 1.0\n",
      "Error Rate: 0.0\n",
      "REPEAT:1 ,GunPoint_TRAIN.tsv, 1.0, 1936.832782, 996.703784, 3.7777777777777777\n",
      "Subprocess finished successfully.\n",
      "[[0.         0.20054945 0.         ... 0.02857143 0.         0.00952381]\n",
      " [0.0625     0.         0.         ... 0.07083333 0.         0.01666667]\n",
      " [0.         0.00769231 0.         ... 0.01923077 0.09741042 0.        ]\n",
      " ...\n",
      " [0.03571429 0.05769231 0.         ... 0.         0.         0.        ]\n",
      " [0.         0.         0.01190476 ... 0.         0.         0.        ]\n",
      " [0.01587302 0.01892552 0.         ... 0.00793651 0.         0.        ]]\n"
     ]
    }
   ],
   "source": [
    "#Verification Tests\n",
    "from PFGAP.Application.proxUtil import getProx, getProxArrays\n",
    "mytrain = \"/yunity/arusty/PF-GAP/PFGAP/PFGAP/Data/GunPoint_TRAIN.tsv\"\n",
    "mytest = \"/yunity/arusty/PF-GAP/PFGAP/PFGAP/Data/GunPoint_TEST.tsv\"\n",
    "getProx(mytrain, mytest, num_trees=18, r=5)\n",
    "prox,labels = getProxArrays()\n",
    "print(prox)"
   ]
  },
  {
   "cell_type": "code",
   "execution_count": null,
   "id": "52e1bce9",
   "metadata": {},
   "outputs": [],
   "source": []
  }
 ],
 "metadata": {
  "kernelspec": {
   "display_name": ".venv",
   "language": "python",
   "name": "python3"
  },
  "language_info": {
   "codemirror_mode": {
    "name": "ipython",
    "version": 3
   },
   "file_extension": ".py",
   "mimetype": "text/x-python",
   "name": "python",
   "nbconvert_exporter": "python",
   "pygments_lexer": "ipython3",
   "version": "3.12.3"
  }
 },
 "nbformat": 4,
 "nbformat_minor": 5
}
