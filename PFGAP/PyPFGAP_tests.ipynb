{
 "cells": [
  {
   "cell_type": "markdown",
   "id": "2f2f7f2c",
   "metadata": {},
   "source": [
    "# Testing PyPFGAP"
   ]
  },
  {
   "cell_type": "code",
   "execution_count": 1,
   "id": "bb5919a6",
   "metadata": {},
   "outputs": [],
   "source": [
    "from aeon.classification.shapelet_based import RDSTClassifier\n",
    "import numpy as np\n",
    "import os\n",
    "\n",
    "#Data\n",
    "from aeon.datasets import load_gunpoint\n",
    "from aeon.datasets import load_basic_motions\n",
    "\n",
    "#Adjust the path\n",
    "import sys\n",
    "sys.path.insert(0, '/yunity/arusty/PF-GAP')\n",
    "\n",
    "import Application.proxUtil as proxUtil\n",
    "from PFGAP.PyPFGAP import PyPFGAP\n"
   ]
  },
  {
   "cell_type": "code",
   "execution_count": 2,
   "id": "08d302ad",
   "metadata": {},
   "outputs": [],
   "source": [
    "# Load Data\n",
    "XTRAIN, YTRAIN = load_gunpoint(split=\"TRAIN\")\n",
    "XTEST, YTEST = load_gunpoint(split=\"TEST\")\n",
    "\n",
    "# XTRAIN, YTRAIN = load_basic_motions(split=\"TRAIN\")\n",
    "# XTEST, YTEST = load_basic_motions(split=\"TEST\")\n",
    "\n",
    "#Generate random static variables to test algorithm\n",
    "XSTATIC = np.random.rand(XTRAIN.shape[0], 45)\n",
    "XSTATIC_TEST = np.random.rand(XTEST.shape[0], 45)"
   ]
  },
  {
   "cell_type": "code",
   "execution_count": 3,
   "id": "75bbc1a9",
   "metadata": {},
   "outputs": [
    {
     "name": "stdout",
     "output_type": "stream",
     "text": [
      "Shape of the test data: (150, 151)\n"
     ]
    }
   ],
   "source": [
    "# Read the data from the TSV file\n",
    "test_data_path = '/yunity/arusty/PF-GAP/PFGAP/PFGAP/Data/GunPoint_TEST.tsv'\n",
    "test_data = np.loadtxt(test_data_path, delimiter='\\t')\n",
    "\n",
    "# Display the shape of the loaded data\n",
    "print(\"Shape of the test data:\", test_data.shape)"
   ]
  },
  {
   "cell_type": "code",
   "execution_count": 4,
   "id": "04c36eef",
   "metadata": {},
   "outputs": [
    {
     "data": {
      "text/plain": [
       "array([1., 2., 2., 1., 1., 2., 1., 2., 2., 1., 1., 1., 2., 1., 1., 1., 1.,\n",
       "       2., 2., 2., 1., 2., 1., 1., 1., 2., 1., 1., 2., 1., 1., 2., 2., 1.,\n",
       "       1., 1., 1., 1., 1., 2., 1., 2., 1., 1., 2., 1., 2., 2., 1., 2., 2.,\n",
       "       2., 1., 2., 1., 1., 2., 2., 1., 2., 1., 2., 1., 1., 2., 1., 1., 2.,\n",
       "       2., 2., 2., 2., 2., 2., 2., 2., 2., 2., 2., 1., 1., 1., 2., 2., 2.,\n",
       "       2., 1., 2., 1., 1., 1., 2., 1., 2., 1., 1., 2., 2., 1., 1., 2., 1.,\n",
       "       1., 2., 2., 1., 1., 2., 1., 2., 2., 2., 1., 2., 1., 1., 2., 1., 1.,\n",
       "       2., 1., 2., 2., 2., 1., 2., 1., 1., 2., 2., 2., 2., 1., 1., 1., 2.,\n",
       "       1., 2., 1., 1., 2., 1., 1., 2., 1., 2., 1., 2., 2., 1.])"
      ]
     },
     "execution_count": 4,
     "metadata": {},
     "output_type": "execute_result"
    }
   ],
   "source": [
    "test_data[:, 0]"
   ]
  },
  {
   "cell_type": "code",
   "execution_count": 5,
   "id": "38b7daef",
   "metadata": {},
   "outputs": [
    {
     "data": {
      "text/plain": [
       "array(['1', '2', '2', '1', '1', '2', '1', '2', '2', '1', '1', '1', '2',\n",
       "       '1', '1', '1', '1', '2', '2', '2', '1', '2', '1', '1', '1', '2',\n",
       "       '1', '1', '2', '1', '1', '2', '2', '1', '1', '1', '1', '1', '1',\n",
       "       '2', '1', '2', '1', '1', '2', '1', '2', '2', '1', '2', '2', '2',\n",
       "       '1', '2', '1', '1', '2', '2', '1', '2', '1', '2', '1', '1', '2',\n",
       "       '1', '1', '2', '2', '2', '2', '2', '2', '2', '2', '2', '2', '2',\n",
       "       '2', '1', '1', '1', '2', '2', '2', '2', '1', '2', '1', '1', '1',\n",
       "       '2', '1', '2', '1', '1', '2', '2', '1', '1', '2', '1', '1', '2',\n",
       "       '2', '1', '1', '2', '1', '2', '2', '2', '1', '2', '1', '1', '2',\n",
       "       '1', '1', '2', '1', '2', '2', '2', '1', '2', '1', '1', '2', '2',\n",
       "       '2', '2', '1', '1', '1', '2', '1', '2', '1', '1', '2', '1', '1',\n",
       "       '2', '1', '2', '1', '2', '2', '1'], dtype='<U1')"
      ]
     },
     "execution_count": 5,
     "metadata": {},
     "output_type": "execute_result"
    }
   ],
   "source": [
    "YTEST"
   ]
  },
  {
   "cell_type": "code",
   "execution_count": 6,
   "id": "028659b6",
   "metadata": {},
   "outputs": [],
   "source": [
    "pf = PyPFGAP()"
   ]
  },
  {
   "cell_type": "code",
   "execution_count": 7,
   "id": "f2433e22",
   "metadata": {},
   "outputs": [
    {
     "name": "stdout",
     "output_type": "stream",
     "text": [
      "Shape of the training data: (50, 151)\n"
     ]
    }
   ],
   "source": [
    "train_data_path = '/yunity/arusty/PF-GAP/PFGAP/PFGAP/Data/GunPoint_TRAIN.tsv'\n",
    "train_data = np.loadtxt(train_data_path, delimiter='\\t')\n",
    "print(\"Shape of the training data:\", train_data.shape)\n"
   ]
  },
  {
   "cell_type": "code",
   "execution_count": 8,
   "id": "f1be419b",
   "metadata": {},
   "outputs": [
    {
     "data": {
      "text/plain": [
       "array([-0.64199155, -0.64540093, -0.77827907, -0.7481029 , -0.59742191,\n",
       "       -0.55366008, -1.294884  , -2.0120689 , -1.0665005 , -1.1758389 ,\n",
       "       -0.81410425, -1.1407461 , -1.186591  , -1.2084099 , -0.60737568,\n",
       "       -1.161359  , -0.80929234, -0.61916421, -1.0507165 , -1.0824705 ,\n",
       "       -0.849687  , -0.7728034 , -1.1867783 , -1.7464956 , -0.71306248,\n",
       "       -0.97210768, -1.012182  , -1.0788593 , -1.008827  , -1.5047556 ,\n",
       "       -0.96426418, -1.4829241 , -0.97910197, -0.72526276, -0.64100512,\n",
       "       -0.60808394, -1.2824317 , -0.54858405, -1.6236964 , -1.1131568 ,\n",
       "       -0.73426195, -1.1508991 , -0.97268011, -1.2430027 , -1.0374974 ,\n",
       "       -0.56504961, -0.61498675, -0.77837863, -0.70261754, -1.4322717 ])"
      ]
     },
     "execution_count": 8,
     "metadata": {},
     "output_type": "execute_result"
    }
   ],
   "source": [
    "train_data[:, 2]"
   ]
  },
  {
   "cell_type": "code",
   "execution_count": 9,
   "id": "48e84e23",
   "metadata": {},
   "outputs": [
    {
     "data": {
      "text/plain": [
       "(50, 1, 150)"
      ]
     },
     "execution_count": 9,
     "metadata": {},
     "output_type": "execute_result"
    }
   ],
   "source": [
    "XTRAIN.shape"
   ]
  },
  {
   "cell_type": "code",
   "execution_count": 10,
   "id": "add807b9",
   "metadata": {},
   "outputs": [
    {
     "ename": "FileNotFoundError",
     "evalue": "[Errno 2] No such file or directory: '/yunity/arusty/data/train'",
     "output_type": "error",
     "traceback": [
      "\u001b[0;31m---------------------------------------------------------------------------\u001b[0m",
      "\u001b[0;31mFileNotFoundError\u001b[0m                         Traceback (most recent call last)",
      "Cell \u001b[0;32mIn[10], line 2\u001b[0m\n\u001b[1;32m      1\u001b[0m \u001b[38;5;66;03m# Run the Java process with reshaped XTRAIN\u001b[39;00m\n\u001b[0;32m----> 2\u001b[0m \u001b[43mpf\u001b[49m\u001b[38;5;241;43m.\u001b[39;49m\u001b[43mrun_Java\u001b[49m\u001b[43m(\u001b[49m\u001b[43mXTRAIN\u001b[49m\u001b[43m,\u001b[49m\u001b[43m \u001b[49m\u001b[43mYTRAIN\u001b[49m\u001b[43m,\u001b[49m\u001b[43m \u001b[49m\u001b[43mstatic\u001b[49m\u001b[38;5;241;43m=\u001b[39;49m\u001b[43mXSTATIC\u001b[49m\u001b[43m)\u001b[49m\n",
      "File \u001b[0;32m~/PF-GAP/PFGAP/PyPFGAP.py:50\u001b[0m, in \u001b[0;36mPyPFGAP.run_Java\u001b[0;34m(self, X, y, static)\u001b[0m\n\u001b[1;32m     47\u001b[0m     \u001b[38;5;28;01mreturn\u001b[39;00m \u001b[38;5;28;01mNone\u001b[39;00m\n\u001b[1;32m     49\u001b[0m \u001b[38;5;66;03m# Save combined data to a TSV file\u001b[39;00m\n\u001b[0;32m---> 50\u001b[0m \u001b[43mnp\u001b[49m\u001b[38;5;241;43m.\u001b[39;49m\u001b[43msavetxt\u001b[49m\u001b[43m(\u001b[49m\u001b[43mtsv_path\u001b[49m\u001b[43m,\u001b[49m\u001b[43m \u001b[49m\u001b[43mdata\u001b[49m\u001b[43m,\u001b[49m\u001b[43m \u001b[49m\u001b[43mdelimiter\u001b[49m\u001b[38;5;241;43m=\u001b[39;49m\u001b[38;5;124;43m'\u001b[39;49m\u001b[38;5;130;43;01m\\t\u001b[39;49;00m\u001b[38;5;124;43m'\u001b[39;49m\u001b[43m,\u001b[49m\u001b[43m \u001b[49m\u001b[43mfmt\u001b[49m\u001b[38;5;241;43m=\u001b[39;49m\u001b[38;5;124;43m'\u001b[39;49m\u001b[38;5;132;43;01m%s\u001b[39;49;00m\u001b[38;5;124;43m'\u001b[39;49m\u001b[43m)\u001b[49m\n\u001b[1;32m     53\u001b[0m proxUtil\u001b[38;5;241m.\u001b[39mgetProx(tsv_path, \u001b[38;5;28;01mNone\u001b[39;00m, num_trees\u001b[38;5;241m=\u001b[39m\u001b[38;5;241m18\u001b[39m, r\u001b[38;5;241m=\u001b[39m\u001b[38;5;241m5\u001b[39m)\n\u001b[1;32m     54\u001b[0m prox,labels \u001b[38;5;241m=\u001b[39m proxUtil\u001b[38;5;241m.\u001b[39mgetProxArrays()\n",
      "File \u001b[0;32m~/PF-GAP/.venv/lib/python3.12/site-packages/numpy/lib/_npyio_impl.py:1559\u001b[0m, in \u001b[0;36msavetxt\u001b[0;34m(fname, X, fmt, delimiter, newline, header, footer, comments, encoding)\u001b[0m\n\u001b[1;32m   1556\u001b[0m     fname \u001b[38;5;241m=\u001b[39m os\u001b[38;5;241m.\u001b[39mfspath(fname)\n\u001b[1;32m   1557\u001b[0m \u001b[38;5;28;01mif\u001b[39;00m _is_string_like(fname):\n\u001b[1;32m   1558\u001b[0m     \u001b[38;5;66;03m# datasource doesn't support creating a new file ...\u001b[39;00m\n\u001b[0;32m-> 1559\u001b[0m     \u001b[38;5;28;43mopen\u001b[39;49m\u001b[43m(\u001b[49m\u001b[43mfname\u001b[49m\u001b[43m,\u001b[49m\u001b[43m \u001b[49m\u001b[38;5;124;43m'\u001b[39;49m\u001b[38;5;124;43mwt\u001b[39;49m\u001b[38;5;124;43m'\u001b[39;49m\u001b[43m)\u001b[49m\u001b[38;5;241m.\u001b[39mclose()\n\u001b[1;32m   1560\u001b[0m     fh \u001b[38;5;241m=\u001b[39m np\u001b[38;5;241m.\u001b[39mlib\u001b[38;5;241m.\u001b[39m_datasource\u001b[38;5;241m.\u001b[39mopen(fname, \u001b[38;5;124m'\u001b[39m\u001b[38;5;124mwt\u001b[39m\u001b[38;5;124m'\u001b[39m, encoding\u001b[38;5;241m=\u001b[39mencoding)\n\u001b[1;32m   1561\u001b[0m     own_fh \u001b[38;5;241m=\u001b[39m \u001b[38;5;28;01mTrue\u001b[39;00m\n",
      "\u001b[0;31mFileNotFoundError\u001b[0m: [Errno 2] No such file or directory: '/yunity/arusty/data/train'"
     ]
    }
   ],
   "source": [
    "# Run the Java process with reshaped XTRAIN\n",
    "pf.run_Java(XTRAIN, YTRAIN, static=XSTATIC)"
   ]
  }
 ],
 "metadata": {
  "kernelspec": {
   "display_name": ".venv",
   "language": "python",
   "name": "python3"
  },
  "language_info": {
   "codemirror_mode": {
    "name": "ipython",
    "version": 3
   },
   "file_extension": ".py",
   "mimetype": "text/x-python",
   "name": "python",
   "nbconvert_exporter": "python",
   "pygments_lexer": "ipython3",
   "version": "3.12.3"
  }
 },
 "nbformat": 4,
 "nbformat_minor": 5
}
