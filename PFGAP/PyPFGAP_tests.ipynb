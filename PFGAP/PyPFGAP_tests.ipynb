{
 "cells": [
  {
   "cell_type": "markdown",
   "id": "2f2f7f2c",
   "metadata": {},
   "source": [
    "# Testing PyPFGAP"
   ]
  },
  {
   "cell_type": "code",
   "execution_count": 1,
   "id": "bb5919a6",
   "metadata": {},
   "outputs": [],
   "source": [
    "import numpy as np\n",
    "\n",
    "#Data\n",
    "from aeon.datasets import load_gunpoint\n",
    "from aeon.datasets import load_basic_motions\n",
    "\n",
    "#Adjust the path\n",
    "import sys\n",
    "sys.path.insert(0, '/yunity/arusty/PF-GAP')\n",
    "\n",
    "from PFGAP.PyPFGAP import PyPFGAP\n"
   ]
  },
  {
   "cell_type": "code",
   "execution_count": 2,
   "id": "08d302ad",
   "metadata": {},
   "outputs": [],
   "source": [
    "# Load Data\n",
    "XTRAIN, YTRAIN = load_gunpoint(split=\"TRAIN\")\n",
    "XTEST, YTEST = load_gunpoint(split=\"TEST\")\n",
    "\n",
    "# XTRAIN, YTRAIN = load_basic_motions(split=\"TRAIN\")\n",
    "# XTEST, YTEST = load_basic_motions(split=\"TEST\")\n",
    "\n",
    "#Generate random static variables to test algorithm\n",
    "XSTATIC = np.random.rand(XTRAIN.shape[0], 45)\n",
    "XSTATIC_TEST = np.random.rand(XTEST.shape[0], 45)"
   ]
  },
  {
   "cell_type": "code",
   "execution_count": 3,
   "id": "75bbc1a9",
   "metadata": {},
   "outputs": [
    {
     "name": "stdout",
     "output_type": "stream",
     "text": [
      "Shape of the test data: (150, 151)\n"
     ]
    }
   ],
   "source": [
    "# Read the data from the TSV file\n",
    "test_data_path = '/yunity/arusty/PF-GAP/PFGAP/PFGAP/Data/GunPoint_TEST.tsv'\n",
    "test_data = np.loadtxt(test_data_path, delimiter='\\t')\n",
    "\n",
    "# Display the shape of the loaded data\n",
    "print(\"Shape of the test data:\", test_data.shape)"
   ]
  },
  {
   "cell_type": "code",
   "execution_count": 4,
   "id": "04c36eef",
   "metadata": {},
   "outputs": [
    {
     "data": {
      "text/plain": [
       "array([1., 2., 2., 1., 1., 2., 1., 2., 2., 1., 1., 1., 2., 1., 1., 1., 1.,\n",
       "       2., 2., 2., 1., 2., 1., 1., 1., 2., 1., 1., 2., 1., 1., 2., 2., 1.,\n",
       "       1., 1., 1., 1., 1., 2., 1., 2., 1., 1., 2., 1., 2., 2., 1., 2., 2.,\n",
       "       2., 1., 2., 1., 1., 2., 2., 1., 2., 1., 2., 1., 1., 2., 1., 1., 2.,\n",
       "       2., 2., 2., 2., 2., 2., 2., 2., 2., 2., 2., 1., 1., 1., 2., 2., 2.,\n",
       "       2., 1., 2., 1., 1., 1., 2., 1., 2., 1., 1., 2., 2., 1., 1., 2., 1.,\n",
       "       1., 2., 2., 1., 1., 2., 1., 2., 2., 2., 1., 2., 1., 1., 2., 1., 1.,\n",
       "       2., 1., 2., 2., 2., 1., 2., 1., 1., 2., 2., 2., 2., 1., 1., 1., 2.,\n",
       "       1., 2., 1., 1., 2., 1., 1., 2., 1., 2., 1., 2., 2., 1.])"
      ]
     },
     "execution_count": 4,
     "metadata": {},
     "output_type": "execute_result"
    }
   ],
   "source": [
    "test_data[:, 0]"
   ]
  },
  {
   "cell_type": "code",
   "execution_count": 5,
   "id": "38b7daef",
   "metadata": {},
   "outputs": [
    {
     "data": {
      "text/plain": [
       "array(['1', '2', '2', '1', '1', '2', '1', '2', '2', '1', '1', '1', '2',\n",
       "       '1', '1', '1', '1', '2', '2', '2', '1', '2', '1', '1', '1', '2',\n",
       "       '1', '1', '2', '1', '1', '2', '2', '1', '1', '1', '1', '1', '1',\n",
       "       '2', '1', '2', '1', '1', '2', '1', '2', '2', '1', '2', '2', '2',\n",
       "       '1', '2', '1', '1', '2', '2', '1', '2', '1', '2', '1', '1', '2',\n",
       "       '1', '1', '2', '2', '2', '2', '2', '2', '2', '2', '2', '2', '2',\n",
       "       '2', '1', '1', '1', '2', '2', '2', '2', '1', '2', '1', '1', '1',\n",
       "       '2', '1', '2', '1', '1', '2', '2', '1', '1', '2', '1', '1', '2',\n",
       "       '2', '1', '1', '2', '1', '2', '2', '2', '1', '2', '1', '1', '2',\n",
       "       '1', '1', '2', '1', '2', '2', '2', '1', '2', '1', '1', '2', '2',\n",
       "       '2', '2', '1', '1', '1', '2', '1', '2', '1', '1', '2', '1', '1',\n",
       "       '2', '1', '2', '1', '2', '2', '1'], dtype='<U1')"
      ]
     },
     "execution_count": 5,
     "metadata": {},
     "output_type": "execute_result"
    }
   ],
   "source": [
    "YTEST"
   ]
  },
  {
   "cell_type": "code",
   "execution_count": 6,
   "id": "028659b6",
   "metadata": {},
   "outputs": [],
   "source": [
    "pf = PyPFGAP()"
   ]
  },
  {
   "cell_type": "code",
   "execution_count": 7,
   "id": "f2433e22",
   "metadata": {},
   "outputs": [
    {
     "name": "stdout",
     "output_type": "stream",
     "text": [
      "Shape of the training data: (50, 151)\n"
     ]
    }
   ],
   "source": [
    "train_data_path = '/yunity/arusty/PF-GAP/PFGAP/PFGAP/Data/GunPoint_TRAIN.tsv'\n",
    "train_data = np.loadtxt(train_data_path, delimiter='\\t')\n",
    "print(\"Shape of the training data:\", train_data.shape)\n"
   ]
  },
  {
   "cell_type": "code",
   "execution_count": 8,
   "id": "f1be419b",
   "metadata": {},
   "outputs": [
    {
     "data": {
      "text/plain": [
       "array([-0.64199155, -0.64540093, -0.77827907, -0.7481029 , -0.59742191,\n",
       "       -0.55366008, -1.294884  , -2.0120689 , -1.0665005 , -1.1758389 ,\n",
       "       -0.81410425, -1.1407461 , -1.186591  , -1.2084099 , -0.60737568,\n",
       "       -1.161359  , -0.80929234, -0.61916421, -1.0507165 , -1.0824705 ,\n",
       "       -0.849687  , -0.7728034 , -1.1867783 , -1.7464956 , -0.71306248,\n",
       "       -0.97210768, -1.012182  , -1.0788593 , -1.008827  , -1.5047556 ,\n",
       "       -0.96426418, -1.4829241 , -0.97910197, -0.72526276, -0.64100512,\n",
       "       -0.60808394, -1.2824317 , -0.54858405, -1.6236964 , -1.1131568 ,\n",
       "       -0.73426195, -1.1508991 , -0.97268011, -1.2430027 , -1.0374974 ,\n",
       "       -0.56504961, -0.61498675, -0.77837863, -0.70261754, -1.4322717 ])"
      ]
     },
     "execution_count": 8,
     "metadata": {},
     "output_type": "execute_result"
    }
   ],
   "source": [
    "train_data[:, 2]"
   ]
  },
  {
   "cell_type": "code",
   "execution_count": 9,
   "id": "48e84e23",
   "metadata": {},
   "outputs": [
    {
     "data": {
      "text/plain": [
       "(50, 1, 150)"
      ]
     },
     "execution_count": 9,
     "metadata": {},
     "output_type": "execute_result"
    }
   ],
   "source": [
    "XTRAIN.shape"
   ]
  },
  {
   "cell_type": "code",
   "execution_count": 10,
   "id": "add807b9",
   "metadata": {},
   "outputs": [
    {
     "name": "stdout",
     "output_type": "stream",
     "text": [
      "reading file [train]:finished in 0:0:0.020\n",
      "reading file [test]:finished in 0:0:0.009\n",
      "Running on configurations...\n",
      "Dataset: train, Training Data : 50x150 , Testing Data: 50x150, Train #Classes: 2, Test #Classes: 2\n",
      "Repeats: 1 , Trees: 18 , Candidates per Split(r): 5\n",
      "Output Dir: output, Export: 1, Verbosity: 1\n",
      "Select DM per node: true , Shuffle Data: false, JVM WarmUp: false\n",
      "----------------------------------------------------------------------------------------------------\n",
      "\n",
      "-----------------Repetition No: 1 (train)   -----------------\n",
      "Using: 4 MB, Free: 23 MB, Allocated Pool: 27 MB, Max Available: 1024 MB\n",
      "core.ProximityForestResult@4f3f5b24\n",
      "0.1.2.3.4.5.6.7.8.9.10.11.12.13.14.15.16.17.\n",
      "Using: 53 MB, Free: 32 MB, Allocated Pool: 85 MB, Max Available: 1024 MB\n",
      "*\n",
      "Computing Forest Proximities...\n",
      "Done Computing Forest Proximities. Computation time: 15.0ms\n",
      "Training Time: 1963.245786ms (0:0:1.963)\n",
      "Prediction Time: 341.447618ms (0:0:0.341)\n",
      "Correct(TP+TN): 50 vs Incorrect(FP+FN): 0\n",
      "Accuracy: 1.0\n",
      "Error Rate: 0.0\n",
      "REPEAT:1 ,train, 1.0, 1963.245786, 341.447618, 3.611111111111111\n",
      "Subprocess finished successfully.\n"
     ]
    },
    {
     "data": {
      "text/plain": [
       "array([[0.        , 0.06439037, 0.        , ..., 0.10900647, 0.        ,\n",
       "        0.00595238],\n",
       "       [0.03703704, 0.        , 0.        , ..., 0.05113636, 0.        ,\n",
       "        0.00694444],\n",
       "       [0.02834467, 0.03139717, 0.        , ..., 0.04238619, 0.02527473,\n",
       "        0.        ],\n",
       "       ...,\n",
       "       [0.19111111, 0.04666667, 0.        , ..., 0.        , 0.        ,\n",
       "        0.        ],\n",
       "       [0.        , 0.        , 0.04613095, ..., 0.        , 0.        ,\n",
       "        0.        ],\n",
       "       [0.        , 0.01785714, 0.        , ..., 0.00595238, 0.        ,\n",
       "        0.        ]])"
      ]
     },
     "execution_count": 10,
     "metadata": {},
     "output_type": "execute_result"
    }
   ],
   "source": [
    "# Run the Java process with reshaped XTRAIN\n",
    "pf.fit(XTRAIN, YTRAIN, static=XSTATIC)"
   ]
  },
  {
   "cell_type": "code",
   "execution_count": 11,
   "id": "21e836ee",
   "metadata": {},
   "outputs": [
    {
     "name": "stdout",
     "output_type": "stream",
     "text": [
      "reading file [GunPoint_TRAIN.tsv]:finished in 0:0:0.021\n",
      "reading file [GunPoint_TEST.tsv]:finished in 0:0:0.018\n",
      "Running on configurations...\n",
      "Dataset: GunPoint_TRAIN.tsv, Training Data : 50x150 , Testing Data: 150x150, Train #Classes: 2, Test #Classes: 2\n",
      "Repeats: 1 , Trees: 18 , Candidates per Split(r): 5\n",
      "Output Dir: output, Export: 1, Verbosity: 1\n",
      "Select DM per node: true , Shuffle Data: false, JVM WarmUp: false\n",
      "----------------------------------------------------------------------------------------------------\n",
      "\n",
      "-----------------Repetition No: 1 (GunPoint_TRAIN.tsv)   -----------------\n",
      "Using: 4 MB, Free: 30 MB, Allocated Pool: 34 MB, Max Available: 1024 MB\n",
      "core.ProximityForestResult@4f3f5b24\n",
      "0.1.2.3.4.5.6.7.8.9.10.11.12.13.14.15.16.17.\n",
      "Using: 41 MB, Free: 49 MB, Allocated Pool: 90 MB, Max Available: 1024 MB\n",
      "**\n",
      "Computing Forest Proximities...\n",
      "Done Computing Forest Proximities. Computation time: 14.0ms\n",
      "Training Time: 1962.608210ms (0:0:1.962)\n",
      "Prediction Time: 1120.886152ms (0:0:1.120)\n",
      "Correct(TP+TN): 150 vs Incorrect(FP+FN): 0\n",
      "Accuracy: 1.0\n",
      "Error Rate: 0.0\n",
      "REPEAT:1 ,GunPoint_TRAIN.tsv, 1.0, 1962.60821, 1120.886152, 4.388888888888889\n",
      "Subprocess finished successfully.\n",
      "[[0.         0.13759019 0.         ... 0.06355391 0.         0.        ]\n",
      " [0.06226852 0.         0.         ... 0.07797619 0.07407407 0.        ]\n",
      " [0.         0.         0.         ... 0.         0.28758454 0.        ]\n",
      " ...\n",
      " [0.09047619 0.09047619 0.05555556 ... 0.         0.         0.        ]\n",
      " [0.         0.         0.16872294 ... 0.         0.         0.        ]\n",
      " [0.01041667 0.         0.         ... 0.02083333 0.         0.        ]]\n"
     ]
    }
   ],
   "source": [
    "#Verification Tests\n",
    "from PFGAP.Application.proxUtil import getProx, getProxArrays\n",
    "mytrain = \"/yunity/arusty/PF-GAP/PFGAP/PFGAP/Data/GunPoint_TRAIN.tsv\"\n",
    "mytest = \"/yunity/arusty/PF-GAP/PFGAP/PFGAP/Data/GunPoint_TEST.tsv\"\n",
    "getProx(mytrain, mytest, num_trees=18, r=5)\n",
    "prox,labels = getProxArrays()\n",
    "print(prox)"
   ]
  },
  {
   "cell_type": "code",
   "execution_count": null,
   "id": "52e1bce9",
   "metadata": {},
   "outputs": [],
   "source": []
  }
 ],
 "metadata": {
  "kernelspec": {
   "display_name": ".venv",
   "language": "python",
   "name": "python3"
  },
  "language_info": {
   "codemirror_mode": {
    "name": "ipython",
    "version": 3
   },
   "file_extension": ".py",
   "mimetype": "text/x-python",
   "name": "python",
   "nbconvert_exporter": "python",
   "pygments_lexer": "ipython3",
   "version": "3.12.3"
  }
 },
 "nbformat": 4,
 "nbformat_minor": 5
}
