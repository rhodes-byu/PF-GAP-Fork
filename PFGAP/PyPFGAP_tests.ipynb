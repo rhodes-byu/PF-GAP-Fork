{
 "cells": [
  {
   "cell_type": "markdown",
   "id": "2f2f7f2c",
   "metadata": {},
   "source": [
    "# Testing PyPFGAP"
   ]
  },
  {
   "cell_type": "code",
   "execution_count": 1,
   "id": "dc21318e",
   "metadata": {},
   "outputs": [
    {
     "name": "stdout",
     "output_type": "stream",
     "text": [
      "Python executable: /yunity/arusty/PF-GAP/.venv/bin/python\n",
      "Environment prefix: /yunity/arusty/PF-GAP/.venv\n",
      "PATH environment variable: /yunity/arusty/PF-GAP/.venv/bin:/yunity/arusty/.vscode-server/cli/servers/Stable-17baf841131aa23349f217ca7c570c76ee87b957/server/bin/remote-cli:/usr/local/sbin:/usr/local/bin:/usr/sbin:/usr/bin:/sbin:/bin:/usr/games:/usr/local/games:/snap/bin:/usr/java/jdk-19.0.1/bin:/usr/java/jdk-19.0.1/bin\n"
     ]
    }
   ],
   "source": [
    "# Print environment and path information\n",
    "import sys\n",
    "import os\n",
    "print(\"Python executable:\", sys.executable)\n",
    "print(\"Environment prefix:\", sys.prefix)\n",
    "print(\"PATH environment variable:\", os.environ.get(\"PATH\"))"
   ]
  },
  {
   "cell_type": "markdown",
   "id": "e3922360",
   "metadata": {},
   "source": [
    "Python executable: /yunity/arusty/PF-GAP/.venv/bin/python\n",
    "Environment prefix: /yunity/arusty/PF-GAP/.venv\n",
    "PATH environment variable: /yunity/arusty/PF-GAP/.venv/bin:/yunity/arusty/.vscode-server/cli/servers/Stable-17baf841131aa23349f217ca7c570c76ee87b957/server/bin/remote-cli:/usr/local/sbin:/usr/local/bin:/usr/sbin:/usr/bin:/sbin:/bin:/usr/games:/usr/local/games:/snap/bin:/usr/java/jdk-19.0.1/bin:/usr/java/jdk-19.0.1/bin"
   ]
  },
  {
   "cell_type": "code",
   "execution_count": 2,
   "id": "bb5919a6",
   "metadata": {},
   "outputs": [
    {
     "name": "stdout",
     "output_type": "stream",
     "text": [
      "Error: Java version 11 detected. Version 17 or higher is required.\n"
     ]
    },
    {
     "ename": "FileNotFoundError",
     "evalue": "[Errno 2] No such file or directory: 'ForestProximities.txt'",
     "output_type": "error",
     "traceback": [
      "\u001b[0;31m---------------------------------------------------------------------------\u001b[0m",
      "\u001b[0;31mFileNotFoundError\u001b[0m                         Traceback (most recent call last)",
      "Cell \u001b[0;32mIn[2], line 13\u001b[0m\n\u001b[1;32m     10\u001b[0m \u001b[38;5;28;01mimport\u001b[39;00m\u001b[38;5;250m \u001b[39m\u001b[38;5;21;01msys\u001b[39;00m\n\u001b[1;32m     11\u001b[0m sys\u001b[38;5;241m.\u001b[39mpath\u001b[38;5;241m.\u001b[39minsert(\u001b[38;5;241m0\u001b[39m, \u001b[38;5;124m'\u001b[39m\u001b[38;5;124m/yunity/arusty/PF-GAP\u001b[39m\u001b[38;5;124m'\u001b[39m)\n\u001b[0;32m---> 13\u001b[0m \u001b[38;5;28;01mimport\u001b[39;00m\u001b[38;5;250m \u001b[39m\u001b[38;5;21;01mApplication\u001b[39;00m\u001b[38;5;21;01m.\u001b[39;00m\u001b[38;5;21;01mproxUtil\u001b[39;00m\u001b[38;5;250m \u001b[39m\u001b[38;5;28;01mas\u001b[39;00m\u001b[38;5;250m \u001b[39m\u001b[38;5;21;01mproxUtil\u001b[39;00m\n",
      "File \u001b[0;32m~/PF-GAP/PFGAP/Application/proxUtil.py:141\u001b[0m\n\u001b[1;32m    139\u001b[0m mytest \u001b[38;5;241m=\u001b[39m \u001b[38;5;124m\"\u001b[39m\u001b[38;5;124m/yunity/arusty/PF-GAP/PFGAP/PFGAP/Data/GunPoint_TEST.tsv\u001b[39m\u001b[38;5;124m\"\u001b[39m\n\u001b[1;32m    140\u001b[0m getProx(mytrain, mytest, num_trees\u001b[38;5;241m=\u001b[39m\u001b[38;5;241m18\u001b[39m, r\u001b[38;5;241m=\u001b[39m\u001b[38;5;241m5\u001b[39m)\n\u001b[0;32m--> 141\u001b[0m prox,labels \u001b[38;5;241m=\u001b[39m \u001b[43mgetProxArrays\u001b[49m\u001b[43m(\u001b[49m\u001b[43m)\u001b[49m\n\u001b[1;32m    142\u001b[0m \u001b[38;5;28mprint\u001b[39m(prox)\n\u001b[1;32m    143\u001b[0m \u001b[38;5;66;03m# prox = SymmetrizeProx(prox)\u001b[39;00m\n\u001b[1;32m    144\u001b[0m \u001b[38;5;66;03m# getRawOutlierScores(prox,labels)\u001b[39;00m\n",
      "File \u001b[0;32m~/PF-GAP/PFGAP/Application/proxUtil.py:74\u001b[0m, in \u001b[0;36mgetProxArrays\u001b[0;34m(proxfile, yfile)\u001b[0m\n\u001b[1;32m     73\u001b[0m \u001b[38;5;28;01mdef\u001b[39;00m\u001b[38;5;250m \u001b[39m\u001b[38;5;21mgetProxArrays\u001b[39m(proxfile\u001b[38;5;241m=\u001b[39m\u001b[38;5;124m\"\u001b[39m\u001b[38;5;124mForestProximities.txt\u001b[39m\u001b[38;5;124m\"\u001b[39m, yfile\u001b[38;5;241m=\u001b[39m\u001b[38;5;124m\"\u001b[39m\u001b[38;5;124mytrain.txt\u001b[39m\u001b[38;5;124m\"\u001b[39m):\n\u001b[0;32m---> 74\u001b[0m     f1 \u001b[38;5;241m=\u001b[39m \u001b[38;5;28;43mopen\u001b[39;49m\u001b[43m(\u001b[49m\u001b[43mproxfile\u001b[49m\u001b[43m)\u001b[49m\n\u001b[1;32m     75\u001b[0m     f2 \u001b[38;5;241m=\u001b[39m f1\u001b[38;5;241m.\u001b[39mread()\n\u001b[1;32m     76\u001b[0m     f2 \u001b[38;5;241m=\u001b[39m f2\u001b[38;5;241m.\u001b[39mreplace(\u001b[38;5;124m\"\u001b[39m\u001b[38;5;124m{\u001b[39m\u001b[38;5;124m\"\u001b[39m,\u001b[38;5;124m\"\u001b[39m\u001b[38;5;124m[\u001b[39m\u001b[38;5;124m\"\u001b[39m)\n",
      "\u001b[0;31mFileNotFoundError\u001b[0m: [Errno 2] No such file or directory: 'ForestProximities.txt'"
     ]
    }
   ],
   "source": [
    "from aeon.classification.shapelet_based import RDSTClassifier\n",
    "import numpy as np\n",
    "import os\n",
    "\n",
    "#Data\n",
    "from aeon.datasets import load_gunpoint\n",
    "from aeon.datasets import load_basic_motions\n",
    "\n",
    "#Adjust the path\n",
    "import sys\n",
    "sys.path.insert(0, '/yunity/arusty/PF-GAP')\n",
    "\n",
    "import Application.proxUtil as proxUtil\n"
   ]
  },
  {
   "cell_type": "code",
   "execution_count": null,
   "id": "08d302ad",
   "metadata": {},
   "outputs": [],
   "source": [
    "# Load Data\n",
    "XTRAIN, YTRAIN = load_gunpoint(split=\"TRAIN\")\n",
    "XTEST, YTEST = load_gunpoint(split=\"TEST\")\n",
    "\n",
    "# XTRAIN, YTRAIN = load_basic_motions(split=\"TRAIN\")\n",
    "# XTEST, YTEST = load_basic_motions(split=\"TEST\")\n",
    "\n",
    "#Generate random static variables to test algorithm\n",
    "XSTATIC = np.random.rand(XTRAIN.shape[0], 45)\n",
    "XSTATIC_TEST = np.random.rand(XTEST.shape[0], 45)"
   ]
  },
  {
   "cell_type": "code",
   "execution_count": null,
   "id": "26a6a52d",
   "metadata": {},
   "outputs": [],
   "source": [
    "def run_Java(self, X, y, static = None, train_file = \"~/data/train\"):\n",
    "        \"\"\"\n",
    "        Runs the Java proces\n",
    "        \"\"\"\n",
    "        # Call the Java process to calculate proximities\n",
    "        # Expand the user path and create the full file path\n",
    "        tsv_path = os.path.expanduser(train_file)\n",
    "\n",
    "        # Ensure y is a column vector\n",
    "        if y.ndim == 1:\n",
    "            y = y.reshape(-1, 1)\n",
    "        # Combine X and y horizontally\n",
    "        print(X.shape)\n",
    "        print(y.shape)\n",
    "        data = np.vstack([X, y])\n",
    "        print(data.shape)\n",
    "        # Save combined data to a TSV file\n",
    "        np.savetxt(tsv_path, data, delimiter='\\t', fmt='%s')\n",
    "\n",
    "        proxUtil.getProx(tsv_path, tsv_path, num_trees=18, r=5)\n",
    "        prox,labels = proxUtil.getProxArrays()\n",
    "\n",
    "        if os.path.exists(tsv_path):\n",
    "            os.remove(tsv_path)\n",
    "\n",
    "\n",
    "        return prox\n",
    "\n"
   ]
  },
  {
   "cell_type": "code",
   "execution_count": null,
   "id": "75bbc1a9",
   "metadata": {},
   "outputs": [],
   "source": [
    "# Read the data from the TSV file\n",
    "test_data_path = '/yunity/arusty/PF-GAP/PFGAP/PFGAP/Data/GunPoint_TEST.tsv'\n",
    "test_data = np.loadtxt(test_data_path, delimiter='\\t')\n",
    "\n",
    "# Display the shape of the loaded data\n",
    "print(\"Shape of the test data:\", test_data.shape)"
   ]
  },
  {
   "cell_type": "code",
   "execution_count": null,
   "id": "04c36eef",
   "metadata": {},
   "outputs": [],
   "source": [
    "test_data[:, 0]"
   ]
  },
  {
   "cell_type": "code",
   "execution_count": null,
   "id": "38b7daef",
   "metadata": {},
   "outputs": [],
   "source": [
    "YTEST"
   ]
  },
  {
   "cell_type": "code",
   "execution_count": null,
   "id": "add807b9",
   "metadata": {},
   "outputs": [],
   "source": [
    "\n",
    "# Run the Java process with reshaped XTRAIN\n",
    "run_Java(None, XTRAIN, YTRAIN, static=XSTATIC, train_file=\"~/data/train\")"
   ]
  }
 ],
 "metadata": {
  "kernelspec": {
   "display_name": ".venv",
   "language": "python",
   "name": "python3"
  },
  "language_info": {
   "codemirror_mode": {
    "name": "ipython",
    "version": 3
   },
   "file_extension": ".py",
   "mimetype": "text/x-python",
   "name": "python",
   "nbconvert_exporter": "python",
   "pygments_lexer": "ipython3",
   "version": "3.10.12"
  }
 },
 "nbformat": 4,
 "nbformat_minor": 5
}
