{
 "cells": [
  {
   "cell_type": "markdown",
   "metadata": {},
   "source": [
    "# Testing each method works for the Pipeline "
   ]
  },
  {
   "cell_type": "code",
   "execution_count": 2,
   "metadata": {},
   "outputs": [],
   "source": [
    "from functions import *\n",
    "import numpy as np\n",
    "\n",
    "#Data\n",
    "from aeon.datasets import load_gunpoint\n",
    "from aeon.datasets import load_basic_motions\n",
    "\n",
    "#Adjust the path\n",
    "import sys\n",
    "sys.path.insert(0, '/yunity/arusty/PF-GAP')"
   ]
  },
  {
   "cell_type": "code",
   "execution_count": 3,
   "metadata": {},
   "outputs": [],
   "source": [
    "# Load Data\n",
    "XTRAIN, YTRAIN = load_gunpoint(split=\"TRAIN\")\n",
    "XTEST, YTEST = load_gunpoint(split=\"TEST\")\n",
    "\n",
    "# XTRAIN, YTRAIN = load_basic_motions(split=\"TRAIN\")\n",
    "# XTEST, YTEST = load_basic_motions(split=\"TEST\")\n",
    "\n",
    "#Generate random static variables to test algorithm\n",
    "XSTATIC = np.random.rand(XTRAIN.shape[0], 45)\n",
    "XSTATIC_TEST = np.random.rand(XTEST.shape[0], 45)\n"
   ]
  },
  {
   "cell_type": "code",
   "execution_count": 12,
   "metadata": {},
   "outputs": [
    {
     "data": {
      "text/plain": [
       "(50, 1, 150)"
      ]
     },
     "execution_count": 12,
     "metadata": {},
     "output_type": "execute_result"
    }
   ],
   "source": [
    "XTRAIN.shape"
   ]
  },
  {
   "cell_type": "markdown",
   "metadata": {},
   "source": [
    "# QUANT"
   ]
  },
  {
   "cell_type": "markdown",
   "metadata": {},
   "source": [
    "## Static Quant (decrepacated)"
   ]
  },
  {
   "cell_type": "code",
   "execution_count": 3,
   "metadata": {},
   "outputs": [],
   "source": [
    "from QGAP.Quant_Static import StaticQuantClassifier as SQC\n",
    "sqc = SQC()"
   ]
  },
  {
   "cell_type": "code",
   "execution_count": 4,
   "metadata": {},
   "outputs": [
    {
     "data": {
      "text/plain": [
       "array([[6, 5, 6, ..., 2, 5, 5],\n",
       "       [3, 5, 6, ..., 8, 5, 8],\n",
       "       [5, 2, 5, ..., 5, 3, 3],\n",
       "       ...,\n",
       "       [3, 3, 6, ..., 2, 5, 5],\n",
       "       [5, 2, 3, ..., 5, 3, 3],\n",
       "       [6, 5, 7, ..., 2, 1, 8]])"
      ]
     },
     "execution_count": 4,
     "metadata": {},
     "output_type": "execute_result"
    }
   ],
   "source": [
    "data_to_proximities(sqc, XTRAIN, YTRAIN, XTEST, XSTATIC,XSTATIC_TEST)"
   ]
  },
  {
   "cell_type": "markdown",
   "metadata": {},
   "source": [
    "## RF-GAP QUANT"
   ]
  },
  {
   "cell_type": "code",
   "execution_count": 5,
   "metadata": {},
   "outputs": [],
   "source": [
    "from QGAP.qgap import QGAP\n",
    "qgap = QGAP(matrix_type=\"dense\")"
   ]
  },
  {
   "cell_type": "code",
   "execution_count": 6,
   "metadata": {},
   "outputs": [
    {
     "data": {
      "text/plain": [
       "array([[0.        , 0.04522466, 0.        , ..., 0.03183484, 0.        ,\n",
       "        0.03754225],\n",
       "       [0.04955102, 0.        , 0.        , ..., 0.05302969, 0.        ,\n",
       "        0.03246651],\n",
       "       [0.        , 0.        , 0.        , ..., 0.        , 0.06238728,\n",
       "        0.        ],\n",
       "       ...,\n",
       "       [0.04299305, 0.05658372, 0.        , ..., 0.        , 0.        ,\n",
       "        0.02090186],\n",
       "       [0.        , 0.        , 0.07705411, ..., 0.        , 0.        ,\n",
       "        0.        ],\n",
       "       [0.03339484, 0.03390755, 0.        , ..., 0.02380139, 0.        ,\n",
       "        0.        ]])"
      ]
     },
     "execution_count": 6,
     "metadata": {},
     "output_type": "execute_result"
    }
   ],
   "source": [
    "data_to_proximities(qgap, XTRAIN, YTRAIN, XTEST, XSTATIC,XSTATIC_TEST)"
   ]
  },
  {
   "cell_type": "markdown",
   "metadata": {},
   "source": [
    "# REDCOMMET"
   ]
  },
  {
   "cell_type": "code",
   "execution_count": 7,
   "metadata": {},
   "outputs": [
    {
     "data": {
      "text/plain": [
       "array([[0.        , 0.03207379, 0.01831591, ..., 0.0342522 , 0.01064918,\n",
       "        0.01122511],\n",
       "       [0.03220306, 0.        , 0.01844516, ..., 0.0536128 , 0.02334289,\n",
       "        0.01678643],\n",
       "       [0.02390911, 0.01925418, 0.        , ..., 0.02993214, 0.03203162,\n",
       "        0.00958939],\n",
       "       ...,\n",
       "       [0.02738665, 0.04561709, 0.03814092, ..., 0.        , 0.02052237,\n",
       "        0.00797935],\n",
       "       [0.01459555, 0.02041741, 0.02671513, ..., 0.02828859, 0.        ,\n",
       "        0.00643794],\n",
       "       [0.01637853, 0.01457329, 0.01619505, ..., 0.01063539, 0.00601984,\n",
       "        0.        ]])"
      ]
     },
     "execution_count": 7,
     "metadata": {},
     "output_type": "execute_result"
    }
   ],
   "source": [
    "from Redcomets.Redcomets import REDCOMETS\n",
    "redcomets = REDCOMETS(variant = 3, static = XSTATIC)\n",
    "data_to_proximities(redcomets, XTRAIN, YTRAIN, XTEST, None , None)"
   ]
  },
  {
   "cell_type": "markdown",
   "metadata": {},
   "source": [
    "# RF-GAP Rocket"
   ]
  },
  {
   "cell_type": "code",
   "execution_count": 8,
   "metadata": {},
   "outputs": [
    {
     "data": {
      "text/plain": [
       "array([[0.        , 0.05739166, 0.        , ..., 0.04784293, 0.015625  ,\n",
       "        0.03977806],\n",
       "       [0.04117928, 0.        , 0.00237374, ..., 0.02857564, 0.0121599 ,\n",
       "        0.02422949],\n",
       "       [0.01775778, 0.01226156, 0.        , ..., 0.0131712 , 0.04022902,\n",
       "        0.01551812],\n",
       "       ...,\n",
       "       [0.04301686, 0.0269958 , 0.01111938, ..., 0.        , 0.02876984,\n",
       "        0.03062926],\n",
       "       [0.01370069, 0.00426274, 0.02751035, ..., 0.01162035, 0.        ,\n",
       "        0.01100002],\n",
       "       [0.03559571, 0.03878792, 0.        , ..., 0.03858105, 0.        ,\n",
       "        0.        ]])"
      ]
     },
     "execution_count": 8,
     "metadata": {},
     "output_type": "execute_result"
    }
   ],
   "source": [
    "from RFGAP_Rocket.RFGAP_Rocket import RFGAP_Rocket\n",
    "\n",
    "rf_rocket = RFGAP_Rocket(prediction_type = \"classification\", rocket = \"Multi\",\n",
    "                         n_kernels=512) # Rocket Kwargs\n",
    "data_to_proximities(rf_rocket, XTRAIN, YTRAIN, XTEST, XSTATIC , XSTATIC_TEST)"
   ]
  },
  {
   "cell_type": "markdown",
   "metadata": {},
   "source": [
    "# RDST "
   ]
  },
  {
   "cell_type": "code",
   "execution_count": 9,
   "metadata": {},
   "outputs": [
    {
     "data": {
      "text/plain": [
       "array([[0.        , 0.05196341, 0.        , ..., 0.03931727, 0.        ,\n",
       "        0.02718149],\n",
       "       [0.03645054, 0.        , 0.        , ..., 0.03870932, 0.        ,\n",
       "        0.02274232],\n",
       "       [0.        , 0.        , 0.        , ..., 0.        , 0.04840185,\n",
       "        0.        ],\n",
       "       ...,\n",
       "       [0.06200807, 0.03775314, 0.        , ..., 0.        , 0.        ,\n",
       "        0.02966812],\n",
       "       [0.        , 0.        , 0.06093975, ..., 0.        , 0.        ,\n",
       "        0.        ],\n",
       "       [0.0367239 , 0.03193232, 0.        , ..., 0.0410838 , 0.        ,\n",
       "        0.        ]])"
      ]
     },
     "execution_count": 9,
     "metadata": {},
     "output_type": "execute_result"
    }
   ],
   "source": [
    "from RDST.rdst import RDST_GAP\n",
    "\n",
    "rdst = RDST_GAP(save_transformed_data = True)\n",
    "prox = data_to_proximities(rdst, XTRAIN, YTRAIN, None, XSTATIC , None)\n",
    "prox"
   ]
  },
  {
   "cell_type": "markdown",
   "metadata": {},
   "source": [
    "# PF GAP"
   ]
  },
  {
   "cell_type": "code",
   "execution_count": 14,
   "metadata": {},
   "outputs": [
    {
     "name": "stdout",
     "output_type": "stream",
     "text": [
      "reading file [train]:finished in 0:0:0.021\n",
      "reading file [test]:finished in 0:0:0.009\n",
      "Running on configurations...\n",
      "Dataset: train, Training Data : 50x150 , Testing Data: 50x150, Train #Classes: 2, Test #Classes: 2\n",
      "Repeats: 1 , Trees: 18 , Candidates per Split(r): 5\n",
      "Output Dir: output, Export: 1, Verbosity: 1\n",
      "Select DM per node: true , Shuffle Data: false, JVM WarmUp: false\n",
      "----------------------------------------------------------------------------------------------------\n",
      "\n",
      "-----------------Repetition No: 1 (train)   -----------------\n",
      "Using: 4 MB, Free: 20 MB, Allocated Pool: 24 MB, Max Available: 1024 MB\n",
      "core.ProximityForestResult@4f3f5b24\n",
      "0.1.2.3.4.5.6.7.8.9.10.11.12.13.14.15.16.17.\n",
      "Using: 43 MB, Free: 41 MB, Allocated Pool: 84 MB, Max Available: 1024 MB\n",
      "*\n",
      "Computing Forest Proximities...\n",
      "Done Computing Forest Proximities. Computation time: 16.0ms\n",
      "Training Time: 2077.516929ms (0:0:2.077)\n",
      "Prediction Time: 386.037957ms (0:0:0.386)\n",
      "Correct(TP+TN): 50 vs Incorrect(FP+FN): 0\n",
      "Accuracy: 1.0\n",
      "Error Rate: 0.0\n",
      "REPEAT:1 ,train, 1.0, 2077.516929, 386.037957, 3.9444444444444446\n",
      "Subprocess finished successfully.\n"
     ]
    },
    {
     "data": {
      "text/plain": [
       "array([[0.        , 0.        , 0.3       , ..., 0.        , 0.05      ,\n",
       "        0.        ],\n",
       "       [0.1244203 , 0.        , 0.        , ..., 0.01606335, 0.        ,\n",
       "        0.        ],\n",
       "       [0.04738562, 0.        , 0.        , ..., 0.00980392, 0.12698413,\n",
       "        0.        ],\n",
       "       ...,\n",
       "       [0.0764652 , 0.00595238, 0.1375    , ..., 0.        , 0.03125   ,\n",
       "        0.        ],\n",
       "       [0.        , 0.        , 0.28472222, ..., 0.        , 0.        ,\n",
       "        0.        ],\n",
       "       [0.        , 0.        , 0.        , ..., 0.        , 0.        ,\n",
       "        0.        ]])"
      ]
     },
     "execution_count": 14,
     "metadata": {},
     "output_type": "execute_result"
    }
   ],
   "source": [
    "sys.path.insert(0, '/yunity/arusty/PF-GAP/PFGAP')\n",
    "from PFGAP.PyPFGAP import PyPFGAP\n",
    "pf = PyPFGAP()\n",
    "data_to_proximities(pf, XTRAIN, YTRAIN, None, XSTATIC , None)"
   ]
  },
  {
   "cell_type": "markdown",
   "metadata": {},
   "source": []
  },
  {
   "cell_type": "markdown",
   "metadata": {},
   "source": [
    "# Fresh Prince"
   ]
  },
  {
   "cell_type": "code",
   "execution_count": 4,
   "metadata": {},
   "outputs": [
    {
     "data": {
      "text/plain": [
       "array([[0.        , 0.03508487, 0.        , ..., 0.03271543, 0.        ,\n",
       "        0.04025505],\n",
       "       [0.03791568, 0.        , 0.        , ..., 0.04208253, 0.        ,\n",
       "        0.0338675 ],\n",
       "       [0.        , 0.        , 0.        , ..., 0.        , 0.0693021 ,\n",
       "        0.        ],\n",
       "       ...,\n",
       "       [0.03857972, 0.04319684, 0.        , ..., 0.        , 0.        ,\n",
       "        0.02920624],\n",
       "       [0.        , 0.        , 0.04794557, ..., 0.        , 0.        ,\n",
       "        0.        ],\n",
       "       [0.04910631, 0.03447911, 0.        , ..., 0.02395265, 0.        ,\n",
       "        0.        ]])"
      ]
     },
     "execution_count": 4,
     "metadata": {},
     "output_type": "execute_result"
    }
   ],
   "source": [
    "from FreshPrince.FreshPrince import FreshPRINCE_GAP\n",
    "\n",
    "fp = FreshPRINCE_GAP()\n",
    "prox = data_to_proximities(fp, XTRAIN, YTRAIN, None, XSTATIC , None)\n",
    "prox"
   ]
  },
  {
   "cell_type": "markdown",
   "metadata": {},
   "source": [
    "# Distance Measures\n",
    "- These don't use static variables"
   ]
  },
  {
   "cell_type": "code",
   "execution_count": 4,
   "metadata": {},
   "outputs": [
    {
     "name": "stderr",
     "output_type": "stream",
     "text": [
      "/yunity/arusty/PF-GAP/.venv/lib/python3.12/site-packages/tslearn/bases/bases.py:15: UserWarning: h5py not installed, hdf5 features will not be supported.\n",
      "Install h5py to use hdf5 features: http://docs.h5py.org/\n",
      "  warn(h5py_msg)\n"
     ]
    },
    {
     "data": {
      "text/plain": [
       "array([[ 0.        ,  4.62126067,  4.84338668, ...,  5.19192617,\n",
       "         8.12897137, 12.07692907],\n",
       "       [ 4.62126067,  0.        ,  2.49058685, ...,  2.77968935,\n",
       "         4.19359482, 12.15547782],\n",
       "       [ 4.84338668,  2.49058685,  0.        , ...,  2.85456547,\n",
       "         4.11050844, 11.19458226],\n",
       "       ...,\n",
       "       [ 5.19192617,  2.77968935,  2.85456547, ...,  0.        ,\n",
       "         4.84733788, 12.29014883],\n",
       "       [ 8.12897137,  4.19359482,  4.11050844, ...,  4.84733788,\n",
       "         0.        , 11.75686358],\n",
       "       [12.07692907, 12.15547782, 11.19458226, ..., 12.29014883,\n",
       "        11.75686358,  0.        ]])"
      ]
     },
     "execution_count": 4,
     "metadata": {},
     "output_type": "execute_result"
    }
   ],
   "source": [
    "from independent_distance.distance_helpers import compute_distance_matrix\n",
    "compute_distance_matrix(XTRAIN, metric=\"dtw\")"
   ]
  }
 ],
 "metadata": {
  "kernelspec": {
   "display_name": ".venv",
   "language": "python",
   "name": "python3"
  },
  "language_info": {
   "codemirror_mode": {
    "name": "ipython",
    "version": 3
   },
   "file_extension": ".py",
   "mimetype": "text/x-python",
   "name": "python",
   "nbconvert_exporter": "python",
   "pygments_lexer": "ipython3",
   "version": "3.12.3"
  }
 },
 "nbformat": 4,
 "nbformat_minor": 2
}
