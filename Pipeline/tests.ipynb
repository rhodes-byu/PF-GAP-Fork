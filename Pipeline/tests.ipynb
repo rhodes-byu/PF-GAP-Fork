{
 "cells": [
  {
   "cell_type": "markdown",
   "metadata": {},
   "source": [
    "# Testing each method works for the Pipeline "
   ]
  },
  {
   "cell_type": "code",
   "execution_count": 1,
   "metadata": {},
   "outputs": [],
   "source": [
    "from functions import *\n",
    "import numpy as np\n",
    "\n",
    "#Data\n",
    "from aeon.datasets import load_gunpoint\n",
    "from aeon.datasets import load_basic_motions\n",
    "\n",
    "#Adjust the path\n",
    "import sys\n",
    "sys.path.insert(0, '/yunity/arusty/PF-GAP')"
   ]
  },
  {
   "cell_type": "code",
   "execution_count": 2,
   "metadata": {},
   "outputs": [],
   "source": [
    "# Load Data\n",
    "XTRAIN, YTRAIN = load_gunpoint(split=\"TRAIN\")\n",
    "XTEST, YTEST = load_gunpoint(split=\"TEST\")\n",
    "\n",
    "# XTRAIN, YTRAIN = load_basic_motions(split=\"TRAIN\")\n",
    "# XTEST, YTEST = load_basic_motions(split=\"TEST\")\n",
    "\n",
    "#Generate random static variables to test algorithm\n",
    "XSTATIC = np.random.rand(XTRAIN.shape[0], 45)\n",
    "XSTATIC_TEST = np.random.rand(XTEST.shape[0], 45)\n"
   ]
  },
  {
   "cell_type": "markdown",
   "metadata": {},
   "source": [
    "# QUANT"
   ]
  },
  {
   "cell_type": "markdown",
   "metadata": {},
   "source": [
    "## Static Quant (decrepacated)"
   ]
  },
  {
   "cell_type": "code",
   "execution_count": 3,
   "metadata": {},
   "outputs": [],
   "source": [
    "from QGAP.Quant_Static import StaticQuantClassifier as SQC\n",
    "sqc = SQC()"
   ]
  },
  {
   "cell_type": "code",
   "execution_count": 4,
   "metadata": {},
   "outputs": [
    {
     "data": {
      "text/plain": [
       "array([[4, 8, 4, ..., 3, 6, 3],\n",
       "       [5, 8, 4, ..., 3, 6, 5],\n",
       "       [3, 1, 5, ..., 7, 5, 4],\n",
       "       ...,\n",
       "       [4, 8, 4, ..., 3, 6, 5],\n",
       "       [3, 7, 5, ..., 7, 5, 4],\n",
       "       [5, 8, 6, ..., 8, 1, 5]])"
      ]
     },
     "execution_count": 4,
     "metadata": {},
     "output_type": "execute_result"
    }
   ],
   "source": [
    "data_to_proximities(sqc, XTRAIN, YTRAIN, XTEST, XSTATIC,XSTATIC_TEST)"
   ]
  },
  {
   "cell_type": "markdown",
   "metadata": {},
   "source": [
    "## RF-GAP QUANT"
   ]
  },
  {
   "cell_type": "code",
   "execution_count": 5,
   "metadata": {},
   "outputs": [],
   "source": [
    "from QGAP.qgap import QGAP\n",
    "qgap = QGAP(matrix_type=\"dense\")"
   ]
  },
  {
   "cell_type": "code",
   "execution_count": 6,
   "metadata": {},
   "outputs": [
    {
     "data": {
      "text/plain": [
       "array([[0.        , 0.0517479 , 0.        , ..., 0.05082013, 0.        ,\n",
       "        0.03936602],\n",
       "       [0.04589195, 0.        , 0.        , ..., 0.04900794, 0.        ,\n",
       "        0.02598128],\n",
       "       [0.        , 0.        , 0.        , ..., 0.        , 0.07308209,\n",
       "        0.        ],\n",
       "       ...,\n",
       "       [0.062229  , 0.03721815, 0.        , ..., 0.        , 0.        ,\n",
       "        0.02587943],\n",
       "       [0.        , 0.        , 0.06508031, ..., 0.        , 0.        ,\n",
       "        0.        ],\n",
       "       [0.02883648, 0.01952177, 0.        , ..., 0.02891156, 0.        ,\n",
       "        0.        ]])"
      ]
     },
     "execution_count": 6,
     "metadata": {},
     "output_type": "execute_result"
    }
   ],
   "source": [
    "data_to_proximities(qgap, XTRAIN, YTRAIN, XTEST, XSTATIC,XSTATIC_TEST)"
   ]
  },
  {
   "cell_type": "markdown",
   "metadata": {},
   "source": [
    "# REDCOMMET"
   ]
  },
  {
   "cell_type": "code",
   "execution_count": 7,
   "metadata": {},
   "outputs": [
    {
     "data": {
      "text/plain": [
       "array([[1.        , 0.41999676, 0.16720026, ..., 0.36272197, 0.17566105,\n",
       "        0.20799903],\n",
       "       [0.41999676, 1.        , 0.18459819, ..., 0.44038399, 0.18247408,\n",
       "        0.22767174],\n",
       "       [0.16720026, 0.18459819, 1.        , ..., 0.2192709 , 0.34816267,\n",
       "        0.09255671],\n",
       "       ...,\n",
       "       [0.36272197, 0.44038399, 0.2192709 , ..., 1.        , 0.16395496,\n",
       "        0.19092839],\n",
       "       [0.17566105, 0.18247408, 0.34816267, ..., 0.16395496, 1.        ,\n",
       "        0.09854342],\n",
       "       [0.20799903, 0.22767174, 0.09255671, ..., 0.19092839, 0.09854342,\n",
       "        1.        ]])"
      ]
     },
     "execution_count": 7,
     "metadata": {},
     "output_type": "execute_result"
    }
   ],
   "source": [
    "from Redcomets.Redcomets import REDCOMETS\n",
    "redcomets = REDCOMETS(variant = 3, static = XSTATIC)\n",
    "data_to_proximities(redcomets, XTRAIN, YTRAIN, XTEST, None , None)"
   ]
  },
  {
   "cell_type": "markdown",
   "metadata": {},
   "source": [
    "# RF-GAP Rocket"
   ]
  },
  {
   "cell_type": "code",
   "execution_count": 9,
   "metadata": {},
   "outputs": [
    {
     "data": {
      "text/plain": [
       "matrix([[0.        , 0.02910557, 0.        , ..., 0.04036683, 0.        ,\n",
       "         0.03197077],\n",
       "        [0.03026345, 0.        , 0.00241546, ..., 0.03103207, 0.00198413,\n",
       "         0.03738857],\n",
       "        [0.00453216, 0.00405556, 0.        , ..., 0.00659649, 0.04573167,\n",
       "         0.00811111],\n",
       "        ...,\n",
       "        [0.03016046, 0.02554285, 0.00565574, ..., 0.        , 0.03115741,\n",
       "         0.03569199],\n",
       "        [0.0046527 , 0.00460584, 0.04918084, ..., 0.00325413, 0.        ,\n",
       "         0.00860778],\n",
       "        [0.03062193, 0.03644385, 0.        , ..., 0.03932799, 0.00086806,\n",
       "         0.        ]])"
      ]
     },
     "execution_count": 9,
     "metadata": {},
     "output_type": "execute_result"
    }
   ],
   "source": [
    "from RFGAP_Rocket.RFGAP_Rocket import RFGAP_Rocket\n",
    "\n",
    "rf_rocket = RFGAP_Rocket(prediction_type = \"classification\", rocket = \"Multi\",\n",
    "                         n_kernels=512) # Rocket Kwargs\n",
    "data_to_proximities(rf_rocket, XTRAIN, YTRAIN, XTEST, XSTATIC , XSTATIC_TEST)"
   ]
  },
  {
   "cell_type": "code",
   "execution_count": null,
   "metadata": {},
   "outputs": [],
   "source": []
  },
  {
   "cell_type": "markdown",
   "metadata": {},
   "source": [
    "# RDST "
   ]
  },
  {
   "cell_type": "code",
   "execution_count": null,
   "metadata": {},
   "outputs": [],
   "source": [
    "from RDST.rdst import RDST_GAP\n",
    "\n",
    "rdst = RDST_GAP(save_transformed_data = True)\n",
    "prox = data_to_proximities(rdst, XTRAIN, YTRAIN, None, XSTATIC , None)\n",
    "prox"
   ]
  }
 ],
 "metadata": {
  "kernelspec": {
   "display_name": ".venv",
   "language": "python",
   "name": "python3"
  },
  "language_info": {
   "codemirror_mode": {
    "name": "ipython",
    "version": 3
   },
   "file_extension": ".py",
   "mimetype": "text/x-python",
   "name": "python",
   "nbconvert_exporter": "python",
   "pygments_lexer": "ipython3",
   "version": "3.10.12"
  }
 },
 "nbformat": 4,
 "nbformat_minor": 2
}
