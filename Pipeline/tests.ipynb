{
 "cells": [
  {
   "cell_type": "markdown",
   "metadata": {},
   "source": [
    "# Testing each method works for the Pipeline "
   ]
  },
  {
   "cell_type": "code",
   "execution_count": 1,
   "metadata": {},
   "outputs": [],
   "source": [
    "from functions import *\n",
    "import numpy as np\n",
    "\n",
    "#Data\n",
    "from aeon.datasets import load_gunpoint\n",
    "from aeon.datasets import load_basic_motions\n",
    "\n",
    "#Adjust the path\n",
    "import sys\n",
    "sys.path.insert(0, '/yunity/arusty/PF-GAP')"
   ]
  },
  {
   "cell_type": "code",
   "execution_count": 2,
   "metadata": {},
   "outputs": [],
   "source": [
    "# Load Data\n",
    "XTRAIN, YTRAIN = load_gunpoint(split=\"TRAIN\")\n",
    "XTEST, YTEST = load_gunpoint(split=\"TEST\")\n",
    "\n",
    "# XTRAIN, YTRAIN = load_basic_motions(split=\"TRAIN\")\n",
    "# XTEST, YTEST = load_basic_motions(split=\"TEST\")\n",
    "\n",
    "#Generate random static variables to test algorithm\n",
    "XSTATIC = np.random.rand(XTRAIN.shape[0], 45)\n",
    "XSTATIC_TEST = np.random.rand(XTEST.shape[0], 45)\n"
   ]
  },
  {
   "cell_type": "markdown",
   "metadata": {},
   "source": [
    "# QUANT"
   ]
  },
  {
   "cell_type": "markdown",
   "metadata": {},
   "source": [
    "## Static Quant (decrepacated)"
   ]
  },
  {
   "cell_type": "code",
   "execution_count": 3,
   "metadata": {},
   "outputs": [],
   "source": [
    "from QGAP.Quant_Static import StaticQuantClassifier as SQC\n",
    "sqc = SQC()"
   ]
  },
  {
   "cell_type": "code",
   "execution_count": 4,
   "metadata": {},
   "outputs": [
    {
     "data": {
      "text/plain": [
       "array([[11,  2,  2, ...,  5,  6,  5],\n",
       "       [11,  2,  2, ...,  5,  4,  5],\n",
       "       [ 2,  4,  5, ...,  2,  5,  3],\n",
       "       ...,\n",
       "       [11,  5,  2, ...,  5,  6,  5],\n",
       "       [ 2,  4,  5, ...,  2,  5,  3],\n",
       "       [11,  2,  2, ...,  5,  1,  5]])"
      ]
     },
     "execution_count": 4,
     "metadata": {},
     "output_type": "execute_result"
    }
   ],
   "source": [
    "data_to_proximities(sqc, XTRAIN, YTRAIN, XTEST, XSTATIC,XSTATIC_TEST)"
   ]
  },
  {
   "cell_type": "markdown",
   "metadata": {},
   "source": [
    "## RF-GAP QUANT"
   ]
  },
  {
   "cell_type": "code",
   "execution_count": 5,
   "metadata": {},
   "outputs": [],
   "source": [
    "from QGAP.qgap import QGAP\n",
    "qgap = QGAP(matrix_type=\"dense\")"
   ]
  },
  {
   "cell_type": "code",
   "execution_count": 6,
   "metadata": {},
   "outputs": [
    {
     "data": {
      "text/plain": [
       "array([[0.        , 0.03552742, 0.        , ..., 0.04465181, 0.        ,\n",
       "        0.03456962],\n",
       "       [0.03343184, 0.        , 0.        , ..., 0.05301502, 0.        ,\n",
       "        0.02680318],\n",
       "       [0.        , 0.        , 0.        , ..., 0.        , 0.06021138,\n",
       "        0.        ],\n",
       "       ...,\n",
       "       [0.04678223, 0.04819252, 0.        , ..., 0.        , 0.        ,\n",
       "        0.02515337],\n",
       "       [0.        , 0.        , 0.08776773, ..., 0.        , 0.        ,\n",
       "        0.        ],\n",
       "       [0.02772664, 0.02853524, 0.        , ..., 0.02119901, 0.        ,\n",
       "        0.        ]])"
      ]
     },
     "execution_count": 6,
     "metadata": {},
     "output_type": "execute_result"
    }
   ],
   "source": [
    "data_to_proximities(qgap, XTRAIN, YTRAIN, XTEST, XSTATIC,XSTATIC_TEST)"
   ]
  },
  {
   "cell_type": "markdown",
   "metadata": {},
   "source": [
    "# REDCOMMET"
   ]
  },
  {
   "cell_type": "code",
   "execution_count": 7,
   "metadata": {},
   "outputs": [
    {
     "data": {
      "text/plain": [
       "array([[1.        , 0.32712015, 0.1316834 , ..., 0.29409137, 0.12875   ,\n",
       "        0.18998829],\n",
       "       [0.32712015, 1.        , 0.12107095, ..., 0.40786647, 0.14758534,\n",
       "        0.23338186],\n",
       "       [0.1316834 , 0.12107095, 1.        , ..., 0.19747323, 0.3438504 ,\n",
       "        0.12389224],\n",
       "       ...,\n",
       "       [0.29409137, 0.40786647, 0.19747323, ..., 1.        , 0.13106091,\n",
       "        0.18790161],\n",
       "       [0.12875   , 0.14758534, 0.3438504 , ..., 0.13106091, 1.        ,\n",
       "        0.07781124],\n",
       "       [0.18998829, 0.23338186, 0.12389224, ..., 0.18790161, 0.07781124,\n",
       "        1.        ]])"
      ]
     },
     "execution_count": 7,
     "metadata": {},
     "output_type": "execute_result"
    }
   ],
   "source": [
    "from Redcomets.Redcomets import REDCOMETS\n",
    "redcomets = REDCOMETS(variant = 3, static = XSTATIC)\n",
    "data_to_proximities(redcomets, XTRAIN, YTRAIN, XTEST, None , None)"
   ]
  }
 ],
 "metadata": {
  "kernelspec": {
   "display_name": ".venv",
   "language": "python",
   "name": "python3"
  },
  "language_info": {
   "codemirror_mode": {
    "name": "ipython",
    "version": 3
   },
   "file_extension": ".py",
   "mimetype": "text/x-python",
   "name": "python",
   "nbconvert_exporter": "python",
   "pygments_lexer": "ipython3",
   "version": "3.10.12"
  }
 },
 "nbformat": 4,
 "nbformat_minor": 2
}
