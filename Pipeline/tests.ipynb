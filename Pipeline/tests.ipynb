{
 "cells": [
  {
   "cell_type": "markdown",
   "metadata": {},
   "source": [
    "# Testing each method works for the Pipeline "
   ]
  },
  {
   "cell_type": "code",
   "execution_count": 1,
   "metadata": {},
   "outputs": [],
   "source": [
    "from functions import *\n",
    "import numpy as np\n",
    "\n",
    "#Data\n",
    "from aeon.datasets import load_gunpoint\n",
    "from aeon.datasets import load_basic_motions\n",
    "\n",
    "#Adjust the path\n",
    "import sys\n",
    "sys.path.insert(0, '/yunity/arusty/PF-GAP')"
   ]
  },
  {
   "cell_type": "code",
   "execution_count": 2,
   "metadata": {},
   "outputs": [],
   "source": [
    "# Load Data\n",
    "XTRAIN, YTRAIN = load_gunpoint(split=\"TRAIN\")\n",
    "XTEST, YTEST = load_gunpoint(split=\"TEST\")\n",
    "\n",
    "# XTRAIN, YTRAIN = load_basic_motions(split=\"TRAIN\")\n",
    "# XTEST, YTEST = load_basic_motions(split=\"TEST\")\n",
    "\n",
    "#Generate random static variables to test algorithm\n",
    "XSTATIC = np.random.rand(XTRAIN.shape[0], 45)\n",
    "XSTATIC_TEST = np.random.rand(XTEST.shape[0], 45)\n"
   ]
  },
  {
   "cell_type": "markdown",
   "metadata": {},
   "source": [
    "# QUANT"
   ]
  },
  {
   "cell_type": "code",
   "execution_count": 3,
   "metadata": {},
   "outputs": [],
   "source": [
    "from QGAP.Quant_Static import StaticQuantClassifier as SQC\n",
    "sqc = SQC()"
   ]
  },
  {
   "cell_type": "code",
   "execution_count": 4,
   "metadata": {},
   "outputs": [
    {
     "data": {
      "text/plain": [
       "array([[3, 4, 8, ..., 1, 8, 2],\n",
       "       [3, 7, 8, ..., 6, 8, 8],\n",
       "       [6, 3, 3, ..., 4, 5, 5],\n",
       "       ...,\n",
       "       [3, 4, 8, ..., 5, 8, 4],\n",
       "       [6, 8, 3, ..., 4, 5, 5],\n",
       "       [8, 5, 8, ..., 1, 1, 2]])"
      ]
     },
     "execution_count": 4,
     "metadata": {},
     "output_type": "execute_result"
    }
   ],
   "source": [
    "data_to_proximities(sqc, XTRAIN, YTRAIN, XTEST, XSTATIC,XSTATIC_TEST)"
   ]
  },
  {
   "cell_type": "markdown",
   "metadata": {},
   "source": [
    "# RF-GAP QUANT"
   ]
  },
  {
   "cell_type": "code",
   "execution_count": 5,
   "metadata": {},
   "outputs": [],
   "source": [
    "from QGAP.qgap import QGAP\n",
    "qgap = QGAP(matrix_type=\"dense\")"
   ]
  },
  {
   "cell_type": "code",
   "execution_count": 6,
   "metadata": {},
   "outputs": [
    {
     "data": {
      "text/plain": [
       "array([[0.        , 0.04144167, 0.        , ..., 0.05689936, 0.        ,\n",
       "        0.0269853 ],\n",
       "       [0.03935934, 0.        , 0.        , ..., 0.05088562, 0.        ,\n",
       "        0.02516734],\n",
       "       [0.        , 0.        , 0.        , ..., 0.        , 0.07127952,\n",
       "        0.        ],\n",
       "       ...,\n",
       "       [0.04242138, 0.04347364, 0.        , ..., 0.        , 0.        ,\n",
       "        0.0203085 ],\n",
       "       [0.        , 0.        , 0.07233415, ..., 0.        , 0.        ,\n",
       "        0.        ],\n",
       "       [0.02416164, 0.02743681, 0.        , ..., 0.01670961, 0.        ,\n",
       "        0.        ]])"
      ]
     },
     "execution_count": 6,
     "metadata": {},
     "output_type": "execute_result"
    }
   ],
   "source": [
    "data_to_proximities(qgap, XTRAIN, YTRAIN, XTEST, XSTATIC,XSTATIC_TEST)"
   ]
  },
  {
   "cell_type": "code",
   "execution_count": null,
   "metadata": {},
   "outputs": [],
   "source": []
  },
  {
   "cell_type": "markdown",
   "metadata": {},
   "source": [
    "# REDCOMMET"
   ]
  },
  {
   "cell_type": "code",
   "execution_count": null,
   "metadata": {},
   "outputs": [
    {
     "data": {
      "text/plain": [
       "array([[1.        , 0.35707686, 0.1036889 , ..., 0.3051215 , 0.0561345 ,\n",
       "        0.1186126 ],\n",
       "       [0.35707686, 1.        , 0.08797259, ..., 0.46493925, 0.11494066,\n",
       "        0.16531647],\n",
       "       [0.1036889 , 0.08797259, 1.        , ..., 0.16241311, 0.34744843,\n",
       "        0.05153009],\n",
       "       ...,\n",
       "       [0.3051215 , 0.46493925, 0.16241311, ..., 1.        , 0.11593247,\n",
       "        0.08670811],\n",
       "       [0.0561345 , 0.11494066, 0.34744843, ..., 0.11593247, 1.        ,\n",
       "        0.04772676],\n",
       "       [0.1186126 , 0.16531647, 0.05153009, ..., 0.08670811, 0.04772676,\n",
       "        1.        ]])"
      ]
     },
     "execution_count": 11,
     "metadata": {},
     "output_type": "execute_result"
    }
   ],
   "source": [
    "from Redcomets.Redcomets import REDCOMETS\n",
    "redcomets = REDCOMETS(variant = 3, static = XSTATIC)\n",
    "data_to_proximities(redcomets, XTRAIN, YTRAIN, XTEST, None , None)"
   ]
  }
 ],
 "metadata": {
  "kernelspec": {
   "display_name": ".venv",
   "language": "python",
   "name": "python3"
  },
  "language_info": {
   "codemirror_mode": {
    "name": "ipython",
    "version": 3
   },
   "file_extension": ".py",
   "mimetype": "text/x-python",
   "name": "python",
   "nbconvert_exporter": "python",
   "pygments_lexer": "ipython3",
   "version": "3.10.12"
  }
 },
 "nbformat": 4,
 "nbformat_minor": 2
}
