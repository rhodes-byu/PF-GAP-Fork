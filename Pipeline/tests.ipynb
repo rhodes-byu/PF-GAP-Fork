{
 "cells": [
  {
   "cell_type": "markdown",
   "metadata": {},
   "source": [
    "# Testing each method works for the Pipeline "
   ]
  },
  {
   "cell_type": "code",
   "execution_count": 1,
   "metadata": {},
   "outputs": [],
   "source": [
    "from functions import *\n",
    "import numpy as np\n",
    "\n",
    "#Data\n",
    "from aeon.datasets import load_gunpoint\n",
    "from aeon.datasets import load_basic_motions\n",
    "\n",
    "#Adjust the path\n",
    "import sys\n",
    "sys.path.insert(0, '/yunity/arusty/PF-GAP')"
   ]
  },
  {
   "cell_type": "code",
   "execution_count": 2,
   "metadata": {},
   "outputs": [],
   "source": [
    "# Load Data\n",
    "XTRAIN, YTRAIN = load_gunpoint(split=\"TRAIN\")\n",
    "XTEST, YTEST = load_gunpoint(split=\"TEST\")\n",
    "\n",
    "# XTRAIN, YTRAIN = load_basic_motions(split=\"TRAIN\")\n",
    "# XTEST, YTEST = load_basic_motions(split=\"TEST\")\n",
    "\n",
    "#Generate random static variables to test algorithm\n",
    "XSTATIC = np.random.rand(XTRAIN.shape[0], 45)\n",
    "XSTATIC_TEST = np.random.rand(XTEST.shape[0], 45)\n"
   ]
  },
  {
   "cell_type": "markdown",
   "metadata": {},
   "source": [
    "# QUANT"
   ]
  },
  {
   "cell_type": "code",
   "execution_count": 3,
   "metadata": {},
   "outputs": [],
   "source": [
    "from QGAP.Quant_Static import StaticQuantClassifier as SQC\n",
    "sqc = SQC()"
   ]
  },
  {
   "cell_type": "code",
   "execution_count": 4,
   "metadata": {},
   "outputs": [
    {
     "data": {
      "text/plain": [
       "array([[ 9,  8, 10, ...,  6,  4,  2],\n",
       "       [ 9,  8, 10, ...,  6,  4,  2],\n",
       "       [ 6,  5,  1, ...,  4,  5,  8],\n",
       "       ...,\n",
       "       [ 9,  8, 10, ...,  6,  4,  7],\n",
       "       [ 6,  5,  1, ...,  8,  5,  6],\n",
       "       [11,  8, 10, ...,  9,  6,  4]])"
      ]
     },
     "execution_count": 4,
     "metadata": {},
     "output_type": "execute_result"
    }
   ],
   "source": [
    "data_to_proximities(sqc, XTRAIN, YTRAIN, XTEST, XSTATIC,XSTATIC_TEST)"
   ]
  },
  {
   "cell_type": "markdown",
   "metadata": {},
   "source": [
    "# RF-GAP QUANT"
   ]
  },
  {
   "cell_type": "code",
   "execution_count": 5,
   "metadata": {},
   "outputs": [],
   "source": [
    "from QGAP.qgap import QGAP\n",
    "qgap = QGAP(matrix_type=\"dense\")"
   ]
  },
  {
   "cell_type": "code",
   "execution_count": 6,
   "metadata": {},
   "outputs": [
    {
     "data": {
      "text/plain": [
       "array([[0.        , 0.04703672, 0.        , ..., 0.04620979, 0.        ,\n",
       "        0.03049933],\n",
       "       [0.04056226, 0.        , 0.        , ..., 0.06072211, 0.        ,\n",
       "        0.02458607],\n",
       "       [0.        , 0.        , 0.        , ..., 0.        , 0.10201168,\n",
       "        0.        ],\n",
       "       ...,\n",
       "       [0.0566615 , 0.04622642, 0.        , ..., 0.        , 0.        ,\n",
       "        0.02188681],\n",
       "       [0.        , 0.        , 0.08932881, ..., 0.        , 0.        ,\n",
       "        0.        ],\n",
       "       [0.02735012, 0.01579963, 0.        , ..., 0.01645771, 0.        ,\n",
       "        0.        ]])"
      ]
     },
     "execution_count": 6,
     "metadata": {},
     "output_type": "execute_result"
    }
   ],
   "source": [
    "data_to_proximities(qgap, XTRAIN, YTRAIN, XTEST, XSTATIC,XSTATIC_TEST)"
   ]
  },
  {
   "cell_type": "code",
   "execution_count": null,
   "metadata": {},
   "outputs": [],
   "source": []
  },
  {
   "cell_type": "markdown",
   "metadata": {},
   "source": [
    "# REDCOMMET"
   ]
  },
  {
   "cell_type": "code",
   "execution_count": 7,
   "metadata": {},
   "outputs": [
    {
     "data": {
      "text/plain": [
       "array([[1.        , 0.41118901, 0.14750829, ..., 0.29097426, 0.12425707,\n",
       "        0.22564188],\n",
       "       [0.41118901, 1.        , 0.16298121, ..., 0.44697616, 0.1466493 ,\n",
       "        0.23772146],\n",
       "       [0.14750829, 0.16298121, 1.        , ..., 0.17380704, 0.40472446,\n",
       "        0.06385283],\n",
       "       ...,\n",
       "       [0.29097426, 0.44697616, 0.17380704, ..., 1.        , 0.1480199 ,\n",
       "        0.21672035],\n",
       "       [0.12425707, 0.1466493 , 0.40472446, ..., 0.1480199 , 1.        ,\n",
       "        0.09002526],\n",
       "       [0.22564188, 0.23772146, 0.06385283, ..., 0.21672035, 0.09002526,\n",
       "        1.        ]])"
      ]
     },
     "execution_count": 7,
     "metadata": {},
     "output_type": "execute_result"
    }
   ],
   "source": [
    "from Redcomets.Redcomets import REDCOMETS\n",
    "redcomets = REDCOMETS(variant = 3, static = XSTATIC)\n",
    "data_to_proximities(redcomets, XTRAIN, YTRAIN, XTEST, None , None)"
   ]
  }
 ],
 "metadata": {
  "kernelspec": {
   "display_name": ".venv",
   "language": "python",
   "name": "python3"
  },
  "language_info": {
   "codemirror_mode": {
    "name": "ipython",
    "version": 3
   },
   "file_extension": ".py",
   "mimetype": "text/x-python",
   "name": "python",
   "nbconvert_exporter": "python",
   "pygments_lexer": "ipython3",
   "version": "3.10.12"
  }
 },
 "nbformat": 4,
 "nbformat_minor": 2
}
