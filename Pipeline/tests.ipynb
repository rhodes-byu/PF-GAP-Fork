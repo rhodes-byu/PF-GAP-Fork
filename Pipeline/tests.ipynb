{
 "cells": [
  {
   "cell_type": "markdown",
   "metadata": {},
   "source": [
    "# Testing each method works for the Pipeline "
   ]
  },
  {
   "cell_type": "code",
   "execution_count": 1,
   "metadata": {},
   "outputs": [],
   "source": [
    "from functions import *\n",
    "import numpy as np\n",
    "\n",
    "#Data\n",
    "from aeon.datasets import load_gunpoint\n",
    "from aeon.datasets import load_basic_motions\n",
    "\n",
    "#Adjust the path\n",
    "import sys\n",
    "sys.path.insert(0, '/yunity/arusty/PF-GAP')"
   ]
  },
  {
   "cell_type": "code",
   "execution_count": 2,
   "metadata": {},
   "outputs": [],
   "source": [
    "# Load Data\n",
    "#XTRAIN, YTRAIN = load_gunpoint(split=\"TRAIN\")\n",
    "#XTEST, YTEST = load_gunpoint(split=\"TEST\")\n",
    "\n",
    "XTRAIN, YTRAIN = load_basic_motions(split=\"TRAIN\")\n",
    "XTEST, YTEST = load_basic_motions(split=\"TEST\")\n",
    "\n",
    "#Generate random static variables to test algorithm\n",
    "XSTATIC = np.random.rand(XTRAIN.shape[0], 45)\n",
    "XSTATIC_TEST = np.random.rand(XTEST.shape[0], 45)\n"
   ]
  },
  {
   "cell_type": "markdown",
   "metadata": {},
   "source": [
    "# QUANT"
   ]
  },
  {
   "cell_type": "code",
   "execution_count": 3,
   "metadata": {},
   "outputs": [],
   "source": [
    "from QGAP.Quant_Static import StaticQuantClassifier as SQC\n",
    "sqc = SQC()"
   ]
  },
  {
   "cell_type": "code",
   "execution_count": 4,
   "metadata": {},
   "outputs": [
    {
     "data": {
      "text/plain": [
       "array([[2, 3, 2, ..., 5, 2, 6],\n",
       "       [2, 3, 2, ..., 5, 2, 6],\n",
       "       [2, 3, 2, ..., 5, 2, 6],\n",
       "       ...,\n",
       "       [6, 6, 6, ..., 3, 6, 2],\n",
       "       [6, 6, 6, ..., 3, 6, 2],\n",
       "       [6, 6, 6, ..., 3, 6, 2]])"
      ]
     },
     "execution_count": 4,
     "metadata": {},
     "output_type": "execute_result"
    }
   ],
   "source": [
    "data_to_proximities(sqc, XTRAIN, YTRAIN, XTEST, XSTATIC,XSTATIC_TEST)"
   ]
  },
  {
   "cell_type": "markdown",
   "metadata": {},
   "source": [
    "# RF-GAP QUANT"
   ]
  },
  {
   "cell_type": "code",
   "execution_count": 5,
   "metadata": {},
   "outputs": [],
   "source": [
    "from QGAP.qgap import QGAP\n",
    "qgap = QGAP(matrix_type=\"dense\")"
   ]
  },
  {
   "cell_type": "code",
   "execution_count": 6,
   "metadata": {},
   "outputs": [
    {
     "data": {
      "text/plain": [
       "array([[0.        , 0.09414114, 0.11353504, ..., 0.        , 0.        ,\n",
       "        0.        ],\n",
       "       [0.114801  , 0.        , 0.10548694, ..., 0.        , 0.        ,\n",
       "        0.        ],\n",
       "       [0.1271609 , 0.10694199, 0.        , ..., 0.        , 0.        ,\n",
       "        0.        ],\n",
       "       ...,\n",
       "       [0.        , 0.        , 0.        , ..., 0.        , 0.12419726,\n",
       "        0.11499384],\n",
       "       [0.        , 0.        , 0.        , ..., 0.11799926, 0.        ,\n",
       "        0.11113097],\n",
       "       [0.        , 0.        , 0.        , ..., 0.11675458, 0.1206053 ,\n",
       "        0.        ]])"
      ]
     },
     "execution_count": 6,
     "metadata": {},
     "output_type": "execute_result"
    }
   ],
   "source": [
    "data_to_proximities(qgap, XTRAIN, YTRAIN, XTEST, XSTATIC,XSTATIC_TEST)"
   ]
  },
  {
   "cell_type": "code",
   "execution_count": null,
   "metadata": {},
   "outputs": [],
   "source": []
  }
 ],
 "metadata": {
  "kernelspec": {
   "display_name": ".venv",
   "language": "python",
   "name": "python3"
  },
  "language_info": {
   "codemirror_mode": {
    "name": "ipython",
    "version": 3
   },
   "file_extension": ".py",
   "mimetype": "text/x-python",
   "name": "python",
   "nbconvert_exporter": "python",
   "pygments_lexer": "ipython3",
   "version": "3.10.12"
  }
 },
 "nbformat": 4,
 "nbformat_minor": 2
}
