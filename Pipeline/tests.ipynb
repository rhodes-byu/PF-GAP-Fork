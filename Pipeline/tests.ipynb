{
 "cells": [
  {
   "cell_type": "markdown",
   "metadata": {},
   "source": [
    "# Testing each method works for the Pipeline "
   ]
  },
  {
   "cell_type": "code",
   "execution_count": 1,
   "metadata": {},
   "outputs": [],
   "source": [
    "from functions import *\n",
    "import numpy as np\n",
    "\n",
    "#Data\n",
    "from aeon.datasets import load_gunpoint\n",
    "from aeon.datasets import load_basic_motions\n",
    "\n",
    "#Adjust the path\n",
    "import sys\n",
    "sys.path.insert(0, '/yunity/arusty/PF-GAP')"
   ]
  },
  {
   "cell_type": "code",
   "execution_count": 2,
   "metadata": {},
   "outputs": [],
   "source": [
    "# Load Data\n",
    "XTRAIN, YTRAIN = load_gunpoint(split=\"TRAIN\")\n",
    "XTEST, YTEST = load_gunpoint(split=\"TEST\")\n",
    "\n",
    "# XTRAIN, YTRAIN = load_basic_motions(split=\"TRAIN\")\n",
    "# XTEST, YTEST = load_basic_motions(split=\"TEST\")\n",
    "\n",
    "#Generate random static variables to test algorithm\n",
    "XSTATIC = np.random.rand(XTRAIN.shape[0], 45)\n",
    "XSTATIC_TEST = np.random.rand(XTEST.shape[0], 45)\n"
   ]
  },
  {
   "cell_type": "markdown",
   "metadata": {},
   "source": [
    "# QUANT"
   ]
  },
  {
   "cell_type": "markdown",
   "metadata": {},
   "source": [
    "## Static Quant (decrepacated)"
   ]
  },
  {
   "cell_type": "code",
   "execution_count": 3,
   "metadata": {},
   "outputs": [],
   "source": [
    "from QGAP.Quant_Static import StaticQuantClassifier as SQC\n",
    "sqc = SQC()"
   ]
  },
  {
   "cell_type": "code",
   "execution_count": 4,
   "metadata": {},
   "outputs": [
    {
     "data": {
      "text/plain": [
       "array([[ 7,  1,  5, ...,  2,  6,  5],\n",
       "       [ 7,  3,  5, ...,  2,  6,  5],\n",
       "       [ 1,  4,  2, ...,  5, 12,  2],\n",
       "       ...,\n",
       "       [ 7,  3,  5, ...,  2,  6,  5],\n",
       "       [ 1,  4,  2, ...,  5, 12,  6],\n",
       "       [ 7,  1,  5, ...,  4,  6,  5]])"
      ]
     },
     "execution_count": 4,
     "metadata": {},
     "output_type": "execute_result"
    }
   ],
   "source": [
    "data_to_proximities(sqc, XTRAIN, YTRAIN, XTEST, XSTATIC,XSTATIC_TEST)"
   ]
  },
  {
   "cell_type": "markdown",
   "metadata": {},
   "source": [
    "## RF-GAP QUANT"
   ]
  },
  {
   "cell_type": "code",
   "execution_count": 5,
   "metadata": {},
   "outputs": [],
   "source": [
    "from QGAP.qgap import QGAP\n",
    "qgap = QGAP(matrix_type=\"dense\")"
   ]
  },
  {
   "cell_type": "code",
   "execution_count": 6,
   "metadata": {},
   "outputs": [
    {
     "data": {
      "text/plain": [
       "array([[0.        , 0.04537539, 0.        , ..., 0.07058843, 0.        ,\n",
       "        0.02944132],\n",
       "       [0.04935792, 0.        , 0.        , ..., 0.03274878, 0.        ,\n",
       "        0.0248325 ],\n",
       "       [0.        , 0.        , 0.        , ..., 0.        , 0.09025484,\n",
       "        0.        ],\n",
       "       ...,\n",
       "       [0.05344599, 0.05312502, 0.        , ..., 0.        , 0.        ,\n",
       "        0.02492485],\n",
       "       [0.        , 0.        , 0.07639586, ..., 0.        , 0.        ,\n",
       "        0.        ],\n",
       "       [0.03511017, 0.03177884, 0.        , ..., 0.02503912, 0.        ,\n",
       "        0.        ]])"
      ]
     },
     "execution_count": 6,
     "metadata": {},
     "output_type": "execute_result"
    }
   ],
   "source": [
    "data_to_proximities(qgap, XTRAIN, YTRAIN, XTEST, XSTATIC,XSTATIC_TEST)"
   ]
  },
  {
   "cell_type": "markdown",
   "metadata": {},
   "source": [
    "# REDCOMMET"
   ]
  },
  {
   "cell_type": "code",
   "execution_count": null,
   "metadata": {},
   "outputs": [],
   "source": [
    "from Redcomets.Redcomets import REDCOMETS\n",
    "redcomets = REDCOMETS(variant = 3, static = XSTATIC)\n",
    "data_to_proximities(redcomets, XTRAIN, YTRAIN, XTEST, None , None)"
   ]
  },
  {
   "cell_type": "markdown",
   "metadata": {},
   "source": [
    "# RF-GAP Rocket"
   ]
  },
  {
   "cell_type": "code",
   "execution_count": null,
   "metadata": {},
   "outputs": [
    {
     "data": {
      "text/plain": [
       "matrix([[0.        , 0.02910557, 0.        , ..., 0.04036683, 0.        ,\n",
       "         0.03197077],\n",
       "        [0.03026345, 0.        , 0.00241546, ..., 0.03103207, 0.00198413,\n",
       "         0.03738857],\n",
       "        [0.00453216, 0.00405556, 0.        , ..., 0.00659649, 0.04573167,\n",
       "         0.00811111],\n",
       "        ...,\n",
       "        [0.03016046, 0.02554285, 0.00565574, ..., 0.        , 0.03115741,\n",
       "         0.03569199],\n",
       "        [0.0046527 , 0.00460584, 0.04918084, ..., 0.00325413, 0.        ,\n",
       "         0.00860778],\n",
       "        [0.03062193, 0.03644385, 0.        , ..., 0.03932799, 0.00086806,\n",
       "         0.        ]])"
      ]
     },
     "execution_count": 9,
     "metadata": {},
     "output_type": "execute_result"
    }
   ],
   "source": [
    "from RFGAP_Rocket.RFGAP_Rocket import RFGAP_Rocket\n",
    "\n",
    "rf_rocket = RFGAP_Rocket(prediction_type = \"classification\", rocket = \"Multi\",\n",
    "                         n_kernels=512) # Rocket Kwargs\n",
    "data_to_proximities(rf_rocket, XTRAIN, YTRAIN, XTEST, XSTATIC , XSTATIC_TEST)"
   ]
  },
  {
   "cell_type": "markdown",
   "metadata": {},
   "source": [
    "# RDST "
   ]
  },
  {
   "cell_type": "code",
   "execution_count": null,
   "metadata": {},
   "outputs": [],
   "source": [
    "from RDST.rdst import RDST_GAP\n",
    "\n",
    "rdst = RDST_GAP(save_transformed_data = True)\n",
    "prox = data_to_proximities(rdst, XTRAIN, YTRAIN, None, XSTATIC , None)\n",
    "prox"
   ]
  },
  {
   "cell_type": "code",
   "execution_count": null,
   "metadata": {},
   "outputs": [],
   "source": []
  }
 ],
 "metadata": {
  "kernelspec": {
   "display_name": ".venv",
   "language": "python",
   "name": "python3"
  },
  "language_info": {
   "codemirror_mode": {
    "name": "ipython",
    "version": 3
   },
   "file_extension": ".py",
   "mimetype": "text/x-python",
   "name": "python",
   "nbconvert_exporter": "python",
   "pygments_lexer": "ipython3",
   "version": "3.10.12"
  }
 },
 "nbformat": 4,
 "nbformat_minor": 2
}
