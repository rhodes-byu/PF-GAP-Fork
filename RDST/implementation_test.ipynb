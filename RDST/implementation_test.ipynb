{
 "cells": [
  {
   "cell_type": "markdown",
   "metadata": {},
   "source": [
    "# RDST\n",
    "- Random Dilated Shapelet Transform \n",
    "- Basic Implementation tests"
   ]
  },
  {
   "cell_type": "code",
   "execution_count": 1,
   "metadata": {},
   "outputs": [],
   "source": [
    "from aeon.classification.shapelet_based import RDSTClassifier\n",
    "import numpy as np\n",
    "from rfgap import RFGAP\n",
    "\n",
    "#Data\n",
    "from aeon.datasets import load_gunpoint\n",
    "from aeon.datasets import load_basic_motions\n",
    "\n",
    "#Adjust the path\n",
    "import sys\n",
    "sys.path.insert(0, '/yunity/arusty/PF-GAP')"
   ]
  },
  {
   "cell_type": "code",
   "execution_count": 2,
   "metadata": {},
   "outputs": [],
   "source": [
    "# Load Data\n",
    "XTRAIN, YTRAIN = load_gunpoint(split=\"TRAIN\")\n",
    "XTEST, YTEST = load_gunpoint(split=\"TEST\")\n",
    "\n",
    "# XTRAIN, YTRAIN = load_basic_motions(split=\"TRAIN\")\n",
    "# XTEST, YTEST = load_basic_motions(split=\"TEST\")\n",
    "\n",
    "#Generate random static variables to test algorithm\n",
    "XSTATIC = np.random.rand(XTRAIN.shape[0], 45)\n",
    "XSTATIC_TEST = np.random.rand(XTEST.shape[0], 45)\n"
   ]
  },
  {
   "cell_type": "code",
   "execution_count": 3,
   "metadata": {},
   "outputs": [
    {
     "data": {
      "text/plain": [
       "array(['1', '2', '2', '1', '1', '2', '1', '2', '2', '1', '1', '1', '2',\n",
       "       '1', '1', '1', '1', '2', '2', '2', '1', '2', '1', '1', '1', '2',\n",
       "       '1', '1', '2', '1', '1', '2', '2', '1', '1', '1', '1', '1', '1',\n",
       "       '2', '1', '2', '1', '1', '2', '1', '2', '2', '1', '2', '2', '2',\n",
       "       '1', '2', '1', '1', '2', '2', '1', '2', '1', '2', '1', '1', '2',\n",
       "       '1', '1', '2', '2', '2', '2', '2', '2', '2', '2', '2', '2', '2',\n",
       "       '2', '1', '1', '1', '2', '2', '2', '2', '1', '2', '1', '1', '1',\n",
       "       '2', '1', '2', '1', '1', '2', '2', '1', '1', '2', '1', '1', '2',\n",
       "       '2', '1', '1', '2', '1', '2', '2', '2', '1', '2', '1', '1', '2',\n",
       "       '1', '1', '2', '1', '2', '2', '2', '1', '2', '1', '1', '2', '2',\n",
       "       '2', '2', '1', '1', '1', '2', '1', '2', '1', '1', '2', '1', '1',\n",
       "       '2', '1', '2', '1', '2', '2', '1'], dtype='<U1')"
      ]
     },
     "execution_count": 3,
     "metadata": {},
     "output_type": "execute_result"
    }
   ],
   "source": [
    "clf = RDSTClassifier()\n",
    "clf.fit(XTRAIN, YTRAIN)\n",
    "\n",
    "clf.predict(XTEST)"
   ]
  },
  {
   "cell_type": "markdown",
   "metadata": {},
   "source": [
    "# Using RF GAP"
   ]
  },
  {
   "cell_type": "code",
   "execution_count": 4,
   "metadata": {},
   "outputs": [
    {
     "data": {
      "text/plain": [
       "array(['1', '2', '2', '1', '1', '2', '1', '2', '2', '1', '1', '1', '2',\n",
       "       '1', '1', '1', '1', '2', '2', '2', '1', '2', '2', '1', '1', '2',\n",
       "       '1', '1', '2', '1', '1', '2', '2', '1', '1', '1', '1', '1', '1',\n",
       "       '2', '1', '2', '1', '1', '2', '1', '2', '2', '1', '2', '2', '2',\n",
       "       '1', '2', '1', '1', '2', '2', '1', '2', '1', '2', '1', '1', '2',\n",
       "       '1', '1', '2', '2', '2', '2', '2', '2', '2', '2', '2', '2', '2',\n",
       "       '2', '1', '1', '1', '2', '2', '2', '2', '1', '2', '1', '1', '1',\n",
       "       '2', '1', '2', '1', '1', '2', '2', '1', '1', '2', '1', '1', '2',\n",
       "       '2', '1', '1', '2', '1', '2', '2', '2', '1', '2', '1', '1', '2',\n",
       "       '1', '1', '2', '1', '2', '2', '2', '1', '2', '1', '1', '2', '2',\n",
       "       '2', '2', '1', '1', '1', '2', '1', '2', '1', '1', '2', '1', '1',\n",
       "       '2', '1', '2', '1', '2', '2', '1'], dtype='<U1')"
      ]
     },
     "execution_count": 4,
     "metadata": {},
     "output_type": "execute_result"
    }
   ],
   "source": [
    "from rdst import RDST_GAP\n",
    "\n",
    "rdst = RDST_GAP(save_transformed_data = True)\n",
    "rdst.fit(XTRAIN, YTRAIN)\n",
    "\n",
    "rdst.predict(XTEST)"
   ]
  },
  {
   "cell_type": "code",
   "execution_count": 5,
   "metadata": {},
   "outputs": [
    {
     "data": {
      "text/plain": [
       "((50, 30000), (50, 1, 150))"
      ]
     },
     "execution_count": 5,
     "metadata": {},
     "output_type": "execute_result"
    }
   ],
   "source": [
    "rdst.transformed_data_.shape, XTRAIN.shape"
   ]
  },
  {
   "cell_type": "code",
   "execution_count": 6,
   "metadata": {},
   "outputs": [
    {
     "ename": "AttributeError",
     "evalue": "'RDST_GAP' object has no attribute 'oob_indices'",
     "output_type": "error",
     "traceback": [
      "\u001b[0;31m---------------------------------------------------------------------------\u001b[0m",
      "\u001b[0;31mAttributeError\u001b[0m                            Traceback (most recent call last)",
      "Cell \u001b[0;32mIn[6], line 1\u001b[0m\n\u001b[0;32m----> 1\u001b[0m \u001b[43mrdst\u001b[49m\u001b[38;5;241;43m.\u001b[39;49m\u001b[43mget_proximities\u001b[49m\u001b[43m(\u001b[49m\u001b[43m)\u001b[49m\n",
      "File \u001b[0;32m~/PF-GAP/helpers.py:103\u001b[0m, in \u001b[0;36mProximityMixin.get_proximities\u001b[0;34m(self)\u001b[0m\n\u001b[1;32m    100\u001b[0m check_is_fitted(\u001b[38;5;28mself\u001b[39m)\n\u001b[1;32m    101\u001b[0m n, _ \u001b[38;5;241m=\u001b[39m \u001b[38;5;28mself\u001b[39m\u001b[38;5;241m.\u001b[39mleaf_matrix\u001b[38;5;241m.\u001b[39mshape\n\u001b[0;32m--> 103\u001b[0m prox_vals, rows, cols \u001b[38;5;241m=\u001b[39m \u001b[38;5;28;43mself\u001b[39;49m\u001b[38;5;241;43m.\u001b[39;49m\u001b[43mget_proximity_vector\u001b[49m\u001b[43m(\u001b[49m\u001b[38;5;241;43m0\u001b[39;49m\u001b[43m)\u001b[49m\n\u001b[1;32m    104\u001b[0m \u001b[38;5;28;01mfor\u001b[39;00m i \u001b[38;5;129;01min\u001b[39;00m \u001b[38;5;28mrange\u001b[39m(\u001b[38;5;241m1\u001b[39m, n):\n\u001b[1;32m    105\u001b[0m     \u001b[38;5;28;01mif\u001b[39;00m \u001b[38;5;28mself\u001b[39m\u001b[38;5;241m.\u001b[39m_estimator\u001b[38;5;241m.\u001b[39mverbose \u001b[38;5;129;01mand\u001b[39;00m i \u001b[38;5;241m%\u001b[39m \u001b[38;5;241m100\u001b[39m \u001b[38;5;241m==\u001b[39m \u001b[38;5;241m0\u001b[39m:\n",
      "File \u001b[0;32m~/PF-GAP/helpers.py:63\u001b[0m, in \u001b[0;36mProximityMixin.get_proximity_vector\u001b[0;34m(self, ind)\u001b[0m\n\u001b[1;32m     60\u001b[0m         data \u001b[38;5;241m=\u001b[39m prox_vec[cols] \u001b[38;5;241m/\u001b[39m num_trees\n\u001b[1;32m     62\u001b[0m \u001b[38;5;28;01melif\u001b[39;00m \u001b[38;5;28mself\u001b[39m\u001b[38;5;241m.\u001b[39mprox_method \u001b[38;5;241m==\u001b[39m \u001b[38;5;124m'\u001b[39m\u001b[38;5;124mrfgap\u001b[39m\u001b[38;5;124m'\u001b[39m:\n\u001b[0;32m---> 63\u001b[0m     oob_trees \u001b[38;5;241m=\u001b[39m np\u001b[38;5;241m.\u001b[39mnonzero(\u001b[38;5;28;43mself\u001b[39;49m\u001b[38;5;241;43m.\u001b[39;49m\u001b[43moob_indices\u001b[49m[ind, :])[\u001b[38;5;241m0\u001b[39m]\n\u001b[1;32m     64\u001b[0m     in_bag_trees \u001b[38;5;241m=\u001b[39m np\u001b[38;5;241m.\u001b[39mnonzero(\u001b[38;5;28mself\u001b[39m\u001b[38;5;241m.\u001b[39min_bag_indices[ind, :])[\u001b[38;5;241m0\u001b[39m]\n\u001b[1;32m     65\u001b[0m     terminals \u001b[38;5;241m=\u001b[39m \u001b[38;5;28mself\u001b[39m\u001b[38;5;241m.\u001b[39mleaf_matrix[ind, :]\n",
      "\u001b[0;31mAttributeError\u001b[0m: 'RDST_GAP' object has no attribute 'oob_indices'"
     ]
    }
   ],
   "source": [
    "rdst.get_proximities()"
   ]
  },
  {
   "cell_type": "code",
   "execution_count": null,
   "metadata": {},
   "outputs": [],
   "source": []
  }
 ],
 "metadata": {
  "kernelspec": {
   "display_name": ".venv",
   "language": "python",
   "name": "python3"
  },
  "language_info": {
   "codemirror_mode": {
    "name": "ipython",
    "version": 3
   },
   "file_extension": ".py",
   "mimetype": "text/x-python",
   "name": "python",
   "nbconvert_exporter": "python",
   "pygments_lexer": "ipython3",
   "version": "3.10.12"
  }
 },
 "nbformat": 4,
 "nbformat_minor": 2
}
