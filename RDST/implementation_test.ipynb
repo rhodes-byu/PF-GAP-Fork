{
 "cells": [
  {
   "cell_type": "markdown",
   "metadata": {},
   "source": [
    "# RDST\n",
    "- Random Dilated Shapelet Transform \n",
    "- Basic Implementation tests"
   ]
  },
  {
   "cell_type": "code",
   "execution_count": null,
   "metadata": {},
   "outputs": [],
   "source": [
    "from aeon.classification.shapelet_based import RDSTClassifier\n",
    "import numpy as np\n",
    "\n",
    "#Data\n",
    "from aeon.datasets import load_gunpoint\n",
    "from aeon.datasets import load_basic_motions\n",
    "\n",
    "#Adjust the path\n",
    "import sys\n",
    "sys.path.insert(0, '/yunity/arusty/PF-GAP')"
   ]
  },
  {
   "cell_type": "code",
   "execution_count": 2,
   "metadata": {},
   "outputs": [],
   "source": [
    "# Load Data\n",
    "XTRAIN, YTRAIN = load_gunpoint(split=\"TRAIN\")\n",
    "XTEST, YTEST = load_gunpoint(split=\"TEST\")\n",
    "\n",
    "# XTRAIN, YTRAIN = load_basic_motions(split=\"TRAIN\")\n",
    "# XTEST, YTEST = load_basic_motions(split=\"TEST\")\n",
    "\n",
    "#Generate random static variables to test algorithm\n",
    "XSTATIC = np.random.rand(XTRAIN.shape[0], 45)\n",
    "XSTATIC_TEST = np.random.rand(XTEST.shape[0], 45)\n"
   ]
  },
  {
   "cell_type": "code",
   "execution_count": 3,
   "metadata": {},
   "outputs": [
    {
     "data": {
      "text/plain": [
       "array(['1', '2', '2', '1', '1', '2', '1', '2', '2', '1', '1', '1', '2',\n",
       "       '1', '1', '1', '1', '2', '2', '2', '1', '2', '1', '1', '1', '2',\n",
       "       '1', '1', '2', '1', '1', '2', '2', '1', '1', '1', '1', '1', '1',\n",
       "       '2', '1', '2', '1', '1', '2', '1', '2', '2', '1', '2', '2', '2',\n",
       "       '1', '2', '1', '1', '2', '2', '1', '2', '1', '2', '1', '1', '2',\n",
       "       '1', '1', '2', '2', '2', '2', '2', '2', '2', '2', '2', '2', '2',\n",
       "       '2', '1', '1', '1', '2', '2', '2', '2', '1', '2', '1', '1', '1',\n",
       "       '2', '1', '2', '1', '1', '2', '2', '1', '1', '2', '1', '1', '2',\n",
       "       '2', '1', '1', '2', '1', '2', '2', '2', '1', '2', '1', '1', '2',\n",
       "       '1', '1', '2', '1', '2', '2', '2', '1', '2', '1', '1', '2', '2',\n",
       "       '2', '2', '1', '1', '1', '2', '1', '2', '1', '1', '2', '1', '1',\n",
       "       '2', '1', '2', '1', '2', '2', '1'], dtype='<U1')"
      ]
     },
     "execution_count": 3,
     "metadata": {},
     "output_type": "execute_result"
    }
   ],
   "source": [
    "clf = RDSTClassifier()\n",
    "clf.fit(XTRAIN, YTRAIN)\n",
    "\n",
    "clf.predict(XTEST)"
   ]
  },
  {
   "cell_type": "markdown",
   "metadata": {},
   "source": [
    "# Using RF GAP"
   ]
  },
  {
   "cell_type": "code",
   "execution_count": 4,
   "metadata": {},
   "outputs": [
    {
     "data": {
      "text/plain": [
       "array(['1', '2', '2', '1', '1', '2', '1', '2', '2', '1', '1', '1', '2',\n",
       "       '1', '1', '1', '1', '2', '2', '2', '1', '2', '1', '1', '1', '2',\n",
       "       '1', '1', '2', '1', '1', '2', '2', '1', '1', '1', '1', '1', '1',\n",
       "       '2', '1', '2', '1', '1', '2', '1', '2', '2', '1', '2', '2', '2',\n",
       "       '1', '2', '1', '1', '2', '2', '1', '2', '1', '2', '1', '1', '2',\n",
       "       '1', '1', '2', '2', '2', '2', '2', '2', '2', '2', '2', '2', '2',\n",
       "       '2', '1', '1', '1', '2', '2', '2', '2', '1', '2', '1', '1', '1',\n",
       "       '2', '1', '2', '1', '1', '2', '2', '1', '1', '2', '1', '1', '2',\n",
       "       '2', '1', '1', '2', '1', '2', '2', '2', '1', '2', '1', '1', '2',\n",
       "       '1', '1', '2', '1', '2', '2', '2', '1', '2', '1', '1', '2', '2',\n",
       "       '2', '2', '1', '1', '1', '2', '1', '2', '1', '1', '2', '1', '1',\n",
       "       '2', '1', '2', '1', '2', '2', '1'], dtype='<U1')"
      ]
     },
     "execution_count": 4,
     "metadata": {},
     "output_type": "execute_result"
    }
   ],
   "source": [
    "from rdst import RDST_GAP\n",
    "\n",
    "rdst = RDST_GAP(save_transformed_data = True)\n",
    "rdst.fit(XTRAIN, YTRAIN)\n",
    "\n",
    "rdst.predict(XTEST)"
   ]
  },
  {
   "cell_type": "code",
   "execution_count": 5,
   "metadata": {},
   "outputs": [
    {
     "data": {
      "text/plain": [
       "((50, 30000), (50, 1, 150))"
      ]
     },
     "execution_count": 5,
     "metadata": {},
     "output_type": "execute_result"
    }
   ],
   "source": [
    "rdst.transformed_data_.shape, XTRAIN.shape"
   ]
  },
  {
   "cell_type": "code",
   "execution_count": 9,
   "metadata": {},
   "outputs": [
    {
     "data": {
      "text/plain": [
       "matrix([[0.        , 0.03319735, 0.        , ..., 0.03344651, 0.        ,\n",
       "         0.03467936],\n",
       "        [0.02846344, 0.        , 0.        , ..., 0.04194135, 0.        ,\n",
       "         0.03351927],\n",
       "        [0.        , 0.        , 0.        , ..., 0.        , 0.06412813,\n",
       "         0.        ],\n",
       "        ...,\n",
       "        [0.02470623, 0.0386574 , 0.        , ..., 0.        , 0.        ,\n",
       "         0.03734392],\n",
       "        [0.        , 0.        , 0.07583522, ..., 0.        , 0.        ,\n",
       "         0.        ],\n",
       "        [0.03009518, 0.03621081, 0.        , ..., 0.03935993, 0.        ,\n",
       "         0.        ]])"
      ]
     },
     "execution_count": 9,
     "metadata": {},
     "output_type": "execute_result"
    }
   ],
   "source": [
    "rdst.get_proximities().todense()"
   ]
  },
  {
   "cell_type": "markdown",
   "metadata": {},
   "source": [
    "# Static"
   ]
  },
  {
   "cell_type": "code",
   "execution_count": 10,
   "metadata": {},
   "outputs": [
    {
     "data": {
      "text/plain": [
       "matrix([[0.        , 0.03856496, 0.        , ..., 0.03471614, 0.        ,\n",
       "         0.02456611],\n",
       "        [0.02858868, 0.        , 0.        , ..., 0.04999943, 0.        ,\n",
       "         0.0381979 ],\n",
       "        [0.        , 0.        , 0.        , ..., 0.        , 0.0603496 ,\n",
       "         0.        ],\n",
       "        ...,\n",
       "        [0.02393537, 0.05969622, 0.        , ..., 0.        , 0.        ,\n",
       "         0.03345985],\n",
       "        [0.        , 0.        , 0.02876206, ..., 0.        , 0.        ,\n",
       "         0.        ],\n",
       "        [0.03040342, 0.03845148, 0.        , ..., 0.04443705, 0.        ,\n",
       "         0.        ]])"
      ]
     },
     "execution_count": 10,
     "metadata": {},
     "output_type": "execute_result"
    }
   ],
   "source": [
    "from rdst import RDST_GAP\n",
    "\n",
    "rdst = RDST_GAP(save_transformed_data = True)\n",
    "rdst.fit(XTRAIN, YTRAIN, static = XSTATIC)\n",
    "\n",
    "rdst.get_proximities().todense()"
   ]
  }
 ],
 "metadata": {
  "kernelspec": {
   "display_name": ".venv",
   "language": "python",
   "name": "python3"
  },
  "language_info": {
   "codemirror_mode": {
    "name": "ipython",
    "version": 3
   },
   "file_extension": ".py",
   "mimetype": "text/x-python",
   "name": "python",
   "nbconvert_exporter": "python",
   "pygments_lexer": "ipython3",
   "version": "3.10.12"
  }
 },
 "nbformat": 4,
 "nbformat_minor": 2
}
