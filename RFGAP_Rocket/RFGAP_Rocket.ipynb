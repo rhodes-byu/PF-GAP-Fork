{
 "cells": [
  {
   "cell_type": "markdown",
   "metadata": {},
   "source": [
    "# Import data and libraries"
   ]
  },
  {
   "cell_type": "code",
   "execution_count": 13,
   "metadata": {},
   "outputs": [],
   "source": [
    "from rfgap import RFGAP\n",
    "import numpy as np\n",
    "\n",
    "#Data\n",
    "from aeon.datasets import load_gunpoint\n",
    "from aeon.datasets import load_basic_motions\n",
    "\n",
    "#Adjust the path\n",
    "import sys\n",
    "sys.path.insert(0, '/yunity/arusty/PF-GAP')"
   ]
  },
  {
   "cell_type": "code",
   "execution_count": 14,
   "metadata": {},
   "outputs": [],
   "source": [
    "# Load Data\n",
    "# XTRAIN, YTRAIN = load_gunpoint(split=\"TRAIN\")\n",
    "# XTEST, YTEST = load_gunpoint(split=\"TEST\")\n",
    "\n",
    "XTRAIN, YTRAIN = load_basic_motions(split=\"TRAIN\")\n",
    "XTEST, YTEST = load_basic_motions(split=\"TEST\")\n",
    "\n",
    "#Generate random static variables to test algorithm\n",
    "XSTATIC = np.random.rand(XTRAIN.shape[0], 45)\n",
    "XSTATIC_TEST = np.random.rand(XTEST.shape[0], 45)\n"
   ]
  },
  {
   "cell_type": "markdown",
   "metadata": {},
   "source": [
    "# Basic Model Tests \n",
    "To ensure they are loaded correctly"
   ]
  },
  {
   "cell_type": "markdown",
   "metadata": {},
   "source": [
    "## Testing RF_GAP seperately"
   ]
  },
  {
   "cell_type": "code",
   "execution_count": 15,
   "metadata": {},
   "outputs": [
    {
     "name": "stdout",
     "output_type": "stream",
     "text": [
      "[[0.         0.20055556 0.23277778 0.26111111 0.30555556]\n",
      " [0.31954023 0.         0.37011494 0.1091954  0.20114943]\n",
      " [0.41236559 0.42634409 0.         0.04032258 0.12096774]\n",
      " [0.22587719 0.20438596 0.20131579 0.         0.36842105]\n",
      " [0.24305556 0.26666667 0.18472222 0.30555556 0.        ]]\n"
     ]
    }
   ],
   "source": [
    "prediction_type = 'classification'\n",
    "\n",
    "rf = RFGAP(prediction_type = prediction_type)\n",
    "rf.fit(np.random.rand(5, 5), np.random.randint(0, 2, size=(5,)))\n",
    "\n",
    "print(rf.get_proximities().todense())"
   ]
  },
  {
   "cell_type": "markdown",
   "metadata": {},
   "source": [
    "## Testing the Rockets\n",
    "Safety first, right?"
   ]
  },
  {
   "cell_type": "code",
   "execution_count": 16,
   "metadata": {},
   "outputs": [],
   "source": [
    "from aeon.transformations.collection.convolution_based import MultiRocket, MiniRocket\n",
    "from aeon.datasets import load_unit_test\n",
    "X_train, y_train = load_unit_test(split=\"train\")\n",
    "X_test, y_test = load_unit_test(split=\"test\")\n",
    "rocket = MultiRocket(n_kernels=512)\n",
    "rocket.fit(X_train)\n",
    "\n",
    "X_train = rocket.transform(X_train)\n",
    "X_test = rocket.transform(X_test)"
   ]
  },
  {
   "cell_type": "markdown",
   "metadata": {},
   "source": [
    "# RFGAP ROCKET"
   ]
  },
  {
   "cell_type": "code",
   "execution_count": 17,
   "metadata": {},
   "outputs": [
    {
     "name": "stdout",
     "output_type": "stream",
     "text": [
      "Proximities shape (40, 40)\n",
      "Data shape (40, 6, 100)\n",
      "Proximities: \n",
      "[[0.         0.084874   0.08193582 ... 0.         0.         0.        ]\n",
      " [0.09573513 0.         0.07273228 ... 0.00347222 0.         0.        ]\n",
      " [0.07846472 0.09588141 0.         ... 0.         0.         0.        ]\n",
      " ...\n",
      " [0.         0.         0.         ... 0.         0.10456237 0.09106297]\n",
      " [0.00816993 0.0130719  0.00294118 ... 0.07389718 0.         0.0631376 ]\n",
      " [0.         0.         0.         ... 0.12949905 0.09392358 0.        ]]\n"
     ]
    }
   ],
   "source": [
    "from RFGAP_Rocket import RFGAP_Rocket\n",
    "\n",
    "#NOT STATIC \n",
    "rf_rocket = RFGAP_Rocket(prediction_type = prediction_type, rocket = \"Multi\",\n",
    "                         n_kernels=512) # Rocket Kwargs\n",
    "rf_rocket.fit(XTRAIN, YTRAIN)\n",
    "prox = rf_rocket.get_proximities().todense()\n",
    "\n",
    "print(f\"Proximities shape {prox.shape}\")\n",
    "print(f\"Data shape {XTRAIN.shape}\")\n",
    "print(f\"Proximities: \\n{prox}\")"
   ]
  },
  {
   "cell_type": "code",
   "execution_count": 18,
   "metadata": {},
   "outputs": [
    {
     "name": "stdout",
     "output_type": "stream",
     "text": [
      "Proximities shape (40, 40)\n",
      "Data shape (40, 6, 100)\n",
      "Proximities: \n",
      "[[0.         0.084874   0.08193582 ... 0.         0.         0.        ]\n",
      " [0.09573513 0.         0.07273228 ... 0.00347222 0.         0.        ]\n",
      " [0.07846472 0.09588141 0.         ... 0.         0.         0.        ]\n",
      " ...\n",
      " [0.         0.         0.         ... 0.         0.10456237 0.09106297]\n",
      " [0.00816993 0.0130719  0.00294118 ... 0.07389718 0.         0.0631376 ]\n",
      " [0.         0.         0.         ... 0.12949905 0.09392358 0.        ]]\n"
     ]
    }
   ],
   "source": [
    "from RFGAP_Rocket import RFGAP_Rocket\n",
    "\n",
    "rf_rocket = RFGAP_Rocket(prediction_type = prediction_type, rocket = \"Multi\",\n",
    "                         n_kernels=512) # Rocket Kwargs\n",
    "rf_rocket.fit(XTRAIN, YTRAIN, XSTATIC)\n",
    "prox_static = rf_rocket.get_proximities().todense()\n",
    "\n",
    "print(f\"Proximities shape {prox.shape}\")\n",
    "print(f\"Data shape {XTRAIN.shape}\")\n",
    "print(f\"Proximities: \\n{prox}\")"
   ]
  },
  {
   "cell_type": "code",
   "execution_count": 19,
   "metadata": {},
   "outputs": [
    {
     "data": {
      "text/plain": [
       "matrix([[ True, False, False, ...,  True,  True,  True],\n",
       "        [False,  True, False, ..., False,  True, False],\n",
       "        [False, False,  True, ...,  True,  True,  True],\n",
       "        ...,\n",
       "        [ True,  True,  True, ...,  True, False, False],\n",
       "        [False, False, False, ..., False,  True, False],\n",
       "        [ True,  True,  True, ..., False, False,  True]])"
      ]
     },
     "execution_count": 19,
     "metadata": {},
     "output_type": "execute_result"
    }
   ],
   "source": [
    "prox_static == prox"
   ]
  }
 ],
 "metadata": {
  "kernelspec": {
   "display_name": ".venv",
   "language": "python",
   "name": "python3"
  },
  "language_info": {
   "codemirror_mode": {
    "name": "ipython",
    "version": 3
   },
   "file_extension": ".py",
   "mimetype": "text/x-python",
   "name": "python",
   "nbconvert_exporter": "python",
   "pygments_lexer": "ipython3",
   "version": "3.10.12"
  }
 },
 "nbformat": 4,
 "nbformat_minor": 2
}
