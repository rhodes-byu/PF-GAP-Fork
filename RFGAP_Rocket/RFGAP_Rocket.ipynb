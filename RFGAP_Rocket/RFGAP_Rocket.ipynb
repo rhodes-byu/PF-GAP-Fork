{
 "cells": [
  {
   "cell_type": "markdown",
   "metadata": {},
   "source": [
    "# Import data and libraries"
   ]
  },
  {
   "cell_type": "code",
   "execution_count": 1,
   "metadata": {},
   "outputs": [],
   "source": [
    "from rfgap import RFGAP\n",
    "import numpy as np\n",
    "\n",
    "#Data\n",
    "from aeon.datasets import load_gunpoint\n",
    "from aeon.datasets import load_basic_motions\n",
    "\n",
    "#Adjust the path\n",
    "import sys\n",
    "sys.path.insert(0, '/yunity/arusty/PF-GAP')"
   ]
  },
  {
   "cell_type": "code",
   "execution_count": 2,
   "metadata": {},
   "outputs": [],
   "source": [
    "# Load Data\n",
    "# XTRAIN, YTRAIN = load_gunpoint(split=\"TRAIN\")\n",
    "# XTEST, YTEST = load_gunpoint(split=\"TEST\")\n",
    "\n",
    "XTRAIN, YTRAIN = load_basic_motions(split=\"TRAIN\")\n",
    "XTEST, YTEST = load_basic_motions(split=\"TEST\")\n",
    "\n",
    "#Generate random static variables to test algorithm\n",
    "XSTATIC = np.random.rand(XTRAIN.shape[0], 45)\n",
    "XSTATIC_TEST = np.random.rand(XTEST.shape[0], 45)\n"
   ]
  },
  {
   "cell_type": "markdown",
   "metadata": {},
   "source": [
    "# Basic Model Tests \n",
    "To ensure they are loaded correctly"
   ]
  },
  {
   "cell_type": "markdown",
   "metadata": {},
   "source": [
    "## Testing RF_GAP seperately"
   ]
  },
  {
   "cell_type": "code",
   "execution_count": 8,
   "metadata": {},
   "outputs": [
    {
     "name": "stdout",
     "output_type": "stream",
     "text": [
      "[[0.         0.31565657 0.44191919 0.13131313 0.11111111]\n",
      " [0.18857143 0.         0.24       0.22142857 0.35      ]\n",
      " [0.20222222 0.19777778 0.         0.35277778 0.24722222]\n",
      " [0.18903509 0.175      0.26754386 0.         0.36842105]\n",
      " [0.2712963  0.15       0.18981481 0.38888889 0.        ]]\n"
     ]
    }
   ],
   "source": [
    "prediction_type = 'classification'\n",
    "\n",
    "rf = RFGAP(prediction_type = prediction_type)\n",
    "rf.fit(np.random.rand(5, 5), np.random.randint(0, 2, size=(5,)))\n",
    "\n",
    "print(rf.get_proximities().todense())"
   ]
  },
  {
   "cell_type": "markdown",
   "metadata": {},
   "source": [
    "## Testing the Rockets\n",
    "Safety first, right?"
   ]
  },
  {
   "cell_type": "code",
   "execution_count": 9,
   "metadata": {},
   "outputs": [],
   "source": [
    "from aeon.transformations.collection.convolution_based import MultiRocket, MiniRocket\n",
    "from aeon.datasets import load_unit_test\n",
    "X_train, y_train = load_unit_test(split=\"train\")\n",
    "X_test, y_test = load_unit_test(split=\"test\")\n",
    "rocket = MultiRocket(n_kernels=512)\n",
    "rocket.fit(X_train)\n",
    "\n",
    "X_train = rocket.transform(X_train)\n",
    "X_test = rocket.transform(X_test)"
   ]
  },
  {
   "cell_type": "markdown",
   "metadata": {},
   "source": [
    "# RFGAP ROCKET"
   ]
  },
  {
   "cell_type": "code",
   "execution_count": 10,
   "metadata": {},
   "outputs": [
    {
     "name": "stdout",
     "output_type": "stream",
     "text": [
      "Proximities shape (40, 40)\n",
      "Data shape (40, 6, 100)\n",
      "Proximities: \n",
      "[[0.         0.08099856 0.11292086 ... 0.         0.         0.        ]\n",
      " [0.08567909 0.         0.09673773 ... 0.         0.         0.        ]\n",
      " [0.09607549 0.07463794 0.         ... 0.         0.         0.        ]\n",
      " ...\n",
      " [0.0025974  0.00779221 0.00519481 ... 0.         0.08857349 0.09839208]\n",
      " [0.         0.         0.         ... 0.06691004 0.         0.06258966]\n",
      " [0.         0.         0.         ... 0.14338072 0.1078044  0.        ]]\n"
     ]
    }
   ],
   "source": [
    "from RFGAP_Rocket import RFGAP_Rocket\n",
    "\n",
    "#NOT STATIC \n",
    "rf_rocket = RFGAP_Rocket(prediction_type = prediction_type, rocket = \"Multi\",\n",
    "                         n_kernels=512) # Rocket Kwargs\n",
    "rf_rocket.fit(XTRAIN, YTRAIN)\n",
    "prox = rf_rocket.get_proximities().todense()\n",
    "\n",
    "print(f\"Proximities shape {prox.shape}\")\n",
    "print(f\"Data shape {XTRAIN.shape}\")\n",
    "print(f\"Proximities: \\n{prox}\")"
   ]
  },
  {
   "cell_type": "code",
   "execution_count": 6,
   "metadata": {},
   "outputs": [
    {
     "name": "stdout",
     "output_type": "stream",
     "text": [
      "Proximities shape (40, 40)\n",
      "Data shape (40, 6, 100)\n",
      "Proximities: \n",
      "[[0.         0.08372075 0.1101256  ... 0.         0.         0.        ]\n",
      " [0.10414743 0.         0.07812503 ... 0.0034965  0.00227273 0.00174825]\n",
      " [0.12003442 0.08393177 0.         ... 0.         0.         0.        ]\n",
      " ...\n",
      " [0.         0.         0.         ... 0.         0.11745567 0.09141797]\n",
      " [0.         0.         0.         ... 0.08982676 0.         0.13285532]\n",
      " [0.         0.         0.         ... 0.09388402 0.13054129 0.        ]]\n"
     ]
    }
   ],
   "source": [
    "from RFGAP_Rocket import RFGAP_Rocket\n",
    "\n",
    "rf_rocket = RFGAP_Rocket(prediction_type = prediction_type, rocket = \"Multi\",\n",
    "                         n_kernels=512) # Rocket Kwargs\n",
    "rf_rocket.fit(XTRAIN, YTRAIN, XSTATIC)\n",
    "prox_static = rf_rocket.get_proximities().todense()\n",
    "\n",
    "print(f\"Proximities shape {prox.shape}\")\n",
    "print(f\"Data shape {XTRAIN.shape}\")\n",
    "print(f\"Proximities: \\n{prox}\")"
   ]
  },
  {
   "cell_type": "code",
   "execution_count": 7,
   "metadata": {},
   "outputs": [
    {
     "data": {
      "text/plain": [
       "matrix([[ True, False, False, ...,  True,  True,  True],\n",
       "        [False,  True, False, ..., False, False, False],\n",
       "        [False, False,  True, ...,  True,  True,  True],\n",
       "        ...,\n",
       "        [ True,  True,  True, ...,  True, False, False],\n",
       "        [False, False, False, ..., False,  True, False],\n",
       "        [ True,  True,  True, ..., False, False,  True]])"
      ]
     },
     "execution_count": 7,
     "metadata": {},
     "output_type": "execute_result"
    }
   ],
   "source": [
    "prox_static == prox"
   ]
  }
 ],
 "metadata": {
  "kernelspec": {
   "display_name": ".venv",
   "language": "python",
   "name": "python3"
  },
  "language_info": {
   "codemirror_mode": {
    "name": "ipython",
    "version": 3
   },
   "file_extension": ".py",
   "mimetype": "text/x-python",
   "name": "python",
   "nbconvert_exporter": "python",
   "pygments_lexer": "ipython3",
   "version": "3.10.12"
  }
 },
 "nbformat": 4,
 "nbformat_minor": 2
}
