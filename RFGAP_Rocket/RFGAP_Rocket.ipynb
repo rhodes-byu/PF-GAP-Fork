{
 "cells": [
  {
   "cell_type": "markdown",
   "metadata": {},
   "source": [
    "# Import data and libraries"
   ]
  },
  {
   "cell_type": "code",
   "execution_count": 1,
   "metadata": {},
   "outputs": [],
   "source": [
    "from rfgap import RFGAP\n",
    "import numpy as np\n",
    "\n",
    "#Data\n",
    "from aeon.datasets import load_gunpoint\n",
    "from aeon.datasets import load_basic_motions\n",
    "\n",
    "#Adjust the path\n",
    "import sys\n",
    "sys.path.insert(0, '/yunity/arusty/PF-GAP')"
   ]
  },
  {
   "cell_type": "code",
   "execution_count": 2,
   "metadata": {},
   "outputs": [],
   "source": [
    "# Load Data\n",
    "XTRAIN, YTRAIN = load_gunpoint(split=\"TRAIN\")\n",
    "XTEST, YTEST = load_gunpoint(split=\"TEST\")\n",
    "\n",
    "# XTRAIN, YTRAIN = load_basic_motions(split=\"TRAIN\")\n",
    "# XTEST, YTEST = load_basic_motions(split=\"TEST\")\n",
    "\n",
    "#Generate random static variables to test algorithm\n",
    "XSTATIC = np.random.rand(XTRAIN.shape[0], 45)\n",
    "XSTATIC_TEST = np.random.rand(XTEST.shape[0], 45)\n"
   ]
  },
  {
   "cell_type": "markdown",
   "metadata": {},
   "source": [
    "# Basic Model Tests \n",
    "To ensure they are loaded correctly"
   ]
  },
  {
   "cell_type": "markdown",
   "metadata": {},
   "source": [
    "## Testing RF_GAP seperately"
   ]
  },
  {
   "cell_type": "code",
   "execution_count": 3,
   "metadata": {},
   "outputs": [
    {
     "name": "stdout",
     "output_type": "stream",
     "text": [
      "[[0.         0.34555556 0.03111111 0.52111111 0.10222222]\n",
      " [0.15509259 0.         0.35       0.09490741 0.4       ]\n",
      " [0.21607143 0.26130952 0.         0.23690476 0.28571429]\n",
      " [0.44607843 0.34803922 0.06666667 0.         0.13921569]\n",
      " [0.18585859 0.32777778 0.3030303  0.18333333 0.        ]]\n"
     ]
    }
   ],
   "source": [
    "prediction_type = 'classification'\n",
    "\n",
    "rf = RFGAP(prediction_type = prediction_type)\n",
    "rf.fit(np.random.rand(5, 5), np.random.randint(0, 2, size=(5,)))\n",
    "\n",
    "print(rf.get_proximities().todense())"
   ]
  },
  {
   "cell_type": "markdown",
   "metadata": {},
   "source": [
    "## Testing the Rockets\n",
    "Safety first, right?"
   ]
  },
  {
   "cell_type": "code",
   "execution_count": 4,
   "metadata": {},
   "outputs": [],
   "source": [
    "from aeon.transformations.collection.convolution_based import MultiRocket, MiniRocket\n",
    "from aeon.datasets import load_unit_test\n",
    "X_train, y_train = load_unit_test(split=\"train\")\n",
    "X_test, y_test = load_unit_test(split=\"test\")\n",
    "rocket = MultiRocket(n_kernels=512)\n",
    "rocket.fit(X_train)\n",
    "\n",
    "X_train = rocket.transform(X_train)\n",
    "X_test = rocket.transform(X_test)"
   ]
  },
  {
   "cell_type": "markdown",
   "metadata": {},
   "source": [
    "# RFGAP ROCKET"
   ]
  },
  {
   "cell_type": "code",
   "execution_count": null,
   "metadata": {},
   "outputs": [
    {
     "name": "stdout",
     "output_type": "stream",
     "text": [
      "Proximities shape (50, 50)\n",
      "Data shape (50, 1, 150)\n",
      "Proximities: \n",
      "[[0.         0.03662241 0.01714286 ... 0.04790072 0.00571429 0.0655244 ]\n",
      " [0.03828157 0.         0.00129032 ... 0.03793211 0.         0.04519644]\n",
      " [0.01266607 0.01326851 0.         ... 0.0200107  0.02591458 0.01454362]\n",
      " ...\n",
      " [0.03923773 0.03595286 0.00591209 ... 0.         0.07362637 0.04111988]\n",
      " [0.01248909 0.01771647 0.03155337 ... 0.01655373 0.         0.02626012]\n",
      " [0.04231982 0.04329365 0.         ... 0.0469057  0.         0.        ]]\n"
     ]
    }
   ],
   "source": [
    "from RFGAP_Rocket import RFGAP_Rocket\n",
    "\n",
    "#NOT STATIC \n",
    "rf_rocket = RFGAP_Rocket(prediction_type = prediction_type, rocket = \"Multi\",\n",
    "                         n_kernels=512) # Rocket Kwargs\n",
    "rf_rocket.fit(XTRAIN, YTRAIN)\n",
    "prox = rf_rocket.get_proximities().todense()\n",
    "\n",
    "print(f\"Proximities shape {prox.shape}\")\n",
    "print(f\"Data shape {XTRAIN.shape}\")\n",
    "print(f\"Proximities: \\n{prox}\")"
   ]
  },
  {
   "cell_type": "code",
   "execution_count": 11,
   "metadata": {},
   "outputs": [
    {
     "name": "stdout",
     "output_type": "stream",
     "text": [
      "Proximities shape (50, 50)\n",
      "Data shape (50, 1, 150)\n",
      "Proximities: \n",
      "[[0.         0.03662241 0.01714286 ... 0.04790072 0.00571429 0.0655244 ]\n",
      " [0.03828157 0.         0.00129032 ... 0.03793211 0.         0.04519644]\n",
      " [0.01266607 0.01326851 0.         ... 0.0200107  0.02591458 0.01454362]\n",
      " ...\n",
      " [0.03923773 0.03595286 0.00591209 ... 0.         0.07362637 0.04111988]\n",
      " [0.01248909 0.01771647 0.03155337 ... 0.01655373 0.         0.02626012]\n",
      " [0.04231982 0.04329365 0.         ... 0.0469057  0.         0.        ]]\n"
     ]
    }
   ],
   "source": [
    "from RFGAP_Rocket import RFGAP_Rocket\n",
    "\n",
    "rf_rocket = RFGAP_Rocket(prediction_type = prediction_type, rocket = \"Multi\",\n",
    "                         n_kernels=512) # Rocket Kwargs\n",
    "rf_rocket.fit(XTRAIN, YTRAIN, XSTATIC)\n",
    "prox_static = rf_rocket.get_proximities().todense()\n",
    "\n",
    "print(f\"Proximities shape {prox.shape}\")\n",
    "print(f\"Data shape {XTRAIN.shape}\")\n",
    "print(f\"Proximities: \\n{prox}\")"
   ]
  },
  {
   "cell_type": "code",
   "execution_count": 12,
   "metadata": {},
   "outputs": [
    {
     "data": {
      "text/plain": [
       "matrix([[ True, False, False, ..., False, False, False],\n",
       "        [False,  True, False, ..., False, False, False],\n",
       "        [False, False,  True, ..., False, False, False],\n",
       "        ...,\n",
       "        [False, False, False, ...,  True, False, False],\n",
       "        [False, False, False, ..., False,  True, False],\n",
       "        [False, False,  True, ..., False,  True,  True]])"
      ]
     },
     "execution_count": 12,
     "metadata": {},
     "output_type": "execute_result"
    }
   ],
   "source": [
    "prox_static == prox"
   ]
  }
 ],
 "metadata": {
  "kernelspec": {
   "display_name": ".venv",
   "language": "python",
   "name": "python3"
  },
  "language_info": {
   "codemirror_mode": {
    "name": "ipython",
    "version": 3
   },
   "file_extension": ".py",
   "mimetype": "text/x-python",
   "name": "python",
   "nbconvert_exporter": "python",
   "pygments_lexer": "ipython3",
   "version": "3.10.12"
  }
 },
 "nbformat": 4,
 "nbformat_minor": 2
}
