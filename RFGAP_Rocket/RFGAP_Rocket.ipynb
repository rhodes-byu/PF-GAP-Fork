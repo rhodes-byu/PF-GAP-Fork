{
 "cells": [
  {
   "cell_type": "markdown",
   "metadata": {},
   "source": [
    "# Import data and libraries"
   ]
  },
  {
   "cell_type": "code",
   "execution_count": 1,
   "metadata": {},
   "outputs": [],
   "source": [
    "from rfgap import RFGAP\n",
    "import numpy as np\n",
    "\n",
    "#Data\n",
    "from aeon.datasets import load_gunpoint\n",
    "from aeon.datasets import load_basic_motions\n",
    "\n",
    "#Adjust the path\n",
    "import sys\n",
    "sys.path.insert(0, '/yunity/arusty/PF-GAP')"
   ]
  },
  {
   "cell_type": "code",
   "execution_count": 2,
   "metadata": {},
   "outputs": [],
   "source": [
    "# Load Data\n",
    "XTRAIN, YTRAIN = load_gunpoint(split=\"TRAIN\")\n",
    "XTEST, YTEST = load_gunpoint(split=\"TEST\")\n",
    "\n",
    "# XTRAIN, YTRAIN = load_basic_motions(split=\"TRAIN\")\n",
    "# XTEST, YTEST = load_basic_motions(split=\"TEST\")\n",
    "\n",
    "#Generate random static variables to test algorithm\n",
    "XSTATIC = np.random.rand(XTRAIN.shape[0], 45)\n",
    "XSTATIC_TEST = np.random.rand(XTEST.shape[0], 45)\n"
   ]
  },
  {
   "cell_type": "markdown",
   "metadata": {},
   "source": [
    "# Basic Model Tests \n",
    "To ensure they are loaded correctly"
   ]
  },
  {
   "cell_type": "markdown",
   "metadata": {},
   "source": [
    "## Testing RF_GAP seperately"
   ]
  },
  {
   "cell_type": "code",
   "execution_count": 3,
   "metadata": {},
   "outputs": [
    {
     "name": "stdout",
     "output_type": "stream",
     "text": [
      "[[0.         0.40215054 0.03494624 0.40430108 0.15860215]\n",
      " [0.31666667 0.         0.1412037  0.46111111 0.08101852]\n",
      " [0.25121951 0.34349593 0.         0.25894309 0.14634146]\n",
      " [0.24646465 0.42020202 0.20959596 0.         0.12373737]\n",
      " [0.2042735  0.22222222 0.35897436 0.21452991 0.        ]]\n"
     ]
    }
   ],
   "source": [
    "prediction_type = 'classification'\n",
    "\n",
    "rf = RFGAP(prediction_type = prediction_type)\n",
    "rf.fit(np.random.rand(5, 5), np.random.randint(0, 2, size=(5,)))\n",
    "\n",
    "print(rf.get_proximities().todense())"
   ]
  },
  {
   "cell_type": "markdown",
   "metadata": {},
   "source": [
    "## Testing the Rockets\n",
    "Safety first, right?"
   ]
  },
  {
   "cell_type": "code",
   "execution_count": null,
   "metadata": {},
   "outputs": [],
   "source": [
    "from aeon.transformations.collection.convolution_based import MultiRocket, MiniRocket\n",
    "from aeon.datasets import load_unit_test\n",
    "X_train, y_train = load_unit_test(split=\"train\")\n",
    "X_test, y_test = load_unit_test(split=\"test\")\n",
    "rocket = MultiRocket(n_kernels=512)\n",
    "rocket.fit(X_train)\n",
    "\n",
    "X_train = rocket.transform(X_train)\n",
    "X_test = rocket.transform(X_test)"
   ]
  },
  {
   "cell_type": "markdown",
   "metadata": {},
   "source": [
    "# RFGAP ROCKET"
   ]
  },
  {
   "cell_type": "code",
   "execution_count": null,
   "metadata": {},
   "outputs": [],
   "source": []
  }
 ],
 "metadata": {
  "kernelspec": {
   "display_name": ".venv",
   "language": "python",
   "name": "python3"
  },
  "language_info": {
   "codemirror_mode": {
    "name": "ipython",
    "version": 3
   },
   "file_extension": ".py",
   "mimetype": "text/x-python",
   "name": "python",
   "nbconvert_exporter": "python",
   "pygments_lexer": "ipython3",
   "version": "3.10.12"
  }
 },
 "nbformat": 4,
 "nbformat_minor": 2
}
