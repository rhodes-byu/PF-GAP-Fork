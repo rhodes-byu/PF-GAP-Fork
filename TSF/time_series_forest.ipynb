{
 "cells": [
  {
   "cell_type": "markdown",
   "id": "b33cafa7",
   "metadata": {},
   "source": [
    "# Time Series Forest General Test\n"
   ]
  },
  {
   "cell_type": "markdown",
   "id": "9e9e0a07",
   "metadata": {},
   "source": [
    "## Applied Tests"
   ]
  },
  {
   "cell_type": "code",
   "execution_count": 1,
   "id": "b1911af0",
   "metadata": {},
   "outputs": [],
   "source": [
    "from aeon.classification.interval_based import TimeSeriesForestClassifier\n",
    "import numpy as np\n",
    "\n",
    "#Data\n",
    "from aeon.datasets import load_gunpoint\n",
    "from aeon.datasets import load_basic_motions\n",
    "\n",
    "#Adjust the path\n",
    "import sys\n",
    "sys.path.insert(0, '/yunity/arusty/PF-GAP')\n",
    "\n",
    "# Load Data\n",
    "XTRAIN, YTRAIN = load_gunpoint(split=\"TRAIN\")\n",
    "XTEST, YTEST = load_gunpoint(split=\"TEST\")\n",
    "\n",
    "# XTRAIN, YTRAIN = load_basic_motions(split=\"TRAIN\")\n",
    "# XTEST, YTEST = load_basic_motions(split=\"TEST\")\n",
    "\n",
    "#Generate random static variables to test algorithm\n",
    "XSTATIC = np.random.rand(XTRAIN.shape[0], 45)\n",
    "XSTATIC_TEST = np.random.rand(XTEST.shape[0], 45)\n"
   ]
  },
  {
   "cell_type": "code",
   "execution_count": 2,
   "id": "065c9f43",
   "metadata": {},
   "outputs": [
    {
     "data": {
      "text/plain": [
       "array(['2', '2', '1', '1', '2', '2', '2', '2', '2', '1', '1', '1', '1',\n",
       "       '1', '2', '1', '2', '2', '1', '2', '1', '1', '1', '2', '1', '2',\n",
       "       '1', '1', '2', '1', '1', '2', '2', '1', '2', '1', '2', '2', '2',\n",
       "       '2', '2', '1', '1', '1', '2', '2', '1', '2', '1', '2'], dtype='<U1')"
      ]
     },
     "execution_count": 2,
     "metadata": {},
     "output_type": "execute_result"
    }
   ],
   "source": [
    "clf = TimeSeriesForestClassifier(n_estimators=10, random_state=0)\n",
    "clf.fit(XTRAIN, YTRAIN)\n",
    "\n",
    "clf.predict(XTRAIN)"
   ]
  },
  {
   "cell_type": "markdown",
   "id": "8c77657d",
   "metadata": {},
   "source": [
    "## Using RF GAP"
   ]
  },
  {
   "cell_type": "code",
   "execution_count": 3,
   "id": "bb512a2a",
   "metadata": {},
   "outputs": [
    {
     "ename": "AttributeError",
     "evalue": "'NoneType' object has no attribute 'apply'",
     "output_type": "error",
     "traceback": [
      "\u001b[0;31m---------------------------------------------------------------------------\u001b[0m",
      "\u001b[0;31mAttributeError\u001b[0m                            Traceback (most recent call last)",
      "Cell \u001b[0;32mIn[3], line 4\u001b[0m\n\u001b[1;32m      1\u001b[0m \u001b[38;5;28;01mfrom\u001b[39;00m\u001b[38;5;250m \u001b[39m\u001b[38;5;21;01mtime_series_forest\u001b[39;00m\u001b[38;5;250m \u001b[39m\u001b[38;5;28;01mimport\u001b[39;00m TSP_GAP\n\u001b[1;32m      3\u001b[0m tsf \u001b[38;5;241m=\u001b[39m TSP_GAP()\n\u001b[0;32m----> 4\u001b[0m \u001b[43mtsf\u001b[49m\u001b[38;5;241;43m.\u001b[39;49m\u001b[43mfit\u001b[49m\u001b[43m(\u001b[49m\u001b[43mXTRAIN\u001b[49m\u001b[43m,\u001b[49m\u001b[43m \u001b[49m\u001b[43mYTRAIN\u001b[49m\u001b[43m)\u001b[49m\n\u001b[1;32m      6\u001b[0m tsf\u001b[38;5;241m.\u001b[39mpredict(XTEST)\n",
      "File \u001b[0;32m~/PF-GAP/TSF/time_series_forest.py:197\u001b[0m, in \u001b[0;36mTSP_GAP.fit\u001b[0;34m(self, X, y, X_static)\u001b[0m\n\u001b[1;32m    194\u001b[0m \u001b[38;5;28;01mdef\u001b[39;00m\u001b[38;5;250m \u001b[39m\u001b[38;5;21mfit\u001b[39m(\u001b[38;5;28mself\u001b[39m, X, y, X_static\u001b[38;5;241m=\u001b[39m\u001b[38;5;28;01mNone\u001b[39;00m):\n\u001b[1;32m    195\u001b[0m     \u001b[38;5;66;03m#From the proximity mixin\u001b[39;00m\n\u001b[1;32m    196\u001b[0m     \u001b[38;5;28mself\u001b[39m\u001b[38;5;241m.\u001b[39m_estimator \u001b[38;5;241m=\u001b[39m \u001b[38;5;28mself\u001b[39m\u001b[38;5;241m.\u001b[39mbase_estimator\n\u001b[0;32m--> 197\u001b[0m     \u001b[38;5;28;43mself\u001b[39;49m\u001b[38;5;241;43m.\u001b[39;49m\u001b[43mprox_fit\u001b[49m\u001b[43m(\u001b[49m\u001b[43mX\u001b[49m\u001b[43m,\u001b[49m\u001b[43m \u001b[49m\u001b[38;5;28;43;01mNone\u001b[39;49;00m\u001b[43m)\u001b[49m\n\u001b[1;32m    199\u001b[0m     \u001b[38;5;28mself\u001b[39m\u001b[38;5;241m.\u001b[39mis_fitted \u001b[38;5;241m=\u001b[39m \u001b[38;5;28;01mTrue\u001b[39;00m\n\u001b[1;32m    201\u001b[0m     \u001b[38;5;28;01mreturn\u001b[39;00m \u001b[38;5;28msuper\u001b[39m()\u001b[38;5;241m.\u001b[39m_fit(X, y)\n",
      "File \u001b[0;32m~/PF-GAP/helpers.py:142\u001b[0m, in \u001b[0;36mProximityMixin.prox_fit\u001b[0;34m(self, X, x_test)\u001b[0m\n\u001b[1;32m    141\u001b[0m \u001b[38;5;28;01mdef\u001b[39;00m\u001b[38;5;250m \u001b[39m\u001b[38;5;21mprox_fit\u001b[39m(\u001b[38;5;28mself\u001b[39m, X, x_test \u001b[38;5;241m=\u001b[39m \u001b[38;5;28;01mNone\u001b[39;00m):\n\u001b[0;32m--> 142\u001b[0m     \u001b[38;5;28mself\u001b[39m\u001b[38;5;241m.\u001b[39mleaf_matrix \u001b[38;5;241m=\u001b[39m \u001b[38;5;28;43mself\u001b[39;49m\u001b[38;5;241;43m.\u001b[39;49m\u001b[43m_estimator\u001b[49m\u001b[38;5;241;43m.\u001b[39;49m\u001b[43mapply\u001b[49m(X)\n\u001b[1;32m    144\u001b[0m     \u001b[38;5;28;01mif\u001b[39;00m x_test \u001b[38;5;129;01mis\u001b[39;00m \u001b[38;5;129;01mnot\u001b[39;00m \u001b[38;5;28;01mNone\u001b[39;00m:\n\u001b[1;32m    145\u001b[0m         n_test \u001b[38;5;241m=\u001b[39m np\u001b[38;5;241m.\u001b[39mshape(x_test)[\u001b[38;5;241m0\u001b[39m]\n",
      "\u001b[0;31mAttributeError\u001b[0m: 'NoneType' object has no attribute 'apply'"
     ]
    }
   ],
   "source": [
    "from time_series_forest import TSP_GAP\n",
    "\n",
    "tsf = TSP_GAP()\n",
    "tsf.fit(XTRAIN, YTRAIN)\n",
    "\n",
    "tsf.predict(XTEST)"
   ]
  },
  {
   "cell_type": "code",
   "execution_count": null,
   "id": "1a67bb44",
   "metadata": {},
   "outputs": [
    {
     "ename": "AttributeError",
     "evalue": "'TSP_GAP' object has no attribute 'leaf_matrix'",
     "output_type": "error",
     "traceback": [
      "\u001b[0;31m---------------------------------------------------------------------------\u001b[0m",
      "\u001b[0;31mAttributeError\u001b[0m                            Traceback (most recent call last)",
      "Cell \u001b[0;32mIn[4], line 1\u001b[0m\n\u001b[0;32m----> 1\u001b[0m \u001b[43mtsf\u001b[49m\u001b[38;5;241;43m.\u001b[39;49m\u001b[43mget_proximities\u001b[49m\u001b[43m(\u001b[49m\u001b[43m)\u001b[49m\n",
      "File \u001b[0;32m~/PF-GAP/helpers.py:265\u001b[0m, in \u001b[0;36mProximityMixin.get_proximities\u001b[0;34m(self)\u001b[0m\n\u001b[1;32m    262\u001b[0m \u001b[38;5;28;01mfrom\u001b[39;00m\u001b[38;5;250m \u001b[39m\u001b[38;5;21;01mscipy\u001b[39;00m\u001b[38;5;250m \u001b[39m\u001b[38;5;28;01mimport\u001b[39;00m sparse\n\u001b[1;32m    264\u001b[0m check_is_fitted(\u001b[38;5;28mself\u001b[39m)\n\u001b[0;32m--> 265\u001b[0m n, _ \u001b[38;5;241m=\u001b[39m \u001b[38;5;28;43mself\u001b[39;49m\u001b[38;5;241;43m.\u001b[39;49m\u001b[43mleaf_matrix\u001b[49m\u001b[38;5;241m.\u001b[39mshape\n\u001b[1;32m    267\u001b[0m prox_vals, rows, cols \u001b[38;5;241m=\u001b[39m \u001b[38;5;28mself\u001b[39m\u001b[38;5;241m.\u001b[39mget_proximity_vector(\u001b[38;5;241m0\u001b[39m)\n\u001b[1;32m    268\u001b[0m \u001b[38;5;28;01mfor\u001b[39;00m i \u001b[38;5;129;01min\u001b[39;00m \u001b[38;5;28mrange\u001b[39m(\u001b[38;5;241m1\u001b[39m, n):\n",
      "\u001b[0;31mAttributeError\u001b[0m: 'TSP_GAP' object has no attribute 'leaf_matrix'"
     ]
    }
   ],
   "source": [
    "tsf.get_proximities()"
   ]
  },
  {
   "cell_type": "markdown",
   "id": "b3eca2ef",
   "metadata": {},
   "source": []
  }
 ],
 "metadata": {
  "kernelspec": {
   "display_name": ".venv",
   "language": "python",
   "name": "python3"
  },
  "language_info": {
   "codemirror_mode": {
    "name": "ipython",
    "version": 3
   },
   "file_extension": ".py",
   "mimetype": "text/x-python",
   "name": "python",
   "nbconvert_exporter": "python",
   "pygments_lexer": "ipython3",
   "version": "3.10.12"
  }
 },
 "nbformat": 4,
 "nbformat_minor": 5
}
