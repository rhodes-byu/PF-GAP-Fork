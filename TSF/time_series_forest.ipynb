{
 "cells": [
  {
   "cell_type": "markdown",
   "id": "b33cafa7",
   "metadata": {},
   "source": [
    "# Time Series Forest General Test\n"
   ]
  },
  {
   "cell_type": "markdown",
   "id": "9e9e0a07",
   "metadata": {},
   "source": [
    "## Applied Tests"
   ]
  },
  {
   "cell_type": "code",
   "execution_count": 1,
   "id": "b1911af0",
   "metadata": {},
   "outputs": [],
   "source": [
    "from aeon.classification.interval_based import TimeSeriesForestClassifier\n",
    "import numpy as np\n",
    "\n",
    "#Data\n",
    "from aeon.datasets import load_gunpoint\n",
    "from aeon.datasets import load_basic_motions\n",
    "\n",
    "#Adjust the path\n",
    "import sys\n",
    "sys.path.insert(0, '/yunity/arusty/PF-GAP')\n",
    "\n",
    "# Load Data\n",
    "XTRAIN, YTRAIN = load_gunpoint(split=\"TRAIN\")\n",
    "XTEST, YTEST = load_gunpoint(split=\"TEST\")\n",
    "\n",
    "# XTRAIN, YTRAIN = load_basic_motions(split=\"TRAIN\")\n",
    "# XTEST, YTEST = load_basic_motions(split=\"TEST\")\n",
    "\n",
    "#Generate random static variables to test algorithm\n",
    "XSTATIC = np.random.rand(XTRAIN.shape[0], 45)\n",
    "XSTATIC_TEST = np.random.rand(XTEST.shape[0], 45)\n"
   ]
  },
  {
   "cell_type": "code",
   "execution_count": 2,
   "id": "065c9f43",
   "metadata": {},
   "outputs": [
    {
     "data": {
      "text/plain": [
       "array(['2', '2', '1', '1', '2', '2', '2', '2', '2', '1', '1', '1', '1',\n",
       "       '1', '2', '1', '2', '2', '1', '2', '1', '1', '1', '2', '1', '2',\n",
       "       '1', '1', '2', '1', '1', '2', '2', '1', '2', '1', '2', '2', '2',\n",
       "       '2', '2', '1', '1', '1', '2', '2', '1', '2', '1', '2'], dtype='<U1')"
      ]
     },
     "execution_count": 2,
     "metadata": {},
     "output_type": "execute_result"
    }
   ],
   "source": [
    "clf = TimeSeriesForestClassifier(n_estimators=10, random_state=0)\n",
    "clf.fit(XTRAIN, YTRAIN)\n",
    "\n",
    "clf.predict(XTRAIN)"
   ]
  },
  {
   "cell_type": "markdown",
   "id": "8c77657d",
   "metadata": {},
   "source": [
    "## Using RF GAP"
   ]
  },
  {
   "cell_type": "code",
   "execution_count": 3,
   "id": "bb512a2a",
   "metadata": {},
   "outputs": [
    {
     "ename": "ValueError",
     "evalue": "base_estimator must be a scikit-learn BaseEstimator or None. Found: <class 'sklearn.ensemble._forest.RandomForestClassifier'>",
     "output_type": "error",
     "traceback": [
      "\u001b[0;31m---------------------------------------------------------------------------\u001b[0m",
      "\u001b[0;31mValueError\u001b[0m                                Traceback (most recent call last)",
      "Cell \u001b[0;32mIn[3], line 5\u001b[0m\n\u001b[1;32m      2\u001b[0m \u001b[38;5;28;01mfrom\u001b[39;00m\u001b[38;5;250m \u001b[39m\u001b[38;5;21;01msklearn\u001b[39;00m\u001b[38;5;21;01m.\u001b[39;00m\u001b[38;5;21;01mensemble\u001b[39;00m\u001b[38;5;250m \u001b[39m\u001b[38;5;28;01mimport\u001b[39;00m RandomForestClassifier\n\u001b[1;32m      4\u001b[0m tsf \u001b[38;5;241m=\u001b[39m TSP_GAP()\n\u001b[0;32m----> 5\u001b[0m \u001b[43mtsf\u001b[49m\u001b[38;5;241;43m.\u001b[39;49m\u001b[43mfit\u001b[49m\u001b[43m(\u001b[49m\u001b[43mXTRAIN\u001b[49m\u001b[43m,\u001b[49m\u001b[43m \u001b[49m\u001b[43mYTRAIN\u001b[49m\u001b[43m)\u001b[49m\n",
      "File \u001b[0;32m~/PF-GAP/TSF/time_series_forest.py:190\u001b[0m, in \u001b[0;36mTSP_GAP.fit\u001b[0;34m(self, X, y, X_static)\u001b[0m\n\u001b[1;32m    188\u001b[0m \u001b[38;5;28;01mdef\u001b[39;00m\u001b[38;5;250m \u001b[39m\u001b[38;5;21mfit\u001b[39m(\u001b[38;5;28mself\u001b[39m, X, y, X_static\u001b[38;5;241m=\u001b[39m\u001b[38;5;28;01mNone\u001b[39;00m):\n\u001b[1;32m    189\u001b[0m     \u001b[38;5;66;03m# Call the parent class's _fit method to train the forest\u001b[39;00m\n\u001b[0;32m--> 190\u001b[0m     \u001b[38;5;28;43msuper\u001b[39;49m\u001b[43m(\u001b[49m\u001b[43m)\u001b[49m\u001b[38;5;241;43m.\u001b[39;49m\u001b[43m_fit\u001b[49m\u001b[43m(\u001b[49m\u001b[43mX\u001b[49m\u001b[43m,\u001b[49m\u001b[43m \u001b[49m\u001b[43my\u001b[49m\u001b[43m)\u001b[49m\n\u001b[1;32m    191\u001b[0m     \u001b[38;5;28mself\u001b[39m\u001b[38;5;241m.\u001b[39mis_fitted \u001b[38;5;241m=\u001b[39m \u001b[38;5;28;01mTrue\u001b[39;00m\n\u001b[1;32m    193\u001b[0m     \u001b[38;5;28;01mreturn\u001b[39;00m \u001b[38;5;28mself\u001b[39m\n",
      "File \u001b[0;32m~/PF-GAP/.venv/lib/python3.10/site-packages/aeon/classification/interval_based/_tsf.py:186\u001b[0m, in \u001b[0;36mTimeSeriesForestClassifier._fit\u001b[0;34m(self, X, y)\u001b[0m\n\u001b[1;32m    185\u001b[0m \u001b[38;5;28;01mdef\u001b[39;00m\u001b[38;5;250m \u001b[39m\u001b[38;5;21m_fit\u001b[39m(\u001b[38;5;28mself\u001b[39m, X, y):\n\u001b[0;32m--> 186\u001b[0m     \u001b[38;5;28;01mreturn\u001b[39;00m \u001b[38;5;28;43msuper\u001b[39;49m\u001b[43m(\u001b[49m\u001b[43m)\u001b[49m\u001b[38;5;241;43m.\u001b[39;49m\u001b[43m_fit\u001b[49m\u001b[43m(\u001b[49m\u001b[43mX\u001b[49m\u001b[43m,\u001b[49m\u001b[43m \u001b[49m\u001b[43my\u001b[49m\u001b[43m)\u001b[49m\n",
      "File \u001b[0;32m~/PF-GAP/.venv/lib/python3.10/site-packages/aeon/base/_estimators/interval_based/base_interval_forest.py:224\u001b[0m, in \u001b[0;36mBaseIntervalForest._fit\u001b[0;34m(self, X, y)\u001b[0m\n\u001b[1;32m    222\u001b[0m     \u001b[38;5;28mself\u001b[39m\u001b[38;5;241m.\u001b[39m_transformed_data \u001b[38;5;241m=\u001b[39m \u001b[38;5;28mself\u001b[39m\u001b[38;5;241m.\u001b[39m_fit_forest(X, y, save_transformed_data\u001b[38;5;241m=\u001b[39m\u001b[38;5;28;01mTrue\u001b[39;00m)\n\u001b[1;32m    223\u001b[0m \u001b[38;5;28;01melse\u001b[39;00m:\n\u001b[0;32m--> 224\u001b[0m     \u001b[38;5;28;43mself\u001b[39;49m\u001b[38;5;241;43m.\u001b[39;49m\u001b[43m_fit_forest\u001b[49m\u001b[43m(\u001b[49m\u001b[43mX\u001b[49m\u001b[43m,\u001b[49m\u001b[43m \u001b[49m\u001b[43my\u001b[49m\u001b[43m)\u001b[49m\n\u001b[1;32m    226\u001b[0m \u001b[38;5;28;01mreturn\u001b[39;00m \u001b[38;5;28mself\u001b[39m\n",
      "File \u001b[0;32m~/PF-GAP/.venv/lib/python3.10/site-packages/aeon/base/_estimators/interval_based/base_interval_forest.py:369\u001b[0m, in \u001b[0;36mBaseIntervalForest._fit_forest\u001b[0;34m(self, X, y, save_transformed_data)\u001b[0m\n\u001b[1;32m    367\u001b[0m \u001b[38;5;66;03m# base_estimator must be an sklearn estimator\u001b[39;00m\n\u001b[1;32m    368\u001b[0m \u001b[38;5;28;01melif\u001b[39;00m \u001b[38;5;129;01mnot\u001b[39;00m \u001b[38;5;28misinstance\u001b[39m(\u001b[38;5;28mself\u001b[39m\u001b[38;5;241m.\u001b[39mbase_estimator, BaseEstimator):\n\u001b[0;32m--> 369\u001b[0m     \u001b[38;5;28;01mraise\u001b[39;00m \u001b[38;5;167;01mValueError\u001b[39;00m(\n\u001b[1;32m    370\u001b[0m         \u001b[38;5;124m\"\u001b[39m\u001b[38;5;124mbase_estimator must be a scikit-learn BaseEstimator or None. \u001b[39m\u001b[38;5;124m\"\u001b[39m\n\u001b[1;32m    371\u001b[0m         \u001b[38;5;124mf\u001b[39m\u001b[38;5;124m\"\u001b[39m\u001b[38;5;124mFound: \u001b[39m\u001b[38;5;132;01m{\u001b[39;00m\u001b[38;5;28mself\u001b[39m\u001b[38;5;241m.\u001b[39mbase_estimator\u001b[38;5;132;01m}\u001b[39;00m\u001b[38;5;124m\"\u001b[39m\n\u001b[1;32m    372\u001b[0m     )\n\u001b[1;32m    374\u001b[0m \u001b[38;5;66;03m# use the base series if series_transformers is None\u001b[39;00m\n\u001b[1;32m    375\u001b[0m \u001b[38;5;28;01mif\u001b[39;00m \u001b[38;5;28mself\u001b[39m\u001b[38;5;241m.\u001b[39mseries_transformers \u001b[38;5;129;01mis\u001b[39;00m \u001b[38;5;28;01mNone\u001b[39;00m \u001b[38;5;129;01mor\u001b[39;00m \u001b[38;5;28mself\u001b[39m\u001b[38;5;241m.\u001b[39mseries_transformers \u001b[38;5;241m==\u001b[39m []:\n",
      "\u001b[0;31mValueError\u001b[0m: base_estimator must be a scikit-learn BaseEstimator or None. Found: <class 'sklearn.ensemble._forest.RandomForestClassifier'>"
     ]
    }
   ],
   "source": [
    "from time_series_forest import TSP_GAP, ProximityRandomForest\n",
    "from sklearn.ensemble import RandomForestClassifier\n",
    "\n",
    "tsf = TSP_GAP()\n",
    "tsf.fit(XTRAIN, YTRAIN)"
   ]
  },
  {
   "cell_type": "code",
   "execution_count": null,
   "id": "264ca9ee",
   "metadata": {},
   "outputs": [
    {
     "ename": "AttributeError",
     "evalue": "'ProximityRandomForest' object has no attribute '_estimator'",
     "output_type": "error",
     "traceback": [
      "\u001b[0;31m---------------------------------------------------------------------------\u001b[0m",
      "\u001b[0;31mAttributeError\u001b[0m                            Traceback (most recent call last)",
      "Cell \u001b[0;32mIn[4], line 10\u001b[0m\n\u001b[1;32m      7\u001b[0m prf \u001b[38;5;241m=\u001b[39m ProximityRandomForest(base_estimators, intervals, series_transformers, tsf \u001b[38;5;241m=\u001b[39m tsf)\n\u001b[1;32m      9\u001b[0m \u001b[38;5;66;03m# Fit proximities\u001b[39;00m\n\u001b[0;32m---> 10\u001b[0m \u001b[43mprf\u001b[49m\u001b[38;5;241;43m.\u001b[39;49m\u001b[43mprox_fit\u001b[49m\u001b[43m(\u001b[49m\u001b[43mXTRAIN\u001b[49m\u001b[43m)\u001b[49m\n\u001b[1;32m     12\u001b[0m \u001b[38;5;66;03m# Get proximities\u001b[39;00m\n\u001b[1;32m     13\u001b[0m proximities \u001b[38;5;241m=\u001b[39m prf\u001b[38;5;241m.\u001b[39mleaf_matrix\n",
      "File \u001b[0;32m~/PF-GAP/TSF/time_series_forest.py:301\u001b[0m, in \u001b[0;36mProximityRandomForest.prox_fit\u001b[0;34m(self, X, x_test)\u001b[0m\n\u001b[1;32m    297\u001b[0m     \u001b[38;5;28mself\u001b[39m\u001b[38;5;241m.\u001b[39moob_leaves \u001b[38;5;241m=\u001b[39m \u001b[38;5;28mself\u001b[39m\u001b[38;5;241m.\u001b[39moob_indices \u001b[38;5;241m*\u001b[39m \u001b[38;5;28mself\u001b[39m\u001b[38;5;241m.\u001b[39mleaf_matrix\n\u001b[1;32m    299\u001b[0m \u001b[38;5;28;01mif\u001b[39;00m \u001b[38;5;28mself\u001b[39m\u001b[38;5;241m.\u001b[39mprox_method \u001b[38;5;241m==\u001b[39m \u001b[38;5;124m'\u001b[39m\u001b[38;5;124mrfgap\u001b[39m\u001b[38;5;124m'\u001b[39m:\n\u001b[0;32m--> 301\u001b[0m     \u001b[38;5;28mself\u001b[39m\u001b[38;5;241m.\u001b[39moob_indices \u001b[38;5;241m=\u001b[39m \u001b[38;5;28;43mself\u001b[39;49m\u001b[38;5;241;43m.\u001b[39;49m\u001b[43mget_oob_indices\u001b[49m\u001b[43m(\u001b[49m\u001b[43mX\u001b[49m\u001b[43m)\u001b[49m\n\u001b[1;32m    302\u001b[0m     \u001b[38;5;28mself\u001b[39m\u001b[38;5;241m.\u001b[39min_bag_counts \u001b[38;5;241m=\u001b[39m \u001b[38;5;28mself\u001b[39m\u001b[38;5;241m.\u001b[39mget_in_bag_counts(X)\n\u001b[1;32m    305\u001b[0m     \u001b[38;5;28;01mif\u001b[39;00m x_test \u001b[38;5;129;01mis\u001b[39;00m \u001b[38;5;129;01mnot\u001b[39;00m \u001b[38;5;28;01mNone\u001b[39;00m:\n",
      "File \u001b[0;32m~/PF-GAP/helpers.py:87\u001b[0m, in \u001b[0;36mProximityMixin.get_oob_indices\u001b[0;34m(self, data)\u001b[0m\n\u001b[1;32m     74\u001b[0m \u001b[38;5;250m\u001b[39m\u001b[38;5;124;03m\"\"\"This generates a matrix of out-of-bag samples for each decision tree in the forest\u001b[39;00m\n\u001b[1;32m     75\u001b[0m \n\u001b[1;32m     76\u001b[0m \u001b[38;5;124;03mParameters\u001b[39;00m\n\u001b[0;32m   (...)\u001b[0m\n\u001b[1;32m     84\u001b[0m \n\u001b[1;32m     85\u001b[0m \u001b[38;5;124;03m\"\"\"\u001b[39;00m\n\u001b[1;32m     86\u001b[0m n \u001b[38;5;241m=\u001b[39m \u001b[38;5;28mlen\u001b[39m(data)\n\u001b[0;32m---> 87\u001b[0m num_trees \u001b[38;5;241m=\u001b[39m \u001b[38;5;28;43mself\u001b[39;49m\u001b[38;5;241;43m.\u001b[39;49m\u001b[43m_estimator\u001b[49m\u001b[38;5;241m.\u001b[39mn_estimators\n\u001b[1;32m     88\u001b[0m oob_matrix \u001b[38;5;241m=\u001b[39m np\u001b[38;5;241m.\u001b[39mzeros((n, num_trees))\n\u001b[1;32m     89\u001b[0m oob_samples \u001b[38;5;241m=\u001b[39m \u001b[38;5;28mself\u001b[39m\u001b[38;5;241m.\u001b[39m_get_oob_samples(data)\n",
      "\u001b[0;31mAttributeError\u001b[0m: 'ProximityRandomForest' object has no attribute '_estimator'"
     ]
    }
   ],
   "source": [
    "# Extract decision trees, intervals, and series transformers from TSF\n",
    "base_estimators = tsf.estimators_\n",
    "intervals = tsf.intervals_\n",
    "series_transformers = tsf._series_transformers\n",
    "\n",
    "# Create ProximityRandomForest\n",
    "prf = ProximityRandomForest(base_estimators, intervals, series_transformers, tsf = tsf)\n",
    "\n",
    "# Fit proximities\n",
    "prf.prox_fit(XTRAIN)\n",
    "\n",
    "# Get proximities\n",
    "proximities = prf.leaf_matrix\n",
    "print(proximities)"
   ]
  },
  {
   "cell_type": "code",
   "execution_count": null,
   "id": "a06081a7",
   "metadata": {},
   "outputs": [
    {
     "data": {
      "text/plain": [
       "'rfgap'"
      ]
     },
     "execution_count": 6,
     "metadata": {},
     "output_type": "execute_result"
    }
   ],
   "source": [
    "prf.prox_method"
   ]
  },
  {
   "cell_type": "code",
   "execution_count": null,
   "id": "ee9861ff",
   "metadata": {},
   "outputs": [
    {
     "ename": "AttributeError",
     "evalue": "'ProximityRandomForest' object has no attribute 'oob_indices'",
     "output_type": "error",
     "traceback": [
      "\u001b[0;31m---------------------------------------------------------------------------\u001b[0m",
      "\u001b[0;31mAttributeError\u001b[0m                            Traceback (most recent call last)",
      "Cell \u001b[0;32mIn[7], line 1\u001b[0m\n\u001b[0;32m----> 1\u001b[0m \u001b[43mprf\u001b[49m\u001b[38;5;241;43m.\u001b[39;49m\u001b[43mget_proximities\u001b[49m\u001b[43m(\u001b[49m\u001b[43m)\u001b[49m\n",
      "File \u001b[0;32m~/PF-GAP/helpers.py:267\u001b[0m, in \u001b[0;36mProximityMixin.get_proximities\u001b[0;34m(self)\u001b[0m\n\u001b[1;32m    264\u001b[0m check_is_fitted(\u001b[38;5;28mself\u001b[39m)\n\u001b[1;32m    265\u001b[0m n, _ \u001b[38;5;241m=\u001b[39m \u001b[38;5;28mself\u001b[39m\u001b[38;5;241m.\u001b[39mleaf_matrix\u001b[38;5;241m.\u001b[39mshape\n\u001b[0;32m--> 267\u001b[0m prox_vals, rows, cols \u001b[38;5;241m=\u001b[39m \u001b[38;5;28;43mself\u001b[39;49m\u001b[38;5;241;43m.\u001b[39;49m\u001b[43mget_proximity_vector\u001b[49m\u001b[43m(\u001b[49m\u001b[38;5;241;43m0\u001b[39;49m\u001b[43m)\u001b[49m\n\u001b[1;32m    268\u001b[0m \u001b[38;5;28;01mfor\u001b[39;00m i \u001b[38;5;129;01min\u001b[39;00m \u001b[38;5;28mrange\u001b[39m(\u001b[38;5;241m1\u001b[39m, n):\n\u001b[1;32m    269\u001b[0m     \u001b[38;5;28;01mif\u001b[39;00m \u001b[38;5;28mself\u001b[39m\u001b[38;5;241m.\u001b[39m_estimator\u001b[38;5;241m.\u001b[39mverbose \u001b[38;5;129;01mand\u001b[39;00m i \u001b[38;5;241m%\u001b[39m \u001b[38;5;241m100\u001b[39m \u001b[38;5;241m==\u001b[39m \u001b[38;5;241m0\u001b[39m:\n",
      "File \u001b[0;32m~/PF-GAP/helpers.py:228\u001b[0m, in \u001b[0;36mProximityMixin.get_proximity_vector\u001b[0;34m(self, ind)\u001b[0m\n\u001b[1;32m    225\u001b[0m         data \u001b[38;5;241m=\u001b[39m prox_vec[cols] \u001b[38;5;241m/\u001b[39m num_trees\n\u001b[1;32m    227\u001b[0m \u001b[38;5;28;01melif\u001b[39;00m \u001b[38;5;28mself\u001b[39m\u001b[38;5;241m.\u001b[39mprox_method \u001b[38;5;241m==\u001b[39m \u001b[38;5;124m'\u001b[39m\u001b[38;5;124mrfgap\u001b[39m\u001b[38;5;124m'\u001b[39m:\n\u001b[0;32m--> 228\u001b[0m     oob_trees \u001b[38;5;241m=\u001b[39m np\u001b[38;5;241m.\u001b[39mnonzero(\u001b[38;5;28;43mself\u001b[39;49m\u001b[38;5;241;43m.\u001b[39;49m\u001b[43moob_indices\u001b[49m[ind, :])[\u001b[38;5;241m0\u001b[39m]\n\u001b[1;32m    229\u001b[0m     in_bag_trees \u001b[38;5;241m=\u001b[39m np\u001b[38;5;241m.\u001b[39mnonzero(\u001b[38;5;28mself\u001b[39m\u001b[38;5;241m.\u001b[39min_bag_indices[ind, :])[\u001b[38;5;241m0\u001b[39m]\n\u001b[1;32m    230\u001b[0m     terminals \u001b[38;5;241m=\u001b[39m \u001b[38;5;28mself\u001b[39m\u001b[38;5;241m.\u001b[39mleaf_matrix[ind, :]\n",
      "\u001b[0;31mAttributeError\u001b[0m: 'ProximityRandomForest' object has no attribute 'oob_indices'"
     ]
    }
   ],
   "source": [
    "prf.get_proximities()"
   ]
  },
  {
   "cell_type": "markdown",
   "id": "6c8f4141",
   "metadata": {},
   "source": []
  }
 ],
 "metadata": {
  "kernelspec": {
   "display_name": ".venv",
   "language": "python",
   "name": "python3"
  },
  "language_info": {
   "codemirror_mode": {
    "name": "ipython",
    "version": 3
   },
   "file_extension": ".py",
   "mimetype": "text/x-python",
   "name": "python",
   "nbconvert_exporter": "python",
   "pygments_lexer": "ipython3",
   "version": "3.10.12"
  }
 },
 "nbformat": 4,
 "nbformat_minor": 5
}
