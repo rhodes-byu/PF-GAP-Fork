{
 "cells": [
  {
   "cell_type": "code",
   "execution_count": 1,
   "id": "af2988c3-d880-40a6-8549-0097a4e5e057",
   "metadata": {},
   "outputs": [],
   "source": [
    "import numpy as np\n",
    "import pandas as pd\n",
    "import matplotlib.pyplot as plt\n",
    "\n",
    "import yfinance as yf"
   ]
  },
  {
   "cell_type": "code",
   "execution_count": 2,
   "id": "42da56b9-cffe-4d83-912b-1aaa1ff4e4f1",
   "metadata": {},
   "outputs": [],
   "source": [
    "labelDF = pd.read_csv(\"Labeled_11-01-2024_GICS.csv\")"
   ]
  },
  {
   "cell_type": "code",
   "execution_count": 3,
   "id": "a2018c70-a45e-4f33-80ef-4ada50d1084c",
   "metadata": {},
   "outputs": [
    {
     "data": {
      "text/html": [
       "<div>\n",
       "<style scoped>\n",
       "    .dataframe tbody tr th:only-of-type {\n",
       "        vertical-align: middle;\n",
       "    }\n",
       "\n",
       "    .dataframe tbody tr th {\n",
       "        vertical-align: top;\n",
       "    }\n",
       "\n",
       "    .dataframe thead th {\n",
       "        text-align: right;\n",
       "    }\n",
       "</style>\n",
       "<table border=\"1\" class=\"dataframe\">\n",
       "  <thead>\n",
       "    <tr style=\"text-align: right;\">\n",
       "      <th></th>\n",
       "      <th>No.</th>\n",
       "      <th>Symbol</th>\n",
       "      <th>Company Name</th>\n",
       "      <th>Market Cap</th>\n",
       "      <th>Revenue</th>\n",
       "      <th>Sector</th>\n",
       "      <th>Labels</th>\n",
       "    </tr>\n",
       "  </thead>\n",
       "  <tbody>\n",
       "    <tr>\n",
       "      <th>0</th>\n",
       "      <td>1</td>\n",
       "      <td>AAPL</td>\n",
       "      <td>Apple Inc.</td>\n",
       "      <td>3,381.32B</td>\n",
       "      <td>391.04B</td>\n",
       "      <td>Technology</td>\n",
       "      <td>9</td>\n",
       "    </tr>\n",
       "    <tr>\n",
       "      <th>1</th>\n",
       "      <td>2</td>\n",
       "      <td>NVDA</td>\n",
       "      <td>NVIDIA Corporation</td>\n",
       "      <td>3,328.48B</td>\n",
       "      <td>96.31B</td>\n",
       "      <td>Technology</td>\n",
       "      <td>9</td>\n",
       "    </tr>\n",
       "    <tr>\n",
       "      <th>2</th>\n",
       "      <td>3</td>\n",
       "      <td>MSFT</td>\n",
       "      <td>Microsoft Corporation</td>\n",
       "      <td>3,060.49B</td>\n",
       "      <td>254.19B</td>\n",
       "      <td>Technology</td>\n",
       "      <td>9</td>\n",
       "    </tr>\n",
       "    <tr>\n",
       "      <th>3</th>\n",
       "      <td>4</td>\n",
       "      <td>GOOG</td>\n",
       "      <td>Alphabet Inc.</td>\n",
       "      <td>2,103.30B</td>\n",
       "      <td>339.86B</td>\n",
       "      <td>Communication Services</td>\n",
       "      <td>0</td>\n",
       "    </tr>\n",
       "    <tr>\n",
       "      <th>4</th>\n",
       "      <td>5</td>\n",
       "      <td>GOOGL</td>\n",
       "      <td>Alphabet Inc.</td>\n",
       "      <td>2,093.09B</td>\n",
       "      <td>339.86B</td>\n",
       "      <td>Communication Services</td>\n",
       "      <td>0</td>\n",
       "    </tr>\n",
       "  </tbody>\n",
       "</table>\n",
       "</div>"
      ],
      "text/plain": [
       "   No.  Symbol           Company Name  Market Cap  Revenue   \\\n",
       "0     1    AAPL             Apple Inc.   3,381.32B  391.04B   \n",
       "1     2    NVDA     NVIDIA Corporation   3,328.48B   96.31B   \n",
       "2     3    MSFT  Microsoft Corporation   3,060.49B  254.19B   \n",
       "3     4    GOOG          Alphabet Inc.   2,103.30B  339.86B   \n",
       "4     5   GOOGL          Alphabet Inc.   2,093.09B  339.86B   \n",
       "\n",
       "                  Sector   Labels  \n",
       "0              Technology       9  \n",
       "1              Technology       9  \n",
       "2              Technology       9  \n",
       "3  Communication Services       0  \n",
       "4  Communication Services       0  "
      ]
     },
     "execution_count": 3,
     "metadata": {},
     "output_type": "execute_result"
    }
   ],
   "source": [
    "labelDF.head()"
   ]
  },
  {
   "cell_type": "code",
   "execution_count": 4,
   "id": "ff4278a5-727e-4a01-a01c-c1c4d2f275ef",
   "metadata": {},
   "outputs": [
    {
     "data": {
      "text/plain": [
       "Index(['No. ', 'Symbol ', 'Company Name ', 'Market Cap ', 'Revenue ',\n",
       "       'Sector ', 'Labels'],\n",
       "      dtype='object')"
      ]
     },
     "execution_count": 4,
     "metadata": {},
     "output_type": "execute_result"
    }
   ],
   "source": [
    "labelDF.columns"
   ]
  },
  {
   "cell_type": "code",
   "execution_count": 5,
   "id": "e092bc4b-01b5-41ed-89e1-e7a1d14aa694",
   "metadata": {},
   "outputs": [],
   "source": [
    "syms = list(labelDF[\"Symbol \"])"
   ]
  },
  {
   "cell_type": "code",
   "execution_count": 6,
   "id": "f3d1840c-98c5-4d30-a579-72426bdbcae3",
   "metadata": {},
   "outputs": [
    {
     "name": "stderr",
     "output_type": "stream",
     "text": [
      "[*********************100%***********************]  503 of 503 completed\n"
     ]
    }
   ],
   "source": [
    "data = yf.download(syms, start=\"2024-10-01\", end=\"2024-11-01\", interval=\"60m\", group_by=\"ticker\")"
   ]
  },
  {
   "cell_type": "code",
   "execution_count": 7,
   "id": "64d9f37d-ad2f-4558-bccc-a4f3c9fd01ab",
   "metadata": {},
   "outputs": [],
   "source": [
    "fails = []\n",
    "for sym in syms:\n",
    "    try:\n",
    "        tempdf = data[sym]\n",
    "        filename = sym + \"_2024-10.csv\"\n",
    "        tempdf.to_csv(\"Data/\" + filename)\n",
    "    except:\n",
    "        fails.extend([sym])"
   ]
  },
  {
   "cell_type": "code",
   "execution_count": 8,
   "id": "05ed34ff-6e2c-4a6c-b232-a455f467e44b",
   "metadata": {},
   "outputs": [
    {
     "data": {
      "text/plain": [
       "[]"
      ]
     },
     "execution_count": 8,
     "metadata": {},
     "output_type": "execute_result"
    }
   ],
   "source": [
    "fails"
   ]
  },
  {
   "cell_type": "code",
   "execution_count": null,
   "id": "c0954f89-fcb4-41aa-9862-71c3a52971a5",
   "metadata": {},
   "outputs": [],
   "source": []
  }
 ],
 "metadata": {
  "kernelspec": {
   "display_name": "Python 3 (ipykernel)",
   "language": "python",
   "name": "python3"
  },
  "language_info": {
   "codemirror_mode": {
    "name": "ipython",
    "version": 3
   },
   "file_extension": ".py",
   "mimetype": "text/x-python",
   "name": "python",
   "nbconvert_exporter": "python",
   "pygments_lexer": "ipython3",
   "version": "3.12.4"
  }
 },
 "nbformat": 4,
 "nbformat_minor": 5
}
