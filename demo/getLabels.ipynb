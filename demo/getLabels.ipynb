{
 "cells": [
  {
   "cell_type": "code",
   "execution_count": 1,
   "id": "af2988c3-d880-40a6-8549-0097a4e5e057",
   "metadata": {},
   "outputs": [],
   "source": [
    "import numpy as np\n",
    "import pandas as pd\n",
    "import matplotlib.pyplot as plt"
   ]
  },
  {
   "cell_type": "code",
   "execution_count": 2,
   "id": "42da56b9-cffe-4d83-912b-1aaa1ff4e4f1",
   "metadata": {},
   "outputs": [],
   "source": [
    "labelDF = pd.read_csv(\"11-01-2024_GICS.csv\")"
   ]
  },
  {
   "cell_type": "code",
   "execution_count": 3,
   "id": "51ee650c-3f53-4b18-921a-f4fd35f1d05b",
   "metadata": {},
   "outputs": [],
   "source": [
    "labelDF.replace({\"BRK.B\":\"BRK-B\",\"BF.B\":\"BF-B\"}, inplace=True)"
   ]
  },
  {
   "cell_type": "code",
   "execution_count": 4,
   "id": "a2018c70-a45e-4f33-80ef-4ada50d1084c",
   "metadata": {},
   "outputs": [
    {
     "data": {
      "text/html": [
       "<div>\n",
       "<style scoped>\n",
       "    .dataframe tbody tr th:only-of-type {\n",
       "        vertical-align: middle;\n",
       "    }\n",
       "\n",
       "    .dataframe tbody tr th {\n",
       "        vertical-align: top;\n",
       "    }\n",
       "\n",
       "    .dataframe thead th {\n",
       "        text-align: right;\n",
       "    }\n",
       "</style>\n",
       "<table border=\"1\" class=\"dataframe\">\n",
       "  <thead>\n",
       "    <tr style=\"text-align: right;\">\n",
       "      <th></th>\n",
       "      <th>No.</th>\n",
       "      <th>Symbol</th>\n",
       "      <th>Company Name</th>\n",
       "      <th>Market Cap</th>\n",
       "      <th>Revenue</th>\n",
       "      <th>Sector</th>\n",
       "    </tr>\n",
       "  </thead>\n",
       "  <tbody>\n",
       "    <tr>\n",
       "      <th>0</th>\n",
       "      <td>1</td>\n",
       "      <td>AAPL</td>\n",
       "      <td>Apple Inc.</td>\n",
       "      <td>3,381.32B</td>\n",
       "      <td>391.04B</td>\n",
       "      <td>Technology</td>\n",
       "    </tr>\n",
       "    <tr>\n",
       "      <th>1</th>\n",
       "      <td>2</td>\n",
       "      <td>NVDA</td>\n",
       "      <td>NVIDIA Corporation</td>\n",
       "      <td>3,328.48B</td>\n",
       "      <td>96.31B</td>\n",
       "      <td>Technology</td>\n",
       "    </tr>\n",
       "    <tr>\n",
       "      <th>2</th>\n",
       "      <td>3</td>\n",
       "      <td>MSFT</td>\n",
       "      <td>Microsoft Corporation</td>\n",
       "      <td>3,060.49B</td>\n",
       "      <td>254.19B</td>\n",
       "      <td>Technology</td>\n",
       "    </tr>\n",
       "    <tr>\n",
       "      <th>3</th>\n",
       "      <td>4</td>\n",
       "      <td>GOOG</td>\n",
       "      <td>Alphabet Inc.</td>\n",
       "      <td>2,103.30B</td>\n",
       "      <td>339.86B</td>\n",
       "      <td>Communication Services</td>\n",
       "    </tr>\n",
       "    <tr>\n",
       "      <th>4</th>\n",
       "      <td>5</td>\n",
       "      <td>GOOGL</td>\n",
       "      <td>Alphabet Inc.</td>\n",
       "      <td>2,093.09B</td>\n",
       "      <td>339.86B</td>\n",
       "      <td>Communication Services</td>\n",
       "    </tr>\n",
       "  </tbody>\n",
       "</table>\n",
       "</div>"
      ],
      "text/plain": [
       "   No.  Symbol           Company Name  Market Cap  Revenue   \\\n",
       "0     1    AAPL             Apple Inc.   3,381.32B  391.04B   \n",
       "1     2    NVDA     NVIDIA Corporation   3,328.48B   96.31B   \n",
       "2     3    MSFT  Microsoft Corporation   3,060.49B  254.19B   \n",
       "3     4    GOOG          Alphabet Inc.   2,103.30B  339.86B   \n",
       "4     5   GOOGL          Alphabet Inc.   2,093.09B  339.86B   \n",
       "\n",
       "                  Sector   \n",
       "0              Technology  \n",
       "1              Technology  \n",
       "2              Technology  \n",
       "3  Communication Services  \n",
       "4  Communication Services  "
      ]
     },
     "execution_count": 4,
     "metadata": {},
     "output_type": "execute_result"
    }
   ],
   "source": [
    "labelDF.head()"
   ]
  },
  {
   "cell_type": "code",
   "execution_count": 5,
   "id": "ff4278a5-727e-4a01-a01c-c1c4d2f275ef",
   "metadata": {},
   "outputs": [
    {
     "data": {
      "text/plain": [
       "Index(['No. ', 'Symbol ', 'Company Name ', 'Market Cap ', 'Revenue ',\n",
       "       'Sector '],\n",
       "      dtype='object')"
      ]
     },
     "execution_count": 5,
     "metadata": {},
     "output_type": "execute_result"
    }
   ],
   "source": [
    "labelDF.columns"
   ]
  },
  {
   "cell_type": "code",
   "execution_count": 6,
   "id": "e092bc4b-01b5-41ed-89e1-e7a1d14aa694",
   "metadata": {},
   "outputs": [],
   "source": [
    "secs = list(labelDF[\"Sector \"])"
   ]
  },
  {
   "cell_type": "code",
   "execution_count": 7,
   "id": "f4089535-218c-4398-87d0-a563c7cd5f68",
   "metadata": {},
   "outputs": [
    {
     "data": {
      "text/plain": [
       "['Communication Services',\n",
       " 'Consumer Discretionary',\n",
       " 'Consumer Staples',\n",
       " 'Energy',\n",
       " 'Financials',\n",
       " 'Healthcare',\n",
       " 'Industrials',\n",
       " 'Materials',\n",
       " 'Real Estate',\n",
       " 'Technology',\n",
       " 'Utilities']"
      ]
     },
     "execution_count": 7,
     "metadata": {},
     "output_type": "execute_result"
    }
   ],
   "source": [
    "Secs = list(np.unique(secs))\n",
    "Secs"
   ]
  },
  {
   "cell_type": "code",
   "execution_count": 8,
   "id": "024f2f71-fa66-40a4-9ebe-e3a8925c5534",
   "metadata": {},
   "outputs": [],
   "source": [
    "labels = [i for i in range(len(Secs))]"
   ]
  },
  {
   "cell_type": "code",
   "execution_count": 9,
   "id": "46c70258-3f50-43cb-9491-5ade66298792",
   "metadata": {},
   "outputs": [
    {
     "data": {
      "text/plain": [
       "{'Communication Services': 0,\n",
       " 'Consumer Discretionary': 1,\n",
       " 'Consumer Staples': 2,\n",
       " 'Energy': 3,\n",
       " 'Financials': 4,\n",
       " 'Healthcare': 5,\n",
       " 'Industrials': 6,\n",
       " 'Materials': 7,\n",
       " 'Real Estate': 8,\n",
       " 'Technology': 9,\n",
       " 'Utilities': 10}"
      ]
     },
     "execution_count": 9,
     "metadata": {},
     "output_type": "execute_result"
    }
   ],
   "source": [
    "dic = {Secs[i]:i for i in labels}\n",
    "dic"
   ]
  },
  {
   "cell_type": "code",
   "execution_count": 10,
   "id": "b8f5b4cf-75c9-4fd3-aed4-0d9a39b6b45e",
   "metadata": {},
   "outputs": [],
   "source": [
    "Labels = [dic[sec] for sec in secs]"
   ]
  },
  {
   "cell_type": "code",
   "execution_count": 11,
   "id": "eae0cbcc-0868-4278-b130-95a8c01eb7c2",
   "metadata": {},
   "outputs": [],
   "source": [
    "labelDF[\"Labels\"] = Labels"
   ]
  },
  {
   "cell_type": "code",
   "execution_count": 12,
   "id": "e72b78cd-818e-4c59-ba4d-0cc32d055306",
   "metadata": {},
   "outputs": [
    {
     "data": {
      "text/html": [
       "<div>\n",
       "<style scoped>\n",
       "    .dataframe tbody tr th:only-of-type {\n",
       "        vertical-align: middle;\n",
       "    }\n",
       "\n",
       "    .dataframe tbody tr th {\n",
       "        vertical-align: top;\n",
       "    }\n",
       "\n",
       "    .dataframe thead th {\n",
       "        text-align: right;\n",
       "    }\n",
       "</style>\n",
       "<table border=\"1\" class=\"dataframe\">\n",
       "  <thead>\n",
       "    <tr style=\"text-align: right;\">\n",
       "      <th></th>\n",
       "      <th>No.</th>\n",
       "      <th>Symbol</th>\n",
       "      <th>Company Name</th>\n",
       "      <th>Market Cap</th>\n",
       "      <th>Revenue</th>\n",
       "      <th>Sector</th>\n",
       "      <th>Labels</th>\n",
       "    </tr>\n",
       "  </thead>\n",
       "  <tbody>\n",
       "    <tr>\n",
       "      <th>0</th>\n",
       "      <td>1</td>\n",
       "      <td>AAPL</td>\n",
       "      <td>Apple Inc.</td>\n",
       "      <td>3,381.32B</td>\n",
       "      <td>391.04B</td>\n",
       "      <td>Technology</td>\n",
       "      <td>9</td>\n",
       "    </tr>\n",
       "    <tr>\n",
       "      <th>1</th>\n",
       "      <td>2</td>\n",
       "      <td>NVDA</td>\n",
       "      <td>NVIDIA Corporation</td>\n",
       "      <td>3,328.48B</td>\n",
       "      <td>96.31B</td>\n",
       "      <td>Technology</td>\n",
       "      <td>9</td>\n",
       "    </tr>\n",
       "    <tr>\n",
       "      <th>2</th>\n",
       "      <td>3</td>\n",
       "      <td>MSFT</td>\n",
       "      <td>Microsoft Corporation</td>\n",
       "      <td>3,060.49B</td>\n",
       "      <td>254.19B</td>\n",
       "      <td>Technology</td>\n",
       "      <td>9</td>\n",
       "    </tr>\n",
       "    <tr>\n",
       "      <th>3</th>\n",
       "      <td>4</td>\n",
       "      <td>GOOG</td>\n",
       "      <td>Alphabet Inc.</td>\n",
       "      <td>2,103.30B</td>\n",
       "      <td>339.86B</td>\n",
       "      <td>Communication Services</td>\n",
       "      <td>0</td>\n",
       "    </tr>\n",
       "    <tr>\n",
       "      <th>4</th>\n",
       "      <td>5</td>\n",
       "      <td>GOOGL</td>\n",
       "      <td>Alphabet Inc.</td>\n",
       "      <td>2,093.09B</td>\n",
       "      <td>339.86B</td>\n",
       "      <td>Communication Services</td>\n",
       "      <td>0</td>\n",
       "    </tr>\n",
       "  </tbody>\n",
       "</table>\n",
       "</div>"
      ],
      "text/plain": [
       "   No.  Symbol           Company Name  Market Cap  Revenue   \\\n",
       "0     1    AAPL             Apple Inc.   3,381.32B  391.04B   \n",
       "1     2    NVDA     NVIDIA Corporation   3,328.48B   96.31B   \n",
       "2     3    MSFT  Microsoft Corporation   3,060.49B  254.19B   \n",
       "3     4    GOOG          Alphabet Inc.   2,103.30B  339.86B   \n",
       "4     5   GOOGL          Alphabet Inc.   2,093.09B  339.86B   \n",
       "\n",
       "                  Sector   Labels  \n",
       "0              Technology       9  \n",
       "1              Technology       9  \n",
       "2              Technology       9  \n",
       "3  Communication Services       0  \n",
       "4  Communication Services       0  "
      ]
     },
     "execution_count": 12,
     "metadata": {},
     "output_type": "execute_result"
    }
   ],
   "source": [
    "labelDF.head()"
   ]
  },
  {
   "cell_type": "code",
   "execution_count": 13,
   "id": "b207d68e-3710-44d7-851e-ad0a9d6b7af2",
   "metadata": {},
   "outputs": [],
   "source": [
    "labelDF.to_csv(\"Labeled_11-01-2024_GICS.csv\", index=False)"
   ]
  },
  {
   "cell_type": "code",
   "execution_count": null,
   "id": "b8d84dba-0c84-4183-b94c-4643cdf379e1",
   "metadata": {},
   "outputs": [],
   "source": []
  }
 ],
 "metadata": {
  "kernelspec": {
   "display_name": "Python 3 (ipykernel)",
   "language": "python",
   "name": "python3"
  },
  "language_info": {
   "codemirror_mode": {
    "name": "ipython",
    "version": 3
   },
   "file_extension": ".py",
   "mimetype": "text/x-python",
   "name": "python",
   "nbconvert_exporter": "python",
   "pygments_lexer": "ipython3",
   "version": "3.12.4"
  }
 },
 "nbformat": 4,
 "nbformat_minor": 5
}
