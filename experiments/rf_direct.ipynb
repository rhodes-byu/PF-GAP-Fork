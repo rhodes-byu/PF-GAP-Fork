{
 "cells": [
  {
   "cell_type": "markdown",
   "id": "fbc2f8ea",
   "metadata": {},
   "source": [
    "# This file is seeing what we get when we just apply the Random Forest directly to the Time Series"
   ]
  },
  {
   "cell_type": "code",
   "execution_count": null,
   "id": "e509c9af",
   "metadata": {},
   "outputs": [],
   "source": [
    "# Imports\n"
   ]
  }
 ],
 "metadata": {
  "kernelspec": {
   "display_name": ".venv",
   "language": "python",
   "name": "python3"
  },
  "language_info": {
   "name": "python",
   "version": "3.10.12"
  }
 },
 "nbformat": 4,
 "nbformat_minor": 5
}
