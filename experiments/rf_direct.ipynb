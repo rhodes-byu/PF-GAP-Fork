{
 "cells": [
  {
   "cell_type": "markdown",
   "id": "fbc2f8ea",
   "metadata": {},
   "source": [
    "# This file is seeing what we get when we just apply the Random Forest directly to the Time Series"
   ]
  },
  {
   "cell_type": "code",
   "execution_count": 7,
   "id": "e509c9af",
   "metadata": {},
   "outputs": [],
   "source": [
    "# Imports\n",
    "import sys\n",
    "import pandas as pd\n",
    "import numpy as np\n",
    "from rfgap import RFGAP\n",
    "\n",
    "\n",
    "# Get the data\n",
    "sys.path.insert(0, '/yunity/arusty/PF-GAP')\n",
    "\n",
    "static2024 = pd.read_csv('../data/static2024.csv')\n",
    "time_series = pd.read_csv('../data/time_series.csv')\n",
    "labels = pd.read_csv('../data/labels.csv')\n"
   ]
  },
  {
   "cell_type": "code",
   "execution_count": 8,
   "id": "42dbce74",
   "metadata": {},
   "outputs": [
    {
     "data": {
      "text/plain": [
       "((503, 11), (503, 829))"
      ]
     },
     "execution_count": 8,
     "metadata": {},
     "output_type": "execute_result"
    }
   ],
   "source": [
    "# Combine the static data with the time series data\n",
    "static2024.shape, time_series.shape"
   ]
  },
  {
   "cell_type": "code",
   "execution_count": null,
   "id": "3bab1b08",
   "metadata": {},
   "outputs": [],
   "source": [
    "RFGAP(prediction_type=\"classification\", y = labels,)"
   ]
  }
 ],
 "metadata": {
  "kernelspec": {
   "display_name": ".venv",
   "language": "python",
   "name": "python3"
  },
  "language_info": {
   "codemirror_mode": {
    "name": "ipython",
    "version": 3
   },
   "file_extension": ".py",
   "mimetype": "text/x-python",
   "name": "python",
   "nbconvert_exporter": "python",
   "pygments_lexer": "ipython3",
   "version": "3.12.3"
  }
 },
 "nbformat": 4,
 "nbformat_minor": 5
}
