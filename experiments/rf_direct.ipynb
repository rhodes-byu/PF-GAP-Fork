{
 "cells": [
  {
   "cell_type": "markdown",
   "id": "fbc2f8ea",
   "metadata": {},
   "source": [
    "# This file is seeing what we get when we just apply the Random Forest directly to the Time Series"
   ]
  },
  {
   "cell_type": "code",
   "execution_count": 7,
   "id": "e509c9af",
   "metadata": {},
   "outputs": [],
   "source": [
    "# Imports\n",
    "import sys\n",
    "import pandas as pd\n",
    "import numpy as np\n",
    "from rfgap import RFGAP\n",
    "\n",
    "\n",
    "# Get the data\n",
    "sys.path.insert(0, '/yunity/arusty/PF-GAP')\n",
    "\n",
    "static2024 = pd.read_csv('../data/static2024.csv')\n",
    "time_series = pd.read_csv('../data/time_series.csv')\n",
    "labels = pd.read_csv('../data/labels.csv')\n"
   ]
  },
  {
   "cell_type": "code",
   "execution_count": 8,
   "id": "42dbce74",
   "metadata": {},
   "outputs": [
    {
     "data": {
      "text/plain": [
       "((503, 11), (503, 829))"
      ]
     },
     "execution_count": 8,
     "metadata": {},
     "output_type": "execute_result"
    }
   ],
   "source": [
    "# Combine the static data with the time series data\n",
    "static2024.shape, time_series.shape"
   ]
  },
  {
   "cell_type": "code",
   "execution_count": 10,
   "id": "78304481",
   "metadata": {},
   "outputs": [
    {
     "data": {
      "text/plain": [
       "(503, 840)"
      ]
     },
     "execution_count": 10,
     "metadata": {},
     "output_type": "execute_result"
    }
   ],
   "source": [
    "train = np.concat([static2024, time_series], axis=1)\n",
    "train.shape"
   ]
  },
  {
   "cell_type": "code",
   "execution_count": 15,
   "id": "3bab1b08",
   "metadata": {},
   "outputs": [
    {
     "name": "stderr",
     "output_type": "stream",
     "text": [
      "/yunity/arusty/PF-GAP/.venv/lib/python3.12/site-packages/sklearn/base.py:1473: DataConversionWarning: A column-vector y was passed when a 1d array was expected. Please change the shape of y to (n_samples,), for example using ravel().\n",
      "  return fit_method(estimator, *args, **kwargs)\n"
     ]
    }
   ],
   "source": [
    "rfgap = RFGAP(prediction_type=\"classification\", y = labels, oob_score = True)\n",
    "rfgap.fit(train, labels)"
   ]
  },
  {
   "cell_type": "code",
   "execution_count": 17,
   "id": "1d01c545",
   "metadata": {},
   "outputs": [
    {
     "data": {
      "text/plain": [
       "0.7912524850894632"
      ]
     },
     "execution_count": 17,
     "metadata": {},
     "output_type": "execute_result"
    }
   ],
   "source": [
    "rfgap.oob_score_"
   ]
  },
  {
   "cell_type": "code",
   "execution_count": null,
   "id": "cb5509ae",
   "metadata": {},
   "outputs": [],
   "source": []
  }
 ],
 "metadata": {
  "kernelspec": {
   "display_name": ".venv",
   "language": "python",
   "name": "python3"
  },
  "language_info": {
   "codemirror_mode": {
    "name": "ipython",
    "version": 3
   },
   "file_extension": ".py",
   "mimetype": "text/x-python",
   "name": "python",
   "nbconvert_exporter": "python",
   "pygments_lexer": "ipython3",
   "version": "3.12.3"
  }
 },
 "nbformat": 4,
 "nbformat_minor": 5
}
