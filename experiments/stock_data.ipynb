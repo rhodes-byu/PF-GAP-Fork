{
 "cells": [
  {
   "cell_type": "code",
   "execution_count": 1,
   "id": "0db7df70",
   "metadata": {},
   "outputs": [],
   "source": [
    "import sys\n",
    "sys.path.insert(0, '/yunity/arusty/PF-GAP')\n",
    "\n",
    "#Import libraries, MDS from SKlearn, and all the custom files\n",
    "import pandas as pd\n",
    "import matplotlib.pyplot as plt\n",
    "from Pipeline.functions import *\n",
    "\n",
    "#Functions\n",
    "from QGAP.qgap import QGAP\n",
    "from Redcomets.Redcomets import REDCOMETS\n",
    "# from RFGAP_Rocket.RFGAP_Rocket import RFGAP_Rocket\n",
    "# from RDST.rdst import RDST_GAP"
   ]
  },
  {
   "cell_type": "code",
   "execution_count": 2,
   "id": "dd7f0a89",
   "metadata": {},
   "outputs": [
    {
     "data": {
      "application/vnd.microsoft.datawrangler.viewer.v0+json": {
       "columns": [
        {
         "name": "index",
         "rawType": "int64",
         "type": "integer"
        },
        {
         "name": "Ticker",
         "rawType": "object",
         "type": "string"
        },
        {
         "name": "Year",
         "rawType": "int64",
         "type": "integer"
        },
        {
         "name": "PE Ratio",
         "rawType": "float64",
         "type": "float"
        },
        {
         "name": "PB Ratio",
         "rawType": "float64",
         "type": "float"
        },
        {
         "name": "PS Ratio",
         "rawType": "float64",
         "type": "float"
        },
        {
         "name": "ROE",
         "rawType": "float64",
         "type": "float"
        },
        {
         "name": "ROA",
         "rawType": "float64",
         "type": "float"
        },
        {
         "name": "Debt/Equity",
         "rawType": "float64",
         "type": "float"
        },
        {
         "name": "Current Ratio",
         "rawType": "float64",
         "type": "float"
        },
        {
         "name": "Profit Margin",
         "rawType": "float64",
         "type": "float"
        },
        {
         "name": "Revenue Growth YoY",
         "rawType": "float64",
         "type": "float"
        },
        {
         "name": "EPS Growth Next 5Y",
         "rawType": "float64",
         "type": "float"
        },
        {
         "name": "Market Cap",
         "rawType": "int64",
         "type": "integer"
        }
       ],
       "conversionMethod": "pd.DataFrame",
       "ref": "59ed25ce-4599-4290-a42f-b7b5edcdcb5c",
       "rows": [
        [
         "0",
         "MMM",
         "2024",
         "17.295145",
         "16.742617",
         "3.0490997",
         "1.086153045288912",
         "0.1046704123607906",
         "312.492",
         "1.657",
         "0.1698067141403865",
         "-0.01",
         "0.221",
         "74742579200"
        ],
        [
         "1",
         "MMM",
         "2023",
         "17.295145",
         "16.742617",
         "3.0490997",
         "-1.4551695444143955",
         "-0.1382957690786872",
         "312.492",
         "1.657",
         "-0.2842340511986997",
         "-0.01",
         "0.221",
         "74742579200"
        ],
        [
         "2",
         "MMM",
         "2022",
         "17.295145",
         "16.742617",
         "3.0490997",
         "0.3924059231082733",
         "0.1243569045312668",
         "312.492",
         "1.657",
         "0.2208248920148312",
         "-0.01",
         "0.221",
         "74742579200"
        ],
        [
         "3",
         "AOS",
         "2024",
         "17.988981",
         "5.0034485",
         "2.4547403",
         "0.2833023626227767",
         "0.1646913580246913",
         "12.132",
         "1.552",
         "0.1397553757104319",
         "-0.077",
         "-0.181",
         "9372443648"
        ],
        [
         "4",
         "AOS",
         "2023",
         "17.988981",
         "5.0034485",
         "2.4547403",
         "0.3017783561049664",
         "0.173185226671645",
         "12.132",
         "1.552",
         "0.1444663621262458",
         "-0.077",
         "-0.181",
         "9372443648"
        ]
       ],
       "shape": {
        "columns": 13,
        "rows": 5
       }
      },
      "text/html": [
       "<div>\n",
       "<style scoped>\n",
       "    .dataframe tbody tr th:only-of-type {\n",
       "        vertical-align: middle;\n",
       "    }\n",
       "\n",
       "    .dataframe tbody tr th {\n",
       "        vertical-align: top;\n",
       "    }\n",
       "\n",
       "    .dataframe thead th {\n",
       "        text-align: right;\n",
       "    }\n",
       "</style>\n",
       "<table border=\"1\" class=\"dataframe\">\n",
       "  <thead>\n",
       "    <tr style=\"text-align: right;\">\n",
       "      <th></th>\n",
       "      <th>Ticker</th>\n",
       "      <th>Year</th>\n",
       "      <th>PE Ratio</th>\n",
       "      <th>PB Ratio</th>\n",
       "      <th>PS Ratio</th>\n",
       "      <th>ROE</th>\n",
       "      <th>ROA</th>\n",
       "      <th>Debt/Equity</th>\n",
       "      <th>Current Ratio</th>\n",
       "      <th>Profit Margin</th>\n",
       "      <th>Revenue Growth YoY</th>\n",
       "      <th>EPS Growth Next 5Y</th>\n",
       "      <th>Market Cap</th>\n",
       "    </tr>\n",
       "  </thead>\n",
       "  <tbody>\n",
       "    <tr>\n",
       "      <th>0</th>\n",
       "      <td>MMM</td>\n",
       "      <td>2024</td>\n",
       "      <td>17.295145</td>\n",
       "      <td>16.742617</td>\n",
       "      <td>3.04910</td>\n",
       "      <td>1.086153</td>\n",
       "      <td>0.104670</td>\n",
       "      <td>312.492</td>\n",
       "      <td>1.657</td>\n",
       "      <td>0.169807</td>\n",
       "      <td>-0.010</td>\n",
       "      <td>0.221</td>\n",
       "      <td>74742579200</td>\n",
       "    </tr>\n",
       "    <tr>\n",
       "      <th>1</th>\n",
       "      <td>MMM</td>\n",
       "      <td>2023</td>\n",
       "      <td>17.295145</td>\n",
       "      <td>16.742617</td>\n",
       "      <td>3.04910</td>\n",
       "      <td>-1.455170</td>\n",
       "      <td>-0.138296</td>\n",
       "      <td>312.492</td>\n",
       "      <td>1.657</td>\n",
       "      <td>-0.284234</td>\n",
       "      <td>-0.010</td>\n",
       "      <td>0.221</td>\n",
       "      <td>74742579200</td>\n",
       "    </tr>\n",
       "    <tr>\n",
       "      <th>2</th>\n",
       "      <td>MMM</td>\n",
       "      <td>2022</td>\n",
       "      <td>17.295145</td>\n",
       "      <td>16.742617</td>\n",
       "      <td>3.04910</td>\n",
       "      <td>0.392406</td>\n",
       "      <td>0.124357</td>\n",
       "      <td>312.492</td>\n",
       "      <td>1.657</td>\n",
       "      <td>0.220825</td>\n",
       "      <td>-0.010</td>\n",
       "      <td>0.221</td>\n",
       "      <td>74742579200</td>\n",
       "    </tr>\n",
       "    <tr>\n",
       "      <th>3</th>\n",
       "      <td>AOS</td>\n",
       "      <td>2024</td>\n",
       "      <td>17.988981</td>\n",
       "      <td>5.003449</td>\n",
       "      <td>2.45474</td>\n",
       "      <td>0.283302</td>\n",
       "      <td>0.164691</td>\n",
       "      <td>12.132</td>\n",
       "      <td>1.552</td>\n",
       "      <td>0.139755</td>\n",
       "      <td>-0.077</td>\n",
       "      <td>-0.181</td>\n",
       "      <td>9372443648</td>\n",
       "    </tr>\n",
       "    <tr>\n",
       "      <th>4</th>\n",
       "      <td>AOS</td>\n",
       "      <td>2023</td>\n",
       "      <td>17.988981</td>\n",
       "      <td>5.003449</td>\n",
       "      <td>2.45474</td>\n",
       "      <td>0.301778</td>\n",
       "      <td>0.173185</td>\n",
       "      <td>12.132</td>\n",
       "      <td>1.552</td>\n",
       "      <td>0.144466</td>\n",
       "      <td>-0.077</td>\n",
       "      <td>-0.181</td>\n",
       "      <td>9372443648</td>\n",
       "    </tr>\n",
       "  </tbody>\n",
       "</table>\n",
       "</div>"
      ],
      "text/plain": [
       "  Ticker  Year   PE Ratio   PB Ratio  PS Ratio       ROE       ROA  \\\n",
       "0    MMM  2024  17.295145  16.742617   3.04910  1.086153  0.104670   \n",
       "1    MMM  2023  17.295145  16.742617   3.04910 -1.455170 -0.138296   \n",
       "2    MMM  2022  17.295145  16.742617   3.04910  0.392406  0.124357   \n",
       "3    AOS  2024  17.988981   5.003449   2.45474  0.283302  0.164691   \n",
       "4    AOS  2023  17.988981   5.003449   2.45474  0.301778  0.173185   \n",
       "\n",
       "   Debt/Equity  Current Ratio  Profit Margin  Revenue Growth YoY  \\\n",
       "0      312.492          1.657       0.169807              -0.010   \n",
       "1      312.492          1.657      -0.284234              -0.010   \n",
       "2      312.492          1.657       0.220825              -0.010   \n",
       "3       12.132          1.552       0.139755              -0.077   \n",
       "4       12.132          1.552       0.144466              -0.077   \n",
       "\n",
       "   EPS Growth Next 5Y   Market Cap  \n",
       "0               0.221  74742579200  \n",
       "1               0.221  74742579200  \n",
       "2               0.221  74742579200  \n",
       "3              -0.181   9372443648  \n",
       "4              -0.181   9372443648  "
      ]
     },
     "execution_count": 2,
     "metadata": {},
     "output_type": "execute_result"
    }
   ],
   "source": [
    "static_data = pd.read_csv(\"/yunity/arusty/PF-GAP/data/sp500_fundamentals_combined.csv\")\n",
    "time_series = pd.read_csv(\"/yunity/arusty/PF-GAP/data/sp500_daily_returns_since_2022.csv\")\n",
    "stock_data = pd.read_csv(\"/yunity/arusty/PF-GAP/data/Labeled_11-01-2024_GICS.csv\")\n",
    "\n",
    "static_data.head()"
   ]
  },
  {
   "cell_type": "code",
   "execution_count": 3,
   "id": "54df7d16",
   "metadata": {},
   "outputs": [
    {
     "data": {
      "application/vnd.microsoft.datawrangler.viewer.v0+json": {
       "columns": [
        {
         "name": "index",
         "rawType": "object",
         "type": "string"
        },
        {
         "name": "0",
         "rawType": "float64",
         "type": "float"
        },
        {
         "name": "1",
         "rawType": "float64",
         "type": "float"
        },
        {
         "name": "2",
         "rawType": "float64",
         "type": "float"
        },
        {
         "name": "3",
         "rawType": "float64",
         "type": "float"
        },
        {
         "name": "4",
         "rawType": "float64",
         "type": "float"
        },
        {
         "name": "5",
         "rawType": "float64",
         "type": "float"
        },
        {
         "name": "6",
         "rawType": "float64",
         "type": "float"
        },
        {
         "name": "7",
         "rawType": "float64",
         "type": "float"
        },
        {
         "name": "8",
         "rawType": "float64",
         "type": "float"
        },
        {
         "name": "9",
         "rawType": "float64",
         "type": "float"
        },
        {
         "name": "10",
         "rawType": "float64",
         "type": "float"
        },
        {
         "name": "11",
         "rawType": "float64",
         "type": "float"
        },
        {
         "name": "12",
         "rawType": "float64",
         "type": "float"
        },
        {
         "name": "13",
         "rawType": "float64",
         "type": "float"
        },
        {
         "name": "14",
         "rawType": "float64",
         "type": "float"
        },
        {
         "name": "15",
         "rawType": "float64",
         "type": "float"
        },
        {
         "name": "16",
         "rawType": "float64",
         "type": "float"
        },
        {
         "name": "17",
         "rawType": "float64",
         "type": "float"
        },
        {
         "name": "18",
         "rawType": "float64",
         "type": "float"
        },
        {
         "name": "19",
         "rawType": "float64",
         "type": "float"
        },
        {
         "name": "20",
         "rawType": "float64",
         "type": "float"
        },
        {
         "name": "21",
         "rawType": "float64",
         "type": "float"
        },
        {
         "name": "22",
         "rawType": "float64",
         "type": "float"
        },
        {
         "name": "23",
         "rawType": "float64",
         "type": "float"
        },
        {
         "name": "24",
         "rawType": "float64",
         "type": "float"
        },
        {
         "name": "25",
         "rawType": "float64",
         "type": "float"
        },
        {
         "name": "26",
         "rawType": "float64",
         "type": "float"
        },
        {
         "name": "27",
         "rawType": "float64",
         "type": "float"
        },
        {
         "name": "28",
         "rawType": "float64",
         "type": "float"
        },
        {
         "name": "29",
         "rawType": "float64",
         "type": "float"
        },
        {
         "name": "30",
         "rawType": "float64",
         "type": "float"
        },
        {
         "name": "31",
         "rawType": "float64",
         "type": "float"
        },
        {
         "name": "32",
         "rawType": "float64",
         "type": "float"
        },
        {
         "name": "33",
         "rawType": "float64",
         "type": "float"
        },
        {
         "name": "34",
         "rawType": "float64",
         "type": "float"
        },
        {
         "name": "35",
         "rawType": "float64",
         "type": "float"
        },
        {
         "name": "36",
         "rawType": "float64",
         "type": "float"
        },
        {
         "name": "37",
         "rawType": "float64",
         "type": "float"
        },
        {
         "name": "38",
         "rawType": "float64",
         "type": "float"
        },
        {
         "name": "39",
         "rawType": "float64",
         "type": "float"
        },
        {
         "name": "40",
         "rawType": "float64",
         "type": "float"
        },
        {
         "name": "41",
         "rawType": "float64",
         "type": "float"
        },
        {
         "name": "42",
         "rawType": "float64",
         "type": "float"
        },
        {
         "name": "43",
         "rawType": "float64",
         "type": "float"
        },
        {
         "name": "44",
         "rawType": "float64",
         "type": "float"
        },
        {
         "name": "45",
         "rawType": "float64",
         "type": "float"
        },
        {
         "name": "46",
         "rawType": "float64",
         "type": "float"
        },
        {
         "name": "47",
         "rawType": "float64",
         "type": "float"
        },
        {
         "name": "48",
         "rawType": "float64",
         "type": "float"
        },
        {
         "name": "49",
         "rawType": "float64",
         "type": "float"
        },
        {
         "name": "50",
         "rawType": "float64",
         "type": "float"
        },
        {
         "name": "51",
         "rawType": "float64",
         "type": "float"
        },
        {
         "name": "52",
         "rawType": "float64",
         "type": "float"
        },
        {
         "name": "53",
         "rawType": "float64",
         "type": "float"
        },
        {
         "name": "54",
         "rawType": "float64",
         "type": "float"
        },
        {
         "name": "55",
         "rawType": "float64",
         "type": "float"
        },
        {
         "name": "56",
         "rawType": "float64",
         "type": "float"
        },
        {
         "name": "57",
         "rawType": "float64",
         "type": "float"
        },
        {
         "name": "58",
         "rawType": "float64",
         "type": "float"
        },
        {
         "name": "59",
         "rawType": "float64",
         "type": "float"
        },
        {
         "name": "60",
         "rawType": "float64",
         "type": "float"
        },
        {
         "name": "61",
         "rawType": "float64",
         "type": "float"
        },
        {
         "name": "62",
         "rawType": "float64",
         "type": "float"
        },
        {
         "name": "63",
         "rawType": "float64",
         "type": "float"
        },
        {
         "name": "64",
         "rawType": "float64",
         "type": "float"
        },
        {
         "name": "65",
         "rawType": "float64",
         "type": "float"
        },
        {
         "name": "66",
         "rawType": "float64",
         "type": "float"
        },
        {
         "name": "67",
         "rawType": "float64",
         "type": "float"
        },
        {
         "name": "68",
         "rawType": "float64",
         "type": "float"
        },
        {
         "name": "69",
         "rawType": "float64",
         "type": "float"
        },
        {
         "name": "70",
         "rawType": "float64",
         "type": "float"
        },
        {
         "name": "71",
         "rawType": "float64",
         "type": "float"
        },
        {
         "name": "72",
         "rawType": "float64",
         "type": "float"
        },
        {
         "name": "73",
         "rawType": "float64",
         "type": "float"
        },
        {
         "name": "74",
         "rawType": "float64",
         "type": "float"
        },
        {
         "name": "75",
         "rawType": "float64",
         "type": "float"
        },
        {
         "name": "76",
         "rawType": "float64",
         "type": "float"
        },
        {
         "name": "77",
         "rawType": "float64",
         "type": "float"
        },
        {
         "name": "78",
         "rawType": "float64",
         "type": "float"
        },
        {
         "name": "79",
         "rawType": "float64",
         "type": "float"
        },
        {
         "name": "80",
         "rawType": "float64",
         "type": "float"
        },
        {
         "name": "81",
         "rawType": "float64",
         "type": "float"
        },
        {
         "name": "82",
         "rawType": "float64",
         "type": "float"
        },
        {
         "name": "83",
         "rawType": "float64",
         "type": "float"
        },
        {
         "name": "84",
         "rawType": "float64",
         "type": "float"
        },
        {
         "name": "85",
         "rawType": "float64",
         "type": "float"
        },
        {
         "name": "86",
         "rawType": "float64",
         "type": "float"
        },
        {
         "name": "87",
         "rawType": "float64",
         "type": "float"
        },
        {
         "name": "88",
         "rawType": "float64",
         "type": "float"
        },
        {
         "name": "89",
         "rawType": "float64",
         "type": "float"
        },
        {
         "name": "90",
         "rawType": "float64",
         "type": "float"
        },
        {
         "name": "91",
         "rawType": "float64",
         "type": "float"
        },
        {
         "name": "92",
         "rawType": "float64",
         "type": "float"
        },
        {
         "name": "93",
         "rawType": "float64",
         "type": "float"
        },
        {
         "name": "94",
         "rawType": "float64",
         "type": "float"
        },
        {
         "name": "95",
         "rawType": "float64",
         "type": "float"
        },
        {
         "name": "96",
         "rawType": "float64",
         "type": "float"
        },
        {
         "name": "97",
         "rawType": "float64",
         "type": "float"
        },
        {
         "name": "98",
         "rawType": "float64",
         "type": "float"
        },
        {
         "name": "99",
         "rawType": "float64",
         "type": "float"
        },
        {
         "name": "100",
         "rawType": "float64",
         "type": "float"
        },
        {
         "name": "101",
         "rawType": "float64",
         "type": "float"
        },
        {
         "name": "102",
         "rawType": "float64",
         "type": "float"
        },
        {
         "name": "103",
         "rawType": "float64",
         "type": "float"
        },
        {
         "name": "104",
         "rawType": "float64",
         "type": "float"
        },
        {
         "name": "105",
         "rawType": "float64",
         "type": "float"
        },
        {
         "name": "106",
         "rawType": "float64",
         "type": "float"
        },
        {
         "name": "107",
         "rawType": "float64",
         "type": "float"
        },
        {
         "name": "108",
         "rawType": "float64",
         "type": "float"
        },
        {
         "name": "109",
         "rawType": "float64",
         "type": "float"
        },
        {
         "name": "110",
         "rawType": "float64",
         "type": "float"
        },
        {
         "name": "111",
         "rawType": "float64",
         "type": "float"
        },
        {
         "name": "112",
         "rawType": "float64",
         "type": "float"
        },
        {
         "name": "113",
         "rawType": "float64",
         "type": "float"
        },
        {
         "name": "114",
         "rawType": "float64",
         "type": "float"
        },
        {
         "name": "115",
         "rawType": "float64",
         "type": "float"
        },
        {
         "name": "116",
         "rawType": "float64",
         "type": "float"
        },
        {
         "name": "117",
         "rawType": "float64",
         "type": "float"
        },
        {
         "name": "118",
         "rawType": "float64",
         "type": "float"
        },
        {
         "name": "119",
         "rawType": "float64",
         "type": "float"
        },
        {
         "name": "120",
         "rawType": "float64",
         "type": "float"
        },
        {
         "name": "121",
         "rawType": "float64",
         "type": "float"
        },
        {
         "name": "122",
         "rawType": "float64",
         "type": "float"
        },
        {
         "name": "123",
         "rawType": "float64",
         "type": "float"
        },
        {
         "name": "124",
         "rawType": "float64",
         "type": "float"
        },
        {
         "name": "125",
         "rawType": "float64",
         "type": "float"
        },
        {
         "name": "126",
         "rawType": "float64",
         "type": "float"
        },
        {
         "name": "127",
         "rawType": "float64",
         "type": "float"
        },
        {
         "name": "128",
         "rawType": "float64",
         "type": "float"
        },
        {
         "name": "129",
         "rawType": "float64",
         "type": "float"
        },
        {
         "name": "130",
         "rawType": "float64",
         "type": "float"
        },
        {
         "name": "131",
         "rawType": "float64",
         "type": "float"
        },
        {
         "name": "132",
         "rawType": "float64",
         "type": "float"
        },
        {
         "name": "133",
         "rawType": "float64",
         "type": "float"
        },
        {
         "name": "134",
         "rawType": "float64",
         "type": "float"
        },
        {
         "name": "135",
         "rawType": "float64",
         "type": "float"
        },
        {
         "name": "136",
         "rawType": "float64",
         "type": "float"
        },
        {
         "name": "137",
         "rawType": "float64",
         "type": "float"
        },
        {
         "name": "138",
         "rawType": "float64",
         "type": "float"
        },
        {
         "name": "139",
         "rawType": "float64",
         "type": "float"
        },
        {
         "name": "140",
         "rawType": "float64",
         "type": "float"
        },
        {
         "name": "141",
         "rawType": "float64",
         "type": "float"
        },
        {
         "name": "142",
         "rawType": "float64",
         "type": "float"
        },
        {
         "name": "143",
         "rawType": "float64",
         "type": "float"
        },
        {
         "name": "144",
         "rawType": "float64",
         "type": "float"
        },
        {
         "name": "145",
         "rawType": "float64",
         "type": "float"
        },
        {
         "name": "146",
         "rawType": "float64",
         "type": "float"
        },
        {
         "name": "147",
         "rawType": "float64",
         "type": "float"
        },
        {
         "name": "148",
         "rawType": "float64",
         "type": "float"
        },
        {
         "name": "149",
         "rawType": "float64",
         "type": "float"
        },
        {
         "name": "150",
         "rawType": "float64",
         "type": "float"
        },
        {
         "name": "151",
         "rawType": "float64",
         "type": "float"
        },
        {
         "name": "152",
         "rawType": "float64",
         "type": "float"
        },
        {
         "name": "153",
         "rawType": "float64",
         "type": "float"
        },
        {
         "name": "154",
         "rawType": "float64",
         "type": "float"
        },
        {
         "name": "155",
         "rawType": "float64",
         "type": "float"
        },
        {
         "name": "156",
         "rawType": "float64",
         "type": "float"
        },
        {
         "name": "157",
         "rawType": "float64",
         "type": "float"
        },
        {
         "name": "158",
         "rawType": "float64",
         "type": "float"
        },
        {
         "name": "159",
         "rawType": "float64",
         "type": "float"
        },
        {
         "name": "160",
         "rawType": "float64",
         "type": "float"
        },
        {
         "name": "161",
         "rawType": "float64",
         "type": "float"
        },
        {
         "name": "162",
         "rawType": "float64",
         "type": "float"
        },
        {
         "name": "163",
         "rawType": "float64",
         "type": "float"
        },
        {
         "name": "164",
         "rawType": "float64",
         "type": "float"
        },
        {
         "name": "165",
         "rawType": "float64",
         "type": "float"
        },
        {
         "name": "166",
         "rawType": "float64",
         "type": "float"
        },
        {
         "name": "167",
         "rawType": "float64",
         "type": "float"
        },
        {
         "name": "168",
         "rawType": "float64",
         "type": "float"
        },
        {
         "name": "169",
         "rawType": "float64",
         "type": "float"
        },
        {
         "name": "170",
         "rawType": "float64",
         "type": "float"
        },
        {
         "name": "171",
         "rawType": "float64",
         "type": "float"
        },
        {
         "name": "172",
         "rawType": "float64",
         "type": "float"
        },
        {
         "name": "173",
         "rawType": "float64",
         "type": "float"
        },
        {
         "name": "174",
         "rawType": "float64",
         "type": "float"
        },
        {
         "name": "175",
         "rawType": "float64",
         "type": "float"
        },
        {
         "name": "176",
         "rawType": "float64",
         "type": "float"
        },
        {
         "name": "177",
         "rawType": "float64",
         "type": "float"
        },
        {
         "name": "178",
         "rawType": "float64",
         "type": "float"
        },
        {
         "name": "179",
         "rawType": "float64",
         "type": "float"
        },
        {
         "name": "180",
         "rawType": "float64",
         "type": "float"
        },
        {
         "name": "181",
         "rawType": "float64",
         "type": "float"
        },
        {
         "name": "182",
         "rawType": "float64",
         "type": "float"
        },
        {
         "name": "183",
         "rawType": "float64",
         "type": "float"
        },
        {
         "name": "184",
         "rawType": "float64",
         "type": "float"
        },
        {
         "name": "185",
         "rawType": "float64",
         "type": "float"
        },
        {
         "name": "186",
         "rawType": "float64",
         "type": "float"
        },
        {
         "name": "187",
         "rawType": "float64",
         "type": "float"
        },
        {
         "name": "188",
         "rawType": "float64",
         "type": "float"
        },
        {
         "name": "189",
         "rawType": "float64",
         "type": "float"
        },
        {
         "name": "190",
         "rawType": "float64",
         "type": "float"
        },
        {
         "name": "191",
         "rawType": "float64",
         "type": "float"
        },
        {
         "name": "192",
         "rawType": "float64",
         "type": "float"
        },
        {
         "name": "193",
         "rawType": "float64",
         "type": "float"
        },
        {
         "name": "194",
         "rawType": "float64",
         "type": "float"
        },
        {
         "name": "195",
         "rawType": "float64",
         "type": "float"
        },
        {
         "name": "196",
         "rawType": "float64",
         "type": "float"
        },
        {
         "name": "197",
         "rawType": "float64",
         "type": "float"
        },
        {
         "name": "198",
         "rawType": "float64",
         "type": "float"
        },
        {
         "name": "199",
         "rawType": "float64",
         "type": "float"
        },
        {
         "name": "200",
         "rawType": "float64",
         "type": "float"
        },
        {
         "name": "201",
         "rawType": "float64",
         "type": "float"
        },
        {
         "name": "202",
         "rawType": "float64",
         "type": "float"
        },
        {
         "name": "203",
         "rawType": "float64",
         "type": "float"
        },
        {
         "name": "204",
         "rawType": "float64",
         "type": "float"
        },
        {
         "name": "205",
         "rawType": "float64",
         "type": "float"
        },
        {
         "name": "206",
         "rawType": "float64",
         "type": "float"
        },
        {
         "name": "207",
         "rawType": "float64",
         "type": "float"
        },
        {
         "name": "208",
         "rawType": "float64",
         "type": "float"
        },
        {
         "name": "209",
         "rawType": "float64",
         "type": "float"
        },
        {
         "name": "210",
         "rawType": "float64",
         "type": "float"
        },
        {
         "name": "211",
         "rawType": "float64",
         "type": "float"
        },
        {
         "name": "212",
         "rawType": "float64",
         "type": "float"
        },
        {
         "name": "213",
         "rawType": "float64",
         "type": "float"
        },
        {
         "name": "214",
         "rawType": "float64",
         "type": "float"
        },
        {
         "name": "215",
         "rawType": "float64",
         "type": "float"
        },
        {
         "name": "216",
         "rawType": "float64",
         "type": "float"
        },
        {
         "name": "217",
         "rawType": "float64",
         "type": "float"
        },
        {
         "name": "218",
         "rawType": "float64",
         "type": "float"
        },
        {
         "name": "219",
         "rawType": "float64",
         "type": "float"
        },
        {
         "name": "220",
         "rawType": "float64",
         "type": "float"
        },
        {
         "name": "221",
         "rawType": "float64",
         "type": "float"
        },
        {
         "name": "222",
         "rawType": "float64",
         "type": "float"
        },
        {
         "name": "223",
         "rawType": "float64",
         "type": "float"
        },
        {
         "name": "224",
         "rawType": "float64",
         "type": "float"
        },
        {
         "name": "225",
         "rawType": "float64",
         "type": "float"
        },
        {
         "name": "226",
         "rawType": "float64",
         "type": "float"
        },
        {
         "name": "227",
         "rawType": "float64",
         "type": "float"
        },
        {
         "name": "228",
         "rawType": "float64",
         "type": "float"
        },
        {
         "name": "229",
         "rawType": "float64",
         "type": "float"
        },
        {
         "name": "230",
         "rawType": "float64",
         "type": "float"
        },
        {
         "name": "231",
         "rawType": "float64",
         "type": "float"
        },
        {
         "name": "232",
         "rawType": "float64",
         "type": "float"
        },
        {
         "name": "233",
         "rawType": "float64",
         "type": "float"
        },
        {
         "name": "234",
         "rawType": "float64",
         "type": "float"
        },
        {
         "name": "235",
         "rawType": "float64",
         "type": "float"
        },
        {
         "name": "236",
         "rawType": "float64",
         "type": "float"
        },
        {
         "name": "237",
         "rawType": "float64",
         "type": "float"
        },
        {
         "name": "238",
         "rawType": "float64",
         "type": "float"
        },
        {
         "name": "239",
         "rawType": "float64",
         "type": "float"
        },
        {
         "name": "240",
         "rawType": "float64",
         "type": "float"
        },
        {
         "name": "241",
         "rawType": "float64",
         "type": "float"
        },
        {
         "name": "242",
         "rawType": "float64",
         "type": "float"
        },
        {
         "name": "243",
         "rawType": "float64",
         "type": "float"
        },
        {
         "name": "244",
         "rawType": "float64",
         "type": "float"
        },
        {
         "name": "245",
         "rawType": "float64",
         "type": "float"
        },
        {
         "name": "246",
         "rawType": "float64",
         "type": "float"
        },
        {
         "name": "247",
         "rawType": "float64",
         "type": "float"
        },
        {
         "name": "248",
         "rawType": "float64",
         "type": "float"
        },
        {
         "name": "249",
         "rawType": "float64",
         "type": "float"
        },
        {
         "name": "250",
         "rawType": "float64",
         "type": "float"
        },
        {
         "name": "251",
         "rawType": "float64",
         "type": "float"
        },
        {
         "name": "252",
         "rawType": "float64",
         "type": "float"
        },
        {
         "name": "253",
         "rawType": "float64",
         "type": "float"
        },
        {
         "name": "254",
         "rawType": "float64",
         "type": "float"
        },
        {
         "name": "255",
         "rawType": "float64",
         "type": "float"
        },
        {
         "name": "256",
         "rawType": "float64",
         "type": "float"
        },
        {
         "name": "257",
         "rawType": "float64",
         "type": "float"
        },
        {
         "name": "258",
         "rawType": "float64",
         "type": "float"
        },
        {
         "name": "259",
         "rawType": "float64",
         "type": "float"
        },
        {
         "name": "260",
         "rawType": "float64",
         "type": "float"
        },
        {
         "name": "261",
         "rawType": "float64",
         "type": "float"
        },
        {
         "name": "262",
         "rawType": "float64",
         "type": "float"
        },
        {
         "name": "263",
         "rawType": "float64",
         "type": "float"
        },
        {
         "name": "264",
         "rawType": "float64",
         "type": "float"
        },
        {
         "name": "265",
         "rawType": "float64",
         "type": "float"
        },
        {
         "name": "266",
         "rawType": "float64",
         "type": "float"
        },
        {
         "name": "267",
         "rawType": "float64",
         "type": "float"
        },
        {
         "name": "268",
         "rawType": "float64",
         "type": "float"
        },
        {
         "name": "269",
         "rawType": "float64",
         "type": "float"
        },
        {
         "name": "270",
         "rawType": "float64",
         "type": "float"
        },
        {
         "name": "271",
         "rawType": "float64",
         "type": "float"
        },
        {
         "name": "272",
         "rawType": "float64",
         "type": "float"
        },
        {
         "name": "273",
         "rawType": "float64",
         "type": "float"
        },
        {
         "name": "274",
         "rawType": "float64",
         "type": "float"
        },
        {
         "name": "275",
         "rawType": "float64",
         "type": "float"
        },
        {
         "name": "276",
         "rawType": "float64",
         "type": "float"
        },
        {
         "name": "277",
         "rawType": "float64",
         "type": "float"
        },
        {
         "name": "278",
         "rawType": "float64",
         "type": "float"
        },
        {
         "name": "279",
         "rawType": "float64",
         "type": "float"
        },
        {
         "name": "280",
         "rawType": "float64",
         "type": "float"
        },
        {
         "name": "281",
         "rawType": "float64",
         "type": "float"
        },
        {
         "name": "282",
         "rawType": "float64",
         "type": "float"
        },
        {
         "name": "283",
         "rawType": "float64",
         "type": "float"
        },
        {
         "name": "284",
         "rawType": "float64",
         "type": "float"
        },
        {
         "name": "285",
         "rawType": "float64",
         "type": "float"
        },
        {
         "name": "286",
         "rawType": "float64",
         "type": "float"
        },
        {
         "name": "287",
         "rawType": "float64",
         "type": "float"
        },
        {
         "name": "288",
         "rawType": "float64",
         "type": "float"
        },
        {
         "name": "289",
         "rawType": "float64",
         "type": "float"
        },
        {
         "name": "290",
         "rawType": "float64",
         "type": "float"
        },
        {
         "name": "291",
         "rawType": "float64",
         "type": "float"
        },
        {
         "name": "292",
         "rawType": "float64",
         "type": "float"
        },
        {
         "name": "293",
         "rawType": "float64",
         "type": "float"
        },
        {
         "name": "294",
         "rawType": "float64",
         "type": "float"
        },
        {
         "name": "295",
         "rawType": "float64",
         "type": "float"
        },
        {
         "name": "296",
         "rawType": "float64",
         "type": "float"
        },
        {
         "name": "297",
         "rawType": "float64",
         "type": "float"
        },
        {
         "name": "298",
         "rawType": "float64",
         "type": "float"
        },
        {
         "name": "299",
         "rawType": "float64",
         "type": "float"
        },
        {
         "name": "300",
         "rawType": "float64",
         "type": "float"
        },
        {
         "name": "301",
         "rawType": "float64",
         "type": "float"
        },
        {
         "name": "302",
         "rawType": "float64",
         "type": "float"
        },
        {
         "name": "303",
         "rawType": "float64",
         "type": "float"
        },
        {
         "name": "304",
         "rawType": "float64",
         "type": "float"
        },
        {
         "name": "305",
         "rawType": "float64",
         "type": "float"
        },
        {
         "name": "306",
         "rawType": "float64",
         "type": "float"
        },
        {
         "name": "307",
         "rawType": "float64",
         "type": "float"
        },
        {
         "name": "308",
         "rawType": "float64",
         "type": "float"
        },
        {
         "name": "309",
         "rawType": "float64",
         "type": "float"
        },
        {
         "name": "310",
         "rawType": "float64",
         "type": "float"
        },
        {
         "name": "311",
         "rawType": "float64",
         "type": "float"
        },
        {
         "name": "312",
         "rawType": "float64",
         "type": "float"
        },
        {
         "name": "313",
         "rawType": "float64",
         "type": "float"
        },
        {
         "name": "314",
         "rawType": "float64",
         "type": "float"
        },
        {
         "name": "315",
         "rawType": "float64",
         "type": "float"
        },
        {
         "name": "316",
         "rawType": "float64",
         "type": "float"
        },
        {
         "name": "317",
         "rawType": "float64",
         "type": "float"
        },
        {
         "name": "318",
         "rawType": "float64",
         "type": "float"
        },
        {
         "name": "319",
         "rawType": "float64",
         "type": "float"
        },
        {
         "name": "320",
         "rawType": "float64",
         "type": "float"
        },
        {
         "name": "321",
         "rawType": "float64",
         "type": "float"
        },
        {
         "name": "322",
         "rawType": "float64",
         "type": "float"
        },
        {
         "name": "323",
         "rawType": "float64",
         "type": "float"
        },
        {
         "name": "324",
         "rawType": "float64",
         "type": "float"
        },
        {
         "name": "325",
         "rawType": "float64",
         "type": "float"
        },
        {
         "name": "326",
         "rawType": "float64",
         "type": "float"
        },
        {
         "name": "327",
         "rawType": "float64",
         "type": "float"
        },
        {
         "name": "328",
         "rawType": "float64",
         "type": "float"
        },
        {
         "name": "329",
         "rawType": "float64",
         "type": "float"
        },
        {
         "name": "330",
         "rawType": "float64",
         "type": "float"
        },
        {
         "name": "331",
         "rawType": "float64",
         "type": "float"
        },
        {
         "name": "332",
         "rawType": "float64",
         "type": "float"
        },
        {
         "name": "333",
         "rawType": "float64",
         "type": "float"
        },
        {
         "name": "334",
         "rawType": "float64",
         "type": "float"
        },
        {
         "name": "335",
         "rawType": "float64",
         "type": "float"
        },
        {
         "name": "336",
         "rawType": "float64",
         "type": "float"
        },
        {
         "name": "337",
         "rawType": "float64",
         "type": "float"
        },
        {
         "name": "338",
         "rawType": "float64",
         "type": "float"
        },
        {
         "name": "339",
         "rawType": "float64",
         "type": "float"
        },
        {
         "name": "340",
         "rawType": "float64",
         "type": "float"
        },
        {
         "name": "341",
         "rawType": "float64",
         "type": "float"
        },
        {
         "name": "342",
         "rawType": "float64",
         "type": "float"
        },
        {
         "name": "343",
         "rawType": "float64",
         "type": "float"
        },
        {
         "name": "344",
         "rawType": "float64",
         "type": "float"
        },
        {
         "name": "345",
         "rawType": "float64",
         "type": "float"
        },
        {
         "name": "346",
         "rawType": "float64",
         "type": "float"
        },
        {
         "name": "347",
         "rawType": "float64",
         "type": "float"
        },
        {
         "name": "348",
         "rawType": "float64",
         "type": "float"
        },
        {
         "name": "349",
         "rawType": "float64",
         "type": "float"
        },
        {
         "name": "350",
         "rawType": "float64",
         "type": "float"
        },
        {
         "name": "351",
         "rawType": "float64",
         "type": "float"
        },
        {
         "name": "352",
         "rawType": "float64",
         "type": "float"
        },
        {
         "name": "353",
         "rawType": "float64",
         "type": "float"
        },
        {
         "name": "354",
         "rawType": "float64",
         "type": "float"
        },
        {
         "name": "355",
         "rawType": "float64",
         "type": "float"
        },
        {
         "name": "356",
         "rawType": "float64",
         "type": "float"
        },
        {
         "name": "357",
         "rawType": "float64",
         "type": "float"
        },
        {
         "name": "358",
         "rawType": "float64",
         "type": "float"
        },
        {
         "name": "359",
         "rawType": "float64",
         "type": "float"
        },
        {
         "name": "360",
         "rawType": "float64",
         "type": "float"
        },
        {
         "name": "361",
         "rawType": "float64",
         "type": "float"
        },
        {
         "name": "362",
         "rawType": "float64",
         "type": "float"
        },
        {
         "name": "363",
         "rawType": "float64",
         "type": "float"
        },
        {
         "name": "364",
         "rawType": "float64",
         "type": "float"
        },
        {
         "name": "365",
         "rawType": "float64",
         "type": "float"
        },
        {
         "name": "366",
         "rawType": "float64",
         "type": "float"
        },
        {
         "name": "367",
         "rawType": "float64",
         "type": "float"
        },
        {
         "name": "368",
         "rawType": "float64",
         "type": "float"
        },
        {
         "name": "369",
         "rawType": "float64",
         "type": "float"
        },
        {
         "name": "370",
         "rawType": "float64",
         "type": "float"
        },
        {
         "name": "371",
         "rawType": "float64",
         "type": "float"
        },
        {
         "name": "372",
         "rawType": "float64",
         "type": "float"
        },
        {
         "name": "373",
         "rawType": "float64",
         "type": "float"
        },
        {
         "name": "374",
         "rawType": "float64",
         "type": "float"
        },
        {
         "name": "375",
         "rawType": "float64",
         "type": "float"
        },
        {
         "name": "376",
         "rawType": "float64",
         "type": "float"
        },
        {
         "name": "377",
         "rawType": "float64",
         "type": "float"
        },
        {
         "name": "378",
         "rawType": "float64",
         "type": "float"
        },
        {
         "name": "379",
         "rawType": "float64",
         "type": "float"
        },
        {
         "name": "380",
         "rawType": "float64",
         "type": "float"
        },
        {
         "name": "381",
         "rawType": "float64",
         "type": "float"
        },
        {
         "name": "382",
         "rawType": "float64",
         "type": "float"
        },
        {
         "name": "383",
         "rawType": "float64",
         "type": "float"
        },
        {
         "name": "384",
         "rawType": "float64",
         "type": "float"
        },
        {
         "name": "385",
         "rawType": "float64",
         "type": "float"
        },
        {
         "name": "386",
         "rawType": "float64",
         "type": "float"
        },
        {
         "name": "387",
         "rawType": "float64",
         "type": "float"
        },
        {
         "name": "388",
         "rawType": "float64",
         "type": "float"
        },
        {
         "name": "389",
         "rawType": "float64",
         "type": "float"
        },
        {
         "name": "390",
         "rawType": "float64",
         "type": "float"
        },
        {
         "name": "391",
         "rawType": "float64",
         "type": "float"
        },
        {
         "name": "392",
         "rawType": "float64",
         "type": "float"
        },
        {
         "name": "393",
         "rawType": "float64",
         "type": "float"
        },
        {
         "name": "394",
         "rawType": "float64",
         "type": "float"
        },
        {
         "name": "395",
         "rawType": "float64",
         "type": "float"
        },
        {
         "name": "396",
         "rawType": "float64",
         "type": "float"
        },
        {
         "name": "397",
         "rawType": "float64",
         "type": "float"
        },
        {
         "name": "398",
         "rawType": "float64",
         "type": "float"
        },
        {
         "name": "399",
         "rawType": "float64",
         "type": "float"
        },
        {
         "name": "400",
         "rawType": "float64",
         "type": "float"
        },
        {
         "name": "401",
         "rawType": "float64",
         "type": "float"
        },
        {
         "name": "402",
         "rawType": "float64",
         "type": "float"
        },
        {
         "name": "403",
         "rawType": "float64",
         "type": "float"
        },
        {
         "name": "404",
         "rawType": "float64",
         "type": "float"
        },
        {
         "name": "405",
         "rawType": "float64",
         "type": "float"
        },
        {
         "name": "406",
         "rawType": "float64",
         "type": "float"
        },
        {
         "name": "407",
         "rawType": "float64",
         "type": "float"
        },
        {
         "name": "408",
         "rawType": "float64",
         "type": "float"
        },
        {
         "name": "409",
         "rawType": "float64",
         "type": "float"
        },
        {
         "name": "410",
         "rawType": "float64",
         "type": "float"
        },
        {
         "name": "411",
         "rawType": "float64",
         "type": "float"
        },
        {
         "name": "412",
         "rawType": "float64",
         "type": "float"
        },
        {
         "name": "413",
         "rawType": "float64",
         "type": "float"
        },
        {
         "name": "414",
         "rawType": "float64",
         "type": "float"
        },
        {
         "name": "415",
         "rawType": "float64",
         "type": "float"
        },
        {
         "name": "416",
         "rawType": "float64",
         "type": "float"
        },
        {
         "name": "417",
         "rawType": "float64",
         "type": "float"
        },
        {
         "name": "418",
         "rawType": "float64",
         "type": "float"
        },
        {
         "name": "419",
         "rawType": "float64",
         "type": "float"
        },
        {
         "name": "420",
         "rawType": "float64",
         "type": "float"
        },
        {
         "name": "421",
         "rawType": "float64",
         "type": "float"
        },
        {
         "name": "422",
         "rawType": "float64",
         "type": "float"
        },
        {
         "name": "423",
         "rawType": "float64",
         "type": "float"
        },
        {
         "name": "424",
         "rawType": "float64",
         "type": "float"
        },
        {
         "name": "425",
         "rawType": "float64",
         "type": "float"
        },
        {
         "name": "426",
         "rawType": "float64",
         "type": "float"
        },
        {
         "name": "427",
         "rawType": "float64",
         "type": "float"
        },
        {
         "name": "428",
         "rawType": "float64",
         "type": "float"
        },
        {
         "name": "429",
         "rawType": "float64",
         "type": "float"
        },
        {
         "name": "430",
         "rawType": "float64",
         "type": "float"
        },
        {
         "name": "431",
         "rawType": "float64",
         "type": "float"
        },
        {
         "name": "432",
         "rawType": "float64",
         "type": "float"
        },
        {
         "name": "433",
         "rawType": "float64",
         "type": "float"
        },
        {
         "name": "434",
         "rawType": "float64",
         "type": "float"
        },
        {
         "name": "435",
         "rawType": "float64",
         "type": "float"
        },
        {
         "name": "436",
         "rawType": "float64",
         "type": "float"
        },
        {
         "name": "437",
         "rawType": "float64",
         "type": "float"
        },
        {
         "name": "438",
         "rawType": "float64",
         "type": "float"
        },
        {
         "name": "439",
         "rawType": "float64",
         "type": "float"
        },
        {
         "name": "440",
         "rawType": "float64",
         "type": "float"
        },
        {
         "name": "441",
         "rawType": "float64",
         "type": "float"
        },
        {
         "name": "442",
         "rawType": "float64",
         "type": "float"
        },
        {
         "name": "443",
         "rawType": "float64",
         "type": "float"
        },
        {
         "name": "444",
         "rawType": "float64",
         "type": "float"
        },
        {
         "name": "445",
         "rawType": "float64",
         "type": "float"
        },
        {
         "name": "446",
         "rawType": "float64",
         "type": "float"
        },
        {
         "name": "447",
         "rawType": "float64",
         "type": "float"
        },
        {
         "name": "448",
         "rawType": "float64",
         "type": "float"
        },
        {
         "name": "449",
         "rawType": "float64",
         "type": "float"
        },
        {
         "name": "450",
         "rawType": "float64",
         "type": "float"
        },
        {
         "name": "451",
         "rawType": "float64",
         "type": "float"
        },
        {
         "name": "452",
         "rawType": "float64",
         "type": "float"
        },
        {
         "name": "453",
         "rawType": "float64",
         "type": "float"
        },
        {
         "name": "454",
         "rawType": "float64",
         "type": "float"
        },
        {
         "name": "455",
         "rawType": "float64",
         "type": "float"
        },
        {
         "name": "456",
         "rawType": "float64",
         "type": "float"
        },
        {
         "name": "457",
         "rawType": "float64",
         "type": "float"
        },
        {
         "name": "458",
         "rawType": "float64",
         "type": "float"
        },
        {
         "name": "459",
         "rawType": "float64",
         "type": "float"
        },
        {
         "name": "460",
         "rawType": "float64",
         "type": "float"
        },
        {
         "name": "461",
         "rawType": "float64",
         "type": "float"
        },
        {
         "name": "462",
         "rawType": "float64",
         "type": "float"
        },
        {
         "name": "463",
         "rawType": "float64",
         "type": "float"
        },
        {
         "name": "464",
         "rawType": "float64",
         "type": "float"
        },
        {
         "name": "465",
         "rawType": "float64",
         "type": "float"
        },
        {
         "name": "466",
         "rawType": "float64",
         "type": "float"
        },
        {
         "name": "467",
         "rawType": "float64",
         "type": "float"
        },
        {
         "name": "468",
         "rawType": "float64",
         "type": "float"
        },
        {
         "name": "469",
         "rawType": "float64",
         "type": "float"
        },
        {
         "name": "470",
         "rawType": "float64",
         "type": "float"
        },
        {
         "name": "471",
         "rawType": "float64",
         "type": "float"
        },
        {
         "name": "472",
         "rawType": "float64",
         "type": "float"
        },
        {
         "name": "473",
         "rawType": "float64",
         "type": "float"
        },
        {
         "name": "474",
         "rawType": "float64",
         "type": "float"
        },
        {
         "name": "475",
         "rawType": "float64",
         "type": "float"
        },
        {
         "name": "476",
         "rawType": "float64",
         "type": "float"
        },
        {
         "name": "477",
         "rawType": "float64",
         "type": "float"
        },
        {
         "name": "478",
         "rawType": "float64",
         "type": "float"
        },
        {
         "name": "479",
         "rawType": "float64",
         "type": "float"
        },
        {
         "name": "480",
         "rawType": "float64",
         "type": "float"
        },
        {
         "name": "481",
         "rawType": "float64",
         "type": "float"
        },
        {
         "name": "482",
         "rawType": "float64",
         "type": "float"
        },
        {
         "name": "483",
         "rawType": "float64",
         "type": "float"
        },
        {
         "name": "484",
         "rawType": "float64",
         "type": "float"
        },
        {
         "name": "485",
         "rawType": "float64",
         "type": "float"
        },
        {
         "name": "486",
         "rawType": "float64",
         "type": "float"
        },
        {
         "name": "487",
         "rawType": "float64",
         "type": "float"
        },
        {
         "name": "488",
         "rawType": "float64",
         "type": "float"
        },
        {
         "name": "489",
         "rawType": "float64",
         "type": "float"
        },
        {
         "name": "490",
         "rawType": "float64",
         "type": "float"
        },
        {
         "name": "491",
         "rawType": "float64",
         "type": "float"
        },
        {
         "name": "492",
         "rawType": "float64",
         "type": "float"
        },
        {
         "name": "493",
         "rawType": "float64",
         "type": "float"
        },
        {
         "name": "494",
         "rawType": "float64",
         "type": "float"
        },
        {
         "name": "495",
         "rawType": "float64",
         "type": "float"
        },
        {
         "name": "496",
         "rawType": "float64",
         "type": "float"
        },
        {
         "name": "497",
         "rawType": "float64",
         "type": "float"
        },
        {
         "name": "498",
         "rawType": "float64",
         "type": "float"
        },
        {
         "name": "499",
         "rawType": "float64",
         "type": "float"
        },
        {
         "name": "500",
         "rawType": "float64",
         "type": "float"
        },
        {
         "name": "501",
         "rawType": "float64",
         "type": "float"
        },
        {
         "name": "502",
         "rawType": "float64",
         "type": "float"
        },
        {
         "name": "503",
         "rawType": "float64",
         "type": "float"
        },
        {
         "name": "504",
         "rawType": "float64",
         "type": "float"
        },
        {
         "name": "505",
         "rawType": "float64",
         "type": "float"
        },
        {
         "name": "506",
         "rawType": "float64",
         "type": "float"
        },
        {
         "name": "507",
         "rawType": "float64",
         "type": "float"
        },
        {
         "name": "508",
         "rawType": "float64",
         "type": "float"
        },
        {
         "name": "509",
         "rawType": "float64",
         "type": "float"
        },
        {
         "name": "510",
         "rawType": "float64",
         "type": "float"
        },
        {
         "name": "511",
         "rawType": "float64",
         "type": "float"
        },
        {
         "name": "512",
         "rawType": "float64",
         "type": "float"
        },
        {
         "name": "513",
         "rawType": "float64",
         "type": "float"
        },
        {
         "name": "514",
         "rawType": "float64",
         "type": "float"
        },
        {
         "name": "515",
         "rawType": "float64",
         "type": "float"
        },
        {
         "name": "516",
         "rawType": "float64",
         "type": "float"
        },
        {
         "name": "517",
         "rawType": "float64",
         "type": "float"
        },
        {
         "name": "518",
         "rawType": "float64",
         "type": "float"
        },
        {
         "name": "519",
         "rawType": "float64",
         "type": "float"
        },
        {
         "name": "520",
         "rawType": "float64",
         "type": "float"
        },
        {
         "name": "521",
         "rawType": "float64",
         "type": "float"
        },
        {
         "name": "522",
         "rawType": "float64",
         "type": "float"
        },
        {
         "name": "523",
         "rawType": "float64",
         "type": "float"
        },
        {
         "name": "524",
         "rawType": "float64",
         "type": "float"
        },
        {
         "name": "525",
         "rawType": "float64",
         "type": "float"
        },
        {
         "name": "526",
         "rawType": "float64",
         "type": "float"
        },
        {
         "name": "527",
         "rawType": "float64",
         "type": "float"
        },
        {
         "name": "528",
         "rawType": "float64",
         "type": "float"
        },
        {
         "name": "529",
         "rawType": "float64",
         "type": "float"
        },
        {
         "name": "530",
         "rawType": "float64",
         "type": "float"
        },
        {
         "name": "531",
         "rawType": "float64",
         "type": "float"
        },
        {
         "name": "532",
         "rawType": "float64",
         "type": "float"
        },
        {
         "name": "533",
         "rawType": "float64",
         "type": "float"
        },
        {
         "name": "534",
         "rawType": "float64",
         "type": "float"
        },
        {
         "name": "535",
         "rawType": "float64",
         "type": "float"
        },
        {
         "name": "536",
         "rawType": "float64",
         "type": "float"
        },
        {
         "name": "537",
         "rawType": "float64",
         "type": "float"
        },
        {
         "name": "538",
         "rawType": "float64",
         "type": "float"
        },
        {
         "name": "539",
         "rawType": "float64",
         "type": "float"
        },
        {
         "name": "540",
         "rawType": "float64",
         "type": "float"
        },
        {
         "name": "541",
         "rawType": "float64",
         "type": "float"
        },
        {
         "name": "542",
         "rawType": "float64",
         "type": "float"
        },
        {
         "name": "543",
         "rawType": "float64",
         "type": "float"
        },
        {
         "name": "544",
         "rawType": "float64",
         "type": "float"
        },
        {
         "name": "545",
         "rawType": "float64",
         "type": "float"
        },
        {
         "name": "546",
         "rawType": "float64",
         "type": "float"
        },
        {
         "name": "547",
         "rawType": "float64",
         "type": "float"
        },
        {
         "name": "548",
         "rawType": "float64",
         "type": "float"
        },
        {
         "name": "549",
         "rawType": "float64",
         "type": "float"
        },
        {
         "name": "550",
         "rawType": "float64",
         "type": "float"
        },
        {
         "name": "551",
         "rawType": "float64",
         "type": "float"
        },
        {
         "name": "552",
         "rawType": "float64",
         "type": "float"
        },
        {
         "name": "553",
         "rawType": "float64",
         "type": "float"
        },
        {
         "name": "554",
         "rawType": "float64",
         "type": "float"
        },
        {
         "name": "555",
         "rawType": "float64",
         "type": "float"
        },
        {
         "name": "556",
         "rawType": "float64",
         "type": "float"
        },
        {
         "name": "557",
         "rawType": "float64",
         "type": "float"
        },
        {
         "name": "558",
         "rawType": "float64",
         "type": "float"
        },
        {
         "name": "559",
         "rawType": "float64",
         "type": "float"
        },
        {
         "name": "560",
         "rawType": "float64",
         "type": "float"
        },
        {
         "name": "561",
         "rawType": "float64",
         "type": "float"
        },
        {
         "name": "562",
         "rawType": "float64",
         "type": "float"
        },
        {
         "name": "563",
         "rawType": "float64",
         "type": "float"
        },
        {
         "name": "564",
         "rawType": "float64",
         "type": "float"
        },
        {
         "name": "565",
         "rawType": "float64",
         "type": "float"
        },
        {
         "name": "566",
         "rawType": "float64",
         "type": "float"
        },
        {
         "name": "567",
         "rawType": "float64",
         "type": "float"
        },
        {
         "name": "568",
         "rawType": "float64",
         "type": "float"
        },
        {
         "name": "569",
         "rawType": "float64",
         "type": "float"
        },
        {
         "name": "570",
         "rawType": "float64",
         "type": "float"
        },
        {
         "name": "571",
         "rawType": "float64",
         "type": "float"
        },
        {
         "name": "572",
         "rawType": "float64",
         "type": "float"
        },
        {
         "name": "573",
         "rawType": "float64",
         "type": "float"
        },
        {
         "name": "574",
         "rawType": "float64",
         "type": "float"
        },
        {
         "name": "575",
         "rawType": "float64",
         "type": "float"
        },
        {
         "name": "576",
         "rawType": "float64",
         "type": "float"
        },
        {
         "name": "577",
         "rawType": "float64",
         "type": "float"
        },
        {
         "name": "578",
         "rawType": "float64",
         "type": "float"
        },
        {
         "name": "579",
         "rawType": "float64",
         "type": "float"
        },
        {
         "name": "580",
         "rawType": "float64",
         "type": "float"
        },
        {
         "name": "581",
         "rawType": "float64",
         "type": "float"
        },
        {
         "name": "582",
         "rawType": "float64",
         "type": "float"
        },
        {
         "name": "583",
         "rawType": "float64",
         "type": "float"
        },
        {
         "name": "584",
         "rawType": "float64",
         "type": "float"
        },
        {
         "name": "585",
         "rawType": "float64",
         "type": "float"
        },
        {
         "name": "586",
         "rawType": "float64",
         "type": "float"
        },
        {
         "name": "587",
         "rawType": "float64",
         "type": "float"
        },
        {
         "name": "588",
         "rawType": "float64",
         "type": "float"
        },
        {
         "name": "589",
         "rawType": "float64",
         "type": "float"
        },
        {
         "name": "590",
         "rawType": "float64",
         "type": "float"
        },
        {
         "name": "591",
         "rawType": "float64",
         "type": "float"
        },
        {
         "name": "592",
         "rawType": "float64",
         "type": "float"
        },
        {
         "name": "593",
         "rawType": "float64",
         "type": "float"
        },
        {
         "name": "594",
         "rawType": "float64",
         "type": "float"
        },
        {
         "name": "595",
         "rawType": "float64",
         "type": "float"
        },
        {
         "name": "596",
         "rawType": "float64",
         "type": "float"
        },
        {
         "name": "597",
         "rawType": "float64",
         "type": "float"
        },
        {
         "name": "598",
         "rawType": "float64",
         "type": "float"
        },
        {
         "name": "599",
         "rawType": "float64",
         "type": "float"
        },
        {
         "name": "600",
         "rawType": "float64",
         "type": "float"
        },
        {
         "name": "601",
         "rawType": "float64",
         "type": "float"
        },
        {
         "name": "602",
         "rawType": "float64",
         "type": "float"
        },
        {
         "name": "603",
         "rawType": "float64",
         "type": "float"
        },
        {
         "name": "604",
         "rawType": "float64",
         "type": "float"
        },
        {
         "name": "605",
         "rawType": "float64",
         "type": "float"
        },
        {
         "name": "606",
         "rawType": "float64",
         "type": "float"
        },
        {
         "name": "607",
         "rawType": "float64",
         "type": "float"
        },
        {
         "name": "608",
         "rawType": "float64",
         "type": "float"
        },
        {
         "name": "609",
         "rawType": "float64",
         "type": "float"
        },
        {
         "name": "610",
         "rawType": "float64",
         "type": "float"
        },
        {
         "name": "611",
         "rawType": "float64",
         "type": "float"
        },
        {
         "name": "612",
         "rawType": "float64",
         "type": "float"
        },
        {
         "name": "613",
         "rawType": "float64",
         "type": "float"
        },
        {
         "name": "614",
         "rawType": "float64",
         "type": "float"
        },
        {
         "name": "615",
         "rawType": "float64",
         "type": "float"
        },
        {
         "name": "616",
         "rawType": "float64",
         "type": "float"
        },
        {
         "name": "617",
         "rawType": "float64",
         "type": "float"
        },
        {
         "name": "618",
         "rawType": "float64",
         "type": "float"
        },
        {
         "name": "619",
         "rawType": "float64",
         "type": "float"
        },
        {
         "name": "620",
         "rawType": "float64",
         "type": "float"
        },
        {
         "name": "621",
         "rawType": "float64",
         "type": "float"
        },
        {
         "name": "622",
         "rawType": "float64",
         "type": "float"
        },
        {
         "name": "623",
         "rawType": "float64",
         "type": "float"
        },
        {
         "name": "624",
         "rawType": "float64",
         "type": "float"
        },
        {
         "name": "625",
         "rawType": "float64",
         "type": "float"
        },
        {
         "name": "626",
         "rawType": "float64",
         "type": "float"
        },
        {
         "name": "627",
         "rawType": "float64",
         "type": "float"
        },
        {
         "name": "628",
         "rawType": "float64",
         "type": "float"
        },
        {
         "name": "629",
         "rawType": "float64",
         "type": "float"
        },
        {
         "name": "630",
         "rawType": "float64",
         "type": "float"
        },
        {
         "name": "631",
         "rawType": "float64",
         "type": "float"
        },
        {
         "name": "632",
         "rawType": "float64",
         "type": "float"
        },
        {
         "name": "633",
         "rawType": "float64",
         "type": "float"
        },
        {
         "name": "634",
         "rawType": "float64",
         "type": "float"
        },
        {
         "name": "635",
         "rawType": "float64",
         "type": "float"
        },
        {
         "name": "636",
         "rawType": "float64",
         "type": "float"
        },
        {
         "name": "637",
         "rawType": "float64",
         "type": "float"
        },
        {
         "name": "638",
         "rawType": "float64",
         "type": "float"
        },
        {
         "name": "639",
         "rawType": "float64",
         "type": "float"
        },
        {
         "name": "640",
         "rawType": "float64",
         "type": "float"
        },
        {
         "name": "641",
         "rawType": "float64",
         "type": "float"
        },
        {
         "name": "642",
         "rawType": "float64",
         "type": "float"
        },
        {
         "name": "643",
         "rawType": "float64",
         "type": "float"
        },
        {
         "name": "644",
         "rawType": "float64",
         "type": "float"
        },
        {
         "name": "645",
         "rawType": "float64",
         "type": "float"
        },
        {
         "name": "646",
         "rawType": "float64",
         "type": "float"
        },
        {
         "name": "647",
         "rawType": "float64",
         "type": "float"
        },
        {
         "name": "648",
         "rawType": "float64",
         "type": "float"
        },
        {
         "name": "649",
         "rawType": "float64",
         "type": "float"
        },
        {
         "name": "650",
         "rawType": "float64",
         "type": "float"
        },
        {
         "name": "651",
         "rawType": "float64",
         "type": "float"
        },
        {
         "name": "652",
         "rawType": "float64",
         "type": "float"
        },
        {
         "name": "653",
         "rawType": "float64",
         "type": "float"
        },
        {
         "name": "654",
         "rawType": "float64",
         "type": "float"
        },
        {
         "name": "655",
         "rawType": "float64",
         "type": "float"
        },
        {
         "name": "656",
         "rawType": "float64",
         "type": "float"
        },
        {
         "name": "657",
         "rawType": "float64",
         "type": "float"
        },
        {
         "name": "658",
         "rawType": "float64",
         "type": "float"
        },
        {
         "name": "659",
         "rawType": "float64",
         "type": "float"
        },
        {
         "name": "660",
         "rawType": "float64",
         "type": "float"
        },
        {
         "name": "661",
         "rawType": "float64",
         "type": "float"
        },
        {
         "name": "662",
         "rawType": "float64",
         "type": "float"
        },
        {
         "name": "663",
         "rawType": "float64",
         "type": "float"
        },
        {
         "name": "664",
         "rawType": "float64",
         "type": "float"
        },
        {
         "name": "665",
         "rawType": "float64",
         "type": "float"
        },
        {
         "name": "666",
         "rawType": "float64",
         "type": "float"
        },
        {
         "name": "667",
         "rawType": "float64",
         "type": "float"
        },
        {
         "name": "668",
         "rawType": "float64",
         "type": "float"
        },
        {
         "name": "669",
         "rawType": "float64",
         "type": "float"
        },
        {
         "name": "670",
         "rawType": "float64",
         "type": "float"
        },
        {
         "name": "671",
         "rawType": "float64",
         "type": "float"
        },
        {
         "name": "672",
         "rawType": "float64",
         "type": "float"
        },
        {
         "name": "673",
         "rawType": "float64",
         "type": "float"
        },
        {
         "name": "674",
         "rawType": "float64",
         "type": "float"
        },
        {
         "name": "675",
         "rawType": "float64",
         "type": "float"
        },
        {
         "name": "676",
         "rawType": "float64",
         "type": "float"
        },
        {
         "name": "677",
         "rawType": "float64",
         "type": "float"
        },
        {
         "name": "678",
         "rawType": "float64",
         "type": "float"
        },
        {
         "name": "679",
         "rawType": "float64",
         "type": "float"
        },
        {
         "name": "680",
         "rawType": "float64",
         "type": "float"
        },
        {
         "name": "681",
         "rawType": "float64",
         "type": "float"
        },
        {
         "name": "682",
         "rawType": "float64",
         "type": "float"
        },
        {
         "name": "683",
         "rawType": "float64",
         "type": "float"
        },
        {
         "name": "684",
         "rawType": "float64",
         "type": "float"
        },
        {
         "name": "685",
         "rawType": "float64",
         "type": "float"
        },
        {
         "name": "686",
         "rawType": "float64",
         "type": "float"
        },
        {
         "name": "687",
         "rawType": "float64",
         "type": "float"
        },
        {
         "name": "688",
         "rawType": "float64",
         "type": "float"
        },
        {
         "name": "689",
         "rawType": "float64",
         "type": "float"
        },
        {
         "name": "690",
         "rawType": "float64",
         "type": "float"
        },
        {
         "name": "691",
         "rawType": "float64",
         "type": "float"
        },
        {
         "name": "692",
         "rawType": "float64",
         "type": "float"
        },
        {
         "name": "693",
         "rawType": "float64",
         "type": "float"
        },
        {
         "name": "694",
         "rawType": "float64",
         "type": "float"
        },
        {
         "name": "695",
         "rawType": "float64",
         "type": "float"
        },
        {
         "name": "696",
         "rawType": "float64",
         "type": "float"
        },
        {
         "name": "697",
         "rawType": "float64",
         "type": "float"
        },
        {
         "name": "698",
         "rawType": "float64",
         "type": "float"
        },
        {
         "name": "699",
         "rawType": "float64",
         "type": "float"
        },
        {
         "name": "700",
         "rawType": "float64",
         "type": "float"
        },
        {
         "name": "701",
         "rawType": "float64",
         "type": "float"
        },
        {
         "name": "702",
         "rawType": "float64",
         "type": "float"
        },
        {
         "name": "703",
         "rawType": "float64",
         "type": "float"
        },
        {
         "name": "704",
         "rawType": "float64",
         "type": "float"
        },
        {
         "name": "705",
         "rawType": "float64",
         "type": "float"
        },
        {
         "name": "706",
         "rawType": "float64",
         "type": "float"
        },
        {
         "name": "707",
         "rawType": "float64",
         "type": "float"
        },
        {
         "name": "708",
         "rawType": "float64",
         "type": "float"
        },
        {
         "name": "709",
         "rawType": "float64",
         "type": "float"
        },
        {
         "name": "710",
         "rawType": "float64",
         "type": "float"
        },
        {
         "name": "711",
         "rawType": "float64",
         "type": "float"
        },
        {
         "name": "712",
         "rawType": "float64",
         "type": "float"
        },
        {
         "name": "713",
         "rawType": "float64",
         "type": "float"
        },
        {
         "name": "714",
         "rawType": "float64",
         "type": "float"
        },
        {
         "name": "715",
         "rawType": "float64",
         "type": "float"
        },
        {
         "name": "716",
         "rawType": "float64",
         "type": "float"
        },
        {
         "name": "717",
         "rawType": "float64",
         "type": "float"
        },
        {
         "name": "718",
         "rawType": "float64",
         "type": "float"
        },
        {
         "name": "719",
         "rawType": "float64",
         "type": "float"
        },
        {
         "name": "720",
         "rawType": "float64",
         "type": "float"
        },
        {
         "name": "721",
         "rawType": "float64",
         "type": "float"
        },
        {
         "name": "722",
         "rawType": "float64",
         "type": "float"
        },
        {
         "name": "723",
         "rawType": "float64",
         "type": "float"
        },
        {
         "name": "724",
         "rawType": "float64",
         "type": "float"
        },
        {
         "name": "725",
         "rawType": "float64",
         "type": "float"
        },
        {
         "name": "726",
         "rawType": "float64",
         "type": "float"
        },
        {
         "name": "727",
         "rawType": "float64",
         "type": "float"
        },
        {
         "name": "728",
         "rawType": "float64",
         "type": "float"
        },
        {
         "name": "729",
         "rawType": "float64",
         "type": "float"
        },
        {
         "name": "730",
         "rawType": "float64",
         "type": "float"
        },
        {
         "name": "731",
         "rawType": "float64",
         "type": "float"
        },
        {
         "name": "732",
         "rawType": "float64",
         "type": "float"
        },
        {
         "name": "733",
         "rawType": "float64",
         "type": "float"
        },
        {
         "name": "734",
         "rawType": "float64",
         "type": "float"
        },
        {
         "name": "735",
         "rawType": "float64",
         "type": "float"
        },
        {
         "name": "736",
         "rawType": "float64",
         "type": "float"
        },
        {
         "name": "737",
         "rawType": "float64",
         "type": "float"
        },
        {
         "name": "738",
         "rawType": "float64",
         "type": "float"
        },
        {
         "name": "739",
         "rawType": "float64",
         "type": "float"
        },
        {
         "name": "740",
         "rawType": "float64",
         "type": "float"
        },
        {
         "name": "741",
         "rawType": "float64",
         "type": "float"
        },
        {
         "name": "742",
         "rawType": "float64",
         "type": "float"
        },
        {
         "name": "743",
         "rawType": "float64",
         "type": "float"
        },
        {
         "name": "744",
         "rawType": "float64",
         "type": "float"
        },
        {
         "name": "745",
         "rawType": "float64",
         "type": "float"
        },
        {
         "name": "746",
         "rawType": "float64",
         "type": "float"
        },
        {
         "name": "747",
         "rawType": "float64",
         "type": "float"
        },
        {
         "name": "748",
         "rawType": "float64",
         "type": "float"
        },
        {
         "name": "749",
         "rawType": "float64",
         "type": "float"
        },
        {
         "name": "750",
         "rawType": "float64",
         "type": "float"
        },
        {
         "name": "751",
         "rawType": "float64",
         "type": "float"
        },
        {
         "name": "752",
         "rawType": "float64",
         "type": "float"
        },
        {
         "name": "753",
         "rawType": "float64",
         "type": "float"
        },
        {
         "name": "754",
         "rawType": "float64",
         "type": "float"
        },
        {
         "name": "755",
         "rawType": "float64",
         "type": "float"
        },
        {
         "name": "756",
         "rawType": "float64",
         "type": "float"
        },
        {
         "name": "757",
         "rawType": "float64",
         "type": "float"
        },
        {
         "name": "758",
         "rawType": "float64",
         "type": "float"
        },
        {
         "name": "759",
         "rawType": "float64",
         "type": "float"
        },
        {
         "name": "760",
         "rawType": "float64",
         "type": "float"
        },
        {
         "name": "761",
         "rawType": "float64",
         "type": "float"
        },
        {
         "name": "762",
         "rawType": "float64",
         "type": "float"
        },
        {
         "name": "763",
         "rawType": "float64",
         "type": "float"
        },
        {
         "name": "764",
         "rawType": "float64",
         "type": "float"
        },
        {
         "name": "765",
         "rawType": "float64",
         "type": "float"
        },
        {
         "name": "766",
         "rawType": "float64",
         "type": "float"
        },
        {
         "name": "767",
         "rawType": "float64",
         "type": "float"
        },
        {
         "name": "768",
         "rawType": "float64",
         "type": "float"
        },
        {
         "name": "769",
         "rawType": "float64",
         "type": "float"
        },
        {
         "name": "770",
         "rawType": "float64",
         "type": "float"
        },
        {
         "name": "771",
         "rawType": "float64",
         "type": "float"
        },
        {
         "name": "772",
         "rawType": "float64",
         "type": "float"
        },
        {
         "name": "773",
         "rawType": "float64",
         "type": "float"
        },
        {
         "name": "774",
         "rawType": "float64",
         "type": "float"
        },
        {
         "name": "775",
         "rawType": "float64",
         "type": "float"
        },
        {
         "name": "776",
         "rawType": "float64",
         "type": "float"
        },
        {
         "name": "777",
         "rawType": "float64",
         "type": "float"
        },
        {
         "name": "778",
         "rawType": "float64",
         "type": "float"
        },
        {
         "name": "779",
         "rawType": "float64",
         "type": "float"
        },
        {
         "name": "780",
         "rawType": "float64",
         "type": "float"
        },
        {
         "name": "781",
         "rawType": "float64",
         "type": "float"
        },
        {
         "name": "782",
         "rawType": "float64",
         "type": "float"
        },
        {
         "name": "783",
         "rawType": "float64",
         "type": "float"
        },
        {
         "name": "784",
         "rawType": "float64",
         "type": "float"
        },
        {
         "name": "785",
         "rawType": "float64",
         "type": "float"
        },
        {
         "name": "786",
         "rawType": "float64",
         "type": "float"
        },
        {
         "name": "787",
         "rawType": "float64",
         "type": "float"
        },
        {
         "name": "788",
         "rawType": "float64",
         "type": "float"
        },
        {
         "name": "789",
         "rawType": "float64",
         "type": "float"
        },
        {
         "name": "790",
         "rawType": "float64",
         "type": "float"
        },
        {
         "name": "791",
         "rawType": "float64",
         "type": "float"
        },
        {
         "name": "792",
         "rawType": "float64",
         "type": "float"
        },
        {
         "name": "793",
         "rawType": "float64",
         "type": "float"
        },
        {
         "name": "794",
         "rawType": "float64",
         "type": "float"
        },
        {
         "name": "795",
         "rawType": "float64",
         "type": "float"
        },
        {
         "name": "796",
         "rawType": "float64",
         "type": "float"
        },
        {
         "name": "797",
         "rawType": "float64",
         "type": "float"
        },
        {
         "name": "798",
         "rawType": "float64",
         "type": "float"
        },
        {
         "name": "799",
         "rawType": "float64",
         "type": "float"
        },
        {
         "name": "800",
         "rawType": "float64",
         "type": "float"
        },
        {
         "name": "801",
         "rawType": "float64",
         "type": "float"
        },
        {
         "name": "802",
         "rawType": "float64",
         "type": "float"
        },
        {
         "name": "803",
         "rawType": "float64",
         "type": "float"
        },
        {
         "name": "804",
         "rawType": "float64",
         "type": "float"
        },
        {
         "name": "805",
         "rawType": "float64",
         "type": "float"
        },
        {
         "name": "806",
         "rawType": "float64",
         "type": "float"
        },
        {
         "name": "807",
         "rawType": "float64",
         "type": "float"
        },
        {
         "name": "808",
         "rawType": "float64",
         "type": "float"
        },
        {
         "name": "809",
         "rawType": "float64",
         "type": "float"
        },
        {
         "name": "810",
         "rawType": "float64",
         "type": "float"
        },
        {
         "name": "811",
         "rawType": "float64",
         "type": "float"
        },
        {
         "name": "812",
         "rawType": "float64",
         "type": "float"
        },
        {
         "name": "813",
         "rawType": "float64",
         "type": "float"
        },
        {
         "name": "814",
         "rawType": "float64",
         "type": "float"
        },
        {
         "name": "815",
         "rawType": "float64",
         "type": "float"
        },
        {
         "name": "816",
         "rawType": "float64",
         "type": "float"
        },
        {
         "name": "817",
         "rawType": "float64",
         "type": "float"
        },
        {
         "name": "818",
         "rawType": "float64",
         "type": "float"
        },
        {
         "name": "819",
         "rawType": "float64",
         "type": "float"
        },
        {
         "name": "820",
         "rawType": "float64",
         "type": "float"
        },
        {
         "name": "821",
         "rawType": "float64",
         "type": "float"
        },
        {
         "name": "822",
         "rawType": "float64",
         "type": "float"
        },
        {
         "name": "823",
         "rawType": "float64",
         "type": "float"
        },
        {
         "name": "824",
         "rawType": "float64",
         "type": "float"
        },
        {
         "name": "825",
         "rawType": "float64",
         "type": "float"
        },
        {
         "name": "826",
         "rawType": "float64",
         "type": "float"
        },
        {
         "name": "827",
         "rawType": "float64",
         "type": "float"
        },
        {
         "name": "828",
         "rawType": "float64",
         "type": "float"
        }
       ],
       "conversionMethod": "pd.DataFrame",
       "ref": "1469e4f3-ce13-4138-9ee4-bfe7d05060bc",
       "rows": [
        [
         "MMM",
         "0.0140095257505521",
         "-0.0041060824277339",
         "-0.0083014163453153",
         "0.0109551454868679",
         "-0.0141148923234157",
         "0.0088496809858484",
         "0.0024584010232535",
         "0.0089173660375514",
         "-0.0125950807157698",
         "-0.0025740083132465",
         "0.0011220784134797",
         "-0.0275101149461219",
         "-0.0053003911485642",
         "0.0008688493659518",
         "0.0054975918447734",
         "-0.0256114532092183",
         "0.0050796083873319",
         "-0.0414901315479271",
         "0.0179031228078772",
         "0.0084929474966266",
         "-0.0045991420096437",
         "-0.0136205969972675",
         "-0.0222640497570021",
         "0.0027376047449465",
         "0.0076936912408582",
         "0.0075735385093842",
         "-0.0238327352931431",
         "-0.0012521790193177",
         "-0.00959007497842",
         "-0.0042402499440299",
         "-0.01086813281964",
         "-0.0356817968776271",
         "-0.0068621404748885",
         "-0.0058938266809649",
         "-0.0161496688779222",
         "-0.0047099325863649",
         "0.0473904474856903",
         "-0.0123580198347791",
         "-0.0262360806326148",
         "0.0170637898424139",
         "0.0073360075320849",
         "-0.010586511494304",
         "-0.023512795524897",
         "0.0147965068882003",
         "0.0082529639208677",
         "-0.0182129146147579",
         "-0.0206349659987076",
         "0.01787733003987",
         "0.0057849479429252",
         "0.0083153726208129",
         "0.01498171054729",
         "0.0042656547066102",
         "0.001753080391678",
         "0.0091530993859156",
         "-0.0150725090290334",
         "0.0088028250743779",
         "0.009934177013257",
         "-0.0065797549252372",
         "0.017461664444804",
         "-0.0042741385486971",
         "-0.0168393803708368",
         "0.0054406755312421",
         "-0.0010689235730053",
         "-0.0042133035274225",
         "0.0094025666245056",
         "-0.0023289009713268",
         "-0.0009337211103405",
         "0.0020692941747399",
         "-0.0102583331355542",
         "0.000538384711636",
         "-0.0086103586328822",
         "-0.0081420904485793",
         "0.026816320335443",
         "0.0032643771068003",
         "0.0078358182959827",
         "-0.0171309971938949",
         "-0.0038213320953248",
         "-0.0294750626702891",
         "-6.943165508721538e-05",
         "0.0203177323833212",
         "-0.019845088705699",
         "0.0117182483603432",
         "0.0148720834663702",
         "0.0415316306158612",
         "-0.0309278274139257",
         "0.0004684259047864",
         "0.019059620273345",
         "-0.02139378890879",
         "-0.0181731755425161",
         "0.0217197711073549",
         "-0.0019387364826598",
         "0.0080376606147603",
         "0.0122259086867393",
         "-0.0223842733714458",
         "-0.0032554978548698",
         "-0.0212983548430345",
         "0.0038240328578691",
         "0.0094887987402874",
         "0.0002745312278742",
         "0.0085738719411854",
         "0.0167980364641668",
         "-0.0014712957699301",
         "-0.0192241856617954",
         "0.0120200244311039",
         "-0.0149144112936744",
         "0.0016442822831119",
         "0.0045139314064448",
         "-0.0098727349542737",
         "-0.0085268123020759",
         "-0.0452905689558184",
         "-0.0092990374193002",
         "-0.0082131158592654",
         "-0.0068020605844303",
         "-0.0252363805449841",
         "-0.0084008785624648",
         "0.0013093508496366",
         "0.0029998490821059",
         "-0.0019171863202908",
         "0.0321167777092916",
         "-0.0113898864471582",
         "-0.018599504752459",
         "-0.0042966751837438",
         "-0.0027741638243268",
         "-0.0071091813681979",
         "0.0056036794750082",
         "0.0048755881788573",
         "0.0016174427202564",
         "-0.0102268401614799",
         "0.0022530612297071",
         "0.0092239430662759",
         "-0.0140551635590934",
         "-0.0004674297962101",
         "0.0141842925762201",
         "-0.0093752284301666",
         "0.0249787247077699",
         "0.0066599251774077",
         "0.0070673743937177",
         "0.0012690989566304",
         "0.0",
         "0.049433198479901",
         "-0.0134278938945926",
         "0.0108742766459879",
         "0.0204459592584103",
         "0.0008378101494921",
         "-0.011230671896385",
         "0.0122752194076221",
         "0.0322670043602026",
         "-0.0047934154774076",
         "0.0072586931520033",
         "-0.0043102836296141",
         "0.0104167289790484",
         "0.0018744691505292",
         "0.0172389068590148",
         "-0.0053205943843168",
         "-0.0077262083774826",
         "-0.0188339303385889",
         "-0.0050873211276687",
         "6.884615457414256e-05",
         "-0.0248621962416373",
         "0.0011299050799216",
         "-0.0050087840964947",
         "0.0121951641976492",
         "-0.0954049066806608",
         "-0.0209074550067747",
         "-0.0124960764097613",
         "-0.0040845601701618",
         "0.0102936773012263",
         "-0.0316805466823474",
         "-0.0415125627547834",
         "0.0338765884929681",
         "-0.0106179878503921",
         "0.0321120104201773",
         "0.0093419358380992",
         "-0.0304224573954764",
         "-0.0244044924794829",
         "-0.0094443894967108",
         "0.0016319442440762",
         "0.0002574209735506",
         "-0.0010287207524077",
         "-0.0146759389973218",
         "-0.005835391046472",
         "-0.0100754560058159",
         "8.855608537050585e-05",
         "-0.0052211936033036",
         "0.0166353793072036",
         "-0.0173257584077585",
         "-0.0160286077782382",
         "0.024615482685206",
         "0.0211976977958816",
         "-0.0038919994795172",
         "-0.0351655639791778",
         "-0.032397272483607",
         "0.008742271320552",
         "0.0035038986327333",
         "0.0010104175697436",
         "0.0487380987727932",
         "-0.0055138151836285",
         "0.0020240641021413",
         "0.01835589635733",
         "-0.015092479183756",
         "-0.0095449009482329",
         "0.032711554559724",
         "0.0134407009241876",
         "0.0010137721679901",
         "0.0354429133672267",
         "0.0008151491986012",
         "0.0309444721806364",
         "-0.0063980532229585",
         "-0.0038954338320034",
         "-0.0194731569824454",
         "-8.160759505726478e-05",
         "0.0161987311261855",
         "-0.0012817510611137",
         "0.0053739352384634",
         "-0.0121261990668618",
         "0.0429621363216052",
         "0.0296555172443144",
         "-0.0146639377754004",
         "0.0014502136555933",
         "-0.0188994802212414",
         "-0.000786076996645",
         "-0.0030670992146181",
         "0.0068634492515347",
         "0.0076000058334848",
         "-0.0046656204911454",
         "0.0081248788039829",
         "-0.0340979414098058",
         "0.0119544395509889",
         "-0.001268556619001",
         "0.000158780971075",
         "0.0079371493278435",
         "-0.0185840783687107",
         "-0.0004012203557088",
         "0.0142076900799354",
         "-0.0027699915616625",
         "-0.0019047581023485",
         "0.0086672921306345",
         "0.0034686304366688",
         "-0.0094273526094348",
         "-0.0294233653005481",
         "-0.0056381445719581",
         "0.0036157101664191",
         "-0.0108082164786953",
         "0.021935402201785",
         "-0.0151467045665687",
         "-0.0119252240122015",
         "0.0006658605324088",
         "-0.0160540435136652",
         "0.0192748834700369",
         "-0.0053911662179173",
         "0.0212641554644523",
         "0.0218828950880429",
         "-0.0174989876509087",
         "0.0305790181555478",
         "0.0005522060612297",
         "0.0105688900181726",
         "0.0077266894064811",
         "0.0017812005614377",
         "0.0012368218694933",
         "-0.0224691291079974",
         "-0.0304108452261545",
         "-0.0351936595922527",
         "0.0187454294359277",
         "0.016328141600123",
         "-0.0621431312543441",
         "-0.0179998117245887",
         "0.0054900406037778",
         "0.014971096355494",
         "-0.0231670087324998",
         "0.0222065548038015",
         "0.0067779243164132",
         "0.0382358067241477",
         "-0.0232771463201226",
         "-0.0084262545162516",
         "0.0034335850702698",
         "-0.0141148364274132",
         "-0.0201297958691949",
         "0.0084120871410975",
         "0.0122936774350865",
         "-0.0092818104269423",
         "0.0050785161912776",
         "-0.0113867825708618",
         "0.0088393061294076",
         "-0.0331003306095977",
         "-0.0028374893613463",
         "-0.0002754506311255",
         "-0.0101918373944928",
         "0.0043599544817547",
         "-0.0048951547277014",
         "0.0229256172937359",
         "-0.0028128627293255",
         "0.0123748248634574",
         "-0.0119538535202242",
         "-0.0258347736819737",
         "0.0006536048919947",
         "-0.0153040460525218",
         "-0.0138363835296644",
         "-0.0053815687496672",
         "-0.0069563642318848",
         "0.0",
         "0.0139133838861771",
         "-0.0114194054999029",
         "0.0125219242591005",
         "-0.0001918163984838",
         "-0.0263688178281988",
         "-0.0053179801239502",
         "0.0013859320961109",
         "0.0034606730232933",
         "0.0024632026330517",
         "0.0142520761240272",
         "-0.0039732322123763",
         "0.0226696550482849",
         "-0.005137358518586",
         "-0.0221860750430632",
         "0.0003911675379888",
         "-0.0071365986351765",
         "0.0118157324546639",
         "0.0175166269049784",
         "-0.0018172815344784",
         "0.017054617130938",
         "-0.0035797483231505",
         "0.0095490284381078",
         "-0.0047761750873011",
         "-0.0017879462986334",
         "-0.0127262828874946",
         "-0.0023870944252901",
         "0.0055512497439877",
         "-0.0065675428021623",
         "-0.0138928451077064",
         "0.0234162533145674",
         "0.0084496356277288",
         "-0.0034833453427199",
         "-0.0271138842802473",
         "-0.0014565764532932",
         "-0.0096274663019366",
         "0.0148269983642885",
         "-0.0097724332506577",
         "-0.0150478700602981",
         "0.0009920846011448",
         "-0.0011894003428456",
         "-0.0050606261275982",
         "0.0021940042434249",
         "-0.0246790308029639",
         "0.0221406988083026",
         "0.0097285019435198",
         "-0.0061221773264951",
         "0.0270626423808322",
         "-0.009930283566324",
         "-0.0368420602764293",
         "0.0006185881607632",
         "-0.0011334107955009",
         "-0.0090777767811315",
         "-0.0286281085916807",
         "0.010395508794704",
         "0.0875054115748412",
         "-0.0443772596522729",
         "0.003163912194299",
         "0.0275715916716017",
         "-0.0023764038083278",
         "-0.0085352055143449",
         "0.0136136551486727",
         "0.0146159156555201",
         "-0.0076893557036028",
         "0.0182443411026445",
         "0.0070319615859089",
         "-0.0214271479402659",
         "-0.0081133827503466",
         "-0.0102493137274369",
         "0.002887659807379",
         "-0.0030778404036715",
         "-0.0214122912751152",
         "0.0031548963106804",
         "0.0067971095688228",
         "0.0085652066568995",
         "0.0104904989891105",
         "-0.0248169827547607",
         "-0.0235222809335488",
         "0.0101754848142106",
         "-0.0010279686906373",
         "0.0486676698291241",
         "-0.0034342063264635",
         "0.012700516284986",
         "-0.0054441366461942",
         "-0.0058649876814415",
         "0.0128808616234745",
         "0.0045628372883335",
         "0.007827473456375",
         "0.0003836821689831",
         "-0.0005752556446959",
         "0.053323103598299",
         "0.0255851143743455",
         "-0.0128727749211651",
         "0.0062054447955299",
         "-0.0033965227670885",
         "-0.0084303746478389",
         "-0.0149242151264709",
         "-0.015792721440405",
         "-0.0156731968459792",
         "-0.0026538855951709",
         "-0.0105482380843409",
         "-0.0039376839463076",
         "0.0018320930913793",
         "0.0062559078056132",
         "-0.0108081604609875",
         "-0.0220461030778386",
         "-0.003460401362846",
         "0.0100207314435238",
         "-0.0028913622031424",
         "-0.0081990370987927",
         "-0.0068557220465423",
         "0.0115724164539912",
         "-0.0115404101969672",
         "0.0045686800871216",
         "0.0522484295825078",
         "0.0139263225859955",
         "-0.0106089120045802",
         "0.021253981396377",
         "0.0026250133708005",
         "-0.000935037383474",
         "-0.0044922356782254",
         "-0.0039484435574695",
         "0.0027370832853912",
         "0.0155308144017063",
         "-0.0067661156145601",
         "-0.0570175947411734",
         "0.0125681378926505",
         "-0.0123143773473022",
         "-0.0001977731921012",
         "-0.0080166444660335",
         "-0.0123716496513578",
         "-0.0151529975629775",
         "-0.0046158134734898",
         "-0.0231863879602149",
         "-0.0096002119531275",
         "-0.0044737534732102",
         "-0.0021398979555431",
         "0.0038602418238917",
         "-0.03631722137414",
         "-0.0158500640573865",
         "-0.0086720281290636",
         "-0.0021587252649029",
         "0.0064898571568703",
         "0.0073528337647776",
         "0.0178551833178037",
         "-0.0027580667951658",
         "-0.0151566811236347",
         "-0.0038192577411146",
         "0.0142083609673731",
         "0.0067822696227011",
         "-0.0237437370705188",
         "-0.0151585152264315",
         "-0.0058578624867887",
         "-0.0109762821714776",
         "0.0528037504701652",
         "-0.0081002675173498",
         "-0.0082785374792214",
         "-0.0127465987346672",
         "0.0228516605890916",
         "0.0159743273967412",
         "-0.0042883465940216",
         "0.0193243773303488",
         "0.0167913640058825",
         "-0.0036227234000785",
         "-0.0039561639883145",
         "-0.008910342875481",
         "-0.0067157760925009",
         "0.0121047827779847",
         "-0.0012930553799016",
         "0.0245980937231142",
         "0.0194799192070069",
         "0.0040914577059767",
         "-0.0038659216415084",
         "-0.0037758387913972",
         "-0.0104231866106613",
         "0.0146823270618265",
         "0.0060815419253534",
         "0.0116727781585785",
         "0.0148345698569978",
         "-0.0004059515287132",
         "0.0060931911383186",
         "0.0078733672488071",
         "0.035953719086164",
         "-0.0169180156215403",
         "0.0108172212334045",
         "0.0047669734010895",
         "0.000871412542645",
         "-0.0020315256359186",
         "-0.0058161746677082",
         "0.0158931370784114",
         "0.0273538979295444",
         "-0.0005606235232666",
         "-0.0103757122804005",
         "0.0035891974396442",
         "-0.0242823056336417",
         "0.0182310046417641",
         "0.007294297870015",
         "0.0167403318121446",
         "0.005827540808319",
         "0.0087364724757186",
         "-0.0033732094393815",
         "0.0062204087102037",
         "-0.0200909637583632",
         "0.0035252649119823",
         "0.0038828426839565",
         "0.0024864024592474",
         "0.0022046538625455",
         "-0.0073327671493145",
         "0.0057248934176734",
         "-0.0073448851303902",
         "-0.0044393985808771",
         "-0.0144929337395623",
         "0.0033937354746647",
         "0.0124014604005404",
         "0.002412667052299",
         "-0.1103499200245788",
         "-0.029760495559383",
         "0.0293864577086018",
         "0.0001039900651924",
         "0.0040629003312411",
         "-0.0065365891785891",
         "-0.0146213273402669",
         "0.0165341870273225",
         "-0.0108435358214464",
         "-0.022557054930043",
         "0.0111074516674631",
         "0.0008531362090495",
         "-0.0068200807377204",
         "-0.0032187639718319",
         "0.0186220659767841",
         "-0.0208180039841352",
         "-0.0025899974187059",
         "0.0161698999006685",
         "-0.0122321891387673",
         "0.0062465514129044",
         "-0.0011980325311519",
         "0.0056701826140721",
         "0.0037948653810893",
         "-0.0082092187482201",
         "0.0052275565574113",
         "-0.0091006498138586",
         "0.0072162845583449",
         "-0.0028223715316433",
         "-0.0045722213676878",
         "0.0136701546880284",
         "-0.0018339981471735",
         "0.0010807334300486",
         "0.0138199451208502",
         "0.0015974745728919",
         "0.049654485467194",
         "0.0541936377998966",
         "-0.0091285853091608",
         "0.0182312406782605",
         "-0.001904739049417",
         "0.0049619505131817",
         "0.0264905949619744",
         "-0.0022199344171498",
         "-0.0101046770273766",
         "-0.0181683251736467",
         "-0.0210797987954324",
         "0.0190979560124746",
         "0.0141504092770963",
         "0.0601293137201248",
         "-0.0125506476088352",
         "0.0037699666440236",
         "-0.0284364205633426",
         "0.0054119773492438",
         "0.0098868800951983",
         "0.0073969317468716",
         "0.0002158701644598",
         "0.0059375912690686",
         "-0.0200686843658696",
         "-0.0001093863298706",
         "-0.0027382906430696",
         "-0.0009884879801952",
         "0.0057168387323029",
         "0.0086356964411105",
         "0.0037932553224309",
         "0.0041028597098149",
         "-0.0105377268846661",
         "-0.0066289685578302",
         "0.0045947483200465",
         "0.0035934714706966",
         "0.0472006655052781",
         "0.0199979107444816",
         "-0.0165583636541342",
         "0.0035119530613298",
         "-0.0057642301746706",
         "-0.0108706426645418",
         "0.0084780515876978",
         "0.0101713410675619",
         "0.0164388609207619",
         "0.0070756262871041",
         "0.0045168041640752",
         "0.0115906947282637",
         "0.0357566444924097",
         "0.0038146710722439",
         "-0.0004751144974787",
         "-0.0196748179611155",
         "-0.0159977956823942",
         "-0.0126995945485252",
         "0.0016078101914887",
         "-0.0099328129983298",
         "-0.0113498070239103",
         "0.0065600253800151",
         "0.0197556506381777",
         "-0.0037946617197905",
         "-0.0115277106277412",
         "0.0045634835812038",
         "-0.0084797009277479",
         "0.0268783982329385",
         "-0.0019829008607193",
         "0.0065567740385343",
         "-0.0010857663647385",
         "0.0032606099028822",
         "-0.006302895705381",
         "-0.0036670809384445",
         "0.0023873227227875",
         "0.0088320512200372",
         "0.0071807697672983",
         "0.0058598874977284",
         "-0.0091269193934508",
         "-0.0058796379756512",
         "0.01695417071194",
         "-0.009498876467285",
         "-0.0154613267012979",
         "0.0100388083969709",
         "0.0",
         "-0.0029521825431474",
         "-0.0021713797615474",
         "-0.0139466172874557",
         "0.019861562565224",
         "0.0153438314608453",
         "0.0078464944507619",
         "-0.0126873729296319",
         "0.0057436665314754",
         "0.0128738627439066",
         "-0.0059250286805424",
         "-0.0009614058681591",
         "0.0101039914106826",
         "-0.0022863441983775",
         "-0.0141316045258071",
         "0.0013559308803989",
         "0.229906202737661",
         "-0.015728218222248",
         "0.0127036558681743",
         "0.0063117361572497",
         "-0.0084673026099987",
         "-0.0097256346879969",
         "-0.0050303368971253",
         "0.0022470706862405",
         "-0.0164946045833817",
         "0.0187250766528863",
         "-0.0076720049881254",
         "-0.0065232639511031",
         "0.0161315500853302",
         "0.0065417302683676",
         "0.0078465837575045",
         "-0.0008650684565021",
         "0.000236170845941",
         "0.0048787766750739",
         "0.0119811595378762",
         "-0.0048749645003569",
         "0.0151633077287229",
         "0.0154024304780999",
         "-0.0034131803737159",
         "0.0015983430916652",
         "0.0098776555203654",
         "0.0133924765660367",
         "-0.0285098923596995",
         "0.0099350270671465",
         "-0.0056754871402441",
         "-0.0213087970931367",
         "-0.0010886823604987",
         "0.0126887162509805",
         "0.0010762131186374",
         "0.0138217274738632",
         "0.0087100581269901",
         "0.0107374502201857",
         "-0.0077260128453094",
         "-0.0015722604461028",
         "0.0035992487318188",
         "0.006948657290527",
         "0.0064554075190468",
         "0.0116484222867607",
         "-0.0045182947742745",
         "0.0207907598428556",
         "-0.0153471750987078",
         "-0.0043700388376788",
         "0.0026336221551743",
         "-0.0118927151973756",
         "-0.0047995213796395",
         "0.0036355584286829",
         "-0.0031048885955259",
         "-0.0011864932055287",
         "0.0023758052878892",
         "-0.0114804671291616",
         "0.0096657680197194",
         "0.0074952457579622",
         "-0.0002209691803632",
         "0.0045680085844943",
         "-0.0049140004694213",
         "-0.0039799042614254",
         "-0.0022198295111618",
         "-0.023064534623897",
         "-0.0289985622394892",
         "-0.0112579978787419",
         "-0.0136000366649431",
         "0.0444086936868415",
         "-0.0078286078433739",
         "-0.013228124311324",
         "0.0071339492124788",
         "-0.0097298806625244",
         "-0.0107688119772565",
         "0.0053238055842357",
         "0.0584888474730103",
         "-0.0063470821022736",
         "0.0095438453411429",
         "-0.0099747043563036",
         "-0.0199247324203816",
         "0.008438670362155",
         "0.0066185680874475",
         "-0.0139037559002682",
         "0.0029278729797919",
         "-0.0152108382818269",
         "-0.0027303807748082",
         "-0.0040675914800262",
         "0.0086396792710565",
         "0.0147952995299482",
         "0.0201810152811066",
         "-0.0035351950343259",
         "0.0079257214924037",
         "-0.0047929121353798",
         "-0.0130935470954832",
         "-0.0053373977841556",
         "0.0220773986103781",
         "-0.001650024197748",
         "-0.0121703641317376",
         "-0.0130807705629018",
         "0.0",
         "-0.0001542031525505",
         "0.0013101607659204",
         "-0.003463618141352",
         "-0.0109677534735542",
         "-0.0196798636951448",
         "0.0127459695877987",
         "0.0169117898492352",
         "-0.0023205098004888",
         "0.0106993628365128",
         "0.0062901863212589",
         "-0.0076230772081166",
         "-0.0080657519866368",
         "-0.0003098161243083",
         "0.0047254177250974",
         "0.0013106658835302",
         "0.0032340021975629",
         "0.0190346404493377",
         "0.0132558680742229",
         "-0.0246784526792199",
         "0.0258365013901273",
         "0.019390745817283",
         "0.0041541984091293",
         "0.0101611222330697",
         "0.0132920870182959",
         "0.0415514591764818",
         "0.0151814375326875",
         "0.003420136521649",
         "-0.0013367468680627",
         "0.0139865945255472",
         "-0.0007920032165895",
         "0.0009246011043559",
         "0.0188729132970999",
         "-0.0142486574505399",
         "-0.0141918619072384",
         "0.0109303707655428",
         "0.0050765762751137",
         "-0.0008526520324741",
         "-0.0160846513973752",
         "-0.0012009819444468",
         "0.0025385346403288",
         "-0.0079963526054511",
         "-0.0010074724564796",
         "0.004256974124192",
         "0.0024896406145404",
         "0.0081212927744582",
         "-0.0074566920102764",
         "-0.0275020529457865",
         "0.0034487516535706",
         "0.007286208342891",
         "0.0060734231638091",
         "0.0209591789336587",
         "0.0305606611357782",
         "-0.010959238020591",
         "-0.0492764805685157",
         "0.0119978060652483",
         "-0.004538975450003",
         "-0.0043555150334479",
         "0.0090225019678413",
         "-0.0005419444093002",
         "0.0183002055706682",
         "-0.0275559054731052",
         "0.0295003242884193",
         "0.018615803361377",
         "-0.014946860156456",
         "0.0151736587112754",
         "-0.0126623742340105",
         "-0.0060157574959164",
         "0.0185554221522179",
         "0.0022853811130556",
         "-0.005342067258754",
         "-0.0277704377637657",
         "-0.024252263839302",
         "0.0139464534902953",
         "0.0055154402507653",
         "0.0006094422631985",
         "-0.0542771339457571",
         "-0.0918133771769624",
         "0.0129225383525701",
         "-0.0108129082586546",
         "0.0877634738967436",
         "-0.0386784689143006",
         "0.022411037829449",
         "0.000441320779261",
         "-0.0055143006417981",
         "-0.0354871210106855",
         "-0.0019162960841195",
         "-0.0316412730477018",
         "0.0812118787419371",
         "-0.0019805198330118",
         "0.020726204430544"
        ],
        [
         "AOS",
         "0.0166330115638506",
         "-0.0167137161291685",
         "0.0067033396022608",
         "-0.0112963127627003",
         "-0.0031268041591939",
         "0.0097720670290806",
         "0.0033453114834154",
         "-0.0123837942319794",
         "-0.0285749821454488",
         "0.0011171839018757",
         "-0.0137616885751444",
         "-0.0168445806690271",
         "-0.0177727173588334",
         "0.0255141059407575",
         "-0.0429041793423409",
         "-0.009018588286911",
         "0.0151230514904334",
         "-0.0009264264750773",
         "0.0121856115838574",
         "-0.0111228934700376",
         "-0.0048958212427311",
         "-0.0147609028921678",
         "-0.0068833749703757",
         "0.0038054900247097",
         "0.0044679452653531",
         "0.0062003322564276",
         "-0.0324180797531826",
         "-0.0127372759939765",
         "-0.001121716837827",
         "0.0172681241803267",
         "-0.0019324886184923",
         "-0.0175606125860876",
         "0.0021109578676796",
         "-0.0234547755108043",
         "-0.0235869487527282",
         "-0.0017676323372195",
         "0.0239042820859316",
         "-0.0116728717223806",
         "-0.0284341712494609",
         "0.0415729886817592",
         "-0.0103746857250494",
         "-0.0042225341772538",
         "-0.0156455791017758",
         "-0.0164882940882952",
         "0.0222021064909403",
         "-0.015809767245523",
         "-0.0133612708878686",
         "0.0024346224515208",
         "0.0039463930699681",
         "0.0176897832368296",
         "0.0102512576764768",
         "0.0007349764825292",
         "-0.0019103639255114",
         "-0.0017666147406608",
         "-0.0358407339846262",
         "0.013155930598885",
         "0.0111730413414388",
         "-0.0046286838886909",
         "0.0123010516692623",
         "-0.01822751098711",
         "-0.0356227570772789",
         "0.0311474508753841",
         "0.0179112585140845",
         "-0.0249030071375624",
         "-0.0120814980232263",
         "-0.0196592456438474",
         "-0.0072638364459715",
         "0.0077940830844875",
         "0.0178345205703747",
         "0.0032563489437207",
         "-0.0140649409871278",
         "-0.0070544444597366",
         "0.0320492804483074",
         "0.0142267886647251",
         "0.0",
         "-0.0235295153853208",
         "-0.0016991169555934",
         "-0.0349682625881763",
         "0.0083374222674732",
         "-0.043763009858708",
         "-0.0240520813570972",
         "0.0152318499718255",
         "-0.0037087059899535",
         "0.0429781450329143",
         "-0.0439650872753072",
         "0.0079756791723386",
         "0.0065655278435725",
         "-0.0138818749114428",
         "-0.0269674949119954",
         "0.0294579837770279",
         "0.0160853498996544",
         "-0.0171638576130932",
         "0.0232281975207766",
         "-0.0427505805237014",
         "0.0117707438340022",
         "-0.0116338052920942",
         "0.0103859014523008",
         "-0.0003426175029325",
         "0.0032561879699077",
         "0.018619798355034",
         "0.0266645581161175",
         "-0.0179680840418113",
         "0.0053227107638811",
         "0.0119127245758734",
         "-0.0052323308698015",
         "0.0169297043059735",
         "-0.0011313243480596",
         "-0.0114887660021588",
         "-0.0045834048153807",
         "-0.0452227846754245",
         "-0.0339305655177119",
         "-0.0080226816097057",
         "0.0071890672738801",
         "-0.0437188205761499",
         "-0.0089567840537387",
         "-0.0041424295821697",
         "0.0032142177873801",
         "0.0201659319234503",
         "0.0312210669151424",
         "0.0005375473289808",
         "-0.0119963569220025",
         "-0.0068867176686258",
         "-0.002189772103474",
         "0.0246890361081726",
         "0.0242728520161044",
         "0.0099321074170177",
         "0.0284677541915949",
         "-0.0442877582058608",
         "-0.0049149407287198",
         "-0.0097019064833248",
         "-0.0115780904420834",
         "-0.0245089861128341",
         "0.0465546945480994",
         "-0.0210063134514039",
         "0.0369636307576861",
         "0.0064335556886037",
         "0.0184865992278489",
         "0.0008481842660763",
         "-0.0013559719166894",
         "0.0020365835153028",
         "0.0254066059973439",
         "0.0121142427088347",
         "0.0373830644372392",
         "-0.0211790324979553",
         "-0.023575012839754",
         "0.0167024058549791",
         "-0.0030904000266399",
         "-0.0112579633594307",
         "0.0148515549153891",
         "-0.01951232870241",
         "0.0232173650846261",
         "0.0116693574890509",
         "0.0232297925860456",
         "0.0032878604282629",
         "0.0039013015486317",
         "-0.0018652457208594",
         "-0.0015574107998838",
         "-0.0230852352586612",
         "-0.0213956440246558",
         "-0.0088104837659462",
         "0.0034566527377513",
         "0.0026247207146719",
         "-0.044011710686648",
         "-0.0124935182873088",
         "-0.0045062784819651",
         "-0.0172351802274406",
         "-0.000531493311689",
         "-0.002658596800446",
         "-0.0067533587182987",
         "0.023618028915241",
         "-0.0062927047692618",
         "-0.009850490829243",
         "-0.0021318037339639",
         "-0.0354281327140934",
         "-0.0352529098444849",
         "0.0124354473352028",
         "-0.0226757424335135",
         "0.0168213730095985",
         "-0.0260506590465922",
         "-0.0031236820225558",
         "-0.0105759203879309",
         "-0.0136577326923519",
         "-0.0084288024715859",
         "-0.0016190143114565",
         "0.0227041702717711",
         "-0.0340931797345112",
         "-0.0030780638261942",
         "0.042198344814057",
         "0.0341694219155912",
         "-0.0164246846711301",
         "-0.013980569553905",
         "-0.0252068466579762",
         "0.0016163125017032",
         "-0.0054458493881398",
         "-0.0036503920828965",
         "-0.0054956493994027",
         "0.0036840939844597",
         "0.0524061223224279",
         "0.0029062981185266",
         "-0.0191265985928589",
         "-0.0395904659530608",
         "0.0280969714311063",
         "0.0133652236063384",
         "0.0255905041694384",
         "-0.0028788879330213",
         "-0.0009626304123762",
         "0.0538758928732081",
         "0.0073557642005319",
         "-0.00328594151999",
         "-0.0164835092964724",
         "0.0124766923724173",
         "0.0296119304172834",
         "0.0166131399112272",
         "-0.0165172767294159",
         "-0.0164373922512566",
         "0.0768391262149497",
         "0.0121457441102204",
         "-0.0081667075122175",
         "0.0147876032210934",
         "-0.0097698462073778",
         "0.0050166535061537",
         "0.0196339127799773",
         "0.0019582884875881",
         "0.0081433401568764",
         "-0.0059774226708239",
         "0.0053632350242314",
         "-0.0339476725648715",
         "0.0122155681784532",
         "0.0041330220459108",
         "-0.0042805594508101",
         "-0.0016534164176778",
         "-0.0092746767744916",
         "-0.0075226968659664",
         "-0.001684262696328",
         "-0.0143411222717438",
         "-0.0020540901346487",
         "0.0036020566847358",
         "0.0146982224974818",
         "-0.008253234730697",
         "-0.0353261168044241",
         "-0.013204080416617",
         "0.0001782468607174",
         "0.0049946938897418",
         "0.0159745045692951",
         "-0.0176450180381169",
         "0.0119153891156413",
         "0.0135325295048276",
         "-0.0156060949020865",
         "0.0156773103379879",
         "-0.0072840755756387",
         "0.0293500212631083",
         "0.0295316909778644",
         "-0.0211012306756451",
         "0.0346917531079471",
         "0.0008138232417507",
         "-0.0265083412932003",
         "0.045439357506597",
         "-0.0188558971976992",
         "0.0118892882608132",
         "-0.0338001431651477",
         "0.0018323722131392",
         "-0.0390754522031674",
         "0.0235334496440202",
         "0.017920645182669",
         "0.0076398350305948",
         "-0.002472259751882",
         "-0.0275943865974224",
         "0.0256584894169544",
         "-0.0083248656487741",
         "0.1366689084663002",
         "0.0333824083587173",
         "0.0062893855487582",
         "-0.0191760980478563",
         "-0.0225923190369172",
         "-0.012742661439784",
         "-0.0063033607535046",
         "-0.0060415054086974",
         "0.0045586552899754",
         "0.0290426027008761",
         "-0.0080847369947634",
         "0.008150632716618",
         "-0.0045570079230561",
         "-0.0070878737066808",
         "-0.02334925296717",
         "-0.00304568253264",
         "0.0051933151738259",
         "-0.0138275631000224",
         "0.0064713849217541",
         "0.0047457074339483",
         "0.0173703309907766",
         "0.0130297820548934",
         "0.0072442772579399",
         "-0.0180537422617506",
         "-0.0076234888104401",
         "0.009338919574469",
         "0.0062677921009464",
         "-0.0197241067745167",
         "-0.0048413546547172",
         "0.025843841496099",
         "-0.0120035080390611",
         "0.0104993165158249",
         "-0.0282025533297398",
         "0.0149688395662341",
         "0.0070727843720481",
         "-0.006425364662689",
         "-0.0030079429216437",
         "0.0067882605853508",
         "0.0128858594149852",
         "0.0081361646538451",
         "0.0112983084804918",
         "-0.0147995297677606",
         "0.0184093405072707",
         "-0.0043382974503353",
         "-0.0438634155963755",
         "-0.0185327809282799",
         "-0.0001547794841474",
         "0.0134674718727396",
         "0.0013747170378619",
         "0.0070166253498917",
         "0.0049983964586823",
         "0.0116054149399962",
         "0.0067041986030458",
         "0.0143552724556974",
         "-0.009629244424865",
         "0.0131112445725083",
         "0.0001454740519415",
         "0.0020353072832981",
         "-0.0050779903380357",
         "-0.0156044416654287",
         "0.0202377717383357",
         "-0.0039381427128708",
         "0.0270904220045016",
         "-0.0051325737432025",
         "-0.0045857622710286",
         "-0.0038872282799365",
         "0.0171989309420561",
         "-0.0009946221156377",
         "-0.0140802285805261",
         "-0.0014425671503611",
         "-0.01184657102889",
         "-0.0169589037002644",
         "0.0142772033548967",
         "-0.0145160767922004",
         "0.0159200878607794",
         "0.0125953185612948",
         "-0.0104136158322615",
         "-0.0033616289682594",
         "-0.0214107763658708",
         "-0.0056946612653713",
         "0.0021098308663942",
         "0.0027074014325583",
         "0.0003000756379261",
         "-0.0412357639437324",
         "0.0100095200258325",
         "0.0593062500403209",
         "0.0005847716006688",
         "0.002775611096105",
         "0.0209791771479903",
         "-0.0048518298456295",
         "-0.0136218030907828",
         "-0.0031981911770284",
         "0.0167711483925581",
         "-0.0012908732364511",
         "0.012638323924802",
         "0.0069492941114561",
         "-0.0128169542564172",
         "-0.0034240821654106",
         "-0.0115963486615841",
         "0.0065179376787465",
         "0.0210102318671945",
         "0.0186047336150485",
         "-0.0019371126372969",
         "0.0034658667920113",
         "0.0055264291686853",
         "-0.0056335515050129",
         "-0.0182394664523206",
         "-0.0063336557361705",
         "0.000566520760848",
         "0.0219423642232821",
         "0.0139906742631243",
         "0.0039619260761918",
         "-0.0054429573576354",
         "0.0180600056378363",
         "0.0079290600817911",
         "0.0201333882829108",
         "0.0016989696246505",
         "-0.0036535229418059",
         "-0.0048454406552936",
         "-0.0075009263659578",
         "-0.003314886261587",
         "-0.001330197191276",
         "-0.0185160441526771",
         "-0.0162168828846591",
         "0.0060949264652614",
         "-0.000550815773251",
         "0.0",
         "-0.0039948063203789",
         "0.0047023286088065",
         "0.0165199373816138",
         "-0.0081257851179383",
         "-0.0061440520342779",
         "-0.0109905947629846",
         "-0.0087512234378058",
         "-0.0011210180572991",
         "-0.006453362440609",
         "-0.007483676405642",
         "-0.0079671357183097",
         "-0.0116161638276327",
         "-0.0008706996779035",
         "0.0081325890217835",
         "0.0080668707837969",
         "-0.016862033362715",
         "0.013808018878606",
         "0.0137635124540353",
         "0.0162636803934141",
         "0.0061231342324199",
         "0.0027661075003906",
         "0.0147586362097085",
         "-0.0221559212690309",
         "-0.0012508416301075",
         "-0.0018094214787243",
         "-0.0213329173631492",
         "0.0045591515193157",
         "-0.0317687758171754",
         "-0.0168447237334576",
         "0.0092372314759647",
         "-0.0143194913124952",
         "0.0058410236940418",
         "-0.0022333850675727",
         "-0.0098494047234475",
         "-0.0177845532652232",
         "-0.0101271931199741",
         "-0.0006202086063546",
         "0.0155110123925619",
         "-0.0003052881942077",
         "0.0157372509236501",
         "-0.0052649671127976",
         "-0.001209675557628",
         "-0.0102952881318766",
         "0.0133087946717873",
         "-0.0025663806032022",
         "0.0184653124118328",
         "0.0199137597843972",
         "0.009179667135968",
         "0.0264221896249818",
         "-0.0163171572485127",
         "0.0047188426240796",
         "0.0233418854132716",
         "-0.000973442125109",
         "-0.0467770721741173",
         "-0.0213231810927936",
         "-0.0052232081155244",
         "-0.0040506932099624",
         "0.0037658745142452",
         "-0.0217588339900308",
         "0.0602855229934577",
         "-0.018952606534152",
         "0.0296339552937989",
         "0.0038854440441",
         "0.0150515905177459",
         "0.0076261377914119",
         "0.0029432562345299",
         "-0.0065680758412407",
         "-0.0061892941039268",
         "0.0069356794751267",
         "0.0032331082198584",
         "0.0203165436459378",
         "0.0076902087845298",
         "0.0359771694680977",
         "-0.0134175191160492",
         "0.0085332440685459",
         "0.0097833299046885",
         "-0.0035350519189072",
         "-0.0031533362340354",
         "0.0001317661209891",
         "0.0017132473327807",
         "-0.0006578221688429",
         "-0.0110584203783576",
         "-0.0002662670827915",
         "0.0034620827341074",
         "0.0183120565513281",
         "0.004560951899569",
         "-0.010118136910004",
         "0.0127113958284428",
         "0.0094461481532641",
         "-0.0002565026877346",
         "0.0006412214259075",
         "0.018452207945711",
         "0.0006289062775728",
         "0.0133282542981971",
         "-0.0172477206145397",
         "0.0023989818494356",
         "0.0190200002041478",
         "-0.0082818323359002",
         "0.0165773822733339",
         "0.0020844184703665",
         "0.0014682039461126",
         "0.0037874583293906",
         "0.0009736166577407",
         "0.0024319583660248",
         "-0.0121300079157854",
         "-0.0335216328536323",
         "0.0085122626733826",
         "-0.0042831286019325",
         "0.0029098622909666",
         "0.0071905899523616",
         "0.0080160461459424",
         "0.0022366086193421",
         "0.0055789951104578",
         "-0.0016027764037574",
         "-0.0106199002324023",
         "0.0057414706299114",
         "0.0078180760299917",
         "0.0112057172963009",
         "-0.0032879598916715",
         "-0.0185705883797713",
         "0.011701823968631",
         "-0.00430681926153",
         "0.0090213326829111",
         "-0.0197957998377285",
         "-0.0264676253830696",
         "0.02525449909925",
         "-0.0155837259486634",
         "-0.0158306210937085",
         "0.0146582206781471",
         "0.0207108744072135",
         "0.0051353370214384",
         "0.0036135862253725",
         "0.0091879571970692",
         "-0.024975325372774",
         "0.0242271206993964",
         "-0.0020943526774017",
         "-0.0112346221874757",
         "-0.0056185818473812",
         "0.0074082476983716",
         "0.004736475105185",
         "0.0098002373008287",
         "0.0023340546187278",
         "0.0087021439870504",
         "0.0071689019207983",
         "0.0001206959012927",
         "0.012545054209232",
         "0.0138194894949761",
         "-0.0165686926705285",
         "0.0096786486116278",
         "0.0254436184977362",
         "-0.0095786712126346",
         "-0.0059427121105527",
         "0.0072675953877581",
         "0.0026767134420873",
         "0.0053387752219429",
         "0.0054259226039696",
         "-0.0141232376921965",
         "0.0107151309201245",
         "0.0099100888664975",
         "0.0255591413647489",
         "-0.0066756243771771",
         "-0.0138888574962049",
         "-0.0018174653340703",
         "0.0110378715096302",
         "0.0068656120322525",
         "-0.0042477039537742",
         "-0.0059497613848313",
         "0.0011291982280625",
         "-0.0170331232304221",
         "0.0045902345467701",
         "-0.0065113027047352",
         "-0.005749098493415",
         "-0.0108708491562866",
         "0.0072489926383927",
         "0.0040626107287553",
         "-0.0156069353270069",
         "0.0029360356054133",
         "0.0124121988231162",
         "0.0026601254970959",
         "-0.0071518147054976",
         "0.0096433078929418",
         "0.0117376215246502",
         "-0.0104641585619815",
         "-0.0480459305393016",
         "0.0047089632427594",
         "0.017131111928202",
         "-0.0174356309763638",
         "-0.0006036682083476",
         "0.0091799357622091",
         "0.0090963385705742",
         "0.0099632963043934",
         "0.0008220991585605",
         "0.0042243359930265",
         "0.0094647284288591",
         "-0.0001157186774241",
         "-0.0037045003126914",
         "0.0039506892885965",
         "0.0042824375674723",
         "-0.0162497772391916",
         "0.003748766352621",
         "0.0015171695624003",
         "-0.0008156860398933",
         "-0.0078143626719857",
         "-0.0117549683620405",
         "0.0084453303018885",
         "-0.026421255047917",
         "-0.0173249626675324",
         "0.0117124267139261",
         "0.0192541463272157",
         "-0.017216545143514",
         "-0.0115571161688073",
         "0.0102152986160422",
         "-0.0146198304345708",
         "0.0024727105178381",
         "0.0049336040340781",
         "0.0013498004240604",
         "0.0245127842605104",
         "0.0009571290715562",
         "-0.01446157943279",
         "0.014795113069937",
         "0.0064531174452961",
         "-0.0035622011379067",
         "0.0026216625648678",
         "0.003446683005231",
         "-0.0177663375562927",
         "-0.0066320254220182",
         "-0.0043700614143652",
         "-0.002926067518341",
         "-0.0195646470610202",
         "0.0088550624408656",
         "0.0018544709601144",
         "-0.0069102439159353",
         "0.0072066643776778",
         "-0.0040709558223891",
         "0.0279944939414873",
         "0.0372334518612813",
         "0.0203299826219045",
         "-0.0003416403012667",
         "0.0476082289393642",
         "-0.0200044382204753",
         "-0.0124250836758965",
         "-0.0115704492012811",
         "0.0093191972229218",
         "-0.0939083033071778",
         "0.0036037801836286",
         "0.0175830321819951",
         "0.0282308120955514",
         "0.0",
         "0.0112425429125644",
         "-0.0010571773329018",
         "-0.0293979704336477",
         "-0.001696183298287",
         "-0.0091019081111949",
         "0.0001225439559227",
         "-0.0170219015529482",
         "0.0027407807876276",
         "-0.0027332894404421",
         "-0.0174410269608308",
         "0.0088752591347722",
         "0.002387843844867",
         "0.0061434641566553",
         "-0.0074765883298993",
         "0.0131825662022235",
         "0.0012392927975268",
         "0.0133662512618057",
         "-0.0091598058275442",
         "0.017379572017536",
         "-0.002180793766377",
         "-0.0072850442003304",
         "0.000978373194779",
         "0.0031770520390508",
         "0.0197319560546782",
         "-0.0293835219873149",
         "-0.011198763333029",
         "-0.0309893952013056",
         "-0.0122013351881901",
         "0.0127421355277927",
         "0.0101424694473459",
         "-0.0027961676780363",
         "0.0119806996433289",
         "0.0071788688001848",
         "0.0216329513355155",
         "0.0094248313906744",
         "0.0050927757154726",
         "0.0168898406153479",
         "-0.0166093119832206",
         "0.0131500376071134",
         "0.0209573289290714",
         "0.001166264466234",
         "0.0404240824504265",
         "0.0143320111250409",
         "-0.0083893947072167",
         "-0.0099075195847663",
         "-0.0102317465521993",
         "-0.0059070403058441",
         "-0.0012569253019327",
         "0.0085812032791336",
         "-0.0192853184501491",
         "0.0142278990705346",
         "-0.0161952848109939",
         "-0.0624854057698275",
         "0.0216395538057618",
         "-0.0202130128174828",
         "-0.0088944183302567",
         "-0.0184469454225141",
         "0.0",
         "-0.001904774387328",
         "-0.0049618254406055",
         "-0.011635292318241",
         "0.0005173615041589",
         "-0.0060769497988591",
         "0.0016911311359617",
         "-0.0084415802671871",
         "-0.0057628976652107",
         "-0.0062194332708477",
         "0.0039946762155795",
         "-0.0034483186459183",
         "0.0103806500274874",
         "0.0038198228189643",
         "-0.0023619163378122",
         "-0.015388601548391",
         "0.0032059453702728",
         "-0.0260984900117778",
         "-0.0004102458938192",
         "-0.0015045726106531",
         "-0.0105478783233984",
         "-0.0011075948863151",
         "-0.010256373739568",
         "0.0047611975766526",
         "0.0170034729406454",
         "0.0064410385358908",
         "0.0270968711970642",
         "-0.0202836892410351",
         "0.0027063616308022",
         "0.0052631715109887",
         "0.0021479818019638",
         "-0.0084394604637383",
         "-0.0056741250491301",
         "-0.0173912318702419",
         "0.0040099685661894",
         "0.017628350845622",
         "-0.0123154976619421",
         "-0.0013703441841854",
         "-0.0034303510788565",
         "-0.0019275371866762",
         "-0.008277008890438",
         "-0.0150229825190351",
         "-0.0268322777428476",
         "-0.0068205277488085",
         "0.0040911996351924",
         "-0.0023283346928117",
         "0.004813271678121",
         "0.0",
         "-0.0066772492555882",
         "-0.0059916285958988",
         "0.0027934220485426",
         "-0.0129013639959524",
         "0.0188622515802061",
         "0.004373292555879",
         "-0.0087082777050907",
         "0.0055636029108796",
         "-0.0160162062346976",
         "0.015537092894523",
         "0.0381757251621306",
         "-0.0042105288081081",
         "0.0063425525237057",
         "0.005742181865866",
         "0.0122546967688144",
         "-0.0236622234637319",
         "0.0042271408307898",
         "-0.0098218104292785",
         "0.0121865325195142",
         "-0.0218395112236681",
         "-0.0093030509423993",
         "-0.0275931859786916",
         "0.0049276067648131",
         "-0.0038633302294281",
         "-0.0205846842865771",
         "-0.0003046645041916",
         "-0.0019804578706085",
         "-0.0053426723051124",
         "0.0087476927990977",
         "0.0036512680893423",
         "-0.010914070143706",
         "0.0114942528735633",
         "0.0033333518288352",
         "-0.0075505888067498",
         "0.0249543420448354",
         "-0.0084619906422124",
         "-0.0121275272868792",
         "0.0037890267850937",
         "0.0114750787908026",
         "-0.0123898227814251",
         "-0.0033252903344248",
         "0.0081892765473763",
         "-0.0015043035268619",
         "-0.0115998293902724",
         "0.0135649959056396",
         "0.0260150880741893",
         "0.0172944488805433",
         "0.002881385069734",
         "-0.0359143798028961",
         "-0.0219043541548765",
         "-0.0028946136985524",
         "0.0213903986425856",
         "0.0095736634892549",
         "0.0025189776814484",
         "-0.0008868635048845",
         "-0.0131656717416813",
         "-0.0031479401492232",
         "-0.0019548459160596",
         "0.0054241463832107",
         "0.0092910997452104",
         "-0.0066814693160698",
         "-0.0192825244559723",
         "-0.0038103947214497",
         "0.0036719379058807",
         "0.0079268945816526",
         "-0.0372051239713097",
         "-0.0262330847148627",
         "-0.0217777424143432",
         "-0.0166556453116589",
         "0.0491363450057438",
         "0.0049552038329414",
         "0.0259265324607564",
         "0.01085266586422",
         "-0.0207054990384856",
         "-0.0155050569683378",
         "0.0044543235217653",
         "-0.0226480886759435",
         "0.0364608658788028",
         "-0.0023451800082663",
         "0.0233505978122492"
        ],
        [
         "ABT",
         "-0.0235183975237288",
         "-0.0044927381107675",
         "-0.0001481021130299",
         "0.0031078307504202",
         "-0.0022131732569546",
         "0.0032529462802892",
         "-0.0145907351261466",
         "-0.0270170787458657",
         "-0.011492356272253",
         "-0.0124062058215825",
         "-0.0041086378545889",
         "-0.0106306275889228",
         "0.0089809293805052",
         "-0.0159739797944643",
         "-0.0044420612119064",
         "-0.0259593051085083",
         "0.0030817772872067",
         "0.0407671008292604",
         "0.0168328151842496",
         "-0.0020399429677467",
         "0.0223271471900439",
         "0.0005383717938147",
         "-0.0030743090139364",
         "-0.0127978204965245",
         "0.0046855869900592",
         "0.0143025026049401",
         "-0.02092110314485",
         "-0.0177678214751505",
         "-0.0215954041607223",
         "0.0097737380921574",
         "-0.0024198333178404",
         "-0.0250645481706853",
         "-0.0314315687730589",
         "0.0061650254902232",
         "-0.0022126029971775",
         "0.0125372095913223",
         "0.0310815306545413",
         "-0.0146229459642224",
         "-0.0203117578560617",
         "0.0185325648430831",
         "0.0050681593782846",
         "0.0036374522633906",
         "-0.0210033415015076",
         "-0.0231364544137812",
         "0.0196364015869501",
         "-0.0117407589279038",
         "-0.025470087048285",
         "0.0131556406405717",
         "0.0169667601226086",
         "0.0170241740215408",
         "0.0143957240262155",
         "0.0103134724416198",
         "-0.0056348474273278",
         "0.0010675196151059",
         "-0.0407744230553701",
         "0.0076975747079033",
         "0.0095909833327427",
         "0.0087432017101991",
         "0.001666730969559",
         "0.0015807732348256",
         "-0.0167801624183544",
         "0.0018588314634313",
         "0.0025297558811259",
         "0.0050472229650044",
         "0.0038499670485454",
         "0.0285978047183064",
         "-0.0009727455473158",
         "-0.0260446982676164",
         "-0.0137455484562399",
         "0.0132294231954199",
         "-0.0149816492163771",
         "-0.0118955389924455",
         "0.0317309496948037",
         "0.0221702127171825",
         "0.0059525890460963",
         "-0.0302342140476757",
         "0.0030924749123513",
         "-0.0253311974201871",
         "-0.0021371576342905",
         "0.0110519534615194",
         "-0.0382170822732976",
         "-0.0059031631500756",
         "-0.0035451209597049",
         "0.0290847560262232",
         "-0.0232498757725889",
         "-0.0065479492650969",
         "-0.043466622511708",
         "-0.0059596317901968",
         "-0.0085245309310357",
         "0.0201246695849381",
         "0.0176900969712245",
         "-0.0015471598848939",
         "0.0440252713144684",
         "-0.0157150862143854",
         "-0.0026610706163155",
         "0.0071149782616672",
         "0.015807200643735",
         "-0.0109537709206278",
         "-0.0050979036989949",
         "0.0148421354756433",
         "0.015844170166658",
         "0.0065986443745662",
         "-0.0202621011827507",
         "0.0211155678150061",
         "-0.0079993694128759",
         "-0.0012866808304958",
         "0.0039511085923236",
         "-0.0187370581355575",
         "-0.0172639161581396",
         "-0.0273269068617135",
         "-0.0339321407362193",
         "-0.0280427320148992",
         "0.0180687599277551",
         "-0.0260495903390995",
         "0.0045065940501261",
         "0.0183361338663459",
         "0.0098649763085612",
         "0.007302692315394",
         "0.0305055547215418",
         "-0.0033803167926318",
         "-0.019343651786828",
         "0.01991192621531",
         "-0.0041244853847145",
         "0.0144500304000341",
         "-0.0083469461943548",
         "-0.0055809763355827",
         "0.0073603828563135",
         "-0.0021008156564183",
         "-0.0033861952958428",
         "-0.005418268195695",
         "-0.0192983961849589",
         "-0.0002837169834357",
         "0.0294200870424079",
         "-0.0165410583456084",
         "0.0271911655841157",
         "-0.0154644095934403",
         "0.0227294019631574",
         "-0.0134610981263616",
         "-0.0064102578285705",
         "0.0054377319676244",
         "0.0082501343276903",
         "0.0033640663267966",
         "-0.0137731157730023",
         "0.0062475789345943",
         "-0.008035002948092",
         "0.0089285919473873",
         "0.0010036148946177",
         "-0.0042837866236781",
         "-0.0022882247614669",
         "-0.0100000288161845",
         "0.0218699995223423",
         "0.0019951430606022",
         "0.0089601574217839",
         "0.0037675213220755",
         "0.0011617126124088",
         "-0.0132107305077833",
         "-0.005336968923947",
         "0.0009092333992029",
         "-0.0237141614822656",
         "-0.0134016869335951",
         "-0.0053766659444294",
         "0.0042677103141819",
         "-0.0376805278103241",
         "-0.0005889752092177",
         "0.0035350639258908",
         "0.004403086778651",
         "0.0213345648163665",
         "-0.0223195951920218",
         "0.0020487179052004",
         "0.0193748824791668",
         "0.0218722142141931",
         "0.0139265424511247",
         "0.007466797569857",
         "-0.0315673390041466",
         "-0.0005669738745347",
         "-0.0068065564164769",
         "-0.0100895763530877",
         "0.0008653139663254",
         "-0.0171004377299816",
         "-0.016225192749685",
         "0.0041728286751723",
         "-0.0038586622321481",
         "-0.0083431705439955",
         "-0.0151241801752965",
         "0.0039661845581391",
         "-0.0043558143619664",
         "-0.015566138574547",
         "0.0285240706179998",
         "0.0357717142632862",
         "0.0029104617548245",
         "-0.0089960846044534",
         "-0.0064420603304437",
         "-0.006484066915387",
         "0.0061308242591548",
         "-0.0164127986221155",
         "0.0287119393122907",
         "-0.0152239344919915",
         "0.0258646657155476",
         "0.0141036876846889",
         "-0.0654411613676744",
         "-0.0295586147529089",
         "-0.0015755712203402",
         "0.0339785796014684",
         "-0.0034591081870236",
         "0.0047983471550523",
         "-0.0151392130785599",
         "0.0264108118237513",
         "-0.0055281648125175",
         "0.0037395527152408",
         "-0.0127882004446335",
         "-0.0162179535450425",
         "0.0167963912429947",
         "0.0145814428284345",
         "0.0014070174926956",
         "-0.0018065611895371",
         "0.0479590644264611",
         "-0.0013433202674858",
         "-0.0199825357561487",
         "0.0110774020997166",
         "0.0045568163465916",
         "-0.0101341455772344",
         "0.0127729674287924",
         "9.631156792222484e-05",
         "0.0095301458972021",
         "0.0109659354616205",
         "0.0088662922571631",
         "-0.0146783131499875",
         "-0.0037006844155512",
         "0.024571657205449",
         "0.0032532398464322",
         "0.0014824237717792",
         "-0.0247940656741317",
         "-0.0147046443807912",
         "0.0091470850284671",
         "0.0201316812301015",
         "0.0055182623332656",
         "0.0184166573280446",
         "0.0186318987970464",
         "-0.0024208070094587",
         "-0.0246271215992092",
         "-0.0148359005318273",
         "-0.0029932841925472",
         "-0.0009380874326967",
         "0.015494481886584",
         "-0.0010172241706932",
         "0.0013885228307493",
         "0.0036050201454174",
         "-0.0068157938589117",
         "0.0229990985701564",
         "-0.004714001429366",
         "-0.0019127550638214",
         "0.0148749739946727",
         "-0.0036867087546935",
         "0.0138086722976416",
         "-0.0016023300079074",
         "0.0151582218971217",
         "-0.006148574882176",
         "-0.011363567130299",
         "0.0193068779785419",
         "-0.0010572480225545",
         "-0.0165800270478598",
         "0.0026008243433837",
         "0.0091233817795741",
         "0.0105476674288806",
         "-0.0129812290924778",
         "-0.0135964381990879",
         "0.0006306918991352",
         "-0.0100838479037089",
         "-0.0012732120979171",
         "0.0067388300583519",
         "0.0114880277343418",
         "0.0038456051750679",
         "-0.0040980276420303",
         "-0.0093031532813514",
         "0.0111962914351624",
         "-0.0159836165739039",
         "-0.019328427951437",
         "0.0008327584336726",
         "0.0033284096518715",
         "-0.0116105677226129",
         "0.0001862895780726",
         "-0.011185706455316",
         "0.0062216578053604",
         "-0.0289487256949264",
         "-0.009261958827612",
         "-0.0013633035275167",
         "-0.0203803583432733",
         "-0.0068683805315393",
         "0.019545115312813",
         "-0.0087495389178442",
         "0.0178516284159093",
         "0.0177336972904826",
         "-0.016275739157287",
         "-0.0269584491148827",
         "-0.0058013577312913",
         "-0.0155936081307274",
         "-0.00909550636431",
         "0.0126857118590419",
         "0.0036663687345883",
         "-0.0076104062759212",
         "0.0125767545935262",
         "-0.0203978474279464",
         "0.0088648916319025",
         "0.0047002315178135",
         "-0.014949731228477",
         "0.0018584386775377",
         "0.0104081145302115",
         "0.0041814807743361",
         "-0.0137111401058122",
         "0.015549395881959",
         "0.0046644049408417",
         "0.0220023597917262",
         "0.0032588260298502",
         "0.0119107914826392",
         "0.0137158649075603",
         "0.0069091405291985",
         "-0.0117220872355877",
         "-0.0039536568228339",
         "-0.0070674815040746",
         "0.0152865006059934",
         "0.0033780573411439",
         "0.0053866951806309",
         "-0.0035399324557975",
         "0.0781563978766373",
         "-0.0172767103504132",
         "0.0118713983887921",
         "-0.0112841299491799",
         "-0.0038950457178986",
         "-0.0110939301003702",
         "0.0068965512206027",
         "0.0088584913205782",
         "0.0057934772421082",
         "0.0035100602480067",
         "0.0023317602639394",
         "-0.0080530123789426",
         "0.0036082210255619",
         "-0.0032357094435685",
         "-0.0058610831226051",
         "0.0039908014162723",
         "-0.0057817478939563",
         "0.003998053967271",
         "-0.0058829041711035",
         "-0.0040967089920492",
         "-0.0052108348840603",
         "-0.0032163251558801",
         "0.004240684541295",
         "-0.0062424675269958",
         "-0.0231870595616877",
         "-0.01607697967242",
         "-0.0182624265840438",
         "0.0071471193857111",
         "-0.0112763293874066",
         "0.0028512142817551",
         "0.0080392160983915",
         "0.0134215215408004",
         "-0.0042226656599021",
         "-0.0109868430920188",
         "-0.0093549809280826",
         "-0.0086564185010589",
         "0.0090297412621831",
         "-0.0028518531618879",
         "0.0045365181725789",
         "0.0136461560923508",
         "0.0171428162749938",
         "0.0112360043273733",
         "0.0047081474906527",
         "-0.0042174167091082",
         "0.0188234274265566",
         "-0.0018474625428014",
         "0.0042572416574913",
         "-0.0066353530357001",
         "-0.0016698635122852",
         "0.0004646309382667",
         "0.0126323577664972",
         "-0.016510671930656",
         "0.0013988888127773",
         "-0.0015834391140964",
         "-0.0079290111667585",
         "0.006299908996586",
         "0.0044852557992114",
         "-0.0060464568672732",
         "0.0131652163160578",
         "0.0017635142370548",
         "-0.0086166652902025",
         "-0.0004674127151619",
         "0.0030855981014568",
         "0.0424124965895518",
         "0.0219975427716649",
         "0.0028874329151173",
         "-0.0147443108586058",
         "0.0101833206236297",
         "-0.0125351480180684",
         "0.0007101126836521",
         "-0.0124188897114577",
         "-0.0071858893714593",
         "-0.017280506199737",
         "-0.0099429631515768",
         "0.0010230123400036",
         "0.0074314652011182",
         "-0.0264637363425266",
         "-0.0026520118555775",
         "-0.0053182024930344",
         "0.0054420762759817",
         "0.0075016703395125",
         "-0.0109330698961553",
         "-0.0039072095157988",
         "0.0038268290494283",
         "-0.0116268018541791",
         "0.0015428038539921",
         "0.0123229617468421",
         "-0.000190134313735",
         "-0.0131265731814685",
         "0.0044337747736555",
         "-0.0136263840925499",
         "0.0105069030470641",
         "0.0051987138253881",
         "-0.0144622549495604",
         "-0.0004858830134699",
         "-0.0191541110841172",
         "0.0067407805512582",
         "-0.0087634050265162",
         "0.0005960224040999",
         "0.0170754057782951",
         "-0.000487940029193",
         "0.0028319893641042",
         "-0.000389532038279",
         "-0.008865191718749",
         "-0.0072734777134257",
         "-0.0032672952663181",
         "-0.0038738708896001",
         "-0.0134623808805964",
         "-0.0078844890562256",
         "-0.0069280312411135",
         "-0.0127217903984155",
         "-0.0072743463422849",
         "0.0271119914335382",
         "-0.0129434710917387",
         "-0.0115642516354784",
         "0.000626861743884",
         "-0.0014615685913471",
         "0.0057500744989895",
         "0.0070687101495334",
         "-0.001238678077796",
         "0.0082677686873737",
         "-0.0504303698055401",
         "-0.0210572360002135",
         "0.0075396294978942",
         "0.0144162123277493",
         "-0.0004339431157694",
         "0.0371173906939605",
         "-0.0012557008811782",
         "0.0140402128573045",
         "-0.0103326963045428",
         "-0.0101273919738018",
         "-0.0130788272315328",
         "0.0043818845152165",
         "-0.0120238882272596",
         "0.0016155019118224",
         "0.0166666511745698",
         "0.0048651741501946",
         "0.0099989594498086",
         "-0.0012506302903131",
         "-0.0087645542915788",
         "-0.0021051438621133",
         "-0.0006330909869546",
         "-0.0125606782022993",
         "0.0044896763904767",
         "0.0193678887780233",
         "0.0134668842287533",
         "0.009476685275402",
         "0.0230612500527256",
         "-0.0070814689517515",
         "0.0165744342927125",
         "0.0070159256316697",
         "0.0077518375565748",
         "0.0016553813322754",
         "-0.0015555479670198",
         "-0.0063283696106348",
         "0.0153830990578931",
         "0.0063688761069167",
         "0.0056571618550824",
         "0.002955936472655",
         "-0.0079856497525052",
         "0.0056541353428758",
         "-0.0084811099079982",
         "0.0044210484655975",
         "0.0163619392617586",
         "0.0043306557065825",
         "0.0053431625758799",
         "0.0125872848946133",
         "-0.0120625548246963",
         "0.0071767848370167",
         "0.0033315556794151",
         "-0.0094078468163166",
         "0.0100558664123291",
         "0.0050699888103098",
         "0.0018343977765802",
         "0.0051267650909443",
         "0.0055560760979354",
         "-0.0029891603785054",
         "-0.0019987005661818",
         "-0.0030040550558136",
         "0.0133309749524885",
         "-0.0016219492324579",
         "0.0144403940366799",
         "0.0029358325175719",
         "0.014814239555478",
         "-0.0030741740050769",
         "0.0037003706503366",
         "-0.0014045006494906",
         "0.0014943378304863",
         "0.000789919401037",
         "0.0058762659464253",
         "-0.004359648497714",
         "-0.0016637725982022",
         "-0.0283333977074092",
         "0.0151665583347795",
         "-0.0039127632810903",
         "0.0128558417452089",
         "0.0002645813592849",
         "-0.0029080399810528",
         "0.0118426871450079",
         "-0.0207878822696739",
         "-0.0041030789765268",
         "0.0210479493772146",
         "-0.0060526495786539",
         "-0.0077663390676279",
         "-0.0055145842754733",
         "0.0064396643537512",
         "-0.0105751163879275",
         "0.0064667076000268",
         "0.0140995998941388",
         "0.0032559016615703",
         "0.0230680912601228",
         "0.0105453902975194",
         "0.0097563632935036",
         "0.0036969072276047",
         "-0.006445627339783",
         "0.0059820374800021",
         "0.0054438033693691",
         "-0.0117450850416861",
         "-0.0001685614725298",
         "0.0119710030663315",
         "-0.0129956926867409",
         "0.0072585256321142",
         "0.0132394943273634",
         "0.0003308957261931",
         "-0.006365695989572",
         "0.0047424059524221",
         "-0.0049685222867209",
         "-0.0109022519687397",
         "-0.028270860926237",
         "-0.0264090856946818",
         "0.0064033038791602",
         "-0.0146694389660108",
         "8.964265407906957e-05",
         "-0.0084298623835065",
         "-0.0050644758706017",
         "0.0135442026115",
         "0.0177578730870446",
         "0.0015861722991807",
         "-0.013813178861482",
         "-0.000624544552054",
         "-0.0066059055819857",
         "-0.0105139861781402",
         "0.0098991553162119",
         "-0.0061151701753388",
         "0.0173725701103224",
         "-0.011295074973932",
         "0.0025187116454359",
         "-0.0161406019784127",
         "-0.0020163043265059",
         "0.0029386926869876",
         "-0.030308584289635",
         "-0.0059490442639522",
         "0.0190937546920815",
         "-0.0019574820733408",
         "0.0048566397966227",
         "-0.0065061638826782",
         "-0.0002805981794027",
         "0.0062698595865193",
         "-0.002417931704014",
         "-0.0121188887918343",
         "0.0030196681611029",
         "-0.0034810760056893",
         "-0.0001888275513651",
         "-0.0024552217812637",
         "0.0050171198237378",
         "-0.0115851095692217",
         "-0.0025730517620502",
         "0.0006688634473932",
         "0.0002864323142608",
         "-0.007254058894716",
         "0.0055764835493399",
         "0.002677053437567",
         "-0.0074377859891308",
         "-0.0084542577977045",
         "-0.0024221696194344",
         "0.0180652933487146",
         "-0.0056287209172914",
         "-0.0026864491265082",
         "-0.0192400123259698",
         "-0.0119665604390537",
         "0.0100267255733574",
         "0.0044230986351607",
         "0.0066543233682216",
         "0.0054437038096166",
         "-0.0019336590684952",
         "0.0100745228972529",
         "0.0317445899597732",
         "-0.000836612386088",
         "-0.0156293338544245",
         "-0.0135148374159542",
         "-0.0089097282831477",
         "0.0022232892900784",
         "-0.0022183572401845",
         "0.0052199227603693",
         "0.0248100907740094",
         "-0.0079760037827268",
         "-0.0039727329536239",
         "0.0018042760003502",
         "-0.0057825689735661",
         "-0.002192901582105",
         "-0.0070711093950879",
         "-0.0068329705169837",
         "0.0",
         "-0.0084301148830325",
         "0.0165150936930422",
         "-0.0182656812626574",
         "-0.0047003444668605",
         "0.0138726108104851",
         "0.0109653574514103",
         "0.0003840373719683",
         "-0.0068487130875556",
         "-0.002330952556747",
         "0.0190809653074728",
         "-0.0440390145838793",
         "0.0195863359412966",
         "0.0165637241315577",
         "0.0019283018904538",
         "0.0321401283194553",
         "-0.0121200752879321",
         "-0.0067950176494534",
         "-0.0044660156467226",
         "0.005249537570469",
         "0.0058868793908946",
         "0.0397395209327053",
         "0.0105310792497341",
         "-0.0240770129476241",
         "0.0080089340669309",
         "0.0040182496033041",
         "-0.0016371864896309",
         "-0.009566421169101",
         "-0.0083707697704337",
         "0.0040815450138322",
         "0.015243880416252",
         "0.0095550343831047",
         "0.0005407864262747",
         "0.0081081791687145",
         "-0.0100983106735721",
         "0.0055971683876905",
         "0.0063739865513581",
         "0.0052631662542477",
         "8.875429500032617e-05",
         "0.003549238532376",
         "-0.0017683772182145",
         "-0.0012399746601948",
         "0.0045228350651531",
         "0.0122716258547639",
         "-0.0022675588459066",
         "-0.0113636971114439",
         "0.0067197786722181",
         "0.0225715198908689",
         "0.0058404271707888",
         "-0.0043549025093059",
         "0.0019726297620514",
         "-0.0036805985009513",
         "0.0105669669091288",
         "0.0042506242110984",
         "-0.0275120154177956",
         "-0.0063545396605997",
         "-0.0039421819641478",
         "0.0097625799224934",
         "-0.0128038091284958",
         "-0.006440745503366",
         "0.0010656706658302",
         "-0.0026612718811224",
         "0.0140531978063622",
         "-0.0039470904780745",
         "0.0007044583748538",
         "-0.0124074916756132",
         "0.0036531510928585",
         "0.0063920462843309",
         "0.011203194626236",
         "0.0115153347128909",
         "-0.0028459435040122",
         "0.0043244520082108",
         "0.0097312541857992",
         "-0.005569753570756",
         "0.0152520307757435",
         "0.0005941227040933",
         "0.0127236694079861",
         "-0.0201022018535008",
         "-0.0074364467755946",
         "0.0076644816269748",
         "-0.004016771138933",
         "-0.0199073382016798",
         "-0.0013133235592397",
         "-0.005873519132673",
         "0.009259198234627",
         "-0.0094364023548559",
         "0.0461321513401304",
         "-0.008010102459694",
         "0.0006799878711591",
         "-0.0078994629043245",
         "-0.0128424096700913",
         "0.0111880923728808",
         "0.0018012379876439",
         "-0.0030821149924028",
         "-0.006011772226806",
         "-0.0061344085745914",
         "0.0075632232858915",
         "0.0125971072304744",
         "-0.0019597876856188",
         "-0.0102450344861474",
         "0.0114724975952331",
         "0.0042640097027526",
         "0.0031419161383194",
         "-0.0014390458140711",
         "0.008392629368298",
         "-0.0015132679436449",
         "-0.0165024408439967",
         "-0.0044516726472818",
         "-0.0027517610952979",
         "-0.0032767164774876",
         "8.658828749097403e-05",
         "-0.0060553898441731",
         "0.0052219359667746",
         "-0.011774976019571",
         "-0.002453044241472",
         "-0.0042157336637275",
         "-0.0067030684800024",
         "0.005949140988265",
         "-0.0120045404093713",
         "0.0043776383180269",
         "0.016100429008941",
         "0.0007002789784102",
         "0.0039367340118585",
         "0.0044439798373969",
         "-0.0024290636868548",
         "-0.0190450958134519",
         "0.0027482381228045",
         "0.0029174752126321",
         "0.003438024944393",
         "-0.0069402148669729",
         "0.0031847020879316",
         "0.0074955511344529",
         "-0.0169802432743474",
         "0.0078355114078783",
         "-0.0015019866862647",
         "-0.0118295845008595",
         "0.0252925224471187",
         "-0.0037749039973569",
         "0.0291681405026751",
         "0.0084766891704097",
         "0.0461878742683994",
         "0.01468914590889",
         "0.0351914528667507",
         "-0.0157612984535626",
         "0.0036894698607254",
         "0.0074299854078692",
         "-0.0068317955664376",
         "0.0040647123438488",
         "0.0050603962665307",
         "0.0229279478090316",
         "-0.0290777047211542",
         "0.00662926078165",
         "0.0173548320433079",
         "0.0009900940396712",
         "-0.0072276167455105",
         "0.0099623347785255",
         "-0.0089535329378929",
         "-0.0032922974722394",
         "0.0149793826973392",
         "0.0078708987897688",
         "0.0131410762608108",
         "0.0002223523285695",
         "0.0064468976647857",
         "0.0010308058931443",
         "-0.0006620671490782",
         "0.0157504203560765",
         "0.0160133601098311",
         "-0.0188275239975306",
         "0.0009448604826587",
         "-0.0190981092799457",
         "0.015250258602542",
         "0.0016041506938111",
         "-0.0342166602421868",
         "-0.0179405423138349",
         "-0.0029936473537073",
         "-0.0244821892406676",
         "0.0073395994908163",
         "-0.0104982972626194",
         "0.0088677893228232",
         "-0.0050228017151875",
         "-0.0034705932425543",
         "0.0068861892916713",
         "-0.0126562433251395",
         "0.0080414427864097",
         "0.0374378220213458",
         "-0.0040350293862504",
         "0.0139885812904292",
         "-0.0072370362820234",
         "0.0018224481942095",
         "-0.0022737999544054",
         "-0.0546228954005652",
         "0.0033751567716804",
         "-0.007288189561436",
         "0.0249294049735135",
         "-0.0199937132759081",
         "0.0191164659326825",
         "0.0085119763002126",
         "-0.0090287661189459",
         "0.0275708738225575",
         "0.0098689191165337",
         "-0.0083218535153872",
         "0.0141658045002444",
         "-0.014347524868653",
         "-0.0035427562234449"
        ],
        [
         "ABBV",
         "-0.0019196147651494",
         "0.0052529792730673",
         "-0.0047105207698251",
         "-0.0025879401191897",
         "0.0111950585724658",
         "0.0042523064533956",
         "0.0023361550561482",
         "-0.0173678915893416",
         "0.0176001778589951",
         "0.0066976596539132",
         "-0.0114783121585945",
         "-0.0161232292177838",
         "-0.0078927987169165",
         "0.0013638099323214",
         "0.0070369175668849",
         "0.0085655544266729",
         "0.0129628974424356",
         "0.0143415271393623",
         "-0.0074682177968339",
         "0.0008035559459929",
         "0.011824657174343",
         "0.0152214655114897",
         "-0.000568369107718",
         "0.013366537285075",
         "0.0068757406075317",
         "-0.002159945907358",
         "-0.0034220555434272",
         "-0.0049049542804411",
         "0.0069712626149973",
         "0.0123077373744204",
         "0.0076678873887181",
         "-0.0061697873285841",
         "-0.0064840816621623",
         "0.0106226787500824",
         "0.0082440607695712",
         "-0.0101525704618389",
         "0.0293934728242004",
         "-0.0118361557693247",
         "-0.0005415242472672",
         "0.0127295634247637",
         "0.0056160777860427",
         "0.0009968773373265",
         "-0.0073723852591681",
         "-0.0153896036635794",
         "0.01148482574018",
         "0.0022171213002664",
         "-0.0007372899532571",
         "0.0203944011587",
         "0.0248522063391158",
         "0.0010906204759073",
         "0.016276750716742",
         "0.0038462938998984",
         "0.0053393826846341",
         "-0.0002500953205679",
         "-0.0099368270542842",
         "0.0117408203329241",
         "0.006551119619695",
         "0.0039668924491844",
         "0.0012967446430525",
         "0.0096805704069506",
         "-0.0100152698757092",
         "0.0035160723265594",
         "-0.0048560859864296",
         "0.0095125254001167",
         "0.0335312441887485",
         "0.025871708973636",
         "0.0096955538972776",
         "-0.0293212811100099",
         "-0.0148382126989472",
         "-0.0418928846306414",
         "0.0211388003072152",
         "-0.0181751854335657",
         "-0.0188878043548214",
         "0.0022384611019963",
         "0.0116144365720907",
         "-0.0222682943819066",
         "0.0084523088070433",
         "-0.0007681552408496",
         "0.0092202429232213",
         "-0.0083111688427739",
         "-0.0603290456508219",
         "0.0067405774359341",
         "0.0116994892382846",
         "0.0133019653188437",
         "0.0038921189468175",
         "0.0042712803878175",
         "-0.0122359097628916",
         "0.007485412854352",
         "-0.0008546043156169",
         "0.0153328186773551",
         "-0.0051200972791893",
         "0.0128337142650338",
         "-0.0044380558839257",
         "-0.0151828955706302",
         "-0.0046577679853807",
         "-0.0046797896359187",
         "-0.0197336533513716",
         "0.0072960503639365",
         "0.0191131847283441",
         "-0.0091471607514037",
         "-0.0037855489795274",
         "-0.017533299845842",
         "-0.0091608774937789",
         "0.0049993134387027",
         "0.0028621081665363",
         "-0.0043487390956313",
         "0.0178121438428633",
         "0.0007376417218225",
         "-0.0255946861143264",
         "-0.0153338164831504",
         "-0.0263967101783483",
         "-0.0129108156777895",
         "0.0034152266083247",
         "0.007676224456425",
         "-0.006252196151921",
         "0.0375326840559286",
         "0.0285075415865789",
         "0.0128082071498638",
         "0.019337689233404",
         "0.0052513876591604",
         "-0.0042442817720905",
         "0.0108203169837579",
         "-0.0063578881205533",
         "0.004178550590584",
         "0.0008454359296377",
         "-0.0090950561289688",
         "-0.0034748977635052",
         "0.005592290962415",
         "0.0024859796006531",
         "-0.0050251110534259",
         "-0.0020333361287594",
         "-0.0019901819935208",
         "0.0211379975935108",
         "-0.0263638127448667",
         "0.0011367615904109",
         "-0.0136905663296482",
         "0.0004062564176301",
         "0.0048732119024794",
         "0.0117869506782875",
         "0.0043268179856108",
         "0.0018559027450388",
         "-0.0092623237531155",
         "-0.0416694561502232",
         "-0.0229251767469127",
         "0.0012124410778273",
         "0.0057696420603594",
         "-0.0161473697176115",
         "-0.0063347646809639",
         "0.0166620876197107",
         "-0.0006414204092359",
         "0.0049199077345989",
         "0.008088488726323",
         "0.0036600295381679",
         "-0.0021739724221634",
         "0.0018272543079069",
         "-0.0077868607557732",
         "-0.001060580418139",
         "0.0039637799649954",
         "-0.0106451663353128",
         "-0.0094059105162116",
         "-0.0079843427969032",
         "0.0102966328893621",
         "-0.0213881335570401",
         "-0.0046937411960914",
         "-0.0011789846730744",
         "-0.0080413136708891",
         "0.0296742544345069",
         "-0.0156735293081549",
         "0.0096123765716928",
         "0.008140313088965",
         "0.0130490518354378",
         "0.0064044195339496",
         "0.0057985118759473",
         "-0.0260827962232916",
         "0.0073631492059083",
         "0.0212109747946935",
         "0.0108764897866542",
         "-0.009718055429675",
         "-0.0062387272476476",
         "-0.0102986095055515",
         "0.0192430488514996",
         "0.0003499220461309",
         "-0.0129316962631099",
         "0.0036115824883522",
         "0.0203218831424503",
         "-0.0130013831258644",
         "-0.0596272421524664",
         "0.0306238387765556",
         "0.0265323668957266",
         "0.0094373450751465",
         "-0.0212097377533722",
         "-0.0109062218946612",
         "-0.0032428882605528",
         "0.0231364354841365",
         "-0.0108120178821276",
         "0.0313918738225227",
         "0.0001402883676662",
         "0.0102841813158118",
         "0.0013156212993434",
         "-0.010166002860815",
         "-0.0013973110488183",
         "0.0288951414730906",
         "0.0260439335203928",
         "-0.0070913231588857",
         "0.017954789870437",
         "0.0064915600156572",
         "-0.0383713830108251",
         "-0.0081975563377569",
         "0.0034836147466994",
         "-0.0162682914722241",
         "-0.0006919358788298",
         "0.0059548849558015",
         "0.0194107459939192",
         "0.0029035720014203",
         "-0.0061269024108735",
         "0.0142258534228787",
         "0.0029386650387652",
         "0.01052218384577",
         "0.0085671640471882",
         "-0.0076451163959988",
         "0.0019096665887714",
         "0.0185331901499623",
         "0.01374367488187",
         "0.0170579758625528",
         "-0.0025031453244824",
         "0.0014430334667017",
         "-0.0074553621925356",
         "-0.0014517776498831",
         "0.0188371796557782",
         "0.0027917135791939",
         "0.0125597347927668",
         "0.0017108394514127",
         "-0.0013420374201835",
         "0.0102613782847638",
         "0.0035672114531863",
         "-0.0176518679849254",
         "0.013860144884177",
         "-0.0032059085660477",
         "0.0004248278511278",
         "-0.0106756734770246",
         "-0.0160639445454877",
         "0.0062937908868156",
         "-0.0056350985366266",
         "0.0101506107174498",
         "0.0065346460569717",
         "-0.001040948669977",
         "-0.0006743717658087",
         "-0.0046631039319746",
         "0.0020341718130645",
         "-0.0058439644577069",
         "0.0047646442896154",
         "0.0080672253638356",
         "-0.0012215997016051",
         "0.0187166784348089",
         "-0.0293603858498503",
         "-0.0124955953226111",
         "-0.0154723558887583",
         "-0.0222878721085129",
         "0.0090660781965199",
         "-0.0050131521049314",
         "-0.0237519940289691",
         "-0.0032839858026743",
         "0.0059174736270357",
         "-0.0069522685125824",
         "-0.0057891407274535",
         "0.0006768925415099",
         "-0.0026388817568604",
         "-0.0075984794253524",
         "-0.0043066645793299",
         "0.0144180585964439",
         "-0.007783465213864",
         "-0.0120054014848079",
         "0.0024853358648744",
         "-0.0012395299576137",
         "0.000827455206515",
         "-0.0036514769694594",
         "0.0282829421903325",
         "0.0225285842650351",
         "0.0110488795923868",
         "-0.0074156635570836",
         "-0.0100269375864653",
         "-0.0101283854452376",
         "0.0119040942403481",
         "0.0045600264279372",
         "-0.0087500228064335",
         "0.009291935471605",
         "0.0042085388379915",
         "0.0102809151147569",
         "-0.0024629682890411",
         "0.008901936588525",
         "-0.0057319583791842",
         "0.0108822313576197",
         "-0.0049980819581159",
         "-0.0151340523932331",
         "-0.021774388481334",
         "-0.0150404075039859",
         "0.0160164884765268",
         "0.0149623603278987",
         "0.0125038920292879",
         "0.0013649920238743",
         "0.0080487916087332",
         "-0.0069542471806881",
         "0.0123199542059895",
         "0.0041636098815716",
         "-0.0197743518255659",
         "0.0106072360594153",
         "0.0175145230793642",
         "-0.0030376332333995",
         "0.0045069284696397",
         "-0.0015798338692665",
         "-0.0005063888233743",
         "0.009181869708642",
         "0.0065883596476621",
         "-0.0039893773950187",
         "0.0063838548534882",
         "0.0046641348857523",
         "-0.0016713263149757",
         "0.0006199583337751",
         "0.0060725682869373",
         "0.0112506145815829",
         "-0.0067612193579147",
         "-0.0025373401522547",
         "-0.0098648226903581",
         "0.0101510726156743",
         "0.0032877304065148",
         "0.0041423336611308",
         "0.0102824145756243",
         "0.004997871421845",
         "-0.0187992932240897",
         "-0.0799135513391385",
         "0.0151138922088573",
         "0.0171387928627706",
         "-0.013597118328137",
         "-0.0156311487774887",
         "-0.0126633356857251",
         "0.0045468950264546",
         "-0.0039184927714474",
         "-0.0042047538113183",
         "-0.0027921810413652",
         "0.0011609067299662",
         "0.0038201515914997",
         "-0.0038056135707607",
         "-0.022511751916446",
         "0.0004186954524574",
         "0.000627895118787",
         "0.0116424973580711",
         "-0.0014472810608934",
         "-0.0164248915663033",
         "-0.00961297888389",
         "-0.0179239857742184",
         "-0.0076468424998659",
         "-0.0081419032982635",
         "0.0111404000596739",
         "-0.0327630227075438",
         "0.0257041891395637",
         "-7.279531046722187e-05",
         "-0.0104489014261706",
         "0.0079010785956143",
         "0.008351535777137",
         "0.0039233609529736",
         "-0.0032568192966037",
         "0.0042112957204374",
         "-0.0150387425543019",
         "-0.0024958476019486",
         "0.020237124207826",
         "-0.0059147849387068",
         "-0.006965430144966",
         "0.004018701881562",
         "-0.0108434510435548",
         "-0.0071366461413207",
         "-0.0174138106997751",
         "-0.0006787370043952",
         "0.005433521920108",
         "0.0112588123795371",
         "0.0020779711849125",
         "0.0193319575546435",
         "-0.0026884327146911",
         "-0.0127503038177299",
         "-0.0074540453688702",
         "0.0080302618017307",
         "-0.0043518863879032",
         "0.0006740228086441",
         "0.0181150903595175",
         "-0.0086757386298674",
         "0.0129791530987481",
         "0.0080539908489238",
         "0.0327572853727049",
         "0.0109008304844173",
         "-0.0038959764108308",
         "-0.0108255731361289",
         "0.0019064553352137",
         "0.0489782867073076",
         "0.0134362149343927",
         "-0.0084188624378268",
         "-0.0069528644879052",
         "0.0056551195512981",
         "-0.0022092349682304",
         "-0.008856287598413",
         "0.0175998404821668",
         "-0.0047230114597468",
         "0.0076862013633998",
         "0.0044439042498336",
         "0.0048862371202709",
         "0.0005917148372949",
         "-0.0009853231841874",
         "-0.0037468297660601",
         "-0.0100958110325513",
         "0.0007999507922864",
         "0.0001332185637521",
         "-0.0127864115656027",
         "-0.0078251613238956",
         "-0.0030595025105071",
         "0.0004092225692406",
         "0.0050444590941496",
         "0.0010853388515763",
         "0.0049462142208289",
         "-0.0091693631831952",
         "0.0084375004152803",
         "-0.0141699615702867",
         "-0.0033538297019115",
         "0.0226632295722453",
         "0.0007386996656342",
         "0.0001342198175506",
         "0.0015434845515049",
         "0.0126612723418104",
         "0.0164064523755844",
         "-0.0098932270423417",
         "0.0119643500199313",
         "-0.0029231623774941",
         "0.0007817599385195",
         "-0.0011718828218887",
         "-0.0044972228339016",
         "0.0125050105495909",
         "-0.0047850263507939",
         "-0.005067837992448",
         "-0.0057467385781285",
         "-0.0209524418308705",
         "-0.0054339524749158",
         "-0.005531374553218",
         "0.0017637860222221",
         "-0.0016252520688933",
         "0.0053578577222388",
         "0.0058688984392274",
         "-0.0014755267103186",
         "0.0030223094532264",
         "0.0029758236532155",
         "-0.0022925836548564",
         "-0.0049338469195174",
         "0.0132446699940955",
         "0.0006704324078405",
         "-0.0251875699383371",
         "0.0048789383929666",
         "-0.0102578201402184",
         "0.0109170150101858",
         "-0.0071765800585038",
         "-0.0004132035678159",
         "-0.0431816976248007",
         "0.0213057563932057",
         "-0.0050038707517547",
         "0.0091371328917153",
         "0.0055451522923501",
         "-0.0128439423827265",
         "-0.001555611487028",
         "0.0067989583428431",
         "-0.0009144759802138",
         "-0.0280927806104303",
         "0.0039843125499601",
         "0.0003610053318336",
         "-0.004183593701876",
         "-0.003332014486309",
         "0.0049419517981119",
         "0.0001447258441553",
         "7.235245080816632e-05",
         "0.0030364860642484",
         "-0.0018740555677511",
         "0.0014442252227984",
         "0.0030288361093597",
         "-0.0072612271623347",
         "0.0030416603019161",
         "0.0280864248519963",
         "0.0071634431059526",
         "0.005160046264576",
         "0.0029136917467049",
         "0.0125199158948763",
         "0.0108620954412685",
         "0.0088532088962007",
         "0.0131297067886992",
         "0.0132239866610555",
         "0.0069171206280096",
         "0.0037588944140709",
         "-0.0054234578231741",
         "-0.0040249716024958",
         "0.0011734691573381",
         "-0.0124351246691061",
         "0.00593319974472",
         "0.0154008028231971",
         "-0.0020654818372586",
         "0.0016815667416612",
         "-0.0008392678737684",
         "0.0014217167599519",
         "0.0312962696474439",
         "0.0040047269106133",
         "0.0062319182587302",
         "0.0042114469723437",
         "-0.0043789277604621",
         "0.0054513444500274",
         "0.0158954677128895",
         "-0.0067317321621361",
         "0.0010478844117871",
         "-0.0056649965503482",
         "0.0034678227855082",
         "0.0077759076094836",
         "0.0090019594719277",
         "0.0037627029001019",
         "0.0127576244364895",
         "-0.0195819284667203",
         "0.0055413710021507",
         "-0.0044209420369351",
         "-0.0029804142541838",
         "0.0061619076284475",
         "-0.0031531545045707",
         "0.0194040025840158",
         "0.0064443122130506",
         "0.0153553566322077",
         "0.0118533464429335",
         "0.0099255455140199",
         "-0.0012570906286283",
         "-0.0040619229807974",
         "-0.0058019201715197",
         "0.0012710894517558",
         "0.0065209960876786",
         "0.0124411181989958",
         "0.0050966224312847",
         "-0.0098034393239873",
         "-0.0034706868766951",
         "0.009192530712244",
         "0.0075813487406874",
         "0.0040428482766809",
         "0.0010066869973761",
         "-0.0055309427740122",
         "-0.0109551029528609",
         "0.016245364301993",
         "-0.0103962307898111",
         "0.0119175329330261",
         "0.0106049746926841",
         "-0.0027062630861484",
         "-0.0095253786763185",
         "0.0043612153646144",
         "0.0071813295029117",
         "-0.0058588739373446",
         "0.0074502576655408",
         "-0.0183223950895758",
         "0.0034293070940509",
         "0.0065550177965982",
         "-0.0188690090323312",
         "0.0069779413062995",
         "0.0053521222759553",
         "0.000448368726706",
         "0.0036968254469182",
         "0.0064735625009018",
         "0.0097033763756715",
         "-0.0073586125462082",
         "-0.00038727587711",
         "-0.0185953840666365",
         "-0.053177584376669",
         "0.0125073957634633",
         "-0.001176497318401",
         "0.0020023354627221",
         "-0.0065239952536046",
         "-0.0089334292950533",
         "-0.0222329546331525",
         "-0.0037587790350673",
         "0.005381071090879",
         "0.0105206669717601",
         "0.0024962077436354",
         "0.0106279874048342",
         "0.0088937651469769",
         "0.0098276881564971",
         "-0.0102629411141438",
         "-0.0030395457587621",
         "-0.0458483628251663",
         "0.0119032181079734",
         "0.006934092686009",
         "-0.0056567041715811",
         "-0.0056269892884113",
         "0.0185312546032643",
         "-0.00647169986559",
         "-0.0011061300868452",
         "-0.0129189791282607",
         "-0.0003118270562205",
         "0.0021820900625288",
         "0.0032971919076258",
         "0.0019220251750686",
         "0.013614690890003",
         "0.0034190440386079",
         "0.0125950614243048",
         "-0.0111765434735843",
         "-0.0099052905090635",
         "-0.0203767076754649",
         "-0.0084580923084482",
         "-0.0075826148610578",
         "-0.0109511733925047",
         "-0.003540591799317",
         "0.0098196719938197",
         "0.0315400148105584",
         "-0.0065120675424611",
         "0.0121729990315104",
         "0.0203528114534694",
         "0.018919234081518",
         "0.0050424257751793",
         "0.0061386609917957",
         "-0.016191499015415",
         "-0.0096004480850305",
         "0.0028297729974038",
         "0.0121877467830269",
         "0.0064652787079235",
         "0.0099010832926931",
         "0.004493575142644",
         "-0.0101086991071794",
         "0.0137918944187054",
         "-0.0115202026244769",
         "0.0023424690924473",
         "-0.0126203629908876",
         "0.0149712147089637",
         "-0.0067048036080279",
         "-0.0258847801405905",
         "-0.0127741590499332",
         "0.0208129926875981",
         "-0.0043647945213768",
         "0.0091881615956381",
         "0.0005355094721943",
         "0.0105269899597044",
         "0.0021775938639465",
         "-0.0041485714763307",
         "0.0069630456603615",
         "0.035874691536551",
         "-0.0235637287936185",
         "0.006894925788013",
         "0.0074862260587664",
         "-0.002649794769293",
         "0.0176726257146029",
         "0.0338232825190456",
         "0.0164132681336117",
         "-0.0173903484535039",
         "0.026602090731451",
         "-0.0078166283550424",
         "0.023688825948442",
         "-0.002213967828458",
         "-0.0260447963013197",
         "0.0073226733277889",
         "0.0096925044013884",
         "0.0154125361823449",
         "-0.002468551399131",
         "0.0013163648003591",
         "0.0055211178576701",
         "0.0092558094830585",
         "0.0020725511433739",
         "0.0025853306991208",
         "0.0153171510247784",
         "-0.003657225559446",
         "0.0019373362936052",
         "-0.0008141936305852",
         "0.0060091321125743",
         "-0.0005568084627272",
         "-0.0076985546738566",
         "-0.0026542081159248",
         "-0.001125870203845",
         "0.0057895136554841",
         "0.0070297714877283",
         "-0.0034397806935709",
         "-0.0210649653418917",
         "0.0027999914203902",
         "0.0156152839954579",
         "0.0149170552313637",
         "-0.0238775700451218",
         "-0.0029292207911948",
         "0.0009792216040271",
         "0.0078265934261165",
         "-0.0116487203411302",
         "-0.0026363395282614",
         "0.0035244650565671",
         "-0.0007747178952145",
         "0.0018607483180577",
         "-0.0016509894214771",
         "-0.0116272940269568",
         "0.0033461845148274",
         "0.0150599514901015",
         "0.0138096810148218",
         "-0.0026330034091617",
         "-0.0007108242745336",
         "-0.0069607631698134",
         "-0.0059350409206043",
         "-0.0034998145895073",
         "-0.0030991125206153",
         "0.0090151467487158",
         "-0.0020539273395043",
         "-0.0008232457311512",
         "0.007518357141814",
         "-0.0115404800569968",
         "-0.0072969097676258",
         "-0.0099234003890419",
         "0.0015379329310878",
         "-0.0122843236736766",
         "0.0119009374933072",
         "-0.0046619434248635",
         "0.0094208418689079",
         "-0.0094911140886962",
         "0.009741770507746",
         "-0.0012125088295147",
         "0.0636051266339099",
         "0.0117617606999351",
         "-0.0015695239082853",
         "-0.0151314079699739",
         "0.0060357068000549",
         "-0.0023799276148064",
         "-0.0034294861171407",
         "-0.0050371127727308",
         "-0.1256641992281719",
         "-0.019148107932375",
         "-0.004325059249005",
         "-0.0042266772155652",
         "-0.027353582769773",
         "0.0078185851568046",
         "0.0017440943531112",
         "0.0071440670254985",
         "0.0236648382542572",
         "0.0303964855008442",
         "0.0006216253588007",
         "0.0230430043955569",
         "0.0107100552057004",
         "-0.0008193658346183",
         "-0.0063411436900729",
         "-0.0014854876324816",
         "-0.0277684707462297",
         "-0.001643565253073",
         "0.0001135633159605",
         "0.0021567521650456",
         "-0.0050971874480845",
         "-0.0074002364451114",
         "-0.0067670836612555",
         "0.0010392969868107",
         "-0.0100363461470178",
         "0.0218493517381073",
         "-0.0134564892635798",
         "-0.0086696173643554",
         "0.0236708195596893",
         "0.0160039918788355",
         "0.0090251606525653",
         "-0.0044444095161126",
         "-0.0066406408922845",
         "-0.010167972040784",
         "0.0085130635127259",
         "0.0097917919986241",
         "0.0099197435174624",
         "-0.0061802674067066",
         "-0.0031649360850013",
         "-0.0057371907879378",
         "-0.0186554240861506",
         "0.0089626382508425",
         "-0.0067329823784628",
         "-0.0147202665863337",
         "0.0137145869698347",
         "-0.0123201084458212",
         "0.0061203356934516",
         "-0.0197555712875443",
         "0.0086879649350473",
         "-0.0021679010781666",
         "0.0387550556884186",
         "-0.011814496517372",
         "0.0025742099419245",
         "0.0022251775269723",
         "0.0469684829610128",
         "0.0339314860324453",
         "-0.000999278281021",
         "0.0094762096750329",
         "0.0063624677527724",
         "-0.0122816958058141",
         "-0.0013641671962874",
         "0.0078281390348042",
         "0.0060991503897556",
         "0.0023315939801293",
         "-0.002998205120918",
         "0.0175247317470372",
         "0.0056051361660445",
         "0.0178870252972684",
         "0.0059737097893084",
         "0.0098970100088049",
         "0.0002939907638908",
         "-0.0055353747767145",
         "0.0099009788330648",
         "0.0195590722771465",
         "0.0117208099576013",
         "-0.0175903502333818",
         "0.0181940943057119",
         "-0.0037344923637606",
         "0.0167970748046801",
         "0.011059846302351",
         "-0.0141697237993487",
         "-0.0071631908417056",
         "-0.0024049574497473",
         "0.0010399507497493",
         "0.0127496141323022",
         "-0.0028908289850626",
         "-0.0074818487915745",
         "-0.0013662835664912",
         "-0.0091999215624333",
         "-0.003999798492167",
         "-0.0374336625697462",
         "-0.0001986355869153",
         "0.0070541500823617",
         "0.012677489525255",
         "0.0206050865037807",
         "-0.0155116704295193",
         "-0.0052358733663886",
         "-0.017301006379672",
         "-0.0728030192289803",
         "-0.0021930057580403",
         "-0.0583222048324921",
         "0.0237377192545678",
         "-0.0313611725772176",
         "0.0048794921212149",
         "0.0231362126374445",
         "-0.0037191684725536",
         "-0.0289593342058805",
         "0.0076305502869911",
         "-0.0163593371940006",
         "0.0212740658161703",
         "0.0188169196422534",
         "0.0187517198994859"
        ],
        [
         "ACN",
         "-0.0071462051918919",
         "-0.0176107150813542",
         "-0.0482902789508572",
         "-0.0191799147599128",
         "0.0060688670648489",
         "0.0056566134791447",
         "0.0081520627918107",
         "-0.0419417380420644",
         "-0.0221659024540191",
         "-0.0143759163174223",
         "-0.0130357192791339",
         "-0.0030543914509579",
         "-0.0206017329387898",
         "0.0100407752370639",
         "-0.0119468446337521",
         "-0.0151069488183724",
         "0.0105185960746281",
         "0.0284679306117392",
         "0.0312964117467833",
         "-0.0004522488403112",
         "0.0171182015797946",
         "-0.03872367170069",
         "0.0056431401263836",
         "-0.010187005962214",
         "0.0032270893847878",
         "0.0303125481449109",
         "-0.0369588494896778",
         "-0.0385816879273728",
         "-0.0092653890348317",
         "0.0100575002929566",
         "0.0130839257553661",
         "-0.0323922548840388",
         "-0.005357950362016",
         "-0.0002179623601621",
         "-0.0247576341744196",
         "0.0096115840700561",
         "0.0200525970090927",
         "-0.0201236165443416",
         "-0.0147773401031914",
         "0.0224184197708987",
         "0.0019478218795596",
         "-0.0150180778851605",
         "-0.0290935873994937",
         "-0.0111467260259509",
         "0.0258603951704188",
         "0.0003230606286115",
         "0.0066557034600769",
         "-0.0125171770763798",
         "0.0277886566980818",
         "0.0274485653216882",
         "-0.0166506720366151",
         "0.0139278688762074",
         "0.0016977332369059",
         "0.0091526770817773",
         "-0.0212844249570681",
         "0.0149454484662479",
         "0.0074393128193048",
         "0.0092461410006343",
         "0.0300839146105571",
         "-0.0065455627490496",
         "-0.0036339404683705",
         "0.0101117995680668",
         "0.0112435439427069",
         "-0.0047900785581841",
         "-0.0074675955407443",
         "0.0044376775429975",
         "-0.0083386422042921",
         "-0.0343740042183208",
         "-0.0016499666471028",
         "-0.000521975708553",
         "-0.0187965099718324",
         "-0.018374056959075",
         "0.0222255217955611",
         "0.0096703368328219",
         "-0.0042016806722688",
         "-0.0357110152562711",
         "0.0193692714150979",
         "-0.0433052802406249",
         "0.0",
         "0.0354338655000086",
         "-0.0429518653891219",
         "0.0141164279893382",
         "0.0007222564617492",
         "0.0329374075293222",
         "-0.0513242978972311",
         "-0.0099098502740153",
         "-0.0278958816417779",
         "0.0003475634830052",
         "-0.0231228816217619",
         "0.00096080216886",
         "0.0197718396327042",
         "-0.0020921813633597",
         "0.0171224926602771",
         "-0.0580958332590164",
         "-0.0020062968545534",
         "0.0111109276155814",
         "0.0243627621046096",
         "-0.0143970151586273",
         "0.0011814218573253",
         "0.0425903264999369",
         "0.0432173495929526",
         "-0.0187077272302463",
         "0.0006366138542379",
         "0.0266868628187173",
         "-0.0054466104562003",
         "-0.0007214274785158",
         "0.0059068307036993",
         "-0.0126902229225881",
         "-0.0238241593007033",
         "-0.0318853297912903",
         "-0.0332509004922328",
         "-0.0049906804316417",
         "0.022062960351179",
         "-0.0365943873524363",
         "0.0165376091669349",
         "0.0266902560369113",
         "0.0129802372097034",
         "-0.0019898160536295",
         "0.0473707129678546",
         "-0.0225474199971867",
         "-0.030141487851083",
         "-0.0140591383552414",
         "-0.0077196353241661",
         "0.0108050953096778",
         "-0.019526163782861",
         "0.0027982033826967",
         "0.0125389519532186",
         "-0.0011809267935497",
         "-0.0150499294923911",
         "-0.0043658662869943",
         "-0.0019433769558773",
         "-0.012859757240785",
         "0.0106079795834634",
         "-0.0105702541379492",
         "0.042397276768447",
         "0.0057847353229874",
         "0.022544879677274",
         "0.0",
         "0.0044443996019165",
         "-0.0142072771398146",
         "0.0433059708353074",
         "0.020670167593952",
         "0.0084959598028671",
         "-0.0049632311540896",
         "-0.0074161226189277",
         "0.0188111635185932",
         "0.0079175880313433",
         "-0.0040563592962191",
         "0.003167795837375",
         "-0.0017399346647278",
         "0.0215952093704825",
         "-0.0065090785552247",
         "0.0191462486833837",
         "-0.000343305913372",
         "0.0014048974727896",
         "-0.0072634023630645",
         "0.0031713319453783",
         "-0.0130531586474814",
         "-0.0167780303391692",
         "-0.0106453036094813",
         "-0.0014345349984684",
         "0.0114608609481992",
         "-0.0375763634710513",
         "-0.0100291009198564",
         "-0.0089448761579391",
         "-0.0138122726143785",
         "0.0011442099775862",
         "-0.016343966695722",
         "-0.0021475220873051",
         "0.0116418996635021",
         "0.0041845989653535",
         "0.0089943610585907",
         "0.0162107839333676",
         "-0.0465354842003076",
         "-0.0106209442243326",
         "-0.0167667105042762",
         "-0.0043087194199507",
         "0.0084350355410247",
         "-0.0172378353985181",
         "-0.0178356030484704",
         "-0.011679843518815",
         "-0.0089203919672222",
         "-0.00938519590947",
         "-0.0046595610927672",
         "0.0218070482029133",
         "-0.0139732304964623",
         "-0.0037558621593518",
         "0.0294985561922147",
         "0.0355620203399604",
         "0.0001096599470651",
         "-0.0177519056273595",
         "-0.0362194077826659",
         "-0.0071618248802438",
         "-0.0188868094263391",
         "-0.007107089796686",
         "0.0295517018593869",
         "-0.0184107248643323",
         "0.0375910750664791",
         "0.0069788172491793",
         "3.792592392826144e-05",
         "-0.0086344422111804",
         "0.0297578580812707",
         "0.0212931592434089",
         "0.0192509174815675",
         "-0.0026369285328355",
         "-0.0036804455429236",
         "0.0320614278016737",
         "-0.0134823022619419",
         "-0.0085596423579452",
         "-0.0320458055066363",
         "-0.0571482447784901",
         "0.01666160693147",
         "0.0302879170799978",
         "-0.0001486370584324",
         "-0.0096272755751944",
         "0.0772405684297592",
         "0.0106961721976615",
         "-0.0040677278829557",
         "0.0129453951320437",
         "-0.0038955920496028",
         "-0.0149907038790693",
         "-0.0022289735561273",
         "0.0018148371229456",
         "0.0204517343079997",
         "0.005599368271947",
         "0.0063490274772999",
         "-0.0195682162117403",
         "-0.0090157395551719",
         "0.0449684110217929",
         "0.006313517341836",
         "-0.0089157674297705",
         "-0.0246226996987571",
         "-0.0250391367170552",
         "0.0044846351039069",
         "0.0190451044450628",
         "-0.0128016089583513",
         "0.0136263522101802",
         "0.010296204979727",
         "-0.0132046630197424",
         "-0.0354435748171617",
         "-0.0591917602505779",
         "-0.0343314673664142",
         "0.0254501728992553",
         "0.0268042043030645",
         "-0.0154693604922655",
         "0.0050236569489638",
         "-0.0029314798835914",
         "-0.0082544685642141",
         "0.0199907882787855",
         "-0.0057378323081253",
         "0.0128165781172073",
         "-0.0034043049753788",
         "-0.0236132624635256",
         "0.0236898948840476",
         "0.0168642523693101",
         "0.0043106446723681",
         "0.0265510855531896",
         "0.0098191992210425",
         "-0.0059890619582905",
         "0.0097114954506718",
         "-0.0245016268362688",
         "-0.0180279958997711",
         "0.0277767142159999",
         "-0.0040290165959584",
         "-0.0160020610818798",
         "-0.0062212516639075",
         "0.0040271865226952",
         "0.0109750433699329",
         "-0.0106393912008599",
         "0.0172424917212055",
         "0.0163052999344632",
         "0.037023937554768",
         "-0.0165929141612992",
         "-0.0163889003532394",
         "0.0117407100431157",
         "-0.0108053788730504",
         "0.0015805999785367",
         "-0.0042082446553372",
         "0.015459832767406",
         "-0.0124153436905066",
         "0.0101134639011346",
         "-0.0223537428848462",
         "-0.0148280885442989",
         "-0.0285146953364056",
         "0.0017834970352494",
         "0.0059338581256938",
         "-0.0173284998799964",
         "-0.001050372625688",
         "-0.0026294656410662",
         "-0.0073806981187518",
         "0.0063357124611993",
         "0.0148534439901382",
         "0.0015973334258574",
         "-0.0201388559438864",
         "-0.0020439515189631",
         "-0.0147916727835802",
         "-0.0262165633215549",
         "-0.0064835529482125",
         "0.0046555717849106",
         "-0.0249919239709583",
         "0.027420007266951",
         "-0.0115452165270311",
         "0.0102001180614368",
         "0.0200752141183999",
         "-0.0168853371816443",
         "0.072610301471353",
         "0.0012515166101592",
         "0.0072057921051627",
         "0.0037963019571733",
         "0.0179636609564077",
         "0.0097163355276059",
         "0.011144106873562",
         "0.0001050194767924",
         "0.0",
         "-0.0157781840516756",
         "0.0013151909165167",
         "-7.092208147208012e-05",
         "0.016507919950605",
         "-0.0050837529893615",
         "0.0053211252875153",
         "-0.0211027458588353",
         "0.0026144235223803",
         "-7.152921923547773e-05",
         "-0.0002144903555943",
         "-0.015541154476103",
         "0.0028307118269663",
         "0.0033292409273619",
         "-0.0236245847565336",
         "0.0018837863768306",
         "0.0156337396943559",
         "0.0175710496682164",
         "-0.0031038610298405",
         "-0.0095913725616787",
         "-0.0056368518965085",
         "-0.0315430058861053",
         "-0.0031894402793254",
         "-0.0031244950654276",
         "-0.0050601401509597",
         "0.0205329845155448",
         "0.0125702378401315",
         "0.0180702592660162",
         "0.0011542803491535",
         "0.006053979403287",
         "0.0194847952107219",
         "0.0100130427618876",
         "0.008453044201746",
         "0.0035871139778433",
         "-0.0097955388440641",
         "-0.0044427148245393",
         "0.017223071282225",
         "0.0405814331071525",
         "0.0159090245670692",
         "-0.0081378833629699",
         "-0.0023535087940858",
         "0.0202815785960255",
         "-0.022286999930318",
         "0.0117918344620404",
         "0.0097064605783885",
         "-0.0118962552363812",
         "0.0045229761028826",
         "0.0089401471993657",
         "0.0118147747562391",
         "-0.0003491456588855",
         "0.027678031127762",
         "-0.0130648227482582",
         "-0.0066970060031538",
         "-0.0132325277017421",
         "-0.018997532529049",
         "-0.0287063796459817",
         "-0.0034177039813926",
         "0.0114319460140255",
         "0.00302517582904",
         "0.0219077159664056",
         "0.0008107279582185",
         "0.0077452455841358",
         "-0.0034408348712645",
         "-0.006227648994828",
         "-0.007176047154599",
         "0.0087977074985312",
         "0.0041173983571918",
         "0.0171093574505669",
         "0.004237374675827",
         "0.0017765245736116",
         "0.012699130160984",
         "0.0082868443680137",
         "-0.0112581366022326",
         "-0.0198557643401756",
         "0.007456736606948",
         "-0.0047966748697539",
         "0.0137251584071409",
         "-0.0034004656580871",
         "0.0072983134750237",
         "-0.0102565618932158",
         "0.0025353428324457",
         "0.0146042072299079",
         "-0.0099388875459768",
         "-0.0020453683344072",
         "-0.0161763073825397",
         "0.012403776135172",
         "-0.0022792880455614",
         "-0.0114865899710756",
         "-0.0035951208598513",
         "-0.0043813201218496",
         "0.0086069926833241",
         "-0.0138270882575854",
         "0.0007807991691102",
         "-0.0065009704366418",
         "-0.0088339024615683",
         "0.011784520865304",
         "0.0077972393790628",
         "0.0208481794389208",
         "-0.0038051981687614",
         "0.0147067473380406",
         "0.0067448149567734",
         "0.0079150350413867",
         "-0.0006183790211637",
         "0.001608585864723",
         "0.0122617953878894",
         "-0.0048208179100207",
         "0.0004292205653206",
         "0.005822857172574",
         "-0.0083182077090273",
         "0.0012289858766554",
         "-0.0336943441636582",
         "-0.0031121773995006",
         "0.0085375062153065",
         "-0.012824157377424",
         "0.0107189798518652",
         "0.0045902654379534",
         "-0.0016700857294169",
         "-0.0151515376952391",
         "0.0131089058252515",
         "0.0028473507439836",
         "-0.0201269595483106",
         "0.0121375678023074",
         "-0.0432915170992626",
         "0.0210791593453012",
         "0.0037446829584641",
         "-0.0065853494934683",
         "0.0103189782221833",
         "0.0008726729356516",
         "0.0081702176887936",
         "-0.0005766646978132",
         "0.0009936562511361",
         "0.0048549867877107",
         "-0.0261727471401624",
         "-0.0083124985348121",
         "0.0116289787597989",
         "0.0095304606493511",
         "-0.0145337775963906",
         "-0.002732190897532",
         "-0.0196079869500465",
         "-0.0069359674260518",
         "0.0038990088069619",
         "-0.0115167336930386",
         "-0.0021866915584467",
         "-0.0068482390869986",
         "0.0091711096720092",
         "0.014998195790177",
         "0.0119492426584559",
         "0.0248802832647225",
         "0.0174282300234667",
         "-0.001276071850941",
         "0.0067074622491598",
         "0.0083443012677792",
         "-0.0113272913498123",
         "0.0174082950461655",
         "-0.0126998160946498",
         "0.0153976191385054",
         "0.0156325324233828",
         "0.0055913536446334",
         "0.0015579294978342",
         "0.0093647291968357",
         "-0.001934027073731",
         "0.0086900434004697",
         "0.0027316919383477",
         "-0.0048198775918973",
         "0.0003911441573793",
         "0.0023452886310386",
         "-0.0005999008614538",
         "0.0147685801432924",
         "-0.0048216228205336",
         "-0.0017834517665734",
         "-0.001250637386165",
         "-0.0009243409184274",
         "0.0063564624579752",
         "0.0150639403158758",
         "0.0026583424716331",
         "0.0012237094178395",
         "-0.0026481450417424",
         "0.0041430575662573",
         "-0.0066829805325706",
         "-0.0009944437298917",
         "-0.0058858232216898",
         "0.0272460937590017",
         "0.0163440424479748",
         "-0.0028778092521457",
         "0.0011034442211248",
         "-0.0063025646745221",
         "-0.0019339679195238",
         "-0.0113705225223297",
         "-0.0259425990498574",
         "-0.0024562624969751",
         "-0.0013941303001692",
         "0.0110806666770169",
         "0.0070516431812646",
         "0.0075272621526407",
         "0.0076449286296012",
         "0.0240249844009374",
         "-0.0049673303181567",
         "0.0010758317991836",
         "0.0166829967870822",
         "0.0120985191019253",
         "0.0090958966929051",
         "0.0072164921316817",
         "-0.0025954524489792",
         "0.0082407286414449",
         "-0.0023392497248841",
         "0.0061444248648421",
         "-0.0054908078701635",
         "-0.0199838193952948",
         "0.01931968965173",
         "0.0054999429199658",
         "-0.00699824253869",
         "-0.0152292226084773",
         "0.0053467665092252",
         "0.0049911756599418",
         "0.0086572247395504",
         "-0.0114080157369761",
         "-0.0125737771373973",
         "0.022518606369996",
         "0.001428580794031",
         "-0.0054640360042397",
         "-0.0176736725167083",
         "-0.0056205654018182",
         "0.0288160646048252",
         "0.016186130720277",
         "0.0004240090781408",
         "0.0011390775718433",
         "0.0003174897321196",
         "-0.0085971333540911",
         "0.0165696397928267",
         "0.00713929356398",
         "-0.0177998860726681",
         "0.0104807271720634",
         "0.0159651552630466",
         "-0.0225891183924076",
         "-0.0130894256925224",
         "0.0194524289825392",
         "-0.0046257730280047",
         "-0.0013467747346772",
         "-0.0095448385891254",
         "-0.0051521896972687",
         "0.0145167056656434",
         "0.0062421204455691",
         "-0.0930763786166887",
         "-0.021824178797461",
         "-0.0109037502884773",
         "0.0076988237773198",
         "0.0135259153865583",
         "0.0166305436631679",
         "-0.0214650739944175",
         "-0.007990065485754",
         "-0.0124236380890246",
         "-0.0054471100701345",
         "0.0076559081509919",
         "-0.0036037346927654",
         "0.0079867369176998",
         "-0.0262936107435809",
         "0.002435221611486",
         "-0.0301054724041606",
         "-0.0067533845213297",
         "0.0021389293772575",
         "0.0019110637093791",
         "0.0046417537032517",
         "0.0027847068081465",
         "0.0017041567761502",
         "-0.0018587995360633",
         "-0.0103839977303079",
         "-0.0144798481482292",
         "-0.0032038275853646",
         "-0.0157464196181329",
         "-0.007421732123409",
         "-0.0074773293134946",
         "0.0056250780639739",
         "0.0112206307624544",
         "0.0077375988663643",
         "0.0150299017927881",
         "0.0042811045707706",
         "-0.0172441582740788",
         "-0.0009131370065131",
         "0.0035255941956011",
         "-0.0014962784506602",
         "0.0051146415354226",
         "-0.0016853992536765",
         "-0.0143181618554737",
         "0.0069502114487731",
         "-0.0067386575803217",
         "0.0114279635161973",
         "-0.0038424028246394",
         "-0.0161473022530626",
         "-0.0108309898935321",
         "-0.0133006188782325",
         "-0.0305342260449403",
         "-0.0088131238221539",
         "-0.0018773236859449",
         "0.0223592633028963",
         "0.0102756690091412",
         "0.0024740816968864",
         "-0.0114484433579289",
         "0.0070388466100732",
         "0.0130496164768185",
         "-0.0288559676134149",
         "-0.0119343762039059",
         "0.015549697962591",
         "-0.0041155807610953",
         "-0.0006304944584257",
         "0.0729279201270405",
         "0.0092109375927325",
         "-0.0057285206361346",
         "-0.0001301211440994",
         "-0.0083017375202942",
         "-0.0046944163364056",
         "0.000725821289583",
         "-0.0028346386081463",
         "0.0042307826162479",
         "0.0063192844134949",
         "-0.0216189375277395",
         "0.0011031085670023",
         "-0.0047082488166628",
         "-0.0087901515955179",
         "0.0130545692411627",
         "0.0424176384117294",
         "0.0233073947470281",
         "0.0224305806407301",
         "0.0018461515039349",
         "0.0076780596366243",
         "0.0033221570542276",
         "0.0070476809595563",
         "-0.0035595341840468",
         "-0.0049950457713805",
         "0.0043812688009929",
         "-0.0050285742549363",
         "-0.0068804104652211",
         "0.0091967992749497",
         "0.0043133812326536",
         "-0.0076826073723323",
         "-0.0150268271564232",
         "-0.0291195668047197",
         "0.015745391125246",
         "-0.0020709243808381",
         "-0.0067290831264448",
         "-0.0001584998764992",
         "-0.0059207472901917",
         "0.0171040791014409",
         "0.0015657442127119",
         "0.0165713488982279",
         "0.0055056135210349",
         "0.007708165251969",
         "0.0028229596083884",
         "0.0097769584549469",
         "-0.0090827135974191",
         "0.0081676067596889",
         "0.0105320170925593",
         "0.0106895505242941",
         "-0.0087842316654626",
         "0.0083582323212603",
         "0.0051144090532813",
         "-0.0002046568060009",
         "0.0061717155243474",
         "-0.0088955790275778",
         "-0.0031971364281163",
         "0.0057968173786406",
         "0.0172318687155688",
         "0.0075063994906199",
         "-0.0011989013646076",
         "-0.0008861360279788",
         "0.0129872232283323",
         "-0.0482323275325679",
         "-0.0025515739722021",
         "-0.002796166739368",
         "0.0029232815251099",
         "0.0088929179037231",
         "0.0012087775538422",
         "-0.0075673417474398",
         "0.0556594378647896",
         "-0.017172062981179",
         "0.0108093758251794",
         "-0.004243603449754",
         "0.0122449958592056",
         "0.0138931165859246",
         "0.0027682680479956",
         "-0.0150176955974774",
         "0.0100337709235156",
         "0.0130416579461127",
         "-0.0069581221744063",
         "-0.0009139886755822",
         "0.0107002486633014",
         "0.0111355400718351",
         "0.0097650122913754",
         "0.0077634350598096",
         "0.0045581074133775",
         "-0.0022023511905102",
         "-0.0112756373010023",
         "-0.0031201846413684",
         "-0.0172677878258256",
         "-0.0094171795223043",
         "0.0014411963628551",
         "0.0047603639309561",
         "-0.0453668702133872",
         "-0.0050494336883136",
         "0.0024650469420037",
         "-0.0051205845538863",
         "0.004623469150333",
         "0.0307968374010461",
         "0.0128604769061448",
         "-0.0143605713660696",
         "0.0049784878283947",
         "0.0092639092679951",
         "0.0266492341740172",
         "-0.0220138657338543",
         "-0.0234761404745637",
         "-0.0022060436973484",
         "0.0032880521562612",
         "0.0088148751780017",
         "0.0111461912126891",
         "-0.0066195557504292",
         "0.0073328752862471",
         "0.0052312423964129",
         "-0.0028085504494291",
         "0.0005798245218657",
         "-0.0027319594463428",
         "-0.0244617824067268",
         "0.0212457470196922",
         "-0.0052772676364882",
         "0.0127607063125763",
         "-0.0088227479294578",
         "0.0094575529001665",
         "0.0025903107897677",
         "-0.0100593594817085",
         "-0.0041646275927805",
         "-0.0045165871812353",
         "0.0006722078166736",
         "-0.0271200577470744",
         "0.0706250826221772",
         "-0.0155578560461353",
         "-0.0207440325146962",
         "0.0079717310022386",
         "-0.003318309159579",
         "-0.0117915225386582",
         "-0.0103599191634379",
         "-0.0019857994413339",
         "-0.0084425418449989",
         "0.0144199827594169",
         "-0.007121645397765",
         "0.0144024360972441",
         "0.0037598773803109",
         "-0.0221954653916371",
         "-0.0018583093901548",
         "-0.0004296933166502",
         "0.0021205315872983",
         "0.0066331141933937",
         "0.0057907510181778",
         "0.0108624591837978",
         "0.0075471912419196",
         "0.0115564170964976",
         "-0.0023398909660621",
         "0.0296348757461164",
         "0.0140426866178271",
         "-0.0104918153433367",
         "0.0169060690393609",
         "0.0110308998423098",
         "0.0006753613027612",
         "0.0166403177254768",
         "0.0169296884617806",
         "-0.0273948624400329",
         "-0.0035110808790909",
         "0.0023576553279855",
         "0.0080642521076201",
         "-0.0030256067805801",
         "0.0018003185282078",
         "-0.0039278373266897",
         "-0.0011340382281622",
         "0.006863470176472",
         "-0.0137870977908435",
         "-0.0534766982358364",
         "-0.0009609186560846",
         "-0.0026379256015816",
         "-0.0126740024176849",
         "-0.0041300111806507",
         "-0.0234539323998396",
         "-0.0100718101255796",
         "0.0022900116643023",
         "0.0071722208420317",
         "-0.0184345436892776",
         "0.0009946042316704",
         "-0.0201064278690011",
         "-0.0223978166443731",
         "-0.0105555536323228",
         "-0.0223845306072081",
         "0.0055192811634665",
         "0.0216108919734367",
         "-0.0050351208009037",
         "0.0012342515109691",
         "-0.072610652216447",
         "0.0146555605904297",
         "0.0060918942157792",
         "0.0055993371410383",
         "0.0073162571025477",
         "-0.0084521840607622",
         "-0.0136129866861178",
         "0.0253343745424177",
         "0.0049351937014139",
         "0.0087696572031985",
         "-0.0470077912780577",
         "-0.0544019588383904",
         "-0.0011927156767446",
         "-0.0116955914735865",
         "0.0659226159173789",
         "-0.0443610219575033",
         "-0.0030853547403625",
         "0.019167237382091",
         "-0.0038993921442854",
         "-0.0118478950472739",
         "-0.010131763531771",
         "-0.0110500975730229",
         "0.0169393699912205",
         "0.0147908590414775",
         "0.0112784562697705"
        ]
       ],
       "shape": {
        "columns": 829,
        "rows": 5
       }
      },
      "text/html": [
       "<div>\n",
       "<style scoped>\n",
       "    .dataframe tbody tr th:only-of-type {\n",
       "        vertical-align: middle;\n",
       "    }\n",
       "\n",
       "    .dataframe tbody tr th {\n",
       "        vertical-align: top;\n",
       "    }\n",
       "\n",
       "    .dataframe thead th {\n",
       "        text-align: right;\n",
       "    }\n",
       "</style>\n",
       "<table border=\"1\" class=\"dataframe\">\n",
       "  <thead>\n",
       "    <tr style=\"text-align: right;\">\n",
       "      <th></th>\n",
       "      <th>0</th>\n",
       "      <th>1</th>\n",
       "      <th>2</th>\n",
       "      <th>3</th>\n",
       "      <th>4</th>\n",
       "      <th>5</th>\n",
       "      <th>6</th>\n",
       "      <th>7</th>\n",
       "      <th>8</th>\n",
       "      <th>9</th>\n",
       "      <th>...</th>\n",
       "      <th>819</th>\n",
       "      <th>820</th>\n",
       "      <th>821</th>\n",
       "      <th>822</th>\n",
       "      <th>823</th>\n",
       "      <th>824</th>\n",
       "      <th>825</th>\n",
       "      <th>826</th>\n",
       "      <th>827</th>\n",
       "      <th>828</th>\n",
       "    </tr>\n",
       "  </thead>\n",
       "  <tbody>\n",
       "    <tr>\n",
       "      <th>MMM</th>\n",
       "      <td>0.014010</td>\n",
       "      <td>-0.004106</td>\n",
       "      <td>-0.008301</td>\n",
       "      <td>0.010955</td>\n",
       "      <td>-0.014115</td>\n",
       "      <td>0.008850</td>\n",
       "      <td>0.002458</td>\n",
       "      <td>0.008917</td>\n",
       "      <td>-0.012595</td>\n",
       "      <td>-0.002574</td>\n",
       "      <td>...</td>\n",
       "      <td>-0.038678</td>\n",
       "      <td>0.022411</td>\n",
       "      <td>0.000441</td>\n",
       "      <td>-0.005514</td>\n",
       "      <td>-0.035487</td>\n",
       "      <td>-0.001916</td>\n",
       "      <td>-0.031641</td>\n",
       "      <td>0.081212</td>\n",
       "      <td>-0.001981</td>\n",
       "      <td>0.020726</td>\n",
       "    </tr>\n",
       "    <tr>\n",
       "      <th>AOS</th>\n",
       "      <td>0.016633</td>\n",
       "      <td>-0.016714</td>\n",
       "      <td>0.006703</td>\n",
       "      <td>-0.011296</td>\n",
       "      <td>-0.003127</td>\n",
       "      <td>0.009772</td>\n",
       "      <td>0.003345</td>\n",
       "      <td>-0.012384</td>\n",
       "      <td>-0.028575</td>\n",
       "      <td>0.001117</td>\n",
       "      <td>...</td>\n",
       "      <td>0.004955</td>\n",
       "      <td>0.025927</td>\n",
       "      <td>0.010853</td>\n",
       "      <td>-0.020705</td>\n",
       "      <td>-0.015505</td>\n",
       "      <td>0.004454</td>\n",
       "      <td>-0.022648</td>\n",
       "      <td>0.036461</td>\n",
       "      <td>-0.002345</td>\n",
       "      <td>0.023351</td>\n",
       "    </tr>\n",
       "    <tr>\n",
       "      <th>ABT</th>\n",
       "      <td>-0.023518</td>\n",
       "      <td>-0.004493</td>\n",
       "      <td>-0.000148</td>\n",
       "      <td>0.003108</td>\n",
       "      <td>-0.002213</td>\n",
       "      <td>0.003253</td>\n",
       "      <td>-0.014591</td>\n",
       "      <td>-0.027017</td>\n",
       "      <td>-0.011492</td>\n",
       "      <td>-0.012406</td>\n",
       "      <td>...</td>\n",
       "      <td>-0.019994</td>\n",
       "      <td>0.019116</td>\n",
       "      <td>0.008512</td>\n",
       "      <td>-0.009029</td>\n",
       "      <td>0.027571</td>\n",
       "      <td>0.009869</td>\n",
       "      <td>-0.008322</td>\n",
       "      <td>0.014166</td>\n",
       "      <td>-0.014348</td>\n",
       "      <td>-0.003543</td>\n",
       "    </tr>\n",
       "    <tr>\n",
       "      <th>ABBV</th>\n",
       "      <td>-0.001920</td>\n",
       "      <td>0.005253</td>\n",
       "      <td>-0.004711</td>\n",
       "      <td>-0.002588</td>\n",
       "      <td>0.011195</td>\n",
       "      <td>0.004252</td>\n",
       "      <td>0.002336</td>\n",
       "      <td>-0.017368</td>\n",
       "      <td>0.017600</td>\n",
       "      <td>0.006698</td>\n",
       "      <td>...</td>\n",
       "      <td>-0.031361</td>\n",
       "      <td>0.004879</td>\n",
       "      <td>0.023136</td>\n",
       "      <td>-0.003719</td>\n",
       "      <td>-0.028959</td>\n",
       "      <td>0.007631</td>\n",
       "      <td>-0.016359</td>\n",
       "      <td>0.021274</td>\n",
       "      <td>0.018817</td>\n",
       "      <td>0.018752</td>\n",
       "    </tr>\n",
       "    <tr>\n",
       "      <th>ACN</th>\n",
       "      <td>-0.007146</td>\n",
       "      <td>-0.017611</td>\n",
       "      <td>-0.048290</td>\n",
       "      <td>-0.019180</td>\n",
       "      <td>0.006069</td>\n",
       "      <td>0.005657</td>\n",
       "      <td>0.008152</td>\n",
       "      <td>-0.041942</td>\n",
       "      <td>-0.022166</td>\n",
       "      <td>-0.014376</td>\n",
       "      <td>...</td>\n",
       "      <td>-0.044361</td>\n",
       "      <td>-0.003085</td>\n",
       "      <td>0.019167</td>\n",
       "      <td>-0.003899</td>\n",
       "      <td>-0.011848</td>\n",
       "      <td>-0.010132</td>\n",
       "      <td>-0.011050</td>\n",
       "      <td>0.016939</td>\n",
       "      <td>0.014791</td>\n",
       "      <td>0.011278</td>\n",
       "    </tr>\n",
       "  </tbody>\n",
       "</table>\n",
       "<p>5 rows × 829 columns</p>\n",
       "</div>"
      ],
      "text/plain": [
       "           0         1         2         3         4         5         6    \\\n",
       "MMM   0.014010 -0.004106 -0.008301  0.010955 -0.014115  0.008850  0.002458   \n",
       "AOS   0.016633 -0.016714  0.006703 -0.011296 -0.003127  0.009772  0.003345   \n",
       "ABT  -0.023518 -0.004493 -0.000148  0.003108 -0.002213  0.003253 -0.014591   \n",
       "ABBV -0.001920  0.005253 -0.004711 -0.002588  0.011195  0.004252  0.002336   \n",
       "ACN  -0.007146 -0.017611 -0.048290 -0.019180  0.006069  0.005657  0.008152   \n",
       "\n",
       "           7         8         9    ...       819       820       821  \\\n",
       "MMM   0.008917 -0.012595 -0.002574  ... -0.038678  0.022411  0.000441   \n",
       "AOS  -0.012384 -0.028575  0.001117  ...  0.004955  0.025927  0.010853   \n",
       "ABT  -0.027017 -0.011492 -0.012406  ... -0.019994  0.019116  0.008512   \n",
       "ABBV -0.017368  0.017600  0.006698  ... -0.031361  0.004879  0.023136   \n",
       "ACN  -0.041942 -0.022166 -0.014376  ... -0.044361 -0.003085  0.019167   \n",
       "\n",
       "           822       823       824       825       826       827       828  \n",
       "MMM  -0.005514 -0.035487 -0.001916 -0.031641  0.081212 -0.001981  0.020726  \n",
       "AOS  -0.020705 -0.015505  0.004454 -0.022648  0.036461 -0.002345  0.023351  \n",
       "ABT  -0.009029  0.027571  0.009869 -0.008322  0.014166 -0.014348 -0.003543  \n",
       "ABBV -0.003719 -0.028959  0.007631 -0.016359  0.021274  0.018817  0.018752  \n",
       "ACN  -0.003899 -0.011848 -0.010132 -0.011050  0.016939  0.014791  0.011278  \n",
       "\n",
       "[5 rows x 829 columns]"
      ]
     },
     "execution_count": 3,
     "metadata": {},
     "output_type": "execute_result"
    }
   ],
   "source": [
    "# drop row with index 0 and reset index\n",
    "time_series = time_series.drop(0).reset_index(drop=True).drop(columns=['Date']).dropna(axis=1).T\n",
    "\n",
    "# show the first few rows\n",
    "time_series.head()"
   ]
  },
  {
   "cell_type": "code",
   "execution_count": 4,
   "id": "efac2469",
   "metadata": {},
   "outputs": [
    {
     "data": {
      "application/vnd.microsoft.datawrangler.viewer.v0+json": {
       "columns": [
        {
         "name": "index",
         "rawType": "int64",
         "type": "integer"
        },
        {
         "name": "No. ",
         "rawType": "int64",
         "type": "integer"
        },
        {
         "name": "Symbol ",
         "rawType": "object",
         "type": "string"
        },
        {
         "name": "Company Name ",
         "rawType": "object",
         "type": "string"
        },
        {
         "name": "Market Cap ",
         "rawType": "object",
         "type": "string"
        },
        {
         "name": "Revenue ",
         "rawType": "object",
         "type": "string"
        },
        {
         "name": "Sector ",
         "rawType": "object",
         "type": "string"
        },
        {
         "name": "Labels",
         "rawType": "int64",
         "type": "integer"
        }
       ],
       "conversionMethod": "pd.DataFrame",
       "ref": "c7c19c96-111a-415f-b8fc-17b42f639b8d",
       "rows": [
        [
         "0",
         "1",
         "AAPL",
         "Apple Inc.",
         "3,381.32B",
         "391.04B",
         "Technology",
         "9"
        ],
        [
         "1",
         "2",
         "NVDA",
         "NVIDIA Corporation",
         "3,328.48B",
         "96.31B",
         "Technology",
         "9"
        ],
        [
         "2",
         "3",
         "MSFT",
         "Microsoft Corporation",
         "3,060.49B",
         "254.19B",
         "Technology",
         "9"
        ],
        [
         "3",
         "4",
         "GOOG",
         "Alphabet Inc.",
         "2,103.30B",
         "339.86B",
         "Communication Services",
         "0"
        ]
       ],
       "shape": {
        "columns": 7,
        "rows": 4
       }
      },
      "text/html": [
       "<div>\n",
       "<style scoped>\n",
       "    .dataframe tbody tr th:only-of-type {\n",
       "        vertical-align: middle;\n",
       "    }\n",
       "\n",
       "    .dataframe tbody tr th {\n",
       "        vertical-align: top;\n",
       "    }\n",
       "\n",
       "    .dataframe thead th {\n",
       "        text-align: right;\n",
       "    }\n",
       "</style>\n",
       "<table border=\"1\" class=\"dataframe\">\n",
       "  <thead>\n",
       "    <tr style=\"text-align: right;\">\n",
       "      <th></th>\n",
       "      <th>No.</th>\n",
       "      <th>Symbol</th>\n",
       "      <th>Company Name</th>\n",
       "      <th>Market Cap</th>\n",
       "      <th>Revenue</th>\n",
       "      <th>Sector</th>\n",
       "      <th>Labels</th>\n",
       "    </tr>\n",
       "  </thead>\n",
       "  <tbody>\n",
       "    <tr>\n",
       "      <th>0</th>\n",
       "      <td>1</td>\n",
       "      <td>AAPL</td>\n",
       "      <td>Apple Inc.</td>\n",
       "      <td>3,381.32B</td>\n",
       "      <td>391.04B</td>\n",
       "      <td>Technology</td>\n",
       "      <td>9</td>\n",
       "    </tr>\n",
       "    <tr>\n",
       "      <th>1</th>\n",
       "      <td>2</td>\n",
       "      <td>NVDA</td>\n",
       "      <td>NVIDIA Corporation</td>\n",
       "      <td>3,328.48B</td>\n",
       "      <td>96.31B</td>\n",
       "      <td>Technology</td>\n",
       "      <td>9</td>\n",
       "    </tr>\n",
       "    <tr>\n",
       "      <th>2</th>\n",
       "      <td>3</td>\n",
       "      <td>MSFT</td>\n",
       "      <td>Microsoft Corporation</td>\n",
       "      <td>3,060.49B</td>\n",
       "      <td>254.19B</td>\n",
       "      <td>Technology</td>\n",
       "      <td>9</td>\n",
       "    </tr>\n",
       "    <tr>\n",
       "      <th>3</th>\n",
       "      <td>4</td>\n",
       "      <td>GOOG</td>\n",
       "      <td>Alphabet Inc.</td>\n",
       "      <td>2,103.30B</td>\n",
       "      <td>339.86B</td>\n",
       "      <td>Communication Services</td>\n",
       "      <td>0</td>\n",
       "    </tr>\n",
       "  </tbody>\n",
       "</table>\n",
       "</div>"
      ],
      "text/plain": [
       "   No.  Symbol           Company Name  Market Cap  Revenue   \\\n",
       "0     1    AAPL             Apple Inc.   3,381.32B  391.04B   \n",
       "1     2    NVDA     NVIDIA Corporation   3,328.48B   96.31B   \n",
       "2     3    MSFT  Microsoft Corporation   3,060.49B  254.19B   \n",
       "3     4    GOOG          Alphabet Inc.   2,103.30B  339.86B   \n",
       "\n",
       "                  Sector   Labels  \n",
       "0              Technology       9  \n",
       "1              Technology       9  \n",
       "2              Technology       9  \n",
       "3  Communication Services       0  "
      ]
     },
     "execution_count": 4,
     "metadata": {},
     "output_type": "execute_result"
    }
   ],
   "source": [
    "stock_data.head(4)"
   ]
  },
  {
   "cell_type": "code",
   "execution_count": 5,
   "id": "26877d69",
   "metadata": {},
   "outputs": [
    {
     "data": {
      "text/plain": [
       "[6.0, 6.0, 5.0, 5.0, 9.0]"
      ]
     },
     "execution_count": 5,
     "metadata": {},
     "output_type": "execute_result"
    }
   ],
   "source": [
    "# align sectors from stock_data to time_series rows and build labels list\n",
    "# ensure there’s no leading/trailing whitespace in column names\n",
    "stock_data.columns = stock_data.columns.str.strip()\n",
    "\n",
    "sector_map = stock_data.set_index(\"Symbol\")[\"Labels\"]\n",
    "labels = sector_map.reindex(time_series.index).tolist()\n",
    "labels[:5]"
   ]
  },
  {
   "cell_type": "code",
   "execution_count": 6,
   "id": "0d82fea0",
   "metadata": {},
   "outputs": [
    {
     "data": {
      "text/plain": [
       "(array([-1,  0,  1,  2,  3,  4,  5,  6,  7,  8,  9, 10], dtype=int8), 496)"
      ]
     },
     "execution_count": 6,
     "metadata": {},
     "output_type": "execute_result"
    }
   ],
   "source": [
    "labels =  pd.Categorical(labels).codes\n",
    "np.unique(labels), len(labels) # NOTE: -1 is for missing values"
   ]
  },
  {
   "cell_type": "code",
   "execution_count": 7,
   "id": "1d2a6ccb",
   "metadata": {},
   "outputs": [
    {
     "data": {
      "text/plain": [
       "array([ 6,  6,  5,  5,  9,  9,  9, 10,  4,  5,  7,  1,  9,  7,  8,  5,  6,\n",
       "       10,  4,  0,  0,  2,  1,  1, 10, 10,  4,  4,  8, 10,  4,  6,  5,  9,\n",
       "        9,  9,  4,  3, -1,  9,  9,  1,  4,  2,  9,  4,  4,  0, 10,  9,  9,\n",
       "        1,  8,  1,  6,  3,  1,  4,  5,  5,  4,  1,  5,  5,  4,  4,  4,  6,\n",
       "        1,  5,  5,  9,  9,  4,  2,  6,  2,  8,  6,  9,  1,  8,  2,  4,  5,\n",
       "        1,  1,  6,  6,  4,  8,  9,  5,  5, 10,  7,  5,  4,  0,  3,  1,  4,\n",
       "        2,  5,  4,  6,  9,  4,  4,  2,  4, 10,  2,  9,  2,  0,  2,  3, 10,\n",
       "        2,  5,  6,  9,  9,  7,  8,  2,  3,  9,  8,  6,  6,  5,  5,  1,  5,\n",
       "        9,  1,  6,  9,  6,  3,  5,  3,  8,  4,  2,  2, 10,  1, -1,  6,  7,\n",
       "        1, 10, 10,  7,  7,  6,  1,  7, 10,  5,  0,  5,  6,  9, 10,  3,  9,\n",
       "        3,  6,  8,  8,  4,  8,  2,  4, 10, 10, 10, -1,  1,  6,  8,  3,  9,\n",
       "        4,  9,  6,  8,  6,  9,  4,  9, 10,  9,  1,  9,  9,  0,  0,  4,  7,\n",
       "        9,  9,  6,  9,  6,  6,  2,  1,  1,  5,  6,  4,  9,  4,  3,  4,  1,\n",
       "        5,  8,  5,  2,  3,  9,  1,  5,  1,  6,  2,  8,  6,  9,  6,  5,  4,\n",
       "        6,  9,  6,  5,  6,  5,  6,  5,  9,  4,  7,  1,  0,  9,  5,  4,  8,\n",
       "        5,  8,  6,  9,  9,  6,  5,  6,  4,  9,  2,  2,  4,  9,  2,  8,  3,\n",
       "        4,  9,  2,  2,  6,  5,  9,  2,  1,  9,  1, -1,  5,  7,  0,  1,  6,\n",
       "        4,  1,  1,  7,  4,  3,  4,  1,  4,  7,  6,  4,  0,  2,  1,  5,  5,\n",
       "        5,  0,  4,  5,  1,  9,  9,  9,  8,  5,  1,  5,  2,  2,  9,  2,  4,\n",
       "        4,  7,  9,  4,  4,  9,  0,  7,  0,  0, 10,  1, 10,  6,  6,  4,  6,\n",
       "        1, 10,  7,  9,  1,  9,  1,  3,  6,  0,  9,  3,  9,  6,  6,  1,  9,\n",
       "        9,  0,  6,  9,  9,  4,  6,  2,  5, 10,  2,  3, 10,  4,  6,  7, 10,\n",
       "        4,  2,  4,  8,  4, 10,  9,  8,  1,  6,  9,  5,  1,  4,  6,  8,  8,\n",
       "        5,  4,  6,  5,  5,  6,  1,  9,  1,  1,  4,  9,  8,  3,  9, 10,  9,\n",
       "        7,  8,  9,  2,  6, 10,  6,  6,  1,  4,  7,  5,  5,  9,  4,  9,  2,\n",
       "        0,  4,  0,  1,  3,  2,  9,  9,  9,  1,  9, -1,  6,  5,  1, -1,  1,\n",
       "        6,  6,  4,  9,  4,  9,  2,  4,  9,  8,  1,  6,  6,  6,  6,  5,  5,\n",
       "        3,  8,  9,  6,  0,  5,  5,  8,  4, 10,  7,  4,  6,  6,  5,  2,  0,\n",
       "        0,  6,  5, 10,  4,  8,  5,  9,  8, -1,  3,  4, -1,  1, 10,  6,  1,\n",
       "        9,  5,  5], dtype=int8)"
      ]
     },
     "execution_count": 7,
     "metadata": {},
     "output_type": "execute_result"
    }
   ],
   "source": [
    "labels"
   ]
  },
  {
   "cell_type": "code",
   "execution_count": 8,
   "id": "22b62b90",
   "metadata": {},
   "outputs": [
    {
     "data": {
      "image/png": "[encoded data removed]",
      "text/plain": [
       "<Figure size 1200x600 with 1 Axes>"
      ]
     },
     "metadata": {},
     "output_type": "display_data"
    }
   ],
   "source": [
    "def plot_ticker_returns(tickers):\n",
    "    # allow a single ticker string as input\n",
    "    if isinstance(tickers, str):\n",
    "        tickers = [tickers]\n",
    "    # select the rows and transpose so time is on the x‐axis\n",
    "    data = time_series.loc[tickers].T\n",
    "    data.columns = tickers\n",
    "    data.plot(figsize=(12, 6))\n",
    "    plt.xlabel('Time Index')\n",
    "    plt.ylabel('Daily Return')\n",
    "    plt.title(f\"Daily Returns – {', '.join(tickers)}\")\n",
    "    plt.legend()\n",
    "    plt.show()\n",
    "\n",
    "# example usage\n",
    "plot_ticker_returns(['AAPL', 'MSFT', 'GOOG', 'ABT'])\n"
   ]
  },
  {
   "cell_type": "markdown",
   "id": "93f590ae",
   "metadata": {},
   "source": [
    "# Creating the Proximities"
   ]
  },
  {
   "cell_type": "code",
   "execution_count": 9,
   "id": "2e50f5e2",
   "metadata": {},
   "outputs": [],
   "source": [
    "from QGAP.qgap import QGAP\n",
    "qgap = QGAP(matrix_type=\"dense\")\n",
    "quant_prox = data_to_proximities(qgap, time_series, labels, None, None, None)"
   ]
  },
  {
   "cell_type": "code",
   "execution_count": 10,
   "id": "89bc7ddc",
   "metadata": {},
   "outputs": [],
   "source": [
    "redcomets = REDCOMETS(variant = 3) #static = XSTATIC\n",
    "redcomets_prox = data_to_proximities(qgap, time_series, labels, None, None, None)"
   ]
  },
  {
   "cell_type": "code",
   "execution_count": 11,
   "id": "f45c409f",
   "metadata": {},
   "outputs": [],
   "source": [
    "# Rocket\n",
    "from RFGAP_Rocket.RFGAP_Rocket import RFGAP_Rocket\n",
    "\n",
    "rf_rocket = RFGAP_Rocket(prediction_type = \"classification\", rocket = \"Multi\",\n",
    "                         n_kernels=512) # Rocket Kwargs\n",
    "rocket_prox = data_to_proximities(rf_rocket, time_series, labels, None, None , None)\n"
   ]
  },
  {
   "cell_type": "code",
   "execution_count": null,
   "id": "c872bbe8",
   "metadata": {},
   "outputs": [],
   "source": [
    "# # RDST\n",
    "# from RDST.rdst import RDST_GAP\n",
    "# rdst = RDST_GAP(save_transformed_data = True)\n",
    "# rdst_prox = data_to_proximities(rdst, time_series, labels, None, None , None)\n",
    "\n",
    "rdst_prox = np.load(\"rdst_prox.npy\")\n"
   ]
  },
  {
   "cell_type": "code",
   "execution_count": 22,
   "id": "3cd4a297",
   "metadata": {},
   "outputs": [],
   "source": [
    "#NOTE: THIS TAKES FOREVER\n",
    "# sys.path.insert(0, '/yunity/arusty/PF-GAP/PFGAP')\n",
    "# from PFGAP.PyPFGAP import PyPFGAP\n",
    "# pf = PyPFGAP()\n",
    "# pf_prox = data_to_proximities(pf, time_series, labels.astype(str), None, None, None)\n",
    "\n",
    "# Read in the file that took nearly 1.5 hours to run\n",
    "pf_prox = np.load(\"pf_prox.npy\")"
   ]
  },
  {
   "cell_type": "markdown",
   "id": "8edeb93f",
   "metadata": {},
   "source": [
    "# With Static"
   ]
  },
  {
   "cell_type": "code",
   "execution_count": 18,
   "id": "d60c4382",
   "metadata": {},
   "outputs": [
    {
     "name": "stdout",
     "output_type": "stream",
     "text": [
      "static2024 aligned with time_series, shape (496, 11)\n",
      "static2023 aligned with time_series, shape (496, 11)\n",
      "static2022 aligned with time_series, shape (496, 11)\n",
      "static2025 aligned with time_series, shape (496, 11)\n"
     ]
    }
   ],
   "source": [
    "# Split static_data into separate DataFrames by year and align to time_series.index\n",
    "for year in static_data['Year'].unique():\n",
    "    # slice out this year's data\n",
    "    df = static_data[static_data['Year'] == year].reset_index(drop=True)\n",
    "    # reindex by ticker to match time_series rows\n",
    "    df = df.set_index('Ticker').reindex(time_series.index).reset_index().drop(columns=['index', \"Year\"])\n",
    "\n",
    "    # MEDIAN IMPUTATION... May change (but we have small amount of missing data )\n",
    "    if df.isnull().values.any():\n",
    "        df = df.fillna(df.median(numeric_only=True))\n",
    "\n",
    "\n",
    "    globals()[f\"static{year}\"] = df\n",
    "    print(f\"static{year} aligned with time_series, shape {df.shape}\")\n"
   ]
  },
  {
   "cell_type": "code",
   "execution_count": 19,
   "id": "ff39644a",
   "metadata": {},
   "outputs": [
    {
     "data": {
      "application/vnd.microsoft.datawrangler.viewer.v0+json": {
       "columns": [
        {
         "name": "index",
         "rawType": "int64",
         "type": "integer"
        },
        {
         "name": "PE Ratio",
         "rawType": "float64",
         "type": "float"
        },
        {
         "name": "PB Ratio",
         "rawType": "float64",
         "type": "float"
        },
        {
         "name": "PS Ratio",
         "rawType": "float64",
         "type": "float"
        },
        {
         "name": "ROE",
         "rawType": "float64",
         "type": "float"
        },
        {
         "name": "ROA",
         "rawType": "float64",
         "type": "float"
        },
        {
         "name": "Debt/Equity",
         "rawType": "float64",
         "type": "float"
        },
        {
         "name": "Current Ratio",
         "rawType": "float64",
         "type": "float"
        },
        {
         "name": "Profit Margin",
         "rawType": "float64",
         "type": "float"
        },
        {
         "name": "Revenue Growth YoY",
         "rawType": "float64",
         "type": "float"
        },
        {
         "name": "EPS Growth Next 5Y",
         "rawType": "float64",
         "type": "float"
        },
        {
         "name": "Market Cap",
         "rawType": "float64",
         "type": "float"
        }
       ],
       "conversionMethod": "pd.DataFrame",
       "ref": "b6d68244-6e30-4fbe-b5b5-a25e446eee4b",
       "rows": [
        [
         "0",
         "17.295145",
         "16.742617",
         "3.0490997",
         "1.086153045288912",
         "0.1046704123607906",
         "312.492",
         "1.657",
         "0.1698067141403865",
         "-0.01",
         "0.221",
         "74742579200.0"
        ],
        [
         "1",
         "17.988981",
         "5.0034485",
         "2.4547403",
         "0.2833023626227767",
         "0.1646913580246913",
         "12.132",
         "1.552",
         "0.1397553757104319",
         "-0.077",
         "-0.181",
         "9372443648.0"
        ],
        [
         "2",
         "16.95675",
         "4.700625",
         "5.299129",
         "0.2811765693185633",
         "0.1646154224089223",
         "31.889",
         "1.2469999999999999",
         "0.3194755661501788",
         "0.04",
         "0.083",
         "224386334720.0"
        ],
        [
         "3",
         "75.46861",
         "95.73779",
         "5.6639132",
         "1.2866165413533834",
         "0.0316511419714266",
         "2021.968",
         "0.66",
         "0.0759399297049739",
         "0.056",
         "0.078",
         "319070896128.0"
        ],
        [
         "4",
         "24.023909",
         "6.241914",
         "2.7138677",
         "0.2568092866657527",
         "0.1298852151124028",
         "26.706",
         "1.477",
         "0.1119442655612176",
         "0.054",
         "0.072",
         "182430236672.0"
        ]
       ],
       "shape": {
        "columns": 11,
        "rows": 5
       }
      },
      "text/html": [
       "<div>\n",
       "<style scoped>\n",
       "    .dataframe tbody tr th:only-of-type {\n",
       "        vertical-align: middle;\n",
       "    }\n",
       "\n",
       "    .dataframe tbody tr th {\n",
       "        vertical-align: top;\n",
       "    }\n",
       "\n",
       "    .dataframe thead th {\n",
       "        text-align: right;\n",
       "    }\n",
       "</style>\n",
       "<table border=\"1\" class=\"dataframe\">\n",
       "  <thead>\n",
       "    <tr style=\"text-align: right;\">\n",
       "      <th></th>\n",
       "      <th>PE Ratio</th>\n",
       "      <th>PB Ratio</th>\n",
       "      <th>PS Ratio</th>\n",
       "      <th>ROE</th>\n",
       "      <th>ROA</th>\n",
       "      <th>Debt/Equity</th>\n",
       "      <th>Current Ratio</th>\n",
       "      <th>Profit Margin</th>\n",
       "      <th>Revenue Growth YoY</th>\n",
       "      <th>EPS Growth Next 5Y</th>\n",
       "      <th>Market Cap</th>\n",
       "    </tr>\n",
       "  </thead>\n",
       "  <tbody>\n",
       "    <tr>\n",
       "      <th>0</th>\n",
       "      <td>17.295145</td>\n",
       "      <td>16.742617</td>\n",
       "      <td>3.049100</td>\n",
       "      <td>1.086153</td>\n",
       "      <td>0.104670</td>\n",
       "      <td>312.492</td>\n",
       "      <td>1.657</td>\n",
       "      <td>0.169807</td>\n",
       "      <td>-0.010</td>\n",
       "      <td>0.221</td>\n",
       "      <td>7.474258e+10</td>\n",
       "    </tr>\n",
       "    <tr>\n",
       "      <th>1</th>\n",
       "      <td>17.988981</td>\n",
       "      <td>5.003449</td>\n",
       "      <td>2.454740</td>\n",
       "      <td>0.283302</td>\n",
       "      <td>0.164691</td>\n",
       "      <td>12.132</td>\n",
       "      <td>1.552</td>\n",
       "      <td>0.139755</td>\n",
       "      <td>-0.077</td>\n",
       "      <td>-0.181</td>\n",
       "      <td>9.372444e+09</td>\n",
       "    </tr>\n",
       "    <tr>\n",
       "      <th>2</th>\n",
       "      <td>16.956750</td>\n",
       "      <td>4.700625</td>\n",
       "      <td>5.299129</td>\n",
       "      <td>0.281177</td>\n",
       "      <td>0.164615</td>\n",
       "      <td>31.889</td>\n",
       "      <td>1.247</td>\n",
       "      <td>0.319476</td>\n",
       "      <td>0.040</td>\n",
       "      <td>0.083</td>\n",
       "      <td>2.243863e+11</td>\n",
       "    </tr>\n",
       "    <tr>\n",
       "      <th>3</th>\n",
       "      <td>75.468610</td>\n",
       "      <td>95.737790</td>\n",
       "      <td>5.663913</td>\n",
       "      <td>1.286617</td>\n",
       "      <td>0.031651</td>\n",
       "      <td>2021.968</td>\n",
       "      <td>0.660</td>\n",
       "      <td>0.075940</td>\n",
       "      <td>0.056</td>\n",
       "      <td>0.078</td>\n",
       "      <td>3.190709e+11</td>\n",
       "    </tr>\n",
       "    <tr>\n",
       "      <th>4</th>\n",
       "      <td>24.023909</td>\n",
       "      <td>6.241914</td>\n",
       "      <td>2.713868</td>\n",
       "      <td>0.256809</td>\n",
       "      <td>0.129885</td>\n",
       "      <td>26.706</td>\n",
       "      <td>1.477</td>\n",
       "      <td>0.111944</td>\n",
       "      <td>0.054</td>\n",
       "      <td>0.072</td>\n",
       "      <td>1.824302e+11</td>\n",
       "    </tr>\n",
       "  </tbody>\n",
       "</table>\n",
       "</div>"
      ],
      "text/plain": [
       "    PE Ratio   PB Ratio  PS Ratio       ROE       ROA  Debt/Equity  \\\n",
       "0  17.295145  16.742617  3.049100  1.086153  0.104670      312.492   \n",
       "1  17.988981   5.003449  2.454740  0.283302  0.164691       12.132   \n",
       "2  16.956750   4.700625  5.299129  0.281177  0.164615       31.889   \n",
       "3  75.468610  95.737790  5.663913  1.286617  0.031651     2021.968   \n",
       "4  24.023909   6.241914  2.713868  0.256809  0.129885       26.706   \n",
       "\n",
       "   Current Ratio  Profit Margin  Revenue Growth YoY  EPS Growth Next 5Y  \\\n",
       "0          1.657       0.169807              -0.010               0.221   \n",
       "1          1.552       0.139755              -0.077              -0.181   \n",
       "2          1.247       0.319476               0.040               0.083   \n",
       "3          0.660       0.075940               0.056               0.078   \n",
       "4          1.477       0.111944               0.054               0.072   \n",
       "\n",
       "     Market Cap  \n",
       "0  7.474258e+10  \n",
       "1  9.372444e+09  \n",
       "2  2.243863e+11  \n",
       "3  3.190709e+11  \n",
       "4  1.824302e+11  "
      ]
     },
     "execution_count": 19,
     "metadata": {},
     "output_type": "execute_result"
    }
   ],
   "source": [
    "static2024.head() # Hass missing values?"
   ]
  },
  {
   "cell_type": "code",
   "execution_count": 16,
   "id": "27ec6522",
   "metadata": {},
   "outputs": [
    {
     "data": {
      "application/vnd.microsoft.datawrangler.viewer.v0+json": {
       "columns": [
        {
         "name": "index",
         "rawType": "object",
         "type": "string"
        },
        {
         "name": "0",
         "rawType": "float64",
         "type": "float"
        },
        {
         "name": "1",
         "rawType": "float64",
         "type": "float"
        },
        {
         "name": "2",
         "rawType": "float64",
         "type": "float"
        },
        {
         "name": "3",
         "rawType": "float64",
         "type": "float"
        },
        {
         "name": "4",
         "rawType": "float64",
         "type": "float"
        },
        {
         "name": "5",
         "rawType": "float64",
         "type": "float"
        },
        {
         "name": "6",
         "rawType": "float64",
         "type": "float"
        },
        {
         "name": "7",
         "rawType": "float64",
         "type": "float"
        },
        {
         "name": "8",
         "rawType": "float64",
         "type": "float"
        },
        {
         "name": "9",
         "rawType": "float64",
         "type": "float"
        },
        {
         "name": "10",
         "rawType": "float64",
         "type": "float"
        },
        {
         "name": "11",
         "rawType": "float64",
         "type": "float"
        },
        {
         "name": "12",
         "rawType": "float64",
         "type": "float"
        },
        {
         "name": "13",
         "rawType": "float64",
         "type": "float"
        },
        {
         "name": "14",
         "rawType": "float64",
         "type": "float"
        },
        {
         "name": "15",
         "rawType": "float64",
         "type": "float"
        },
        {
         "name": "16",
         "rawType": "float64",
         "type": "float"
        },
        {
         "name": "17",
         "rawType": "float64",
         "type": "float"
        },
        {
         "name": "18",
         "rawType": "float64",
         "type": "float"
        },
        {
         "name": "19",
         "rawType": "float64",
         "type": "float"
        },
        {
         "name": "20",
         "rawType": "float64",
         "type": "float"
        },
        {
         "name": "21",
         "rawType": "float64",
         "type": "float"
        },
        {
         "name": "22",
         "rawType": "float64",
         "type": "float"
        },
        {
         "name": "23",
         "rawType": "float64",
         "type": "float"
        },
        {
         "name": "24",
         "rawType": "float64",
         "type": "float"
        },
        {
         "name": "25",
         "rawType": "float64",
         "type": "float"
        },
        {
         "name": "26",
         "rawType": "float64",
         "type": "float"
        },
        {
         "name": "27",
         "rawType": "float64",
         "type": "float"
        },
        {
         "name": "28",
         "rawType": "float64",
         "type": "float"
        },
        {
         "name": "29",
         "rawType": "float64",
         "type": "float"
        },
        {
         "name": "30",
         "rawType": "float64",
         "type": "float"
        },
        {
         "name": "31",
         "rawType": "float64",
         "type": "float"
        },
        {
         "name": "32",
         "rawType": "float64",
         "type": "float"
        },
        {
         "name": "33",
         "rawType": "float64",
         "type": "float"
        },
        {
         "name": "34",
         "rawType": "float64",
         "type": "float"
        },
        {
         "name": "35",
         "rawType": "float64",
         "type": "float"
        },
        {
         "name": "36",
         "rawType": "float64",
         "type": "float"
        },
        {
         "name": "37",
         "rawType": "float64",
         "type": "float"
        },
        {
         "name": "38",
         "rawType": "float64",
         "type": "float"
        },
        {
         "name": "39",
         "rawType": "float64",
         "type": "float"
        },
        {
         "name": "40",
         "rawType": "float64",
         "type": "float"
        },
        {
         "name": "41",
         "rawType": "float64",
         "type": "float"
        },
        {
         "name": "42",
         "rawType": "float64",
         "type": "float"
        },
        {
         "name": "43",
         "rawType": "float64",
         "type": "float"
        },
        {
         "name": "44",
         "rawType": "float64",
         "type": "float"
        },
        {
         "name": "45",
         "rawType": "float64",
         "type": "float"
        },
        {
         "name": "46",
         "rawType": "float64",
         "type": "float"
        },
        {
         "name": "47",
         "rawType": "float64",
         "type": "float"
        },
        {
         "name": "48",
         "rawType": "float64",
         "type": "float"
        },
        {
         "name": "49",
         "rawType": "float64",
         "type": "float"
        },
        {
         "name": "50",
         "rawType": "float64",
         "type": "float"
        },
        {
         "name": "51",
         "rawType": "float64",
         "type": "float"
        },
        {
         "name": "52",
         "rawType": "float64",
         "type": "float"
        },
        {
         "name": "53",
         "rawType": "float64",
         "type": "float"
        },
        {
         "name": "54",
         "rawType": "float64",
         "type": "float"
        },
        {
         "name": "55",
         "rawType": "float64",
         "type": "float"
        },
        {
         "name": "56",
         "rawType": "float64",
         "type": "float"
        },
        {
         "name": "57",
         "rawType": "float64",
         "type": "float"
        },
        {
         "name": "58",
         "rawType": "float64",
         "type": "float"
        },
        {
         "name": "59",
         "rawType": "float64",
         "type": "float"
        },
        {
         "name": "60",
         "rawType": "float64",
         "type": "float"
        },
        {
         "name": "61",
         "rawType": "float64",
         "type": "float"
        },
        {
         "name": "62",
         "rawType": "float64",
         "type": "float"
        },
        {
         "name": "63",
         "rawType": "float64",
         "type": "float"
        },
        {
         "name": "64",
         "rawType": "float64",
         "type": "float"
        },
        {
         "name": "65",
         "rawType": "float64",
         "type": "float"
        },
        {
         "name": "66",
         "rawType": "float64",
         "type": "float"
        },
        {
         "name": "67",
         "rawType": "float64",
         "type": "float"
        },
        {
         "name": "68",
         "rawType": "float64",
         "type": "float"
        },
        {
         "name": "69",
         "rawType": "float64",
         "type": "float"
        },
        {
         "name": "70",
         "rawType": "float64",
         "type": "float"
        },
        {
         "name": "71",
         "rawType": "float64",
         "type": "float"
        },
        {
         "name": "72",
         "rawType": "float64",
         "type": "float"
        },
        {
         "name": "73",
         "rawType": "float64",
         "type": "float"
        },
        {
         "name": "74",
         "rawType": "float64",
         "type": "float"
        },
        {
         "name": "75",
         "rawType": "float64",
         "type": "float"
        },
        {
         "name": "76",
         "rawType": "float64",
         "type": "float"
        },
        {
         "name": "77",
         "rawType": "float64",
         "type": "float"
        },
        {
         "name": "78",
         "rawType": "float64",
         "type": "float"
        },
        {
         "name": "79",
         "rawType": "float64",
         "type": "float"
        },
        {
         "name": "80",
         "rawType": "float64",
         "type": "float"
        },
        {
         "name": "81",
         "rawType": "float64",
         "type": "float"
        },
        {
         "name": "82",
         "rawType": "float64",
         "type": "float"
        },
        {
         "name": "83",
         "rawType": "float64",
         "type": "float"
        },
        {
         "name": "84",
         "rawType": "float64",
         "type": "float"
        },
        {
         "name": "85",
         "rawType": "float64",
         "type": "float"
        },
        {
         "name": "86",
         "rawType": "float64",
         "type": "float"
        },
        {
         "name": "87",
         "rawType": "float64",
         "type": "float"
        },
        {
         "name": "88",
         "rawType": "float64",
         "type": "float"
        },
        {
         "name": "89",
         "rawType": "float64",
         "type": "float"
        },
        {
         "name": "90",
         "rawType": "float64",
         "type": "float"
        },
        {
         "name": "91",
         "rawType": "float64",
         "type": "float"
        },
        {
         "name": "92",
         "rawType": "float64",
         "type": "float"
        },
        {
         "name": "93",
         "rawType": "float64",
         "type": "float"
        },
        {
         "name": "94",
         "rawType": "float64",
         "type": "float"
        },
        {
         "name": "95",
         "rawType": "float64",
         "type": "float"
        },
        {
         "name": "96",
         "rawType": "float64",
         "type": "float"
        },
        {
         "name": "97",
         "rawType": "float64",
         "type": "float"
        },
        {
         "name": "98",
         "rawType": "float64",
         "type": "float"
        },
        {
         "name": "99",
         "rawType": "float64",
         "type": "float"
        },
        {
         "name": "100",
         "rawType": "float64",
         "type": "float"
        },
        {
         "name": "101",
         "rawType": "float64",
         "type": "float"
        },
        {
         "name": "102",
         "rawType": "float64",
         "type": "float"
        },
        {
         "name": "103",
         "rawType": "float64",
         "type": "float"
        },
        {
         "name": "104",
         "rawType": "float64",
         "type": "float"
        },
        {
         "name": "105",
         "rawType": "float64",
         "type": "float"
        },
        {
         "name": "106",
         "rawType": "float64",
         "type": "float"
        },
        {
         "name": "107",
         "rawType": "float64",
         "type": "float"
        },
        {
         "name": "108",
         "rawType": "float64",
         "type": "float"
        },
        {
         "name": "109",
         "rawType": "float64",
         "type": "float"
        },
        {
         "name": "110",
         "rawType": "float64",
         "type": "float"
        },
        {
         "name": "111",
         "rawType": "float64",
         "type": "float"
        },
        {
         "name": "112",
         "rawType": "float64",
         "type": "float"
        },
        {
         "name": "113",
         "rawType": "float64",
         "type": "float"
        },
        {
         "name": "114",
         "rawType": "float64",
         "type": "float"
        },
        {
         "name": "115",
         "rawType": "float64",
         "type": "float"
        },
        {
         "name": "116",
         "rawType": "float64",
         "type": "float"
        },
        {
         "name": "117",
         "rawType": "float64",
         "type": "float"
        },
        {
         "name": "118",
         "rawType": "float64",
         "type": "float"
        },
        {
         "name": "119",
         "rawType": "float64",
         "type": "float"
        },
        {
         "name": "120",
         "rawType": "float64",
         "type": "float"
        },
        {
         "name": "121",
         "rawType": "float64",
         "type": "float"
        },
        {
         "name": "122",
         "rawType": "float64",
         "type": "float"
        },
        {
         "name": "123",
         "rawType": "float64",
         "type": "float"
        },
        {
         "name": "124",
         "rawType": "float64",
         "type": "float"
        },
        {
         "name": "125",
         "rawType": "float64",
         "type": "float"
        },
        {
         "name": "126",
         "rawType": "float64",
         "type": "float"
        },
        {
         "name": "127",
         "rawType": "float64",
         "type": "float"
        },
        {
         "name": "128",
         "rawType": "float64",
         "type": "float"
        },
        {
         "name": "129",
         "rawType": "float64",
         "type": "float"
        },
        {
         "name": "130",
         "rawType": "float64",
         "type": "float"
        },
        {
         "name": "131",
         "rawType": "float64",
         "type": "float"
        },
        {
         "name": "132",
         "rawType": "float64",
         "type": "float"
        },
        {
         "name": "133",
         "rawType": "float64",
         "type": "float"
        },
        {
         "name": "134",
         "rawType": "float64",
         "type": "float"
        },
        {
         "name": "135",
         "rawType": "float64",
         "type": "float"
        },
        {
         "name": "136",
         "rawType": "float64",
         "type": "float"
        },
        {
         "name": "137",
         "rawType": "float64",
         "type": "float"
        },
        {
         "name": "138",
         "rawType": "float64",
         "type": "float"
        },
        {
         "name": "139",
         "rawType": "float64",
         "type": "float"
        },
        {
         "name": "140",
         "rawType": "float64",
         "type": "float"
        },
        {
         "name": "141",
         "rawType": "float64",
         "type": "float"
        },
        {
         "name": "142",
         "rawType": "float64",
         "type": "float"
        },
        {
         "name": "143",
         "rawType": "float64",
         "type": "float"
        },
        {
         "name": "144",
         "rawType": "float64",
         "type": "float"
        },
        {
         "name": "145",
         "rawType": "float64",
         "type": "float"
        },
        {
         "name": "146",
         "rawType": "float64",
         "type": "float"
        },
        {
         "name": "147",
         "rawType": "float64",
         "type": "float"
        },
        {
         "name": "148",
         "rawType": "float64",
         "type": "float"
        },
        {
         "name": "149",
         "rawType": "float64",
         "type": "float"
        },
        {
         "name": "150",
         "rawType": "float64",
         "type": "float"
        },
        {
         "name": "151",
         "rawType": "float64",
         "type": "float"
        },
        {
         "name": "152",
         "rawType": "float64",
         "type": "float"
        },
        {
         "name": "153",
         "rawType": "float64",
         "type": "float"
        },
        {
         "name": "154",
         "rawType": "float64",
         "type": "float"
        },
        {
         "name": "155",
         "rawType": "float64",
         "type": "float"
        },
        {
         "name": "156",
         "rawType": "float64",
         "type": "float"
        },
        {
         "name": "157",
         "rawType": "float64",
         "type": "float"
        },
        {
         "name": "158",
         "rawType": "float64",
         "type": "float"
        },
        {
         "name": "159",
         "rawType": "float64",
         "type": "float"
        },
        {
         "name": "160",
         "rawType": "float64",
         "type": "float"
        },
        {
         "name": "161",
         "rawType": "float64",
         "type": "float"
        },
        {
         "name": "162",
         "rawType": "float64",
         "type": "float"
        },
        {
         "name": "163",
         "rawType": "float64",
         "type": "float"
        },
        {
         "name": "164",
         "rawType": "float64",
         "type": "float"
        },
        {
         "name": "165",
         "rawType": "float64",
         "type": "float"
        },
        {
         "name": "166",
         "rawType": "float64",
         "type": "float"
        },
        {
         "name": "167",
         "rawType": "float64",
         "type": "float"
        },
        {
         "name": "168",
         "rawType": "float64",
         "type": "float"
        },
        {
         "name": "169",
         "rawType": "float64",
         "type": "float"
        },
        {
         "name": "170",
         "rawType": "float64",
         "type": "float"
        },
        {
         "name": "171",
         "rawType": "float64",
         "type": "float"
        },
        {
         "name": "172",
         "rawType": "float64",
         "type": "float"
        },
        {
         "name": "173",
         "rawType": "float64",
         "type": "float"
        },
        {
         "name": "174",
         "rawType": "float64",
         "type": "float"
        },
        {
         "name": "175",
         "rawType": "float64",
         "type": "float"
        },
        {
         "name": "176",
         "rawType": "float64",
         "type": "float"
        },
        {
         "name": "177",
         "rawType": "float64",
         "type": "float"
        },
        {
         "name": "178",
         "rawType": "float64",
         "type": "float"
        },
        {
         "name": "179",
         "rawType": "float64",
         "type": "float"
        },
        {
         "name": "180",
         "rawType": "float64",
         "type": "float"
        },
        {
         "name": "181",
         "rawType": "float64",
         "type": "float"
        },
        {
         "name": "182",
         "rawType": "float64",
         "type": "float"
        },
        {
         "name": "183",
         "rawType": "float64",
         "type": "float"
        },
        {
         "name": "184",
         "rawType": "float64",
         "type": "float"
        },
        {
         "name": "185",
         "rawType": "float64",
         "type": "float"
        },
        {
         "name": "186",
         "rawType": "float64",
         "type": "float"
        },
        {
         "name": "187",
         "rawType": "float64",
         "type": "float"
        },
        {
         "name": "188",
         "rawType": "float64",
         "type": "float"
        },
        {
         "name": "189",
         "rawType": "float64",
         "type": "float"
        },
        {
         "name": "190",
         "rawType": "float64",
         "type": "float"
        },
        {
         "name": "191",
         "rawType": "float64",
         "type": "float"
        },
        {
         "name": "192",
         "rawType": "float64",
         "type": "float"
        },
        {
         "name": "193",
         "rawType": "float64",
         "type": "float"
        },
        {
         "name": "194",
         "rawType": "float64",
         "type": "float"
        },
        {
         "name": "195",
         "rawType": "float64",
         "type": "float"
        },
        {
         "name": "196",
         "rawType": "float64",
         "type": "float"
        },
        {
         "name": "197",
         "rawType": "float64",
         "type": "float"
        },
        {
         "name": "198",
         "rawType": "float64",
         "type": "float"
        },
        {
         "name": "199",
         "rawType": "float64",
         "type": "float"
        },
        {
         "name": "200",
         "rawType": "float64",
         "type": "float"
        },
        {
         "name": "201",
         "rawType": "float64",
         "type": "float"
        },
        {
         "name": "202",
         "rawType": "float64",
         "type": "float"
        },
        {
         "name": "203",
         "rawType": "float64",
         "type": "float"
        },
        {
         "name": "204",
         "rawType": "float64",
         "type": "float"
        },
        {
         "name": "205",
         "rawType": "float64",
         "type": "float"
        },
        {
         "name": "206",
         "rawType": "float64",
         "type": "float"
        },
        {
         "name": "207",
         "rawType": "float64",
         "type": "float"
        },
        {
         "name": "208",
         "rawType": "float64",
         "type": "float"
        },
        {
         "name": "209",
         "rawType": "float64",
         "type": "float"
        },
        {
         "name": "210",
         "rawType": "float64",
         "type": "float"
        },
        {
         "name": "211",
         "rawType": "float64",
         "type": "float"
        },
        {
         "name": "212",
         "rawType": "float64",
         "type": "float"
        },
        {
         "name": "213",
         "rawType": "float64",
         "type": "float"
        },
        {
         "name": "214",
         "rawType": "float64",
         "type": "float"
        },
        {
         "name": "215",
         "rawType": "float64",
         "type": "float"
        },
        {
         "name": "216",
         "rawType": "float64",
         "type": "float"
        },
        {
         "name": "217",
         "rawType": "float64",
         "type": "float"
        },
        {
         "name": "218",
         "rawType": "float64",
         "type": "float"
        },
        {
         "name": "219",
         "rawType": "float64",
         "type": "float"
        },
        {
         "name": "220",
         "rawType": "float64",
         "type": "float"
        },
        {
         "name": "221",
         "rawType": "float64",
         "type": "float"
        },
        {
         "name": "222",
         "rawType": "float64",
         "type": "float"
        },
        {
         "name": "223",
         "rawType": "float64",
         "type": "float"
        },
        {
         "name": "224",
         "rawType": "float64",
         "type": "float"
        },
        {
         "name": "225",
         "rawType": "float64",
         "type": "float"
        },
        {
         "name": "226",
         "rawType": "float64",
         "type": "float"
        },
        {
         "name": "227",
         "rawType": "float64",
         "type": "float"
        },
        {
         "name": "228",
         "rawType": "float64",
         "type": "float"
        },
        {
         "name": "229",
         "rawType": "float64",
         "type": "float"
        },
        {
         "name": "230",
         "rawType": "float64",
         "type": "float"
        },
        {
         "name": "231",
         "rawType": "float64",
         "type": "float"
        },
        {
         "name": "232",
         "rawType": "float64",
         "type": "float"
        },
        {
         "name": "233",
         "rawType": "float64",
         "type": "float"
        },
        {
         "name": "234",
         "rawType": "float64",
         "type": "float"
        },
        {
         "name": "235",
         "rawType": "float64",
         "type": "float"
        },
        {
         "name": "236",
         "rawType": "float64",
         "type": "float"
        },
        {
         "name": "237",
         "rawType": "float64",
         "type": "float"
        },
        {
         "name": "238",
         "rawType": "float64",
         "type": "float"
        },
        {
         "name": "239",
         "rawType": "float64",
         "type": "float"
        },
        {
         "name": "240",
         "rawType": "float64",
         "type": "float"
        },
        {
         "name": "241",
         "rawType": "float64",
         "type": "float"
        },
        {
         "name": "242",
         "rawType": "float64",
         "type": "float"
        },
        {
         "name": "243",
         "rawType": "float64",
         "type": "float"
        },
        {
         "name": "244",
         "rawType": "float64",
         "type": "float"
        },
        {
         "name": "245",
         "rawType": "float64",
         "type": "float"
        },
        {
         "name": "246",
         "rawType": "float64",
         "type": "float"
        },
        {
         "name": "247",
         "rawType": "float64",
         "type": "float"
        },
        {
         "name": "248",
         "rawType": "float64",
         "type": "float"
        },
        {
         "name": "249",
         "rawType": "float64",
         "type": "float"
        },
        {
         "name": "250",
         "rawType": "float64",
         "type": "float"
        },
        {
         "name": "251",
         "rawType": "float64",
         "type": "float"
        },
        {
         "name": "252",
         "rawType": "float64",
         "type": "float"
        },
        {
         "name": "253",
         "rawType": "float64",
         "type": "float"
        },
        {
         "name": "254",
         "rawType": "float64",
         "type": "float"
        },
        {
         "name": "255",
         "rawType": "float64",
         "type": "float"
        },
        {
         "name": "256",
         "rawType": "float64",
         "type": "float"
        },
        {
         "name": "257",
         "rawType": "float64",
         "type": "float"
        },
        {
         "name": "258",
         "rawType": "float64",
         "type": "float"
        },
        {
         "name": "259",
         "rawType": "float64",
         "type": "float"
        },
        {
         "name": "260",
         "rawType": "float64",
         "type": "float"
        },
        {
         "name": "261",
         "rawType": "float64",
         "type": "float"
        },
        {
         "name": "262",
         "rawType": "float64",
         "type": "float"
        },
        {
         "name": "263",
         "rawType": "float64",
         "type": "float"
        },
        {
         "name": "264",
         "rawType": "float64",
         "type": "float"
        },
        {
         "name": "265",
         "rawType": "float64",
         "type": "float"
        },
        {
         "name": "266",
         "rawType": "float64",
         "type": "float"
        },
        {
         "name": "267",
         "rawType": "float64",
         "type": "float"
        },
        {
         "name": "268",
         "rawType": "float64",
         "type": "float"
        },
        {
         "name": "269",
         "rawType": "float64",
         "type": "float"
        },
        {
         "name": "270",
         "rawType": "float64",
         "type": "float"
        },
        {
         "name": "271",
         "rawType": "float64",
         "type": "float"
        },
        {
         "name": "272",
         "rawType": "float64",
         "type": "float"
        },
        {
         "name": "273",
         "rawType": "float64",
         "type": "float"
        },
        {
         "name": "274",
         "rawType": "float64",
         "type": "float"
        },
        {
         "name": "275",
         "rawType": "float64",
         "type": "float"
        },
        {
         "name": "276",
         "rawType": "float64",
         "type": "float"
        },
        {
         "name": "277",
         "rawType": "float64",
         "type": "float"
        },
        {
         "name": "278",
         "rawType": "float64",
         "type": "float"
        },
        {
         "name": "279",
         "rawType": "float64",
         "type": "float"
        },
        {
         "name": "280",
         "rawType": "float64",
         "type": "float"
        },
        {
         "name": "281",
         "rawType": "float64",
         "type": "float"
        },
        {
         "name": "282",
         "rawType": "float64",
         "type": "float"
        },
        {
         "name": "283",
         "rawType": "float64",
         "type": "float"
        },
        {
         "name": "284",
         "rawType": "float64",
         "type": "float"
        },
        {
         "name": "285",
         "rawType": "float64",
         "type": "float"
        },
        {
         "name": "286",
         "rawType": "float64",
         "type": "float"
        },
        {
         "name": "287",
         "rawType": "float64",
         "type": "float"
        },
        {
         "name": "288",
         "rawType": "float64",
         "type": "float"
        },
        {
         "name": "289",
         "rawType": "float64",
         "type": "float"
        },
        {
         "name": "290",
         "rawType": "float64",
         "type": "float"
        },
        {
         "name": "291",
         "rawType": "float64",
         "type": "float"
        },
        {
         "name": "292",
         "rawType": "float64",
         "type": "float"
        },
        {
         "name": "293",
         "rawType": "float64",
         "type": "float"
        },
        {
         "name": "294",
         "rawType": "float64",
         "type": "float"
        },
        {
         "name": "295",
         "rawType": "float64",
         "type": "float"
        },
        {
         "name": "296",
         "rawType": "float64",
         "type": "float"
        },
        {
         "name": "297",
         "rawType": "float64",
         "type": "float"
        },
        {
         "name": "298",
         "rawType": "float64",
         "type": "float"
        },
        {
         "name": "299",
         "rawType": "float64",
         "type": "float"
        },
        {
         "name": "300",
         "rawType": "float64",
         "type": "float"
        },
        {
         "name": "301",
         "rawType": "float64",
         "type": "float"
        },
        {
         "name": "302",
         "rawType": "float64",
         "type": "float"
        },
        {
         "name": "303",
         "rawType": "float64",
         "type": "float"
        },
        {
         "name": "304",
         "rawType": "float64",
         "type": "float"
        },
        {
         "name": "305",
         "rawType": "float64",
         "type": "float"
        },
        {
         "name": "306",
         "rawType": "float64",
         "type": "float"
        },
        {
         "name": "307",
         "rawType": "float64",
         "type": "float"
        },
        {
         "name": "308",
         "rawType": "float64",
         "type": "float"
        },
        {
         "name": "309",
         "rawType": "float64",
         "type": "float"
        },
        {
         "name": "310",
         "rawType": "float64",
         "type": "float"
        },
        {
         "name": "311",
         "rawType": "float64",
         "type": "float"
        },
        {
         "name": "312",
         "rawType": "float64",
         "type": "float"
        },
        {
         "name": "313",
         "rawType": "float64",
         "type": "float"
        },
        {
         "name": "314",
         "rawType": "float64",
         "type": "float"
        },
        {
         "name": "315",
         "rawType": "float64",
         "type": "float"
        },
        {
         "name": "316",
         "rawType": "float64",
         "type": "float"
        },
        {
         "name": "317",
         "rawType": "float64",
         "type": "float"
        },
        {
         "name": "318",
         "rawType": "float64",
         "type": "float"
        },
        {
         "name": "319",
         "rawType": "float64",
         "type": "float"
        },
        {
         "name": "320",
         "rawType": "float64",
         "type": "float"
        },
        {
         "name": "321",
         "rawType": "float64",
         "type": "float"
        },
        {
         "name": "322",
         "rawType": "float64",
         "type": "float"
        },
        {
         "name": "323",
         "rawType": "float64",
         "type": "float"
        },
        {
         "name": "324",
         "rawType": "float64",
         "type": "float"
        },
        {
         "name": "325",
         "rawType": "float64",
         "type": "float"
        },
        {
         "name": "326",
         "rawType": "float64",
         "type": "float"
        },
        {
         "name": "327",
         "rawType": "float64",
         "type": "float"
        },
        {
         "name": "328",
         "rawType": "float64",
         "type": "float"
        },
        {
         "name": "329",
         "rawType": "float64",
         "type": "float"
        },
        {
         "name": "330",
         "rawType": "float64",
         "type": "float"
        },
        {
         "name": "331",
         "rawType": "float64",
         "type": "float"
        },
        {
         "name": "332",
         "rawType": "float64",
         "type": "float"
        },
        {
         "name": "333",
         "rawType": "float64",
         "type": "float"
        },
        {
         "name": "334",
         "rawType": "float64",
         "type": "float"
        },
        {
         "name": "335",
         "rawType": "float64",
         "type": "float"
        },
        {
         "name": "336",
         "rawType": "float64",
         "type": "float"
        },
        {
         "name": "337",
         "rawType": "float64",
         "type": "float"
        },
        {
         "name": "338",
         "rawType": "float64",
         "type": "float"
        },
        {
         "name": "339",
         "rawType": "float64",
         "type": "float"
        },
        {
         "name": "340",
         "rawType": "float64",
         "type": "float"
        },
        {
         "name": "341",
         "rawType": "float64",
         "type": "float"
        },
        {
         "name": "342",
         "rawType": "float64",
         "type": "float"
        },
        {
         "name": "343",
         "rawType": "float64",
         "type": "float"
        },
        {
         "name": "344",
         "rawType": "float64",
         "type": "float"
        },
        {
         "name": "345",
         "rawType": "float64",
         "type": "float"
        },
        {
         "name": "346",
         "rawType": "float64",
         "type": "float"
        },
        {
         "name": "347",
         "rawType": "float64",
         "type": "float"
        },
        {
         "name": "348",
         "rawType": "float64",
         "type": "float"
        },
        {
         "name": "349",
         "rawType": "float64",
         "type": "float"
        },
        {
         "name": "350",
         "rawType": "float64",
         "type": "float"
        },
        {
         "name": "351",
         "rawType": "float64",
         "type": "float"
        },
        {
         "name": "352",
         "rawType": "float64",
         "type": "float"
        },
        {
         "name": "353",
         "rawType": "float64",
         "type": "float"
        },
        {
         "name": "354",
         "rawType": "float64",
         "type": "float"
        },
        {
         "name": "355",
         "rawType": "float64",
         "type": "float"
        },
        {
         "name": "356",
         "rawType": "float64",
         "type": "float"
        },
        {
         "name": "357",
         "rawType": "float64",
         "type": "float"
        },
        {
         "name": "358",
         "rawType": "float64",
         "type": "float"
        },
        {
         "name": "359",
         "rawType": "float64",
         "type": "float"
        },
        {
         "name": "360",
         "rawType": "float64",
         "type": "float"
        },
        {
         "name": "361",
         "rawType": "float64",
         "type": "float"
        },
        {
         "name": "362",
         "rawType": "float64",
         "type": "float"
        },
        {
         "name": "363",
         "rawType": "float64",
         "type": "float"
        },
        {
         "name": "364",
         "rawType": "float64",
         "type": "float"
        },
        {
         "name": "365",
         "rawType": "float64",
         "type": "float"
        },
        {
         "name": "366",
         "rawType": "float64",
         "type": "float"
        },
        {
         "name": "367",
         "rawType": "float64",
         "type": "float"
        },
        {
         "name": "368",
         "rawType": "float64",
         "type": "float"
        },
        {
         "name": "369",
         "rawType": "float64",
         "type": "float"
        },
        {
         "name": "370",
         "rawType": "float64",
         "type": "float"
        },
        {
         "name": "371",
         "rawType": "float64",
         "type": "float"
        },
        {
         "name": "372",
         "rawType": "float64",
         "type": "float"
        },
        {
         "name": "373",
         "rawType": "float64",
         "type": "float"
        },
        {
         "name": "374",
         "rawType": "float64",
         "type": "float"
        },
        {
         "name": "375",
         "rawType": "float64",
         "type": "float"
        },
        {
         "name": "376",
         "rawType": "float64",
         "type": "float"
        },
        {
         "name": "377",
         "rawType": "float64",
         "type": "float"
        },
        {
         "name": "378",
         "rawType": "float64",
         "type": "float"
        },
        {
         "name": "379",
         "rawType": "float64",
         "type": "float"
        },
        {
         "name": "380",
         "rawType": "float64",
         "type": "float"
        },
        {
         "name": "381",
         "rawType": "float64",
         "type": "float"
        },
        {
         "name": "382",
         "rawType": "float64",
         "type": "float"
        },
        {
         "name": "383",
         "rawType": "float64",
         "type": "float"
        },
        {
         "name": "384",
         "rawType": "float64",
         "type": "float"
        },
        {
         "name": "385",
         "rawType": "float64",
         "type": "float"
        },
        {
         "name": "386",
         "rawType": "float64",
         "type": "float"
        },
        {
         "name": "387",
         "rawType": "float64",
         "type": "float"
        },
        {
         "name": "388",
         "rawType": "float64",
         "type": "float"
        },
        {
         "name": "389",
         "rawType": "float64",
         "type": "float"
        },
        {
         "name": "390",
         "rawType": "float64",
         "type": "float"
        },
        {
         "name": "391",
         "rawType": "float64",
         "type": "float"
        },
        {
         "name": "392",
         "rawType": "float64",
         "type": "float"
        },
        {
         "name": "393",
         "rawType": "float64",
         "type": "float"
        },
        {
         "name": "394",
         "rawType": "float64",
         "type": "float"
        },
        {
         "name": "395",
         "rawType": "float64",
         "type": "float"
        },
        {
         "name": "396",
         "rawType": "float64",
         "type": "float"
        },
        {
         "name": "397",
         "rawType": "float64",
         "type": "float"
        },
        {
         "name": "398",
         "rawType": "float64",
         "type": "float"
        },
        {
         "name": "399",
         "rawType": "float64",
         "type": "float"
        },
        {
         "name": "400",
         "rawType": "float64",
         "type": "float"
        },
        {
         "name": "401",
         "rawType": "float64",
         "type": "float"
        },
        {
         "name": "402",
         "rawType": "float64",
         "type": "float"
        },
        {
         "name": "403",
         "rawType": "float64",
         "type": "float"
        },
        {
         "name": "404",
         "rawType": "float64",
         "type": "float"
        },
        {
         "name": "405",
         "rawType": "float64",
         "type": "float"
        },
        {
         "name": "406",
         "rawType": "float64",
         "type": "float"
        },
        {
         "name": "407",
         "rawType": "float64",
         "type": "float"
        },
        {
         "name": "408",
         "rawType": "float64",
         "type": "float"
        },
        {
         "name": "409",
         "rawType": "float64",
         "type": "float"
        },
        {
         "name": "410",
         "rawType": "float64",
         "type": "float"
        },
        {
         "name": "411",
         "rawType": "float64",
         "type": "float"
        },
        {
         "name": "412",
         "rawType": "float64",
         "type": "float"
        },
        {
         "name": "413",
         "rawType": "float64",
         "type": "float"
        },
        {
         "name": "414",
         "rawType": "float64",
         "type": "float"
        },
        {
         "name": "415",
         "rawType": "float64",
         "type": "float"
        },
        {
         "name": "416",
         "rawType": "float64",
         "type": "float"
        },
        {
         "name": "417",
         "rawType": "float64",
         "type": "float"
        },
        {
         "name": "418",
         "rawType": "float64",
         "type": "float"
        },
        {
         "name": "419",
         "rawType": "float64",
         "type": "float"
        },
        {
         "name": "420",
         "rawType": "float64",
         "type": "float"
        },
        {
         "name": "421",
         "rawType": "float64",
         "type": "float"
        },
        {
         "name": "422",
         "rawType": "float64",
         "type": "float"
        },
        {
         "name": "423",
         "rawType": "float64",
         "type": "float"
        },
        {
         "name": "424",
         "rawType": "float64",
         "type": "float"
        },
        {
         "name": "425",
         "rawType": "float64",
         "type": "float"
        },
        {
         "name": "426",
         "rawType": "float64",
         "type": "float"
        },
        {
         "name": "427",
         "rawType": "float64",
         "type": "float"
        },
        {
         "name": "428",
         "rawType": "float64",
         "type": "float"
        },
        {
         "name": "429",
         "rawType": "float64",
         "type": "float"
        },
        {
         "name": "430",
         "rawType": "float64",
         "type": "float"
        },
        {
         "name": "431",
         "rawType": "float64",
         "type": "float"
        },
        {
         "name": "432",
         "rawType": "float64",
         "type": "float"
        },
        {
         "name": "433",
         "rawType": "float64",
         "type": "float"
        },
        {
         "name": "434",
         "rawType": "float64",
         "type": "float"
        },
        {
         "name": "435",
         "rawType": "float64",
         "type": "float"
        },
        {
         "name": "436",
         "rawType": "float64",
         "type": "float"
        },
        {
         "name": "437",
         "rawType": "float64",
         "type": "float"
        },
        {
         "name": "438",
         "rawType": "float64",
         "type": "float"
        },
        {
         "name": "439",
         "rawType": "float64",
         "type": "float"
        },
        {
         "name": "440",
         "rawType": "float64",
         "type": "float"
        },
        {
         "name": "441",
         "rawType": "float64",
         "type": "float"
        },
        {
         "name": "442",
         "rawType": "float64",
         "type": "float"
        },
        {
         "name": "443",
         "rawType": "float64",
         "type": "float"
        },
        {
         "name": "444",
         "rawType": "float64",
         "type": "float"
        },
        {
         "name": "445",
         "rawType": "float64",
         "type": "float"
        },
        {
         "name": "446",
         "rawType": "float64",
         "type": "float"
        },
        {
         "name": "447",
         "rawType": "float64",
         "type": "float"
        },
        {
         "name": "448",
         "rawType": "float64",
         "type": "float"
        },
        {
         "name": "449",
         "rawType": "float64",
         "type": "float"
        },
        {
         "name": "450",
         "rawType": "float64",
         "type": "float"
        },
        {
         "name": "451",
         "rawType": "float64",
         "type": "float"
        },
        {
         "name": "452",
         "rawType": "float64",
         "type": "float"
        },
        {
         "name": "453",
         "rawType": "float64",
         "type": "float"
        },
        {
         "name": "454",
         "rawType": "float64",
         "type": "float"
        },
        {
         "name": "455",
         "rawType": "float64",
         "type": "float"
        },
        {
         "name": "456",
         "rawType": "float64",
         "type": "float"
        },
        {
         "name": "457",
         "rawType": "float64",
         "type": "float"
        },
        {
         "name": "458",
         "rawType": "float64",
         "type": "float"
        },
        {
         "name": "459",
         "rawType": "float64",
         "type": "float"
        },
        {
         "name": "460",
         "rawType": "float64",
         "type": "float"
        },
        {
         "name": "461",
         "rawType": "float64",
         "type": "float"
        },
        {
         "name": "462",
         "rawType": "float64",
         "type": "float"
        },
        {
         "name": "463",
         "rawType": "float64",
         "type": "float"
        },
        {
         "name": "464",
         "rawType": "float64",
         "type": "float"
        },
        {
         "name": "465",
         "rawType": "float64",
         "type": "float"
        },
        {
         "name": "466",
         "rawType": "float64",
         "type": "float"
        },
        {
         "name": "467",
         "rawType": "float64",
         "type": "float"
        },
        {
         "name": "468",
         "rawType": "float64",
         "type": "float"
        },
        {
         "name": "469",
         "rawType": "float64",
         "type": "float"
        },
        {
         "name": "470",
         "rawType": "float64",
         "type": "float"
        },
        {
         "name": "471",
         "rawType": "float64",
         "type": "float"
        },
        {
         "name": "472",
         "rawType": "float64",
         "type": "float"
        },
        {
         "name": "473",
         "rawType": "float64",
         "type": "float"
        },
        {
         "name": "474",
         "rawType": "float64",
         "type": "float"
        },
        {
         "name": "475",
         "rawType": "float64",
         "type": "float"
        },
        {
         "name": "476",
         "rawType": "float64",
         "type": "float"
        },
        {
         "name": "477",
         "rawType": "float64",
         "type": "float"
        },
        {
         "name": "478",
         "rawType": "float64",
         "type": "float"
        },
        {
         "name": "479",
         "rawType": "float64",
         "type": "float"
        },
        {
         "name": "480",
         "rawType": "float64",
         "type": "float"
        },
        {
         "name": "481",
         "rawType": "float64",
         "type": "float"
        },
        {
         "name": "482",
         "rawType": "float64",
         "type": "float"
        },
        {
         "name": "483",
         "rawType": "float64",
         "type": "float"
        },
        {
         "name": "484",
         "rawType": "float64",
         "type": "float"
        },
        {
         "name": "485",
         "rawType": "float64",
         "type": "float"
        },
        {
         "name": "486",
         "rawType": "float64",
         "type": "float"
        },
        {
         "name": "487",
         "rawType": "float64",
         "type": "float"
        },
        {
         "name": "488",
         "rawType": "float64",
         "type": "float"
        },
        {
         "name": "489",
         "rawType": "float64",
         "type": "float"
        },
        {
         "name": "490",
         "rawType": "float64",
         "type": "float"
        },
        {
         "name": "491",
         "rawType": "float64",
         "type": "float"
        },
        {
         "name": "492",
         "rawType": "float64",
         "type": "float"
        },
        {
         "name": "493",
         "rawType": "float64",
         "type": "float"
        },
        {
         "name": "494",
         "rawType": "float64",
         "type": "float"
        },
        {
         "name": "495",
         "rawType": "float64",
         "type": "float"
        },
        {
         "name": "496",
         "rawType": "float64",
         "type": "float"
        },
        {
         "name": "497",
         "rawType": "float64",
         "type": "float"
        },
        {
         "name": "498",
         "rawType": "float64",
         "type": "float"
        },
        {
         "name": "499",
         "rawType": "float64",
         "type": "float"
        },
        {
         "name": "500",
         "rawType": "float64",
         "type": "float"
        },
        {
         "name": "501",
         "rawType": "float64",
         "type": "float"
        },
        {
         "name": "502",
         "rawType": "float64",
         "type": "float"
        },
        {
         "name": "503",
         "rawType": "float64",
         "type": "float"
        },
        {
         "name": "504",
         "rawType": "float64",
         "type": "float"
        },
        {
         "name": "505",
         "rawType": "float64",
         "type": "float"
        },
        {
         "name": "506",
         "rawType": "float64",
         "type": "float"
        },
        {
         "name": "507",
         "rawType": "float64",
         "type": "float"
        },
        {
         "name": "508",
         "rawType": "float64",
         "type": "float"
        },
        {
         "name": "509",
         "rawType": "float64",
         "type": "float"
        },
        {
         "name": "510",
         "rawType": "float64",
         "type": "float"
        },
        {
         "name": "511",
         "rawType": "float64",
         "type": "float"
        },
        {
         "name": "512",
         "rawType": "float64",
         "type": "float"
        },
        {
         "name": "513",
         "rawType": "float64",
         "type": "float"
        },
        {
         "name": "514",
         "rawType": "float64",
         "type": "float"
        },
        {
         "name": "515",
         "rawType": "float64",
         "type": "float"
        },
        {
         "name": "516",
         "rawType": "float64",
         "type": "float"
        },
        {
         "name": "517",
         "rawType": "float64",
         "type": "float"
        },
        {
         "name": "518",
         "rawType": "float64",
         "type": "float"
        },
        {
         "name": "519",
         "rawType": "float64",
         "type": "float"
        },
        {
         "name": "520",
         "rawType": "float64",
         "type": "float"
        },
        {
         "name": "521",
         "rawType": "float64",
         "type": "float"
        },
        {
         "name": "522",
         "rawType": "float64",
         "type": "float"
        },
        {
         "name": "523",
         "rawType": "float64",
         "type": "float"
        },
        {
         "name": "524",
         "rawType": "float64",
         "type": "float"
        },
        {
         "name": "525",
         "rawType": "float64",
         "type": "float"
        },
        {
         "name": "526",
         "rawType": "float64",
         "type": "float"
        },
        {
         "name": "527",
         "rawType": "float64",
         "type": "float"
        },
        {
         "name": "528",
         "rawType": "float64",
         "type": "float"
        },
        {
         "name": "529",
         "rawType": "float64",
         "type": "float"
        },
        {
         "name": "530",
         "rawType": "float64",
         "type": "float"
        },
        {
         "name": "531",
         "rawType": "float64",
         "type": "float"
        },
        {
         "name": "532",
         "rawType": "float64",
         "type": "float"
        },
        {
         "name": "533",
         "rawType": "float64",
         "type": "float"
        },
        {
         "name": "534",
         "rawType": "float64",
         "type": "float"
        },
        {
         "name": "535",
         "rawType": "float64",
         "type": "float"
        },
        {
         "name": "536",
         "rawType": "float64",
         "type": "float"
        },
        {
         "name": "537",
         "rawType": "float64",
         "type": "float"
        },
        {
         "name": "538",
         "rawType": "float64",
         "type": "float"
        },
        {
         "name": "539",
         "rawType": "float64",
         "type": "float"
        },
        {
         "name": "540",
         "rawType": "float64",
         "type": "float"
        },
        {
         "name": "541",
         "rawType": "float64",
         "type": "float"
        },
        {
         "name": "542",
         "rawType": "float64",
         "type": "float"
        },
        {
         "name": "543",
         "rawType": "float64",
         "type": "float"
        },
        {
         "name": "544",
         "rawType": "float64",
         "type": "float"
        },
        {
         "name": "545",
         "rawType": "float64",
         "type": "float"
        },
        {
         "name": "546",
         "rawType": "float64",
         "type": "float"
        },
        {
         "name": "547",
         "rawType": "float64",
         "type": "float"
        },
        {
         "name": "548",
         "rawType": "float64",
         "type": "float"
        },
        {
         "name": "549",
         "rawType": "float64",
         "type": "float"
        },
        {
         "name": "550",
         "rawType": "float64",
         "type": "float"
        },
        {
         "name": "551",
         "rawType": "float64",
         "type": "float"
        },
        {
         "name": "552",
         "rawType": "float64",
         "type": "float"
        },
        {
         "name": "553",
         "rawType": "float64",
         "type": "float"
        },
        {
         "name": "554",
         "rawType": "float64",
         "type": "float"
        },
        {
         "name": "555",
         "rawType": "float64",
         "type": "float"
        },
        {
         "name": "556",
         "rawType": "float64",
         "type": "float"
        },
        {
         "name": "557",
         "rawType": "float64",
         "type": "float"
        },
        {
         "name": "558",
         "rawType": "float64",
         "type": "float"
        },
        {
         "name": "559",
         "rawType": "float64",
         "type": "float"
        },
        {
         "name": "560",
         "rawType": "float64",
         "type": "float"
        },
        {
         "name": "561",
         "rawType": "float64",
         "type": "float"
        },
        {
         "name": "562",
         "rawType": "float64",
         "type": "float"
        },
        {
         "name": "563",
         "rawType": "float64",
         "type": "float"
        },
        {
         "name": "564",
         "rawType": "float64",
         "type": "float"
        },
        {
         "name": "565",
         "rawType": "float64",
         "type": "float"
        },
        {
         "name": "566",
         "rawType": "float64",
         "type": "float"
        },
        {
         "name": "567",
         "rawType": "float64",
         "type": "float"
        },
        {
         "name": "568",
         "rawType": "float64",
         "type": "float"
        },
        {
         "name": "569",
         "rawType": "float64",
         "type": "float"
        },
        {
         "name": "570",
         "rawType": "float64",
         "type": "float"
        },
        {
         "name": "571",
         "rawType": "float64",
         "type": "float"
        },
        {
         "name": "572",
         "rawType": "float64",
         "type": "float"
        },
        {
         "name": "573",
         "rawType": "float64",
         "type": "float"
        },
        {
         "name": "574",
         "rawType": "float64",
         "type": "float"
        },
        {
         "name": "575",
         "rawType": "float64",
         "type": "float"
        },
        {
         "name": "576",
         "rawType": "float64",
         "type": "float"
        },
        {
         "name": "577",
         "rawType": "float64",
         "type": "float"
        },
        {
         "name": "578",
         "rawType": "float64",
         "type": "float"
        },
        {
         "name": "579",
         "rawType": "float64",
         "type": "float"
        },
        {
         "name": "580",
         "rawType": "float64",
         "type": "float"
        },
        {
         "name": "581",
         "rawType": "float64",
         "type": "float"
        },
        {
         "name": "582",
         "rawType": "float64",
         "type": "float"
        },
        {
         "name": "583",
         "rawType": "float64",
         "type": "float"
        },
        {
         "name": "584",
         "rawType": "float64",
         "type": "float"
        },
        {
         "name": "585",
         "rawType": "float64",
         "type": "float"
        },
        {
         "name": "586",
         "rawType": "float64",
         "type": "float"
        },
        {
         "name": "587",
         "rawType": "float64",
         "type": "float"
        },
        {
         "name": "588",
         "rawType": "float64",
         "type": "float"
        },
        {
         "name": "589",
         "rawType": "float64",
         "type": "float"
        },
        {
         "name": "590",
         "rawType": "float64",
         "type": "float"
        },
        {
         "name": "591",
         "rawType": "float64",
         "type": "float"
        },
        {
         "name": "592",
         "rawType": "float64",
         "type": "float"
        },
        {
         "name": "593",
         "rawType": "float64",
         "type": "float"
        },
        {
         "name": "594",
         "rawType": "float64",
         "type": "float"
        },
        {
         "name": "595",
         "rawType": "float64",
         "type": "float"
        },
        {
         "name": "596",
         "rawType": "float64",
         "type": "float"
        },
        {
         "name": "597",
         "rawType": "float64",
         "type": "float"
        },
        {
         "name": "598",
         "rawType": "float64",
         "type": "float"
        },
        {
         "name": "599",
         "rawType": "float64",
         "type": "float"
        },
        {
         "name": "600",
         "rawType": "float64",
         "type": "float"
        },
        {
         "name": "601",
         "rawType": "float64",
         "type": "float"
        },
        {
         "name": "602",
         "rawType": "float64",
         "type": "float"
        },
        {
         "name": "603",
         "rawType": "float64",
         "type": "float"
        },
        {
         "name": "604",
         "rawType": "float64",
         "type": "float"
        },
        {
         "name": "605",
         "rawType": "float64",
         "type": "float"
        },
        {
         "name": "606",
         "rawType": "float64",
         "type": "float"
        },
        {
         "name": "607",
         "rawType": "float64",
         "type": "float"
        },
        {
         "name": "608",
         "rawType": "float64",
         "type": "float"
        },
        {
         "name": "609",
         "rawType": "float64",
         "type": "float"
        },
        {
         "name": "610",
         "rawType": "float64",
         "type": "float"
        },
        {
         "name": "611",
         "rawType": "float64",
         "type": "float"
        },
        {
         "name": "612",
         "rawType": "float64",
         "type": "float"
        },
        {
         "name": "613",
         "rawType": "float64",
         "type": "float"
        },
        {
         "name": "614",
         "rawType": "float64",
         "type": "float"
        },
        {
         "name": "615",
         "rawType": "float64",
         "type": "float"
        },
        {
         "name": "616",
         "rawType": "float64",
         "type": "float"
        },
        {
         "name": "617",
         "rawType": "float64",
         "type": "float"
        },
        {
         "name": "618",
         "rawType": "float64",
         "type": "float"
        },
        {
         "name": "619",
         "rawType": "float64",
         "type": "float"
        },
        {
         "name": "620",
         "rawType": "float64",
         "type": "float"
        },
        {
         "name": "621",
         "rawType": "float64",
         "type": "float"
        },
        {
         "name": "622",
         "rawType": "float64",
         "type": "float"
        },
        {
         "name": "623",
         "rawType": "float64",
         "type": "float"
        },
        {
         "name": "624",
         "rawType": "float64",
         "type": "float"
        },
        {
         "name": "625",
         "rawType": "float64",
         "type": "float"
        },
        {
         "name": "626",
         "rawType": "float64",
         "type": "float"
        },
        {
         "name": "627",
         "rawType": "float64",
         "type": "float"
        },
        {
         "name": "628",
         "rawType": "float64",
         "type": "float"
        },
        {
         "name": "629",
         "rawType": "float64",
         "type": "float"
        },
        {
         "name": "630",
         "rawType": "float64",
         "type": "float"
        },
        {
         "name": "631",
         "rawType": "float64",
         "type": "float"
        },
        {
         "name": "632",
         "rawType": "float64",
         "type": "float"
        },
        {
         "name": "633",
         "rawType": "float64",
         "type": "float"
        },
        {
         "name": "634",
         "rawType": "float64",
         "type": "float"
        },
        {
         "name": "635",
         "rawType": "float64",
         "type": "float"
        },
        {
         "name": "636",
         "rawType": "float64",
         "type": "float"
        },
        {
         "name": "637",
         "rawType": "float64",
         "type": "float"
        },
        {
         "name": "638",
         "rawType": "float64",
         "type": "float"
        },
        {
         "name": "639",
         "rawType": "float64",
         "type": "float"
        },
        {
         "name": "640",
         "rawType": "float64",
         "type": "float"
        },
        {
         "name": "641",
         "rawType": "float64",
         "type": "float"
        },
        {
         "name": "642",
         "rawType": "float64",
         "type": "float"
        },
        {
         "name": "643",
         "rawType": "float64",
         "type": "float"
        },
        {
         "name": "644",
         "rawType": "float64",
         "type": "float"
        },
        {
         "name": "645",
         "rawType": "float64",
         "type": "float"
        },
        {
         "name": "646",
         "rawType": "float64",
         "type": "float"
        },
        {
         "name": "647",
         "rawType": "float64",
         "type": "float"
        },
        {
         "name": "648",
         "rawType": "float64",
         "type": "float"
        },
        {
         "name": "649",
         "rawType": "float64",
         "type": "float"
        },
        {
         "name": "650",
         "rawType": "float64",
         "type": "float"
        },
        {
         "name": "651",
         "rawType": "float64",
         "type": "float"
        },
        {
         "name": "652",
         "rawType": "float64",
         "type": "float"
        },
        {
         "name": "653",
         "rawType": "float64",
         "type": "float"
        },
        {
         "name": "654",
         "rawType": "float64",
         "type": "float"
        },
        {
         "name": "655",
         "rawType": "float64",
         "type": "float"
        },
        {
         "name": "656",
         "rawType": "float64",
         "type": "float"
        },
        {
         "name": "657",
         "rawType": "float64",
         "type": "float"
        },
        {
         "name": "658",
         "rawType": "float64",
         "type": "float"
        },
        {
         "name": "659",
         "rawType": "float64",
         "type": "float"
        },
        {
         "name": "660",
         "rawType": "float64",
         "type": "float"
        },
        {
         "name": "661",
         "rawType": "float64",
         "type": "float"
        },
        {
         "name": "662",
         "rawType": "float64",
         "type": "float"
        },
        {
         "name": "663",
         "rawType": "float64",
         "type": "float"
        },
        {
         "name": "664",
         "rawType": "float64",
         "type": "float"
        },
        {
         "name": "665",
         "rawType": "float64",
         "type": "float"
        },
        {
         "name": "666",
         "rawType": "float64",
         "type": "float"
        },
        {
         "name": "667",
         "rawType": "float64",
         "type": "float"
        },
        {
         "name": "668",
         "rawType": "float64",
         "type": "float"
        },
        {
         "name": "669",
         "rawType": "float64",
         "type": "float"
        },
        {
         "name": "670",
         "rawType": "float64",
         "type": "float"
        },
        {
         "name": "671",
         "rawType": "float64",
         "type": "float"
        },
        {
         "name": "672",
         "rawType": "float64",
         "type": "float"
        },
        {
         "name": "673",
         "rawType": "float64",
         "type": "float"
        },
        {
         "name": "674",
         "rawType": "float64",
         "type": "float"
        },
        {
         "name": "675",
         "rawType": "float64",
         "type": "float"
        },
        {
         "name": "676",
         "rawType": "float64",
         "type": "float"
        },
        {
         "name": "677",
         "rawType": "float64",
         "type": "float"
        },
        {
         "name": "678",
         "rawType": "float64",
         "type": "float"
        },
        {
         "name": "679",
         "rawType": "float64",
         "type": "float"
        },
        {
         "name": "680",
         "rawType": "float64",
         "type": "float"
        },
        {
         "name": "681",
         "rawType": "float64",
         "type": "float"
        },
        {
         "name": "682",
         "rawType": "float64",
         "type": "float"
        },
        {
         "name": "683",
         "rawType": "float64",
         "type": "float"
        },
        {
         "name": "684",
         "rawType": "float64",
         "type": "float"
        },
        {
         "name": "685",
         "rawType": "float64",
         "type": "float"
        },
        {
         "name": "686",
         "rawType": "float64",
         "type": "float"
        },
        {
         "name": "687",
         "rawType": "float64",
         "type": "float"
        },
        {
         "name": "688",
         "rawType": "float64",
         "type": "float"
        },
        {
         "name": "689",
         "rawType": "float64",
         "type": "float"
        },
        {
         "name": "690",
         "rawType": "float64",
         "type": "float"
        },
        {
         "name": "691",
         "rawType": "float64",
         "type": "float"
        },
        {
         "name": "692",
         "rawType": "float64",
         "type": "float"
        },
        {
         "name": "693",
         "rawType": "float64",
         "type": "float"
        },
        {
         "name": "694",
         "rawType": "float64",
         "type": "float"
        },
        {
         "name": "695",
         "rawType": "float64",
         "type": "float"
        },
        {
         "name": "696",
         "rawType": "float64",
         "type": "float"
        },
        {
         "name": "697",
         "rawType": "float64",
         "type": "float"
        },
        {
         "name": "698",
         "rawType": "float64",
         "type": "float"
        },
        {
         "name": "699",
         "rawType": "float64",
         "type": "float"
        },
        {
         "name": "700",
         "rawType": "float64",
         "type": "float"
        },
        {
         "name": "701",
         "rawType": "float64",
         "type": "float"
        },
        {
         "name": "702",
         "rawType": "float64",
         "type": "float"
        },
        {
         "name": "703",
         "rawType": "float64",
         "type": "float"
        },
        {
         "name": "704",
         "rawType": "float64",
         "type": "float"
        },
        {
         "name": "705",
         "rawType": "float64",
         "type": "float"
        },
        {
         "name": "706",
         "rawType": "float64",
         "type": "float"
        },
        {
         "name": "707",
         "rawType": "float64",
         "type": "float"
        },
        {
         "name": "708",
         "rawType": "float64",
         "type": "float"
        },
        {
         "name": "709",
         "rawType": "float64",
         "type": "float"
        },
        {
         "name": "710",
         "rawType": "float64",
         "type": "float"
        },
        {
         "name": "711",
         "rawType": "float64",
         "type": "float"
        },
        {
         "name": "712",
         "rawType": "float64",
         "type": "float"
        },
        {
         "name": "713",
         "rawType": "float64",
         "type": "float"
        },
        {
         "name": "714",
         "rawType": "float64",
         "type": "float"
        },
        {
         "name": "715",
         "rawType": "float64",
         "type": "float"
        },
        {
         "name": "716",
         "rawType": "float64",
         "type": "float"
        },
        {
         "name": "717",
         "rawType": "float64",
         "type": "float"
        },
        {
         "name": "718",
         "rawType": "float64",
         "type": "float"
        },
        {
         "name": "719",
         "rawType": "float64",
         "type": "float"
        },
        {
         "name": "720",
         "rawType": "float64",
         "type": "float"
        },
        {
         "name": "721",
         "rawType": "float64",
         "type": "float"
        },
        {
         "name": "722",
         "rawType": "float64",
         "type": "float"
        },
        {
         "name": "723",
         "rawType": "float64",
         "type": "float"
        },
        {
         "name": "724",
         "rawType": "float64",
         "type": "float"
        },
        {
         "name": "725",
         "rawType": "float64",
         "type": "float"
        },
        {
         "name": "726",
         "rawType": "float64",
         "type": "float"
        },
        {
         "name": "727",
         "rawType": "float64",
         "type": "float"
        },
        {
         "name": "728",
         "rawType": "float64",
         "type": "float"
        },
        {
         "name": "729",
         "rawType": "float64",
         "type": "float"
        },
        {
         "name": "730",
         "rawType": "float64",
         "type": "float"
        },
        {
         "name": "731",
         "rawType": "float64",
         "type": "float"
        },
        {
         "name": "732",
         "rawType": "float64",
         "type": "float"
        },
        {
         "name": "733",
         "rawType": "float64",
         "type": "float"
        },
        {
         "name": "734",
         "rawType": "float64",
         "type": "float"
        },
        {
         "name": "735",
         "rawType": "float64",
         "type": "float"
        },
        {
         "name": "736",
         "rawType": "float64",
         "type": "float"
        },
        {
         "name": "737",
         "rawType": "float64",
         "type": "float"
        },
        {
         "name": "738",
         "rawType": "float64",
         "type": "float"
        },
        {
         "name": "739",
         "rawType": "float64",
         "type": "float"
        },
        {
         "name": "740",
         "rawType": "float64",
         "type": "float"
        },
        {
         "name": "741",
         "rawType": "float64",
         "type": "float"
        },
        {
         "name": "742",
         "rawType": "float64",
         "type": "float"
        },
        {
         "name": "743",
         "rawType": "float64",
         "type": "float"
        },
        {
         "name": "744",
         "rawType": "float64",
         "type": "float"
        },
        {
         "name": "745",
         "rawType": "float64",
         "type": "float"
        },
        {
         "name": "746",
         "rawType": "float64",
         "type": "float"
        },
        {
         "name": "747",
         "rawType": "float64",
         "type": "float"
        },
        {
         "name": "748",
         "rawType": "float64",
         "type": "float"
        },
        {
         "name": "749",
         "rawType": "float64",
         "type": "float"
        },
        {
         "name": "750",
         "rawType": "float64",
         "type": "float"
        },
        {
         "name": "751",
         "rawType": "float64",
         "type": "float"
        },
        {
         "name": "752",
         "rawType": "float64",
         "type": "float"
        },
        {
         "name": "753",
         "rawType": "float64",
         "type": "float"
        },
        {
         "name": "754",
         "rawType": "float64",
         "type": "float"
        },
        {
         "name": "755",
         "rawType": "float64",
         "type": "float"
        },
        {
         "name": "756",
         "rawType": "float64",
         "type": "float"
        },
        {
         "name": "757",
         "rawType": "float64",
         "type": "float"
        },
        {
         "name": "758",
         "rawType": "float64",
         "type": "float"
        },
        {
         "name": "759",
         "rawType": "float64",
         "type": "float"
        },
        {
         "name": "760",
         "rawType": "float64",
         "type": "float"
        },
        {
         "name": "761",
         "rawType": "float64",
         "type": "float"
        },
        {
         "name": "762",
         "rawType": "float64",
         "type": "float"
        },
        {
         "name": "763",
         "rawType": "float64",
         "type": "float"
        },
        {
         "name": "764",
         "rawType": "float64",
         "type": "float"
        },
        {
         "name": "765",
         "rawType": "float64",
         "type": "float"
        },
        {
         "name": "766",
         "rawType": "float64",
         "type": "float"
        },
        {
         "name": "767",
         "rawType": "float64",
         "type": "float"
        },
        {
         "name": "768",
         "rawType": "float64",
         "type": "float"
        },
        {
         "name": "769",
         "rawType": "float64",
         "type": "float"
        },
        {
         "name": "770",
         "rawType": "float64",
         "type": "float"
        },
        {
         "name": "771",
         "rawType": "float64",
         "type": "float"
        },
        {
         "name": "772",
         "rawType": "float64",
         "type": "float"
        },
        {
         "name": "773",
         "rawType": "float64",
         "type": "float"
        },
        {
         "name": "774",
         "rawType": "float64",
         "type": "float"
        },
        {
         "name": "775",
         "rawType": "float64",
         "type": "float"
        },
        {
         "name": "776",
         "rawType": "float64",
         "type": "float"
        },
        {
         "name": "777",
         "rawType": "float64",
         "type": "float"
        },
        {
         "name": "778",
         "rawType": "float64",
         "type": "float"
        },
        {
         "name": "779",
         "rawType": "float64",
         "type": "float"
        },
        {
         "name": "780",
         "rawType": "float64",
         "type": "float"
        },
        {
         "name": "781",
         "rawType": "float64",
         "type": "float"
        },
        {
         "name": "782",
         "rawType": "float64",
         "type": "float"
        },
        {
         "name": "783",
         "rawType": "float64",
         "type": "float"
        },
        {
         "name": "784",
         "rawType": "float64",
         "type": "float"
        },
        {
         "name": "785",
         "rawType": "float64",
         "type": "float"
        },
        {
         "name": "786",
         "rawType": "float64",
         "type": "float"
        },
        {
         "name": "787",
         "rawType": "float64",
         "type": "float"
        },
        {
         "name": "788",
         "rawType": "float64",
         "type": "float"
        },
        {
         "name": "789",
         "rawType": "float64",
         "type": "float"
        },
        {
         "name": "790",
         "rawType": "float64",
         "type": "float"
        },
        {
         "name": "791",
         "rawType": "float64",
         "type": "float"
        },
        {
         "name": "792",
         "rawType": "float64",
         "type": "float"
        },
        {
         "name": "793",
         "rawType": "float64",
         "type": "float"
        },
        {
         "name": "794",
         "rawType": "float64",
         "type": "float"
        },
        {
         "name": "795",
         "rawType": "float64",
         "type": "float"
        },
        {
         "name": "796",
         "rawType": "float64",
         "type": "float"
        },
        {
         "name": "797",
         "rawType": "float64",
         "type": "float"
        },
        {
         "name": "798",
         "rawType": "float64",
         "type": "float"
        },
        {
         "name": "799",
         "rawType": "float64",
         "type": "float"
        },
        {
         "name": "800",
         "rawType": "float64",
         "type": "float"
        },
        {
         "name": "801",
         "rawType": "float64",
         "type": "float"
        },
        {
         "name": "802",
         "rawType": "float64",
         "type": "float"
        },
        {
         "name": "803",
         "rawType": "float64",
         "type": "float"
        },
        {
         "name": "804",
         "rawType": "float64",
         "type": "float"
        },
        {
         "name": "805",
         "rawType": "float64",
         "type": "float"
        },
        {
         "name": "806",
         "rawType": "float64",
         "type": "float"
        },
        {
         "name": "807",
         "rawType": "float64",
         "type": "float"
        },
        {
         "name": "808",
         "rawType": "float64",
         "type": "float"
        },
        {
         "name": "809",
         "rawType": "float64",
         "type": "float"
        },
        {
         "name": "810",
         "rawType": "float64",
         "type": "float"
        },
        {
         "name": "811",
         "rawType": "float64",
         "type": "float"
        },
        {
         "name": "812",
         "rawType": "float64",
         "type": "float"
        },
        {
         "name": "813",
         "rawType": "float64",
         "type": "float"
        },
        {
         "name": "814",
         "rawType": "float64",
         "type": "float"
        },
        {
         "name": "815",
         "rawType": "float64",
         "type": "float"
        },
        {
         "name": "816",
         "rawType": "float64",
         "type": "float"
        },
        {
         "name": "817",
         "rawType": "float64",
         "type": "float"
        },
        {
         "name": "818",
         "rawType": "float64",
         "type": "float"
        },
        {
         "name": "819",
         "rawType": "float64",
         "type": "float"
        },
        {
         "name": "820",
         "rawType": "float64",
         "type": "float"
        },
        {
         "name": "821",
         "rawType": "float64",
         "type": "float"
        },
        {
         "name": "822",
         "rawType": "float64",
         "type": "float"
        },
        {
         "name": "823",
         "rawType": "float64",
         "type": "float"
        },
        {
         "name": "824",
         "rawType": "float64",
         "type": "float"
        },
        {
         "name": "825",
         "rawType": "float64",
         "type": "float"
        },
        {
         "name": "826",
         "rawType": "float64",
         "type": "float"
        },
        {
         "name": "827",
         "rawType": "float64",
         "type": "float"
        },
        {
         "name": "828",
         "rawType": "float64",
         "type": "float"
        }
       ],
       "conversionMethod": "pd.DataFrame",
       "ref": "89cf0fb0-51d1-4427-a402-1d063295d2c4",
       "rows": [
        [
         "MMM",
         "0.0140095257505521",
         "-0.0041060824277339",
         "-0.0083014163453153",
         "0.0109551454868679",
         "-0.0141148923234157",
         "0.0088496809858484",
         "0.0024584010232535",
         "0.0089173660375514",
         "-0.0125950807157698",
         "-0.0025740083132465",
         "0.0011220784134797",
         "-0.0275101149461219",
         "-0.0053003911485642",
         "0.0008688493659518",
         "0.0054975918447734",
         "-0.0256114532092183",
         "0.0050796083873319",
         "-0.0414901315479271",
         "0.0179031228078772",
         "0.0084929474966266",
         "-0.0045991420096437",
         "-0.0136205969972675",
         "-0.0222640497570021",
         "0.0027376047449465",
         "0.0076936912408582",
         "0.0075735385093842",
         "-0.0238327352931431",
         "-0.0012521790193177",
         "-0.00959007497842",
         "-0.0042402499440299",
         "-0.01086813281964",
         "-0.0356817968776271",
         "-0.0068621404748885",
         "-0.0058938266809649",
         "-0.0161496688779222",
         "-0.0047099325863649",
         "0.0473904474856903",
         "-0.0123580198347791",
         "-0.0262360806326148",
         "0.0170637898424139",
         "0.0073360075320849",
         "-0.010586511494304",
         "-0.023512795524897",
         "0.0147965068882003",
         "0.0082529639208677",
         "-0.0182129146147579",
         "-0.0206349659987076",
         "0.01787733003987",
         "0.0057849479429252",
         "0.0083153726208129",
         "0.01498171054729",
         "0.0042656547066102",
         "0.001753080391678",
         "0.0091530993859156",
         "-0.0150725090290334",
         "0.0088028250743779",
         "0.009934177013257",
         "-0.0065797549252372",
         "0.017461664444804",
         "-0.0042741385486971",
         "-0.0168393803708368",
         "0.0054406755312421",
         "-0.0010689235730053",
         "-0.0042133035274225",
         "0.0094025666245056",
         "-0.0023289009713268",
         "-0.0009337211103405",
         "0.0020692941747399",
         "-0.0102583331355542",
         "0.000538384711636",
         "-0.0086103586328822",
         "-0.0081420904485793",
         "0.026816320335443",
         "0.0032643771068003",
         "0.0078358182959827",
         "-0.0171309971938949",
         "-0.0038213320953248",
         "-0.0294750626702891",
         "-6.943165508721538e-05",
         "0.0203177323833212",
         "-0.019845088705699",
         "0.0117182483603432",
         "0.0148720834663702",
         "0.0415316306158612",
         "-0.0309278274139257",
         "0.0004684259047864",
         "0.019059620273345",
         "-0.02139378890879",
         "-0.0181731755425161",
         "0.0217197711073549",
         "-0.0019387364826598",
         "0.0080376606147603",
         "0.0122259086867393",
         "-0.0223842733714458",
         "-0.0032554978548698",
         "-0.0212983548430345",
         "0.0038240328578691",
         "0.0094887987402874",
         "0.0002745312278742",
         "0.0085738719411854",
         "0.0167980364641668",
         "-0.0014712957699301",
         "-0.0192241856617954",
         "0.0120200244311039",
         "-0.0149144112936744",
         "0.0016442822831119",
         "0.0045139314064448",
         "-0.0098727349542737",
         "-0.0085268123020759",
         "-0.0452905689558184",
         "-0.0092990374193002",
         "-0.0082131158592654",
         "-0.0068020605844303",
         "-0.0252363805449841",
         "-0.0084008785624648",
         "0.0013093508496366",
         "0.0029998490821059",
         "-0.0019171863202908",
         "0.0321167777092916",
         "-0.0113898864471582",
         "-0.018599504752459",
         "-0.0042966751837438",
         "-0.0027741638243268",
         "-0.0071091813681979",
         "0.0056036794750082",
         "0.0048755881788573",
         "0.0016174427202564",
         "-0.0102268401614799",
         "0.0022530612297071",
         "0.0092239430662759",
         "-0.0140551635590934",
         "-0.0004674297962101",
         "0.0141842925762201",
         "-0.0093752284301666",
         "0.0249787247077699",
         "0.0066599251774077",
         "0.0070673743937177",
         "0.0012690989566304",
         "0.0",
         "0.049433198479901",
         "-0.0134278938945926",
         "0.0108742766459879",
         "0.0204459592584103",
         "0.0008378101494921",
         "-0.011230671896385",
         "0.0122752194076221",
         "0.0322670043602026",
         "-0.0047934154774076",
         "0.0072586931520033",
         "-0.0043102836296141",
         "0.0104167289790484",
         "0.0018744691505292",
         "0.0172389068590148",
         "-0.0053205943843168",
         "-0.0077262083774826",
         "-0.0188339303385889",
         "-0.0050873211276687",
         "6.884615457414256e-05",
         "-0.0248621962416373",
         "0.0011299050799216",
         "-0.0050087840964947",
         "0.0121951641976492",
         "-0.0954049066806608",
         "-0.0209074550067747",
         "-0.0124960764097613",
         "-0.0040845601701618",
         "0.0102936773012263",
         "-0.0316805466823474",
         "-0.0415125627547834",
         "0.0338765884929681",
         "-0.0106179878503921",
         "0.0321120104201773",
         "0.0093419358380992",
         "-0.0304224573954764",
         "-0.0244044924794829",
         "-0.0094443894967108",
         "0.0016319442440762",
         "0.0002574209735506",
         "-0.0010287207524077",
         "-0.0146759389973218",
         "-0.005835391046472",
         "-0.0100754560058159",
         "8.855608537050585e-05",
         "-0.0052211936033036",
         "0.0166353793072036",
         "-0.0173257584077585",
         "-0.0160286077782382",
         "0.024615482685206",
         "0.0211976977958816",
         "-0.0038919994795172",
         "-0.0351655639791778",
         "-0.032397272483607",
         "0.008742271320552",
         "0.0035038986327333",
         "0.0010104175697436",
         "0.0487380987727932",
         "-0.0055138151836285",
         "0.0020240641021413",
         "0.01835589635733",
         "-0.015092479183756",
         "-0.0095449009482329",
         "0.032711554559724",
         "0.0134407009241876",
         "0.0010137721679901",
         "0.0354429133672267",
         "0.0008151491986012",
         "0.0309444721806364",
         "-0.0063980532229585",
         "-0.0038954338320034",
         "-0.0194731569824454",
         "-8.160759505726478e-05",
         "0.0161987311261855",
         "-0.0012817510611137",
         "0.0053739352384634",
         "-0.0121261990668618",
         "0.0429621363216052",
         "0.0296555172443144",
         "-0.0146639377754004",
         "0.0014502136555933",
         "-0.0188994802212414",
         "-0.000786076996645",
         "-0.0030670992146181",
         "0.0068634492515347",
         "0.0076000058334848",
         "-0.0046656204911454",
         "0.0081248788039829",
         "-0.0340979414098058",
         "0.0119544395509889",
         "-0.001268556619001",
         "0.000158780971075",
         "0.0079371493278435",
         "-0.0185840783687107",
         "-0.0004012203557088",
         "0.0142076900799354",
         "-0.0027699915616625",
         "-0.0019047581023485",
         "0.0086672921306345",
         "0.0034686304366688",
         "-0.0094273526094348",
         "-0.0294233653005481",
         "-0.0056381445719581",
         "0.0036157101664191",
         "-0.0108082164786953",
         "0.021935402201785",
         "-0.0151467045665687",
         "-0.0119252240122015",
         "0.0006658605324088",
         "-0.0160540435136652",
         "0.0192748834700369",
         "-0.0053911662179173",
         "0.0212641554644523",
         "0.0218828950880429",
         "-0.0174989876509087",
         "0.0305790181555478",
         "0.0005522060612297",
         "0.0105688900181726",
         "0.0077266894064811",
         "0.0017812005614377",
         "0.0012368218694933",
         "-0.0224691291079974",
         "-0.0304108452261545",
         "-0.0351936595922527",
         "0.0187454294359277",
         "0.016328141600123",
         "-0.0621431312543441",
         "-0.0179998117245887",
         "0.0054900406037778",
         "0.014971096355494",
         "-0.0231670087324998",
         "0.0222065548038015",
         "0.0067779243164132",
         "0.0382358067241477",
         "-0.0232771463201226",
         "-0.0084262545162516",
         "0.0034335850702698",
         "-0.0141148364274132",
         "-0.0201297958691949",
         "0.0084120871410975",
         "0.0122936774350865",
         "-0.0092818104269423",
         "0.0050785161912776",
         "-0.0113867825708618",
         "0.0088393061294076",
         "-0.0331003306095977",
         "-0.0028374893613463",
         "-0.0002754506311255",
         "-0.0101918373944928",
         "0.0043599544817547",
         "-0.0048951547277014",
         "0.0229256172937359",
         "-0.0028128627293255",
         "0.0123748248634574",
         "-0.0119538535202242",
         "-0.0258347736819737",
         "0.0006536048919947",
         "-0.0153040460525218",
         "-0.0138363835296644",
         "-0.0053815687496672",
         "-0.0069563642318848",
         "0.0",
         "0.0139133838861771",
         "-0.0114194054999029",
         "0.0125219242591005",
         "-0.0001918163984838",
         "-0.0263688178281988",
         "-0.0053179801239502",
         "0.0013859320961109",
         "0.0034606730232933",
         "0.0024632026330517",
         "0.0142520761240272",
         "-0.0039732322123763",
         "0.0226696550482849",
         "-0.005137358518586",
         "-0.0221860750430632",
         "0.0003911675379888",
         "-0.0071365986351765",
         "0.0118157324546639",
         "0.0175166269049784",
         "-0.0018172815344784",
         "0.017054617130938",
         "-0.0035797483231505",
         "0.0095490284381078",
         "-0.0047761750873011",
         "-0.0017879462986334",
         "-0.0127262828874946",
         "-0.0023870944252901",
         "0.0055512497439877",
         "-0.0065675428021623",
         "-0.0138928451077064",
         "0.0234162533145674",
         "0.0084496356277288",
         "-0.0034833453427199",
         "-0.0271138842802473",
         "-0.0014565764532932",
         "-0.0096274663019366",
         "0.0148269983642885",
         "-0.0097724332506577",
         "-0.0150478700602981",
         "0.0009920846011448",
         "-0.0011894003428456",
         "-0.0050606261275982",
         "0.0021940042434249",
         "-0.0246790308029639",
         "0.0221406988083026",
         "0.0097285019435198",
         "-0.0061221773264951",
         "0.0270626423808322",
         "-0.009930283566324",
         "-0.0368420602764293",
         "0.0006185881607632",
         "-0.0011334107955009",
         "-0.0090777767811315",
         "-0.0286281085916807",
         "0.010395508794704",
         "0.0875054115748412",
         "-0.0443772596522729",
         "0.003163912194299",
         "0.0275715916716017",
         "-0.0023764038083278",
         "-0.0085352055143449",
         "0.0136136551486727",
         "0.0146159156555201",
         "-0.0076893557036028",
         "0.0182443411026445",
         "0.0070319615859089",
         "-0.0214271479402659",
         "-0.0081133827503466",
         "-0.0102493137274369",
         "0.002887659807379",
         "-0.0030778404036715",
         "-0.0214122912751152",
         "0.0031548963106804",
         "0.0067971095688228",
         "0.0085652066568995",
         "0.0104904989891105",
         "-0.0248169827547607",
         "-0.0235222809335488",
         "0.0101754848142106",
         "-0.0010279686906373",
         "0.0486676698291241",
         "-0.0034342063264635",
         "0.012700516284986",
         "-0.0054441366461942",
         "-0.0058649876814415",
         "0.0128808616234745",
         "0.0045628372883335",
         "0.007827473456375",
         "0.0003836821689831",
         "-0.0005752556446959",
         "0.053323103598299",
         "0.0255851143743455",
         "-0.0128727749211651",
         "0.0062054447955299",
         "-0.0033965227670885",
         "-0.0084303746478389",
         "-0.0149242151264709",
         "-0.015792721440405",
         "-0.0156731968459792",
         "-0.0026538855951709",
         "-0.0105482380843409",
         "-0.0039376839463076",
         "0.0018320930913793",
         "0.0062559078056132",
         "-0.0108081604609875",
         "-0.0220461030778386",
         "-0.003460401362846",
         "0.0100207314435238",
         "-0.0028913622031424",
         "-0.0081990370987927",
         "-0.0068557220465423",
         "0.0115724164539912",
         "-0.0115404101969672",
         "0.0045686800871216",
         "0.0522484295825078",
         "0.0139263225859955",
         "-0.0106089120045802",
         "0.021253981396377",
         "0.0026250133708005",
         "-0.000935037383474",
         "-0.0044922356782254",
         "-0.0039484435574695",
         "0.0027370832853912",
         "0.0155308144017063",
         "-0.0067661156145601",
         "-0.0570175947411734",
         "0.0125681378926505",
         "-0.0123143773473022",
         "-0.0001977731921012",
         "-0.0080166444660335",
         "-0.0123716496513578",
         "-0.0151529975629775",
         "-0.0046158134734898",
         "-0.0231863879602149",
         "-0.0096002119531275",
         "-0.0044737534732102",
         "-0.0021398979555431",
         "0.0038602418238917",
         "-0.03631722137414",
         "-0.0158500640573865",
         "-0.0086720281290636",
         "-0.0021587252649029",
         "0.0064898571568703",
         "0.0073528337647776",
         "0.0178551833178037",
         "-0.0027580667951658",
         "-0.0151566811236347",
         "-0.0038192577411146",
         "0.0142083609673731",
         "0.0067822696227011",
         "-0.0237437370705188",
         "-0.0151585152264315",
         "-0.0058578624867887",
         "-0.0109762821714776",
         "0.0528037504701652",
         "-0.0081002675173498",
         "-0.0082785374792214",
         "-0.0127465987346672",
         "0.0228516605890916",
         "0.0159743273967412",
         "-0.0042883465940216",
         "0.0193243773303488",
         "0.0167913640058825",
         "-0.0036227234000785",
         "-0.0039561639883145",
         "-0.008910342875481",
         "-0.0067157760925009",
         "0.0121047827779847",
         "-0.0012930553799016",
         "0.0245980937231142",
         "0.0194799192070069",
         "0.0040914577059767",
         "-0.0038659216415084",
         "-0.0037758387913972",
         "-0.0104231866106613",
         "0.0146823270618265",
         "0.0060815419253534",
         "0.0116727781585785",
         "0.0148345698569978",
         "-0.0004059515287132",
         "0.0060931911383186",
         "0.0078733672488071",
         "0.035953719086164",
         "-0.0169180156215403",
         "0.0108172212334045",
         "0.0047669734010895",
         "0.000871412542645",
         "-0.0020315256359186",
         "-0.0058161746677082",
         "0.0158931370784114",
         "0.0273538979295444",
         "-0.0005606235232666",
         "-0.0103757122804005",
         "0.0035891974396442",
         "-0.0242823056336417",
         "0.0182310046417641",
         "0.007294297870015",
         "0.0167403318121446",
         "0.005827540808319",
         "0.0087364724757186",
         "-0.0033732094393815",
         "0.0062204087102037",
         "-0.0200909637583632",
         "0.0035252649119823",
         "0.0038828426839565",
         "0.0024864024592474",
         "0.0022046538625455",
         "-0.0073327671493145",
         "0.0057248934176734",
         "-0.0073448851303902",
         "-0.0044393985808771",
         "-0.0144929337395623",
         "0.0033937354746647",
         "0.0124014604005404",
         "0.002412667052299",
         "-0.1103499200245788",
         "-0.029760495559383",
         "0.0293864577086018",
         "0.0001039900651924",
         "0.0040629003312411",
         "-0.0065365891785891",
         "-0.0146213273402669",
         "0.0165341870273225",
         "-0.0108435358214464",
         "-0.022557054930043",
         "0.0111074516674631",
         "0.0008531362090495",
         "-0.0068200807377204",
         "-0.0032187639718319",
         "0.0186220659767841",
         "-0.0208180039841352",
         "-0.0025899974187059",
         "0.0161698999006685",
         "-0.0122321891387673",
         "0.0062465514129044",
         "-0.0011980325311519",
         "0.0056701826140721",
         "0.0037948653810893",
         "-0.0082092187482201",
         "0.0052275565574113",
         "-0.0091006498138586",
         "0.0072162845583449",
         "-0.0028223715316433",
         "-0.0045722213676878",
         "0.0136701546880284",
         "-0.0018339981471735",
         "0.0010807334300486",
         "0.0138199451208502",
         "0.0015974745728919",
         "0.049654485467194",
         "0.0541936377998966",
         "-0.0091285853091608",
         "0.0182312406782605",
         "-0.001904739049417",
         "0.0049619505131817",
         "0.0264905949619744",
         "-0.0022199344171498",
         "-0.0101046770273766",
         "-0.0181683251736467",
         "-0.0210797987954324",
         "0.0190979560124746",
         "0.0141504092770963",
         "0.0601293137201248",
         "-0.0125506476088352",
         "0.0037699666440236",
         "-0.0284364205633426",
         "0.0054119773492438",
         "0.0098868800951983",
         "0.0073969317468716",
         "0.0002158701644598",
         "0.0059375912690686",
         "-0.0200686843658696",
         "-0.0001093863298706",
         "-0.0027382906430696",
         "-0.0009884879801952",
         "0.0057168387323029",
         "0.0086356964411105",
         "0.0037932553224309",
         "0.0041028597098149",
         "-0.0105377268846661",
         "-0.0066289685578302",
         "0.0045947483200465",
         "0.0035934714706966",
         "0.0472006655052781",
         "0.0199979107444816",
         "-0.0165583636541342",
         "0.0035119530613298",
         "-0.0057642301746706",
         "-0.0108706426645418",
         "0.0084780515876978",
         "0.0101713410675619",
         "0.0164388609207619",
         "0.0070756262871041",
         "0.0045168041640752",
         "0.0115906947282637",
         "0.0357566444924097",
         "0.0038146710722439",
         "-0.0004751144974787",
         "-0.0196748179611155",
         "-0.0159977956823942",
         "-0.0126995945485252",
         "0.0016078101914887",
         "-0.0099328129983298",
         "-0.0113498070239103",
         "0.0065600253800151",
         "0.0197556506381777",
         "-0.0037946617197905",
         "-0.0115277106277412",
         "0.0045634835812038",
         "-0.0084797009277479",
         "0.0268783982329385",
         "-0.0019829008607193",
         "0.0065567740385343",
         "-0.0010857663647385",
         "0.0032606099028822",
         "-0.006302895705381",
         "-0.0036670809384445",
         "0.0023873227227875",
         "0.0088320512200372",
         "0.0071807697672983",
         "0.0058598874977284",
         "-0.0091269193934508",
         "-0.0058796379756512",
         "0.01695417071194",
         "-0.009498876467285",
         "-0.0154613267012979",
         "0.0100388083969709",
         "0.0",
         "-0.0029521825431474",
         "-0.0021713797615474",
         "-0.0139466172874557",
         "0.019861562565224",
         "0.0153438314608453",
         "0.0078464944507619",
         "-0.0126873729296319",
         "0.0057436665314754",
         "0.0128738627439066",
         "-0.0059250286805424",
         "-0.0009614058681591",
         "0.0101039914106826",
         "-0.0022863441983775",
         "-0.0141316045258071",
         "0.0013559308803989",
         "0.229906202737661",
         "-0.015728218222248",
         "0.0127036558681743",
         "0.0063117361572497",
         "-0.0084673026099987",
         "-0.0097256346879969",
         "-0.0050303368971253",
         "0.0022470706862405",
         "-0.0164946045833817",
         "0.0187250766528863",
         "-0.0076720049881254",
         "-0.0065232639511031",
         "0.0161315500853302",
         "0.0065417302683676",
         "0.0078465837575045",
         "-0.0008650684565021",
         "0.000236170845941",
         "0.0048787766750739",
         "0.0119811595378762",
         "-0.0048749645003569",
         "0.0151633077287229",
         "0.0154024304780999",
         "-0.0034131803737159",
         "0.0015983430916652",
         "0.0098776555203654",
         "0.0133924765660367",
         "-0.0285098923596995",
         "0.0099350270671465",
         "-0.0056754871402441",
         "-0.0213087970931367",
         "-0.0010886823604987",
         "0.0126887162509805",
         "0.0010762131186374",
         "0.0138217274738632",
         "0.0087100581269901",
         "0.0107374502201857",
         "-0.0077260128453094",
         "-0.0015722604461028",
         "0.0035992487318188",
         "0.006948657290527",
         "0.0064554075190468",
         "0.0116484222867607",
         "-0.0045182947742745",
         "0.0207907598428556",
         "-0.0153471750987078",
         "-0.0043700388376788",
         "0.0026336221551743",
         "-0.0118927151973756",
         "-0.0047995213796395",
         "0.0036355584286829",
         "-0.0031048885955259",
         "-0.0011864932055287",
         "0.0023758052878892",
         "-0.0114804671291616",
         "0.0096657680197194",
         "0.0074952457579622",
         "-0.0002209691803632",
         "0.0045680085844943",
         "-0.0049140004694213",
         "-0.0039799042614254",
         "-0.0022198295111618",
         "-0.023064534623897",
         "-0.0289985622394892",
         "-0.0112579978787419",
         "-0.0136000366649431",
         "0.0444086936868415",
         "-0.0078286078433739",
         "-0.013228124311324",
         "0.0071339492124788",
         "-0.0097298806625244",
         "-0.0107688119772565",
         "0.0053238055842357",
         "0.0584888474730103",
         "-0.0063470821022736",
         "0.0095438453411429",
         "-0.0099747043563036",
         "-0.0199247324203816",
         "0.008438670362155",
         "0.0066185680874475",
         "-0.0139037559002682",
         "0.0029278729797919",
         "-0.0152108382818269",
         "-0.0027303807748082",
         "-0.0040675914800262",
         "0.0086396792710565",
         "0.0147952995299482",
         "0.0201810152811066",
         "-0.0035351950343259",
         "0.0079257214924037",
         "-0.0047929121353798",
         "-0.0130935470954832",
         "-0.0053373977841556",
         "0.0220773986103781",
         "-0.001650024197748",
         "-0.0121703641317376",
         "-0.0130807705629018",
         "0.0",
         "-0.0001542031525505",
         "0.0013101607659204",
         "-0.003463618141352",
         "-0.0109677534735542",
         "-0.0196798636951448",
         "0.0127459695877987",
         "0.0169117898492352",
         "-0.0023205098004888",
         "0.0106993628365128",
         "0.0062901863212589",
         "-0.0076230772081166",
         "-0.0080657519866368",
         "-0.0003098161243083",
         "0.0047254177250974",
         "0.0013106658835302",
         "0.0032340021975629",
         "0.0190346404493377",
         "0.0132558680742229",
         "-0.0246784526792199",
         "0.0258365013901273",
         "0.019390745817283",
         "0.0041541984091293",
         "0.0101611222330697",
         "0.0132920870182959",
         "0.0415514591764818",
         "0.0151814375326875",
         "0.003420136521649",
         "-0.0013367468680627",
         "0.0139865945255472",
         "-0.0007920032165895",
         "0.0009246011043559",
         "0.0188729132970999",
         "-0.0142486574505399",
         "-0.0141918619072384",
         "0.0109303707655428",
         "0.0050765762751137",
         "-0.0008526520324741",
         "-0.0160846513973752",
         "-0.0012009819444468",
         "0.0025385346403288",
         "-0.0079963526054511",
         "-0.0010074724564796",
         "0.004256974124192",
         "0.0024896406145404",
         "0.0081212927744582",
         "-0.0074566920102764",
         "-0.0275020529457865",
         "0.0034487516535706",
         "0.007286208342891",
         "0.0060734231638091",
         "0.0209591789336587",
         "0.0305606611357782",
         "-0.010959238020591",
         "-0.0492764805685157",
         "0.0119978060652483",
         "-0.004538975450003",
         "-0.0043555150334479",
         "0.0090225019678413",
         "-0.0005419444093002",
         "0.0183002055706682",
         "-0.0275559054731052",
         "0.0295003242884193",
         "0.018615803361377",
         "-0.014946860156456",
         "0.0151736587112754",
         "-0.0126623742340105",
         "-0.0060157574959164",
         "0.0185554221522179",
         "0.0022853811130556",
         "-0.005342067258754",
         "-0.0277704377637657",
         "-0.024252263839302",
         "0.0139464534902953",
         "0.0055154402507653",
         "0.0006094422631985",
         "-0.0542771339457571",
         "-0.0918133771769624",
         "0.0129225383525701",
         "-0.0108129082586546",
         "0.0877634738967436",
         "-0.0386784689143006",
         "0.022411037829449",
         "0.000441320779261",
         "-0.0055143006417981",
         "-0.0354871210106855",
         "-0.0019162960841195",
         "-0.0316412730477018",
         "0.0812118787419371",
         "-0.0019805198330118",
         "0.020726204430544"
        ],
        [
         "AOS",
         "0.0166330115638506",
         "-0.0167137161291685",
         "0.0067033396022608",
         "-0.0112963127627003",
         "-0.0031268041591939",
         "0.0097720670290806",
         "0.0033453114834154",
         "-0.0123837942319794",
         "-0.0285749821454488",
         "0.0011171839018757",
         "-0.0137616885751444",
         "-0.0168445806690271",
         "-0.0177727173588334",
         "0.0255141059407575",
         "-0.0429041793423409",
         "-0.009018588286911",
         "0.0151230514904334",
         "-0.0009264264750773",
         "0.0121856115838574",
         "-0.0111228934700376",
         "-0.0048958212427311",
         "-0.0147609028921678",
         "-0.0068833749703757",
         "0.0038054900247097",
         "0.0044679452653531",
         "0.0062003322564276",
         "-0.0324180797531826",
         "-0.0127372759939765",
         "-0.001121716837827",
         "0.0172681241803267",
         "-0.0019324886184923",
         "-0.0175606125860876",
         "0.0021109578676796",
         "-0.0234547755108043",
         "-0.0235869487527282",
         "-0.0017676323372195",
         "0.0239042820859316",
         "-0.0116728717223806",
         "-0.0284341712494609",
         "0.0415729886817592",
         "-0.0103746857250494",
         "-0.0042225341772538",
         "-0.0156455791017758",
         "-0.0164882940882952",
         "0.0222021064909403",
         "-0.015809767245523",
         "-0.0133612708878686",
         "0.0024346224515208",
         "0.0039463930699681",
         "0.0176897832368296",
         "0.0102512576764768",
         "0.0007349764825292",
         "-0.0019103639255114",
         "-0.0017666147406608",
         "-0.0358407339846262",
         "0.013155930598885",
         "0.0111730413414388",
         "-0.0046286838886909",
         "0.0123010516692623",
         "-0.01822751098711",
         "-0.0356227570772789",
         "0.0311474508753841",
         "0.0179112585140845",
         "-0.0249030071375624",
         "-0.0120814980232263",
         "-0.0196592456438474",
         "-0.0072638364459715",
         "0.0077940830844875",
         "0.0178345205703747",
         "0.0032563489437207",
         "-0.0140649409871278",
         "-0.0070544444597366",
         "0.0320492804483074",
         "0.0142267886647251",
         "0.0",
         "-0.0235295153853208",
         "-0.0016991169555934",
         "-0.0349682625881763",
         "0.0083374222674732",
         "-0.043763009858708",
         "-0.0240520813570972",
         "0.0152318499718255",
         "-0.0037087059899535",
         "0.0429781450329143",
         "-0.0439650872753072",
         "0.0079756791723386",
         "0.0065655278435725",
         "-0.0138818749114428",
         "-0.0269674949119954",
         "0.0294579837770279",
         "0.0160853498996544",
         "-0.0171638576130932",
         "0.0232281975207766",
         "-0.0427505805237014",
         "0.0117707438340022",
         "-0.0116338052920942",
         "0.0103859014523008",
         "-0.0003426175029325",
         "0.0032561879699077",
         "0.018619798355034",
         "0.0266645581161175",
         "-0.0179680840418113",
         "0.0053227107638811",
         "0.0119127245758734",
         "-0.0052323308698015",
         "0.0169297043059735",
         "-0.0011313243480596",
         "-0.0114887660021588",
         "-0.0045834048153807",
         "-0.0452227846754245",
         "-0.0339305655177119",
         "-0.0080226816097057",
         "0.0071890672738801",
         "-0.0437188205761499",
         "-0.0089567840537387",
         "-0.0041424295821697",
         "0.0032142177873801",
         "0.0201659319234503",
         "0.0312210669151424",
         "0.0005375473289808",
         "-0.0119963569220025",
         "-0.0068867176686258",
         "-0.002189772103474",
         "0.0246890361081726",
         "0.0242728520161044",
         "0.0099321074170177",
         "0.0284677541915949",
         "-0.0442877582058608",
         "-0.0049149407287198",
         "-0.0097019064833248",
         "-0.0115780904420834",
         "-0.0245089861128341",
         "0.0465546945480994",
         "-0.0210063134514039",
         "0.0369636307576861",
         "0.0064335556886037",
         "0.0184865992278489",
         "0.0008481842660763",
         "-0.0013559719166894",
         "0.0020365835153028",
         "0.0254066059973439",
         "0.0121142427088347",
         "0.0373830644372392",
         "-0.0211790324979553",
         "-0.023575012839754",
         "0.0167024058549791",
         "-0.0030904000266399",
         "-0.0112579633594307",
         "0.0148515549153891",
         "-0.01951232870241",
         "0.0232173650846261",
         "0.0116693574890509",
         "0.0232297925860456",
         "0.0032878604282629",
         "0.0039013015486317",
         "-0.0018652457208594",
         "-0.0015574107998838",
         "-0.0230852352586612",
         "-0.0213956440246558",
         "-0.0088104837659462",
         "0.0034566527377513",
         "0.0026247207146719",
         "-0.044011710686648",
         "-0.0124935182873088",
         "-0.0045062784819651",
         "-0.0172351802274406",
         "-0.000531493311689",
         "-0.002658596800446",
         "-0.0067533587182987",
         "0.023618028915241",
         "-0.0062927047692618",
         "-0.009850490829243",
         "-0.0021318037339639",
         "-0.0354281327140934",
         "-0.0352529098444849",
         "0.0124354473352028",
         "-0.0226757424335135",
         "0.0168213730095985",
         "-0.0260506590465922",
         "-0.0031236820225558",
         "-0.0105759203879309",
         "-0.0136577326923519",
         "-0.0084288024715859",
         "-0.0016190143114565",
         "0.0227041702717711",
         "-0.0340931797345112",
         "-0.0030780638261942",
         "0.042198344814057",
         "0.0341694219155912",
         "-0.0164246846711301",
         "-0.013980569553905",
         "-0.0252068466579762",
         "0.0016163125017032",
         "-0.0054458493881398",
         "-0.0036503920828965",
         "-0.0054956493994027",
         "0.0036840939844597",
         "0.0524061223224279",
         "0.0029062981185266",
         "-0.0191265985928589",
         "-0.0395904659530608",
         "0.0280969714311063",
         "0.0133652236063384",
         "0.0255905041694384",
         "-0.0028788879330213",
         "-0.0009626304123762",
         "0.0538758928732081",
         "0.0073557642005319",
         "-0.00328594151999",
         "-0.0164835092964724",
         "0.0124766923724173",
         "0.0296119304172834",
         "0.0166131399112272",
         "-0.0165172767294159",
         "-0.0164373922512566",
         "0.0768391262149497",
         "0.0121457441102204",
         "-0.0081667075122175",
         "0.0147876032210934",
         "-0.0097698462073778",
         "0.0050166535061537",
         "0.0196339127799773",
         "0.0019582884875881",
         "0.0081433401568764",
         "-0.0059774226708239",
         "0.0053632350242314",
         "-0.0339476725648715",
         "0.0122155681784532",
         "0.0041330220459108",
         "-0.0042805594508101",
         "-0.0016534164176778",
         "-0.0092746767744916",
         "-0.0075226968659664",
         "-0.001684262696328",
         "-0.0143411222717438",
         "-0.0020540901346487",
         "0.0036020566847358",
         "0.0146982224974818",
         "-0.008253234730697",
         "-0.0353261168044241",
         "-0.013204080416617",
         "0.0001782468607174",
         "0.0049946938897418",
         "0.0159745045692951",
         "-0.0176450180381169",
         "0.0119153891156413",
         "0.0135325295048276",
         "-0.0156060949020865",
         "0.0156773103379879",
         "-0.0072840755756387",
         "0.0293500212631083",
         "0.0295316909778644",
         "-0.0211012306756451",
         "0.0346917531079471",
         "0.0008138232417507",
         "-0.0265083412932003",
         "0.045439357506597",
         "-0.0188558971976992",
         "0.0118892882608132",
         "-0.0338001431651477",
         "0.0018323722131392",
         "-0.0390754522031674",
         "0.0235334496440202",
         "0.017920645182669",
         "0.0076398350305948",
         "-0.002472259751882",
         "-0.0275943865974224",
         "0.0256584894169544",
         "-0.0083248656487741",
         "0.1366689084663002",
         "0.0333824083587173",
         "0.0062893855487582",
         "-0.0191760980478563",
         "-0.0225923190369172",
         "-0.012742661439784",
         "-0.0063033607535046",
         "-0.0060415054086974",
         "0.0045586552899754",
         "0.0290426027008761",
         "-0.0080847369947634",
         "0.008150632716618",
         "-0.0045570079230561",
         "-0.0070878737066808",
         "-0.02334925296717",
         "-0.00304568253264",
         "0.0051933151738259",
         "-0.0138275631000224",
         "0.0064713849217541",
         "0.0047457074339483",
         "0.0173703309907766",
         "0.0130297820548934",
         "0.0072442772579399",
         "-0.0180537422617506",
         "-0.0076234888104401",
         "0.009338919574469",
         "0.0062677921009464",
         "-0.0197241067745167",
         "-0.0048413546547172",
         "0.025843841496099",
         "-0.0120035080390611",
         "0.0104993165158249",
         "-0.0282025533297398",
         "0.0149688395662341",
         "0.0070727843720481",
         "-0.006425364662689",
         "-0.0030079429216437",
         "0.0067882605853508",
         "0.0128858594149852",
         "0.0081361646538451",
         "0.0112983084804918",
         "-0.0147995297677606",
         "0.0184093405072707",
         "-0.0043382974503353",
         "-0.0438634155963755",
         "-0.0185327809282799",
         "-0.0001547794841474",
         "0.0134674718727396",
         "0.0013747170378619",
         "0.0070166253498917",
         "0.0049983964586823",
         "0.0116054149399962",
         "0.0067041986030458",
         "0.0143552724556974",
         "-0.009629244424865",
         "0.0131112445725083",
         "0.0001454740519415",
         "0.0020353072832981",
         "-0.0050779903380357",
         "-0.0156044416654287",
         "0.0202377717383357",
         "-0.0039381427128708",
         "0.0270904220045016",
         "-0.0051325737432025",
         "-0.0045857622710286",
         "-0.0038872282799365",
         "0.0171989309420561",
         "-0.0009946221156377",
         "-0.0140802285805261",
         "-0.0014425671503611",
         "-0.01184657102889",
         "-0.0169589037002644",
         "0.0142772033548967",
         "-0.0145160767922004",
         "0.0159200878607794",
         "0.0125953185612948",
         "-0.0104136158322615",
         "-0.0033616289682594",
         "-0.0214107763658708",
         "-0.0056946612653713",
         "0.0021098308663942",
         "0.0027074014325583",
         "0.0003000756379261",
         "-0.0412357639437324",
         "0.0100095200258325",
         "0.0593062500403209",
         "0.0005847716006688",
         "0.002775611096105",
         "0.0209791771479903",
         "-0.0048518298456295",
         "-0.0136218030907828",
         "-0.0031981911770284",
         "0.0167711483925581",
         "-0.0012908732364511",
         "0.012638323924802",
         "0.0069492941114561",
         "-0.0128169542564172",
         "-0.0034240821654106",
         "-0.0115963486615841",
         "0.0065179376787465",
         "0.0210102318671945",
         "0.0186047336150485",
         "-0.0019371126372969",
         "0.0034658667920113",
         "0.0055264291686853",
         "-0.0056335515050129",
         "-0.0182394664523206",
         "-0.0063336557361705",
         "0.000566520760848",
         "0.0219423642232821",
         "0.0139906742631243",
         "0.0039619260761918",
         "-0.0054429573576354",
         "0.0180600056378363",
         "0.0079290600817911",
         "0.0201333882829108",
         "0.0016989696246505",
         "-0.0036535229418059",
         "-0.0048454406552936",
         "-0.0075009263659578",
         "-0.003314886261587",
         "-0.001330197191276",
         "-0.0185160441526771",
         "-0.0162168828846591",
         "0.0060949264652614",
         "-0.000550815773251",
         "0.0",
         "-0.0039948063203789",
         "0.0047023286088065",
         "0.0165199373816138",
         "-0.0081257851179383",
         "-0.0061440520342779",
         "-0.0109905947629846",
         "-0.0087512234378058",
         "-0.0011210180572991",
         "-0.006453362440609",
         "-0.007483676405642",
         "-0.0079671357183097",
         "-0.0116161638276327",
         "-0.0008706996779035",
         "0.0081325890217835",
         "0.0080668707837969",
         "-0.016862033362715",
         "0.013808018878606",
         "0.0137635124540353",
         "0.0162636803934141",
         "0.0061231342324199",
         "0.0027661075003906",
         "0.0147586362097085",
         "-0.0221559212690309",
         "-0.0012508416301075",
         "-0.0018094214787243",
         "-0.0213329173631492",
         "0.0045591515193157",
         "-0.0317687758171754",
         "-0.0168447237334576",
         "0.0092372314759647",
         "-0.0143194913124952",
         "0.0058410236940418",
         "-0.0022333850675727",
         "-0.0098494047234475",
         "-0.0177845532652232",
         "-0.0101271931199741",
         "-0.0006202086063546",
         "0.0155110123925619",
         "-0.0003052881942077",
         "0.0157372509236501",
         "-0.0052649671127976",
         "-0.001209675557628",
         "-0.0102952881318766",
         "0.0133087946717873",
         "-0.0025663806032022",
         "0.0184653124118328",
         "0.0199137597843972",
         "0.009179667135968",
         "0.0264221896249818",
         "-0.0163171572485127",
         "0.0047188426240796",
         "0.0233418854132716",
         "-0.000973442125109",
         "-0.0467770721741173",
         "-0.0213231810927936",
         "-0.0052232081155244",
         "-0.0040506932099624",
         "0.0037658745142452",
         "-0.0217588339900308",
         "0.0602855229934577",
         "-0.018952606534152",
         "0.0296339552937989",
         "0.0038854440441",
         "0.0150515905177459",
         "0.0076261377914119",
         "0.0029432562345299",
         "-0.0065680758412407",
         "-0.0061892941039268",
         "0.0069356794751267",
         "0.0032331082198584",
         "0.0203165436459378",
         "0.0076902087845298",
         "0.0359771694680977",
         "-0.0134175191160492",
         "0.0085332440685459",
         "0.0097833299046885",
         "-0.0035350519189072",
         "-0.0031533362340354",
         "0.0001317661209891",
         "0.0017132473327807",
         "-0.0006578221688429",
         "-0.0110584203783576",
         "-0.0002662670827915",
         "0.0034620827341074",
         "0.0183120565513281",
         "0.004560951899569",
         "-0.010118136910004",
         "0.0127113958284428",
         "0.0094461481532641",
         "-0.0002565026877346",
         "0.0006412214259075",
         "0.018452207945711",
         "0.0006289062775728",
         "0.0133282542981971",
         "-0.0172477206145397",
         "0.0023989818494356",
         "0.0190200002041478",
         "-0.0082818323359002",
         "0.0165773822733339",
         "0.0020844184703665",
         "0.0014682039461126",
         "0.0037874583293906",
         "0.0009736166577407",
         "0.0024319583660248",
         "-0.0121300079157854",
         "-0.0335216328536323",
         "0.0085122626733826",
         "-0.0042831286019325",
         "0.0029098622909666",
         "0.0071905899523616",
         "0.0080160461459424",
         "0.0022366086193421",
         "0.0055789951104578",
         "-0.0016027764037574",
         "-0.0106199002324023",
         "0.0057414706299114",
         "0.0078180760299917",
         "0.0112057172963009",
         "-0.0032879598916715",
         "-0.0185705883797713",
         "0.011701823968631",
         "-0.00430681926153",
         "0.0090213326829111",
         "-0.0197957998377285",
         "-0.0264676253830696",
         "0.02525449909925",
         "-0.0155837259486634",
         "-0.0158306210937085",
         "0.0146582206781471",
         "0.0207108744072135",
         "0.0051353370214384",
         "0.0036135862253725",
         "0.0091879571970692",
         "-0.024975325372774",
         "0.0242271206993964",
         "-0.0020943526774017",
         "-0.0112346221874757",
         "-0.0056185818473812",
         "0.0074082476983716",
         "0.004736475105185",
         "0.0098002373008287",
         "0.0023340546187278",
         "0.0087021439870504",
         "0.0071689019207983",
         "0.0001206959012927",
         "0.012545054209232",
         "0.0138194894949761",
         "-0.0165686926705285",
         "0.0096786486116278",
         "0.0254436184977362",
         "-0.0095786712126346",
         "-0.0059427121105527",
         "0.0072675953877581",
         "0.0026767134420873",
         "0.0053387752219429",
         "0.0054259226039696",
         "-0.0141232376921965",
         "0.0107151309201245",
         "0.0099100888664975",
         "0.0255591413647489",
         "-0.0066756243771771",
         "-0.0138888574962049",
         "-0.0018174653340703",
         "0.0110378715096302",
         "0.0068656120322525",
         "-0.0042477039537742",
         "-0.0059497613848313",
         "0.0011291982280625",
         "-0.0170331232304221",
         "0.0045902345467701",
         "-0.0065113027047352",
         "-0.005749098493415",
         "-0.0108708491562866",
         "0.0072489926383927",
         "0.0040626107287553",
         "-0.0156069353270069",
         "0.0029360356054133",
         "0.0124121988231162",
         "0.0026601254970959",
         "-0.0071518147054976",
         "0.0096433078929418",
         "0.0117376215246502",
         "-0.0104641585619815",
         "-0.0480459305393016",
         "0.0047089632427594",
         "0.017131111928202",
         "-0.0174356309763638",
         "-0.0006036682083476",
         "0.0091799357622091",
         "0.0090963385705742",
         "0.0099632963043934",
         "0.0008220991585605",
         "0.0042243359930265",
         "0.0094647284288591",
         "-0.0001157186774241",
         "-0.0037045003126914",
         "0.0039506892885965",
         "0.0042824375674723",
         "-0.0162497772391916",
         "0.003748766352621",
         "0.0015171695624003",
         "-0.0008156860398933",
         "-0.0078143626719857",
         "-0.0117549683620405",
         "0.0084453303018885",
         "-0.026421255047917",
         "-0.0173249626675324",
         "0.0117124267139261",
         "0.0192541463272157",
         "-0.017216545143514",
         "-0.0115571161688073",
         "0.0102152986160422",
         "-0.0146198304345708",
         "0.0024727105178381",
         "0.0049336040340781",
         "0.0013498004240604",
         "0.0245127842605104",
         "0.0009571290715562",
         "-0.01446157943279",
         "0.014795113069937",
         "0.0064531174452961",
         "-0.0035622011379067",
         "0.0026216625648678",
         "0.003446683005231",
         "-0.0177663375562927",
         "-0.0066320254220182",
         "-0.0043700614143652",
         "-0.002926067518341",
         "-0.0195646470610202",
         "0.0088550624408656",
         "0.0018544709601144",
         "-0.0069102439159353",
         "0.0072066643776778",
         "-0.0040709558223891",
         "0.0279944939414873",
         "0.0372334518612813",
         "0.0203299826219045",
         "-0.0003416403012667",
         "0.0476082289393642",
         "-0.0200044382204753",
         "-0.0124250836758965",
         "-0.0115704492012811",
         "0.0093191972229218",
         "-0.0939083033071778",
         "0.0036037801836286",
         "0.0175830321819951",
         "0.0282308120955514",
         "0.0",
         "0.0112425429125644",
         "-0.0010571773329018",
         "-0.0293979704336477",
         "-0.001696183298287",
         "-0.0091019081111949",
         "0.0001225439559227",
         "-0.0170219015529482",
         "0.0027407807876276",
         "-0.0027332894404421",
         "-0.0174410269608308",
         "0.0088752591347722",
         "0.002387843844867",
         "0.0061434641566553",
         "-0.0074765883298993",
         "0.0131825662022235",
         "0.0012392927975268",
         "0.0133662512618057",
         "-0.0091598058275442",
         "0.017379572017536",
         "-0.002180793766377",
         "-0.0072850442003304",
         "0.000978373194779",
         "0.0031770520390508",
         "0.0197319560546782",
         "-0.0293835219873149",
         "-0.011198763333029",
         "-0.0309893952013056",
         "-0.0122013351881901",
         "0.0127421355277927",
         "0.0101424694473459",
         "-0.0027961676780363",
         "0.0119806996433289",
         "0.0071788688001848",
         "0.0216329513355155",
         "0.0094248313906744",
         "0.0050927757154726",
         "0.0168898406153479",
         "-0.0166093119832206",
         "0.0131500376071134",
         "0.0209573289290714",
         "0.001166264466234",
         "0.0404240824504265",
         "0.0143320111250409",
         "-0.0083893947072167",
         "-0.0099075195847663",
         "-0.0102317465521993",
         "-0.0059070403058441",
         "-0.0012569253019327",
         "0.0085812032791336",
         "-0.0192853184501491",
         "0.0142278990705346",
         "-0.0161952848109939",
         "-0.0624854057698275",
         "0.0216395538057618",
         "-0.0202130128174828",
         "-0.0088944183302567",
         "-0.0184469454225141",
         "0.0",
         "-0.001904774387328",
         "-0.0049618254406055",
         "-0.011635292318241",
         "0.0005173615041589",
         "-0.0060769497988591",
         "0.0016911311359617",
         "-0.0084415802671871",
         "-0.0057628976652107",
         "-0.0062194332708477",
         "0.0039946762155795",
         "-0.0034483186459183",
         "0.0103806500274874",
         "0.0038198228189643",
         "-0.0023619163378122",
         "-0.015388601548391",
         "0.0032059453702728",
         "-0.0260984900117778",
         "-0.0004102458938192",
         "-0.0015045726106531",
         "-0.0105478783233984",
         "-0.0011075948863151",
         "-0.010256373739568",
         "0.0047611975766526",
         "0.0170034729406454",
         "0.0064410385358908",
         "0.0270968711970642",
         "-0.0202836892410351",
         "0.0027063616308022",
         "0.0052631715109887",
         "0.0021479818019638",
         "-0.0084394604637383",
         "-0.0056741250491301",
         "-0.0173912318702419",
         "0.0040099685661894",
         "0.017628350845622",
         "-0.0123154976619421",
         "-0.0013703441841854",
         "-0.0034303510788565",
         "-0.0019275371866762",
         "-0.008277008890438",
         "-0.0150229825190351",
         "-0.0268322777428476",
         "-0.0068205277488085",
         "0.0040911996351924",
         "-0.0023283346928117",
         "0.004813271678121",
         "0.0",
         "-0.0066772492555882",
         "-0.0059916285958988",
         "0.0027934220485426",
         "-0.0129013639959524",
         "0.0188622515802061",
         "0.004373292555879",
         "-0.0087082777050907",
         "0.0055636029108796",
         "-0.0160162062346976",
         "0.015537092894523",
         "0.0381757251621306",
         "-0.0042105288081081",
         "0.0063425525237057",
         "0.005742181865866",
         "0.0122546967688144",
         "-0.0236622234637319",
         "0.0042271408307898",
         "-0.0098218104292785",
         "0.0121865325195142",
         "-0.0218395112236681",
         "-0.0093030509423993",
         "-0.0275931859786916",
         "0.0049276067648131",
         "-0.0038633302294281",
         "-0.0205846842865771",
         "-0.0003046645041916",
         "-0.0019804578706085",
         "-0.0053426723051124",
         "0.0087476927990977",
         "0.0036512680893423",
         "-0.010914070143706",
         "0.0114942528735633",
         "0.0033333518288352",
         "-0.0075505888067498",
         "0.0249543420448354",
         "-0.0084619906422124",
         "-0.0121275272868792",
         "0.0037890267850937",
         "0.0114750787908026",
         "-0.0123898227814251",
         "-0.0033252903344248",
         "0.0081892765473763",
         "-0.0015043035268619",
         "-0.0115998293902724",
         "0.0135649959056396",
         "0.0260150880741893",
         "0.0172944488805433",
         "0.002881385069734",
         "-0.0359143798028961",
         "-0.0219043541548765",
         "-0.0028946136985524",
         "0.0213903986425856",
         "0.0095736634892549",
         "0.0025189776814484",
         "-0.0008868635048845",
         "-0.0131656717416813",
         "-0.0031479401492232",
         "-0.0019548459160596",
         "0.0054241463832107",
         "0.0092910997452104",
         "-0.0066814693160698",
         "-0.0192825244559723",
         "-0.0038103947214497",
         "0.0036719379058807",
         "0.0079268945816526",
         "-0.0372051239713097",
         "-0.0262330847148627",
         "-0.0217777424143432",
         "-0.0166556453116589",
         "0.0491363450057438",
         "0.0049552038329414",
         "0.0259265324607564",
         "0.01085266586422",
         "-0.0207054990384856",
         "-0.0155050569683378",
         "0.0044543235217653",
         "-0.0226480886759435",
         "0.0364608658788028",
         "-0.0023451800082663",
         "0.0233505978122492"
        ],
        [
         "ABT",
         "-0.0235183975237288",
         "-0.0044927381107675",
         "-0.0001481021130299",
         "0.0031078307504202",
         "-0.0022131732569546",
         "0.0032529462802892",
         "-0.0145907351261466",
         "-0.0270170787458657",
         "-0.011492356272253",
         "-0.0124062058215825",
         "-0.0041086378545889",
         "-0.0106306275889228",
         "0.0089809293805052",
         "-0.0159739797944643",
         "-0.0044420612119064",
         "-0.0259593051085083",
         "0.0030817772872067",
         "0.0407671008292604",
         "0.0168328151842496",
         "-0.0020399429677467",
         "0.0223271471900439",
         "0.0005383717938147",
         "-0.0030743090139364",
         "-0.0127978204965245",
         "0.0046855869900592",
         "0.0143025026049401",
         "-0.02092110314485",
         "-0.0177678214751505",
         "-0.0215954041607223",
         "0.0097737380921574",
         "-0.0024198333178404",
         "-0.0250645481706853",
         "-0.0314315687730589",
         "0.0061650254902232",
         "-0.0022126029971775",
         "0.0125372095913223",
         "0.0310815306545413",
         "-0.0146229459642224",
         "-0.0203117578560617",
         "0.0185325648430831",
         "0.0050681593782846",
         "0.0036374522633906",
         "-0.0210033415015076",
         "-0.0231364544137812",
         "0.0196364015869501",
         "-0.0117407589279038",
         "-0.025470087048285",
         "0.0131556406405717",
         "0.0169667601226086",
         "0.0170241740215408",
         "0.0143957240262155",
         "0.0103134724416198",
         "-0.0056348474273278",
         "0.0010675196151059",
         "-0.0407744230553701",
         "0.0076975747079033",
         "0.0095909833327427",
         "0.0087432017101991",
         "0.001666730969559",
         "0.0015807732348256",
         "-0.0167801624183544",
         "0.0018588314634313",
         "0.0025297558811259",
         "0.0050472229650044",
         "0.0038499670485454",
         "0.0285978047183064",
         "-0.0009727455473158",
         "-0.0260446982676164",
         "-0.0137455484562399",
         "0.0132294231954199",
         "-0.0149816492163771",
         "-0.0118955389924455",
         "0.0317309496948037",
         "0.0221702127171825",
         "0.0059525890460963",
         "-0.0302342140476757",
         "0.0030924749123513",
         "-0.0253311974201871",
         "-0.0021371576342905",
         "0.0110519534615194",
         "-0.0382170822732976",
         "-0.0059031631500756",
         "-0.0035451209597049",
         "0.0290847560262232",
         "-0.0232498757725889",
         "-0.0065479492650969",
         "-0.043466622511708",
         "-0.0059596317901968",
         "-0.0085245309310357",
         "0.0201246695849381",
         "0.0176900969712245",
         "-0.0015471598848939",
         "0.0440252713144684",
         "-0.0157150862143854",
         "-0.0026610706163155",
         "0.0071149782616672",
         "0.015807200643735",
         "-0.0109537709206278",
         "-0.0050979036989949",
         "0.0148421354756433",
         "0.015844170166658",
         "0.0065986443745662",
         "-0.0202621011827507",
         "0.0211155678150061",
         "-0.0079993694128759",
         "-0.0012866808304958",
         "0.0039511085923236",
         "-0.0187370581355575",
         "-0.0172639161581396",
         "-0.0273269068617135",
         "-0.0339321407362193",
         "-0.0280427320148992",
         "0.0180687599277551",
         "-0.0260495903390995",
         "0.0045065940501261",
         "0.0183361338663459",
         "0.0098649763085612",
         "0.007302692315394",
         "0.0305055547215418",
         "-0.0033803167926318",
         "-0.019343651786828",
         "0.01991192621531",
         "-0.0041244853847145",
         "0.0144500304000341",
         "-0.0083469461943548",
         "-0.0055809763355827",
         "0.0073603828563135",
         "-0.0021008156564183",
         "-0.0033861952958428",
         "-0.005418268195695",
         "-0.0192983961849589",
         "-0.0002837169834357",
         "0.0294200870424079",
         "-0.0165410583456084",
         "0.0271911655841157",
         "-0.0154644095934403",
         "0.0227294019631574",
         "-0.0134610981263616",
         "-0.0064102578285705",
         "0.0054377319676244",
         "0.0082501343276903",
         "0.0033640663267966",
         "-0.0137731157730023",
         "0.0062475789345943",
         "-0.008035002948092",
         "0.0089285919473873",
         "0.0010036148946177",
         "-0.0042837866236781",
         "-0.0022882247614669",
         "-0.0100000288161845",
         "0.0218699995223423",
         "0.0019951430606022",
         "0.0089601574217839",
         "0.0037675213220755",
         "0.0011617126124088",
         "-0.0132107305077833",
         "-0.005336968923947",
         "0.0009092333992029",
         "-0.0237141614822656",
         "-0.0134016869335951",
         "-0.0053766659444294",
         "0.0042677103141819",
         "-0.0376805278103241",
         "-0.0005889752092177",
         "0.0035350639258908",
         "0.004403086778651",
         "0.0213345648163665",
         "-0.0223195951920218",
         "0.0020487179052004",
         "0.0193748824791668",
         "0.0218722142141931",
         "0.0139265424511247",
         "0.007466797569857",
         "-0.0315673390041466",
         "-0.0005669738745347",
         "-0.0068065564164769",
         "-0.0100895763530877",
         "0.0008653139663254",
         "-0.0171004377299816",
         "-0.016225192749685",
         "0.0041728286751723",
         "-0.0038586622321481",
         "-0.0083431705439955",
         "-0.0151241801752965",
         "0.0039661845581391",
         "-0.0043558143619664",
         "-0.015566138574547",
         "0.0285240706179998",
         "0.0357717142632862",
         "0.0029104617548245",
         "-0.0089960846044534",
         "-0.0064420603304437",
         "-0.006484066915387",
         "0.0061308242591548",
         "-0.0164127986221155",
         "0.0287119393122907",
         "-0.0152239344919915",
         "0.0258646657155476",
         "0.0141036876846889",
         "-0.0654411613676744",
         "-0.0295586147529089",
         "-0.0015755712203402",
         "0.0339785796014684",
         "-0.0034591081870236",
         "0.0047983471550523",
         "-0.0151392130785599",
         "0.0264108118237513",
         "-0.0055281648125175",
         "0.0037395527152408",
         "-0.0127882004446335",
         "-0.0162179535450425",
         "0.0167963912429947",
         "0.0145814428284345",
         "0.0014070174926956",
         "-0.0018065611895371",
         "0.0479590644264611",
         "-0.0013433202674858",
         "-0.0199825357561487",
         "0.0110774020997166",
         "0.0045568163465916",
         "-0.0101341455772344",
         "0.0127729674287924",
         "9.631156792222484e-05",
         "0.0095301458972021",
         "0.0109659354616205",
         "0.0088662922571631",
         "-0.0146783131499875",
         "-0.0037006844155512",
         "0.024571657205449",
         "0.0032532398464322",
         "0.0014824237717792",
         "-0.0247940656741317",
         "-0.0147046443807912",
         "0.0091470850284671",
         "0.0201316812301015",
         "0.0055182623332656",
         "0.0184166573280446",
         "0.0186318987970464",
         "-0.0024208070094587",
         "-0.0246271215992092",
         "-0.0148359005318273",
         "-0.0029932841925472",
         "-0.0009380874326967",
         "0.015494481886584",
         "-0.0010172241706932",
         "0.0013885228307493",
         "0.0036050201454174",
         "-0.0068157938589117",
         "0.0229990985701564",
         "-0.004714001429366",
         "-0.0019127550638214",
         "0.0148749739946727",
         "-0.0036867087546935",
         "0.0138086722976416",
         "-0.0016023300079074",
         "0.0151582218971217",
         "-0.006148574882176",
         "-0.011363567130299",
         "0.0193068779785419",
         "-0.0010572480225545",
         "-0.0165800270478598",
         "0.0026008243433837",
         "0.0091233817795741",
         "0.0105476674288806",
         "-0.0129812290924778",
         "-0.0135964381990879",
         "0.0006306918991352",
         "-0.0100838479037089",
         "-0.0012732120979171",
         "0.0067388300583519",
         "0.0114880277343418",
         "0.0038456051750679",
         "-0.0040980276420303",
         "-0.0093031532813514",
         "0.0111962914351624",
         "-0.0159836165739039",
         "-0.019328427951437",
         "0.0008327584336726",
         "0.0033284096518715",
         "-0.0116105677226129",
         "0.0001862895780726",
         "-0.011185706455316",
         "0.0062216578053604",
         "-0.0289487256949264",
         "-0.009261958827612",
         "-0.0013633035275167",
         "-0.0203803583432733",
         "-0.0068683805315393",
         "0.019545115312813",
         "-0.0087495389178442",
         "0.0178516284159093",
         "0.0177336972904826",
         "-0.016275739157287",
         "-0.0269584491148827",
         "-0.0058013577312913",
         "-0.0155936081307274",
         "-0.00909550636431",
         "0.0126857118590419",
         "0.0036663687345883",
         "-0.0076104062759212",
         "0.0125767545935262",
         "-0.0203978474279464",
         "0.0088648916319025",
         "0.0047002315178135",
         "-0.014949731228477",
         "0.0018584386775377",
         "0.0104081145302115",
         "0.0041814807743361",
         "-0.0137111401058122",
         "0.015549395881959",
         "0.0046644049408417",
         "0.0220023597917262",
         "0.0032588260298502",
         "0.0119107914826392",
         "0.0137158649075603",
         "0.0069091405291985",
         "-0.0117220872355877",
         "-0.0039536568228339",
         "-0.0070674815040746",
         "0.0152865006059934",
         "0.0033780573411439",
         "0.0053866951806309",
         "-0.0035399324557975",
         "0.0781563978766373",
         "-0.0172767103504132",
         "0.0118713983887921",
         "-0.0112841299491799",
         "-0.0038950457178986",
         "-0.0110939301003702",
         "0.0068965512206027",
         "0.0088584913205782",
         "0.0057934772421082",
         "0.0035100602480067",
         "0.0023317602639394",
         "-0.0080530123789426",
         "0.0036082210255619",
         "-0.0032357094435685",
         "-0.0058610831226051",
         "0.0039908014162723",
         "-0.0057817478939563",
         "0.003998053967271",
         "-0.0058829041711035",
         "-0.0040967089920492",
         "-0.0052108348840603",
         "-0.0032163251558801",
         "0.004240684541295",
         "-0.0062424675269958",
         "-0.0231870595616877",
         "-0.01607697967242",
         "-0.0182624265840438",
         "0.0071471193857111",
         "-0.0112763293874066",
         "0.0028512142817551",
         "0.0080392160983915",
         "0.0134215215408004",
         "-0.0042226656599021",
         "-0.0109868430920188",
         "-0.0093549809280826",
         "-0.0086564185010589",
         "0.0090297412621831",
         "-0.0028518531618879",
         "0.0045365181725789",
         "0.0136461560923508",
         "0.0171428162749938",
         "0.0112360043273733",
         "0.0047081474906527",
         "-0.0042174167091082",
         "0.0188234274265566",
         "-0.0018474625428014",
         "0.0042572416574913",
         "-0.0066353530357001",
         "-0.0016698635122852",
         "0.0004646309382667",
         "0.0126323577664972",
         "-0.016510671930656",
         "0.0013988888127773",
         "-0.0015834391140964",
         "-0.0079290111667585",
         "0.006299908996586",
         "0.0044852557992114",
         "-0.0060464568672732",
         "0.0131652163160578",
         "0.0017635142370548",
         "-0.0086166652902025",
         "-0.0004674127151619",
         "0.0030855981014568",
         "0.0424124965895518",
         "0.0219975427716649",
         "0.0028874329151173",
         "-0.0147443108586058",
         "0.0101833206236297",
         "-0.0125351480180684",
         "0.0007101126836521",
         "-0.0124188897114577",
         "-0.0071858893714593",
         "-0.017280506199737",
         "-0.0099429631515768",
         "0.0010230123400036",
         "0.0074314652011182",
         "-0.0264637363425266",
         "-0.0026520118555775",
         "-0.0053182024930344",
         "0.0054420762759817",
         "0.0075016703395125",
         "-0.0109330698961553",
         "-0.0039072095157988",
         "0.0038268290494283",
         "-0.0116268018541791",
         "0.0015428038539921",
         "0.0123229617468421",
         "-0.000190134313735",
         "-0.0131265731814685",
         "0.0044337747736555",
         "-0.0136263840925499",
         "0.0105069030470641",
         "0.0051987138253881",
         "-0.0144622549495604",
         "-0.0004858830134699",
         "-0.0191541110841172",
         "0.0067407805512582",
         "-0.0087634050265162",
         "0.0005960224040999",
         "0.0170754057782951",
         "-0.000487940029193",
         "0.0028319893641042",
         "-0.000389532038279",
         "-0.008865191718749",
         "-0.0072734777134257",
         "-0.0032672952663181",
         "-0.0038738708896001",
         "-0.0134623808805964",
         "-0.0078844890562256",
         "-0.0069280312411135",
         "-0.0127217903984155",
         "-0.0072743463422849",
         "0.0271119914335382",
         "-0.0129434710917387",
         "-0.0115642516354784",
         "0.000626861743884",
         "-0.0014615685913471",
         "0.0057500744989895",
         "0.0070687101495334",
         "-0.001238678077796",
         "0.0082677686873737",
         "-0.0504303698055401",
         "-0.0210572360002135",
         "0.0075396294978942",
         "0.0144162123277493",
         "-0.0004339431157694",
         "0.0371173906939605",
         "-0.0012557008811782",
         "0.0140402128573045",
         "-0.0103326963045428",
         "-0.0101273919738018",
         "-0.0130788272315328",
         "0.0043818845152165",
         "-0.0120238882272596",
         "0.0016155019118224",
         "0.0166666511745698",
         "0.0048651741501946",
         "0.0099989594498086",
         "-0.0012506302903131",
         "-0.0087645542915788",
         "-0.0021051438621133",
         "-0.0006330909869546",
         "-0.0125606782022993",
         "0.0044896763904767",
         "0.0193678887780233",
         "0.0134668842287533",
         "0.009476685275402",
         "0.0230612500527256",
         "-0.0070814689517515",
         "0.0165744342927125",
         "0.0070159256316697",
         "0.0077518375565748",
         "0.0016553813322754",
         "-0.0015555479670198",
         "-0.0063283696106348",
         "0.0153830990578931",
         "0.0063688761069167",
         "0.0056571618550824",
         "0.002955936472655",
         "-0.0079856497525052",
         "0.0056541353428758",
         "-0.0084811099079982",
         "0.0044210484655975",
         "0.0163619392617586",
         "0.0043306557065825",
         "0.0053431625758799",
         "0.0125872848946133",
         "-0.0120625548246963",
         "0.0071767848370167",
         "0.0033315556794151",
         "-0.0094078468163166",
         "0.0100558664123291",
         "0.0050699888103098",
         "0.0018343977765802",
         "0.0051267650909443",
         "0.0055560760979354",
         "-0.0029891603785054",
         "-0.0019987005661818",
         "-0.0030040550558136",
         "0.0133309749524885",
         "-0.0016219492324579",
         "0.0144403940366799",
         "0.0029358325175719",
         "0.014814239555478",
         "-0.0030741740050769",
         "0.0037003706503366",
         "-0.0014045006494906",
         "0.0014943378304863",
         "0.000789919401037",
         "0.0058762659464253",
         "-0.004359648497714",
         "-0.0016637725982022",
         "-0.0283333977074092",
         "0.0151665583347795",
         "-0.0039127632810903",
         "0.0128558417452089",
         "0.0002645813592849",
         "-0.0029080399810528",
         "0.0118426871450079",
         "-0.0207878822696739",
         "-0.0041030789765268",
         "0.0210479493772146",
         "-0.0060526495786539",
         "-0.0077663390676279",
         "-0.0055145842754733",
         "0.0064396643537512",
         "-0.0105751163879275",
         "0.0064667076000268",
         "0.0140995998941388",
         "0.0032559016615703",
         "0.0230680912601228",
         "0.0105453902975194",
         "0.0097563632935036",
         "0.0036969072276047",
         "-0.006445627339783",
         "0.0059820374800021",
         "0.0054438033693691",
         "-0.0117450850416861",
         "-0.0001685614725298",
         "0.0119710030663315",
         "-0.0129956926867409",
         "0.0072585256321142",
         "0.0132394943273634",
         "0.0003308957261931",
         "-0.006365695989572",
         "0.0047424059524221",
         "-0.0049685222867209",
         "-0.0109022519687397",
         "-0.028270860926237",
         "-0.0264090856946818",
         "0.0064033038791602",
         "-0.0146694389660108",
         "8.964265407906957e-05",
         "-0.0084298623835065",
         "-0.0050644758706017",
         "0.0135442026115",
         "0.0177578730870446",
         "0.0015861722991807",
         "-0.013813178861482",
         "-0.000624544552054",
         "-0.0066059055819857",
         "-0.0105139861781402",
         "0.0098991553162119",
         "-0.0061151701753388",
         "0.0173725701103224",
         "-0.011295074973932",
         "0.0025187116454359",
         "-0.0161406019784127",
         "-0.0020163043265059",
         "0.0029386926869876",
         "-0.030308584289635",
         "-0.0059490442639522",
         "0.0190937546920815",
         "-0.0019574820733408",
         "0.0048566397966227",
         "-0.0065061638826782",
         "-0.0002805981794027",
         "0.0062698595865193",
         "-0.002417931704014",
         "-0.0121188887918343",
         "0.0030196681611029",
         "-0.0034810760056893",
         "-0.0001888275513651",
         "-0.0024552217812637",
         "0.0050171198237378",
         "-0.0115851095692217",
         "-0.0025730517620502",
         "0.0006688634473932",
         "0.0002864323142608",
         "-0.007254058894716",
         "0.0055764835493399",
         "0.002677053437567",
         "-0.0074377859891308",
         "-0.0084542577977045",
         "-0.0024221696194344",
         "0.0180652933487146",
         "-0.0056287209172914",
         "-0.0026864491265082",
         "-0.0192400123259698",
         "-0.0119665604390537",
         "0.0100267255733574",
         "0.0044230986351607",
         "0.0066543233682216",
         "0.0054437038096166",
         "-0.0019336590684952",
         "0.0100745228972529",
         "0.0317445899597732",
         "-0.000836612386088",
         "-0.0156293338544245",
         "-0.0135148374159542",
         "-0.0089097282831477",
         "0.0022232892900784",
         "-0.0022183572401845",
         "0.0052199227603693",
         "0.0248100907740094",
         "-0.0079760037827268",
         "-0.0039727329536239",
         "0.0018042760003502",
         "-0.0057825689735661",
         "-0.002192901582105",
         "-0.0070711093950879",
         "-0.0068329705169837",
         "0.0",
         "-0.0084301148830325",
         "0.0165150936930422",
         "-0.0182656812626574",
         "-0.0047003444668605",
         "0.0138726108104851",
         "0.0109653574514103",
         "0.0003840373719683",
         "-0.0068487130875556",
         "-0.002330952556747",
         "0.0190809653074728",
         "-0.0440390145838793",
         "0.0195863359412966",
         "0.0165637241315577",
         "0.0019283018904538",
         "0.0321401283194553",
         "-0.0121200752879321",
         "-0.0067950176494534",
         "-0.0044660156467226",
         "0.005249537570469",
         "0.0058868793908946",
         "0.0397395209327053",
         "0.0105310792497341",
         "-0.0240770129476241",
         "0.0080089340669309",
         "0.0040182496033041",
         "-0.0016371864896309",
         "-0.009566421169101",
         "-0.0083707697704337",
         "0.0040815450138322",
         "0.015243880416252",
         "0.0095550343831047",
         "0.0005407864262747",
         "0.0081081791687145",
         "-0.0100983106735721",
         "0.0055971683876905",
         "0.0063739865513581",
         "0.0052631662542477",
         "8.875429500032617e-05",
         "0.003549238532376",
         "-0.0017683772182145",
         "-0.0012399746601948",
         "0.0045228350651531",
         "0.0122716258547639",
         "-0.0022675588459066",
         "-0.0113636971114439",
         "0.0067197786722181",
         "0.0225715198908689",
         "0.0058404271707888",
         "-0.0043549025093059",
         "0.0019726297620514",
         "-0.0036805985009513",
         "0.0105669669091288",
         "0.0042506242110984",
         "-0.0275120154177956",
         "-0.0063545396605997",
         "-0.0039421819641478",
         "0.0097625799224934",
         "-0.0128038091284958",
         "-0.006440745503366",
         "0.0010656706658302",
         "-0.0026612718811224",
         "0.0140531978063622",
         "-0.0039470904780745",
         "0.0007044583748538",
         "-0.0124074916756132",
         "0.0036531510928585",
         "0.0063920462843309",
         "0.011203194626236",
         "0.0115153347128909",
         "-0.0028459435040122",
         "0.0043244520082108",
         "0.0097312541857992",
         "-0.005569753570756",
         "0.0152520307757435",
         "0.0005941227040933",
         "0.0127236694079861",
         "-0.0201022018535008",
         "-0.0074364467755946",
         "0.0076644816269748",
         "-0.004016771138933",
         "-0.0199073382016798",
         "-0.0013133235592397",
         "-0.005873519132673",
         "0.009259198234627",
         "-0.0094364023548559",
         "0.0461321513401304",
         "-0.008010102459694",
         "0.0006799878711591",
         "-0.0078994629043245",
         "-0.0128424096700913",
         "0.0111880923728808",
         "0.0018012379876439",
         "-0.0030821149924028",
         "-0.006011772226806",
         "-0.0061344085745914",
         "0.0075632232858915",
         "0.0125971072304744",
         "-0.0019597876856188",
         "-0.0102450344861474",
         "0.0114724975952331",
         "0.0042640097027526",
         "0.0031419161383194",
         "-0.0014390458140711",
         "0.008392629368298",
         "-0.0015132679436449",
         "-0.0165024408439967",
         "-0.0044516726472818",
         "-0.0027517610952979",
         "-0.0032767164774876",
         "8.658828749097403e-05",
         "-0.0060553898441731",
         "0.0052219359667746",
         "-0.011774976019571",
         "-0.002453044241472",
         "-0.0042157336637275",
         "-0.0067030684800024",
         "0.005949140988265",
         "-0.0120045404093713",
         "0.0043776383180269",
         "0.016100429008941",
         "0.0007002789784102",
         "0.0039367340118585",
         "0.0044439798373969",
         "-0.0024290636868548",
         "-0.0190450958134519",
         "0.0027482381228045",
         "0.0029174752126321",
         "0.003438024944393",
         "-0.0069402148669729",
         "0.0031847020879316",
         "0.0074955511344529",
         "-0.0169802432743474",
         "0.0078355114078783",
         "-0.0015019866862647",
         "-0.0118295845008595",
         "0.0252925224471187",
         "-0.0037749039973569",
         "0.0291681405026751",
         "0.0084766891704097",
         "0.0461878742683994",
         "0.01468914590889",
         "0.0351914528667507",
         "-0.0157612984535626",
         "0.0036894698607254",
         "0.0074299854078692",
         "-0.0068317955664376",
         "0.0040647123438488",
         "0.0050603962665307",
         "0.0229279478090316",
         "-0.0290777047211542",
         "0.00662926078165",
         "0.0173548320433079",
         "0.0009900940396712",
         "-0.0072276167455105",
         "0.0099623347785255",
         "-0.0089535329378929",
         "-0.0032922974722394",
         "0.0149793826973392",
         "0.0078708987897688",
         "0.0131410762608108",
         "0.0002223523285695",
         "0.0064468976647857",
         "0.0010308058931443",
         "-0.0006620671490782",
         "0.0157504203560765",
         "0.0160133601098311",
         "-0.0188275239975306",
         "0.0009448604826587",
         "-0.0190981092799457",
         "0.015250258602542",
         "0.0016041506938111",
         "-0.0342166602421868",
         "-0.0179405423138349",
         "-0.0029936473537073",
         "-0.0244821892406676",
         "0.0073395994908163",
         "-0.0104982972626194",
         "0.0088677893228232",
         "-0.0050228017151875",
         "-0.0034705932425543",
         "0.0068861892916713",
         "-0.0126562433251395",
         "0.0080414427864097",
         "0.0374378220213458",
         "-0.0040350293862504",
         "0.0139885812904292",
         "-0.0072370362820234",
         "0.0018224481942095",
         "-0.0022737999544054",
         "-0.0546228954005652",
         "0.0033751567716804",
         "-0.007288189561436",
         "0.0249294049735135",
         "-0.0199937132759081",
         "0.0191164659326825",
         "0.0085119763002126",
         "-0.0090287661189459",
         "0.0275708738225575",
         "0.0098689191165337",
         "-0.0083218535153872",
         "0.0141658045002444",
         "-0.014347524868653",
         "-0.0035427562234449"
        ],
        [
         "ABBV",
         "-0.0019196147651494",
         "0.0052529792730673",
         "-0.0047105207698251",
         "-0.0025879401191897",
         "0.0111950585724658",
         "0.0042523064533956",
         "0.0023361550561482",
         "-0.0173678915893416",
         "0.0176001778589951",
         "0.0066976596539132",
         "-0.0114783121585945",
         "-0.0161232292177838",
         "-0.0078927987169165",
         "0.0013638099323214",
         "0.0070369175668849",
         "0.0085655544266729",
         "0.0129628974424356",
         "0.0143415271393623",
         "-0.0074682177968339",
         "0.0008035559459929",
         "0.011824657174343",
         "0.0152214655114897",
         "-0.000568369107718",
         "0.013366537285075",
         "0.0068757406075317",
         "-0.002159945907358",
         "-0.0034220555434272",
         "-0.0049049542804411",
         "0.0069712626149973",
         "0.0123077373744204",
         "0.0076678873887181",
         "-0.0061697873285841",
         "-0.0064840816621623",
         "0.0106226787500824",
         "0.0082440607695712",
         "-0.0101525704618389",
         "0.0293934728242004",
         "-0.0118361557693247",
         "-0.0005415242472672",
         "0.0127295634247637",
         "0.0056160777860427",
         "0.0009968773373265",
         "-0.0073723852591681",
         "-0.0153896036635794",
         "0.01148482574018",
         "0.0022171213002664",
         "-0.0007372899532571",
         "0.0203944011587",
         "0.0248522063391158",
         "0.0010906204759073",
         "0.016276750716742",
         "0.0038462938998984",
         "0.0053393826846341",
         "-0.0002500953205679",
         "-0.0099368270542842",
         "0.0117408203329241",
         "0.006551119619695",
         "0.0039668924491844",
         "0.0012967446430525",
         "0.0096805704069506",
         "-0.0100152698757092",
         "0.0035160723265594",
         "-0.0048560859864296",
         "0.0095125254001167",
         "0.0335312441887485",
         "0.025871708973636",
         "0.0096955538972776",
         "-0.0293212811100099",
         "-0.0148382126989472",
         "-0.0418928846306414",
         "0.0211388003072152",
         "-0.0181751854335657",
         "-0.0188878043548214",
         "0.0022384611019963",
         "0.0116144365720907",
         "-0.0222682943819066",
         "0.0084523088070433",
         "-0.0007681552408496",
         "0.0092202429232213",
         "-0.0083111688427739",
         "-0.0603290456508219",
         "0.0067405774359341",
         "0.0116994892382846",
         "0.0133019653188437",
         "0.0038921189468175",
         "0.0042712803878175",
         "-0.0122359097628916",
         "0.007485412854352",
         "-0.0008546043156169",
         "0.0153328186773551",
         "-0.0051200972791893",
         "0.0128337142650338",
         "-0.0044380558839257",
         "-0.0151828955706302",
         "-0.0046577679853807",
         "-0.0046797896359187",
         "-0.0197336533513716",
         "0.0072960503639365",
         "0.0191131847283441",
         "-0.0091471607514037",
         "-0.0037855489795274",
         "-0.017533299845842",
         "-0.0091608774937789",
         "0.0049993134387027",
         "0.0028621081665363",
         "-0.0043487390956313",
         "0.0178121438428633",
         "0.0007376417218225",
         "-0.0255946861143264",
         "-0.0153338164831504",
         "-0.0263967101783483",
         "-0.0129108156777895",
         "0.0034152266083247",
         "0.007676224456425",
         "-0.006252196151921",
         "0.0375326840559286",
         "0.0285075415865789",
         "0.0128082071498638",
         "0.019337689233404",
         "0.0052513876591604",
         "-0.0042442817720905",
         "0.0108203169837579",
         "-0.0063578881205533",
         "0.004178550590584",
         "0.0008454359296377",
         "-0.0090950561289688",
         "-0.0034748977635052",
         "0.005592290962415",
         "0.0024859796006531",
         "-0.0050251110534259",
         "-0.0020333361287594",
         "-0.0019901819935208",
         "0.0211379975935108",
         "-0.0263638127448667",
         "0.0011367615904109",
         "-0.0136905663296482",
         "0.0004062564176301",
         "0.0048732119024794",
         "0.0117869506782875",
         "0.0043268179856108",
         "0.0018559027450388",
         "-0.0092623237531155",
         "-0.0416694561502232",
         "-0.0229251767469127",
         "0.0012124410778273",
         "0.0057696420603594",
         "-0.0161473697176115",
         "-0.0063347646809639",
         "0.0166620876197107",
         "-0.0006414204092359",
         "0.0049199077345989",
         "0.008088488726323",
         "0.0036600295381679",
         "-0.0021739724221634",
         "0.0018272543079069",
         "-0.0077868607557732",
         "-0.001060580418139",
         "0.0039637799649954",
         "-0.0106451663353128",
         "-0.0094059105162116",
         "-0.0079843427969032",
         "0.0102966328893621",
         "-0.0213881335570401",
         "-0.0046937411960914",
         "-0.0011789846730744",
         "-0.0080413136708891",
         "0.0296742544345069",
         "-0.0156735293081549",
         "0.0096123765716928",
         "0.008140313088965",
         "0.0130490518354378",
         "0.0064044195339496",
         "0.0057985118759473",
         "-0.0260827962232916",
         "0.0073631492059083",
         "0.0212109747946935",
         "0.0108764897866542",
         "-0.009718055429675",
         "-0.0062387272476476",
         "-0.0102986095055515",
         "0.0192430488514996",
         "0.0003499220461309",
         "-0.0129316962631099",
         "0.0036115824883522",
         "0.0203218831424503",
         "-0.0130013831258644",
         "-0.0596272421524664",
         "0.0306238387765556",
         "0.0265323668957266",
         "0.0094373450751465",
         "-0.0212097377533722",
         "-0.0109062218946612",
         "-0.0032428882605528",
         "0.0231364354841365",
         "-0.0108120178821276",
         "0.0313918738225227",
         "0.0001402883676662",
         "0.0102841813158118",
         "0.0013156212993434",
         "-0.010166002860815",
         "-0.0013973110488183",
         "0.0288951414730906",
         "0.0260439335203928",
         "-0.0070913231588857",
         "0.017954789870437",
         "0.0064915600156572",
         "-0.0383713830108251",
         "-0.0081975563377569",
         "0.0034836147466994",
         "-0.0162682914722241",
         "-0.0006919358788298",
         "0.0059548849558015",
         "0.0194107459939192",
         "0.0029035720014203",
         "-0.0061269024108735",
         "0.0142258534228787",
         "0.0029386650387652",
         "0.01052218384577",
         "0.0085671640471882",
         "-0.0076451163959988",
         "0.0019096665887714",
         "0.0185331901499623",
         "0.01374367488187",
         "0.0170579758625528",
         "-0.0025031453244824",
         "0.0014430334667017",
         "-0.0074553621925356",
         "-0.0014517776498831",
         "0.0188371796557782",
         "0.0027917135791939",
         "0.0125597347927668",
         "0.0017108394514127",
         "-0.0013420374201835",
         "0.0102613782847638",
         "0.0035672114531863",
         "-0.0176518679849254",
         "0.013860144884177",
         "-0.0032059085660477",
         "0.0004248278511278",
         "-0.0106756734770246",
         "-0.0160639445454877",
         "0.0062937908868156",
         "-0.0056350985366266",
         "0.0101506107174498",
         "0.0065346460569717",
         "-0.001040948669977",
         "-0.0006743717658087",
         "-0.0046631039319746",
         "0.0020341718130645",
         "-0.0058439644577069",
         "0.0047646442896154",
         "0.0080672253638356",
         "-0.0012215997016051",
         "0.0187166784348089",
         "-0.0293603858498503",
         "-0.0124955953226111",
         "-0.0154723558887583",
         "-0.0222878721085129",
         "0.0090660781965199",
         "-0.0050131521049314",
         "-0.0237519940289691",
         "-0.0032839858026743",
         "0.0059174736270357",
         "-0.0069522685125824",
         "-0.0057891407274535",
         "0.0006768925415099",
         "-0.0026388817568604",
         "-0.0075984794253524",
         "-0.0043066645793299",
         "0.0144180585964439",
         "-0.007783465213864",
         "-0.0120054014848079",
         "0.0024853358648744",
         "-0.0012395299576137",
         "0.000827455206515",
         "-0.0036514769694594",
         "0.0282829421903325",
         "0.0225285842650351",
         "0.0110488795923868",
         "-0.0074156635570836",
         "-0.0100269375864653",
         "-0.0101283854452376",
         "0.0119040942403481",
         "0.0045600264279372",
         "-0.0087500228064335",
         "0.009291935471605",
         "0.0042085388379915",
         "0.0102809151147569",
         "-0.0024629682890411",
         "0.008901936588525",
         "-0.0057319583791842",
         "0.0108822313576197",
         "-0.0049980819581159",
         "-0.0151340523932331",
         "-0.021774388481334",
         "-0.0150404075039859",
         "0.0160164884765268",
         "0.0149623603278987",
         "0.0125038920292879",
         "0.0013649920238743",
         "0.0080487916087332",
         "-0.0069542471806881",
         "0.0123199542059895",
         "0.0041636098815716",
         "-0.0197743518255659",
         "0.0106072360594153",
         "0.0175145230793642",
         "-0.0030376332333995",
         "0.0045069284696397",
         "-0.0015798338692665",
         "-0.0005063888233743",
         "0.009181869708642",
         "0.0065883596476621",
         "-0.0039893773950187",
         "0.0063838548534882",
         "0.0046641348857523",
         "-0.0016713263149757",
         "0.0006199583337751",
         "0.0060725682869373",
         "0.0112506145815829",
         "-0.0067612193579147",
         "-0.0025373401522547",
         "-0.0098648226903581",
         "0.0101510726156743",
         "0.0032877304065148",
         "0.0041423336611308",
         "0.0102824145756243",
         "0.004997871421845",
         "-0.0187992932240897",
         "-0.0799135513391385",
         "0.0151138922088573",
         "0.0171387928627706",
         "-0.013597118328137",
         "-0.0156311487774887",
         "-0.0126633356857251",
         "0.0045468950264546",
         "-0.0039184927714474",
         "-0.0042047538113183",
         "-0.0027921810413652",
         "0.0011609067299662",
         "0.0038201515914997",
         "-0.0038056135707607",
         "-0.022511751916446",
         "0.0004186954524574",
         "0.000627895118787",
         "0.0116424973580711",
         "-0.0014472810608934",
         "-0.0164248915663033",
         "-0.00961297888389",
         "-0.0179239857742184",
         "-0.0076468424998659",
         "-0.0081419032982635",
         "0.0111404000596739",
         "-0.0327630227075438",
         "0.0257041891395637",
         "-7.279531046722187e-05",
         "-0.0104489014261706",
         "0.0079010785956143",
         "0.008351535777137",
         "0.0039233609529736",
         "-0.0032568192966037",
         "0.0042112957204374",
         "-0.0150387425543019",
         "-0.0024958476019486",
         "0.020237124207826",
         "-0.0059147849387068",
         "-0.006965430144966",
         "0.004018701881562",
         "-0.0108434510435548",
         "-0.0071366461413207",
         "-0.0174138106997751",
         "-0.0006787370043952",
         "0.005433521920108",
         "0.0112588123795371",
         "0.0020779711849125",
         "0.0193319575546435",
         "-0.0026884327146911",
         "-0.0127503038177299",
         "-0.0074540453688702",
         "0.0080302618017307",
         "-0.0043518863879032",
         "0.0006740228086441",
         "0.0181150903595175",
         "-0.0086757386298674",
         "0.0129791530987481",
         "0.0080539908489238",
         "0.0327572853727049",
         "0.0109008304844173",
         "-0.0038959764108308",
         "-0.0108255731361289",
         "0.0019064553352137",
         "0.0489782867073076",
         "0.0134362149343927",
         "-0.0084188624378268",
         "-0.0069528644879052",
         "0.0056551195512981",
         "-0.0022092349682304",
         "-0.008856287598413",
         "0.0175998404821668",
         "-0.0047230114597468",
         "0.0076862013633998",
         "0.0044439042498336",
         "0.0048862371202709",
         "0.0005917148372949",
         "-0.0009853231841874",
         "-0.0037468297660601",
         "-0.0100958110325513",
         "0.0007999507922864",
         "0.0001332185637521",
         "-0.0127864115656027",
         "-0.0078251613238956",
         "-0.0030595025105071",
         "0.0004092225692406",
         "0.0050444590941496",
         "0.0010853388515763",
         "0.0049462142208289",
         "-0.0091693631831952",
         "0.0084375004152803",
         "-0.0141699615702867",
         "-0.0033538297019115",
         "0.0226632295722453",
         "0.0007386996656342",
         "0.0001342198175506",
         "0.0015434845515049",
         "0.0126612723418104",
         "0.0164064523755844",
         "-0.0098932270423417",
         "0.0119643500199313",
         "-0.0029231623774941",
         "0.0007817599385195",
         "-0.0011718828218887",
         "-0.0044972228339016",
         "0.0125050105495909",
         "-0.0047850263507939",
         "-0.005067837992448",
         "-0.0057467385781285",
         "-0.0209524418308705",
         "-0.0054339524749158",
         "-0.005531374553218",
         "0.0017637860222221",
         "-0.0016252520688933",
         "0.0053578577222388",
         "0.0058688984392274",
         "-0.0014755267103186",
         "0.0030223094532264",
         "0.0029758236532155",
         "-0.0022925836548564",
         "-0.0049338469195174",
         "0.0132446699940955",
         "0.0006704324078405",
         "-0.0251875699383371",
         "0.0048789383929666",
         "-0.0102578201402184",
         "0.0109170150101858",
         "-0.0071765800585038",
         "-0.0004132035678159",
         "-0.0431816976248007",
         "0.0213057563932057",
         "-0.0050038707517547",
         "0.0091371328917153",
         "0.0055451522923501",
         "-0.0128439423827265",
         "-0.001555611487028",
         "0.0067989583428431",
         "-0.0009144759802138",
         "-0.0280927806104303",
         "0.0039843125499601",
         "0.0003610053318336",
         "-0.004183593701876",
         "-0.003332014486309",
         "0.0049419517981119",
         "0.0001447258441553",
         "7.235245080816632e-05",
         "0.0030364860642484",
         "-0.0018740555677511",
         "0.0014442252227984",
         "0.0030288361093597",
         "-0.0072612271623347",
         "0.0030416603019161",
         "0.0280864248519963",
         "0.0071634431059526",
         "0.005160046264576",
         "0.0029136917467049",
         "0.0125199158948763",
         "0.0108620954412685",
         "0.0088532088962007",
         "0.0131297067886992",
         "0.0132239866610555",
         "0.0069171206280096",
         "0.0037588944140709",
         "-0.0054234578231741",
         "-0.0040249716024958",
         "0.0011734691573381",
         "-0.0124351246691061",
         "0.00593319974472",
         "0.0154008028231971",
         "-0.0020654818372586",
         "0.0016815667416612",
         "-0.0008392678737684",
         "0.0014217167599519",
         "0.0312962696474439",
         "0.0040047269106133",
         "0.0062319182587302",
         "0.0042114469723437",
         "-0.0043789277604621",
         "0.0054513444500274",
         "0.0158954677128895",
         "-0.0067317321621361",
         "0.0010478844117871",
         "-0.0056649965503482",
         "0.0034678227855082",
         "0.0077759076094836",
         "0.0090019594719277",
         "0.0037627029001019",
         "0.0127576244364895",
         "-0.0195819284667203",
         "0.0055413710021507",
         "-0.0044209420369351",
         "-0.0029804142541838",
         "0.0061619076284475",
         "-0.0031531545045707",
         "0.0194040025840158",
         "0.0064443122130506",
         "0.0153553566322077",
         "0.0118533464429335",
         "0.0099255455140199",
         "-0.0012570906286283",
         "-0.0040619229807974",
         "-0.0058019201715197",
         "0.0012710894517558",
         "0.0065209960876786",
         "0.0124411181989958",
         "0.0050966224312847",
         "-0.0098034393239873",
         "-0.0034706868766951",
         "0.009192530712244",
         "0.0075813487406874",
         "0.0040428482766809",
         "0.0010066869973761",
         "-0.0055309427740122",
         "-0.0109551029528609",
         "0.016245364301993",
         "-0.0103962307898111",
         "0.0119175329330261",
         "0.0106049746926841",
         "-0.0027062630861484",
         "-0.0095253786763185",
         "0.0043612153646144",
         "0.0071813295029117",
         "-0.0058588739373446",
         "0.0074502576655408",
         "-0.0183223950895758",
         "0.0034293070940509",
         "0.0065550177965982",
         "-0.0188690090323312",
         "0.0069779413062995",
         "0.0053521222759553",
         "0.000448368726706",
         "0.0036968254469182",
         "0.0064735625009018",
         "0.0097033763756715",
         "-0.0073586125462082",
         "-0.00038727587711",
         "-0.0185953840666365",
         "-0.053177584376669",
         "0.0125073957634633",
         "-0.001176497318401",
         "0.0020023354627221",
         "-0.0065239952536046",
         "-0.0089334292950533",
         "-0.0222329546331525",
         "-0.0037587790350673",
         "0.005381071090879",
         "0.0105206669717601",
         "0.0024962077436354",
         "0.0106279874048342",
         "0.0088937651469769",
         "0.0098276881564971",
         "-0.0102629411141438",
         "-0.0030395457587621",
         "-0.0458483628251663",
         "0.0119032181079734",
         "0.006934092686009",
         "-0.0056567041715811",
         "-0.0056269892884113",
         "0.0185312546032643",
         "-0.00647169986559",
         "-0.0011061300868452",
         "-0.0129189791282607",
         "-0.0003118270562205",
         "0.0021820900625288",
         "0.0032971919076258",
         "0.0019220251750686",
         "0.013614690890003",
         "0.0034190440386079",
         "0.0125950614243048",
         "-0.0111765434735843",
         "-0.0099052905090635",
         "-0.0203767076754649",
         "-0.0084580923084482",
         "-0.0075826148610578",
         "-0.0109511733925047",
         "-0.003540591799317",
         "0.0098196719938197",
         "0.0315400148105584",
         "-0.0065120675424611",
         "0.0121729990315104",
         "0.0203528114534694",
         "0.018919234081518",
         "0.0050424257751793",
         "0.0061386609917957",
         "-0.016191499015415",
         "-0.0096004480850305",
         "0.0028297729974038",
         "0.0121877467830269",
         "0.0064652787079235",
         "0.0099010832926931",
         "0.004493575142644",
         "-0.0101086991071794",
         "0.0137918944187054",
         "-0.0115202026244769",
         "0.0023424690924473",
         "-0.0126203629908876",
         "0.0149712147089637",
         "-0.0067048036080279",
         "-0.0258847801405905",
         "-0.0127741590499332",
         "0.0208129926875981",
         "-0.0043647945213768",
         "0.0091881615956381",
         "0.0005355094721943",
         "0.0105269899597044",
         "0.0021775938639465",
         "-0.0041485714763307",
         "0.0069630456603615",
         "0.035874691536551",
         "-0.0235637287936185",
         "0.006894925788013",
         "0.0074862260587664",
         "-0.002649794769293",
         "0.0176726257146029",
         "0.0338232825190456",
         "0.0164132681336117",
         "-0.0173903484535039",
         "0.026602090731451",
         "-0.0078166283550424",
         "0.023688825948442",
         "-0.002213967828458",
         "-0.0260447963013197",
         "0.0073226733277889",
         "0.0096925044013884",
         "0.0154125361823449",
         "-0.002468551399131",
         "0.0013163648003591",
         "0.0055211178576701",
         "0.0092558094830585",
         "0.0020725511433739",
         "0.0025853306991208",
         "0.0153171510247784",
         "-0.003657225559446",
         "0.0019373362936052",
         "-0.0008141936305852",
         "0.0060091321125743",
         "-0.0005568084627272",
         "-0.0076985546738566",
         "-0.0026542081159248",
         "-0.001125870203845",
         "0.0057895136554841",
         "0.0070297714877283",
         "-0.0034397806935709",
         "-0.0210649653418917",
         "0.0027999914203902",
         "0.0156152839954579",
         "0.0149170552313637",
         "-0.0238775700451218",
         "-0.0029292207911948",
         "0.0009792216040271",
         "0.0078265934261165",
         "-0.0116487203411302",
         "-0.0026363395282614",
         "0.0035244650565671",
         "-0.0007747178952145",
         "0.0018607483180577",
         "-0.0016509894214771",
         "-0.0116272940269568",
         "0.0033461845148274",
         "0.0150599514901015",
         "0.0138096810148218",
         "-0.0026330034091617",
         "-0.0007108242745336",
         "-0.0069607631698134",
         "-0.0059350409206043",
         "-0.0034998145895073",
         "-0.0030991125206153",
         "0.0090151467487158",
         "-0.0020539273395043",
         "-0.0008232457311512",
         "0.007518357141814",
         "-0.0115404800569968",
         "-0.0072969097676258",
         "-0.0099234003890419",
         "0.0015379329310878",
         "-0.0122843236736766",
         "0.0119009374933072",
         "-0.0046619434248635",
         "0.0094208418689079",
         "-0.0094911140886962",
         "0.009741770507746",
         "-0.0012125088295147",
         "0.0636051266339099",
         "0.0117617606999351",
         "-0.0015695239082853",
         "-0.0151314079699739",
         "0.0060357068000549",
         "-0.0023799276148064",
         "-0.0034294861171407",
         "-0.0050371127727308",
         "-0.1256641992281719",
         "-0.019148107932375",
         "-0.004325059249005",
         "-0.0042266772155652",
         "-0.027353582769773",
         "0.0078185851568046",
         "0.0017440943531112",
         "0.0071440670254985",
         "0.0236648382542572",
         "0.0303964855008442",
         "0.0006216253588007",
         "0.0230430043955569",
         "0.0107100552057004",
         "-0.0008193658346183",
         "-0.0063411436900729",
         "-0.0014854876324816",
         "-0.0277684707462297",
         "-0.001643565253073",
         "0.0001135633159605",
         "0.0021567521650456",
         "-0.0050971874480845",
         "-0.0074002364451114",
         "-0.0067670836612555",
         "0.0010392969868107",
         "-0.0100363461470178",
         "0.0218493517381073",
         "-0.0134564892635798",
         "-0.0086696173643554",
         "0.0236708195596893",
         "0.0160039918788355",
         "0.0090251606525653",
         "-0.0044444095161126",
         "-0.0066406408922845",
         "-0.010167972040784",
         "0.0085130635127259",
         "0.0097917919986241",
         "0.0099197435174624",
         "-0.0061802674067066",
         "-0.0031649360850013",
         "-0.0057371907879378",
         "-0.0186554240861506",
         "0.0089626382508425",
         "-0.0067329823784628",
         "-0.0147202665863337",
         "0.0137145869698347",
         "-0.0123201084458212",
         "0.0061203356934516",
         "-0.0197555712875443",
         "0.0086879649350473",
         "-0.0021679010781666",
         "0.0387550556884186",
         "-0.011814496517372",
         "0.0025742099419245",
         "0.0022251775269723",
         "0.0469684829610128",
         "0.0339314860324453",
         "-0.000999278281021",
         "0.0094762096750329",
         "0.0063624677527724",
         "-0.0122816958058141",
         "-0.0013641671962874",
         "0.0078281390348042",
         "0.0060991503897556",
         "0.0023315939801293",
         "-0.002998205120918",
         "0.0175247317470372",
         "0.0056051361660445",
         "0.0178870252972684",
         "0.0059737097893084",
         "0.0098970100088049",
         "0.0002939907638908",
         "-0.0055353747767145",
         "0.0099009788330648",
         "0.0195590722771465",
         "0.0117208099576013",
         "-0.0175903502333818",
         "0.0181940943057119",
         "-0.0037344923637606",
         "0.0167970748046801",
         "0.011059846302351",
         "-0.0141697237993487",
         "-0.0071631908417056",
         "-0.0024049574497473",
         "0.0010399507497493",
         "0.0127496141323022",
         "-0.0028908289850626",
         "-0.0074818487915745",
         "-0.0013662835664912",
         "-0.0091999215624333",
         "-0.003999798492167",
         "-0.0374336625697462",
         "-0.0001986355869153",
         "0.0070541500823617",
         "0.012677489525255",
         "0.0206050865037807",
         "-0.0155116704295193",
         "-0.0052358733663886",
         "-0.017301006379672",
         "-0.0728030192289803",
         "-0.0021930057580403",
         "-0.0583222048324921",
         "0.0237377192545678",
         "-0.0313611725772176",
         "0.0048794921212149",
         "0.0231362126374445",
         "-0.0037191684725536",
         "-0.0289593342058805",
         "0.0076305502869911",
         "-0.0163593371940006",
         "0.0212740658161703",
         "0.0188169196422534",
         "0.0187517198994859"
        ],
        [
         "ACN",
         "-0.0071462051918919",
         "-0.0176107150813542",
         "-0.0482902789508572",
         "-0.0191799147599128",
         "0.0060688670648489",
         "0.0056566134791447",
         "0.0081520627918107",
         "-0.0419417380420644",
         "-0.0221659024540191",
         "-0.0143759163174223",
         "-0.0130357192791339",
         "-0.0030543914509579",
         "-0.0206017329387898",
         "0.0100407752370639",
         "-0.0119468446337521",
         "-0.0151069488183724",
         "0.0105185960746281",
         "0.0284679306117392",
         "0.0312964117467833",
         "-0.0004522488403112",
         "0.0171182015797946",
         "-0.03872367170069",
         "0.0056431401263836",
         "-0.010187005962214",
         "0.0032270893847878",
         "0.0303125481449109",
         "-0.0369588494896778",
         "-0.0385816879273728",
         "-0.0092653890348317",
         "0.0100575002929566",
         "0.0130839257553661",
         "-0.0323922548840388",
         "-0.005357950362016",
         "-0.0002179623601621",
         "-0.0247576341744196",
         "0.0096115840700561",
         "0.0200525970090927",
         "-0.0201236165443416",
         "-0.0147773401031914",
         "0.0224184197708987",
         "0.0019478218795596",
         "-0.0150180778851605",
         "-0.0290935873994937",
         "-0.0111467260259509",
         "0.0258603951704188",
         "0.0003230606286115",
         "0.0066557034600769",
         "-0.0125171770763798",
         "0.0277886566980818",
         "0.0274485653216882",
         "-0.0166506720366151",
         "0.0139278688762074",
         "0.0016977332369059",
         "0.0091526770817773",
         "-0.0212844249570681",
         "0.0149454484662479",
         "0.0074393128193048",
         "0.0092461410006343",
         "0.0300839146105571",
         "-0.0065455627490496",
         "-0.0036339404683705",
         "0.0101117995680668",
         "0.0112435439427069",
         "-0.0047900785581841",
         "-0.0074675955407443",
         "0.0044376775429975",
         "-0.0083386422042921",
         "-0.0343740042183208",
         "-0.0016499666471028",
         "-0.000521975708553",
         "-0.0187965099718324",
         "-0.018374056959075",
         "0.0222255217955611",
         "0.0096703368328219",
         "-0.0042016806722688",
         "-0.0357110152562711",
         "0.0193692714150979",
         "-0.0433052802406249",
         "0.0",
         "0.0354338655000086",
         "-0.0429518653891219",
         "0.0141164279893382",
         "0.0007222564617492",
         "0.0329374075293222",
         "-0.0513242978972311",
         "-0.0099098502740153",
         "-0.0278958816417779",
         "0.0003475634830052",
         "-0.0231228816217619",
         "0.00096080216886",
         "0.0197718396327042",
         "-0.0020921813633597",
         "0.0171224926602771",
         "-0.0580958332590164",
         "-0.0020062968545534",
         "0.0111109276155814",
         "0.0243627621046096",
         "-0.0143970151586273",
         "0.0011814218573253",
         "0.0425903264999369",
         "0.0432173495929526",
         "-0.0187077272302463",
         "0.0006366138542379",
         "0.0266868628187173",
         "-0.0054466104562003",
         "-0.0007214274785158",
         "0.0059068307036993",
         "-0.0126902229225881",
         "-0.0238241593007033",
         "-0.0318853297912903",
         "-0.0332509004922328",
         "-0.0049906804316417",
         "0.022062960351179",
         "-0.0365943873524363",
         "0.0165376091669349",
         "0.0266902560369113",
         "0.0129802372097034",
         "-0.0019898160536295",
         "0.0473707129678546",
         "-0.0225474199971867",
         "-0.030141487851083",
         "-0.0140591383552414",
         "-0.0077196353241661",
         "0.0108050953096778",
         "-0.019526163782861",
         "0.0027982033826967",
         "0.0125389519532186",
         "-0.0011809267935497",
         "-0.0150499294923911",
         "-0.0043658662869943",
         "-0.0019433769558773",
         "-0.012859757240785",
         "0.0106079795834634",
         "-0.0105702541379492",
         "0.042397276768447",
         "0.0057847353229874",
         "0.022544879677274",
         "0.0",
         "0.0044443996019165",
         "-0.0142072771398146",
         "0.0433059708353074",
         "0.020670167593952",
         "0.0084959598028671",
         "-0.0049632311540896",
         "-0.0074161226189277",
         "0.0188111635185932",
         "0.0079175880313433",
         "-0.0040563592962191",
         "0.003167795837375",
         "-0.0017399346647278",
         "0.0215952093704825",
         "-0.0065090785552247",
         "0.0191462486833837",
         "-0.000343305913372",
         "0.0014048974727896",
         "-0.0072634023630645",
         "0.0031713319453783",
         "-0.0130531586474814",
         "-0.0167780303391692",
         "-0.0106453036094813",
         "-0.0014345349984684",
         "0.0114608609481992",
         "-0.0375763634710513",
         "-0.0100291009198564",
         "-0.0089448761579391",
         "-0.0138122726143785",
         "0.0011442099775862",
         "-0.016343966695722",
         "-0.0021475220873051",
         "0.0116418996635021",
         "0.0041845989653535",
         "0.0089943610585907",
         "0.0162107839333676",
         "-0.0465354842003076",
         "-0.0106209442243326",
         "-0.0167667105042762",
         "-0.0043087194199507",
         "0.0084350355410247",
         "-0.0172378353985181",
         "-0.0178356030484704",
         "-0.011679843518815",
         "-0.0089203919672222",
         "-0.00938519590947",
         "-0.0046595610927672",
         "0.0218070482029133",
         "-0.0139732304964623",
         "-0.0037558621593518",
         "0.0294985561922147",
         "0.0355620203399604",
         "0.0001096599470651",
         "-0.0177519056273595",
         "-0.0362194077826659",
         "-0.0071618248802438",
         "-0.0188868094263391",
         "-0.007107089796686",
         "0.0295517018593869",
         "-0.0184107248643323",
         "0.0375910750664791",
         "0.0069788172491793",
         "3.792592392826144e-05",
         "-0.0086344422111804",
         "0.0297578580812707",
         "0.0212931592434089",
         "0.0192509174815675",
         "-0.0026369285328355",
         "-0.0036804455429236",
         "0.0320614278016737",
         "-0.0134823022619419",
         "-0.0085596423579452",
         "-0.0320458055066363",
         "-0.0571482447784901",
         "0.01666160693147",
         "0.0302879170799978",
         "-0.0001486370584324",
         "-0.0096272755751944",
         "0.0772405684297592",
         "0.0106961721976615",
         "-0.0040677278829557",
         "0.0129453951320437",
         "-0.0038955920496028",
         "-0.0149907038790693",
         "-0.0022289735561273",
         "0.0018148371229456",
         "0.0204517343079997",
         "0.005599368271947",
         "0.0063490274772999",
         "-0.0195682162117403",
         "-0.0090157395551719",
         "0.0449684110217929",
         "0.006313517341836",
         "-0.0089157674297705",
         "-0.0246226996987571",
         "-0.0250391367170552",
         "0.0044846351039069",
         "0.0190451044450628",
         "-0.0128016089583513",
         "0.0136263522101802",
         "0.010296204979727",
         "-0.0132046630197424",
         "-0.0354435748171617",
         "-0.0591917602505779",
         "-0.0343314673664142",
         "0.0254501728992553",
         "0.0268042043030645",
         "-0.0154693604922655",
         "0.0050236569489638",
         "-0.0029314798835914",
         "-0.0082544685642141",
         "0.0199907882787855",
         "-0.0057378323081253",
         "0.0128165781172073",
         "-0.0034043049753788",
         "-0.0236132624635256",
         "0.0236898948840476",
         "0.0168642523693101",
         "0.0043106446723681",
         "0.0265510855531896",
         "0.0098191992210425",
         "-0.0059890619582905",
         "0.0097114954506718",
         "-0.0245016268362688",
         "-0.0180279958997711",
         "0.0277767142159999",
         "-0.0040290165959584",
         "-0.0160020610818798",
         "-0.0062212516639075",
         "0.0040271865226952",
         "0.0109750433699329",
         "-0.0106393912008599",
         "0.0172424917212055",
         "0.0163052999344632",
         "0.037023937554768",
         "-0.0165929141612992",
         "-0.0163889003532394",
         "0.0117407100431157",
         "-0.0108053788730504",
         "0.0015805999785367",
         "-0.0042082446553372",
         "0.015459832767406",
         "-0.0124153436905066",
         "0.0101134639011346",
         "-0.0223537428848462",
         "-0.0148280885442989",
         "-0.0285146953364056",
         "0.0017834970352494",
         "0.0059338581256938",
         "-0.0173284998799964",
         "-0.001050372625688",
         "-0.0026294656410662",
         "-0.0073806981187518",
         "0.0063357124611993",
         "0.0148534439901382",
         "0.0015973334258574",
         "-0.0201388559438864",
         "-0.0020439515189631",
         "-0.0147916727835802",
         "-0.0262165633215549",
         "-0.0064835529482125",
         "0.0046555717849106",
         "-0.0249919239709583",
         "0.027420007266951",
         "-0.0115452165270311",
         "0.0102001180614368",
         "0.0200752141183999",
         "-0.0168853371816443",
         "0.072610301471353",
         "0.0012515166101592",
         "0.0072057921051627",
         "0.0037963019571733",
         "0.0179636609564077",
         "0.0097163355276059",
         "0.011144106873562",
         "0.0001050194767924",
         "0.0",
         "-0.0157781840516756",
         "0.0013151909165167",
         "-7.092208147208012e-05",
         "0.016507919950605",
         "-0.0050837529893615",
         "0.0053211252875153",
         "-0.0211027458588353",
         "0.0026144235223803",
         "-7.152921923547773e-05",
         "-0.0002144903555943",
         "-0.015541154476103",
         "0.0028307118269663",
         "0.0033292409273619",
         "-0.0236245847565336",
         "0.0018837863768306",
         "0.0156337396943559",
         "0.0175710496682164",
         "-0.0031038610298405",
         "-0.0095913725616787",
         "-0.0056368518965085",
         "-0.0315430058861053",
         "-0.0031894402793254",
         "-0.0031244950654276",
         "-0.0050601401509597",
         "0.0205329845155448",
         "0.0125702378401315",
         "0.0180702592660162",
         "0.0011542803491535",
         "0.006053979403287",
         "0.0194847952107219",
         "0.0100130427618876",
         "0.008453044201746",
         "0.0035871139778433",
         "-0.0097955388440641",
         "-0.0044427148245393",
         "0.017223071282225",
         "0.0405814331071525",
         "0.0159090245670692",
         "-0.0081378833629699",
         "-0.0023535087940858",
         "0.0202815785960255",
         "-0.022286999930318",
         "0.0117918344620404",
         "0.0097064605783885",
         "-0.0118962552363812",
         "0.0045229761028826",
         "0.0089401471993657",
         "0.0118147747562391",
         "-0.0003491456588855",
         "0.027678031127762",
         "-0.0130648227482582",
         "-0.0066970060031538",
         "-0.0132325277017421",
         "-0.018997532529049",
         "-0.0287063796459817",
         "-0.0034177039813926",
         "0.0114319460140255",
         "0.00302517582904",
         "0.0219077159664056",
         "0.0008107279582185",
         "0.0077452455841358",
         "-0.0034408348712645",
         "-0.006227648994828",
         "-0.007176047154599",
         "0.0087977074985312",
         "0.0041173983571918",
         "0.0171093574505669",
         "0.004237374675827",
         "0.0017765245736116",
         "0.012699130160984",
         "0.0082868443680137",
         "-0.0112581366022326",
         "-0.0198557643401756",
         "0.007456736606948",
         "-0.0047966748697539",
         "0.0137251584071409",
         "-0.0034004656580871",
         "0.0072983134750237",
         "-0.0102565618932158",
         "0.0025353428324457",
         "0.0146042072299079",
         "-0.0099388875459768",
         "-0.0020453683344072",
         "-0.0161763073825397",
         "0.012403776135172",
         "-0.0022792880455614",
         "-0.0114865899710756",
         "-0.0035951208598513",
         "-0.0043813201218496",
         "0.0086069926833241",
         "-0.0138270882575854",
         "0.0007807991691102",
         "-0.0065009704366418",
         "-0.0088339024615683",
         "0.011784520865304",
         "0.0077972393790628",
         "0.0208481794389208",
         "-0.0038051981687614",
         "0.0147067473380406",
         "0.0067448149567734",
         "0.0079150350413867",
         "-0.0006183790211637",
         "0.001608585864723",
         "0.0122617953878894",
         "-0.0048208179100207",
         "0.0004292205653206",
         "0.005822857172574",
         "-0.0083182077090273",
         "0.0012289858766554",
         "-0.0336943441636582",
         "-0.0031121773995006",
         "0.0085375062153065",
         "-0.012824157377424",
         "0.0107189798518652",
         "0.0045902654379534",
         "-0.0016700857294169",
         "-0.0151515376952391",
         "0.0131089058252515",
         "0.0028473507439836",
         "-0.0201269595483106",
         "0.0121375678023074",
         "-0.0432915170992626",
         "0.0210791593453012",
         "0.0037446829584641",
         "-0.0065853494934683",
         "0.0103189782221833",
         "0.0008726729356516",
         "0.0081702176887936",
         "-0.0005766646978132",
         "0.0009936562511361",
         "0.0048549867877107",
         "-0.0261727471401624",
         "-0.0083124985348121",
         "0.0116289787597989",
         "0.0095304606493511",
         "-0.0145337775963906",
         "-0.002732190897532",
         "-0.0196079869500465",
         "-0.0069359674260518",
         "0.0038990088069619",
         "-0.0115167336930386",
         "-0.0021866915584467",
         "-0.0068482390869986",
         "0.0091711096720092",
         "0.014998195790177",
         "0.0119492426584559",
         "0.0248802832647225",
         "0.0174282300234667",
         "-0.001276071850941",
         "0.0067074622491598",
         "0.0083443012677792",
         "-0.0113272913498123",
         "0.0174082950461655",
         "-0.0126998160946498",
         "0.0153976191385054",
         "0.0156325324233828",
         "0.0055913536446334",
         "0.0015579294978342",
         "0.0093647291968357",
         "-0.001934027073731",
         "0.0086900434004697",
         "0.0027316919383477",
         "-0.0048198775918973",
         "0.0003911441573793",
         "0.0023452886310386",
         "-0.0005999008614538",
         "0.0147685801432924",
         "-0.0048216228205336",
         "-0.0017834517665734",
         "-0.001250637386165",
         "-0.0009243409184274",
         "0.0063564624579752",
         "0.0150639403158758",
         "0.0026583424716331",
         "0.0012237094178395",
         "-0.0026481450417424",
         "0.0041430575662573",
         "-0.0066829805325706",
         "-0.0009944437298917",
         "-0.0058858232216898",
         "0.0272460937590017",
         "0.0163440424479748",
         "-0.0028778092521457",
         "0.0011034442211248",
         "-0.0063025646745221",
         "-0.0019339679195238",
         "-0.0113705225223297",
         "-0.0259425990498574",
         "-0.0024562624969751",
         "-0.0013941303001692",
         "0.0110806666770169",
         "0.0070516431812646",
         "0.0075272621526407",
         "0.0076449286296012",
         "0.0240249844009374",
         "-0.0049673303181567",
         "0.0010758317991836",
         "0.0166829967870822",
         "0.0120985191019253",
         "0.0090958966929051",
         "0.0072164921316817",
         "-0.0025954524489792",
         "0.0082407286414449",
         "-0.0023392497248841",
         "0.0061444248648421",
         "-0.0054908078701635",
         "-0.0199838193952948",
         "0.01931968965173",
         "0.0054999429199658",
         "-0.00699824253869",
         "-0.0152292226084773",
         "0.0053467665092252",
         "0.0049911756599418",
         "0.0086572247395504",
         "-0.0114080157369761",
         "-0.0125737771373973",
         "0.022518606369996",
         "0.001428580794031",
         "-0.0054640360042397",
         "-0.0176736725167083",
         "-0.0056205654018182",
         "0.0288160646048252",
         "0.016186130720277",
         "0.0004240090781408",
         "0.0011390775718433",
         "0.0003174897321196",
         "-0.0085971333540911",
         "0.0165696397928267",
         "0.00713929356398",
         "-0.0177998860726681",
         "0.0104807271720634",
         "0.0159651552630466",
         "-0.0225891183924076",
         "-0.0130894256925224",
         "0.0194524289825392",
         "-0.0046257730280047",
         "-0.0013467747346772",
         "-0.0095448385891254",
         "-0.0051521896972687",
         "0.0145167056656434",
         "0.0062421204455691",
         "-0.0930763786166887",
         "-0.021824178797461",
         "-0.0109037502884773",
         "0.0076988237773198",
         "0.0135259153865583",
         "0.0166305436631679",
         "-0.0214650739944175",
         "-0.007990065485754",
         "-0.0124236380890246",
         "-0.0054471100701345",
         "0.0076559081509919",
         "-0.0036037346927654",
         "0.0079867369176998",
         "-0.0262936107435809",
         "0.002435221611486",
         "-0.0301054724041606",
         "-0.0067533845213297",
         "0.0021389293772575",
         "0.0019110637093791",
         "0.0046417537032517",
         "0.0027847068081465",
         "0.0017041567761502",
         "-0.0018587995360633",
         "-0.0103839977303079",
         "-0.0144798481482292",
         "-0.0032038275853646",
         "-0.0157464196181329",
         "-0.007421732123409",
         "-0.0074773293134946",
         "0.0056250780639739",
         "0.0112206307624544",
         "0.0077375988663643",
         "0.0150299017927881",
         "0.0042811045707706",
         "-0.0172441582740788",
         "-0.0009131370065131",
         "0.0035255941956011",
         "-0.0014962784506602",
         "0.0051146415354226",
         "-0.0016853992536765",
         "-0.0143181618554737",
         "0.0069502114487731",
         "-0.0067386575803217",
         "0.0114279635161973",
         "-0.0038424028246394",
         "-0.0161473022530626",
         "-0.0108309898935321",
         "-0.0133006188782325",
         "-0.0305342260449403",
         "-0.0088131238221539",
         "-0.0018773236859449",
         "0.0223592633028963",
         "0.0102756690091412",
         "0.0024740816968864",
         "-0.0114484433579289",
         "0.0070388466100732",
         "0.0130496164768185",
         "-0.0288559676134149",
         "-0.0119343762039059",
         "0.015549697962591",
         "-0.0041155807610953",
         "-0.0006304944584257",
         "0.0729279201270405",
         "0.0092109375927325",
         "-0.0057285206361346",
         "-0.0001301211440994",
         "-0.0083017375202942",
         "-0.0046944163364056",
         "0.000725821289583",
         "-0.0028346386081463",
         "0.0042307826162479",
         "0.0063192844134949",
         "-0.0216189375277395",
         "0.0011031085670023",
         "-0.0047082488166628",
         "-0.0087901515955179",
         "0.0130545692411627",
         "0.0424176384117294",
         "0.0233073947470281",
         "0.0224305806407301",
         "0.0018461515039349",
         "0.0076780596366243",
         "0.0033221570542276",
         "0.0070476809595563",
         "-0.0035595341840468",
         "-0.0049950457713805",
         "0.0043812688009929",
         "-0.0050285742549363",
         "-0.0068804104652211",
         "0.0091967992749497",
         "0.0043133812326536",
         "-0.0076826073723323",
         "-0.0150268271564232",
         "-0.0291195668047197",
         "0.015745391125246",
         "-0.0020709243808381",
         "-0.0067290831264448",
         "-0.0001584998764992",
         "-0.0059207472901917",
         "0.0171040791014409",
         "0.0015657442127119",
         "0.0165713488982279",
         "0.0055056135210349",
         "0.007708165251969",
         "0.0028229596083884",
         "0.0097769584549469",
         "-0.0090827135974191",
         "0.0081676067596889",
         "0.0105320170925593",
         "0.0106895505242941",
         "-0.0087842316654626",
         "0.0083582323212603",
         "0.0051144090532813",
         "-0.0002046568060009",
         "0.0061717155243474",
         "-0.0088955790275778",
         "-0.0031971364281163",
         "0.0057968173786406",
         "0.0172318687155688",
         "0.0075063994906199",
         "-0.0011989013646076",
         "-0.0008861360279788",
         "0.0129872232283323",
         "-0.0482323275325679",
         "-0.0025515739722021",
         "-0.002796166739368",
         "0.0029232815251099",
         "0.0088929179037231",
         "0.0012087775538422",
         "-0.0075673417474398",
         "0.0556594378647896",
         "-0.017172062981179",
         "0.0108093758251794",
         "-0.004243603449754",
         "0.0122449958592056",
         "0.0138931165859246",
         "0.0027682680479956",
         "-0.0150176955974774",
         "0.0100337709235156",
         "0.0130416579461127",
         "-0.0069581221744063",
         "-0.0009139886755822",
         "0.0107002486633014",
         "0.0111355400718351",
         "0.0097650122913754",
         "0.0077634350598096",
         "0.0045581074133775",
         "-0.0022023511905102",
         "-0.0112756373010023",
         "-0.0031201846413684",
         "-0.0172677878258256",
         "-0.0094171795223043",
         "0.0014411963628551",
         "0.0047603639309561",
         "-0.0453668702133872",
         "-0.0050494336883136",
         "0.0024650469420037",
         "-0.0051205845538863",
         "0.004623469150333",
         "0.0307968374010461",
         "0.0128604769061448",
         "-0.0143605713660696",
         "0.0049784878283947",
         "0.0092639092679951",
         "0.0266492341740172",
         "-0.0220138657338543",
         "-0.0234761404745637",
         "-0.0022060436973484",
         "0.0032880521562612",
         "0.0088148751780017",
         "0.0111461912126891",
         "-0.0066195557504292",
         "0.0073328752862471",
         "0.0052312423964129",
         "-0.0028085504494291",
         "0.0005798245218657",
         "-0.0027319594463428",
         "-0.0244617824067268",
         "0.0212457470196922",
         "-0.0052772676364882",
         "0.0127607063125763",
         "-0.0088227479294578",
         "0.0094575529001665",
         "0.0025903107897677",
         "-0.0100593594817085",
         "-0.0041646275927805",
         "-0.0045165871812353",
         "0.0006722078166736",
         "-0.0271200577470744",
         "0.0706250826221772",
         "-0.0155578560461353",
         "-0.0207440325146962",
         "0.0079717310022386",
         "-0.003318309159579",
         "-0.0117915225386582",
         "-0.0103599191634379",
         "-0.0019857994413339",
         "-0.0084425418449989",
         "0.0144199827594169",
         "-0.007121645397765",
         "0.0144024360972441",
         "0.0037598773803109",
         "-0.0221954653916371",
         "-0.0018583093901548",
         "-0.0004296933166502",
         "0.0021205315872983",
         "0.0066331141933937",
         "0.0057907510181778",
         "0.0108624591837978",
         "0.0075471912419196",
         "0.0115564170964976",
         "-0.0023398909660621",
         "0.0296348757461164",
         "0.0140426866178271",
         "-0.0104918153433367",
         "0.0169060690393609",
         "0.0110308998423098",
         "0.0006753613027612",
         "0.0166403177254768",
         "0.0169296884617806",
         "-0.0273948624400329",
         "-0.0035110808790909",
         "0.0023576553279855",
         "0.0080642521076201",
         "-0.0030256067805801",
         "0.0018003185282078",
         "-0.0039278373266897",
         "-0.0011340382281622",
         "0.006863470176472",
         "-0.0137870977908435",
         "-0.0534766982358364",
         "-0.0009609186560846",
         "-0.0026379256015816",
         "-0.0126740024176849",
         "-0.0041300111806507",
         "-0.0234539323998396",
         "-0.0100718101255796",
         "0.0022900116643023",
         "0.0071722208420317",
         "-0.0184345436892776",
         "0.0009946042316704",
         "-0.0201064278690011",
         "-0.0223978166443731",
         "-0.0105555536323228",
         "-0.0223845306072081",
         "0.0055192811634665",
         "0.0216108919734367",
         "-0.0050351208009037",
         "0.0012342515109691",
         "-0.072610652216447",
         "0.0146555605904297",
         "0.0060918942157792",
         "0.0055993371410383",
         "0.0073162571025477",
         "-0.0084521840607622",
         "-0.0136129866861178",
         "0.0253343745424177",
         "0.0049351937014139",
         "0.0087696572031985",
         "-0.0470077912780577",
         "-0.0544019588383904",
         "-0.0011927156767446",
         "-0.0116955914735865",
         "0.0659226159173789",
         "-0.0443610219575033",
         "-0.0030853547403625",
         "0.019167237382091",
         "-0.0038993921442854",
         "-0.0118478950472739",
         "-0.010131763531771",
         "-0.0110500975730229",
         "0.0169393699912205",
         "0.0147908590414775",
         "0.0112784562697705"
        ]
       ],
       "shape": {
        "columns": 829,
        "rows": 5
       }
      },
      "text/html": [
       "<div>\n",
       "<style scoped>\n",
       "    .dataframe tbody tr th:only-of-type {\n",
       "        vertical-align: middle;\n",
       "    }\n",
       "\n",
       "    .dataframe tbody tr th {\n",
       "        vertical-align: top;\n",
       "    }\n",
       "\n",
       "    .dataframe thead th {\n",
       "        text-align: right;\n",
       "    }\n",
       "</style>\n",
       "<table border=\"1\" class=\"dataframe\">\n",
       "  <thead>\n",
       "    <tr style=\"text-align: right;\">\n",
       "      <th></th>\n",
       "      <th>0</th>\n",
       "      <th>1</th>\n",
       "      <th>2</th>\n",
       "      <th>3</th>\n",
       "      <th>4</th>\n",
       "      <th>5</th>\n",
       "      <th>6</th>\n",
       "      <th>7</th>\n",
       "      <th>8</th>\n",
       "      <th>9</th>\n",
       "      <th>...</th>\n",
       "      <th>819</th>\n",
       "      <th>820</th>\n",
       "      <th>821</th>\n",
       "      <th>822</th>\n",
       "      <th>823</th>\n",
       "      <th>824</th>\n",
       "      <th>825</th>\n",
       "      <th>826</th>\n",
       "      <th>827</th>\n",
       "      <th>828</th>\n",
       "    </tr>\n",
       "  </thead>\n",
       "  <tbody>\n",
       "    <tr>\n",
       "      <th>MMM</th>\n",
       "      <td>0.014010</td>\n",
       "      <td>-0.004106</td>\n",
       "      <td>-0.008301</td>\n",
       "      <td>0.010955</td>\n",
       "      <td>-0.014115</td>\n",
       "      <td>0.008850</td>\n",
       "      <td>0.002458</td>\n",
       "      <td>0.008917</td>\n",
       "      <td>-0.012595</td>\n",
       "      <td>-0.002574</td>\n",
       "      <td>...</td>\n",
       "      <td>-0.038678</td>\n",
       "      <td>0.022411</td>\n",
       "      <td>0.000441</td>\n",
       "      <td>-0.005514</td>\n",
       "      <td>-0.035487</td>\n",
       "      <td>-0.001916</td>\n",
       "      <td>-0.031641</td>\n",
       "      <td>0.081212</td>\n",
       "      <td>-0.001981</td>\n",
       "      <td>0.020726</td>\n",
       "    </tr>\n",
       "    <tr>\n",
       "      <th>AOS</th>\n",
       "      <td>0.016633</td>\n",
       "      <td>-0.016714</td>\n",
       "      <td>0.006703</td>\n",
       "      <td>-0.011296</td>\n",
       "      <td>-0.003127</td>\n",
       "      <td>0.009772</td>\n",
       "      <td>0.003345</td>\n",
       "      <td>-0.012384</td>\n",
       "      <td>-0.028575</td>\n",
       "      <td>0.001117</td>\n",
       "      <td>...</td>\n",
       "      <td>0.004955</td>\n",
       "      <td>0.025927</td>\n",
       "      <td>0.010853</td>\n",
       "      <td>-0.020705</td>\n",
       "      <td>-0.015505</td>\n",
       "      <td>0.004454</td>\n",
       "      <td>-0.022648</td>\n",
       "      <td>0.036461</td>\n",
       "      <td>-0.002345</td>\n",
       "      <td>0.023351</td>\n",
       "    </tr>\n",
       "    <tr>\n",
       "      <th>ABT</th>\n",
       "      <td>-0.023518</td>\n",
       "      <td>-0.004493</td>\n",
       "      <td>-0.000148</td>\n",
       "      <td>0.003108</td>\n",
       "      <td>-0.002213</td>\n",
       "      <td>0.003253</td>\n",
       "      <td>-0.014591</td>\n",
       "      <td>-0.027017</td>\n",
       "      <td>-0.011492</td>\n",
       "      <td>-0.012406</td>\n",
       "      <td>...</td>\n",
       "      <td>-0.019994</td>\n",
       "      <td>0.019116</td>\n",
       "      <td>0.008512</td>\n",
       "      <td>-0.009029</td>\n",
       "      <td>0.027571</td>\n",
       "      <td>0.009869</td>\n",
       "      <td>-0.008322</td>\n",
       "      <td>0.014166</td>\n",
       "      <td>-0.014348</td>\n",
       "      <td>-0.003543</td>\n",
       "    </tr>\n",
       "    <tr>\n",
       "      <th>ABBV</th>\n",
       "      <td>-0.001920</td>\n",
       "      <td>0.005253</td>\n",
       "      <td>-0.004711</td>\n",
       "      <td>-0.002588</td>\n",
       "      <td>0.011195</td>\n",
       "      <td>0.004252</td>\n",
       "      <td>0.002336</td>\n",
       "      <td>-0.017368</td>\n",
       "      <td>0.017600</td>\n",
       "      <td>0.006698</td>\n",
       "      <td>...</td>\n",
       "      <td>-0.031361</td>\n",
       "      <td>0.004879</td>\n",
       "      <td>0.023136</td>\n",
       "      <td>-0.003719</td>\n",
       "      <td>-0.028959</td>\n",
       "      <td>0.007631</td>\n",
       "      <td>-0.016359</td>\n",
       "      <td>0.021274</td>\n",
       "      <td>0.018817</td>\n",
       "      <td>0.018752</td>\n",
       "    </tr>\n",
       "    <tr>\n",
       "      <th>ACN</th>\n",
       "      <td>-0.007146</td>\n",
       "      <td>-0.017611</td>\n",
       "      <td>-0.048290</td>\n",
       "      <td>-0.019180</td>\n",
       "      <td>0.006069</td>\n",
       "      <td>0.005657</td>\n",
       "      <td>0.008152</td>\n",
       "      <td>-0.041942</td>\n",
       "      <td>-0.022166</td>\n",
       "      <td>-0.014376</td>\n",
       "      <td>...</td>\n",
       "      <td>-0.044361</td>\n",
       "      <td>-0.003085</td>\n",
       "      <td>0.019167</td>\n",
       "      <td>-0.003899</td>\n",
       "      <td>-0.011848</td>\n",
       "      <td>-0.010132</td>\n",
       "      <td>-0.011050</td>\n",
       "      <td>0.016939</td>\n",
       "      <td>0.014791</td>\n",
       "      <td>0.011278</td>\n",
       "    </tr>\n",
       "  </tbody>\n",
       "</table>\n",
       "<p>5 rows × 829 columns</p>\n",
       "</div>"
      ],
      "text/plain": [
       "           0         1         2         3         4         5         6    \\\n",
       "MMM   0.014010 -0.004106 -0.008301  0.010955 -0.014115  0.008850  0.002458   \n",
       "AOS   0.016633 -0.016714  0.006703 -0.011296 -0.003127  0.009772  0.003345   \n",
       "ABT  -0.023518 -0.004493 -0.000148  0.003108 -0.002213  0.003253 -0.014591   \n",
       "ABBV -0.001920  0.005253 -0.004711 -0.002588  0.011195  0.004252  0.002336   \n",
       "ACN  -0.007146 -0.017611 -0.048290 -0.019180  0.006069  0.005657  0.008152   \n",
       "\n",
       "           7         8         9    ...       819       820       821  \\\n",
       "MMM   0.008917 -0.012595 -0.002574  ... -0.038678  0.022411  0.000441   \n",
       "AOS  -0.012384 -0.028575  0.001117  ...  0.004955  0.025927  0.010853   \n",
       "ABT  -0.027017 -0.011492 -0.012406  ... -0.019994  0.019116  0.008512   \n",
       "ABBV -0.017368  0.017600  0.006698  ... -0.031361  0.004879  0.023136   \n",
       "ACN  -0.041942 -0.022166 -0.014376  ... -0.044361 -0.003085  0.019167   \n",
       "\n",
       "           822       823       824       825       826       827       828  \n",
       "MMM  -0.005514 -0.035487 -0.001916 -0.031641  0.081212 -0.001981  0.020726  \n",
       "AOS  -0.020705 -0.015505  0.004454 -0.022648  0.036461 -0.002345  0.023351  \n",
       "ABT  -0.009029  0.027571  0.009869 -0.008322  0.014166 -0.014348 -0.003543  \n",
       "ABBV -0.003719 -0.028959  0.007631 -0.016359  0.021274  0.018817  0.018752  \n",
       "ACN  -0.003899 -0.011848 -0.010132 -0.011050  0.016939  0.014791  0.011278  \n",
       "\n",
       "[5 rows x 829 columns]"
      ]
     },
     "execution_count": 16,
     "metadata": {},
     "output_type": "execute_result"
    }
   ],
   "source": [
    "time_series.head()"
   ]
  },
  {
   "cell_type": "code",
   "execution_count": 20,
   "id": "da5055e2",
   "metadata": {},
   "outputs": [],
   "source": [
    "from QGAP.qgap import QGAP\n",
    "qgap = QGAP(matrix_type=\"dense\")\n",
    "quant_prox = data_to_proximities(qgap, time_series, labels, None, static2024, None)"
   ]
  },
  {
   "cell_type": "markdown",
   "id": "33433a13",
   "metadata": {},
   "source": [
    "# K-Fold Accuracy Tests"
   ]
  },
  {
   "cell_type": "code",
   "execution_count": null,
   "id": "0da9853b",
   "metadata": {},
   "outputs": [],
   "source": [
    "# Do five tests\n",
    "n = len(time_series)\n",
    "\n",
    "# Loop to do random tests\n",
    "for i in range(6):\n",
    "    "
   ]
  },
  {
   "cell_type": "markdown",
   "id": "89bb3c32",
   "metadata": {},
   "source": []
  }
 ],
 "metadata": {
  "kernelspec": {
   "display_name": ".venv",
   "language": "python",
   "name": "python3"
  },
  "language_info": {
   "codemirror_mode": {
    "name": "ipython",
    "version": 3
   },
   "file_extension": ".py",
   "mimetype": "text/x-python",
   "name": "python",
   "nbconvert_exporter": "python",
   "pygments_lexer": "ipython3",
   "version": "3.12.3"
  }
 },
 "nbformat": 4,
 "nbformat_minor": 5
}
