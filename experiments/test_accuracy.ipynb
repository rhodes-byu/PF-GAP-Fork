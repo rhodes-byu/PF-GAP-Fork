{
 "cells": [
  {
   "cell_type": "markdown",
   "id": "5aa70360",
   "metadata": {},
   "source": [
    "# This file is for creating the test accuracies of the varying models"
   ]
  },
  {
   "cell_type": "code",
   "execution_count": 1,
   "id": "5cf3e727",
   "metadata": {},
   "outputs": [],
   "source": [
    "# Imports\n",
    "import sys\n",
    "import pandas as pd\n",
    "import numpy as np\n",
    "from rfgap import RFGAP\n",
    "\n",
    "\n",
    "# Get the data\n",
    "sys.path.insert(0, '/yunity/arusty/PF-GAP')\n",
    "\n",
    "static2024 = pd.read_csv('../data/static2024.csv')\n",
    "static2023 = pd.read_csv('../data/static2023.csv')\n",
    "time_series = pd.read_csv('../data/time_series.csv')\n",
    "labels = pd.read_csv('../data/labels.csv')\n",
    "labels = np.array(labels).flatten()\n",
    "\n",
    "\n",
    "from sklearn.model_selection import train_test_split\n",
    "\n",
    "# Split the data into train and test sets\n",
    "X_train, X_test, y_train, y_test, static2023_train, static2023_test, static2024_train, static2024_test = train_test_split(time_series, \n",
    "labels, static2023, static2024, test_size=0.2, random_state=42)\n",
    "\n",
    "\n",
    "# X_train = np.concat([X_train, static2023_train], axis=1)\n",
    "# X_test = np.concat([X_test, static2024_test], axis=1)\n"
   ]
  },
  {
   "cell_type": "markdown",
   "id": "917c3178",
   "metadata": {},
   "source": [
    "# RF - Rocket"
   ]
  },
  {
   "cell_type": "code",
   "execution_count": null,
   "id": "580f3e97",
   "metadata": {},
   "outputs": [],
   "source": [
    "from RFGAP_Rocket.RFGAP_Rocket import RFGAP_Rocket\n",
    "rocket = RFGAP_Rocket(prediction_type = \"classification\", rocket = \"Multi\",\n",
    "                         n_kernels=512)\n",
    "rocket.fit(X_train, y_train, static2023_train, weights = None)\n",
    "pred = rocket.predict(X_test, static2024_test)\n",
    "\n",
    "score = (pred == y_test).mean()\n",
    "print(f\"Accuracy: {score:.2f}\")\n"
   ]
  },
  {
   "cell_type": "code",
   "execution_count": null,
   "id": "d39f8b80",
   "metadata": {},
   "outputs": [],
   "source": []
  }
 ],
 "metadata": {
  "kernelspec": {
   "display_name": ".venv",
   "language": "python",
   "name": "python3"
  },
  "language_info": {
   "codemirror_mode": {
    "name": "ipython",
    "version": 3
   },
   "file_extension": ".py",
   "mimetype": "text/x-python",
   "name": "python",
   "nbconvert_exporter": "python",
   "pygments_lexer": "ipython3",
   "version": "3.12.3"
  }
 },
 "nbformat": 4,
 "nbformat_minor": 5
}
