{
 "cells": [
  {
   "cell_type": "markdown",
   "id": "5aa70360",
   "metadata": {},
   "source": [
    "# This file is for creating the test accuracies of the varying models"
   ]
  },
  {
   "cell_type": "code",
   "execution_count": 1,
   "id": "5cf3e727",
   "metadata": {},
   "outputs": [],
   "source": [
    "# Imports\n",
    "import sys\n",
    "import pandas as pd\n",
    "import numpy as np\n",
    "from rfgap import RFGAP\n",
    "\n",
    "\n",
    "# Get the data\n",
    "sys.path.insert(0, '/yunity/arusty/PF-GAP')\n",
    "\n",
    "static2024 = pd.read_csv('../data/static2024.csv')\n",
    "static2023 = pd.read_csv('../data/static2023.csv')\n",
    "static2022 = pd.read_csv('../data/static2022.csv')\n",
    "static2025 = pd.read_csv('../data/static2025.csv')\n",
    "time_series = np.array(pd.read_csv('../data/time_series.csv'))\n",
    "labels = pd.read_csv('../data/labels.csv')\n",
    "labels = np.array(labels).flatten()\n",
    "\n",
    "\n",
    "from sklearn.model_selection import train_test_split\n",
    "\n",
    "# Split the data into train and test sets\n",
    "X_train, X_test, y_train, y_test, static2023_train, static2023_test, static2024_train, static2024_test = train_test_split(time_series, \n",
    "labels, static2023, static2024, test_size=0.2, random_state=42)\n",
    "\n",
    "\n",
    "from sklearn.model_selection import StratifiedKFold\n",
    "from sklearn.metrics import f1_score, recall_score, precision_score, accuracy_score\n",
    "import pandas as pd\n",
    "\n",
    "\n",
    "def determine_static(fold):\n",
    "    if fold < 2:\n",
    "        static_train = static2022\n",
    "        static_test = static2023\n",
    "    elif fold < 4:\n",
    "        static_train = static2023\n",
    "        static_test = static2024\n",
    "    else:\n",
    "        static_train = static2024\n",
    "        static_test = static2025\n",
    "\n",
    "    return np.array(static_train), np.array(static_test)\n",
    "\n",
    "def get_cross_validation_results(get_predictions_method):\n",
    "    # Set up cross-validation\n",
    "    skf = StratifiedKFold(n_splits=6, shuffle=True, random_state=42)\n",
    "\n",
    "    results = []\n",
    "\n",
    "    for fold, (train_idx, test_idx) in enumerate(skf.split(time_series, labels)):\n",
    "        print(f\"Fold {fold + 1}/{skf.n_splits}: {len(train_idx)} train samples, {len(test_idx)} test samples\")\n",
    "        # Split data\n",
    "        X_train, X_test = time_series[train_idx], time_series[test_idx]\n",
    "        y_train, y_test = labels[train_idx], labels[test_idx]\n",
    "\n",
    "        \n",
    "        static_train, static_test = determine_static(fold)\n",
    "\n",
    "        y_pred = get_predictions_method(X_train, y_train, X_test, static_train[train_idx], static_test[test_idx])\n",
    "        \n",
    "        \n",
    "        # RF metrics\n",
    "        rf_f1 = f1_score(y_test, y_pred, average='weighted')\n",
    "        rf_recall = recall_score(y_test, y_pred, average='weighted')\n",
    "        rf_precision = precision_score(y_test, y_pred, average='weighted')\n",
    "        rf_acc = accuracy_score(y_test, y_pred)\n",
    "        \n",
    "        results.append({\n",
    "            'fold': fold,\n",
    "            'train_idx': train_idx,\n",
    "            'test_idx': test_idx,\n",
    "            'rf_f1': rf_f1,\n",
    "            'rf_recall': rf_recall,\n",
    "            'rf_precision': rf_precision,\n",
    "            'rf_accuracy': rf_acc\n",
    "        })\n",
    "\n",
    "    # Convert results to DataFrame\n",
    "    return pd.DataFrame(results)\n",
    "\n",
    "\n"
   ]
  },
  {
   "cell_type": "code",
   "execution_count": null,
   "id": "27d44b2b",
   "metadata": {},
   "outputs": [
    {
     "data": {
      "image/png": "[encoded data removed]",
      "text/plain": [
       "<Figure size 640x480 with 1 Axes>"
      ]
     },
     "metadata": {},
     "output_type": "display_data"
    }
   ],
   "source": [
    "# Class distribuation\n",
    "import matplotlib.pyplot as plt\n",
    "\n",
    "unique, counts = np.unique(labels, return_counts=True)\n",
    "plt.bar(unique, counts)\n",
    "plt.xlabel('Class')\n",
    "plt.ylabel('Count')\n",
    "plt.title('Class Distribution in labels')\n",
    "plt.show()"
   ]
  },
  {
   "cell_type": "markdown",
   "id": "917c3178",
   "metadata": {},
   "source": [
    "# RF - Rocket"
   ]
  },
  {
   "cell_type": "code",
   "execution_count": 2,
   "id": "580f3e97",
   "metadata": {},
   "outputs": [
    {
     "name": "stdout",
     "output_type": "stream",
     "text": [
      "Accuracy: 0.54\n"
     ]
    }
   ],
   "source": [
    "from RFGAP_Rocket.RFGAP_Rocket import RFGAP_Rocket\n",
    "rocket = RFGAP_Rocket(prediction_type = \"classification\", rocket = \"Multi\",\n",
    "                         n_kernels=512)\n",
    "rocket.fit(X_train, y_train, static2023_train, weights = None)\n",
    "pred = rocket.predict(X_test, static2024_test)\n",
    "\n",
    "score = (pred == y_test).mean()\n",
    "print(f\"Accuracy: {score:.2f}\")\n"
   ]
  },
  {
   "cell_type": "code",
   "execution_count": 3,
   "id": "0ffef685",
   "metadata": {},
   "outputs": [],
   "source": [
    "def get_rocket_pred(X_train, y_train, X_test, static_train, static_test):\n",
    "    rocket = RFGAP_Rocket(prediction_type = \"classification\", rocket = \"Multi\",\n",
    "                         n_kernels=512)\n",
    "    \n",
    "    rocket.fit(X_train, y_train, static_train, weights = None)\n",
    "    return rocket.predict(X_test, static_test)\n",
    "\n"
   ]
  },
  {
   "cell_type": "code",
   "execution_count": 4,
   "id": "d39f8b80",
   "metadata": {},
   "outputs": [
    {
     "name": "stderr",
     "output_type": "stream",
     "text": [
      "/yunity/arusty/PF-GAP/.venv/lib/python3.12/site-packages/sklearn/metrics/_classification.py:1531: UndefinedMetricWarning: Precision is ill-defined and being set to 0.0 in labels with no predicted samples. Use `zero_division` parameter to control this behavior.\n",
      "  _warn_prf(average, modifier, f\"{metric.capitalize()} is\", len(result))\n",
      "/yunity/arusty/PF-GAP/.venv/lib/python3.12/site-packages/sklearn/metrics/_classification.py:1531: UndefinedMetricWarning: Precision is ill-defined and being set to 0.0 in labels with no predicted samples. Use `zero_division` parameter to control this behavior.\n",
      "  _warn_prf(average, modifier, f\"{metric.capitalize()} is\", len(result))\n",
      "/yunity/arusty/PF-GAP/.venv/lib/python3.12/site-packages/sklearn/metrics/_classification.py:1531: UndefinedMetricWarning: Precision is ill-defined and being set to 0.0 in labels with no predicted samples. Use `zero_division` parameter to control this behavior.\n",
      "  _warn_prf(average, modifier, f\"{metric.capitalize()} is\", len(result))\n",
      "/yunity/arusty/PF-GAP/.venv/lib/python3.12/site-packages/sklearn/metrics/_classification.py:1531: UndefinedMetricWarning: Precision is ill-defined and being set to 0.0 in labels with no predicted samples. Use `zero_division` parameter to control this behavior.\n",
      "  _warn_prf(average, modifier, f\"{metric.capitalize()} is\", len(result))\n",
      "/yunity/arusty/PF-GAP/.venv/lib/python3.12/site-packages/sklearn/metrics/_classification.py:1531: UndefinedMetricWarning: Precision is ill-defined and being set to 0.0 in labels with no predicted samples. Use `zero_division` parameter to control this behavior.\n",
      "  _warn_prf(average, modifier, f\"{metric.capitalize()} is\", len(result))\n"
     ]
    },
    {
     "data": {
      "application/vnd.microsoft.datawrangler.viewer.v0+json": {
       "columns": [
        {
         "name": "index",
         "rawType": "int64",
         "type": "integer"
        },
        {
         "name": "fold",
         "rawType": "int64",
         "type": "integer"
        },
        {
         "name": "train_idx",
         "rawType": "object",
         "type": "unknown"
        },
        {
         "name": "test_idx",
         "rawType": "object",
         "type": "unknown"
        },
        {
         "name": "rf_f1",
         "rawType": "float64",
         "type": "float"
        },
        {
         "name": "rf_recall",
         "rawType": "float64",
         "type": "float"
        },
        {
         "name": "rf_precision",
         "rawType": "float64",
         "type": "float"
        },
        {
         "name": "rf_accuracy",
         "rawType": "float64",
         "type": "float"
        }
       ],
       "conversionMethod": "pd.DataFrame",
       "ref": "41cb05bf-5e65-4ec0-92bb-fd73d6305321",
       "rows": [
        [
         "0",
         "0",
         "[  0   3   4   6   7   8   9  10  11  12  13  14  15  16  17  18  19  20\n  22  24  25  26  27  29  30  32  33  34  35  37  38  39  40  41  42  43\n  44  45  46  47  48  49  50  51  52  53  54  55  56  57  58  59  60  61\n  62  64  65  66  67  68  69  70  71  72  73  74  76  77  78  79  80  81\n  82  83  84  86  87  88  89  90  91  92  93  94  95  96  97  99 100 101\n 102 103 104 105 106 107 108 109 110 111 112 113 114 115 116 118 120 122\n 123 124 125 126 127 128 129 130 133 135 136 138 140 142 143 144 145 149\n 150 151 152 153 154 155 156 158 159 160 161 162 163 164 165 166 167 168\n 169 170 171 172 173 175 176 179 180 181 182 183 185 186 188 189 190 191\n 192 193 194 195 196 198 199 200 202 203 204 205 206 207 209 210 211 212\n 213 214 215 216 217 218 219 220 222 224 228 229 230 231 232 233 234 235\n 236 237 238 239 240 242 243 244 245 246 247 249 250 251 252 255 256 257\n 258 259 260 261 263 264 265 266 267 268 269 270 272 273 274 276 277 279\n 280 281 282 284 285 286 287 288 290 292 293 294 295 296 298 301 302 303\n 304 308 309 310 311 312 313 314 316 317 318 319 320 323 325 326 329 330\n 331 332 334 335 336 337 338 339 340 342 343 344 345 346 347 348 349 350\n 351 353 354 355 356 357 359 360 361 362 363 364 365 366 367 368 369 370\n 371 372 373 374 375 376 377 378 379 381 382 383 384 385 386 387 388 389\n 390 391 392 394 395 396 397 399 401 402 404 405 407 408 409 410 411 412\n 413 414 415 416 418 419 420 421 424 425 426 427 428 429 430 431 432 433\n 434 435 436 437 438 439 440 441 442 443 444 445 446 448 449 450 451 452\n 454 455 457 458 459 461 462 463 464 465 466 467 468 469 470 471 472 473\n 474 475 476 477 478 479 480 481 484 485 486 487 490 491 492 494 495]",
         "[  1   2   5  21  23  28  31  36  63  75  85  98 117 119 121 131 132 134\n 137 139 141 146 147 148 157 174 177 178 184 187 197 201 208 221 223 225\n 226 227 241 248 253 254 262 271 275 278 283 289 291 297 299 300 305 306\n 307 315 321 322 324 327 328 333 341 352 358 380 393 398 400 403 406 417\n 422 423 447 453 456 460 482 483 488 489 493]",
         "0.4376473609287216",
         "0.4578313253012048",
         "0.44678714859437746",
         "0.4578313253012048"
        ],
        [
         "1",
         "1",
         "[  1   2   3   5   6   7   8   9  10  11  12  13  14  15  16  17  18  19\n  20  21  23  24  25  26  27  28  31  32  33  34  35  36  37  38  40  41\n  43  44  45  46  47  49  51  52  54  56  57  58  59  60  61  62  63  64\n  70  71  72  73  74  75  76  77  78  79  80  81  82  83  84  85  86  87\n  89  90  91  93  95  96  98  99 101 102 103 104 105 107 108 109 110 111\n 112 113 115 117 118 119 120 121 122 123 124 125 126 127 128 129 130 131\n 132 134 135 136 137 138 139 140 141 142 143 144 145 146 147 148 149 150\n 151 152 153 154 155 157 158 159 160 161 162 163 164 165 166 168 171 172\n 174 177 178 179 180 181 182 184 185 187 188 189 191 192 194 195 196 197\n 198 199 200 201 202 205 206 207 208 209 210 212 213 214 215 216 217 218\n 219 221 222 223 224 225 226 227 228 229 230 231 232 233 234 236 238 239\n 240 241 242 243 244 246 247 248 249 250 251 253 254 256 258 259 260 261\n 262 263 264 265 267 269 270 271 272 273 274 275 277 278 279 280 281 283\n 284 285 286 287 288 289 291 292 293 295 296 297 298 299 300 301 302 303\n 304 305 306 307 308 309 310 312 313 314 315 316 317 318 319 320 321 322\n 323 324 325 327 328 329 330 331 332 333 334 335 336 337 338 339 340 341\n 342 343 344 345 346 347 350 351 352 353 354 355 356 358 359 360 361 362\n 363 364 365 366 368 369 370 371 373 374 377 378 379 380 381 382 383 384\n 385 386 387 388 389 391 392 393 394 395 396 397 398 399 400 401 402 403\n 404 405 406 407 408 409 410 411 412 413 414 415 416 417 418 419 420 422\n 423 424 426 428 430 431 432 433 434 435 436 437 439 440 442 443 446 447\n 448 449 450 451 452 453 454 456 457 459 460 463 464 465 466 467 469 470\n 472 473 474 475 479 482 483 484 485 486 488 489 490 491 492 493 495]",
         "[  0   4  22  29  30  39  42  48  50  53  55  65  66  67  68  69  88  92\n  94  97 100 106 114 116 133 156 167 169 170 173 175 176 183 186 190 193\n 203 204 211 220 235 237 245 252 255 257 266 268 276 282 290 294 311 326\n 348 349 357 367 372 375 376 390 421 425 427 429 438 441 444 445 455 458\n 461 462 468 471 476 477 478 480 481 487 494]",
         "0.4674159001597789",
         "0.4939759036144578",
         "0.5107561788381175",
         "0.4939759036144578"
        ],
        [
         "2",
         "2",
         "[  0   1   2   3   4   5   6   8   9  10  11  12  14  15  16  17  19  21\n  22  23  24  25  26  27  28  29  30  31  32  33  34  36  37  38  39  40\n  41  42  43  45  46  47  48  49  50  51  52  53  54  55  56  57  58  59\n  62  63  64  65  66  67  68  69  71  72  73  74  75  76  77  79  80  81\n  82  83  84  85  86  87  88  89  90  92  93  94  95  97  98 100 101 103\n 104 106 107 108 110 113 114 115 116 117 118 119 121 122 123 125 126 128\n 129 130 131 132 133 134 135 136 137 138 139 141 142 143 145 146 147 148\n 149 150 151 153 154 155 156 157 160 161 162 164 165 167 168 169 170 171\n 172 173 174 175 176 177 178 180 182 183 184 185 186 187 188 190 191 193\n 195 196 197 198 199 201 202 203 204 205 207 208 209 210 211 212 213 214\n 215 216 218 219 220 221 222 223 224 225 226 227 228 229 230 231 232 233\n 234 235 236 237 238 239 240 241 243 244 245 246 247 248 250 251 252 253\n 254 255 257 258 260 261 262 263 266 267 268 270 271 272 273 274 275 276\n 277 278 282 283 284 285 286 288 289 290 291 294 295 296 297 298 299 300\n 301 302 303 304 305 306 307 308 309 311 312 313 315 316 317 318 319 320\n 321 322 324 325 326 327 328 329 330 331 332 333 335 336 337 339 340 341\n 342 343 344 345 346 347 348 349 350 351 352 354 355 357 358 360 361 362\n 363 364 366 367 368 369 372 375 376 377 378 379 380 381 383 385 386 388\n 390 391 392 393 397 398 399 400 403 406 407 408 409 410 411 412 413 414\n 415 416 417 418 420 421 422 423 424 425 426 427 428 429 430 431 432 433\n 434 435 436 438 439 440 441 442 443 444 445 446 447 448 449 452 453 454\n 455 456 457 458 459 460 461 462 465 466 468 469 470 471 472 474 475 476\n 477 478 479 480 481 482 483 484 485 486 487 488 489 491 493 494 495]",
         "[  7  13  18  20  35  44  60  61  70  78  91  96  99 102 105 109 111 112\n 120 124 127 140 144 152 158 159 163 166 179 181 189 192 194 200 206 217\n 242 249 256 259 264 265 269 279 280 281 287 292 293 310 314 323 334 338\n 353 356 359 365 370 371 373 374 382 384 387 389 394 395 396 401 402 404\n 405 419 437 450 451 463 464 467 473 490 492]",
         "0.5419231951730367",
         "0.5542168674698795",
         "0.5529315062447593",
         "0.5542168674698795"
        ],
        [
         "3",
         "3",
         "[  0   1   2   3   4   5   6   7   8  10  12  13  14  15  16  18  19  20\n  21  22  23  24  26  28  29  30  31  32  33  35  36  39  41  42  43  44\n  45  47  48  49  50  52  53  54  55  56  59  60  61  63  64  65  66  67\n  68  69  70  71  73  74  75  76  78  79  80  81  84  85  86  88  90  91\n  92  93  94  95  96  97  98  99 100 101 102 103 104 105 106 107 109 110\n 111 112 113 114 116 117 118 119 120 121 122 124 125 127 128 129 130 131\n 132 133 134 136 137 138 139 140 141 142 143 144 145 146 147 148 149 150\n 151 152 153 155 156 157 158 159 160 161 163 165 166 167 168 169 170 172\n 173 174 175 176 177 178 179 180 181 182 183 184 186 187 189 190 192 193\n 194 195 196 197 198 199 200 201 202 203 204 205 206 207 208 209 211 212\n 215 217 218 219 220 221 222 223 224 225 226 227 229 230 231 235 236 237\n 238 239 241 242 245 246 247 248 249 251 252 253 254 255 256 257 258 259\n 260 262 263 264 265 266 267 268 269 271 272 273 275 276 277 278 279 280\n 281 282 283 284 286 287 288 289 290 291 292 293 294 296 297 298 299 300\n 301 302 303 304 305 306 307 308 309 310 311 312 314 315 317 318 319 320\n 321 322 323 324 325 326 327 328 331 333 334 337 338 339 341 342 344 347\n 348 349 350 351 352 353 355 356 357 358 359 360 361 363 365 366 367 370\n 371 372 373 374 375 376 377 378 379 380 382 383 384 385 386 387 388 389\n 390 391 392 393 394 395 396 397 398 399 400 401 402 403 404 405 406 410\n 411 412 413 414 417 418 419 420 421 422 423 425 426 427 429 430 432 436\n 437 438 439 440 441 443 444 445 447 448 450 451 452 453 454 455 456 457\n 458 460 461 462 463 464 465 466 467 468 470 471 472 473 474 475 476 477\n 478 479 480 481 482 483 484 486 487 488 489 490 491 492 493 494 495]",
         "[  9  11  17  25  27  34  37  38  40  46  51  57  58  62  72  77  82  83\n  87  89 108 115 123 126 135 154 162 164 171 185 188 191 210 213 214 216\n 228 232 233 234 240 243 244 250 261 270 274 285 295 313 316 329 330 332\n 335 336 340 343 345 346 354 362 364 368 369 381 407 408 409 415 416 424\n 428 431 433 434 435 442 446 449 459 469 485]",
         "0.49933549646295367",
         "0.5180722891566265",
         "0.5350492000777352",
         "0.5180722891566265"
        ],
        [
         "4",
         "4",
         "[  0   1   2   3   4   5   6   7   9  10  11  12  13  14  15  17  18  19\n  20  21  22  23  25  27  28  29  30  31  32  34  35  36  37  38  39  40\n  41  42  43  44  45  46  48  49  50  51  53  55  57  58  59  60  61  62\n  63  64  65  66  67  68  69  70  72  75  76  77  78  80  81  82  83  85\n  87  88  89  91  92  94  95  96  97  98  99 100 101 102 103 105 106 108\n 109 111 112 113 114 115 116 117 118 119 120 121 123 124 125 126 127 129\n 130 131 132 133 134 135 136 137 138 139 140 141 142 143 144 145 146 147\n 148 152 153 154 156 157 158 159 161 162 163 164 166 167 169 170 171 173\n 174 175 176 177 178 179 181 182 183 184 185 186 187 188 189 190 191 192\n 193 194 197 199 200 201 202 203 204 206 207 208 209 210 211 212 213 214\n 215 216 217 218 219 220 221 222 223 225 226 227 228 232 233 234 235 237\n 239 240 241 242 243 244 245 247 248 249 250 251 252 253 254 255 256 257\n 258 259 261 262 264 265 266 267 268 269 270 271 273 274 275 276 277 278\n 279 280 281 282 283 285 286 287 289 290 291 292 293 294 295 297 299 300\n 302 304 305 306 307 308 310 311 313 314 315 316 317 319 321 322 323 324\n 326 327 328 329 330 332 333 334 335 336 337 338 339 340 341 343 344 345\n 346 347 348 349 350 352 353 354 355 356 357 358 359 360 362 364 365 366\n 367 368 369 370 371 372 373 374 375 376 379 380 381 382 383 384 387 388\n 389 390 391 393 394 395 396 398 399 400 401 402 403 404 405 406 407 408\n 409 410 411 412 414 415 416 417 418 419 421 422 423 424 425 426 427 428\n 429 430 431 433 434 435 436 437 438 440 441 442 443 444 445 446 447 449\n 450 451 452 453 455 456 458 459 460 461 462 463 464 467 468 469 471 472\n 473 475 476 477 478 479 480 481 482 483 485 487 488 489 490 492 493 494]",
         "[  8  16  24  26  33  47  52  54  56  71  73  74  79  84  86  90  93 104\n 107 110 122 128 149 150 151 155 160 165 168 172 180 195 196 198 205 224\n 229 230 231 236 238 246 260 263 272 284 288 296 298 301 303 309 312 318\n 320 325 331 342 351 361 363 377 378 385 386 392 397 413 420 432 439 448\n 454 457 465 466 470 474 484 486 491 495]",
         "0.4414025475505712",
         "0.47560975609756095",
         "0.533573100341393",
         "0.47560975609756095"
        ],
        [
         "5",
         "5",
         "[  0   1   2   4   5   7   8   9  11  13  16  17  18  20  21  22  23  24\n  25  26  27  28  29  30  31  33  34  35  36  37  38  39  40  42  44  46\n  47  48  50  51  52  53  54  55  56  57  58  60  61  62  63  65  66  67\n  68  69  70  71  72  73  74  75  77  78  79  82  83  84  85  86  87  88\n  89  90  91  92  93  94  96  97  98  99 100 102 104 105 106 107 108 109\n 110 111 112 114 115 116 117 119 120 121 122 123 124 126 127 128 131 132\n 133 134 135 137 139 140 141 144 146 147 148 149 150 151 152 154 155 156\n 157 158 159 160 162 163 164 165 166 167 168 169 170 171 172 173 174 175\n 176 177 178 179 180 181 183 184 185 186 187 188 189 190 191 192 193 194\n 195 196 197 198 200 201 203 204 205 206 208 210 211 213 214 216 217 220\n 221 223 224 225 226 227 228 229 230 231 232 233 234 235 236 237 238 240\n 241 242 243 244 245 246 248 249 250 252 253 254 255 256 257 259 260 261\n 262 263 264 265 266 268 269 270 271 272 274 275 276 278 279 280 281 282\n 283 284 285 287 288 289 290 291 292 293 294 295 296 297 298 299 300 301\n 303 305 306 307 309 310 311 312 313 314 315 316 318 320 321 322 323 324\n 325 326 327 328 329 330 331 332 333 334 335 336 338 340 341 342 343 345\n 346 348 349 351 352 353 354 356 357 358 359 361 362 363 364 365 367 368\n 369 370 371 372 373 374 375 376 377 378 380 381 382 384 385 386 387 389\n 390 392 393 394 395 396 397 398 400 401 402 403 404 405 406 407 408 409\n 413 415 416 417 419 420 421 422 423 424 425 427 428 429 431 432 433 434\n 435 437 438 439 441 442 444 445 446 447 448 449 450 451 453 454 455 456\n 457 458 459 460 461 462 463 464 465 466 467 468 469 470 471 473 474 476\n 477 478 480 481 482 483 484 485 486 487 488 489 490 491 492 493 494 495]",
         "[  3   6  10  12  14  15  19  32  41  43  45  49  59  64  76  80  81  95\n 101 103 113 118 125 129 130 136 138 142 143 145 153 161 182 199 202 207\n 209 212 215 218 219 222 239 247 251 258 267 273 277 286 302 304 308 317\n 319 337 339 344 347 350 355 360 366 379 383 388 391 399 410 411 412 414\n 418 426 430 436 440 443 452 472 475 479]",
         "0.43389354547891135",
         "0.43902439024390244",
         "0.48879604028833806",
         "0.43902439024390244"
        ]
       ],
       "shape": {
        "columns": 7,
        "rows": 6
       }
      },
      "text/html": [
       "<div>\n",
       "<style scoped>\n",
       "    .dataframe tbody tr th:only-of-type {\n",
       "        vertical-align: middle;\n",
       "    }\n",
       "\n",
       "    .dataframe tbody tr th {\n",
       "        vertical-align: top;\n",
       "    }\n",
       "\n",
       "    .dataframe thead th {\n",
       "        text-align: right;\n",
       "    }\n",
       "</style>\n",
       "<table border=\"1\" class=\"dataframe\">\n",
       "  <thead>\n",
       "    <tr style=\"text-align: right;\">\n",
       "      <th></th>\n",
       "      <th>fold</th>\n",
       "      <th>train_idx</th>\n",
       "      <th>test_idx</th>\n",
       "      <th>rf_f1</th>\n",
       "      <th>rf_recall</th>\n",
       "      <th>rf_precision</th>\n",
       "      <th>rf_accuracy</th>\n",
       "    </tr>\n",
       "  </thead>\n",
       "  <tbody>\n",
       "    <tr>\n",
       "      <th>0</th>\n",
       "      <td>0</td>\n",
       "      <td>[0, 3, 4, 6, 7, 8, 9, 10, 11, 12, 13, 14, 15, ...</td>\n",
       "      <td>[1, 2, 5, 21, 23, 28, 31, 36, 63, 75, 85, 98, ...</td>\n",
       "      <td>0.437647</td>\n",
       "      <td>0.457831</td>\n",
       "      <td>0.446787</td>\n",
       "      <td>0.457831</td>\n",
       "    </tr>\n",
       "    <tr>\n",
       "      <th>1</th>\n",
       "      <td>1</td>\n",
       "      <td>[1, 2, 3, 5, 6, 7, 8, 9, 10, 11, 12, 13, 14, 1...</td>\n",
       "      <td>[0, 4, 22, 29, 30, 39, 42, 48, 50, 53, 55, 65,...</td>\n",
       "      <td>0.467416</td>\n",
       "      <td>0.493976</td>\n",
       "      <td>0.510756</td>\n",
       "      <td>0.493976</td>\n",
       "    </tr>\n",
       "    <tr>\n",
       "      <th>2</th>\n",
       "      <td>2</td>\n",
       "      <td>[0, 1, 2, 3, 4, 5, 6, 8, 9, 10, 11, 12, 14, 15...</td>\n",
       "      <td>[7, 13, 18, 20, 35, 44, 60, 61, 70, 78, 91, 96...</td>\n",
       "      <td>0.541923</td>\n",
       "      <td>0.554217</td>\n",
       "      <td>0.552932</td>\n",
       "      <td>0.554217</td>\n",
       "    </tr>\n",
       "    <tr>\n",
       "      <th>3</th>\n",
       "      <td>3</td>\n",
       "      <td>[0, 1, 2, 3, 4, 5, 6, 7, 8, 10, 12, 13, 14, 15...</td>\n",
       "      <td>[9, 11, 17, 25, 27, 34, 37, 38, 40, 46, 51, 57...</td>\n",
       "      <td>0.499335</td>\n",
       "      <td>0.518072</td>\n",
       "      <td>0.535049</td>\n",
       "      <td>0.518072</td>\n",
       "    </tr>\n",
       "    <tr>\n",
       "      <th>4</th>\n",
       "      <td>4</td>\n",
       "      <td>[0, 1, 2, 3, 4, 5, 6, 7, 9, 10, 11, 12, 13, 14...</td>\n",
       "      <td>[8, 16, 24, 26, 33, 47, 52, 54, 56, 71, 73, 74...</td>\n",
       "      <td>0.441403</td>\n",
       "      <td>0.475610</td>\n",
       "      <td>0.533573</td>\n",
       "      <td>0.475610</td>\n",
       "    </tr>\n",
       "    <tr>\n",
       "      <th>5</th>\n",
       "      <td>5</td>\n",
       "      <td>[0, 1, 2, 4, 5, 7, 8, 9, 11, 13, 16, 17, 18, 2...</td>\n",
       "      <td>[3, 6, 10, 12, 14, 15, 19, 32, 41, 43, 45, 49,...</td>\n",
       "      <td>0.433894</td>\n",
       "      <td>0.439024</td>\n",
       "      <td>0.488796</td>\n",
       "      <td>0.439024</td>\n",
       "    </tr>\n",
       "  </tbody>\n",
       "</table>\n",
       "</div>"
      ],
      "text/plain": [
       "   fold                                          train_idx  \\\n",
       "0     0  [0, 3, 4, 6, 7, 8, 9, 10, 11, 12, 13, 14, 15, ...   \n",
       "1     1  [1, 2, 3, 5, 6, 7, 8, 9, 10, 11, 12, 13, 14, 1...   \n",
       "2     2  [0, 1, 2, 3, 4, 5, 6, 8, 9, 10, 11, 12, 14, 15...   \n",
       "3     3  [0, 1, 2, 3, 4, 5, 6, 7, 8, 10, 12, 13, 14, 15...   \n",
       "4     4  [0, 1, 2, 3, 4, 5, 6, 7, 9, 10, 11, 12, 13, 14...   \n",
       "5     5  [0, 1, 2, 4, 5, 7, 8, 9, 11, 13, 16, 17, 18, 2...   \n",
       "\n",
       "                                            test_idx     rf_f1  rf_recall  \\\n",
       "0  [1, 2, 5, 21, 23, 28, 31, 36, 63, 75, 85, 98, ...  0.437647   0.457831   \n",
       "1  [0, 4, 22, 29, 30, 39, 42, 48, 50, 53, 55, 65,...  0.467416   0.493976   \n",
       "2  [7, 13, 18, 20, 35, 44, 60, 61, 70, 78, 91, 96...  0.541923   0.554217   \n",
       "3  [9, 11, 17, 25, 27, 34, 37, 38, 40, 46, 51, 57...  0.499335   0.518072   \n",
       "4  [8, 16, 24, 26, 33, 47, 52, 54, 56, 71, 73, 74...  0.441403   0.475610   \n",
       "5  [3, 6, 10, 12, 14, 15, 19, 32, 41, 43, 45, 49,...  0.433894   0.439024   \n",
       "\n",
       "   rf_precision  rf_accuracy  \n",
       "0      0.446787     0.457831  \n",
       "1      0.510756     0.493976  \n",
       "2      0.552932     0.554217  \n",
       "3      0.535049     0.518072  \n",
       "4      0.533573     0.475610  \n",
       "5      0.488796     0.439024  "
      ]
     },
     "execution_count": 4,
     "metadata": {},
     "output_type": "execute_result"
    }
   ],
   "source": [
    "get_cross_validation_results(get_rocket_pred)"
   ]
  },
  {
   "cell_type": "markdown",
   "id": "c1398917",
   "metadata": {},
   "source": [
    "# RDST TRIALS"
   ]
  },
  {
   "cell_type": "code",
   "execution_count": 2,
   "id": "a27a18e1",
   "metadata": {},
   "outputs": [
    {
     "name": "stdout",
     "output_type": "stream",
     "text": [
      "Accuracy: 0.58\n"
     ]
    }
   ],
   "source": [
    "from RDST.rdst import RDST_GAP\n",
    "\n",
    "rdst = RDST_GAP(save_transformed_data = True)\n",
    "rdst.fit(X_train, y_train, static = static2023_train)\n",
    "pred = rdst.predict(X_test, static = static2024_test)\n",
    "score = (pred == y_test).mean()\n",
    "print(f\"Accuracy: {score:.2f}\")"
   ]
  },
  {
   "cell_type": "code",
   "execution_count": 4,
   "id": "62115375",
   "metadata": {},
   "outputs": [
    {
     "name": "stdout",
     "output_type": "stream",
     "text": [
      "Fold 1/6: 413 train samples, 83 test samples\n"
     ]
    },
    {
     "name": "stderr",
     "output_type": "stream",
     "text": [
      "/yunity/arusty/PF-GAP/.venv/lib/python3.12/site-packages/sklearn/metrics/_classification.py:1531: UndefinedMetricWarning: Precision is ill-defined and being set to 0.0 in labels with no predicted samples. Use `zero_division` parameter to control this behavior.\n",
      "  _warn_prf(average, modifier, f\"{metric.capitalize()} is\", len(result))\n"
     ]
    },
    {
     "name": "stdout",
     "output_type": "stream",
     "text": [
      "Fold 2/6: 413 train samples, 83 test samples\n"
     ]
    },
    {
     "name": "stderr",
     "output_type": "stream",
     "text": [
      "/yunity/arusty/PF-GAP/.venv/lib/python3.12/site-packages/sklearn/metrics/_classification.py:1531: UndefinedMetricWarning: Precision is ill-defined and being set to 0.0 in labels with no predicted samples. Use `zero_division` parameter to control this behavior.\n",
      "  _warn_prf(average, modifier, f\"{metric.capitalize()} is\", len(result))\n"
     ]
    },
    {
     "name": "stdout",
     "output_type": "stream",
     "text": [
      "Fold 3/6: 413 train samples, 83 test samples\n"
     ]
    },
    {
     "name": "stderr",
     "output_type": "stream",
     "text": [
      "/yunity/arusty/PF-GAP/.venv/lib/python3.12/site-packages/sklearn/metrics/_classification.py:1531: UndefinedMetricWarning: Precision is ill-defined and being set to 0.0 in labels with no predicted samples. Use `zero_division` parameter to control this behavior.\n",
      "  _warn_prf(average, modifier, f\"{metric.capitalize()} is\", len(result))\n"
     ]
    },
    {
     "name": "stdout",
     "output_type": "stream",
     "text": [
      "Fold 4/6: 413 train samples, 83 test samples\n"
     ]
    },
    {
     "name": "stderr",
     "output_type": "stream",
     "text": [
      "/yunity/arusty/PF-GAP/.venv/lib/python3.12/site-packages/sklearn/metrics/_classification.py:1531: UndefinedMetricWarning: Precision is ill-defined and being set to 0.0 in labels with no predicted samples. Use `zero_division` parameter to control this behavior.\n",
      "  _warn_prf(average, modifier, f\"{metric.capitalize()} is\", len(result))\n"
     ]
    },
    {
     "name": "stdout",
     "output_type": "stream",
     "text": [
      "Fold 5/6: 414 train samples, 82 test samples\n"
     ]
    },
    {
     "name": "stderr",
     "output_type": "stream",
     "text": [
      "/yunity/arusty/PF-GAP/.venv/lib/python3.12/site-packages/sklearn/metrics/_classification.py:1531: UndefinedMetricWarning: Precision is ill-defined and being set to 0.0 in labels with no predicted samples. Use `zero_division` parameter to control this behavior.\n",
      "  _warn_prf(average, modifier, f\"{metric.capitalize()} is\", len(result))\n"
     ]
    },
    {
     "name": "stdout",
     "output_type": "stream",
     "text": [
      "Fold 6/6: 414 train samples, 82 test samples\n"
     ]
    },
    {
     "name": "stderr",
     "output_type": "stream",
     "text": [
      "/yunity/arusty/PF-GAP/.venv/lib/python3.12/site-packages/sklearn/metrics/_classification.py:1531: UndefinedMetricWarning: Precision is ill-defined and being set to 0.0 in labels with no predicted samples. Use `zero_division` parameter to control this behavior.\n",
      "  _warn_prf(average, modifier, f\"{metric.capitalize()} is\", len(result))\n"
     ]
    },
    {
     "data": {
      "application/vnd.microsoft.datawrangler.viewer.v0+json": {
       "columns": [
        {
         "name": "index",
         "rawType": "int64",
         "type": "integer"
        },
        {
         "name": "fold",
         "rawType": "int64",
         "type": "integer"
        },
        {
         "name": "train_idx",
         "rawType": "object",
         "type": "unknown"
        },
        {
         "name": "test_idx",
         "rawType": "object",
         "type": "unknown"
        },
        {
         "name": "rf_f1",
         "rawType": "float64",
         "type": "float"
        },
        {
         "name": "rf_recall",
         "rawType": "float64",
         "type": "float"
        },
        {
         "name": "rf_precision",
         "rawType": "float64",
         "type": "float"
        },
        {
         "name": "rf_accuracy",
         "rawType": "float64",
         "type": "float"
        }
       ],
       "conversionMethod": "pd.DataFrame",
       "ref": "f0c1c139-beca-4f3f-a6c5-e7d93e5a6139",
       "rows": [
        [
         "0",
         "0",
         "[  0   3   4   6   7   8   9  10  11  12  13  14  15  16  17  18  19  20\n  22  24  25  26  27  29  30  32  33  34  35  37  38  39  40  41  42  43\n  44  45  46  47  48  49  50  51  52  53  54  55  56  57  58  59  60  61\n  62  64  65  66  67  68  69  70  71  72  73  74  76  77  78  79  80  81\n  82  83  84  86  87  88  89  90  91  92  93  94  95  96  97  99 100 101\n 102 103 104 105 106 107 108 109 110 111 112 113 114 115 116 118 120 122\n 123 124 125 126 127 128 129 130 133 135 136 138 140 142 143 144 145 149\n 150 151 152 153 154 155 156 158 159 160 161 162 163 164 165 166 167 168\n 169 170 171 172 173 175 176 179 180 181 182 183 185 186 188 189 190 191\n 192 193 194 195 196 198 199 200 202 203 204 205 206 207 209 210 211 212\n 213 214 215 216 217 218 219 220 222 224 228 229 230 231 232 233 234 235\n 236 237 238 239 240 242 243 244 245 246 247 249 250 251 252 255 256 257\n 258 259 260 261 263 264 265 266 267 268 269 270 272 273 274 276 277 279\n 280 281 282 284 285 286 287 288 290 292 293 294 295 296 298 301 302 303\n 304 308 309 310 311 312 313 314 316 317 318 319 320 323 325 326 329 330\n 331 332 334 335 336 337 338 339 340 342 343 344 345 346 347 348 349 350\n 351 353 354 355 356 357 359 360 361 362 363 364 365 366 367 368 369 370\n 371 372 373 374 375 376 377 378 379 381 382 383 384 385 386 387 388 389\n 390 391 392 394 395 396 397 399 401 402 404 405 407 408 409 410 411 412\n 413 414 415 416 418 419 420 421 424 425 426 427 428 429 430 431 432 433\n 434 435 436 437 438 439 440 441 442 443 444 445 446 448 449 450 451 452\n 454 455 457 458 459 461 462 463 464 465 466 467 468 469 470 471 472 473\n 474 475 476 477 478 479 480 481 484 485 486 487 490 491 492 494 495]",
         "[  1   2   5  21  23  28  31  36  63  75  85  98 117 119 121 131 132 134\n 137 139 141 146 147 148 157 174 177 178 184 187 197 201 208 221 223 225\n 226 227 241 248 253 254 262 271 275 278 283 289 291 297 299 300 305 306\n 307 315 321 322 324 327 328 333 341 352 358 380 393 398 400 403 406 417\n 422 423 447 453 456 460 482 483 488 489 493]",
         "0.5768690788698709",
         "0.5783132530120482",
         "0.6549294079414562",
         "0.5783132530120482"
        ],
        [
         "1",
         "1",
         "[  1   2   3   5   6   7   8   9  10  11  12  13  14  15  16  17  18  19\n  20  21  23  24  25  26  27  28  31  32  33  34  35  36  37  38  40  41\n  43  44  45  46  47  49  51  52  54  56  57  58  59  60  61  62  63  64\n  70  71  72  73  74  75  76  77  78  79  80  81  82  83  84  85  86  87\n  89  90  91  93  95  96  98  99 101 102 103 104 105 107 108 109 110 111\n 112 113 115 117 118 119 120 121 122 123 124 125 126 127 128 129 130 131\n 132 134 135 136 137 138 139 140 141 142 143 144 145 146 147 148 149 150\n 151 152 153 154 155 157 158 159 160 161 162 163 164 165 166 168 171 172\n 174 177 178 179 180 181 182 184 185 187 188 189 191 192 194 195 196 197\n 198 199 200 201 202 205 206 207 208 209 210 212 213 214 215 216 217 218\n 219 221 222 223 224 225 226 227 228 229 230 231 232 233 234 236 238 239\n 240 241 242 243 244 246 247 248 249 250 251 253 254 256 258 259 260 261\n 262 263 264 265 267 269 270 271 272 273 274 275 277 278 279 280 281 283\n 284 285 286 287 288 289 291 292 293 295 296 297 298 299 300 301 302 303\n 304 305 306 307 308 309 310 312 313 314 315 316 317 318 319 320 321 322\n 323 324 325 327 328 329 330 331 332 333 334 335 336 337 338 339 340 341\n 342 343 344 345 346 347 350 351 352 353 354 355 356 358 359 360 361 362\n 363 364 365 366 368 369 370 371 373 374 377 378 379 380 381 382 383 384\n 385 386 387 388 389 391 392 393 394 395 396 397 398 399 400 401 402 403\n 404 405 406 407 408 409 410 411 412 413 414 415 416 417 418 419 420 422\n 423 424 426 428 430 431 432 433 434 435 436 437 439 440 442 443 446 447\n 448 449 450 451 452 453 454 456 457 459 460 463 464 465 466 467 469 470\n 472 473 474 475 479 482 483 484 485 486 488 489 490 491 492 493 495]",
         "[  0   4  22  29  30  39  42  48  50  53  55  65  66  67  68  69  88  92\n  94  97 100 106 114 116 133 156 167 169 170 173 175 176 183 186 190 193\n 203 204 211 220 235 237 245 252 255 257 266 268 276 282 290 294 311 326\n 348 349 357 367 372 375 376 390 421 425 427 429 438 441 444 445 455 458\n 461 462 468 471 476 477 478 480 481 487 494]",
         "0.5662186498564267",
         "0.5783132530120482",
         "0.6051853704454956",
         "0.5783132530120482"
        ],
        [
         "2",
         "2",
         "[  0   1   2   3   4   5   6   8   9  10  11  12  14  15  16  17  19  21\n  22  23  24  25  26  27  28  29  30  31  32  33  34  36  37  38  39  40\n  41  42  43  45  46  47  48  49  50  51  52  53  54  55  56  57  58  59\n  62  63  64  65  66  67  68  69  71  72  73  74  75  76  77  79  80  81\n  82  83  84  85  86  87  88  89  90  92  93  94  95  97  98 100 101 103\n 104 106 107 108 110 113 114 115 116 117 118 119 121 122 123 125 126 128\n 129 130 131 132 133 134 135 136 137 138 139 141 142 143 145 146 147 148\n 149 150 151 153 154 155 156 157 160 161 162 164 165 167 168 169 170 171\n 172 173 174 175 176 177 178 180 182 183 184 185 186 187 188 190 191 193\n 195 196 197 198 199 201 202 203 204 205 207 208 209 210 211 212 213 214\n 215 216 218 219 220 221 222 223 224 225 226 227 228 229 230 231 232 233\n 234 235 236 237 238 239 240 241 243 244 245 246 247 248 250 251 252 253\n 254 255 257 258 260 261 262 263 266 267 268 270 271 272 273 274 275 276\n 277 278 282 283 284 285 286 288 289 290 291 294 295 296 297 298 299 300\n 301 302 303 304 305 306 307 308 309 311 312 313 315 316 317 318 319 320\n 321 322 324 325 326 327 328 329 330 331 332 333 335 336 337 339 340 341\n 342 343 344 345 346 347 348 349 350 351 352 354 355 357 358 360 361 362\n 363 364 366 367 368 369 372 375 376 377 378 379 380 381 383 385 386 388\n 390 391 392 393 397 398 399 400 403 406 407 408 409 410 411 412 413 414\n 415 416 417 418 420 421 422 423 424 425 426 427 428 429 430 431 432 433\n 434 435 436 438 439 440 441 442 443 444 445 446 447 448 449 452 453 454\n 455 456 457 458 459 460 461 462 465 466 468 469 470 471 472 474 475 476\n 477 478 479 480 481 482 483 484 485 486 487 488 489 491 493 494 495]",
         "[  7  13  18  20  35  44  60  61  70  78  91  96  99 102 105 109 111 112\n 120 124 127 140 144 152 158 159 163 166 179 181 189 192 194 200 206 217\n 242 249 256 259 264 265 269 279 280 281 287 292 293 310 314 323 334 338\n 353 356 359 365 370 371 373 374 382 384 387 389 394 395 396 401 402 404\n 405 419 437 450 451 463 464 467 473 490 492]",
         "0.5467347021563889",
         "0.5662650602409639",
         "0.5697197882438847",
         "0.5662650602409639"
        ],
        [
         "3",
         "3",
         "[  0   1   2   3   4   5   6   7   8  10  12  13  14  15  16  18  19  20\n  21  22  23  24  26  28  29  30  31  32  33  35  36  39  41  42  43  44\n  45  47  48  49  50  52  53  54  55  56  59  60  61  63  64  65  66  67\n  68  69  70  71  73  74  75  76  78  79  80  81  84  85  86  88  90  91\n  92  93  94  95  96  97  98  99 100 101 102 103 104 105 106 107 109 110\n 111 112 113 114 116 117 118 119 120 121 122 124 125 127 128 129 130 131\n 132 133 134 136 137 138 139 140 141 142 143 144 145 146 147 148 149 150\n 151 152 153 155 156 157 158 159 160 161 163 165 166 167 168 169 170 172\n 173 174 175 176 177 178 179 180 181 182 183 184 186 187 189 190 192 193\n 194 195 196 197 198 199 200 201 202 203 204 205 206 207 208 209 211 212\n 215 217 218 219 220 221 222 223 224 225 226 227 229 230 231 235 236 237\n 238 239 241 242 245 246 247 248 249 251 252 253 254 255 256 257 258 259\n 260 262 263 264 265 266 267 268 269 271 272 273 275 276 277 278 279 280\n 281 282 283 284 286 287 288 289 290 291 292 293 294 296 297 298 299 300\n 301 302 303 304 305 306 307 308 309 310 311 312 314 315 317 318 319 320\n 321 322 323 324 325 326 327 328 331 333 334 337 338 339 341 342 344 347\n 348 349 350 351 352 353 355 356 357 358 359 360 361 363 365 366 367 370\n 371 372 373 374 375 376 377 378 379 380 382 383 384 385 386 387 388 389\n 390 391 392 393 394 395 396 397 398 399 400 401 402 403 404 405 406 410\n 411 412 413 414 417 418 419 420 421 422 423 425 426 427 429 430 432 436\n 437 438 439 440 441 443 444 445 447 448 450 451 452 453 454 455 456 457\n 458 460 461 462 463 464 465 466 467 468 470 471 472 473 474 475 476 477\n 478 479 480 481 482 483 484 486 487 488 489 490 491 492 493 494 495]",
         "[  9  11  17  25  27  34  37  38  40  46  51  57  58  62  72  77  82  83\n  87  89 108 115 123 126 135 154 162 164 171 185 188 191 210 213 214 216\n 228 232 233 234 240 243 244 250 261 270 274 285 295 313 316 329 330 332\n 335 336 340 343 345 346 354 362 364 368 369 381 407 408 409 415 416 424\n 428 431 433 434 435 442 446 449 459 469 485]",
         "0.6379854823018782",
         "0.6506024096385542",
         "0.6977911646586346",
         "0.6506024096385542"
        ],
        [
         "4",
         "4",
         "[  0   1   2   3   4   5   6   7   9  10  11  12  13  14  15  17  18  19\n  20  21  22  23  25  27  28  29  30  31  32  34  35  36  37  38  39  40\n  41  42  43  44  45  46  48  49  50  51  53  55  57  58  59  60  61  62\n  63  64  65  66  67  68  69  70  72  75  76  77  78  80  81  82  83  85\n  87  88  89  91  92  94  95  96  97  98  99 100 101 102 103 105 106 108\n 109 111 112 113 114 115 116 117 118 119 120 121 123 124 125 126 127 129\n 130 131 132 133 134 135 136 137 138 139 140 141 142 143 144 145 146 147\n 148 152 153 154 156 157 158 159 161 162 163 164 166 167 169 170 171 173\n 174 175 176 177 178 179 181 182 183 184 185 186 187 188 189 190 191 192\n 193 194 197 199 200 201 202 203 204 206 207 208 209 210 211 212 213 214\n 215 216 217 218 219 220 221 222 223 225 226 227 228 232 233 234 235 237\n 239 240 241 242 243 244 245 247 248 249 250 251 252 253 254 255 256 257\n 258 259 261 262 264 265 266 267 268 269 270 271 273 274 275 276 277 278\n 279 280 281 282 283 285 286 287 289 290 291 292 293 294 295 297 299 300\n 302 304 305 306 307 308 310 311 313 314 315 316 317 319 321 322 323 324\n 326 327 328 329 330 332 333 334 335 336 337 338 339 340 341 343 344 345\n 346 347 348 349 350 352 353 354 355 356 357 358 359 360 362 364 365 366\n 367 368 369 370 371 372 373 374 375 376 379 380 381 382 383 384 387 388\n 389 390 391 393 394 395 396 398 399 400 401 402 403 404 405 406 407 408\n 409 410 411 412 414 415 416 417 418 419 421 422 423 424 425 426 427 428\n 429 430 431 433 434 435 436 437 438 440 441 442 443 444 445 446 447 449\n 450 451 452 453 455 456 458 459 460 461 462 463 464 467 468 469 471 472\n 473 475 476 477 478 479 480 481 482 483 485 487 488 489 490 492 493 494]",
         "[  8  16  24  26  33  47  52  54  56  71  73  74  79  84  86  90  93 104\n 107 110 122 128 149 150 151 155 160 165 168 172 180 195 196 198 205 224\n 229 230 231 236 238 246 260 263 272 284 288 296 298 301 303 309 312 318\n 320 325 331 342 351 361 363 377 378 385 386 392 397 413 420 432 439 448\n 454 457 465 466 470 474 484 486 491 495]",
         "0.5613576346631545",
         "0.5975609756097561",
         "0.6228040252430496",
         "0.5975609756097561"
        ],
        [
         "5",
         "5",
         "[  0   1   2   4   5   7   8   9  11  13  16  17  18  20  21  22  23  24\n  25  26  27  28  29  30  31  33  34  35  36  37  38  39  40  42  44  46\n  47  48  50  51  52  53  54  55  56  57  58  60  61  62  63  65  66  67\n  68  69  70  71  72  73  74  75  77  78  79  82  83  84  85  86  87  88\n  89  90  91  92  93  94  96  97  98  99 100 102 104 105 106 107 108 109\n 110 111 112 114 115 116 117 119 120 121 122 123 124 126 127 128 131 132\n 133 134 135 137 139 140 141 144 146 147 148 149 150 151 152 154 155 156\n 157 158 159 160 162 163 164 165 166 167 168 169 170 171 172 173 174 175\n 176 177 178 179 180 181 183 184 185 186 187 188 189 190 191 192 193 194\n 195 196 197 198 200 201 203 204 205 206 208 210 211 213 214 216 217 220\n 221 223 224 225 226 227 228 229 230 231 232 233 234 235 236 237 238 240\n 241 242 243 244 245 246 248 249 250 252 253 254 255 256 257 259 260 261\n 262 263 264 265 266 268 269 270 271 272 274 275 276 278 279 280 281 282\n 283 284 285 287 288 289 290 291 292 293 294 295 296 297 298 299 300 301\n 303 305 306 307 309 310 311 312 313 314 315 316 318 320 321 322 323 324\n 325 326 327 328 329 330 331 332 333 334 335 336 338 340 341 342 343 345\n 346 348 349 351 352 353 354 356 357 358 359 361 362 363 364 365 367 368\n 369 370 371 372 373 374 375 376 377 378 380 381 382 384 385 386 387 389\n 390 392 393 394 395 396 397 398 400 401 402 403 404 405 406 407 408 409\n 413 415 416 417 419 420 421 422 423 424 425 427 428 429 431 432 433 434\n 435 437 438 439 441 442 444 445 446 447 448 449 450 451 453 454 455 456\n 457 458 459 460 461 462 463 464 465 466 467 468 469 470 471 473 474 476\n 477 478 480 481 482 483 484 485 486 487 488 489 490 491 492 493 494 495]",
         "[  3   6  10  12  14  15  19  32  41  43  45  49  59  64  76  80  81  95\n 101 103 113 118 125 129 130 136 138 142 143 145 153 161 182 199 202 207\n 209 212 215 218 219 222 239 247 251 258 267 273 277 286 302 304 308 317\n 319 337 339 344 347 350 355 360 366 379 383 388 391 399 410 411 412 414\n 418 426 430 436 440 443 452 472 475 479]",
         "0.5867134220792757",
         "0.5975609756097561",
         "0.647128609516286",
         "0.5975609756097561"
        ]
       ],
       "shape": {
        "columns": 7,
        "rows": 6
       }
      },
      "text/html": [
       "<div>\n",
       "<style scoped>\n",
       "    .dataframe tbody tr th:only-of-type {\n",
       "        vertical-align: middle;\n",
       "    }\n",
       "\n",
       "    .dataframe tbody tr th {\n",
       "        vertical-align: top;\n",
       "    }\n",
       "\n",
       "    .dataframe thead th {\n",
       "        text-align: right;\n",
       "    }\n",
       "</style>\n",
       "<table border=\"1\" class=\"dataframe\">\n",
       "  <thead>\n",
       "    <tr style=\"text-align: right;\">\n",
       "      <th></th>\n",
       "      <th>fold</th>\n",
       "      <th>train_idx</th>\n",
       "      <th>test_idx</th>\n",
       "      <th>rf_f1</th>\n",
       "      <th>rf_recall</th>\n",
       "      <th>rf_precision</th>\n",
       "      <th>rf_accuracy</th>\n",
       "    </tr>\n",
       "  </thead>\n",
       "  <tbody>\n",
       "    <tr>\n",
       "      <th>0</th>\n",
       "      <td>0</td>\n",
       "      <td>[0, 3, 4, 6, 7, 8, 9, 10, 11, 12, 13, 14, 15, ...</td>\n",
       "      <td>[1, 2, 5, 21, 23, 28, 31, 36, 63, 75, 85, 98, ...</td>\n",
       "      <td>0.576869</td>\n",
       "      <td>0.578313</td>\n",
       "      <td>0.654929</td>\n",
       "      <td>0.578313</td>\n",
       "    </tr>\n",
       "    <tr>\n",
       "      <th>1</th>\n",
       "      <td>1</td>\n",
       "      <td>[1, 2, 3, 5, 6, 7, 8, 9, 10, 11, 12, 13, 14, 1...</td>\n",
       "      <td>[0, 4, 22, 29, 30, 39, 42, 48, 50, 53, 55, 65,...</td>\n",
       "      <td>0.566219</td>\n",
       "      <td>0.578313</td>\n",
       "      <td>0.605185</td>\n",
       "      <td>0.578313</td>\n",
       "    </tr>\n",
       "    <tr>\n",
       "      <th>2</th>\n",
       "      <td>2</td>\n",
       "      <td>[0, 1, 2, 3, 4, 5, 6, 8, 9, 10, 11, 12, 14, 15...</td>\n",
       "      <td>[7, 13, 18, 20, 35, 44, 60, 61, 70, 78, 91, 96...</td>\n",
       "      <td>0.546735</td>\n",
       "      <td>0.566265</td>\n",
       "      <td>0.569720</td>\n",
       "      <td>0.566265</td>\n",
       "    </tr>\n",
       "    <tr>\n",
       "      <th>3</th>\n",
       "      <td>3</td>\n",
       "      <td>[0, 1, 2, 3, 4, 5, 6, 7, 8, 10, 12, 13, 14, 15...</td>\n",
       "      <td>[9, 11, 17, 25, 27, 34, 37, 38, 40, 46, 51, 57...</td>\n",
       "      <td>0.637985</td>\n",
       "      <td>0.650602</td>\n",
       "      <td>0.697791</td>\n",
       "      <td>0.650602</td>\n",
       "    </tr>\n",
       "    <tr>\n",
       "      <th>4</th>\n",
       "      <td>4</td>\n",
       "      <td>[0, 1, 2, 3, 4, 5, 6, 7, 9, 10, 11, 12, 13, 14...</td>\n",
       "      <td>[8, 16, 24, 26, 33, 47, 52, 54, 56, 71, 73, 74...</td>\n",
       "      <td>0.561358</td>\n",
       "      <td>0.597561</td>\n",
       "      <td>0.622804</td>\n",
       "      <td>0.597561</td>\n",
       "    </tr>\n",
       "    <tr>\n",
       "      <th>5</th>\n",
       "      <td>5</td>\n",
       "      <td>[0, 1, 2, 4, 5, 7, 8, 9, 11, 13, 16, 17, 18, 2...</td>\n",
       "      <td>[3, 6, 10, 12, 14, 15, 19, 32, 41, 43, 45, 49,...</td>\n",
       "      <td>0.586713</td>\n",
       "      <td>0.597561</td>\n",
       "      <td>0.647129</td>\n",
       "      <td>0.597561</td>\n",
       "    </tr>\n",
       "  </tbody>\n",
       "</table>\n",
       "</div>"
      ],
      "text/plain": [
       "   fold                                          train_idx  \\\n",
       "0     0  [0, 3, 4, 6, 7, 8, 9, 10, 11, 12, 13, 14, 15, ...   \n",
       "1     1  [1, 2, 3, 5, 6, 7, 8, 9, 10, 11, 12, 13, 14, 1...   \n",
       "2     2  [0, 1, 2, 3, 4, 5, 6, 8, 9, 10, 11, 12, 14, 15...   \n",
       "3     3  [0, 1, 2, 3, 4, 5, 6, 7, 8, 10, 12, 13, 14, 15...   \n",
       "4     4  [0, 1, 2, 3, 4, 5, 6, 7, 9, 10, 11, 12, 13, 14...   \n",
       "5     5  [0, 1, 2, 4, 5, 7, 8, 9, 11, 13, 16, 17, 18, 2...   \n",
       "\n",
       "                                            test_idx     rf_f1  rf_recall  \\\n",
       "0  [1, 2, 5, 21, 23, 28, 31, 36, 63, 75, 85, 98, ...  0.576869   0.578313   \n",
       "1  [0, 4, 22, 29, 30, 39, 42, 48, 50, 53, 55, 65,...  0.566219   0.578313   \n",
       "2  [7, 13, 18, 20, 35, 44, 60, 61, 70, 78, 91, 96...  0.546735   0.566265   \n",
       "3  [9, 11, 17, 25, 27, 34, 37, 38, 40, 46, 51, 57...  0.637985   0.650602   \n",
       "4  [8, 16, 24, 26, 33, 47, 52, 54, 56, 71, 73, 74...  0.561358   0.597561   \n",
       "5  [3, 6, 10, 12, 14, 15, 19, 32, 41, 43, 45, 49,...  0.586713   0.597561   \n",
       "\n",
       "   rf_precision  rf_accuracy  \n",
       "0      0.654929     0.578313  \n",
       "1      0.605185     0.578313  \n",
       "2      0.569720     0.566265  \n",
       "3      0.697791     0.650602  \n",
       "4      0.622804     0.597561  \n",
       "5      0.647129     0.597561  "
      ]
     },
     "execution_count": 4,
     "metadata": {},
     "output_type": "execute_result"
    }
   ],
   "source": [
    "def get_rdst_pred(X_train, y_train, X_test, static_train, static_test):\n",
    "    rdst = RDST_GAP(save_transformed_data = True)\n",
    "    rdst.fit(X_train, y_train, static = static_train)\n",
    "    return rdst.predict(X_test, static = static_test)\n",
    "    \n",
    "\n",
    "get_cross_validation_results(get_rdst_pred)"
   ]
  },
  {
   "cell_type": "markdown",
   "id": "dd9d217f",
   "metadata": {},
   "source": [
    "# QUANT TRIALS"
   ]
  },
  {
   "cell_type": "code",
   "execution_count": 2,
   "id": "23e6cc44",
   "metadata": {},
   "outputs": [
    {
     "name": "stdout",
     "output_type": "stream",
     "text": [
      "Accuracy: 0.59\n"
     ]
    }
   ],
   "source": [
    "from QGAP.qgap import QGAP\n",
    "qgap= QGAP(matrix_type=\"dense\")\n",
    "\n",
    "qgap.fit(X_train,y_train, static = static2023_train)\n",
    "pred = qgap.predict(X_test, static = static2024_test)\n",
    "score = (pred == y_test).mean()\n",
    "print(f\"Accuracy: {score:.2f}\")"
   ]
  },
  {
   "cell_type": "code",
   "execution_count": 3,
   "id": "8419c34b",
   "metadata": {},
   "outputs": [
    {
     "name": "stdout",
     "output_type": "stream",
     "text": [
      "Fold 1/6: 413 train samples, 83 test samples\n"
     ]
    },
    {
     "name": "stderr",
     "output_type": "stream",
     "text": [
      "/yunity/arusty/PF-GAP/.venv/lib/python3.12/site-packages/sklearn/metrics/_classification.py:1531: UndefinedMetricWarning: Precision is ill-defined and being set to 0.0 in labels with no predicted samples. Use `zero_division` parameter to control this behavior.\n",
      "  _warn_prf(average, modifier, f\"{metric.capitalize()} is\", len(result))\n"
     ]
    },
    {
     "name": "stdout",
     "output_type": "stream",
     "text": [
      "Fold 2/6: 413 train samples, 83 test samples\n"
     ]
    },
    {
     "name": "stderr",
     "output_type": "stream",
     "text": [
      "/yunity/arusty/PF-GAP/.venv/lib/python3.12/site-packages/sklearn/metrics/_classification.py:1531: UndefinedMetricWarning: Precision is ill-defined and being set to 0.0 in labels with no predicted samples. Use `zero_division` parameter to control this behavior.\n",
      "  _warn_prf(average, modifier, f\"{metric.capitalize()} is\", len(result))\n"
     ]
    },
    {
     "name": "stdout",
     "output_type": "stream",
     "text": [
      "Fold 3/6: 413 train samples, 83 test samples\n"
     ]
    },
    {
     "name": "stderr",
     "output_type": "stream",
     "text": [
      "/yunity/arusty/PF-GAP/.venv/lib/python3.12/site-packages/sklearn/metrics/_classification.py:1531: UndefinedMetricWarning: Precision is ill-defined and being set to 0.0 in labels with no predicted samples. Use `zero_division` parameter to control this behavior.\n",
      "  _warn_prf(average, modifier, f\"{metric.capitalize()} is\", len(result))\n"
     ]
    },
    {
     "name": "stdout",
     "output_type": "stream",
     "text": [
      "Fold 4/6: 413 train samples, 83 test samples\n"
     ]
    },
    {
     "name": "stderr",
     "output_type": "stream",
     "text": [
      "/yunity/arusty/PF-GAP/.venv/lib/python3.12/site-packages/sklearn/metrics/_classification.py:1531: UndefinedMetricWarning: Precision is ill-defined and being set to 0.0 in labels with no predicted samples. Use `zero_division` parameter to control this behavior.\n",
      "  _warn_prf(average, modifier, f\"{metric.capitalize()} is\", len(result))\n"
     ]
    },
    {
     "name": "stdout",
     "output_type": "stream",
     "text": [
      "Fold 5/6: 414 train samples, 82 test samples\n"
     ]
    },
    {
     "name": "stderr",
     "output_type": "stream",
     "text": [
      "/yunity/arusty/PF-GAP/.venv/lib/python3.12/site-packages/sklearn/metrics/_classification.py:1531: UndefinedMetricWarning: Precision is ill-defined and being set to 0.0 in labels with no predicted samples. Use `zero_division` parameter to control this behavior.\n",
      "  _warn_prf(average, modifier, f\"{metric.capitalize()} is\", len(result))\n"
     ]
    },
    {
     "name": "stdout",
     "output_type": "stream",
     "text": [
      "Fold 6/6: 414 train samples, 82 test samples\n"
     ]
    },
    {
     "name": "stderr",
     "output_type": "stream",
     "text": [
      "/yunity/arusty/PF-GAP/.venv/lib/python3.12/site-packages/sklearn/metrics/_classification.py:1531: UndefinedMetricWarning: Precision is ill-defined and being set to 0.0 in labels with no predicted samples. Use `zero_division` parameter to control this behavior.\n",
      "  _warn_prf(average, modifier, f\"{metric.capitalize()} is\", len(result))\n"
     ]
    },
    {
     "data": {
      "application/vnd.microsoft.datawrangler.viewer.v0+json": {
       "columns": [
        {
         "name": "index",
         "rawType": "int64",
         "type": "integer"
        },
        {
         "name": "fold",
         "rawType": "int64",
         "type": "integer"
        },
        {
         "name": "train_idx",
         "rawType": "object",
         "type": "unknown"
        },
        {
         "name": "test_idx",
         "rawType": "object",
         "type": "unknown"
        },
        {
         "name": "rf_f1",
         "rawType": "float64",
         "type": "float"
        },
        {
         "name": "rf_recall",
         "rawType": "float64",
         "type": "float"
        },
        {
         "name": "rf_precision",
         "rawType": "float64",
         "type": "float"
        },
        {
         "name": "rf_accuracy",
         "rawType": "float64",
         "type": "float"
        }
       ],
       "conversionMethod": "pd.DataFrame",
       "ref": "4dfe2fd7-55c4-492b-8a8a-5ff50893708a",
       "rows": [
        [
         "0",
         "0",
         "[  0   3   4   6   7   8   9  10  11  12  13  14  15  16  17  18  19  20\n  22  24  25  26  27  29  30  32  33  34  35  37  38  39  40  41  42  43\n  44  45  46  47  48  49  50  51  52  53  54  55  56  57  58  59  60  61\n  62  64  65  66  67  68  69  70  71  72  73  74  76  77  78  79  80  81\n  82  83  84  86  87  88  89  90  91  92  93  94  95  96  97  99 100 101\n 102 103 104 105 106 107 108 109 110 111 112 113 114 115 116 118 120 122\n 123 124 125 126 127 128 129 130 133 135 136 138 140 142 143 144 145 149\n 150 151 152 153 154 155 156 158 159 160 161 162 163 164 165 166 167 168\n 169 170 171 172 173 175 176 179 180 181 182 183 185 186 188 189 190 191\n 192 193 194 195 196 198 199 200 202 203 204 205 206 207 209 210 211 212\n 213 214 215 216 217 218 219 220 222 224 228 229 230 231 232 233 234 235\n 236 237 238 239 240 242 243 244 245 246 247 249 250 251 252 255 256 257\n 258 259 260 261 263 264 265 266 267 268 269 270 272 273 274 276 277 279\n 280 281 282 284 285 286 287 288 290 292 293 294 295 296 298 301 302 303\n 304 308 309 310 311 312 313 314 316 317 318 319 320 323 325 326 329 330\n 331 332 334 335 336 337 338 339 340 342 343 344 345 346 347 348 349 350\n 351 353 354 355 356 357 359 360 361 362 363 364 365 366 367 368 369 370\n 371 372 373 374 375 376 377 378 379 381 382 383 384 385 386 387 388 389\n 390 391 392 394 395 396 397 399 401 402 404 405 407 408 409 410 411 412\n 413 414 415 416 418 419 420 421 424 425 426 427 428 429 430 431 432 433\n 434 435 436 437 438 439 440 441 442 443 444 445 446 448 449 450 451 452\n 454 455 457 458 459 461 462 463 464 465 466 467 468 469 470 471 472 473\n 474 475 476 477 478 479 480 481 484 485 486 487 490 491 492 494 495]",
         "[  1   2   5  21  23  28  31  36  63  75  85  98 117 119 121 131 132 134\n 137 139 141 146 147 148 157 174 177 178 184 187 197 201 208 221 223 225\n 226 227 241 248 253 254 262 271 275 278 283 289 291 297 299 300 305 306\n 307 315 321 322 324 327 328 333 341 352 358 380 393 398 400 403 406 417\n 422 423 447 453 456 460 482 483 488 489 493]",
         "0.5297385783845555",
         "0.5421686746987951",
         "0.5756358768406961",
         "0.5421686746987951"
        ],
        [
         "1",
         "1",
         "[  1   2   3   5   6   7   8   9  10  11  12  13  14  15  16  17  18  19\n  20  21  23  24  25  26  27  28  31  32  33  34  35  36  37  38  40  41\n  43  44  45  46  47  49  51  52  54  56  57  58  59  60  61  62  63  64\n  70  71  72  73  74  75  76  77  78  79  80  81  82  83  84  85  86  87\n  89  90  91  93  95  96  98  99 101 102 103 104 105 107 108 109 110 111\n 112 113 115 117 118 119 120 121 122 123 124 125 126 127 128 129 130 131\n 132 134 135 136 137 138 139 140 141 142 143 144 145 146 147 148 149 150\n 151 152 153 154 155 157 158 159 160 161 162 163 164 165 166 168 171 172\n 174 177 178 179 180 181 182 184 185 187 188 189 191 192 194 195 196 197\n 198 199 200 201 202 205 206 207 208 209 210 212 213 214 215 216 217 218\n 219 221 222 223 224 225 226 227 228 229 230 231 232 233 234 236 238 239\n 240 241 242 243 244 246 247 248 249 250 251 253 254 256 258 259 260 261\n 262 263 264 265 267 269 270 271 272 273 274 275 277 278 279 280 281 283\n 284 285 286 287 288 289 291 292 293 295 296 297 298 299 300 301 302 303\n 304 305 306 307 308 309 310 312 313 314 315 316 317 318 319 320 321 322\n 323 324 325 327 328 329 330 331 332 333 334 335 336 337 338 339 340 341\n 342 343 344 345 346 347 350 351 352 353 354 355 356 358 359 360 361 362\n 363 364 365 366 368 369 370 371 373 374 377 378 379 380 381 382 383 384\n 385 386 387 388 389 391 392 393 394 395 396 397 398 399 400 401 402 403\n 404 405 406 407 408 409 410 411 412 413 414 415 416 417 418 419 420 422\n 423 424 426 428 430 431 432 433 434 435 436 437 439 440 442 443 446 447\n 448 449 450 451 452 453 454 456 457 459 460 463 464 465 466 467 469 470\n 472 473 474 475 479 482 483 484 485 486 488 489 490 491 492 493 495]",
         "[  0   4  22  29  30  39  42  48  50  53  55  65  66  67  68  69  88  92\n  94  97 100 106 114 116 133 156 167 169 170 173 175 176 183 186 190 193\n 203 204 211 220 235 237 245 252 255 257 266 268 276 282 290 294 311 326\n 348 349 357 367 372 375 376 390 421 425 427 429 438 441 444 445 455 458\n 461 462 468 471 476 477 478 480 481 487 494]",
         "0.5738279792496659",
         "0.6024096385542169",
         "0.6060527825588067",
         "0.6024096385542169"
        ],
        [
         "2",
         "2",
         "[  0   1   2   3   4   5   6   8   9  10  11  12  14  15  16  17  19  21\n  22  23  24  25  26  27  28  29  30  31  32  33  34  36  37  38  39  40\n  41  42  43  45  46  47  48  49  50  51  52  53  54  55  56  57  58  59\n  62  63  64  65  66  67  68  69  71  72  73  74  75  76  77  79  80  81\n  82  83  84  85  86  87  88  89  90  92  93  94  95  97  98 100 101 103\n 104 106 107 108 110 113 114 115 116 117 118 119 121 122 123 125 126 128\n 129 130 131 132 133 134 135 136 137 138 139 141 142 143 145 146 147 148\n 149 150 151 153 154 155 156 157 160 161 162 164 165 167 168 169 170 171\n 172 173 174 175 176 177 178 180 182 183 184 185 186 187 188 190 191 193\n 195 196 197 198 199 201 202 203 204 205 207 208 209 210 211 212 213 214\n 215 216 218 219 220 221 222 223 224 225 226 227 228 229 230 231 232 233\n 234 235 236 237 238 239 240 241 243 244 245 246 247 248 250 251 252 253\n 254 255 257 258 260 261 262 263 266 267 268 270 271 272 273 274 275 276\n 277 278 282 283 284 285 286 288 289 290 291 294 295 296 297 298 299 300\n 301 302 303 304 305 306 307 308 309 311 312 313 315 316 317 318 319 320\n 321 322 324 325 326 327 328 329 330 331 332 333 335 336 337 339 340 341\n 342 343 344 345 346 347 348 349 350 351 352 354 355 357 358 360 361 362\n 363 364 366 367 368 369 372 375 376 377 378 379 380 381 383 385 386 388\n 390 391 392 393 397 398 399 400 403 406 407 408 409 410 411 412 413 414\n 415 416 417 418 420 421 422 423 424 425 426 427 428 429 430 431 432 433\n 434 435 436 438 439 440 441 442 443 444 445 446 447 448 449 452 453 454\n 455 456 457 458 459 460 461 462 465 466 468 469 470 471 472 474 475 476\n 477 478 479 480 481 482 483 484 485 486 487 488 489 491 493 494 495]",
         "[  7  13  18  20  35  44  60  61  70  78  91  96  99 102 105 109 111 112\n 120 124 127 140 144 152 158 159 163 166 179 181 189 192 194 200 206 217\n 242 249 256 259 264 265 269 279 280 281 287 292 293 310 314 323 334 338\n 353 356 359 365 370 371 373 374 382 384 387 389 394 395 396 401 402 404\n 405 419 437 450 451 463 464 467 473 490 492]",
         "0.6818929120680454",
         "0.6987951807228916",
         "0.6982885100774615",
         "0.6987951807228916"
        ],
        [
         "3",
         "3",
         "[  0   1   2   3   4   5   6   7   8  10  12  13  14  15  16  18  19  20\n  21  22  23  24  26  28  29  30  31  32  33  35  36  39  41  42  43  44\n  45  47  48  49  50  52  53  54  55  56  59  60  61  63  64  65  66  67\n  68  69  70  71  73  74  75  76  78  79  80  81  84  85  86  88  90  91\n  92  93  94  95  96  97  98  99 100 101 102 103 104 105 106 107 109 110\n 111 112 113 114 116 117 118 119 120 121 122 124 125 127 128 129 130 131\n 132 133 134 136 137 138 139 140 141 142 143 144 145 146 147 148 149 150\n 151 152 153 155 156 157 158 159 160 161 163 165 166 167 168 169 170 172\n 173 174 175 176 177 178 179 180 181 182 183 184 186 187 189 190 192 193\n 194 195 196 197 198 199 200 201 202 203 204 205 206 207 208 209 211 212\n 215 217 218 219 220 221 222 223 224 225 226 227 229 230 231 235 236 237\n 238 239 241 242 245 246 247 248 249 251 252 253 254 255 256 257 258 259\n 260 262 263 264 265 266 267 268 269 271 272 273 275 276 277 278 279 280\n 281 282 283 284 286 287 288 289 290 291 292 293 294 296 297 298 299 300\n 301 302 303 304 305 306 307 308 309 310 311 312 314 315 317 318 319 320\n 321 322 323 324 325 326 327 328 331 333 334 337 338 339 341 342 344 347\n 348 349 350 351 352 353 355 356 357 358 359 360 361 363 365 366 367 370\n 371 372 373 374 375 376 377 378 379 380 382 383 384 385 386 387 388 389\n 390 391 392 393 394 395 396 397 398 399 400 401 402 403 404 405 406 410\n 411 412 413 414 417 418 419 420 421 422 423 425 426 427 429 430 432 436\n 437 438 439 440 441 443 444 445 447 448 450 451 452 453 454 455 456 457\n 458 460 461 462 463 464 465 466 467 468 470 471 472 473 474 475 476 477\n 478 479 480 481 482 483 484 486 487 488 489 490 491 492 493 494 495]",
         "[  9  11  17  25  27  34  37  38  40  46  51  57  58  62  72  77  82  83\n  87  89 108 115 123 126 135 154 162 164 171 185 188 191 210 213 214 216\n 228 232 233 234 240 243 244 250 261 270 274 285 295 313 316 329 330 332\n 335 336 340 343 345 346 354 362 364 368 369 381 407 408 409 415 416 424\n 428 431 433 434 435 442 446 449 459 469 485]",
         "0.5729172287145355",
         "0.5903614457831325",
         "0.6040997322623829",
         "0.5903614457831325"
        ],
        [
         "4",
         "4",
         "[  0   1   2   3   4   5   6   7   9  10  11  12  13  14  15  17  18  19\n  20  21  22  23  25  27  28  29  30  31  32  34  35  36  37  38  39  40\n  41  42  43  44  45  46  48  49  50  51  53  55  57  58  59  60  61  62\n  63  64  65  66  67  68  69  70  72  75  76  77  78  80  81  82  83  85\n  87  88  89  91  92  94  95  96  97  98  99 100 101 102 103 105 106 108\n 109 111 112 113 114 115 116 117 118 119 120 121 123 124 125 126 127 129\n 130 131 132 133 134 135 136 137 138 139 140 141 142 143 144 145 146 147\n 148 152 153 154 156 157 158 159 161 162 163 164 166 167 169 170 171 173\n 174 175 176 177 178 179 181 182 183 184 185 186 187 188 189 190 191 192\n 193 194 197 199 200 201 202 203 204 206 207 208 209 210 211 212 213 214\n 215 216 217 218 219 220 221 222 223 225 226 227 228 232 233 234 235 237\n 239 240 241 242 243 244 245 247 248 249 250 251 252 253 254 255 256 257\n 258 259 261 262 264 265 266 267 268 269 270 271 273 274 275 276 277 278\n 279 280 281 282 283 285 286 287 289 290 291 292 293 294 295 297 299 300\n 302 304 305 306 307 308 310 311 313 314 315 316 317 319 321 322 323 324\n 326 327 328 329 330 332 333 334 335 336 337 338 339 340 341 343 344 345\n 346 347 348 349 350 352 353 354 355 356 357 358 359 360 362 364 365 366\n 367 368 369 370 371 372 373 374 375 376 379 380 381 382 383 384 387 388\n 389 390 391 393 394 395 396 398 399 400 401 402 403 404 405 406 407 408\n 409 410 411 412 414 415 416 417 418 419 421 422 423 424 425 426 427 428\n 429 430 431 433 434 435 436 437 438 440 441 442 443 444 445 446 447 449\n 450 451 452 453 455 456 458 459 460 461 462 463 464 467 468 469 471 472\n 473 475 476 477 478 479 480 481 482 483 485 487 488 489 490 492 493 494]",
         "[  8  16  24  26  33  47  52  54  56  71  73  74  79  84  86  90  93 104\n 107 110 122 128 149 150 151 155 160 165 168 172 180 195 196 198 205 224\n 229 230 231 236 238 246 260 263 272 284 288 296 298 301 303 309 312 318\n 320 325 331 342 351 361 363 377 378 385 386 392 397 413 420 432 439 448\n 454 457 465 466 470 474 484 486 491 495]",
         "0.5880579790339309",
         "0.6097560975609756",
         "0.6261502724917359",
         "0.6097560975609756"
        ],
        [
         "5",
         "5",
         "[  0   1   2   4   5   7   8   9  11  13  16  17  18  20  21  22  23  24\n  25  26  27  28  29  30  31  33  34  35  36  37  38  39  40  42  44  46\n  47  48  50  51  52  53  54  55  56  57  58  60  61  62  63  65  66  67\n  68  69  70  71  72  73  74  75  77  78  79  82  83  84  85  86  87  88\n  89  90  91  92  93  94  96  97  98  99 100 102 104 105 106 107 108 109\n 110 111 112 114 115 116 117 119 120 121 122 123 124 126 127 128 131 132\n 133 134 135 137 139 140 141 144 146 147 148 149 150 151 152 154 155 156\n 157 158 159 160 162 163 164 165 166 167 168 169 170 171 172 173 174 175\n 176 177 178 179 180 181 183 184 185 186 187 188 189 190 191 192 193 194\n 195 196 197 198 200 201 203 204 205 206 208 210 211 213 214 216 217 220\n 221 223 224 225 226 227 228 229 230 231 232 233 234 235 236 237 238 240\n 241 242 243 244 245 246 248 249 250 252 253 254 255 256 257 259 260 261\n 262 263 264 265 266 268 269 270 271 272 274 275 276 278 279 280 281 282\n 283 284 285 287 288 289 290 291 292 293 294 295 296 297 298 299 300 301\n 303 305 306 307 309 310 311 312 313 314 315 316 318 320 321 322 323 324\n 325 326 327 328 329 330 331 332 333 334 335 336 338 340 341 342 343 345\n 346 348 349 351 352 353 354 356 357 358 359 361 362 363 364 365 367 368\n 369 370 371 372 373 374 375 376 377 378 380 381 382 384 385 386 387 389\n 390 392 393 394 395 396 397 398 400 401 402 403 404 405 406 407 408 409\n 413 415 416 417 419 420 421 422 423 424 425 427 428 429 431 432 433 434\n 435 437 438 439 441 442 444 445 446 447 448 449 450 451 453 454 455 456\n 457 458 459 460 461 462 463 464 465 466 467 468 469 470 471 473 474 476\n 477 478 480 481 482 483 484 485 486 487 488 489 490 491 492 493 494 495]",
         "[  3   6  10  12  14  15  19  32  41  43  45  49  59  64  76  80  81  95\n 101 103 113 118 125 129 130 136 138 142 143 145 153 161 182 199 202 207\n 209 212 215 218 219 222 239 247 251 258 267 273 277 286 302 304 308 317\n 319 337 339 344 347 350 355 360 366 379 383 388 391 399 410 411 412 414\n 418 426 430 436 440 443 452 472 475 479]",
         "0.5527138133666111",
         "0.573170731707317",
         "0.5793431819256784",
         "0.573170731707317"
        ]
       ],
       "shape": {
        "columns": 7,
        "rows": 6
       }
      },
      "text/html": [
       "<div>\n",
       "<style scoped>\n",
       "    .dataframe tbody tr th:only-of-type {\n",
       "        vertical-align: middle;\n",
       "    }\n",
       "\n",
       "    .dataframe tbody tr th {\n",
       "        vertical-align: top;\n",
       "    }\n",
       "\n",
       "    .dataframe thead th {\n",
       "        text-align: right;\n",
       "    }\n",
       "</style>\n",
       "<table border=\"1\" class=\"dataframe\">\n",
       "  <thead>\n",
       "    <tr style=\"text-align: right;\">\n",
       "      <th></th>\n",
       "      <th>fold</th>\n",
       "      <th>train_idx</th>\n",
       "      <th>test_idx</th>\n",
       "      <th>rf_f1</th>\n",
       "      <th>rf_recall</th>\n",
       "      <th>rf_precision</th>\n",
       "      <th>rf_accuracy</th>\n",
       "    </tr>\n",
       "  </thead>\n",
       "  <tbody>\n",
       "    <tr>\n",
       "      <th>0</th>\n",
       "      <td>0</td>\n",
       "      <td>[0, 3, 4, 6, 7, 8, 9, 10, 11, 12, 13, 14, 15, ...</td>\n",
       "      <td>[1, 2, 5, 21, 23, 28, 31, 36, 63, 75, 85, 98, ...</td>\n",
       "      <td>0.529739</td>\n",
       "      <td>0.542169</td>\n",
       "      <td>0.575636</td>\n",
       "      <td>0.542169</td>\n",
       "    </tr>\n",
       "    <tr>\n",
       "      <th>1</th>\n",
       "      <td>1</td>\n",
       "      <td>[1, 2, 3, 5, 6, 7, 8, 9, 10, 11, 12, 13, 14, 1...</td>\n",
       "      <td>[0, 4, 22, 29, 30, 39, 42, 48, 50, 53, 55, 65,...</td>\n",
       "      <td>0.573828</td>\n",
       "      <td>0.602410</td>\n",
       "      <td>0.606053</td>\n",
       "      <td>0.602410</td>\n",
       "    </tr>\n",
       "    <tr>\n",
       "      <th>2</th>\n",
       "      <td>2</td>\n",
       "      <td>[0, 1, 2, 3, 4, 5, 6, 8, 9, 10, 11, 12, 14, 15...</td>\n",
       "      <td>[7, 13, 18, 20, 35, 44, 60, 61, 70, 78, 91, 96...</td>\n",
       "      <td>0.681893</td>\n",
       "      <td>0.698795</td>\n",
       "      <td>0.698289</td>\n",
       "      <td>0.698795</td>\n",
       "    </tr>\n",
       "    <tr>\n",
       "      <th>3</th>\n",
       "      <td>3</td>\n",
       "      <td>[0, 1, 2, 3, 4, 5, 6, 7, 8, 10, 12, 13, 14, 15...</td>\n",
       "      <td>[9, 11, 17, 25, 27, 34, 37, 38, 40, 46, 51, 57...</td>\n",
       "      <td>0.572917</td>\n",
       "      <td>0.590361</td>\n",
       "      <td>0.604100</td>\n",
       "      <td>0.590361</td>\n",
       "    </tr>\n",
       "    <tr>\n",
       "      <th>4</th>\n",
       "      <td>4</td>\n",
       "      <td>[0, 1, 2, 3, 4, 5, 6, 7, 9, 10, 11, 12, 13, 14...</td>\n",
       "      <td>[8, 16, 24, 26, 33, 47, 52, 54, 56, 71, 73, 74...</td>\n",
       "      <td>0.588058</td>\n",
       "      <td>0.609756</td>\n",
       "      <td>0.626150</td>\n",
       "      <td>0.609756</td>\n",
       "    </tr>\n",
       "    <tr>\n",
       "      <th>5</th>\n",
       "      <td>5</td>\n",
       "      <td>[0, 1, 2, 4, 5, 7, 8, 9, 11, 13, 16, 17, 18, 2...</td>\n",
       "      <td>[3, 6, 10, 12, 14, 15, 19, 32, 41, 43, 45, 49,...</td>\n",
       "      <td>0.552714</td>\n",
       "      <td>0.573171</td>\n",
       "      <td>0.579343</td>\n",
       "      <td>0.573171</td>\n",
       "    </tr>\n",
       "  </tbody>\n",
       "</table>\n",
       "</div>"
      ],
      "text/plain": [
       "   fold                                          train_idx  \\\n",
       "0     0  [0, 3, 4, 6, 7, 8, 9, 10, 11, 12, 13, 14, 15, ...   \n",
       "1     1  [1, 2, 3, 5, 6, 7, 8, 9, 10, 11, 12, 13, 14, 1...   \n",
       "2     2  [0, 1, 2, 3, 4, 5, 6, 8, 9, 10, 11, 12, 14, 15...   \n",
       "3     3  [0, 1, 2, 3, 4, 5, 6, 7, 8, 10, 12, 13, 14, 15...   \n",
       "4     4  [0, 1, 2, 3, 4, 5, 6, 7, 9, 10, 11, 12, 13, 14...   \n",
       "5     5  [0, 1, 2, 4, 5, 7, 8, 9, 11, 13, 16, 17, 18, 2...   \n",
       "\n",
       "                                            test_idx     rf_f1  rf_recall  \\\n",
       "0  [1, 2, 5, 21, 23, 28, 31, 36, 63, 75, 85, 98, ...  0.529739   0.542169   \n",
       "1  [0, 4, 22, 29, 30, 39, 42, 48, 50, 53, 55, 65,...  0.573828   0.602410   \n",
       "2  [7, 13, 18, 20, 35, 44, 60, 61, 70, 78, 91, 96...  0.681893   0.698795   \n",
       "3  [9, 11, 17, 25, 27, 34, 37, 38, 40, 46, 51, 57...  0.572917   0.590361   \n",
       "4  [8, 16, 24, 26, 33, 47, 52, 54, 56, 71, 73, 74...  0.588058   0.609756   \n",
       "5  [3, 6, 10, 12, 14, 15, 19, 32, 41, 43, 45, 49,...  0.552714   0.573171   \n",
       "\n",
       "   rf_precision  rf_accuracy  \n",
       "0      0.575636     0.542169  \n",
       "1      0.606053     0.602410  \n",
       "2      0.698289     0.698795  \n",
       "3      0.604100     0.590361  \n",
       "4      0.626150     0.609756  \n",
       "5      0.579343     0.573171  "
      ]
     },
     "execution_count": 3,
     "metadata": {},
     "output_type": "execute_result"
    }
   ],
   "source": [
    "def get_qgap_pred(X_train, y_train, X_test, static_train, static_test):\n",
    "    qgap = QGAP(matrix_type=\"dense\")\n",
    "    qgap.fit(X_train, y_train, static = static_train)\n",
    "    return qgap.predict(X_test, static = static_test)\n",
    "    \n",
    "\n",
    "get_cross_validation_results(get_qgap_pred)"
   ]
  }
 ],
 "metadata": {
  "kernelspec": {
   "display_name": ".venv",
   "language": "python",
   "name": "python3"
  },
  "language_info": {
   "codemirror_mode": {
    "name": "ipython",
    "version": 3
   },
   "file_extension": ".py",
   "mimetype": "text/x-python",
   "name": "python",
   "nbconvert_exporter": "python",
   "pygments_lexer": "ipython3",
   "version": "3.12.3"
  }
 },
 "nbformat": 4,
 "nbformat_minor": 5
}
