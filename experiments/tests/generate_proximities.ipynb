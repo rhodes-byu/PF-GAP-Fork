{
 "cells": [
  {
   "cell_type": "markdown",
   "id": "5dca73fd",
   "metadata": {},
   "source": [
    "# This file is to generate the proximity matricies; Data Agnostic\n",
    "- Helpful to just change a few lines of code where to import the data from. "
   ]
  },
  {
   "cell_type": "code",
   "execution_count": 21,
   "id": "cbd817d3",
   "metadata": {},
   "outputs": [],
   "source": [
    "# Load up data\n",
    "\n",
    "#& Imports\n",
    "import sys\n",
    "sys.path.insert(0, '/yunity/arusty/PF-GAP')\n",
    "import os\n",
    "\n",
    "#Import libraries, MDS from SKlearn, and all the custom files\n",
    "import pandas as pd\n",
    "from Pipeline.functions import *\n",
    "\n",
    "#Functions\n",
    "from QGAP.qgap import QGAP\n",
    "from Redcomets.Redcomets import REDCOMETS\n",
    "from RFGAP_Rocket.RFGAP_Rocket import RFGAP_Rocket\n",
    "from RDST.rdst import RDST_GAP\n",
    "\n",
    "#& Data Loading\n",
    "time_series = pd.read_csv(\"/yunity/arusty/PF-GAP/data/ftse_100_close_prices.csv\", index_col=0)\n",
    "static_train =  None\n",
    "#static_test = None\n",
    "labels = np.array(pd.read_csv(\"/yunity/arusty/PF-GAP/data/ftse_100_sectors.csv\")).flatten()\n",
    "data_dir = \"../../data/ftse_100/results/\"\n"
   ]
  },
  {
   "cell_type": "code",
   "execution_count": 28,
   "id": "ee6a0990",
   "metadata": {},
   "outputs": [
    {
     "data": {
      "text/plain": [
       "((100, 1007), (100,), 'No static data')"
      ]
     },
     "execution_count": 28,
     "metadata": {},
     "output_type": "execute_result"
    }
   ],
   "source": [
    "time_series.shape, labels.shape, static_train.shape if static_train is not None else \"No static data\""
   ]
  },
  {
   "cell_type": "markdown",
   "id": "50208c6c",
   "metadata": {},
   "source": [
    "# Generating the proximities"
   ]
  },
  {
   "cell_type": "code",
   "execution_count": 24,
   "id": "7acc6826",
   "metadata": {},
   "outputs": [
    {
     "name": "stdout",
     "output_type": "stream",
     "text": [
      "Beggining QGAP...\n",
      "---- QGAP Finished\n",
      "---- OOB Score:  0.19\n"
     ]
    }
   ],
   "source": [
    "print(\"Beggining QGAP...\")\n",
    "qgap = QGAP(matrix_type=\"dense\", interval_depth = 8, quantile_divisor = 8)\n",
    "quant_prox = data_to_proximities(qgap, time_series, labels, static_train)\n",
    "np.save(os.path.join(data_dir, \"quant_prox.npy\"), quant_prox)\n",
    "print(\"---- QGAP Finished\")\n",
    "print(\"---- OOB Score: \", qgap._estimator.oob_score_)"
   ]
  },
  {
   "cell_type": "code",
   "execution_count": null,
   "id": "23681053",
   "metadata": {},
   "outputs": [
    {
     "name": "stdout",
     "output_type": "stream",
     "text": [
      "Beggining Redcomets...\n",
      "---- Redcomets Finished\n",
      "---- OOB Score:  0.910604166893765\n"
     ]
    }
   ],
   "source": [
    "print(\"Beggining Redcomets...\")\n",
    "if static_train is None:\n",
    "    redcomets = REDCOMETS(variant = 3, perc_length = 0.7, n_trees = 100) \n",
    "else:\n",
    "    redcomets = REDCOMETS(variant = 3, perc_length = 0.7, n_trees = 100, static_data=static_train)\n",
    "redcomets_prox = data_to_proximities(redcomets, time_series, labels)\n",
    "np.save(os.path.join(data_dir, \"redcomets_prox.npy\"), redcomets_prox)\n",
    "print(\"---- Redcomets Finished\")\n",
    "print(\"---- OOB Score: \", redcomets.get_ensemble_oob_score())"
   ]
  },
  {
   "cell_type": "code",
   "execution_count": 30,
   "id": "6eb9266d",
   "metadata": {},
   "outputs": [
    {
     "name": "stdout",
     "output_type": "stream",
     "text": [
      "Beggining RFGAP-Rockets...\n",
      "---- RFGAP-Rockets Finished\n",
      "---- OOB Score:  0.16\n"
     ]
    }
   ],
   "source": [
    "print(\"Beggining RFGAP-Rockets...\")\n",
    "rf_rocket = RFGAP_Rocket(prediction_type = \"classification\", rocket = \"Multi\",\n",
    "                         n_kernels=256) # Rocket Kwargs\n",
    "rocket_prox = data_to_proximities(rf_rocket, time_series, labels, static_train)\n",
    "np.save(os.path.join(data_dir, \"rocket_prox.npy\"), rocket_prox)\n",
    "print(\"---- RFGAP-Rockets Finished\")\n",
    "print(\"---- OOB Score: \", rf_rocket.rf_gap.oob_score_)"
   ]
  },
  {
   "cell_type": "code",
   "execution_count": 31,
   "id": "6a42b672",
   "metadata": {},
   "outputs": [
    {
     "name": "stdout",
     "output_type": "stream",
     "text": [
      "Beggining RDST...\n",
      "---- RDST Finished\n",
      "---- OOB Score:  0.19\n"
     ]
    }
   ],
   "source": [
    "print(\"Beggining RDST...\")\n",
    "rdst = RDST_GAP(save_transformed_data = True, max_shapelets = 10000, \n",
    "                shapelet_lengths = None, alpha_similarity = 0.3)\n",
    "rdst_prox = data_to_proximities(rdst, time_series, labels, static_train)\n",
    "\n",
    "np.save(os.path.join(data_dir, \"rdst_prox.npy\"), rdst_prox)\n",
    "print(\"---- RDST Finished\")\n",
    "print(\"---- OOB Score: \", rdst._estimator.oob_score_)\n"
   ]
  },
  {
   "cell_type": "code",
   "execution_count": 32,
   "id": "7b3b3ff7",
   "metadata": {},
   "outputs": [
    {
     "name": "stdout",
     "output_type": "stream",
     "text": [
      "Beggining Fresh Prince...\n",
      "---- Fresh Prince Finished\n",
      "---- OOB Score: Not available for Fresh Prince\n"
     ]
    }
   ],
   "source": [
    "print(\"Beggining Fresh Prince...\")\n",
    "\n",
    "# This requires a channel dimension\n",
    "time_series_reshaped = np.expand_dims(time_series.values, axis=1)\n",
    "\n",
    "from FreshPrince.FreshPrince import FreshPRINCE_GAP\n",
    "fresh_prince = FreshPRINCE_GAP(default_fc_parameters=\"minimal\", n_estimators=200)\n",
    "fresh_prince_prox = data_to_proximities(fresh_prince, time_series_reshaped, labels, static_train)\n",
    "\n",
    "np.save(os.path.join(data_dir, \"fresh_prince_prox.npy\"), fresh_prince_prox)\n",
    "print(\"---- Fresh Prince Finished\")\n",
    "\n",
    "try:\n",
    "    print(\"---- OOB Score: \", fresh_prince._estimator.oob_score_)\n",
    "except:\n",
    "    print(\"---- OOB Score: Not available for Fresh Prince\")"
   ]
  },
  {
   "cell_type": "code",
   "execution_count": null,
   "id": "980ae5d1",
   "metadata": {},
   "outputs": [
    {
     "name": "stdout",
     "output_type": "stream",
     "text": [
      "Beggining PyF-GAP...\n",
      "---- PyF-GAP is not designed for large datasets, consider using a smaller dataset.\n",
      "---- Truncating time series to 500 features.\n",
      "\n",
      "\n",
      "reading file [train]:finished in 0:0:0.089\n",
      "reading file [test]:finished in 0:0:0.025\n",
      "Running on configurations...\n",
      "Dataset: train, Training Data : 100x500 , Testing Data: 100x500, Train #Classes: 43, Test #Classes: 43\n",
      "Repeats: 1 , Trees: 18 , Candidates per Split(r): 5\n",
      "Output Dir: output, Export: 1, Verbosity: 1\n",
      "Select DM per node: true , Shuffle Data: false, JVM WarmUp: false\n",
      "----------------------------------------------------------------------------------------------------\n",
      "\n",
      "-----------------Repetition No: 1 (train)   -----------------\n",
      "Using: 4 MB, Free: 76 MB, Allocated Pool: 80 MB, Max Available: 1024 MB\n",
      "core.ProximityForestResult@4f3f5b24\n",
      "0.1.2.3.4.5.6.7.8.9.10.11.12."
     ]
    }
   ],
   "source": [
    "print(\"Beggining PyF-GAP...\")\n",
    "sys.path.insert(0, '/yunity/arusty/PF-GAP/PFGAP')\n",
    "\n",
    "#Check data shape to see if too large\n",
    "if time_series.shape[1] > 500:\n",
    "    print(\"---- PyF-GAP is not designed for large datasets, consider using a smaller dataset.\")\n",
    "    print(\"---- Truncating time series to 500 features.\\n\\n\")\n",
    "    time_series = time_series.iloc[:, -500:]\n",
    "    \n",
    "from PFGAP.PyPFGAP import PyPFGAP\n",
    "pf = PyPFGAP()\n",
    "pf_prox = data_to_proximities(pf, time_series, pd.Categorical(labels).codes.astype(str))\n",
    "\n",
    "np.save(os.path.join(data_dir, \"pf_prox.npy\"), pf_prox)\n",
    "print(\"\\n\\n---- PyF-GAP Finished\")\n",
    "print(\"---- OOB Score: Not available for PyF-GAP\")"
   ]
  }
 ],
 "metadata": {
  "kernelspec": {
   "display_name": ".venv",
   "language": "python",
   "name": "python3"
  },
  "language_info": {
   "codemirror_mode": {
    "name": "ipython",
    "version": 3
   },
   "file_extension": ".py",
   "mimetype": "text/x-python",
   "name": "python",
   "nbconvert_exporter": "python",
   "pygments_lexer": "ipython3",
   "version": "3.12.3"
  }
 },
 "nbformat": 4,
 "nbformat_minor": 5
}
