{
 "cells": [
  {
   "cell_type": "markdown",
   "id": "5dca73fd",
   "metadata": {},
   "source": [
    "# This file is to generate the proximity matricies; Data Agnostic\n",
    "- Helpful to just change a few lines of code where to import the data from. "
   ]
  },
  {
   "cell_type": "code",
   "execution_count": 39,
   "id": "cbd817d3",
   "metadata": {},
   "outputs": [],
   "source": [
    "# Load up data\n",
    "\n",
    "#& Imports\n",
    "import sys\n",
    "sys.path.insert(0, '/yunity/arusty/PF-GAP')\n",
    "import os\n",
    "\n",
    "#Import libraries, MDS from SKlearn, and all the custom files\n",
    "import pandas as pd\n",
    "from Pipeline.functions import *\n",
    "\n",
    "#Functions\n",
    "from QGAP.qgap import QGAP\n",
    "from Redcomets.Redcomets import REDCOMETS\n",
    "from RFGAP_Rocket.RFGAP_Rocket import RFGAP_Rocket\n",
    "from RDST.rdst import RDST_GAP\n",
    "\n",
    "#& Data Loading\n",
    "time_series = pd.read_csv(\"/yunity/arusty/PF-GAP/data/ftse_100_close_prices.csv\", index_col=0)\n",
    "static =  None\n",
    "labels = np.array(pd.read_csv(\"/yunity/arusty/PF-GAP/data/ftse_100_sectors.csv\")).flatten()\n",
    "data_dir = \"../../data/ftse_100/results/\"\n"
   ]
  },
  {
   "cell_type": "code",
   "execution_count": null,
   "id": "ee6a0990",
   "metadata": {},
   "outputs": [
    {
     "data": {
      "text/plain": [
       "((100, 1007), (100,), 'No static data')"
      ]
     },
     "execution_count": 28,
     "metadata": {},
     "output_type": "execute_result"
    }
   ],
   "source": [
    "time_series.shape, labels.shape, static.shape if static is not None else \"No static data\""
   ]
  },
  {
   "cell_type": "markdown",
   "id": "50208c6c",
   "metadata": {},
   "source": [
    "# Generating the proximities"
   ]
  },
  {
   "cell_type": "code",
   "execution_count": null,
   "id": "7acc6826",
   "metadata": {},
   "outputs": [
    {
     "name": "stdout",
     "output_type": "stream",
     "text": [
      "Beggining QGAP...\n",
      "---- QGAP Finished\n",
      "---- OOB Score:  0.19\n"
     ]
    }
   ],
   "source": [
    "print(\"Beggining QGAP...\")\n",
    "qgap = QGAP(matrix_type=\"dense\", interval_depth = 8, quantile_divisor = 8)\n",
    "quant_prox = data_to_proximities(qgap, time_series, labels, static)\n",
    "np.save(os.path.join(data_dir, \"quant_prox.npy\"), quant_prox)\n",
    "print(\"---- QGAP Finished\")\n",
    "print(\"---- OOB Score: \", qgap._estimator.oob_score_)"
   ]
  },
  {
   "cell_type": "code",
   "execution_count": null,
   "id": "23681053",
   "metadata": {},
   "outputs": [
    {
     "name": "stdout",
     "output_type": "stream",
     "text": [
      "Beggining Redcomets...\n",
      "---- Redcomets Finished\n",
      "---- OOB Score:  0.910604166893765\n"
     ]
    }
   ],
   "source": [
    "print(\"Beggining Redcomets...\")\n",
    "if static is None:\n",
    "    redcomets = REDCOMETS(variant = 3, perc_length = 0.7, n_trees = 100) \n",
    "else:\n",
    "    redcomets = REDCOMETS(variant = 3, perc_length = 0.7, n_trees = 100, static_data=static)\n",
    "redcomets_prox = data_to_proximities(redcomets, time_series, labels)\n",
    "np.save(os.path.join(data_dir, \"redcomets_prox.npy\"), redcomets_prox)\n",
    "print(\"---- Redcomets Finished\")\n",
    "print(\"---- OOB Score: \", redcomets.get_ensemble_oob_score())"
   ]
  },
  {
   "cell_type": "code",
   "execution_count": null,
   "id": "6eb9266d",
   "metadata": {},
   "outputs": [
    {
     "name": "stdout",
     "output_type": "stream",
     "text": [
      "Beggining RFGAP-Rockets...\n",
      "---- RFGAP-Rockets Finished\n",
      "---- OOB Score:  0.16\n"
     ]
    }
   ],
   "source": [
    "print(\"Beggining RFGAP-Rockets...\")\n",
    "rf_rocket = RFGAP_Rocket(prediction_type = \"classification\", rocket = \"Multi\",\n",
    "                         n_kernels=256) # Rocket Kwargs\n",
    "rocket_prox = data_to_proximities(rf_rocket, time_series, labels, static)\n",
    "np.save(os.path.join(data_dir, \"rocket_prox.npy\"), rocket_prox)\n",
    "print(\"---- RFGAP-Rockets Finished\")\n",
    "print(\"---- OOB Score: \", rf_rocket.rf_gap.oob_score_)"
   ]
  },
  {
   "cell_type": "code",
   "execution_count": null,
   "id": "6a42b672",
   "metadata": {},
   "outputs": [
    {
     "name": "stdout",
     "output_type": "stream",
     "text": [
      "Beggining RDST...\n",
      "---- RDST Finished\n",
      "---- OOB Score:  0.19\n"
     ]
    }
   ],
   "source": [
    "print(\"Beggining RDST...\")\n",
    "rdst = RDST_GAP(save_transformed_data = True, max_shapelets = 10000, \n",
    "                shapelet_lengths = None, alpha_similarity = 0.3)\n",
    "rdst_prox = data_to_proximities(rdst, time_series, labels, static)\n",
    "\n",
    "np.save(os.path.join(data_dir, \"rdst_prox.npy\"), rdst_prox)\n",
    "print(\"---- RDST Finished\")\n",
    "print(\"---- OOB Score: \", rdst._estimator.oob_score_)\n"
   ]
  },
  {
   "cell_type": "code",
   "execution_count": null,
   "id": "7b3b3ff7",
   "metadata": {},
   "outputs": [
    {
     "name": "stdout",
     "output_type": "stream",
     "text": [
      "Beggining Fresh Prince...\n",
      "---- Fresh Prince Finished\n",
      "---- OOB Score: Not available for Fresh Prince\n"
     ]
    }
   ],
   "source": [
    "print(\"Beggining Fresh Prince...\")\n",
    "\n",
    "# This requires a channel dimension\n",
    "time_series_reshaped = np.expand_dims(time_series.values, axis=1)\n",
    "\n",
    "from FreshPrince.FreshPrince import FreshPRINCE_GAP\n",
    "fresh_prince = FreshPRINCE_GAP(default_fc_parameters=\"minimal\", n_estimators=200)\n",
    "fresh_prince_prox = data_to_proximities(fresh_prince, time_series_reshaped, labels, static)\n",
    "\n",
    "np.save(os.path.join(data_dir, \"fresh_prince_prox.npy\"), fresh_prince_prox)\n",
    "print(\"---- Fresh Prince Finished\")\n",
    "\n",
    "try:\n",
    "    print(\"---- OOB Score: \", fresh_prince._estimator.oob_score_)\n",
    "except:\n",
    "    print(\"---- OOB Score: Not available for Fresh Prince\")"
   ]
  },
  {
   "cell_type": "code",
   "execution_count": 37,
   "id": "980ae5d1",
   "metadata": {},
   "outputs": [
    {
     "name": "stdout",
     "output_type": "stream",
     "text": [
      "Beggining PyF-GAP...\n",
      "---- PyF-GAP is not designed for large datasets, consider using a smaller dataset.\n",
      "---- Truncating time series to 500 features.\n",
      "\n",
      "\n",
      "reading file [train]:finished in 0:0:0.089\n",
      "reading file [test]:finished in 0:0:0.025\n",
      "Running on configurations...\n",
      "Dataset: train, Training Data : 100x500 , Testing Data: 100x500, Train #Classes: 43, Test #Classes: 43\n",
      "Repeats: 1 , Trees: 18 , Candidates per Split(r): 5\n",
      "Output Dir: output, Export: 1, Verbosity: 1\n",
      "Select DM per node: true , Shuffle Data: false, JVM WarmUp: false\n",
      "----------------------------------------------------------------------------------------------------\n",
      "\n",
      "-----------------Repetition No: 1 (train)   -----------------\n",
      "Using: 4 MB, Free: 76 MB, Allocated Pool: 80 MB, Max Available: 1024 MB\n",
      "core.ProximityForestResult@4f3f5b24\n",
      "0.1.2.3.4.5.6.7.8.9.10.11.12.13.14.15.16.17.\n",
      "Using: 407 MB, Free: 308 MB, Allocated Pool: 715 MB, Max Available: 1024 MB\n",
      "*\n",
      "Computing Forest Proximities...\n",
      "Done Computing Forest Proximities. Computation time: 52.0ms\n",
      "Training Time: 289536.953346ms (0:4:49.536)\n",
      "Prediction Time: 102736.211319ms (0:1:42.736)\n",
      "Correct(TP+TN): 98 vs Incorrect(FP+FN): 2\n",
      "Accuracy: 0.98\n",
      "Error Rate: 0.020000000000000018\n",
      "REPEAT:1 ,train, 0.98, 289536.953346, 102736.211319, 3.3333333333333335\n",
      "Subprocess finished successfully.\n",
      "\n",
      "\n",
      "---- PyF-GAP Finished\n",
      "---- OOB Score: Not available for PyF-GAP\n"
     ]
    }
   ],
   "source": [
    "print(\"Beggining PyF-GAP...\")\n",
    "sys.path.insert(0, '/yunity/arusty/PF-GAP/PFGAP')\n",
    "\n",
    "#Check data shape to see if too large\n",
    "if time_series.shape[1] > 500:\n",
    "    print(\"---- PyF-GAP is not designed for large datasets, consider using a smaller dataset.\")\n",
    "    print(\"---- Truncating time series to 500 features.\\n\\n\")\n",
    "    time_series = time_series.iloc[:, -500:]\n",
    "    \n",
    "from PFGAP.PyPFGAP import PyPFGAP\n",
    "pf = PyPFGAP()\n",
    "pf_prox = data_to_proximities(pf, time_series, pd.Categorical(labels).codes.astype(str))\n",
    "\n",
    "np.save(os.path.join(data_dir, \"pf_prox.npy\"), pf_prox)\n",
    "print(\"\\n\\n---- PyF-GAP Finished\")\n",
    "print(\"---- OOB Score: Not available for PyF-GAP\")"
   ]
  },
  {
   "cell_type": "markdown",
   "id": "41e9c341",
   "metadata": {},
   "source": [
    "# Getting test data and Validation Results\n",
    "- Now that we have our proximities, lets get some numbers on the board! Woot!"
   ]
  },
  {
   "cell_type": "code",
   "execution_count": 47,
   "id": "9d41708e",
   "metadata": {},
   "outputs": [
    {
     "data": {
      "application/vnd.microsoft.datawrangler.viewer.v0+json": {
       "columns": [
        {
         "name": "index",
         "rawType": "object",
         "type": "string"
        },
        {
         "name": "3",
         "rawType": "float64",
         "type": "float"
        },
        {
         "name": "4",
         "rawType": "float64",
         "type": "float"
        },
        {
         "name": "5",
         "rawType": "float64",
         "type": "float"
        },
        {
         "name": "6",
         "rawType": "float64",
         "type": "float"
        },
        {
         "name": "7",
         "rawType": "float64",
         "type": "float"
        },
        {
         "name": "8",
         "rawType": "float64",
         "type": "float"
        },
        {
         "name": "9",
         "rawType": "float64",
         "type": "float"
        },
        {
         "name": "10",
         "rawType": "float64",
         "type": "float"
        },
        {
         "name": "11",
         "rawType": "float64",
         "type": "float"
        },
        {
         "name": "12",
         "rawType": "float64",
         "type": "float"
        },
        {
         "name": "13",
         "rawType": "float64",
         "type": "float"
        },
        {
         "name": "14",
         "rawType": "float64",
         "type": "float"
        },
        {
         "name": "15",
         "rawType": "float64",
         "type": "float"
        },
        {
         "name": "16",
         "rawType": "float64",
         "type": "float"
        },
        {
         "name": "17",
         "rawType": "float64",
         "type": "float"
        },
        {
         "name": "18",
         "rawType": "float64",
         "type": "float"
        },
        {
         "name": "19",
         "rawType": "float64",
         "type": "float"
        },
        {
         "name": "20",
         "rawType": "float64",
         "type": "float"
        },
        {
         "name": "21",
         "rawType": "float64",
         "type": "float"
        },
        {
         "name": "22",
         "rawType": "float64",
         "type": "float"
        },
        {
         "name": "23",
         "rawType": "float64",
         "type": "float"
        },
        {
         "name": "24",
         "rawType": "float64",
         "type": "float"
        },
        {
         "name": "25",
         "rawType": "float64",
         "type": "float"
        },
        {
         "name": "26",
         "rawType": "float64",
         "type": "float"
        },
        {
         "name": "27",
         "rawType": "float64",
         "type": "float"
        },
        {
         "name": "28",
         "rawType": "float64",
         "type": "float"
        },
        {
         "name": "29",
         "rawType": "float64",
         "type": "float"
        },
        {
         "name": "30",
         "rawType": "float64",
         "type": "float"
        },
        {
         "name": "31",
         "rawType": "float64",
         "type": "float"
        },
        {
         "name": "32",
         "rawType": "float64",
         "type": "float"
        },
        {
         "name": "33",
         "rawType": "float64",
         "type": "float"
        },
        {
         "name": "34",
         "rawType": "float64",
         "type": "float"
        },
        {
         "name": "35",
         "rawType": "float64",
         "type": "float"
        },
        {
         "name": "36",
         "rawType": "float64",
         "type": "float"
        },
        {
         "name": "37",
         "rawType": "float64",
         "type": "float"
        },
        {
         "name": "38",
         "rawType": "float64",
         "type": "float"
        },
        {
         "name": "39",
         "rawType": "float64",
         "type": "float"
        },
        {
         "name": "40",
         "rawType": "float64",
         "type": "float"
        },
        {
         "name": "41",
         "rawType": "float64",
         "type": "float"
        },
        {
         "name": "42",
         "rawType": "float64",
         "type": "float"
        },
        {
         "name": "43",
         "rawType": "float64",
         "type": "float"
        },
        {
         "name": "44",
         "rawType": "float64",
         "type": "float"
        },
        {
         "name": "45",
         "rawType": "float64",
         "type": "float"
        },
        {
         "name": "46",
         "rawType": "float64",
         "type": "float"
        },
        {
         "name": "47",
         "rawType": "float64",
         "type": "float"
        },
        {
         "name": "48",
         "rawType": "float64",
         "type": "float"
        },
        {
         "name": "49",
         "rawType": "float64",
         "type": "float"
        },
        {
         "name": "50",
         "rawType": "float64",
         "type": "float"
        },
        {
         "name": "51",
         "rawType": "float64",
         "type": "float"
        },
        {
         "name": "52",
         "rawType": "float64",
         "type": "float"
        },
        {
         "name": "53",
         "rawType": "float64",
         "type": "float"
        },
        {
         "name": "54",
         "rawType": "float64",
         "type": "float"
        },
        {
         "name": "55",
         "rawType": "float64",
         "type": "float"
        },
        {
         "name": "56",
         "rawType": "float64",
         "type": "float"
        },
        {
         "name": "57",
         "rawType": "float64",
         "type": "float"
        },
        {
         "name": "58",
         "rawType": "float64",
         "type": "float"
        },
        {
         "name": "59",
         "rawType": "float64",
         "type": "float"
        },
        {
         "name": "60",
         "rawType": "float64",
         "type": "float"
        },
        {
         "name": "61",
         "rawType": "float64",
         "type": "float"
        },
        {
         "name": "62",
         "rawType": "float64",
         "type": "float"
        },
        {
         "name": "63",
         "rawType": "float64",
         "type": "float"
        },
        {
         "name": "64",
         "rawType": "float64",
         "type": "float"
        },
        {
         "name": "65",
         "rawType": "float64",
         "type": "float"
        },
        {
         "name": "66",
         "rawType": "float64",
         "type": "float"
        },
        {
         "name": "67",
         "rawType": "float64",
         "type": "float"
        },
        {
         "name": "68",
         "rawType": "float64",
         "type": "float"
        },
        {
         "name": "69",
         "rawType": "float64",
         "type": "float"
        },
        {
         "name": "70",
         "rawType": "float64",
         "type": "float"
        },
        {
         "name": "71",
         "rawType": "float64",
         "type": "float"
        },
        {
         "name": "72",
         "rawType": "float64",
         "type": "float"
        },
        {
         "name": "73",
         "rawType": "float64",
         "type": "float"
        },
        {
         "name": "74",
         "rawType": "float64",
         "type": "float"
        },
        {
         "name": "75",
         "rawType": "float64",
         "type": "float"
        },
        {
         "name": "76",
         "rawType": "float64",
         "type": "float"
        },
        {
         "name": "77",
         "rawType": "float64",
         "type": "float"
        },
        {
         "name": "78",
         "rawType": "float64",
         "type": "float"
        },
        {
         "name": "79",
         "rawType": "float64",
         "type": "float"
        },
        {
         "name": "80",
         "rawType": "float64",
         "type": "float"
        },
        {
         "name": "81",
         "rawType": "float64",
         "type": "float"
        },
        {
         "name": "82",
         "rawType": "float64",
         "type": "float"
        },
        {
         "name": "83",
         "rawType": "float64",
         "type": "float"
        },
        {
         "name": "84",
         "rawType": "float64",
         "type": "float"
        },
        {
         "name": "85",
         "rawType": "float64",
         "type": "float"
        },
        {
         "name": "86",
         "rawType": "float64",
         "type": "float"
        },
        {
         "name": "87",
         "rawType": "float64",
         "type": "float"
        },
        {
         "name": "88",
         "rawType": "float64",
         "type": "float"
        },
        {
         "name": "89",
         "rawType": "float64",
         "type": "float"
        },
        {
         "name": "90",
         "rawType": "float64",
         "type": "float"
        },
        {
         "name": "91",
         "rawType": "float64",
         "type": "float"
        },
        {
         "name": "92",
         "rawType": "float64",
         "type": "float"
        },
        {
         "name": "93",
         "rawType": "float64",
         "type": "float"
        },
        {
         "name": "94",
         "rawType": "float64",
         "type": "float"
        },
        {
         "name": "95",
         "rawType": "float64",
         "type": "float"
        },
        {
         "name": "96",
         "rawType": "float64",
         "type": "float"
        },
        {
         "name": "97",
         "rawType": "float64",
         "type": "float"
        },
        {
         "name": "98",
         "rawType": "float64",
         "type": "float"
        },
        {
         "name": "99",
         "rawType": "float64",
         "type": "float"
        },
        {
         "name": "100",
         "rawType": "float64",
         "type": "float"
        },
        {
         "name": "101",
         "rawType": "float64",
         "type": "float"
        },
        {
         "name": "102",
         "rawType": "float64",
         "type": "float"
        },
        {
         "name": "103",
         "rawType": "float64",
         "type": "float"
        },
        {
         "name": "104",
         "rawType": "float64",
         "type": "float"
        },
        {
         "name": "105",
         "rawType": "float64",
         "type": "float"
        },
        {
         "name": "106",
         "rawType": "float64",
         "type": "float"
        },
        {
         "name": "107",
         "rawType": "float64",
         "type": "float"
        },
        {
         "name": "108",
         "rawType": "float64",
         "type": "float"
        },
        {
         "name": "109",
         "rawType": "float64",
         "type": "float"
        },
        {
         "name": "110",
         "rawType": "float64",
         "type": "float"
        },
        {
         "name": "111",
         "rawType": "float64",
         "type": "float"
        },
        {
         "name": "112",
         "rawType": "float64",
         "type": "float"
        },
        {
         "name": "113",
         "rawType": "float64",
         "type": "float"
        },
        {
         "name": "114",
         "rawType": "float64",
         "type": "float"
        },
        {
         "name": "115",
         "rawType": "float64",
         "type": "float"
        },
        {
         "name": "116",
         "rawType": "float64",
         "type": "float"
        },
        {
         "name": "117",
         "rawType": "float64",
         "type": "float"
        },
        {
         "name": "118",
         "rawType": "float64",
         "type": "float"
        },
        {
         "name": "119",
         "rawType": "float64",
         "type": "float"
        },
        {
         "name": "120",
         "rawType": "float64",
         "type": "float"
        },
        {
         "name": "121",
         "rawType": "float64",
         "type": "float"
        },
        {
         "name": "122",
         "rawType": "float64",
         "type": "float"
        },
        {
         "name": "123",
         "rawType": "float64",
         "type": "float"
        },
        {
         "name": "124",
         "rawType": "float64",
         "type": "float"
        },
        {
         "name": "125",
         "rawType": "float64",
         "type": "float"
        },
        {
         "name": "126",
         "rawType": "float64",
         "type": "float"
        },
        {
         "name": "127",
         "rawType": "float64",
         "type": "float"
        },
        {
         "name": "128",
         "rawType": "float64",
         "type": "float"
        },
        {
         "name": "129",
         "rawType": "float64",
         "type": "float"
        },
        {
         "name": "130",
         "rawType": "float64",
         "type": "float"
        },
        {
         "name": "131",
         "rawType": "float64",
         "type": "float"
        },
        {
         "name": "132",
         "rawType": "float64",
         "type": "float"
        },
        {
         "name": "133",
         "rawType": "float64",
         "type": "float"
        },
        {
         "name": "134",
         "rawType": "float64",
         "type": "float"
        },
        {
         "name": "135",
         "rawType": "float64",
         "type": "float"
        },
        {
         "name": "136",
         "rawType": "float64",
         "type": "float"
        },
        {
         "name": "137",
         "rawType": "float64",
         "type": "float"
        },
        {
         "name": "138",
         "rawType": "float64",
         "type": "float"
        },
        {
         "name": "139",
         "rawType": "float64",
         "type": "float"
        },
        {
         "name": "140",
         "rawType": "float64",
         "type": "float"
        },
        {
         "name": "141",
         "rawType": "float64",
         "type": "float"
        },
        {
         "name": "142",
         "rawType": "float64",
         "type": "float"
        },
        {
         "name": "143",
         "rawType": "float64",
         "type": "float"
        },
        {
         "name": "144",
         "rawType": "float64",
         "type": "float"
        },
        {
         "name": "145",
         "rawType": "float64",
         "type": "float"
        },
        {
         "name": "146",
         "rawType": "float64",
         "type": "float"
        },
        {
         "name": "147",
         "rawType": "float64",
         "type": "float"
        },
        {
         "name": "148",
         "rawType": "float64",
         "type": "float"
        },
        {
         "name": "149",
         "rawType": "float64",
         "type": "float"
        },
        {
         "name": "150",
         "rawType": "float64",
         "type": "float"
        },
        {
         "name": "151",
         "rawType": "float64",
         "type": "float"
        },
        {
         "name": "152",
         "rawType": "float64",
         "type": "float"
        },
        {
         "name": "153",
         "rawType": "float64",
         "type": "float"
        },
        {
         "name": "154",
         "rawType": "float64",
         "type": "float"
        },
        {
         "name": "155",
         "rawType": "float64",
         "type": "float"
        },
        {
         "name": "156",
         "rawType": "float64",
         "type": "float"
        },
        {
         "name": "157",
         "rawType": "float64",
         "type": "float"
        },
        {
         "name": "158",
         "rawType": "float64",
         "type": "float"
        },
        {
         "name": "159",
         "rawType": "float64",
         "type": "float"
        },
        {
         "name": "160",
         "rawType": "float64",
         "type": "float"
        },
        {
         "name": "161",
         "rawType": "float64",
         "type": "float"
        },
        {
         "name": "162",
         "rawType": "float64",
         "type": "float"
        },
        {
         "name": "163",
         "rawType": "float64",
         "type": "float"
        },
        {
         "name": "164",
         "rawType": "float64",
         "type": "float"
        },
        {
         "name": "165",
         "rawType": "float64",
         "type": "float"
        },
        {
         "name": "166",
         "rawType": "float64",
         "type": "float"
        },
        {
         "name": "167",
         "rawType": "float64",
         "type": "float"
        },
        {
         "name": "168",
         "rawType": "float64",
         "type": "float"
        },
        {
         "name": "169",
         "rawType": "float64",
         "type": "float"
        },
        {
         "name": "170",
         "rawType": "float64",
         "type": "float"
        },
        {
         "name": "171",
         "rawType": "float64",
         "type": "float"
        },
        {
         "name": "172",
         "rawType": "float64",
         "type": "float"
        },
        {
         "name": "173",
         "rawType": "float64",
         "type": "float"
        },
        {
         "name": "174",
         "rawType": "float64",
         "type": "float"
        },
        {
         "name": "175",
         "rawType": "float64",
         "type": "float"
        },
        {
         "name": "176",
         "rawType": "float64",
         "type": "float"
        },
        {
         "name": "177",
         "rawType": "float64",
         "type": "float"
        },
        {
         "name": "178",
         "rawType": "float64",
         "type": "float"
        },
        {
         "name": "179",
         "rawType": "float64",
         "type": "float"
        },
        {
         "name": "180",
         "rawType": "float64",
         "type": "float"
        },
        {
         "name": "181",
         "rawType": "float64",
         "type": "float"
        },
        {
         "name": "182",
         "rawType": "float64",
         "type": "float"
        },
        {
         "name": "183",
         "rawType": "float64",
         "type": "float"
        },
        {
         "name": "184",
         "rawType": "float64",
         "type": "float"
        },
        {
         "name": "185",
         "rawType": "float64",
         "type": "float"
        },
        {
         "name": "186",
         "rawType": "float64",
         "type": "float"
        },
        {
         "name": "187",
         "rawType": "float64",
         "type": "float"
        },
        {
         "name": "188",
         "rawType": "float64",
         "type": "float"
        },
        {
         "name": "189",
         "rawType": "float64",
         "type": "float"
        },
        {
         "name": "190",
         "rawType": "float64",
         "type": "float"
        },
        {
         "name": "191",
         "rawType": "float64",
         "type": "float"
        },
        {
         "name": "192",
         "rawType": "float64",
         "type": "float"
        },
        {
         "name": "193",
         "rawType": "float64",
         "type": "float"
        },
        {
         "name": "194",
         "rawType": "float64",
         "type": "float"
        },
        {
         "name": "195",
         "rawType": "float64",
         "type": "float"
        },
        {
         "name": "196",
         "rawType": "float64",
         "type": "float"
        },
        {
         "name": "197",
         "rawType": "float64",
         "type": "float"
        },
        {
         "name": "198",
         "rawType": "float64",
         "type": "float"
        },
        {
         "name": "199",
         "rawType": "float64",
         "type": "float"
        },
        {
         "name": "200",
         "rawType": "float64",
         "type": "float"
        },
        {
         "name": "201",
         "rawType": "float64",
         "type": "float"
        },
        {
         "name": "202",
         "rawType": "float64",
         "type": "float"
        },
        {
         "name": "203",
         "rawType": "float64",
         "type": "float"
        },
        {
         "name": "204",
         "rawType": "float64",
         "type": "float"
        },
        {
         "name": "205",
         "rawType": "float64",
         "type": "float"
        },
        {
         "name": "206",
         "rawType": "float64",
         "type": "float"
        },
        {
         "name": "207",
         "rawType": "float64",
         "type": "float"
        },
        {
         "name": "208",
         "rawType": "float64",
         "type": "float"
        },
        {
         "name": "209",
         "rawType": "float64",
         "type": "float"
        },
        {
         "name": "210",
         "rawType": "float64",
         "type": "float"
        },
        {
         "name": "211",
         "rawType": "float64",
         "type": "float"
        },
        {
         "name": "212",
         "rawType": "float64",
         "type": "float"
        },
        {
         "name": "213",
         "rawType": "float64",
         "type": "float"
        },
        {
         "name": "214",
         "rawType": "float64",
         "type": "float"
        },
        {
         "name": "215",
         "rawType": "float64",
         "type": "float"
        },
        {
         "name": "216",
         "rawType": "float64",
         "type": "float"
        },
        {
         "name": "217",
         "rawType": "float64",
         "type": "float"
        },
        {
         "name": "218",
         "rawType": "float64",
         "type": "float"
        },
        {
         "name": "219",
         "rawType": "float64",
         "type": "float"
        },
        {
         "name": "220",
         "rawType": "float64",
         "type": "float"
        },
        {
         "name": "221",
         "rawType": "float64",
         "type": "float"
        },
        {
         "name": "222",
         "rawType": "float64",
         "type": "float"
        },
        {
         "name": "223",
         "rawType": "float64",
         "type": "float"
        },
        {
         "name": "224",
         "rawType": "float64",
         "type": "float"
        },
        {
         "name": "225",
         "rawType": "float64",
         "type": "float"
        },
        {
         "name": "226",
         "rawType": "float64",
         "type": "float"
        },
        {
         "name": "227",
         "rawType": "float64",
         "type": "float"
        },
        {
         "name": "228",
         "rawType": "float64",
         "type": "float"
        },
        {
         "name": "229",
         "rawType": "float64",
         "type": "float"
        },
        {
         "name": "230",
         "rawType": "float64",
         "type": "float"
        },
        {
         "name": "231",
         "rawType": "float64",
         "type": "float"
        },
        {
         "name": "232",
         "rawType": "float64",
         "type": "float"
        },
        {
         "name": "233",
         "rawType": "float64",
         "type": "float"
        },
        {
         "name": "234",
         "rawType": "float64",
         "type": "float"
        },
        {
         "name": "235",
         "rawType": "float64",
         "type": "float"
        },
        {
         "name": "236",
         "rawType": "float64",
         "type": "float"
        },
        {
         "name": "237",
         "rawType": "float64",
         "type": "float"
        },
        {
         "name": "238",
         "rawType": "float64",
         "type": "float"
        },
        {
         "name": "239",
         "rawType": "float64",
         "type": "float"
        },
        {
         "name": "240",
         "rawType": "float64",
         "type": "float"
        },
        {
         "name": "241",
         "rawType": "float64",
         "type": "float"
        },
        {
         "name": "242",
         "rawType": "float64",
         "type": "float"
        },
        {
         "name": "243",
         "rawType": "float64",
         "type": "float"
        },
        {
         "name": "244",
         "rawType": "float64",
         "type": "float"
        },
        {
         "name": "245",
         "rawType": "float64",
         "type": "float"
        },
        {
         "name": "246",
         "rawType": "float64",
         "type": "float"
        },
        {
         "name": "247",
         "rawType": "float64",
         "type": "float"
        },
        {
         "name": "248",
         "rawType": "float64",
         "type": "float"
        },
        {
         "name": "249",
         "rawType": "float64",
         "type": "float"
        },
        {
         "name": "250",
         "rawType": "float64",
         "type": "float"
        },
        {
         "name": "251",
         "rawType": "float64",
         "type": "float"
        },
        {
         "name": "252",
         "rawType": "float64",
         "type": "float"
        },
        {
         "name": "253",
         "rawType": "float64",
         "type": "float"
        },
        {
         "name": "254",
         "rawType": "float64",
         "type": "float"
        },
        {
         "name": "255",
         "rawType": "float64",
         "type": "float"
        },
        {
         "name": "256",
         "rawType": "float64",
         "type": "float"
        },
        {
         "name": "257",
         "rawType": "float64",
         "type": "float"
        },
        {
         "name": "258",
         "rawType": "float64",
         "type": "float"
        },
        {
         "name": "259",
         "rawType": "float64",
         "type": "float"
        },
        {
         "name": "260",
         "rawType": "float64",
         "type": "float"
        },
        {
         "name": "261",
         "rawType": "float64",
         "type": "float"
        },
        {
         "name": "262",
         "rawType": "float64",
         "type": "float"
        },
        {
         "name": "263",
         "rawType": "float64",
         "type": "float"
        },
        {
         "name": "264",
         "rawType": "float64",
         "type": "float"
        },
        {
         "name": "265",
         "rawType": "float64",
         "type": "float"
        },
        {
         "name": "266",
         "rawType": "float64",
         "type": "float"
        },
        {
         "name": "267",
         "rawType": "float64",
         "type": "float"
        },
        {
         "name": "268",
         "rawType": "float64",
         "type": "float"
        },
        {
         "name": "269",
         "rawType": "float64",
         "type": "float"
        },
        {
         "name": "270",
         "rawType": "float64",
         "type": "float"
        },
        {
         "name": "271",
         "rawType": "float64",
         "type": "float"
        },
        {
         "name": "272",
         "rawType": "float64",
         "type": "float"
        },
        {
         "name": "273",
         "rawType": "float64",
         "type": "float"
        },
        {
         "name": "274",
         "rawType": "float64",
         "type": "float"
        },
        {
         "name": "275",
         "rawType": "float64",
         "type": "float"
        },
        {
         "name": "276",
         "rawType": "float64",
         "type": "float"
        },
        {
         "name": "277",
         "rawType": "float64",
         "type": "float"
        },
        {
         "name": "278",
         "rawType": "float64",
         "type": "float"
        },
        {
         "name": "279",
         "rawType": "float64",
         "type": "float"
        },
        {
         "name": "280",
         "rawType": "float64",
         "type": "float"
        },
        {
         "name": "281",
         "rawType": "float64",
         "type": "float"
        },
        {
         "name": "282",
         "rawType": "float64",
         "type": "float"
        },
        {
         "name": "283",
         "rawType": "float64",
         "type": "float"
        },
        {
         "name": "284",
         "rawType": "float64",
         "type": "float"
        },
        {
         "name": "285",
         "rawType": "float64",
         "type": "float"
        },
        {
         "name": "286",
         "rawType": "float64",
         "type": "float"
        },
        {
         "name": "287",
         "rawType": "float64",
         "type": "float"
        },
        {
         "name": "288",
         "rawType": "float64",
         "type": "float"
        },
        {
         "name": "289",
         "rawType": "float64",
         "type": "float"
        },
        {
         "name": "290",
         "rawType": "float64",
         "type": "float"
        },
        {
         "name": "291",
         "rawType": "float64",
         "type": "float"
        },
        {
         "name": "292",
         "rawType": "float64",
         "type": "float"
        },
        {
         "name": "293",
         "rawType": "float64",
         "type": "float"
        },
        {
         "name": "294",
         "rawType": "float64",
         "type": "float"
        },
        {
         "name": "295",
         "rawType": "float64",
         "type": "float"
        },
        {
         "name": "296",
         "rawType": "float64",
         "type": "float"
        },
        {
         "name": "297",
         "rawType": "float64",
         "type": "float"
        },
        {
         "name": "298",
         "rawType": "float64",
         "type": "float"
        },
        {
         "name": "299",
         "rawType": "float64",
         "type": "float"
        },
        {
         "name": "300",
         "rawType": "float64",
         "type": "float"
        },
        {
         "name": "301",
         "rawType": "float64",
         "type": "float"
        },
        {
         "name": "302",
         "rawType": "float64",
         "type": "float"
        },
        {
         "name": "303",
         "rawType": "float64",
         "type": "float"
        },
        {
         "name": "304",
         "rawType": "float64",
         "type": "float"
        },
        {
         "name": "305",
         "rawType": "float64",
         "type": "float"
        },
        {
         "name": "306",
         "rawType": "float64",
         "type": "float"
        },
        {
         "name": "307",
         "rawType": "float64",
         "type": "float"
        },
        {
         "name": "308",
         "rawType": "float64",
         "type": "float"
        },
        {
         "name": "309",
         "rawType": "float64",
         "type": "float"
        },
        {
         "name": "310",
         "rawType": "float64",
         "type": "float"
        },
        {
         "name": "311",
         "rawType": "float64",
         "type": "float"
        },
        {
         "name": "312",
         "rawType": "float64",
         "type": "float"
        },
        {
         "name": "313",
         "rawType": "float64",
         "type": "float"
        },
        {
         "name": "314",
         "rawType": "float64",
         "type": "float"
        },
        {
         "name": "315",
         "rawType": "float64",
         "type": "float"
        },
        {
         "name": "316",
         "rawType": "float64",
         "type": "float"
        },
        {
         "name": "317",
         "rawType": "float64",
         "type": "float"
        },
        {
         "name": "318",
         "rawType": "float64",
         "type": "float"
        },
        {
         "name": "319",
         "rawType": "float64",
         "type": "float"
        },
        {
         "name": "320",
         "rawType": "float64",
         "type": "float"
        },
        {
         "name": "321",
         "rawType": "float64",
         "type": "float"
        },
        {
         "name": "322",
         "rawType": "float64",
         "type": "float"
        },
        {
         "name": "323",
         "rawType": "float64",
         "type": "float"
        },
        {
         "name": "324",
         "rawType": "float64",
         "type": "float"
        },
        {
         "name": "325",
         "rawType": "float64",
         "type": "float"
        },
        {
         "name": "326",
         "rawType": "float64",
         "type": "float"
        },
        {
         "name": "327",
         "rawType": "float64",
         "type": "float"
        },
        {
         "name": "328",
         "rawType": "float64",
         "type": "float"
        },
        {
         "name": "329",
         "rawType": "float64",
         "type": "float"
        },
        {
         "name": "330",
         "rawType": "float64",
         "type": "float"
        },
        {
         "name": "331",
         "rawType": "float64",
         "type": "float"
        },
        {
         "name": "332",
         "rawType": "float64",
         "type": "float"
        },
        {
         "name": "333",
         "rawType": "float64",
         "type": "float"
        },
        {
         "name": "334",
         "rawType": "float64",
         "type": "float"
        },
        {
         "name": "335",
         "rawType": "float64",
         "type": "float"
        },
        {
         "name": "336",
         "rawType": "float64",
         "type": "float"
        },
        {
         "name": "337",
         "rawType": "float64",
         "type": "float"
        },
        {
         "name": "338",
         "rawType": "float64",
         "type": "float"
        },
        {
         "name": "339",
         "rawType": "float64",
         "type": "float"
        },
        {
         "name": "340",
         "rawType": "float64",
         "type": "float"
        },
        {
         "name": "341",
         "rawType": "float64",
         "type": "float"
        },
        {
         "name": "342",
         "rawType": "float64",
         "type": "float"
        },
        {
         "name": "343",
         "rawType": "float64",
         "type": "float"
        },
        {
         "name": "344",
         "rawType": "float64",
         "type": "float"
        },
        {
         "name": "345",
         "rawType": "float64",
         "type": "float"
        },
        {
         "name": "346",
         "rawType": "float64",
         "type": "float"
        },
        {
         "name": "347",
         "rawType": "float64",
         "type": "float"
        },
        {
         "name": "348",
         "rawType": "float64",
         "type": "float"
        },
        {
         "name": "349",
         "rawType": "float64",
         "type": "float"
        },
        {
         "name": "350",
         "rawType": "float64",
         "type": "float"
        },
        {
         "name": "351",
         "rawType": "float64",
         "type": "float"
        },
        {
         "name": "352",
         "rawType": "float64",
         "type": "float"
        },
        {
         "name": "353",
         "rawType": "float64",
         "type": "float"
        },
        {
         "name": "354",
         "rawType": "float64",
         "type": "float"
        },
        {
         "name": "355",
         "rawType": "float64",
         "type": "float"
        },
        {
         "name": "356",
         "rawType": "float64",
         "type": "float"
        },
        {
         "name": "357",
         "rawType": "float64",
         "type": "float"
        },
        {
         "name": "358",
         "rawType": "float64",
         "type": "float"
        },
        {
         "name": "359",
         "rawType": "float64",
         "type": "float"
        },
        {
         "name": "360",
         "rawType": "float64",
         "type": "float"
        },
        {
         "name": "361",
         "rawType": "float64",
         "type": "float"
        },
        {
         "name": "362",
         "rawType": "float64",
         "type": "float"
        },
        {
         "name": "363",
         "rawType": "float64",
         "type": "float"
        },
        {
         "name": "364",
         "rawType": "float64",
         "type": "float"
        },
        {
         "name": "365",
         "rawType": "float64",
         "type": "float"
        },
        {
         "name": "366",
         "rawType": "float64",
         "type": "float"
        },
        {
         "name": "367",
         "rawType": "float64",
         "type": "float"
        },
        {
         "name": "368",
         "rawType": "float64",
         "type": "float"
        },
        {
         "name": "369",
         "rawType": "float64",
         "type": "float"
        },
        {
         "name": "370",
         "rawType": "float64",
         "type": "float"
        },
        {
         "name": "371",
         "rawType": "float64",
         "type": "float"
        },
        {
         "name": "372",
         "rawType": "float64",
         "type": "float"
        },
        {
         "name": "373",
         "rawType": "float64",
         "type": "float"
        },
        {
         "name": "374",
         "rawType": "float64",
         "type": "float"
        },
        {
         "name": "375",
         "rawType": "float64",
         "type": "float"
        },
        {
         "name": "376",
         "rawType": "float64",
         "type": "float"
        },
        {
         "name": "377",
         "rawType": "float64",
         "type": "float"
        },
        {
         "name": "378",
         "rawType": "float64",
         "type": "float"
        },
        {
         "name": "379",
         "rawType": "float64",
         "type": "float"
        },
        {
         "name": "380",
         "rawType": "float64",
         "type": "float"
        },
        {
         "name": "381",
         "rawType": "float64",
         "type": "float"
        },
        {
         "name": "382",
         "rawType": "float64",
         "type": "float"
        },
        {
         "name": "383",
         "rawType": "float64",
         "type": "float"
        },
        {
         "name": "384",
         "rawType": "float64",
         "type": "float"
        },
        {
         "name": "385",
         "rawType": "float64",
         "type": "float"
        },
        {
         "name": "386",
         "rawType": "float64",
         "type": "float"
        },
        {
         "name": "387",
         "rawType": "float64",
         "type": "float"
        },
        {
         "name": "388",
         "rawType": "float64",
         "type": "float"
        },
        {
         "name": "389",
         "rawType": "float64",
         "type": "float"
        },
        {
         "name": "390",
         "rawType": "float64",
         "type": "float"
        },
        {
         "name": "391",
         "rawType": "float64",
         "type": "float"
        },
        {
         "name": "392",
         "rawType": "float64",
         "type": "float"
        },
        {
         "name": "393",
         "rawType": "float64",
         "type": "float"
        },
        {
         "name": "394",
         "rawType": "float64",
         "type": "float"
        },
        {
         "name": "395",
         "rawType": "float64",
         "type": "float"
        },
        {
         "name": "396",
         "rawType": "float64",
         "type": "float"
        },
        {
         "name": "397",
         "rawType": "float64",
         "type": "float"
        },
        {
         "name": "398",
         "rawType": "float64",
         "type": "float"
        },
        {
         "name": "399",
         "rawType": "float64",
         "type": "float"
        },
        {
         "name": "400",
         "rawType": "float64",
         "type": "float"
        },
        {
         "name": "401",
         "rawType": "float64",
         "type": "float"
        },
        {
         "name": "402",
         "rawType": "float64",
         "type": "float"
        },
        {
         "name": "403",
         "rawType": "float64",
         "type": "float"
        },
        {
         "name": "404",
         "rawType": "float64",
         "type": "float"
        },
        {
         "name": "405",
         "rawType": "float64",
         "type": "float"
        },
        {
         "name": "406",
         "rawType": "float64",
         "type": "float"
        },
        {
         "name": "407",
         "rawType": "float64",
         "type": "float"
        },
        {
         "name": "408",
         "rawType": "float64",
         "type": "float"
        },
        {
         "name": "409",
         "rawType": "float64",
         "type": "float"
        },
        {
         "name": "410",
         "rawType": "float64",
         "type": "float"
        },
        {
         "name": "411",
         "rawType": "float64",
         "type": "float"
        },
        {
         "name": "412",
         "rawType": "float64",
         "type": "float"
        },
        {
         "name": "413",
         "rawType": "float64",
         "type": "float"
        },
        {
         "name": "414",
         "rawType": "float64",
         "type": "float"
        },
        {
         "name": "415",
         "rawType": "float64",
         "type": "float"
        },
        {
         "name": "416",
         "rawType": "float64",
         "type": "float"
        },
        {
         "name": "417",
         "rawType": "float64",
         "type": "float"
        },
        {
         "name": "418",
         "rawType": "float64",
         "type": "float"
        },
        {
         "name": "419",
         "rawType": "float64",
         "type": "float"
        },
        {
         "name": "420",
         "rawType": "float64",
         "type": "float"
        },
        {
         "name": "421",
         "rawType": "float64",
         "type": "float"
        },
        {
         "name": "422",
         "rawType": "float64",
         "type": "float"
        },
        {
         "name": "423",
         "rawType": "float64",
         "type": "float"
        },
        {
         "name": "424",
         "rawType": "float64",
         "type": "float"
        },
        {
         "name": "425",
         "rawType": "float64",
         "type": "float"
        },
        {
         "name": "426",
         "rawType": "float64",
         "type": "float"
        },
        {
         "name": "427",
         "rawType": "float64",
         "type": "float"
        },
        {
         "name": "428",
         "rawType": "float64",
         "type": "float"
        },
        {
         "name": "429",
         "rawType": "float64",
         "type": "float"
        },
        {
         "name": "430",
         "rawType": "float64",
         "type": "float"
        },
        {
         "name": "431",
         "rawType": "float64",
         "type": "float"
        },
        {
         "name": "432",
         "rawType": "float64",
         "type": "float"
        },
        {
         "name": "433",
         "rawType": "float64",
         "type": "float"
        },
        {
         "name": "434",
         "rawType": "float64",
         "type": "float"
        },
        {
         "name": "435",
         "rawType": "float64",
         "type": "float"
        },
        {
         "name": "436",
         "rawType": "float64",
         "type": "float"
        },
        {
         "name": "437",
         "rawType": "float64",
         "type": "float"
        },
        {
         "name": "438",
         "rawType": "float64",
         "type": "float"
        },
        {
         "name": "439",
         "rawType": "float64",
         "type": "float"
        },
        {
         "name": "440",
         "rawType": "float64",
         "type": "float"
        },
        {
         "name": "441",
         "rawType": "float64",
         "type": "float"
        },
        {
         "name": "442",
         "rawType": "float64",
         "type": "float"
        },
        {
         "name": "443",
         "rawType": "float64",
         "type": "float"
        },
        {
         "name": "444",
         "rawType": "float64",
         "type": "float"
        },
        {
         "name": "445",
         "rawType": "float64",
         "type": "float"
        },
        {
         "name": "446",
         "rawType": "float64",
         "type": "float"
        },
        {
         "name": "447",
         "rawType": "float64",
         "type": "float"
        },
        {
         "name": "448",
         "rawType": "float64",
         "type": "float"
        },
        {
         "name": "449",
         "rawType": "float64",
         "type": "float"
        },
        {
         "name": "450",
         "rawType": "float64",
         "type": "float"
        },
        {
         "name": "451",
         "rawType": "float64",
         "type": "float"
        },
        {
         "name": "452",
         "rawType": "float64",
         "type": "float"
        },
        {
         "name": "453",
         "rawType": "float64",
         "type": "float"
        },
        {
         "name": "454",
         "rawType": "float64",
         "type": "float"
        },
        {
         "name": "455",
         "rawType": "float64",
         "type": "float"
        },
        {
         "name": "456",
         "rawType": "float64",
         "type": "float"
        },
        {
         "name": "457",
         "rawType": "float64",
         "type": "float"
        },
        {
         "name": "458",
         "rawType": "float64",
         "type": "float"
        },
        {
         "name": "459",
         "rawType": "float64",
         "type": "float"
        },
        {
         "name": "460",
         "rawType": "float64",
         "type": "float"
        },
        {
         "name": "461",
         "rawType": "float64",
         "type": "float"
        },
        {
         "name": "462",
         "rawType": "float64",
         "type": "float"
        },
        {
         "name": "463",
         "rawType": "float64",
         "type": "float"
        },
        {
         "name": "464",
         "rawType": "float64",
         "type": "float"
        },
        {
         "name": "465",
         "rawType": "float64",
         "type": "float"
        },
        {
         "name": "466",
         "rawType": "float64",
         "type": "float"
        },
        {
         "name": "467",
         "rawType": "float64",
         "type": "float"
        },
        {
         "name": "468",
         "rawType": "float64",
         "type": "float"
        },
        {
         "name": "469",
         "rawType": "float64",
         "type": "float"
        },
        {
         "name": "470",
         "rawType": "float64",
         "type": "float"
        },
        {
         "name": "471",
         "rawType": "float64",
         "type": "float"
        },
        {
         "name": "472",
         "rawType": "float64",
         "type": "float"
        },
        {
         "name": "473",
         "rawType": "float64",
         "type": "float"
        },
        {
         "name": "474",
         "rawType": "float64",
         "type": "float"
        },
        {
         "name": "475",
         "rawType": "float64",
         "type": "float"
        },
        {
         "name": "476",
         "rawType": "float64",
         "type": "float"
        },
        {
         "name": "477",
         "rawType": "float64",
         "type": "float"
        },
        {
         "name": "478",
         "rawType": "float64",
         "type": "float"
        },
        {
         "name": "479",
         "rawType": "float64",
         "type": "float"
        },
        {
         "name": "480",
         "rawType": "float64",
         "type": "float"
        },
        {
         "name": "481",
         "rawType": "float64",
         "type": "float"
        },
        {
         "name": "482",
         "rawType": "float64",
         "type": "float"
        },
        {
         "name": "483",
         "rawType": "float64",
         "type": "float"
        },
        {
         "name": "484",
         "rawType": "float64",
         "type": "float"
        },
        {
         "name": "485",
         "rawType": "float64",
         "type": "float"
        },
        {
         "name": "486",
         "rawType": "float64",
         "type": "float"
        },
        {
         "name": "487",
         "rawType": "float64",
         "type": "float"
        },
        {
         "name": "488",
         "rawType": "float64",
         "type": "float"
        },
        {
         "name": "489",
         "rawType": "float64",
         "type": "float"
        },
        {
         "name": "490",
         "rawType": "float64",
         "type": "float"
        },
        {
         "name": "491",
         "rawType": "float64",
         "type": "float"
        },
        {
         "name": "492",
         "rawType": "float64",
         "type": "float"
        },
        {
         "name": "493",
         "rawType": "float64",
         "type": "float"
        },
        {
         "name": "494",
         "rawType": "float64",
         "type": "float"
        },
        {
         "name": "495",
         "rawType": "float64",
         "type": "float"
        },
        {
         "name": "496",
         "rawType": "float64",
         "type": "float"
        },
        {
         "name": "497",
         "rawType": "float64",
         "type": "float"
        },
        {
         "name": "498",
         "rawType": "float64",
         "type": "float"
        },
        {
         "name": "499",
         "rawType": "float64",
         "type": "float"
        },
        {
         "name": "500",
         "rawType": "float64",
         "type": "float"
        },
        {
         "name": "501",
         "rawType": "float64",
         "type": "float"
        },
        {
         "name": "502",
         "rawType": "float64",
         "type": "float"
        },
        {
         "name": "503",
         "rawType": "float64",
         "type": "float"
        },
        {
         "name": "504",
         "rawType": "float64",
         "type": "float"
        },
        {
         "name": "505",
         "rawType": "float64",
         "type": "float"
        },
        {
         "name": "506",
         "rawType": "float64",
         "type": "float"
        },
        {
         "name": "507",
         "rawType": "float64",
         "type": "float"
        },
        {
         "name": "508",
         "rawType": "float64",
         "type": "float"
        },
        {
         "name": "509",
         "rawType": "float64",
         "type": "float"
        },
        {
         "name": "510",
         "rawType": "float64",
         "type": "float"
        },
        {
         "name": "511",
         "rawType": "float64",
         "type": "float"
        },
        {
         "name": "512",
         "rawType": "float64",
         "type": "float"
        },
        {
         "name": "513",
         "rawType": "float64",
         "type": "float"
        },
        {
         "name": "514",
         "rawType": "float64",
         "type": "float"
        },
        {
         "name": "515",
         "rawType": "float64",
         "type": "float"
        },
        {
         "name": "516",
         "rawType": "float64",
         "type": "float"
        },
        {
         "name": "517",
         "rawType": "float64",
         "type": "float"
        },
        {
         "name": "518",
         "rawType": "float64",
         "type": "float"
        },
        {
         "name": "519",
         "rawType": "float64",
         "type": "float"
        },
        {
         "name": "520",
         "rawType": "float64",
         "type": "float"
        },
        {
         "name": "521",
         "rawType": "float64",
         "type": "float"
        },
        {
         "name": "522",
         "rawType": "float64",
         "type": "float"
        },
        {
         "name": "523",
         "rawType": "float64",
         "type": "float"
        },
        {
         "name": "524",
         "rawType": "float64",
         "type": "float"
        },
        {
         "name": "525",
         "rawType": "float64",
         "type": "float"
        },
        {
         "name": "526",
         "rawType": "float64",
         "type": "float"
        },
        {
         "name": "527",
         "rawType": "float64",
         "type": "float"
        },
        {
         "name": "528",
         "rawType": "float64",
         "type": "float"
        },
        {
         "name": "529",
         "rawType": "float64",
         "type": "float"
        },
        {
         "name": "530",
         "rawType": "float64",
         "type": "float"
        },
        {
         "name": "531",
         "rawType": "float64",
         "type": "float"
        },
        {
         "name": "532",
         "rawType": "float64",
         "type": "float"
        },
        {
         "name": "533",
         "rawType": "float64",
         "type": "float"
        },
        {
         "name": "534",
         "rawType": "float64",
         "type": "float"
        },
        {
         "name": "535",
         "rawType": "float64",
         "type": "float"
        },
        {
         "name": "536",
         "rawType": "float64",
         "type": "float"
        },
        {
         "name": "537",
         "rawType": "float64",
         "type": "float"
        },
        {
         "name": "538",
         "rawType": "float64",
         "type": "float"
        },
        {
         "name": "539",
         "rawType": "float64",
         "type": "float"
        },
        {
         "name": "540",
         "rawType": "float64",
         "type": "float"
        },
        {
         "name": "541",
         "rawType": "float64",
         "type": "float"
        },
        {
         "name": "542",
         "rawType": "float64",
         "type": "float"
        },
        {
         "name": "543",
         "rawType": "float64",
         "type": "float"
        },
        {
         "name": "544",
         "rawType": "float64",
         "type": "float"
        },
        {
         "name": "545",
         "rawType": "float64",
         "type": "float"
        },
        {
         "name": "546",
         "rawType": "float64",
         "type": "float"
        },
        {
         "name": "547",
         "rawType": "float64",
         "type": "float"
        },
        {
         "name": "548",
         "rawType": "float64",
         "type": "float"
        },
        {
         "name": "549",
         "rawType": "float64",
         "type": "float"
        },
        {
         "name": "550",
         "rawType": "float64",
         "type": "float"
        },
        {
         "name": "551",
         "rawType": "float64",
         "type": "float"
        },
        {
         "name": "552",
         "rawType": "float64",
         "type": "float"
        },
        {
         "name": "553",
         "rawType": "float64",
         "type": "float"
        },
        {
         "name": "554",
         "rawType": "float64",
         "type": "float"
        },
        {
         "name": "555",
         "rawType": "float64",
         "type": "float"
        },
        {
         "name": "556",
         "rawType": "float64",
         "type": "float"
        },
        {
         "name": "557",
         "rawType": "float64",
         "type": "float"
        },
        {
         "name": "558",
         "rawType": "float64",
         "type": "float"
        },
        {
         "name": "559",
         "rawType": "float64",
         "type": "float"
        },
        {
         "name": "560",
         "rawType": "float64",
         "type": "float"
        },
        {
         "name": "561",
         "rawType": "float64",
         "type": "float"
        },
        {
         "name": "562",
         "rawType": "float64",
         "type": "float"
        },
        {
         "name": "563",
         "rawType": "float64",
         "type": "float"
        },
        {
         "name": "564",
         "rawType": "float64",
         "type": "float"
        },
        {
         "name": "565",
         "rawType": "float64",
         "type": "float"
        },
        {
         "name": "566",
         "rawType": "float64",
         "type": "float"
        },
        {
         "name": "567",
         "rawType": "float64",
         "type": "float"
        },
        {
         "name": "568",
         "rawType": "float64",
         "type": "float"
        },
        {
         "name": "569",
         "rawType": "float64",
         "type": "float"
        },
        {
         "name": "570",
         "rawType": "float64",
         "type": "float"
        },
        {
         "name": "571",
         "rawType": "float64",
         "type": "float"
        },
        {
         "name": "572",
         "rawType": "float64",
         "type": "float"
        },
        {
         "name": "573",
         "rawType": "float64",
         "type": "float"
        },
        {
         "name": "574",
         "rawType": "float64",
         "type": "float"
        },
        {
         "name": "575",
         "rawType": "float64",
         "type": "float"
        },
        {
         "name": "576",
         "rawType": "float64",
         "type": "float"
        },
        {
         "name": "577",
         "rawType": "float64",
         "type": "float"
        },
        {
         "name": "578",
         "rawType": "float64",
         "type": "float"
        },
        {
         "name": "579",
         "rawType": "float64",
         "type": "float"
        },
        {
         "name": "580",
         "rawType": "float64",
         "type": "float"
        },
        {
         "name": "581",
         "rawType": "float64",
         "type": "float"
        },
        {
         "name": "582",
         "rawType": "float64",
         "type": "float"
        },
        {
         "name": "583",
         "rawType": "float64",
         "type": "float"
        },
        {
         "name": "584",
         "rawType": "float64",
         "type": "float"
        },
        {
         "name": "585",
         "rawType": "float64",
         "type": "float"
        },
        {
         "name": "586",
         "rawType": "float64",
         "type": "float"
        },
        {
         "name": "587",
         "rawType": "float64",
         "type": "float"
        },
        {
         "name": "588",
         "rawType": "float64",
         "type": "float"
        },
        {
         "name": "589",
         "rawType": "float64",
         "type": "float"
        },
        {
         "name": "590",
         "rawType": "float64",
         "type": "float"
        },
        {
         "name": "591",
         "rawType": "float64",
         "type": "float"
        },
        {
         "name": "592",
         "rawType": "float64",
         "type": "float"
        },
        {
         "name": "593",
         "rawType": "float64",
         "type": "float"
        },
        {
         "name": "594",
         "rawType": "float64",
         "type": "float"
        },
        {
         "name": "595",
         "rawType": "float64",
         "type": "float"
        },
        {
         "name": "596",
         "rawType": "float64",
         "type": "float"
        },
        {
         "name": "597",
         "rawType": "float64",
         "type": "float"
        },
        {
         "name": "598",
         "rawType": "float64",
         "type": "float"
        },
        {
         "name": "599",
         "rawType": "float64",
         "type": "float"
        },
        {
         "name": "600",
         "rawType": "float64",
         "type": "float"
        },
        {
         "name": "601",
         "rawType": "float64",
         "type": "float"
        },
        {
         "name": "602",
         "rawType": "float64",
         "type": "float"
        },
        {
         "name": "603",
         "rawType": "float64",
         "type": "float"
        },
        {
         "name": "604",
         "rawType": "float64",
         "type": "float"
        },
        {
         "name": "605",
         "rawType": "float64",
         "type": "float"
        },
        {
         "name": "606",
         "rawType": "float64",
         "type": "float"
        },
        {
         "name": "607",
         "rawType": "float64",
         "type": "float"
        },
        {
         "name": "608",
         "rawType": "float64",
         "type": "float"
        },
        {
         "name": "609",
         "rawType": "float64",
         "type": "float"
        },
        {
         "name": "610",
         "rawType": "float64",
         "type": "float"
        },
        {
         "name": "611",
         "rawType": "float64",
         "type": "float"
        },
        {
         "name": "612",
         "rawType": "float64",
         "type": "float"
        },
        {
         "name": "613",
         "rawType": "float64",
         "type": "float"
        },
        {
         "name": "614",
         "rawType": "float64",
         "type": "float"
        },
        {
         "name": "615",
         "rawType": "float64",
         "type": "float"
        },
        {
         "name": "616",
         "rawType": "float64",
         "type": "float"
        },
        {
         "name": "617",
         "rawType": "float64",
         "type": "float"
        },
        {
         "name": "618",
         "rawType": "float64",
         "type": "float"
        },
        {
         "name": "619",
         "rawType": "float64",
         "type": "float"
        },
        {
         "name": "620",
         "rawType": "float64",
         "type": "float"
        },
        {
         "name": "621",
         "rawType": "float64",
         "type": "float"
        },
        {
         "name": "622",
         "rawType": "float64",
         "type": "float"
        },
        {
         "name": "623",
         "rawType": "float64",
         "type": "float"
        },
        {
         "name": "624",
         "rawType": "float64",
         "type": "float"
        },
        {
         "name": "625",
         "rawType": "float64",
         "type": "float"
        },
        {
         "name": "626",
         "rawType": "float64",
         "type": "float"
        },
        {
         "name": "627",
         "rawType": "float64",
         "type": "float"
        },
        {
         "name": "628",
         "rawType": "float64",
         "type": "float"
        },
        {
         "name": "629",
         "rawType": "float64",
         "type": "float"
        },
        {
         "name": "630",
         "rawType": "float64",
         "type": "float"
        },
        {
         "name": "631",
         "rawType": "float64",
         "type": "float"
        },
        {
         "name": "632",
         "rawType": "float64",
         "type": "float"
        },
        {
         "name": "633",
         "rawType": "float64",
         "type": "float"
        },
        {
         "name": "634",
         "rawType": "float64",
         "type": "float"
        },
        {
         "name": "635",
         "rawType": "float64",
         "type": "float"
        },
        {
         "name": "636",
         "rawType": "float64",
         "type": "float"
        },
        {
         "name": "637",
         "rawType": "float64",
         "type": "float"
        },
        {
         "name": "638",
         "rawType": "float64",
         "type": "float"
        },
        {
         "name": "639",
         "rawType": "float64",
         "type": "float"
        },
        {
         "name": "640",
         "rawType": "float64",
         "type": "float"
        },
        {
         "name": "641",
         "rawType": "float64",
         "type": "float"
        },
        {
         "name": "642",
         "rawType": "float64",
         "type": "float"
        },
        {
         "name": "643",
         "rawType": "float64",
         "type": "float"
        },
        {
         "name": "644",
         "rawType": "float64",
         "type": "float"
        },
        {
         "name": "645",
         "rawType": "float64",
         "type": "float"
        },
        {
         "name": "646",
         "rawType": "float64",
         "type": "float"
        },
        {
         "name": "647",
         "rawType": "float64",
         "type": "float"
        },
        {
         "name": "648",
         "rawType": "float64",
         "type": "float"
        },
        {
         "name": "649",
         "rawType": "float64",
         "type": "float"
        },
        {
         "name": "650",
         "rawType": "float64",
         "type": "float"
        },
        {
         "name": "651",
         "rawType": "float64",
         "type": "float"
        },
        {
         "name": "652",
         "rawType": "float64",
         "type": "float"
        },
        {
         "name": "653",
         "rawType": "float64",
         "type": "float"
        },
        {
         "name": "654",
         "rawType": "float64",
         "type": "float"
        },
        {
         "name": "655",
         "rawType": "float64",
         "type": "float"
        },
        {
         "name": "656",
         "rawType": "float64",
         "type": "float"
        },
        {
         "name": "657",
         "rawType": "float64",
         "type": "float"
        },
        {
         "name": "658",
         "rawType": "float64",
         "type": "float"
        },
        {
         "name": "659",
         "rawType": "float64",
         "type": "float"
        },
        {
         "name": "660",
         "rawType": "float64",
         "type": "float"
        },
        {
         "name": "661",
         "rawType": "float64",
         "type": "float"
        },
        {
         "name": "662",
         "rawType": "float64",
         "type": "float"
        },
        {
         "name": "663",
         "rawType": "float64",
         "type": "float"
        },
        {
         "name": "664",
         "rawType": "float64",
         "type": "float"
        },
        {
         "name": "665",
         "rawType": "float64",
         "type": "float"
        },
        {
         "name": "666",
         "rawType": "float64",
         "type": "float"
        },
        {
         "name": "667",
         "rawType": "float64",
         "type": "float"
        },
        {
         "name": "668",
         "rawType": "float64",
         "type": "float"
        },
        {
         "name": "669",
         "rawType": "float64",
         "type": "float"
        },
        {
         "name": "670",
         "rawType": "float64",
         "type": "float"
        },
        {
         "name": "671",
         "rawType": "float64",
         "type": "float"
        },
        {
         "name": "672",
         "rawType": "float64",
         "type": "float"
        },
        {
         "name": "673",
         "rawType": "float64",
         "type": "float"
        },
        {
         "name": "674",
         "rawType": "float64",
         "type": "float"
        },
        {
         "name": "675",
         "rawType": "float64",
         "type": "float"
        },
        {
         "name": "676",
         "rawType": "float64",
         "type": "float"
        },
        {
         "name": "677",
         "rawType": "float64",
         "type": "float"
        },
        {
         "name": "678",
         "rawType": "float64",
         "type": "float"
        },
        {
         "name": "679",
         "rawType": "float64",
         "type": "float"
        },
        {
         "name": "680",
         "rawType": "float64",
         "type": "float"
        },
        {
         "name": "681",
         "rawType": "float64",
         "type": "float"
        },
        {
         "name": "682",
         "rawType": "float64",
         "type": "float"
        },
        {
         "name": "683",
         "rawType": "float64",
         "type": "float"
        },
        {
         "name": "684",
         "rawType": "float64",
         "type": "float"
        },
        {
         "name": "685",
         "rawType": "float64",
         "type": "float"
        },
        {
         "name": "686",
         "rawType": "float64",
         "type": "float"
        },
        {
         "name": "687",
         "rawType": "float64",
         "type": "float"
        },
        {
         "name": "688",
         "rawType": "float64",
         "type": "float"
        },
        {
         "name": "689",
         "rawType": "float64",
         "type": "float"
        },
        {
         "name": "690",
         "rawType": "float64",
         "type": "float"
        },
        {
         "name": "691",
         "rawType": "float64",
         "type": "float"
        },
        {
         "name": "692",
         "rawType": "float64",
         "type": "float"
        },
        {
         "name": "693",
         "rawType": "float64",
         "type": "float"
        },
        {
         "name": "694",
         "rawType": "float64",
         "type": "float"
        },
        {
         "name": "695",
         "rawType": "float64",
         "type": "float"
        },
        {
         "name": "696",
         "rawType": "float64",
         "type": "float"
        },
        {
         "name": "697",
         "rawType": "float64",
         "type": "float"
        },
        {
         "name": "698",
         "rawType": "float64",
         "type": "float"
        },
        {
         "name": "699",
         "rawType": "float64",
         "type": "float"
        },
        {
         "name": "700",
         "rawType": "float64",
         "type": "float"
        },
        {
         "name": "701",
         "rawType": "float64",
         "type": "float"
        },
        {
         "name": "702",
         "rawType": "float64",
         "type": "float"
        },
        {
         "name": "703",
         "rawType": "float64",
         "type": "float"
        },
        {
         "name": "704",
         "rawType": "float64",
         "type": "float"
        },
        {
         "name": "705",
         "rawType": "float64",
         "type": "float"
        },
        {
         "name": "706",
         "rawType": "float64",
         "type": "float"
        },
        {
         "name": "707",
         "rawType": "float64",
         "type": "float"
        },
        {
         "name": "708",
         "rawType": "float64",
         "type": "float"
        },
        {
         "name": "709",
         "rawType": "float64",
         "type": "float"
        },
        {
         "name": "710",
         "rawType": "float64",
         "type": "float"
        },
        {
         "name": "711",
         "rawType": "float64",
         "type": "float"
        },
        {
         "name": "712",
         "rawType": "float64",
         "type": "float"
        },
        {
         "name": "713",
         "rawType": "float64",
         "type": "float"
        },
        {
         "name": "714",
         "rawType": "float64",
         "type": "float"
        },
        {
         "name": "715",
         "rawType": "float64",
         "type": "float"
        },
        {
         "name": "716",
         "rawType": "float64",
         "type": "float"
        },
        {
         "name": "717",
         "rawType": "float64",
         "type": "float"
        },
        {
         "name": "718",
         "rawType": "float64",
         "type": "float"
        },
        {
         "name": "719",
         "rawType": "float64",
         "type": "float"
        },
        {
         "name": "720",
         "rawType": "float64",
         "type": "float"
        },
        {
         "name": "721",
         "rawType": "float64",
         "type": "float"
        },
        {
         "name": "722",
         "rawType": "float64",
         "type": "float"
        },
        {
         "name": "723",
         "rawType": "float64",
         "type": "float"
        },
        {
         "name": "724",
         "rawType": "float64",
         "type": "float"
        },
        {
         "name": "725",
         "rawType": "float64",
         "type": "float"
        },
        {
         "name": "726",
         "rawType": "float64",
         "type": "float"
        },
        {
         "name": "727",
         "rawType": "float64",
         "type": "float"
        },
        {
         "name": "728",
         "rawType": "float64",
         "type": "float"
        },
        {
         "name": "729",
         "rawType": "float64",
         "type": "float"
        },
        {
         "name": "730",
         "rawType": "float64",
         "type": "float"
        },
        {
         "name": "731",
         "rawType": "float64",
         "type": "float"
        },
        {
         "name": "732",
         "rawType": "float64",
         "type": "float"
        },
        {
         "name": "733",
         "rawType": "float64",
         "type": "float"
        },
        {
         "name": "734",
         "rawType": "float64",
         "type": "float"
        },
        {
         "name": "735",
         "rawType": "float64",
         "type": "float"
        },
        {
         "name": "736",
         "rawType": "float64",
         "type": "float"
        },
        {
         "name": "737",
         "rawType": "float64",
         "type": "float"
        },
        {
         "name": "738",
         "rawType": "float64",
         "type": "float"
        },
        {
         "name": "739",
         "rawType": "float64",
         "type": "float"
        },
        {
         "name": "740",
         "rawType": "float64",
         "type": "float"
        },
        {
         "name": "741",
         "rawType": "float64",
         "type": "float"
        },
        {
         "name": "742",
         "rawType": "float64",
         "type": "float"
        },
        {
         "name": "743",
         "rawType": "float64",
         "type": "float"
        },
        {
         "name": "744",
         "rawType": "float64",
         "type": "float"
        },
        {
         "name": "745",
         "rawType": "float64",
         "type": "float"
        },
        {
         "name": "746",
         "rawType": "float64",
         "type": "float"
        },
        {
         "name": "747",
         "rawType": "float64",
         "type": "float"
        },
        {
         "name": "748",
         "rawType": "float64",
         "type": "float"
        },
        {
         "name": "749",
         "rawType": "float64",
         "type": "float"
        },
        {
         "name": "750",
         "rawType": "float64",
         "type": "float"
        },
        {
         "name": "751",
         "rawType": "float64",
         "type": "float"
        },
        {
         "name": "752",
         "rawType": "float64",
         "type": "float"
        },
        {
         "name": "753",
         "rawType": "float64",
         "type": "float"
        },
        {
         "name": "754",
         "rawType": "float64",
         "type": "float"
        },
        {
         "name": "755",
         "rawType": "float64",
         "type": "float"
        },
        {
         "name": "756",
         "rawType": "float64",
         "type": "float"
        },
        {
         "name": "757",
         "rawType": "float64",
         "type": "float"
        },
        {
         "name": "758",
         "rawType": "float64",
         "type": "float"
        },
        {
         "name": "759",
         "rawType": "float64",
         "type": "float"
        },
        {
         "name": "760",
         "rawType": "float64",
         "type": "float"
        },
        {
         "name": "761",
         "rawType": "float64",
         "type": "float"
        },
        {
         "name": "762",
         "rawType": "float64",
         "type": "float"
        },
        {
         "name": "763",
         "rawType": "float64",
         "type": "float"
        },
        {
         "name": "764",
         "rawType": "float64",
         "type": "float"
        },
        {
         "name": "765",
         "rawType": "float64",
         "type": "float"
        },
        {
         "name": "766",
         "rawType": "float64",
         "type": "float"
        },
        {
         "name": "767",
         "rawType": "float64",
         "type": "float"
        },
        {
         "name": "768",
         "rawType": "float64",
         "type": "float"
        },
        {
         "name": "769",
         "rawType": "float64",
         "type": "float"
        },
        {
         "name": "770",
         "rawType": "float64",
         "type": "float"
        },
        {
         "name": "771",
         "rawType": "float64",
         "type": "float"
        },
        {
         "name": "772",
         "rawType": "float64",
         "type": "float"
        },
        {
         "name": "773",
         "rawType": "float64",
         "type": "float"
        },
        {
         "name": "774",
         "rawType": "float64",
         "type": "float"
        },
        {
         "name": "775",
         "rawType": "float64",
         "type": "float"
        },
        {
         "name": "776",
         "rawType": "float64",
         "type": "float"
        },
        {
         "name": "777",
         "rawType": "float64",
         "type": "float"
        },
        {
         "name": "778",
         "rawType": "float64",
         "type": "float"
        },
        {
         "name": "779",
         "rawType": "float64",
         "type": "float"
        },
        {
         "name": "780",
         "rawType": "float64",
         "type": "float"
        },
        {
         "name": "781",
         "rawType": "float64",
         "type": "float"
        },
        {
         "name": "782",
         "rawType": "float64",
         "type": "float"
        },
        {
         "name": "783",
         "rawType": "float64",
         "type": "float"
        },
        {
         "name": "784",
         "rawType": "float64",
         "type": "float"
        },
        {
         "name": "785",
         "rawType": "float64",
         "type": "float"
        },
        {
         "name": "786",
         "rawType": "float64",
         "type": "float"
        },
        {
         "name": "787",
         "rawType": "float64",
         "type": "float"
        },
        {
         "name": "788",
         "rawType": "float64",
         "type": "float"
        },
        {
         "name": "789",
         "rawType": "float64",
         "type": "float"
        },
        {
         "name": "790",
         "rawType": "float64",
         "type": "float"
        },
        {
         "name": "791",
         "rawType": "float64",
         "type": "float"
        },
        {
         "name": "792",
         "rawType": "float64",
         "type": "float"
        },
        {
         "name": "793",
         "rawType": "float64",
         "type": "float"
        },
        {
         "name": "794",
         "rawType": "float64",
         "type": "float"
        },
        {
         "name": "795",
         "rawType": "float64",
         "type": "float"
        },
        {
         "name": "796",
         "rawType": "float64",
         "type": "float"
        },
        {
         "name": "797",
         "rawType": "float64",
         "type": "float"
        },
        {
         "name": "798",
         "rawType": "float64",
         "type": "float"
        },
        {
         "name": "799",
         "rawType": "float64",
         "type": "float"
        },
        {
         "name": "800",
         "rawType": "float64",
         "type": "float"
        },
        {
         "name": "801",
         "rawType": "float64",
         "type": "float"
        },
        {
         "name": "802",
         "rawType": "float64",
         "type": "float"
        },
        {
         "name": "803",
         "rawType": "float64",
         "type": "float"
        },
        {
         "name": "804",
         "rawType": "float64",
         "type": "float"
        },
        {
         "name": "805",
         "rawType": "float64",
         "type": "float"
        },
        {
         "name": "806",
         "rawType": "float64",
         "type": "float"
        },
        {
         "name": "807",
         "rawType": "float64",
         "type": "float"
        },
        {
         "name": "808",
         "rawType": "float64",
         "type": "float"
        },
        {
         "name": "809",
         "rawType": "float64",
         "type": "float"
        },
        {
         "name": "810",
         "rawType": "float64",
         "type": "float"
        },
        {
         "name": "811",
         "rawType": "float64",
         "type": "float"
        },
        {
         "name": "812",
         "rawType": "float64",
         "type": "float"
        },
        {
         "name": "813",
         "rawType": "float64",
         "type": "float"
        },
        {
         "name": "814",
         "rawType": "float64",
         "type": "float"
        },
        {
         "name": "815",
         "rawType": "float64",
         "type": "float"
        },
        {
         "name": "816",
         "rawType": "float64",
         "type": "float"
        },
        {
         "name": "817",
         "rawType": "float64",
         "type": "float"
        },
        {
         "name": "818",
         "rawType": "float64",
         "type": "float"
        },
        {
         "name": "819",
         "rawType": "float64",
         "type": "float"
        },
        {
         "name": "820",
         "rawType": "float64",
         "type": "float"
        },
        {
         "name": "821",
         "rawType": "float64",
         "type": "float"
        },
        {
         "name": "822",
         "rawType": "float64",
         "type": "float"
        },
        {
         "name": "823",
         "rawType": "float64",
         "type": "float"
        },
        {
         "name": "824",
         "rawType": "float64",
         "type": "float"
        },
        {
         "name": "825",
         "rawType": "float64",
         "type": "float"
        },
        {
         "name": "826",
         "rawType": "float64",
         "type": "float"
        },
        {
         "name": "827",
         "rawType": "float64",
         "type": "float"
        },
        {
         "name": "828",
         "rawType": "float64",
         "type": "float"
        },
        {
         "name": "829",
         "rawType": "float64",
         "type": "float"
        },
        {
         "name": "830",
         "rawType": "float64",
         "type": "float"
        },
        {
         "name": "831",
         "rawType": "float64",
         "type": "float"
        },
        {
         "name": "832",
         "rawType": "float64",
         "type": "float"
        },
        {
         "name": "833",
         "rawType": "float64",
         "type": "float"
        },
        {
         "name": "834",
         "rawType": "float64",
         "type": "float"
        },
        {
         "name": "835",
         "rawType": "float64",
         "type": "float"
        },
        {
         "name": "836",
         "rawType": "float64",
         "type": "float"
        },
        {
         "name": "837",
         "rawType": "float64",
         "type": "float"
        },
        {
         "name": "838",
         "rawType": "float64",
         "type": "float"
        },
        {
         "name": "839",
         "rawType": "float64",
         "type": "float"
        },
        {
         "name": "840",
         "rawType": "float64",
         "type": "float"
        },
        {
         "name": "841",
         "rawType": "float64",
         "type": "float"
        },
        {
         "name": "842",
         "rawType": "float64",
         "type": "float"
        },
        {
         "name": "843",
         "rawType": "float64",
         "type": "float"
        },
        {
         "name": "844",
         "rawType": "float64",
         "type": "float"
        },
        {
         "name": "845",
         "rawType": "float64",
         "type": "float"
        },
        {
         "name": "846",
         "rawType": "float64",
         "type": "float"
        },
        {
         "name": "847",
         "rawType": "float64",
         "type": "float"
        },
        {
         "name": "848",
         "rawType": "float64",
         "type": "float"
        },
        {
         "name": "849",
         "rawType": "float64",
         "type": "float"
        },
        {
         "name": "850",
         "rawType": "float64",
         "type": "float"
        },
        {
         "name": "851",
         "rawType": "float64",
         "type": "float"
        },
        {
         "name": "852",
         "rawType": "float64",
         "type": "float"
        },
        {
         "name": "853",
         "rawType": "float64",
         "type": "float"
        },
        {
         "name": "854",
         "rawType": "float64",
         "type": "float"
        },
        {
         "name": "855",
         "rawType": "float64",
         "type": "float"
        },
        {
         "name": "856",
         "rawType": "float64",
         "type": "float"
        },
        {
         "name": "857",
         "rawType": "float64",
         "type": "float"
        },
        {
         "name": "858",
         "rawType": "float64",
         "type": "float"
        },
        {
         "name": "859",
         "rawType": "float64",
         "type": "float"
        },
        {
         "name": "860",
         "rawType": "float64",
         "type": "float"
        },
        {
         "name": "861",
         "rawType": "float64",
         "type": "float"
        },
        {
         "name": "862",
         "rawType": "float64",
         "type": "float"
        },
        {
         "name": "863",
         "rawType": "float64",
         "type": "float"
        },
        {
         "name": "864",
         "rawType": "float64",
         "type": "float"
        },
        {
         "name": "865",
         "rawType": "float64",
         "type": "float"
        },
        {
         "name": "866",
         "rawType": "float64",
         "type": "float"
        },
        {
         "name": "867",
         "rawType": "float64",
         "type": "float"
        },
        {
         "name": "868",
         "rawType": "float64",
         "type": "float"
        },
        {
         "name": "869",
         "rawType": "float64",
         "type": "float"
        },
        {
         "name": "870",
         "rawType": "float64",
         "type": "float"
        },
        {
         "name": "871",
         "rawType": "float64",
         "type": "float"
        },
        {
         "name": "872",
         "rawType": "float64",
         "type": "float"
        },
        {
         "name": "873",
         "rawType": "float64",
         "type": "float"
        },
        {
         "name": "874",
         "rawType": "float64",
         "type": "float"
        },
        {
         "name": "875",
         "rawType": "float64",
         "type": "float"
        },
        {
         "name": "876",
         "rawType": "float64",
         "type": "float"
        },
        {
         "name": "877",
         "rawType": "float64",
         "type": "float"
        },
        {
         "name": "878",
         "rawType": "float64",
         "type": "float"
        },
        {
         "name": "879",
         "rawType": "float64",
         "type": "float"
        },
        {
         "name": "880",
         "rawType": "float64",
         "type": "float"
        },
        {
         "name": "881",
         "rawType": "float64",
         "type": "float"
        },
        {
         "name": "882",
         "rawType": "float64",
         "type": "float"
        },
        {
         "name": "883",
         "rawType": "float64",
         "type": "float"
        },
        {
         "name": "884",
         "rawType": "float64",
         "type": "float"
        },
        {
         "name": "885",
         "rawType": "float64",
         "type": "float"
        },
        {
         "name": "886",
         "rawType": "float64",
         "type": "float"
        },
        {
         "name": "887",
         "rawType": "float64",
         "type": "float"
        },
        {
         "name": "888",
         "rawType": "float64",
         "type": "float"
        },
        {
         "name": "889",
         "rawType": "float64",
         "type": "float"
        },
        {
         "name": "890",
         "rawType": "float64",
         "type": "float"
        },
        {
         "name": "891",
         "rawType": "float64",
         "type": "float"
        },
        {
         "name": "892",
         "rawType": "float64",
         "type": "float"
        },
        {
         "name": "893",
         "rawType": "float64",
         "type": "float"
        },
        {
         "name": "894",
         "rawType": "float64",
         "type": "float"
        },
        {
         "name": "895",
         "rawType": "float64",
         "type": "float"
        },
        {
         "name": "896",
         "rawType": "float64",
         "type": "float"
        },
        {
         "name": "897",
         "rawType": "float64",
         "type": "float"
        },
        {
         "name": "898",
         "rawType": "float64",
         "type": "float"
        },
        {
         "name": "899",
         "rawType": "float64",
         "type": "float"
        },
        {
         "name": "900",
         "rawType": "float64",
         "type": "float"
        },
        {
         "name": "901",
         "rawType": "float64",
         "type": "float"
        },
        {
         "name": "902",
         "rawType": "float64",
         "type": "float"
        },
        {
         "name": "903",
         "rawType": "float64",
         "type": "float"
        },
        {
         "name": "904",
         "rawType": "float64",
         "type": "float"
        },
        {
         "name": "905",
         "rawType": "float64",
         "type": "float"
        },
        {
         "name": "906",
         "rawType": "float64",
         "type": "float"
        },
        {
         "name": "907",
         "rawType": "float64",
         "type": "float"
        },
        {
         "name": "908",
         "rawType": "float64",
         "type": "float"
        },
        {
         "name": "909",
         "rawType": "float64",
         "type": "float"
        },
        {
         "name": "910",
         "rawType": "float64",
         "type": "float"
        },
        {
         "name": "911",
         "rawType": "float64",
         "type": "float"
        },
        {
         "name": "912",
         "rawType": "float64",
         "type": "float"
        },
        {
         "name": "913",
         "rawType": "float64",
         "type": "float"
        },
        {
         "name": "914",
         "rawType": "float64",
         "type": "float"
        },
        {
         "name": "915",
         "rawType": "float64",
         "type": "float"
        },
        {
         "name": "916",
         "rawType": "float64",
         "type": "float"
        },
        {
         "name": "917",
         "rawType": "float64",
         "type": "float"
        },
        {
         "name": "918",
         "rawType": "float64",
         "type": "float"
        },
        {
         "name": "919",
         "rawType": "float64",
         "type": "float"
        },
        {
         "name": "920",
         "rawType": "float64",
         "type": "float"
        },
        {
         "name": "921",
         "rawType": "float64",
         "type": "float"
        },
        {
         "name": "922",
         "rawType": "float64",
         "type": "float"
        },
        {
         "name": "923",
         "rawType": "float64",
         "type": "float"
        },
        {
         "name": "924",
         "rawType": "float64",
         "type": "float"
        },
        {
         "name": "925",
         "rawType": "float64",
         "type": "float"
        },
        {
         "name": "926",
         "rawType": "float64",
         "type": "float"
        },
        {
         "name": "927",
         "rawType": "float64",
         "type": "float"
        },
        {
         "name": "928",
         "rawType": "float64",
         "type": "float"
        },
        {
         "name": "929",
         "rawType": "float64",
         "type": "float"
        },
        {
         "name": "930",
         "rawType": "float64",
         "type": "float"
        },
        {
         "name": "931",
         "rawType": "float64",
         "type": "float"
        },
        {
         "name": "932",
         "rawType": "float64",
         "type": "float"
        },
        {
         "name": "933",
         "rawType": "float64",
         "type": "float"
        },
        {
         "name": "934",
         "rawType": "float64",
         "type": "float"
        },
        {
         "name": "935",
         "rawType": "float64",
         "type": "float"
        },
        {
         "name": "936",
         "rawType": "float64",
         "type": "float"
        },
        {
         "name": "937",
         "rawType": "float64",
         "type": "float"
        },
        {
         "name": "938",
         "rawType": "float64",
         "type": "float"
        },
        {
         "name": "939",
         "rawType": "float64",
         "type": "float"
        },
        {
         "name": "940",
         "rawType": "float64",
         "type": "float"
        },
        {
         "name": "941",
         "rawType": "float64",
         "type": "float"
        },
        {
         "name": "942",
         "rawType": "float64",
         "type": "float"
        },
        {
         "name": "943",
         "rawType": "float64",
         "type": "float"
        },
        {
         "name": "944",
         "rawType": "float64",
         "type": "float"
        },
        {
         "name": "945",
         "rawType": "float64",
         "type": "float"
        },
        {
         "name": "946",
         "rawType": "float64",
         "type": "float"
        },
        {
         "name": "947",
         "rawType": "float64",
         "type": "float"
        },
        {
         "name": "948",
         "rawType": "float64",
         "type": "float"
        },
        {
         "name": "949",
         "rawType": "float64",
         "type": "float"
        },
        {
         "name": "950",
         "rawType": "float64",
         "type": "float"
        },
        {
         "name": "951",
         "rawType": "float64",
         "type": "float"
        },
        {
         "name": "952",
         "rawType": "float64",
         "type": "float"
        },
        {
         "name": "953",
         "rawType": "float64",
         "type": "float"
        },
        {
         "name": "954",
         "rawType": "float64",
         "type": "float"
        },
        {
         "name": "955",
         "rawType": "float64",
         "type": "float"
        },
        {
         "name": "956",
         "rawType": "float64",
         "type": "float"
        },
        {
         "name": "957",
         "rawType": "float64",
         "type": "float"
        },
        {
         "name": "958",
         "rawType": "float64",
         "type": "float"
        },
        {
         "name": "959",
         "rawType": "float64",
         "type": "float"
        },
        {
         "name": "960",
         "rawType": "float64",
         "type": "float"
        },
        {
         "name": "961",
         "rawType": "float64",
         "type": "float"
        },
        {
         "name": "962",
         "rawType": "float64",
         "type": "float"
        },
        {
         "name": "963",
         "rawType": "float64",
         "type": "float"
        },
        {
         "name": "964",
         "rawType": "float64",
         "type": "float"
        },
        {
         "name": "965",
         "rawType": "float64",
         "type": "float"
        },
        {
         "name": "966",
         "rawType": "float64",
         "type": "float"
        },
        {
         "name": "967",
         "rawType": "float64",
         "type": "float"
        },
        {
         "name": "968",
         "rawType": "float64",
         "type": "float"
        },
        {
         "name": "969",
         "rawType": "float64",
         "type": "float"
        },
        {
         "name": "970",
         "rawType": "float64",
         "type": "float"
        },
        {
         "name": "971",
         "rawType": "float64",
         "type": "float"
        },
        {
         "name": "972",
         "rawType": "float64",
         "type": "float"
        },
        {
         "name": "973",
         "rawType": "float64",
         "type": "float"
        },
        {
         "name": "974",
         "rawType": "float64",
         "type": "float"
        },
        {
         "name": "975",
         "rawType": "float64",
         "type": "float"
        },
        {
         "name": "976",
         "rawType": "float64",
         "type": "float"
        },
        {
         "name": "977",
         "rawType": "float64",
         "type": "float"
        },
        {
         "name": "978",
         "rawType": "float64",
         "type": "float"
        },
        {
         "name": "979",
         "rawType": "float64",
         "type": "float"
        },
        {
         "name": "980",
         "rawType": "float64",
         "type": "float"
        },
        {
         "name": "981",
         "rawType": "float64",
         "type": "float"
        },
        {
         "name": "982",
         "rawType": "float64",
         "type": "float"
        },
        {
         "name": "983",
         "rawType": "float64",
         "type": "float"
        },
        {
         "name": "984",
         "rawType": "float64",
         "type": "float"
        },
        {
         "name": "985",
         "rawType": "float64",
         "type": "float"
        },
        {
         "name": "986",
         "rawType": "float64",
         "type": "float"
        },
        {
         "name": "987",
         "rawType": "float64",
         "type": "float"
        },
        {
         "name": "988",
         "rawType": "float64",
         "type": "float"
        },
        {
         "name": "989",
         "rawType": "float64",
         "type": "float"
        },
        {
         "name": "990",
         "rawType": "float64",
         "type": "float"
        },
        {
         "name": "991",
         "rawType": "float64",
         "type": "float"
        },
        {
         "name": "992",
         "rawType": "float64",
         "type": "float"
        },
        {
         "name": "993",
         "rawType": "float64",
         "type": "float"
        },
        {
         "name": "994",
         "rawType": "float64",
         "type": "float"
        },
        {
         "name": "995",
         "rawType": "float64",
         "type": "float"
        },
        {
         "name": "996",
         "rawType": "float64",
         "type": "float"
        },
        {
         "name": "997",
         "rawType": "float64",
         "type": "float"
        },
        {
         "name": "998",
         "rawType": "float64",
         "type": "float"
        },
        {
         "name": "999",
         "rawType": "float64",
         "type": "float"
        },
        {
         "name": "1000",
         "rawType": "float64",
         "type": "float"
        },
        {
         "name": "1001",
         "rawType": "float64",
         "type": "float"
        },
        {
         "name": "1002",
         "rawType": "float64",
         "type": "float"
        },
        {
         "name": "1003",
         "rawType": "float64",
         "type": "float"
        },
        {
         "name": "1004",
         "rawType": "float64",
         "type": "float"
        },
        {
         "name": "1005",
         "rawType": "float64",
         "type": "float"
        },
        {
         "name": "1006",
         "rawType": "float64",
         "type": "float"
        },
        {
         "name": "1007",
         "rawType": "float64",
         "type": "float"
        },
        {
         "name": "1008",
         "rawType": "float64",
         "type": "float"
        },
        {
         "name": "1009",
         "rawType": "float64",
         "type": "float"
        }
       ],
       "ref": "ad62c7b3-7401-474f-b186-3a647c683e47",
       "rows": [
        [
         "AAF",
         "-0.0038072757610385",
         "-0.0006368576322218",
         "0.0108350360434821",
         "-0.0195462058857136",
         "-0.0019291010210549",
         "-0.0251288512107779",
         "-0.0085922630177592",
         "-0.0020000380668823",
         "-0.0247160603041479",
         "-0.0568493513104609",
         "0.0152506137477272",
         "0.0014305331403385",
         "0.0114287895352418",
         "0.0296608218661131",
         "-0.0192043367144454",
         "0.0209789926077705",
         "-0.0273972588414838",
         "0.0112677125454381",
         "0.0111419531850205",
         "0.0137740513851176",
         "-0.008152122053441",
         "-0.0054794517682967",
         "0.0192837981165709",
         "-0.0054055080063413",
         "0.0115489260083787",
         "0.0100738621379539",
         "-0.0226063068444135",
         "0.0061223576249098",
         "0.0169033261710089",
         "0.0033244300179513",
         "-0.0059641264089651",
         "0.0053334348450193",
         "-0.0059682827534447",
         "-0.004669766943501",
         "-0.0080428438664182",
         "-0.0087838473517549",
         "-0.0231765758975724",
         "-0.0230286243160137",
         "-0.0142856597590466",
         "-0.0362319097121883",
         "-0.0248120437122488",
         "-0.0185041814260027",
         "-0.010997672521014",
         "0.0166799190860666",
         "-0.027343793098163",
         "-0.0361445317728551",
         "-0.0833333280321299",
         "-0.0290909070720705",
         "-0.0636704074340551",
         "-0.226400028519626",
         "-0.0718716569730294",
         "-0.185515428963656",
         "0.1361150250093528",
         "-0.1631547743860929",
         "0.0791366852148529",
         "0.2753332903723804",
         "0.0172503217051915",
         "0.2127442360847888",
         "0.0614406325647443",
         "0.0508982587926969",
         "-0.0693258203290435",
         "-0.2159183595574146",
         "0.0702758475987317",
         "-0.1220817258772992",
         "0.0803324670842804",
         "-0.0025640536299136",
         "0.0552698956376453",
         "-0.0170524212463253",
         "-0.0433703908377035",
         "0.1152848885316812",
         "0.0313589508182767",
         "-0.1497747833906823",
         "0.0450331597223625",
         "0.0443598229980271",
         "-0.0983009013919891",
         "-0.0309555573934963",
         "0.0763887482597476",
         "-0.0748387607702132",
         "0.0529987692333899",
         "0.0503311725656379",
         "-0.0075663477730245",
         "0.0152478737335834",
         "0.006257750173622",
         "0.0323383559311782",
         "-0.0650601919856287",
         "0.005154540295337",
         "0.0141026375038475",
         "-0.0379267206033487",
         "0.0446781042260386",
         "0.0062892357068196",
         "0.0149999999999999",
         "-0.0357143092171596",
         "-0.0038313933445541",
         "-0.0679487424158123",
         "0.0275103170908062",
         "-0.0053546502876241",
         "-0.0134588977937689",
         "0.0013640740511624",
         "-0.0245231100372576",
         "-0.0223463687150837",
         "0.0200000545266676",
         "-0.0476190985309661",
         "0.1294117647058823",
         "0.154947991214845",
         "0.0608793216976426",
         "0.0308182980830891",
         "0.0969072520307696",
         "0.0526315751712835",
         "-0.0482143165072455",
         "0.0300187606512418",
         "-0.0473588325977928",
         "0.0764817597929812",
         "0.0213144557290223",
         "0.060869596387266",
         "0.0622951406408931",
         "-0.0246914140181954",
         "0.072784805730856",
         "-0.011799521957172",
         "-0.0044774697749712",
         "-0.0404797852574879",
         "-0.0687500555383897",
         "0.0201342281879195",
         "0.0279605577044961",
         "0.0",
         "-0.0079999692207876",
         "0.0",
         "0.0080644848513802",
         "0.0031999999022882",
         "-0.0303030598182136",
         "-0.0082236528218195",
         "-0.0082919053500633",
         "0.021739162348384",
         "0.0409164977656337",
         "0.0",
         "-0.0330188379177143",
         "0.0113821444993706",
         "-0.0128617969095654",
         "0.0179153405282306",
         "0.0144000911650958",
         "-0.0189275027189151",
         "0.0289389049765924",
         "-0.07187499571348",
         "-0.0404040378077975",
         "-0.0175438584743409",
         "-0.0125000332271858",
         "-0.0325497276289514",
         "0.0056075121071366",
         "0.0148698164754119",
         "0.0421246469835183",
         "-0.0175747577547621",
         "0.0089445776630272",
         "-0.0407802405965843",
         "0.0536045439482588",
         "0.0526315754230226",
         "0.0",
         "-0.0016666347534218",
         "0.013355527657243",
         "-0.0197693568743244",
         "-0.0218487708695201",
         "0.005154671966209",
         "-0.027350361212597",
         "0.0193320591215826",
         "-0.0155172084752868",
         "-0.0192644142697334",
         "0.00892853674085",
         "-0.003539890444444",
         "0.0124334946541491",
         "0.0473683843994354",
         "-0.0251256593045682",
         "0.0034365572806438",
         "-0.0136987590609725",
         "0.0590278440428253",
         "-0.0016393754455095",
         "-0.0180624281438823",
         "0.0050167543216281",
         "0.0",
         "0.0149750728761137",
         "0.0",
         "-0.004918063764947",
         "-0.0049423077781641",
         "0.0943708233669831",
         "-0.0620272008047179",
         "-0.0145161589197922",
         "-0.0163666116000885",
         "-0.071547450447418",
         "0.0215054447467155",
         "0.0508772230568734",
         "0.0183639062842697",
         "-0.0426228855811048",
         "0.0",
         "0.0051369529512415",
         "0.0664394189832076",
         "-0.0095846035644291",
         "0.0161289697027602",
         "-0.0015872712947084",
         "0.0174881061217564",
         "0.0156249990681478",
         "-0.0107692007763389",
         "0.0108864390239269",
         "0.0046153549838527",
         "0.0030627285955322",
         "-0.0045801236688166",
         "-0.0076687409268921",
         "0.0",
         "0.0015457425829488",
         "-0.010802556216609",
         "0.0140405909771892",
         "0.012307691584972",
         "-0.0349544342707742",
         "-0.0110235916618715",
         "-0.0175158921132294",
         "-0.0048623289702075",
         "0.0097720491346373",
         "0.009677357196711",
         "0.0303514681858365",
         "0.0232557836772793",
         "0.0257576046732328",
         "0.0915804432549201",
         "0.0730718753728418",
         "-0.0416142389038691",
         "-0.0157893732403491",
         "0.0147059573935661",
         "0.0289853512804152",
         "-0.0076825070704888",
         "-0.0064516376870437",
         "0.0129870632004756",
         "0.0153846153846153",
         "0.026515271997056",
         "0.0123001685054917",
         "-0.0012152753300777",
         "-0.0121654042526397",
         "-0.0147783251231526",
         "0.0849999999999999",
         "-0.0276496816390153",
         "0.0853079587091032",
         "0.0491267417267122",
         "-0.0270551879157295",
         "0.00427807460435",
         "0.0085196199945598",
         "-0.0137275811471123",
         "-0.0310491087738409",
         "0.0187844651431536",
         "-0.2017353909638788",
         "0.0828804607124098",
         "-0.0451693841128888",
         "0.0131406542942007",
         "-0.062256705704646",
         "0.0027661984257196",
         "0.0124136072070857",
         "0.008174543348792",
         "0.0283782980819937",
         "-0.0170827101458433",
         "0.0106950840190256",
         "-0.0158730158730159",
         "0.0430108552921164",
         "0.034793786417012",
         "-0.0074720270745596",
         "-0.0188205527684925",
         "-0.0076725850875707",
         "-0.0154639160045436",
         "-0.0117801285144896",
         "0.066225109986419",
         "-0.0223602953315975",
         "0.0",
         "-0.031766225782174",
         "0.0104986881899225",
         "-0.0311687335744601",
         "0.0348525962981101",
         "-0.0336788025877167",
         "0.0630027544882974",
         "0.0088271169432956",
         "-0.005",
         "-0.0012562094811544",
         "0.0352202192715362",
         "-0.0072906316760373",
         "0.0159119906152724",
         "-0.0180722653323759",
         "-0.0306748678872459",
         "0.0126581789217554",
         "-0.0337499761445828",
         "0.0168176180638817",
         "-0.0114504054036729",
         "0.0038609792046102",
         "0.0256410256410255",
         "0.0",
         "-0.0324998568674974",
         "-0.0038760423891096",
         "-0.0142672586720592",
         "0.0013158145846494",
         "-0.0026279703598487",
         "0.0079049860842796",
         "0.024836675528117",
         "0.0165815580117436",
         "0.0062734537356012",
         "0.0",
         "-0.0124687809317324",
         "-0.0126262144335008",
         "-0.0038362925437853",
         "-0.0025674429033036",
         "0.0296010043124206",
         "0.0162501192770854",
         "-0.0233703013812642",
         "-0.0012593736762347",
         "0.0063050972829206",
         "0.0300750908706004",
         "0.0218979505374909",
         "0.0357142370297653",
         "0.0068965952936017",
         "-0.0388128255773968",
         "-0.0332541552621534",
         "-0.0049139109030809",
         "-0.024691448777797",
         "0.0177214698163643",
         "-0.0174128878499162",
         "0.0088607349081821",
         "-0.0050187246761433",
         "0.022068129282122",
         "0.0148055790574463",
         "0.0079027002996414",
         "0.0217128605753404",
         "-0.0224320011882307",
         "0.0157004124981539",
         "0.008323492383059",
         "-0.1208726868911974",
         "0.0127431633289178",
         "-0.0066225413313554",
         "0.0",
         "-0.0479999975572054",
         "0.0231093627415237",
         "0.0061600717873875",
         "0.0204081357105296",
         "0.0120001266181859",
         "-0.0177866964264881",
         "-0.0006707035854687",
         "-0.0046980761147761",
         "0.0249494927865074",
         "0.0131578445149114",
         "0.0129870632004756",
         "0.0115385838739336",
         "0.0304182472717871",
         "-0.0405905185097826",
         "-0.0012819778807678",
         "0.0288831446981421",
         "-0.0124765582959107",
         "0.0157927127605246",
         "-0.0180347902655466",
         "-0.0012666485726079",
         "-0.0025364131986427",
         "0.0044500829567908",
         "-0.0101265817892175",
         "-0.002557593441237",
         "-0.0173075332715784",
         "0.0221786562241059",
         "0.0082960699672778",
         "-0.0031646172025885",
         "0.0044445293175596",
         "0.0006321232692489",
         "0.0063171429720518",
         "-0.0069052454908744",
         "-0.0094816560239948",
         "-0.0165922373657337",
         "0.0162231439725015",
         "-0.0102171139144148",
         "-0.0064516376870437",
         "0.0058442676656744",
         "0.0038733433099176",
         "0.0128617862151947",
         "0.0177778264613412",
         "0.0018715266037745",
         "0.0118306699242329",
         "0.0221538907890488",
         "0.0150510913157999",
         "-0.0782918549065524",
         "0.01801806669859",
         "-0.0126422723702392",
         "-0.0185658062507666",
         "0.0052184253298488",
         "0.0214145777847174",
         "0.0069886007114019",
         "0.0422712326634784",
         "-0.001210492077321",
         "0.0218181330295879",
         "-0.007117482516216",
         "0.0125448595835411",
         "0.0088495455654586",
         "-0.0280701735589453",
         "-0.0180506091691329",
         "-0.0024509336168292",
         "0.0018428807045391",
         "-0.0416922528524228",
         "0.0255917095028295",
         "0.0062383267694974",
         "0.0185988593035328",
         "0.0012173086421014",
         "0.0024315643955266",
         "0.008489970690908",
         "-0.0078170716906272",
         "0.0139392882307738",
         "0.0669455146728752",
         "-0.0268905872509713",
         "0.0264824163976622",
         "0.0028042301583741",
         "-0.0072707465697086",
         "0.0281691219047468",
         "0.0197260673694275",
         "0.024717787761564",
         "0.0026218891436222",
         "-0.0109831538035195",
         "-0.0100476230268254",
         "0.0053418187384817",
         "0.0244421432375545",
         "-0.0165975090591187",
         "-0.0073840260435906",
         "0.0042507969382319",
         "-0.0084656082946449",
         "-0.0133404581510917",
         "0.0151433618433387",
         "-0.0010655503819874",
         "-0.0037334044675132",
         "-0.0048179158337534",
         "0.0080688437082845",
         "-0.0021344309398062",
         "0.0016042269490041",
         "0.0160171458624267",
         "-0.0246978337447579",
         "0.0091594100276155",
         "0.0085424451879196",
         "-0.0042349641315561",
         "-0.002658129872643",
         "0.0149252492377052",
         "-0.0073529211299016",
         "0.0084656890748917",
         "0.0125917339571257",
         "-0.0150258767738243",
         "0.044187147170744",
         "-0.0105792400431303",
         "-0.001018349333467",
         "0.0066258626371553",
         "0.0237974589214302",
         "-0.0252224297064138",
         "-0.0131913688858972",
         "0.0251928116213602",
         "-0.013540573752009",
         "-0.0132181171341406",
         "-0.0087584600325895",
         "-0.0176714588581029",
         "-0.0132274422776669",
         "0.0294905218100451",
         "-0.0140624503012144",
         "0.0036978238577991",
         "-0.0057895035847607",
         "0.0079406991869366",
         "0.0294117647058822",
         "0.0015307193508522",
         "-0.0173205232844012",
         "0.0212545457121329",
         "-0.0131979886623946",
         "0.0154321576676965",
         "0.0005065179086449",
         "0.0025316166052218",
         "0.0025252237069535",
         "0.1083124940727997",
         "-0.0036364327815809",
         "0.0036497046873491",
         "0.0",
         "0.0",
         "-0.0090909431588083",
         "0.1119266366023641",
         "0.0107260876778323",
         "0.0220407367144226",
         "0.0503195345471254",
         "-0.0173802978398218",
         "0.0425695950605125",
         "0.0089086503791901",
         "-0.0007357667329642",
         "0.0007363084842522",
         "-0.0250183155367648",
         "-0.0286792253706927",
         "0.0085469244013054",
         "0.0007703443533346",
         "-0.0030791230381181",
         "-0.0030887512023991",
         "-0.0604183265660285",
         "0.0453421202659487",
         "-0.015772906742196",
         "0.0104166144250859",
         "0.0039651013456685",
         "-0.026856213647742",
         "0.0154220677638432",
         "0.0311751489128031",
         "-0.0193798743166948",
         "-0.0071146861804437",
         "0.0087579977333513",
         "-0.0031570713005318",
         "-0.0071258923153909",
         "0.0127592005540959",
         "0.0157480679354913",
         "-0.0155039112872734",
         "-0.0031496736884928",
         "0.0047393779252955",
         "0.0157233072369338",
         "-0.0015479616437293",
         "-0.0077519852284306",
         "0.0140624432565645",
         "0.0285054460993583",
         "0.0014981022437343",
         "0.0553477811847573",
         "-0.0014174107505103",
         "-0.0276792293318312",
         "0.0138686599062771",
         "-0.03095749910675",
         "0.0104011275335793",
         "0.0227941292845557",
         "0.0",
         "0.0280374077936342",
         "0.0090909168548019",
         "0.0090091224254247",
         "-0.0006869588639344",
         "-0.011683810651342",
         "0.005563295182041",
         "-0.0027663108669153",
         "0.0249653318094398",
         "0.008119150558868",
         "-0.031543657647953",
         "-0.0020790201141916",
         "0.0590277961826708",
         "0.0295081524132905",
         "0.0191082523851282",
         "-0.0199998568835437",
         "-0.0114796905608479",
         "0.0",
         "-0.0858064430348517",
         "-0.0183486396672173",
         "0.0352264698309836",
         "0.0263888709257131",
         "-0.023680614794706",
         "0.0395010647942932",
         "0.0073333628471241",
         "0.0019852551613603",
         "0.0165126277246703",
         "0.0038986695086034",
         "-0.0129449646328532",
         "-0.0203279784737849",
         "-0.0702810268315586",
         "0.0403167583582753",
         "-0.0166090353617207",
         "0.0014075434531504",
         "0.0379478964692232",
         "-0.0589031807963618",
         "-0.0525179325949906",
         "-0.0288534351946696",
         "0.0109459873982928",
         "0.0641918512272463",
         "0.0159884370785206",
         "0.0",
         "0.0185979027824838",
         "0.0042135198842889",
         "-0.0048950762284235",
         "0.030217932315316",
         "-0.0245567230489436",
         "0.0629370756280416",
         "-0.0144737427521564",
         "0.0080107508417821",
         "0.0298012793106268",
         "-0.1061093648483958",
         "0.0035971171664297",
         "0.0107527823070441",
         "-0.0106383900151141",
         "0.0",
         "0.0143370065987458",
         "0.0176678178375859",
         "-0.0395832533824777",
         "0.0036153233282123",
         "0.025216098946718",
         "0.011243769523376",
         "0.0020847993073018",
         "0.0249653318094398",
         "0.0094722046032551",
         "-0.0046915596025951",
         "0.0060604527956169",
         "-0.0113788124795",
         "-0.0074473527815818",
         "-0.004775077461199",
         "-0.0130225578479532",
         "-0.0034722170688521",
         "-0.0020906104972008",
         "0.0412012272728679",
         "-0.0167672438506966",
         "-0.0040929086621691",
         "-0.005479464945749",
         "0.0192838447413836",
         "-0.0135135957523246",
         "-0.013013637756185",
         "-0.0270645607907004",
         "-0.0328102652942006",
         "-0.0081121271894001",
         "0.0230483385297433",
         "0.0159884370785206",
         "0.0250357265586875",
         "-0.0020935282577311",
         "0.0041957338728513",
         "0.0097493535175818",
         "0.026206878980677",
         "0.0255377203159805",
         "0.0157273276297835",
         "0.0341936160583919",
         "-0.0024953745623594",
         "-0.0506567186265594",
         "0.0184454171307317",
         "-0.0045278858224296",
         "0.0175439135960246",
         "0.0",
         "-0.0804597858017762",
         "0.0131943824567646",
         "-0.0109663369688989",
         "-0.0270270499009259",
         "0.012820515608473",
         "-0.0386779684780418",
         "-0.0277980806244062",
         "0.0075244435867747",
         "0.0201643639584068",
         "-0.0021961005720411",
         "0.008070352832654",
         "-0.0131004391070844",
         "0.015486634753435",
         "0.0007263705893523",
         "0.0087081262218557",
         "-0.0079135918707985",
         "-0.0195794644498887",
         "0.0155326800071902",
         "0.0182082742383022",
         "-0.0364807830043024",
         "0.0304381249028891",
         "0.0403456923244605",
         "0.0228531738816037",
         "0.0115097801090411",
         "0.0006694861652809",
         "0.004682246653328",
         "-0.0039946067777509",
         "0.0461228813537701",
         "0.0198083167442213",
         "0.0238095078678417",
         "0.0079559434423399",
         "0.0042501270292469",
         "-0.0042321398970789",
         "0.0236795307453414",
         "0.0100829122348673",
         "0.0035231354623757",
         "-0.0737271695886133",
         "0.0031585547622978",
         "0.0062972194122319",
         "-0.0031289062966456",
         "-0.0320151503739007",
         "-0.0330738221014865",
         "0.0261568594526853",
         "-0.0058823042269277",
         "0.0138066245541967",
         "-0.0051880796432842",
         "-0.0488918146594039",
         "-0.0109663369688989",
         "-0.0055440183739168",
         "0.0167246712144786",
         "0.0020562208790542",
         "-0.012995835539576",
         "-0.0200970533814756",
         "-0.0021216592126455",
         "-0.0276399964946104",
         "-0.0029152919698121",
         "-0.002924038929902",
         "-0.0065982975774456",
         "-0.0059040729259191",
         "-0.0178173007583805",
         "-0.0075586828619815",
         "0.0030465239304959",
         "0.0060744257114717",
         "0.005282987912518",
         "0.0067568156093946",
         "0.0223713305271364",
         "0.0182348378545278",
         "0.0315186440685379",
         "-0.0020833514437481",
         "-0.0320111298719482",
         "-0.0007189501023826",
         "-0.0230215279000349",
         "-0.0058910299415629",
         "0.0288889142689914",
         "-0.0143988265701499",
         "-0.002191399548495",
         "0.0153732627800682",
         "0.0173035744651344",
         "-0.0687456655966572",
         "-0.021308742375835",
         "0.0046655512141675",
         "0.031733745398415",
         "0.0367590884203243",
         "-0.0347322450535969",
         "-0.0149925965664867",
         "-0.0190258495498112",
         "0.0038789706214132",
         "-0.0170014397472161",
         "-0.0267295322924415",
         "0.0129240393087004",
         "0.0023923653209532",
         "0.015910875198329",
         "-0.0164448161196807",
         "0.0047771117713981",
         "-0.003169579488342",
         "-0.0158982276556011",
         "0.0096930757227033",
         "0.0167999010779147",
         "-0.000786708871896",
         "-0.151181091572348",
         "0.0584414982105576",
         "-0.0087642291118213",
         "0.0256410689024766",
         "0.018103407717694",
         "0.0",
         "0.0245554382150572",
         "-0.0024793604784111",
         "-0.0008284233440591",
         "-0.0091210982532926",
         "0.0035304133755604",
         "0.0008339894988482",
         "-0.0083333269737626",
         "-0.0168067097552691",
         "-0.0068376145309729",
         "0.0008606108011777",
         "0.023215789442947",
         "0.0067226967281324",
         "-0.0350584544332523",
         "0.0147059240985456",
         "0.0281329830093748",
         "0.014096225300662",
         "-0.0122649746195427",
         "0.0281456484017061",
         "-0.0072462855344095",
         "0.0016220463122784",
         "-0.0137651587697896",
         "0.004926066706691",
         "-0.00898688363526",
         "-0.0008244897034732",
         "-0.0363035782030434",
         "0.0102739513454968",
         "-0.0076271515289485",
         "0.0025619891963981",
         "-0.0298126470596455",
         "-0.0254609510531718",
         "-0.0099098611640405",
         "0.0282073969430176",
         "-0.0221238773697365",
         "0.0190045380745136",
         "-0.0106571718165068",
         "0.0125673560715036",
         "-0.0159575148233803",
         "0.0261261476189047",
         "-0.0184371711057921",
         "0.0223613409487082",
         "0.0384951300380231",
         "-0.006739623318397",
         "0.0033926770243839",
         "-0.0321217120509914",
         "-0.0349345365262843",
         "0.0036199481901606",
         "0.0297564586168475",
         "0.0359019940896754",
         "0.0092984123996204",
         "-0.010050294294711",
         "-0.0126903456617107",
         "-0.0368465998989138",
         "0.0266903704379641",
         "-0.0051992630921957",
         "0.0087107943291691",
         "-0.0025906846726643",
         "0.0051947614318648",
         "0.0189492201260068",
         "-0.0101437460758009",
         "0.0008539963987994",
         "-0.0076791489409915",
         "-0.0438521633814864",
         "0.0197842129008607",
         "0.035273408367741",
         "0.0315161451721535",
         "0.0074318434692388",
         "0.0008196965371323",
         "0.0016380503700488",
         "0.0122649122198346",
         "0.0218093398766017",
         "0.0015810143624539",
         "0.0157853074825773",
         "-0.0015539292184826",
         "-0.0217899364181552",
         "-0.007159874685801",
         "-0.0144231386607697",
         "-0.0097560158437071",
         "0.0147782627759378",
         "-0.0161812173848184",
         "-0.008223677810768",
         "-0.0016583608355755",
         "0.0",
         "0.0099667567718493",
         "0.0296052652223328",
         "-0.0135782519755307",
         "-0.0008097406660918",
         "0.0040518607000494",
         "-0.0274415007280708",
         "-0.0547717679395306",
         "0.0017559114860343",
         "-0.0499561273231301",
         "0.0156826299390453",
         "-0.0227066817078306",
         "0.0213755340266352",
         "-0.0018198903010568",
         "-0.025524151527758",
         "-0.0074836381750997",
         "-0.0141375954564973",
         "0.0105162735941288",
         "-0.00473043747973",
         "0.0161597423633823",
         "0.00935460126063",
         "-0.0129750086216675",
         "-0.0093896639602963",
         "-0.0094786654436037",
         "0.0076555108482827",
         "0.0132953068472752",
         "0.0178068929686776",
         "0.0036832807234028",
         "-0.0055045409084338",
         "0.0119925538114689",
         "0.019143200604397",
         "-0.01341687282937",
         "-0.0108794666844526",
         "-0.0146653919078839",
         "0.0102325075546374",
         "0.0156538200993356",
         "0.0090662452998566",
         "0.0305479467364913",
         "0.0235397715478009",
         "0.0229982645848618",
         "-0.0041631940552451",
         "0.0066889706799129",
         "-0.0157807563244818",
         "0.0118143755017621",
         "-0.007506287382101",
         "-0.0084033548776345",
         "-0.0533898666818434",
         "0.0304386935553646",
         "0.0078193214476218",
         "-0.0008620946004088",
         "-0.0207074643163889",
         "0.0167400477038377",
         "0.0051993292229124",
         "0.0025862180125666",
         "0.0077385746079972",
         "0.0034129406148724",
         "0.0017007309288314",
         "0.0093378793140965",
         "0.0042052110651005",
         "-0.0016750916593052",
         "0.0176175259865825",
         "0.0115415346518457",
         "0.0162999065376323",
         "0.01122697327897",
         "0.0055511941306922",
         "0.0094637028420299",
         "0.0007813328638379",
         "0.0249803910775143",
         "0.0083777776744489",
         "0.0098186773092445",
         "-0.0321616007191062",
         "-0.0355485675631205",
         "-0.0104166704885239",
         "-0.0145749612292781",
         "-0.0188988676494206",
         "-0.0516666196889356",
         "-0.0114840588110411",
         "-0.0071492675679079",
         "0.0081008239265507",
         "-0.0071428843906946",
         "-0.0089928060021929",
         "-0.0217785296093212",
         "0.0055658483964331",
         "-0.0064576067138669",
         "-0.0157845589267674",
         "-0.0188679245283018",
         "-0.0028846447284404",
         "0.0115718863351137",
         "0.0038131698766488",
         "0.0",
         "0.0056979910420913",
         "0.0028328179229533",
         "-0.0160075046807272",
         "-0.0047846889952153",
         "0.0365384908822865",
         "0.011131696792866",
         "-0.0009174171937714",
         "0.0146923641111325",
         "-0.0054298504445348",
         "-0.0018198778422182",
         "0.0355515190006701",
         "0.0316901278387007",
         "-0.0051194410387747",
         "-0.0051457845795277",
         "-0.0172413793103448",
         "-0.0008771795975534",
         "0.0043898155689348",
         "0.0122377754126357",
         "-0.0138169780772843",
         "0.0043782838297852",
         "0.0069747434441413",
         "0.000865787654728",
         "0.0294117782937519",
         "-0.0168067226890756",
         "-0.0145298884465145",
         "-0.0138768955868748",
         "-0.0439753749709955",
         "-0.0101195814627748",
         "-0.0037174863527075",
         "0.0139925377117708",
         "0.0091996322729994",
         "0.0109389663721037",
         "0.0387736281623032",
         "-0.0060763625589044",
         "-0.0043668122270742",
         "0.0087719298245614",
         "-0.0086956521739129",
         "0.0026316057171735",
         "0.0122484152152686",
         "-0.0207432494363679",
         "-0.0070609270097931",
         "0.0142222086588541",
         "0.0341805572132716",
         "0.0059321775274763",
         "0.0640270117852614",
         "0.0261282895646921",
         "-0.0362654657121133",
         "0.0128102358252539",
         "0.0150197145967143",
         "-0.0093457710691918",
         "0.0023585146144293",
         "-0.0007843017578125",
         "-0.0031397293648984",
         "-0.0204724289300873",
         "0.0104501238458012",
         "-0.0007955328285511",
         "-0.0135350077141319",
         "-0.0169491400182305",
         "-0.0123152706273955",
         "-0.0058188242716463",
         "0.0175585158939237",
         "-0.0213639978580021",
         "0.008396305733096",
         "0.0041631973884475",
         "-0.0008291747544469",
         "-0.0190871622552514",
         "-0.0143823772600146",
         "0.0085836909871244",
         "-0.0034042683053523",
         "-0.0230571902939766",
         "-0.0209790340373028",
         "0.0",
         "0.0241071156093053",
         "-0.0148212466736971",
         "-0.024778788068653",
         "-0.0036297087800489",
         "0.0464480722438327",
         "-0.0139251388413667",
         "0.0344218339932682",
         "0.0068259647831825",
         "0.00254239874371",
         "-0.0169061703162",
         "-0.0111780139092451",
         "0.0",
         "-0.0026087221891982",
         "-0.0104620486501293",
         "0.001762087649711",
         "0.0043975374970994",
         "-0.0096322110640655",
         "-0.0035367067309944",
         "0.0106477782620333",
         "-0.0079016814207365",
         "-0.0044247787610619",
         "-0.0044444444444444",
         "0.0026785986764088",
         "0.0",
         "0.00712373464491",
         "-0.0061891861864379",
         "-0.0053380646439133",
         "-0.0205724775400319",
         "0.0182648401826484",
         "-0.0179372197309417",
         "0.0164383840343178",
         "0.005390821722099",
         "0.0107238331713932",
         "0.0256410394783732",
         "-0.0017241116227776",
         "-0.0086355783561856",
         "0.0043554005810833",
         "0.0450997121475178",
         "0.0107884070685293",
         "0.0262725522829616",
         "0.0207999877929687",
         "0.0172414153914186",
         "-0.0161787831597988",
         "0.0140955606481913",
         "0.0023166258822997",
         "-0.0030817345598515",
         "0.0061824040919027"
        ],
        [
         "KGF",
         "-0.0099458273301622",
         "0.0027396839427764",
         "0.0382514764651291",
         "-0.0175439467173508",
         "-0.0290178671995601",
         "-0.0326437168522228",
         "0.0171102226368962",
         "0.0210282884723942",
         "-0.0205952065283671",
         "-0.0191587770005214",
         "0.0019058101018789",
         "0.0080835405346215",
         "0.006132077581092",
         "-0.002812968055869",
         "-0.0267981846838595",
         "-0.0004831828222413",
         "-0.0212663307313147",
         "0.0098765176665032",
         "0.0161368966824222",
         "-0.0101058637704397",
         "-0.0082643860157742",
         "0.0049019854022804",
         "-0.0043901017437556",
         "0.0181281118265836",
         "0.028392815553913",
         "-0.008423179363461",
         "-0.0070787749684021",
         "0.0099810540500646",
         "0.0207059003001006",
         "0.0",
         "-0.0009220462390786",
         "0.0244577282178906",
         "-0.0045046649111331",
         "0.0022626627504007",
         "-0.0112867378155594",
         "0.0",
         "-0.0506849209856942",
         "-0.0428090957339769",
         "-0.013065331421156",
         "-0.0526985070657335",
         "0.0177372233318051",
         "-0.0229734193110744",
         "0.0194594914489474",
         "0.0013255228372364",
         "-0.0526873327476549",
         "-0.0553381842505792",
         "-0.037869815311079",
         "0.0433579742668117",
         "-0.0618921711824053",
         "-0.1218976024205904",
         "-0.0232557681509048",
         "0.0040294475657634",
         "-0.0948560219004162",
         "0.0024183425718644",
         "0.0679533213644525",
         "-0.0500752463208751",
         "0.1367422407694816",
         "0.05997188321468",
         "0.1240131479010095",
         "-0.0076090162954328",
         "-0.1486287869735101",
         "-0.0124697131497762",
         "0.0094705922925517",
         "-0.0521196770578592",
         "-0.0223606041181394",
         "0.0138731856554115",
         "0.0384615515114912",
         "0.0573362639028611",
         "-0.0077466823439978",
         "0.0349624491777187",
         "-0.0259101569387938",
         "-0.088888872871311",
         "0.0073910209233316",
         "0.0300807677887369",
         "0.0003560291283886",
         "-0.0220718289247087",
         "0.0050966504385814",
         "0.0438244823136522",
         "0.0131853336508271",
         "0.0297945341776235",
         "0.0239440673518744",
         "0.0360507593833951",
         "-0.0137933064255351",
         "0.0044502545530051",
         "0.0009492073421883",
         "-0.0158076661277971",
         "-0.0044972334125835",
         "0.0077443148473128",
         "0.0403460882925661",
         "0.0957216746127793",
         "-0.0300563037581826",
         "-0.0208512035392728",
         "0.0133096913584378",
         "0.0026267062633456",
         "-0.0294032727243266",
         "0.0137973672213462",
         "0.0461539533374604",
         "-0.0067873986069737",
         "0.0845672493787135",
         "0.0238907515519684",
         "-0.0043591295416616",
         "0.0002576208029705",
         "0.029866159085188",
         "0.038000130585692",
         "-0.0317920050133472",
         "-0.0149253719988814",
         "0.0459596104300195",
         "0.0183485385035784",
         "-0.0275011513613904",
         "-0.002437772970855",
         "-0.0449657423370545",
         "0.0076763641013417",
         "0.0106653827037772",
         "0.0221104958485143",
         "0.0614553501251891",
         "-0.0287169592779614",
         "-0.0038150366066759",
         "0.042125310167431",
         "0.0422600968977395",
         "-0.0608197560829156",
         "-0.0004692799917452",
         "0.0079812900533486",
         "0.0391243283896736",
         "-0.010309303081105",
         "-0.005887683386306",
         "0.028246045848953",
         "-0.0230395764192133",
         "0.0267574949112994",
         "-0.0061836284022619",
         "-0.0160000929696652",
         "0.01716349504843",
         "-0.0017762622512698",
         "0.0075623435735179",
         "-0.0070640669290924",
         "0.003557195486654",
         "0.0137351294903189",
         "-0.0065559766538608",
         "0.0021998143141446",
         "-0.0118525874418219",
         "0.1461573032730894",
         "-0.0147287910576912",
         "-0.0232099964346916",
         "0.0084575042051968",
         "-0.0043930665771351",
         "0.0024068247835238",
         "-0.0216087399049299",
         "-0.0106338887919863",
         "0.0243902284847952",
         "0.012510164732534",
         "0.0442407234008008",
         "-0.0068702401455802",
         "0.0130668668491487",
         "0.0003794921997588",
         "0.0257867503900177",
         "0.0103512309448181",
         "-0.0010977339012457",
         "-0.0175824838110753",
         "0.0216256261383491",
         "0.0058397362346922",
         "0.0068937385545908",
         "-0.0158557607809453",
         "0.0014646051333184",
         "0.0018281069571719",
         "-0.0036495421609291",
         "0.0300366918336307",
         "-0.0170698733092961",
         "-0.0220692574660401",
         "0.0007398317541809",
         "0.005914843751325",
         "-0.0246231687810035",
         "0.0195929580903846",
         "0.0099779573577039",
         "0.0087814236120435",
         "0.0007255630240392",
         "0.0231968598949476",
         "-0.0035423483909771",
         "0.0110202199717053",
         "-0.0383263747521519",
         "0.0127971959708517",
         "0.0046930868274057",
         "-0.0287458821817727",
         "-0.0207176650869107",
         "0.0989796754227976",
         "0.0278448795164889",
         "-0.0274249042620947",
         "0.0175378209348981",
         "-0.0101385084209378",
         "0.0081939013451226",
         "0.0047410067516808",
         "-0.003033474905803",
         "-0.004056629669319",
         "0.0040731529423929",
         "0.0020284699164574",
         "0.0253036158414186",
         "-0.0088844154516333",
         "0.0142762280825554",
         "-0.001636719373702",
         "0.0088524733170931",
         "0.0175495893626274",
         "-0.016288718721204",
         "0.0103894832434767",
         "0.0067479196142012",
         "0.0217045308902505",
         "0.0040612804407342",
         "-0.0052892623321681",
         "0.0012510261800999",
         "-0.036551046270069",
         "-0.0288583662557316",
         "-0.0297162254655043",
         "-0.0082589626093013",
         "-0.0038169299785946",
         "0.0330898479883645",
         "0.0023599584099605",
         "-0.0010092205167916",
         "0.019528699477828",
         "0.0125494800785399",
         "-0.0854532190137472",
         "-0.0160485274225919",
         "0.0634287076728772",
         "-0.000681479091058",
         "0.0037514211508975",
         "-0.0101935247347417",
         "-0.0068658084983461",
         "0.0345660514263925",
         "-0.0267288663459612",
         "-0.0284929267936502",
         "-0.0148411928499203",
         "-0.0046627881033307",
         "-0.009008779661637",
         "-0.0152729354535902",
         "0.0003691764643172",
         "0.009967134083749",
         "0.0299704808737097",
         "-0.0205818397051352",
         "0.0235506758594767",
         "-0.048495678609863",
         "-0.0122768829798829",
         "-0.0075329961657719",
         "0.0394688294910678",
         "-0.0390650732843468",
         "-0.0110183951705342",
         "0.0376486796051509",
         "0.0011108527059811",
         "0.0062868669321114",
         "0.0135980907577895",
         "-0.0177666863044292",
         "-0.0051676920355384",
         "-0.0133582045262227",
         "0.0154191902578835",
         "-0.0170368539637391",
         "0.039186146641422",
         "-0.0145033359247196",
         "-0.0051508048962463",
         "0.0196004983167954",
         "0.0315561679623492",
         "0.0024611946235242",
         "-0.0021044926342758",
         "0.0052725958951362",
         "-0.022727437983513",
         "0.0182468637724191",
         "-0.0059734014980301",
         "-0.0116646680357459",
         "-0.0364806709692379",
         "-0.0025983455455611",
         "-0.0234463722451334",
         "0.0114329849254808",
         "0.0278823973116304",
         "0.0007331639657308",
         "-0.0080586710866242",
         "0.0103399901793865",
         "0.0021927248303033",
         "0.0313638604419799",
         "-0.0180337266439492",
         "0.0363702659786109",
         "-0.0211953891761381",
         "0.0095846801448056",
         "0.0084390113972194",
         "-0.0198746474205451",
         "-0.0145855316617496",
         "-0.0238267890157832",
         "0.0125740731629937",
         "0.0116873313822429",
         "-0.022021891503446",
         "0.0321154178096396",
         "-0.0118027759077155",
         "-0.0032572240742817",
         "0.0079884431974694",
         "-0.0050432969560978",
         "-0.0257059301208293",
         "-0.0100336880716178",
         "-0.0003752740223589",
         "-0.0093878991453425",
         "0.0060653015458467",
         "0.005651932280059",
         "0.0108654203123066",
         "0.0103779737945846",
         "-0.0216433082461137",
         "-0.0003750811280642",
         "0.0288823332445082",
         "0.0430185618907894",
         "0.0297099871439616",
         "0.0006789107282221",
         "0.0203525699877318",
         "0.0249334853899663",
         "0.0055142073494327",
         "0.0041935004294815",
         "0.0038548416679708",
         "0.0006402185237472",
         "0.036136586976456",
         "-0.0277776361938386",
         "0.0317458976747293",
         "-0.0073845023501661",
         "0.0074394389042384",
         "-0.0092307220365703",
         "0.0149066983885022",
         "-0.0260096923276466",
         "0.0232486638453219",
         "0.0082896620210382",
         "0.0149208016876418",
         "0.014701536107514",
         "0.0168541713499885",
         "-0.0267521092682593",
         "0.0176277132728714",
         "-0.0020553595761385",
         "0.0350103780406796",
         "0.0099489283649687",
         "0.0151984477052946",
         "-0.0016634065232769",
         "-0.0030549003928032",
         "0.0044568984045412",
         "0.0091513162358369",
         "-0.0054959595700685",
         "-0.0011053171161566",
         "-0.0011063709982244",
         "-0.0055385748948766",
         "-0.0050126241754814",
         "-0.0008396604587711",
         "0.0299720289161316",
         "-0.0149577963301779",
         "0.0035891359654169",
         "0.0187070078168256",
         "-0.0183634820152226",
         "0.001925706546014",
         "-0.0079627734379854",
         "0.0268477769930275",
         "-0.0064692319930229",
         "0.0211612415050788",
         "-0.000265684268615",
         "-0.0055806898443927",
         "-0.0435594296915046",
         "0.0083820996734573",
         "0.0066499392848577",
         "0.0110101565000371",
         "-0.0212361392710128",
         "0.0022253926316535",
         "0.0030531204767112",
         "-0.0210292333507003",
         "-0.0192739139390617",
         "-0.0063418660108277",
         "0.0002900500074598",
         "-0.0069606004617462",
         "-0.0078855637783412",
         "-0.0020605048394366",
         "0.0073746170346384",
         "0.0081989339129719",
         "0.0081326132800298",
         "0.0072024335266871",
         "0.005434933757372",
         "-0.0136557587722403",
         "0.0199018795729659",
         "0.0110294807481707",
         "0.0064334922007249",
         "0.0052806879119562",
         "0.0071882945685124",
         "-0.0063134894910299",
         "0.0151933247852844",
         "-0.0081630673305587",
         "0.0085046294902146",
         "-0.0024482456180479",
         "0.0160894354089644",
         "-0.0026838052955302",
         "0.0118404880414408",
         "-0.0276593990320734",
         "0.0054703820193597",
         "0.0029925404821387",
         "-0.0032548644259822",
         "-0.0141496938672956",
         "0.0102125397166981",
         "0.0027322856299836",
         "-0.0280652665427615",
         "0.0123352576065478",
         "0.027693105952226",
         "0.0094315340854789",
         "0.0016017183375367",
         "0.0007994154895591",
         "-0.0018643013966952",
         "-0.0024010513624149",
         "-0.0115004178201115",
         "-0.0032469388398327",
         "0.0054288886791906",
         "0.004589717158123",
         "-0.0013436237117374",
         "-0.0045748948346853",
         "-0.0237901426006685",
         "0.0041539150897385",
         "-0.0027578209723405",
         "0.0154867093887984",
         "-0.0005447212208883",
         "0.0070845688646037",
         "-0.0135281948864808",
         "-0.031541472980289",
         "0.0192581800246627",
         "-0.0144485750090243",
         "0.0149421833427549",
         "0.0027778235459081",
         "-0.0152354956575457",
         "0.00506332292866",
         "-0.0041981790377031",
         "-0.0033726165057382",
         "-0.012126443560592",
         "0.0131315389192334",
         "-0.0135248505236518",
         "-0.0045700933371479",
         "0.0120516376179331",
         "-0.0141762404611337",
         "0.0008628180806289",
         "0.0077584926879197",
         "0.0099799863227667",
         "0.0047994635649932",
         "0.0132060987121556",
         "-0.0008320367646121",
         "0.0213711025253695",
         "0.0067936321247539",
         "-0.0067477901210167",
         "-0.049184706816904",
         "-0.0140041179689848",
         "-0.0072462753444606",
         "0.0029197561177445",
         "0.0148470760600891",
         "-0.0077453156925701",
         "0.0002890438077269",
         "-0.0274565291504372",
         "-0.0115897872779655",
         "-0.0162357271489598",
         "0.0113078893674798",
         "-0.0250829585993784",
         "-0.0070126304306515",
         "0.0143615885061476",
         "0.0030778402838953",
         "-0.0006137730561226",
         "0.0144305070449848",
         "-0.0072640376746196",
         "0.0131099110801005",
         "-0.0120373833976807",
         "0.0063966202542631",
         "0.0187650451242693",
         "0.0118837004398884",
         "0.0035230704522539",
         "0.0049737106548657",
         "0.0017466191016672",
         "-0.0177273251455406",
         "-0.0198224760552694",
         "0.0111682029416642",
         "-0.0014926141335117",
         "0.0044843532938509",
         "-0.0038690103038341",
         "0.0224081837440377",
         "-0.028346167154049",
         "-0.0141352951252456",
         "0.008541804986383",
         "0.0293405881063768",
         "-0.0049955441043829",
         "0.0070879409749964",
         "-0.0008797569564945",
         "-0.0088053161030414",
         "-0.0079952751488873",
         "0.0065671006527128",
         "-0.0435942497487287",
         "0.0155038208556066",
         "0.0134351720231487",
         "-0.0105454272138286",
         "-0.00913511338181",
         "-0.0012293383547835",
         "0.0030768935547216",
         "-0.0282208702870578",
         "0.0192550595519842",
         "0.0",
         "0.0250851151658373",
         "0.0093657468985499",
         "0.0182580125006897",
         "-0.0005879736341947",
         "0.0041175175270762",
         "-0.0248974237282064",
         "0.0048062940531421",
         "0.0131539262996271",
         "-0.0277367107105888",
         "0.0127466483034175",
         "0.0110876041289429",
         "-0.0100768733884665",
         "0.0146705163435223",
         "0.0100324522293711",
         "0.0040901190882345",
         "-0.0034914720308656",
         "0.0265691761959419",
         "-0.0065413755130556",
         "-0.0314916014431659",
         "0.027490400915461",
         "0.0241657398942225",
         "-0.0008426885241846",
         "-0.0174304230000037",
         "-0.0283261701212927",
         "-0.0017667674340453",
         "0.0165192851848581",
         "-0.0104470591491677",
         "-0.034603952926503",
         "0.0258201040708891",
         "-0.0109564546380075",
         "0.0098800521288036",
         "-0.0094869225467743",
         "-0.0242443691124788",
         "-0.0291410131061271",
         "0.0025274285303078",
         "0.0088245657256718",
         "0.0106217702931388",
         "0.0207110575935802",
         "0.0027255017546146",
         "0.0105708153495929",
         "-0.0107591948776737",
         "-0.0145015573403547",
         "-0.0392397336745483",
         "-0.0028715071515521",
         "-0.0172800282998176",
         "0.0302832020186876",
         "0.0034765786276746",
         "0.0122836363384264",
         "-0.010267669961351",
         "0.0081736439961324",
         "-0.0056128582498768",
         "0.0",
         "0.012856763368084",
         "0.0034056345258763",
         "-0.0336316457408417",
         "-0.0561942654036347",
         "-0.0054126683909101",
         "0.0197279103971037",
         "0.0213476663357314",
         "-0.0111039458365145",
         "-0.02608967899326",
         "-0.0552731609399816",
         "-0.0412777527893108",
         "-0.0205915696884201",
         "0.0168195275503686",
         "0.0620301730513577",
         "-0.0403541347245176",
         "0.0095906916793577",
         "0.0376325295747828",
         "-0.0218310973515915",
         "0.0334773314405039",
         "-0.006966253585431",
         "0.03297078721084",
         "-0.0108657717187231",
         "-0.0631652532598472",
         "-0.0414069432372281",
         "0.0007645186676012",
         "0.0095492995903572",
         "-0.0015135328459182",
         "0.0405457394600783",
         "-0.0349600523343144",
         "-0.0362263608080632",
         "0.0105718509588006",
         "0.0081363022211462",
         "-0.0169100824981224",
         "-0.0070367395163445",
         "-0.0055118181314859",
         "0.0233569220824543",
         "0.0",
         "0.0085107943065052",
         "-0.0107404457935833",
         "0.0015512111265199",
         "0.0058071445690801",
         "0.0142415869825631",
         "0.0189753835840515",
         "-0.0465548880705395",
         "-0.000390680954575",
         "-0.0254005432605597",
         "-0.0024057508551166",
         "0.0140674507263534",
         "0.0039636189436775",
         "0.003947849999804",
         "-0.0499410181189334",
         "-0.0144866798353978",
         "-0.0046199915103707",
         "0.0210971030181323",
         "0.0111570440036099",
         "0.0085819169752332",
         "0.0218800405876176",
         "0.0122918353881749",
         "-0.0035252904971332",
         "0.0169026546705173",
         "-0.0201006031675842",
         "-0.032413278984986",
         "0.0065252521362335",
         "0.021880046616707",
         "0.0043616714335967",
         "0.0319777132560399",
         "0.0248660850562298",
         "-0.0082118934536883",
         "-0.0015055071957009",
         "-0.0064077937645597",
         "-0.0140365074405547",
         "0.0265487027437312",
         "-0.0337330512585634",
         "-0.0073700910464851",
         "-0.035951541844959",
         "-0.0072963674993711",
         "0.0028584356797065",
         "-0.0439738414559789",
         "0.0430150919768925",
         "-0.028583108898837",
         "0.0126104384858789",
         "0.0012453395705396",
         "0.0157545123600149",
         "-0.0146938037768813",
         "-0.0194698029484932",
         "0.0278834817981139",
         "0.0221947386555236",
         "-0.00884598521274",
         "-0.0032454816485696",
         "-0.0056979459868378",
         "0.0106426296641839",
         "-0.0060753188778075",
         "-0.0195598652052085",
         "0.0070656806693141",
         "0.0260008340901589",
         "0.0084471847194396",
         "-0.0135619888121287",
         "0.0214314596405391",
         "-0.0059382274085091",
         "-0.0302667943389689",
         "0.0242298716123232",
         "0.0236568572591109",
         "0.0148845836509292",
         "0.0123502616146031",
         "0.0057185120939755",
         "0.0060655187705893",
         "0.010173111944419",
         "-0.0854157901222338",
         "0.0134583792699043",
         "0.0225352195818808",
         "0.0177095180089941",
         "0.0015468416846713",
         "-0.0370657428977775",
         "-0.0108259436161302",
         "0.0129712787057783",
         "-0.0032012642162571",
         "0.0080288630526303",
         "-0.0155317189298529",
         "0.0432847120009578",
         "-0.008142576739111",
         "-0.0269741669731131",
         "0.0068300021837195",
         "0.0183559448542993",
         "-0.0156739622334217",
         "-0.0127387891860445",
         "-0.0326613543474871",
         "-0.0100042452945861",
         "0.0",
         "-0.0143156861520135",
         "-0.005125988509133",
         "-0.0115930468356546",
         "0.0108601833701418",
         "-0.0025784469128934",
         "-0.0094787238447955",
         "0.0200087655246095",
         "0.0217483721204216",
         "0.0279633385037929",
         "-0.0227366323439363",
         "-0.0137099919705884",
         "0.0197979200350255",
         "0.0611317677488416",
         "-0.0377579723944377",
         "-0.0133494940833446",
         "0.0196802231568877",
         "-0.0056292744883885",
         "-0.0392235250443464",
         "-0.0004210501132593",
         "0.0126317413525638",
         "0.0020789755284358",
         "-0.0300248742638962",
         "-0.0648688971412871",
         "0.0265325197054648",
         "-0.0396613718739979",
         "0.0227377573312781",
         "0.0199637413657989",
         "0.0271352137789988",
         "-0.0233866633612932",
         "-0.0490637925119258",
         "-0.0410447088487413",
         "0.0321011310280792",
         "-0.0056549969476523",
         "-0.0341232364753145",
         "0.0471049995363392",
         "-0.0028115270964315",
         "0.000469753455897",
         "0.0131518007085118",
         "-0.0588780681774235",
         "0.0197043997599482",
         "-0.0154589112410119",
         "0.0147202701870992",
         "0.0309477980634844",
         "0.0375233889676234",
         "-0.0054249114525346",
         "-0.0218182148993367",
         "0.0171933603442364",
         "0.0219278537952307",
         "-0.0031292794188565",
         "-0.0143496154138642",
         "0.0295721899857925",
         "-0.0039769897911235",
         "-0.0008873946845789",
         "0.004440507216723",
         "0.0473033897437344",
         "0.0392570756390098",
         "0.0138099023744782",
         "-0.0144230828086234",
         "-0.0203251840649871",
         "-0.0124481588215727",
         "0.0340335314779109",
         "-0.0004062528673293",
         "0.015853592644232",
         "0.014805966820524",
         "-0.016167142565991",
         "-0.0072144928652646",
         "-0.0197819998012696",
         "-0.0082372500164702",
         "0.00124590063668",
         "0.022397291515086",
         "0.0117646322361644",
         "-0.0112268963282773",
         "-0.0113543706706699",
         "0.0004101480850784",
         "-0.0188601417822732",
         "0.0096114379335543",
         "-0.0260761997195586",
         "0.0212494482606462",
         "-0.0012484929487837",
         "-0.0262499804251417",
         "-0.021394931294061",
         "-0.0065588246021958",
         "0.000440114888478",
         "0.0268367435689824",
         "-0.0081405099061131",
         "0.002591903893782",
         "0.0172338548544674",
         "0.0063532538837411",
         "-0.0063131448715673",
         "0.0144006699773826",
         "0.0325679075648375",
         "0.026688264591882",
         "-0.0015755109173163",
         "0.003550327668081",
         "-0.0153302454763434",
         "0.0283433512088266",
         "0.0236802109304394",
         "0.0072051375582091",
         "0.0180723730145153",
         "-0.0059173750698213",
         "-0.0063243165452577",
         "-0.0307002466320184",
         "0.0088838653506591",
         "0.0061255640612363",
         "0.0011415433531261",
         "-0.0003801192852179",
         "0.0285172313075292",
         "0.0055452416145023",
         "0.0261031429301623",
         "-0.0003584375364023",
         "-0.0032258898275661",
         "0.0481842327063464",
         "-0.0161236474047267",
         "-0.0226637671966037",
         "0.0017837522765651",
         "-0.0106837834702725",
         "0.0057596396474481",
         "-0.0168218064382776",
         "0.0105568488317355",
         "-0.0018009916351082",
         "0.010826438780795",
         "0.0064261148966262",
         "-0.0007095380404414",
         "-0.0053246629985871",
         "-0.0292648291411879",
         "-0.0069852753258498",
         "-0.008885639349722",
         "0.0052297688882283",
         "0.0267558642356255",
         "0.0394499234776057",
         "-0.0174096130777435",
         "-0.0042522694127543",
         "0.0145908116847846",
         "0.0133286204478069",
         "-0.0086535847891179",
         "0.0118716627518726",
         "0.0",
         "-0.0082816117010648",
         "-0.0274879541385454",
         "0.0203937258887332",
         "-0.0403226108858406",
         "0.0124224087875881",
         "-0.0267051274431328",
         "0.0133480557424303",
         "-0.0146360742687774",
         "0.0070555376093184",
         "-0.0276548682537093",
         "-0.0280624470747241",
         "-0.0042916528496577",
         "-0.0156739549175116",
         "0.0159235397618662",
         "0.0160659609400837",
         "0.0073272815502634",
         "-0.0026798392283635",
         "-0.0134357868037571",
         "-0.0412451412293758",
         "-0.0028408655819868",
         "0.024826989952875",
         "0.0039714750345274",
         "0.0055379498689076",
         "0.0263570257955525",
         "0.0022999477071672",
         "0.0042064277637552",
         "-0.0171361907691934",
         "-0.0034871103001815",
         "0.0003887201306536",
         "0.0",
         "-0.0069957279964145",
         "0.0019568915788423",
         "0.0007814426993442",
         "0.0050740994798763",
         "-0.0011650390966853",
         "-0.0229394179913979",
         "-0.0119379483486544",
         "0.0185259921537972",
         "0.0083037314475604",
         "-0.0070588862623486",
         "0.0003950421039338",
         "-0.0130281051305396",
         "-0.0004000375226153",
         "-0.0304121454657811",
         "-0.0037144368632746",
         "0.0115990185411769",
         "-0.0151514980888187",
         "0.004573916093818",
         "0.0215231723167841",
         "-0.0255268442877417",
         "-0.0308383751058417",
         "-0.0077254462872353",
         "0.0121107690437758",
         "-0.0128205245351001",
         "0.0129870250078514",
         "0.0209401291581432",
         "-0.0033486292489957",
         "0.0041998984101425",
         "0.0016728821146354",
         "0.0050104560660935",
         "-0.0124635962117408",
         "0.0021035151235406",
         "0.0037783024048632",
         "-0.0037640805701927",
         "-0.00923593581124",
         "-0.0114407657411482",
         "0.0030004882871634",
         "-0.0034188152449581",
         "-0.028301821301566",
         "0.0026477455139468",
         "-0.0096830316078394",
         "0.0026666418686938",
         "0.0195035457391996",
         "0.0095651508160183",
         "-0.0107665033173898",
         "0.0087069726126038",
         "0.0038843631740488",
         "-0.0021495712348",
         "-0.018526478034616",
         "-0.0425813054733379",
         "0.027510342182569",
         "0.0066934465409207",
         "0.0057623127725614",
         "0.0348172068371153",
         "-0.0046848380493277",
         "0.0042789722337002",
         "-0.0085215463579146",
         "0.0322303700946688",
         "0.0337218404209505",
         "-0.0096656994713865",
         "-0.010573409707717",
         "-0.0012330342447437",
         "0.0164609627680312",
         "0.0137650748440893",
         "0.0075879930039373",
         "-0.0206105151738957",
         "-0.0056656497171442",
         "0.0020350246267879",
         "-0.0125914169562305",
         "-0.0041135163915244",
         "-0.0037175007292432",
         "-0.0029021501643944",
         "-0.0137214773036417",
         "0.0029510904753835",
         "0.0046237918598408",
         "-0.0163179057256256",
         "-0.0059549009215259",
         "0.002995221747899",
         "-0.0051194067816046",
         "-0.0167238183806723",
         "-0.0091583561116106",
         "-0.002640753470791",
         "0.015445620254185",
         "0.0013037689362764",
         "-0.0069443362680923",
         "-0.0074301119115885",
         "0.0418317177754321",
         "-0.0236685932190985",
         "0.0129870250078514",
         "-0.0055555910898031",
         "-0.0042973608020866",
         "-0.0176952418166032",
         "0.0004393184879873",
         "-0.0092226431039946",
         "0.0022163366329595",
         "0.017248979560958",
         "0.0078260807782428",
         "0.0051769604112157",
         "-0.0042919583020837",
         "0.0172414394650104",
         "-0.0016949857813912",
         "-0.1222410607239712",
         "0.0430367706248571",
         "0.0217895091906734",
         "0.0",
         "-0.0077132926866535",
         "0.0237768070526294",
         "-0.0156318807996529",
         "-0.0036297766414428",
         "0.0168488224581049",
         "-0.0304522752260009",
         "-0.0124710863490886",
         "-0.0051450663552545",
         "0.0108133716511849",
         "0.0106976935153926",
         "-0.0105844641617653",
         "0.0130232296467283",
         "-0.0247934394272469",
         "-0.0115933477582967",
         "-0.0142925224312078",
         "0.0077331761241157",
         "-0.0062350351028314",
         "-0.0154439596743182",
         "-0.0053922400068145",
         "-0.0083784157020226",
         "0.0139164877164719",
         "-0.0093136445476467",
         "-0.0019793241209168",
         "0.0064452395006513",
         "0.0078818197169983",
         "-0.0014662982026781",
         "0.0269212351135896",
         "0.0100094682585529",
         "0.0141576236620328",
         "0.0353653340897386",
         "-0.0166292632346282",
         "-0.004113408962292",
         "0.0096375275489575",
         "0.0331817742024374",
         "-0.0057193348733853",
         "0.0132744741043064",
         "0.0262007417493388",
         "-0.0008510120135838",
         "-0.0255536663476799",
         "0.0192307987496693",
         "-0.0047169882359472",
         "-0.0064627652838045",
         "-0.0698178841527157",
         "0.0004662076679311",
         "0.0205032938457032",
         "-0.0013698841221805",
         "0.0064014921477775",
         "0.0",
         "-0.003180421540618",
         "0.023701090540805",
         "0.000890485632166",
         "-0.0071175469840022",
         "0.0094086792069203",
         "0.010652423944419",
         "0.019323701302381",
         "0.0",
         "-0.0133562543935047",
         "-0.0052402550380142",
         "0.0689200954097466",
         "0.0028747249643479",
         "-0.0212939749985164",
         "0.0112971172963434",
         "0.0244103586588653",
         "-0.0109047297594816",
         "0.0077583262965112",
         "0.0",
         "-0.0028362865249537",
         "-0.011377477757583"
        ],
        [
         "DPLM",
         "-0.0107739182330953",
         "-0.0059404617180459",
         "-0.0009960645987227",
         "-0.0079760355337709",
         "0.0030150385407383",
         "-0.033066157962508",
         "-0.0113989517917114",
         "-0.0036687825002865",
         "-0.0284060140846899",
         "0.028695160961722",
         "0.019473639199341",
         "0.0015487679300398",
         "-0.0082473224383785",
         "0.0145528996992849",
         "-0.0122949326776703",
         "0.0088173823579098",
         "-0.0082262459469272",
         "0.0134785115109463",
         "0.0076726027850118",
         "-0.0050761421319797",
         "-0.0061225611794851",
         "-0.011806838602702",
         "0.0202597459634923",
         "0.0030549523788847",
         "0.0050761421319796",
         "-0.01010101010101",
         "-0.0025509892415261",
         "0.0051150268615463",
         "0.0101780551900894",
         "-0.0105792168135966",
         "0.01476578978357",
         "0.034620872248076",
         "-0.0106690662077093",
         "0.0460785299542696",
         "-0.0009373101420254",
         "-0.0093807490754489",
         "-0.0303031214561381",
         "-0.0278319908198276",
         "-0.0125565350276322",
         "-0.02288908473614",
         "-0.0213430442703972",
         "0.0037232937795377",
         "0.0328565059543748",
         "-0.0097486579124865",
         "-0.007771926264091",
         "-0.0344647125800194",
         "-0.0508383269181935",
         "-0.0102565630510195",
         "-0.0282094264420432",
         "-0.1167062535388072",
         "-0.0248155049052428",
         "-0.0371389787612693",
         "-0.0264284253816975",
         "-0.0491563863692344",
         "0.0092592409290859",
         "0.0351683291130018",
         "-0.0265878321617999",
         "0.0864944568311922",
         "0.0300279104401972",
         "0.0216949013838376",
         "0.0232249939683553",
         "0.0246434177826067",
         "0.0215189564118436",
         "-0.0712515889520588",
         "-0.0200133436961875",
         "-0.0367596699609635",
         "0.0346288990526264",
         "-0.0122949331906866",
         "0.0331949520326504",
         "0.0595714663869493",
         "0.0088441693844358",
         "-0.0475892593143688",
         "0.0105195076732571",
         "0.0676640833035253",
         "-0.0164533313162218",
         "-0.0142502875120422",
         "0.0194845165603454",
         "0.0086313653325253",
         "0.0152812116178371",
         "0.0114387525651042",
         "0.0291668236253366",
         "0.0133023950331394",
         "-0.015410911380199",
         "-0.0150724218068364",
         "0.0129486351151999",
         "0.0383498307428609",
         "-0.0123110553716158",
         "0.0022662613422954",
         "0.0401357345217954",
         "-0.061956561578223",
         "-0.0086906498978374",
         "-0.013442339556599",
         "0.0165876195830056",
         "0.0209789791572909",
         "-0.0091323790153814",
         "0.0051842686774952",
         "-0.0068767775504834",
         "0.0098096008136046",
         "0.0222857926361519",
         "-0.0095026040855706",
         "0.0332957207103477",
         "-0.0005460762877381",
         "0.0005463746499787",
         "0.008192278638762",
         "0.0124593522542548",
         "-0.003745207446409",
         "0.0123522233982431",
         "-0.0137930650072367",
         "-0.008068887029601",
         "-0.0070499381050853",
         "-0.0294920563048424",
         "0.0033765736248019",
         "-0.0028043651261878",
         "0.0269965719347764",
         "0.010952970599273",
         "0.000541771395238",
         "0.0059555969487785",
         "0.0010762815891407",
         "0.0053764761613748",
         "-0.018181857381781",
         "-0.0005446556767992",
         "0.0065395630180127",
         "-0.0059556630956193",
         "-0.0223310823782227",
         "0.0228411499800402",
         "0.0147059029030314",
         "-0.0037574003165223",
         "0.0161637937418479",
         "-0.0121951029915078",
         "-0.0069780385276494",
         "-0.0135135474257308",
         "0.0027398267188636",
         "0.0027322070564981",
         "-0.0163488409656198",
         "0.0177285878047155",
         "-0.0070768024640549",
         "0.0043859787197544",
         "0.0207424397646645",
         "-0.0235295162979398",
         "0.0104053321054455",
         "-0.0021679952645792",
         "-0.0173819772537491",
         "0.0127142556509678",
         "0.0021834463013321",
         "0.004901967634344",
         "-0.0065041182308337",
         "-0.0103654619151124",
         "0.0237045008304614",
         "-0.0037695406431561",
         "0.0248649589623437",
         "0.000527355265659",
         "0.0242489051746446",
         "-0.0108082106937715",
         "0.001561045935102",
         "0.0119479055957107",
         "0.0066736186663638",
         "-0.0234573824490853",
         "0.0172322286939645",
         "-0.0077001121321969",
         "-0.0139678815264864",
         "-0.003147979389007",
         "0.0184209561790391",
         "0.0020672215414827",
         "-0.0077358522902407",
         "0.0171515569496396",
         "-0.0153294013985807",
         "0.0015567416283135",
         "-0.0113989517917114",
         "0.0199161563842873",
         "-0.0344295565275282",
         "-0.0361894752488051",
         "0.0044173949836525",
         "-0.0098955610350295",
         "0.0105497700212815",
         "-0.0269231507640324",
         "0.0112930556282777",
         "0.0016751579673894",
         "0.0044592541441166",
         "-0.0077691861785613",
         "0.0050334958255431",
         "0.0016696328405452",
         "-0.0438890963193895",
         "-0.0058105051235025",
         "0.2694332369014556",
         "0.0009207990218043",
         "0.0367984144232278",
         "-0.0106477164826642",
         "-0.0134527511766432",
         "0.0009088575683688",
         "-0.000908032296344",
         "0.0081817173131979",
         "0.0",
         "-0.0099188346812413",
         "-0.0027324295334273",
         "-0.0045659318755332",
         "0.0284402404906656",
         "0.0231936210103931",
         "-0.0026154867063401",
         "0.0",
         "-0.0209789769168458",
         "0.0160713395517313",
         "0.0035147881121382",
         "0.0043784447475834",
         "0.0",
         "-0.0008720419329996",
         "0.004363055793618",
         "-0.0052127953054909",
         "-0.013973735851247",
         "-0.0124004190898409",
         "-0.0089685007844287",
         "0.0072397301531001",
         "0.0008985714185354",
         "0.0188510848959038",
         "0.0237885747070265",
         "0.0292597439956396",
         "-0.0100334239757777",
         "0.0016890652604089",
         "-0.0354130320303994",
         "0.0148599573568508",
         "0.003445474539351",
         "-0.0145924102435892",
         "-0.0156794651281637",
         "-0.0141591205776263",
         "0.0161577907574321",
         "0.0176679547380549",
         "0.0008682570749376",
         "-0.0433652325815249",
         "-0.0525837695053458",
         "-0.0095694932244148",
         "-0.0095184144537872",
         "0.003902421932791",
         "0.0301264719206124",
         "0.013207430189281",
         "-0.0037243784769254",
         "0.0112149039777718",
         "-0.0064693881306603",
         "-0.0111627409105505",
         "0.0253999558493467",
         "-0.0174313637460896",
         "0.0186739386642482",
         "-0.0320805505441184",
         "0.0104166497970206",
         "-0.0215558125362702",
         "0.0",
         "0.0086208570965222",
         "-0.0056981540945876",
         "-0.0019099196935354",
         "-0.0019139251527031",
         "0.0047936954179861",
         "-0.0019084467739988",
         "0.0525811776562841",
         "0.0036332671333947",
         "-0.0081447320521782",
         "0.0127734970722248",
         "-0.0108106537664565",
         "0.0127502310441192",
         "0.0170865049006667",
         "-0.0114942826684985",
         "-0.0322004338159678",
         "-0.0129388891592165",
         "0.0018725936336849",
         "-0.0317756183523709",
         "0.0241312544415495",
         "-0.0009424740808114",
         "0.0056602942979653",
         "0.0590995488381991",
         "0.0327722980317275",
         "0.0128643581440324",
         "0.0025404419092547",
         "-0.0168919183819679",
         "0.0008589714716527",
         "0.0042920102006673",
         "-0.0094016928037673",
         "0.0138048359875364",
         "0.0093617909599925",
         "0.0075883701365422",
         "0.0058577408423987",
         "-0.0224624907837109",
         "0.0127660313262887",
         "0.0025209201574143",
         "0.0058676630788987",
         "0.0224998228745145",
         "0.0325999953009445",
         "-0.0094712459717364",
         "0.0191235190833682",
         "-0.004691096496171",
         "0.0015710368814629",
         "0.0",
         "-0.0462745203240426",
         "-0.0222040752526188",
         "0.0050462870831673",
         "-0.0125522725987979",
         "-0.0177964033894223",
         "0.0146677238720827",
         "-0.0025510349822838",
         "0.010230237623189",
         "-0.012658196531196",
         "0.0128204806954637",
         "0.0075949797696055",
         "0.0217753940972702",
         "0.000819743615597",
         "0.0155609709051793",
         "-0.0088709530445044",
         "-0.0081366106129582",
         "0.0090235737067649",
         "-0.0089428769970317",
         "0.0131254531979088",
         "0.0",
         "0.0097165557013287",
         "0.0168405137819729",
         "0.0094636795472",
         "-0.0078125126748267",
         "0.0031495922122113",
         "0.0007849018858259",
         "-0.0054900998944672",
         "0.0047317916050269",
         "0.0188382205604982",
         "0.0107858242001377",
         "0.0099084699490439",
         "0.0158491496315789",
         "0.0178305307294182",
         "0.0007300798888223",
         "0.0109408923268254",
         "0.0108225728224435",
         "0.01142027526753",
         "0.0084686447814894",
         "-0.0013995311929533",
         "-0.0014017494346562",
         "0.0021054470566774",
         "0.0161063923174791",
         "0.0055134989423151",
         "0.0054830995047467",
         "0.0",
         "-0.0088614797172287",
         "-0.0151308160281801",
         "0.0013966846206281",
         "-0.009065575024529",
         "0.0112596271617486",
         "0.0",
         "-0.0027833948729701",
         "-0.0181438006422157",
         "-0.030561450863662",
         "-0.0219942603031767",
         "0.0089955546927547",
         "0.0215452926972328",
         "0.0698183205383939",
         "-0.0115567743240589",
         "-0.0165062836573492",
         "0.0195804188635795",
         "0.0054868605319964",
         "-0.0040927102145854",
         "0.016438451981626",
         "0.018867922975188",
         "4.1364829311607565e-05",
         "-0.0456348297491625",
         "-0.0041581942253058",
         "-0.0006958411632465",
         "0.0",
         "0.0083565888479177",
         "-0.0027623887602006",
         "0.0",
         "-0.0103878640648168",
         "-0.011896463252671",
         "0.004957561364604",
         "0.0155038112406138",
         "0.0048577909194309",
         "0.0027623887602006",
         "-0.0096418947152173",
         "0.0013908843812704",
         "0.0152777989844545",
         "0.0123118803600614",
         "0.0",
         "-0.0101351041848499",
         "0.0170648771499939",
         "-0.0147651202583489",
         "0.003405900798854",
         "-0.0142566095177187",
         "0.0055095579793655",
         "0.009589063215464",
         "-0.0040704117084127",
         "0.0020436070463172",
         "0.0197143024644497",
         "-0.0213331730719117",
         "0.0156674598680008",
         "0.0114018572605836",
         "0.0205569979695321",
         "-0.0045485369883332",
         "-0.0176239532294448",
         "-0.0146178800685341",
         "-0.0182064309786079",
         "-0.0082416330913674",
         "0.0034625931576965",
         "0.0303657263863528",
         "0.0073677263103173",
         "-0.006648997083008",
         "-0.0254350956277082",
         "0.0157967570560562",
         "-0.0013522444383547",
         "0.001354075479391",
         "0.012170365124994",
         "0.0040080366356742",
         "0.0006653664916167",
         "-0.0006649240734188",
         "-0.0066533398317704",
         "0.0",
         "-0.0020093055251361",
         "0.0053691271866569",
         "0.0133510117164137",
         "-0.006587515095802",
         "0.0046417982490849",
         "0.0033003201874166",
         "0.0039473888288092",
         "-0.0065529802832657",
         "0.0105539281362128",
         "0.0026109265033678",
         "-0.0084633740220605",
         "-0.0026265155519267",
         "0.0059249814361839",
         "0.0026177612856881",
         "0.0006528512248693",
         "0.0091323604217847",
         "-0.0058178206714279",
         "-0.0078022229640203",
         "0.0131062007050626",
         "-0.0051748023667165",
         "0.0",
         "-0.0045510981749146",
         "0.0261264728663244",
         "-0.0171863621286559",
         "0.0123055511450063",
         "-0.0108763941116749",
         "0.0174643555314801",
         "0.0063571825718535",
         "-0.0315854291374809",
         "0.0130461950251217",
         "0.0057951866106089",
         "-0.0051215616242916",
         "-0.021879004377766",
         "-0.0190789388563774",
         "-0.0382293277947531",
         "0.0069735647320781",
         "-0.0159281146272037",
         "0.0112596773731854",
         "-0.0222684472924119",
         "0.0106761231690364",
         "-0.016197322186789",
         "0.002147469981325",
         "-0.002142868236114",
         "-0.003579000051938",
         "-0.0014368474230201",
         "0.0302158073601017",
         "0.0125698974499042",
         "0.0027586628686016",
         "0.0006877893984997",
         "0.0061854302634252",
         "0.0068305808037867",
         "0.0006784571981102",
         "-0.0061018092264761",
         "0.0040927910385206",
         "0.0251360293293922",
         "-0.015904653673495",
         "0.0101009801896614",
         "0.0013333945714375",
         "0.0079893886865245",
         "-0.0026419676390025",
         "0.0105959453814346",
         "0.0314548656829152",
         "0.016518404674684",
         "0.0018750095430046",
         "0.0043667074088862",
         "0.008695747835907",
         "-0.0116995167911375",
         "0.0024922499148181",
         "0.0012429131479136",
         "-0.0124146121984263",
         "-0.002514180509362",
         "0.0",
         "0.0094517676142398",
         "0.0799001324592991",
         "-0.086705157009248",
         "-0.0006328630978579",
         "0.0063330254687958",
         "-0.0188796657212881",
         "0.0301475779618016",
         "-0.0018680804072431",
         "0.0187148522154725",
         "-0.0048989592002488",
         "0.0030769138252901",
         "-0.0018404253294203",
         "0.031960550882798",
         "0.0",
         "0.00536028859813",
         "-0.0159952720239733",
         "-0.007224454334474",
         "-0.0175864075644693",
         "0.0123456417770269",
         "0.0012194936654554",
         "0.002436091015342",
         "-0.0006075612770853",
         "-0.0048632222907601",
         "0.0189370536321893",
         "0.0035972142369158",
         "-0.0023895227886497",
         "0.0179640179837667",
         "0.0",
         "-0.0076469788128569",
         "0.0077059057105595",
         "-0.0047058828601403",
         "-0.0384159624966286",
         "-0.0141364942398213",
         "-0.0480049798398427",
         "-0.0032744643298251",
         "0.0137977062998664",
         "-0.0343485833792089",
         "-0.0281879792150759",
         "0.0069060562585534",
         "-0.0329217276096653",
         "0.0212765293886187",
         "-0.0005900545775036",
         "-0.0201528902583852",
         "-0.0517730452835487",
         "-0.0142109086962681",
         "0.014415769885903",
         "0.0022437892248603",
         "0.000746316067042",
         "0.0260998518044364",
         "0.0188953957989599",
         "0.0328102639576954",
         "-0.0179557606779182",
         "-0.0246132370638613",
         "-0.0187455392661258",
         "0.0051432448246278",
         "0.0226610092860373",
         "-0.0092924168298225",
         "-0.0281386391499075",
         "-0.0244989021660628",
         "0.0220700241338167",
         "-0.0305286070980834",
         "0.0061444082273531",
         "-0.0129770840770757",
         "-0.0069604319197098",
         "0.0101244910216435",
         "-0.0069390597864501",
         "-0.0170806910072803",
         "0.0339652752714307",
         "0.021390236617736",
         "-0.0224382576568324",
         "0.0359603466467781",
         "-0.031019452725772",
         "-0.0419206043433547",
         "-0.0167065322679142",
         "-0.0210354530384966",
         "0.080165223019381",
         "-0.0099464192115212",
         "-0.000772846544466",
         "0.0402166475289267",
         "-0.0178439982993349",
         "0.032551223637649",
         "-0.001466368617276",
         "0.020558052712551",
         "-0.0035971747706051",
         "-0.0577616965588033",
         "0.0030652350069659",
         "-0.0282659630640341",
         "-0.0227987488567594",
         "0.0353981187846601",
         "0.0357421256289332",
         "-0.0135033170052422",
         "0.0015209161497331",
         "-0.007593032383089",
         "0.0084161936829112",
         "-0.0022761351739984",
         "-0.0083650852637203",
         "0.0053681580641697",
         "-0.0106788964603079",
         "-0.0316113456033536",
         "0.1146495601292791",
         "0.0199999616138648",
         "-0.0028009563348286",
         "-0.0189607609521009",
         "0.0322118289093025",
         "0.0",
         "-0.0097087617117099",
         "-0.0147057905333184",
         "-0.041933161078961",
         "-0.0081603019156771",
         "0.018698578498046",
         "0.0124817196988202",
         "-0.0181289887388871",
         "-0.006647032027314",
         "0.0133828398092945",
         "-0.0550256749026124",
         "-0.0357144652090114",
         "0.0040259226978391",
         "0.0104250940372121",
         "0.0",
         "0.033333217011725",
         "-0.056835588487499",
         "-0.0089577258358823",
         "-0.0049300678842768",
         "-0.0090833732474476",
         "0.0166666039014646",
         "0.0229507747034005",
         "-0.0064101742272808",
         "0.0161290703863767",
         "0.0079964320285343",
         "0.0133857833835109",
         "0.0116550581073255",
         "-0.0015360105598732",
         "-0.0107693661966868",
         "0.0139969454095956",
         "-0.0161043578271647",
         "-0.0046765580578386",
         "-0.0266248177846399",
         "-0.041029731438828",
         "-0.0536912792936271",
         "-0.0221632069543314",
         "0.0253854139723415",
         "-0.0459769742582332",
         "0.0176087385161753",
         "-0.0018212784587272",
         "-0.006386885511879",
         "-0.0055097750310709",
         "-0.0036933459440801",
         "0.0342908025949149",
         "0.0197133414702557",
         "-0.0052723213485603",
         "-0.0106006399979284",
         "-0.0053571633030824",
         "0.0008976695126854",
         "-0.0242153394705235",
         "0.0119484641032523",
         "0.0363307536190986",
         "0.019281085348717",
         "0.017197080000693",
         "0.0076078066841578",
         "-0.0176174157981438",
         "-0.0213493565103699",
         "0.0157068682166858",
         "0.029209525543252",
         "0.0066778228772319",
         "0.0174129028266105",
         "0.0431947569315738",
         "0.0539062751953658",
         "0.005930342378047",
         "-0.0213706652247416",
         "-0.0225903588142348",
         "0.0184899635697539",
         "0.0257186179528223",
         "0.0132742988218195",
         "0.0072781383766269",
         "-0.0245664811296145",
         "0.0059258585112735",
         "0.0250368279903518",
         "-0.0323276261047122",
         "0.0014847869182075",
         "-0.0155670582083239",
         "0.03087361606589",
         "-0.0043827779521861",
         "-0.0088041425060355",
         "0.0273870463105718",
         "-0.0144092789561965",
         "0.0014620834541916",
         "0.0138686675374477",
         "-0.0179985418208318",
         "-0.0080646367170771",
         "-0.0221729468005978",
         "0.011337821172801",
         "-0.0186845876500387",
         "-0.0274181430760368",
         "-0.0070477965163464",
         "-0.0094635680465929",
         "-0.044585966203323",
         "0.0116665082363736",
         "-0.0131795240977237",
         "0.0025042855242305",
         "0.0199833227405619",
         "0.01224494557021",
         "0.0217740802028467",
         "0.0244672457660406",
         "-0.007704096600841",
         "-0.0194100133480584",
         "-0.0150435100537131",
         "0.0024115850330144",
         "-0.0304730590272894",
         "0.0264680550675839",
         "-0.0290088796004592",
         "-0.0008297774459253",
         "0.005813874461698",
         "-0.0346819147832174",
         "0.0094095783669754",
         "-0.0567796773314128",
         "0.0440252214148957",
         "0.0146299001547021",
         "0.0517388617361331",
         "-0.0032259173348464",
         "0.0153722290423787",
         "-0.034262984264152",
         "-0.0099009282416231",
         "-0.0033334480002263",
         "-0.0284280026292762",
         "-0.0017211770892158",
         "0.0120690125323712",
         "0.0264053450262284",
         "0.0141080409356872",
         "-0.0270050125438524",
         "-0.0075694155838419",
         "-0.0194916020841661",
         "0.0293864618675421",
         "0.0352643134086076",
         "0.0267641980105912",
         "0.0",
         "-0.0086888170984128",
         "-0.0095617902081569",
         "0.0120675276124808",
         "-0.0031794687287357",
         "-0.0303031454034603",
         "0.0263156916805378",
         "-0.0024037579378667",
         "0.0265059319090996",
         "0.0140845635729058",
         "0.062499964661334",
         "0.010893289664386",
         "-0.0129310855368356",
         "-0.0043668296939085",
         "-0.0190057457549629",
         "0.0029805465891621",
         "0.0401189401618944",
         "0.026428500705085",
         "-0.0257480191624945",
         "0.0185715014758154",
         "0.0007010936838789",
         "0.0028031802526293",
         "-0.0125786657349136",
         "-0.026185438768054",
         "0.0174419301294981",
         "0.0428571366259986",
         "0.0034247546495931",
         "-0.0040956622111156",
         "-0.0171350076948865",
         "-0.0104602920262799",
         "0.0014093627821156",
         "0.0225194435355566",
         "0.0006882339645815",
         "0.0144428891153984",
         "-0.0027117095842663",
         "-0.0360301322545341",
         "-0.0141042571932719",
         "-0.0014306207886078",
         "0.002865340793321",
         "0.0149998844122756",
         "-0.0119632824846127",
         "0.002136760500933",
         "0.0035535873489893",
         "0.0021246543457935",
         "-0.019081261532263",
         "0.0158501188615931",
         "0.0085106722076349",
         "-0.003516102407481",
         "0.0148199274440155",
         "0.0041726482693615",
         "-0.0166205618726279",
         "0.0056336526069038",
         "0.0028012172333573",
         "0.0020950655726099",
         "0.0132402986109898",
         "-0.0206326507384733",
         "0.0028088280737348",
         "-0.020174870602032",
         "-0.0100072238315914",
         "0.0021660437832329",
         "0.0036022702968729",
         "-0.0251256466423338",
         "-0.0014726498255066",
         "0.0058997371580777",
         "0.0073313061005169",
         "-0.006550154304255",
         "-0.0036629676165751",
         "0.0669116425656473",
         "0.0234321395043322",
         "-0.0060606289857627",
         "-0.023712671097954",
         "-0.008327468451455",
         "0.0055981795555142",
         "-0.0292275267197316",
         "0.0215053405763614",
         "-0.0126315412420425",
         "0.0142145884633584",
         "-0.0021022920348658",
         "0.0056180083610246",
         "-0.0041899030448555",
         "-0.0168303856887387",
         "-0.0092723774484826",
         "-0.0043196998092158",
         "-0.0021691761368903",
         "0.018116029555441",
         "-0.0099645748235716",
         "0.0086268908551567",
         "0.0092659426235537",
         "0.004943454224302",
         "-0.0042164028833282",
         "0.0007056231911835",
         "-0.0063469057962308",
         "-0.0049681004685738",
         "-0.0249642673300183",
         "-0.027798092862433",
         "0.0165538208673703",
         "-0.0436714666169172",
         "0.0201239266481423",
         "0.0318665219830842",
         "-0.0014707532896656",
         "-0.0044182192420129",
         "0.0059172826852327",
         "0.02058812173671",
         "-0.0172909854032611",
         "-0.0021995708826914",
         "-0.0073473776521966",
         "0.009622497434796",
         "0.0256598399306136",
         "0.0042888226830406",
         "-0.0135231715106453",
         "-0.0165945290538398",
         "-0.0330154401872041",
         "-0.0136570146707076",
         "-0.0030769866628216",
         "0.0177469281209319",
         "0.0030325706943277",
         "0.0083144478391619",
         "0.0044977070701439",
         "-0.0007461702502067",
         "-0.016430283536639",
         "0.0083523272747434",
         "0.0150603700306883",
         "0.0059346595003606",
         "-0.0110619283737526",
         "-0.0082028440957871",
         "0.0022556169379046",
         "0.00750180193484",
         "0.0171259438363604",
         "-0.0014641144458695",
         "-0.0256598399306136",
         "0.01504885288343",
         "-0.0163083981823595",
         "0.0150716270836537",
         "0.0541946102923198",
         "0.0035210059427295",
         "0.0168421978125941",
         "0.0193236495129183",
         "0.0196342835448428",
         "0.0239044742155725",
         "-0.0038910915662104",
         "-0.0091145737062352",
         "-0.0328515907694134",
         "-0.0217390853490344",
         "0.0139470119209397",
         "0.0116438909529033",
         "0.0182803108309259",
         "0.0079786748209782",
         "-0.0079155194651269",
         "0.0159573496419567",
         "0.0013089725915682",
         "-0.0013072614221967",
         "0.0065444633935585",
         "0.00780237363648",
         "-0.0096774008037466",
         "0.0097719680552588",
         "0.0212903132796866",
         "-0.005053665303513",
         "-0.0076190793686727",
         "-0.001919335263762",
         "-0.0282051147581223",
         "-0.0032981733831737",
         "-0.0198544431495677",
         "-0.00270077919174",
         "-0.0074476075286262",
         "-0.0068212414934383",
         "-0.0109890284991995",
         "0.0263888148097961",
         "-0.0013530893074468",
         "0.0108401256641523",
         "-0.0107238774846122",
         "0.004065016100978",
         "-0.0060728791639916",
         "-0.0224032483570287",
         "-0.0013888805270199",
         "0.0104311339496756",
         "-0.003441177570494",
         "0.0234806910539111",
         "0.0357624740131592",
         "-0.0019544254304246",
         "-0.0254568864395963",
         "0.0127260193161085",
         "0.0284392661378491",
         "0.0032153752527532",
         "0.0025640871100809",
         "0.0019181860731836",
         "0.0051052659139421",
         "-0.0019047892242067",
         "0.0209924350458767",
         "-0.0012460983822023",
         "0.0099811484715546",
         "0.0037061202534542",
         "-0.0104615878938546",
         "0.0031093961140711",
         "0.0080595820872202",
         "0.0012300049105575",
         "-0.005528334863169",
         "0.0105004352177888",
         "0.0110023784710417",
         "-0.019346995617885",
         "0.003082633132404",
         "0.00799015520177",
         "0.0030487993286505",
         "-0.0407294966845209",
         "-0.0095057621196261",
         "-0.0166345774872629",
         "0.0065060618853645",
         "0.0084034296632977",
         "-0.0006410609143282",
         "0.0",
         "0.0179602799512856",
         "-0.008821699777984",
         "-0.0038143445032242",
         "0.0",
         "0.0044670687127212",
         "-0.0120710453944229",
         "0.0135047802273307",
         "-0.0025381332064744",
         "0.0012722570215515",
         "-0.0101651235226351",
         "-0.0077021358038101",
         "0.0045276677026002",
         "0.0077270914218638",
         "-0.0012780255675334",
         "-0.0038387486509068",
         "-0.0160565402527524",
         "0.0195822877801732",
         "-0.0128040984121733",
         "-0.0032424830450057",
         "-0.0195185828806694",
         "-0.0132714820731845",
         "-0.0067248274101383",
         "0.0162491376256461",
         "0.0006661778054513",
         "-0.0312915448816217",
         "0.0034363632472695",
         "-0.0054794190591384",
         "-0.0006887431119381",
         "0.0179187372654596",
         "-0.0216655719489928",
         "0.0207612047390297",
         "-0.0040677721958163",
         "0.0020421517137183",
         "-0.0122281878348399",
         "0.0006877957406212",
         "0.0109965805890417",
         "-0.0081577490771844",
         "-0.0219329487009849",
         "-0.0091098384920839",
         "0.0155586033327737",
         "-0.015320241768141",
         "-0.0035361757454043",
         "-0.0049680758639665",
         "0.004279661946944",
         "0.0028408051211328",
         "0.0063739428828786",
         "0.0154820483599831",
         "0.0145531392841424",
         "0.0136611190073714",
         "-0.0195417027371433",
         "0.0164948289224513",
         "-0.0006762522596782",
         "0.0257105143994793",
         "-0.0151715331262726",
         "0.0033489825833767",
         "0.014686241257195",
         "-0.0059210571239098",
         "-0.0099271811688137",
         "0.0093583138677946",
         "0.1119203766389405",
         "-0.0113161562420819",
         "0.0090362004117501",
         "-0.0017910703236216",
         "-0.000598119014291",
         "-0.0035906426261608",
         "-0.003603655138021",
         "0.0168776830936561",
         "-0.0071131757404763",
         "0.0071641354952827",
         "-0.0100771075372563",
         "0.0077844210238153",
         "0.0136660995191835",
         "-0.0082063528339487",
         "0.0130023583508271",
         "0.0081680503661532",
         "0.0040510075899153",
         "-0.0011528714917422",
         "0.0201962474796526",
         "0.0073529315276898",
         "-0.0112296474595091",
         "0.008517940483973",
         "0.0123873811933468",
         "0.0022246127454275",
         "-0.0066592277710817",
         "0.0078212503154142",
         "-0.0055432715441581",
         "-0.0016721967545579"
        ],
        [
         "SN",
         "0.008462821960552",
         "-0.0189495819983107",
         "0.0113135094203571",
         "0.0",
         "0.0079125762063276",
         "0.0102871390872167",
         "0.0016075632648011",
         "0.0034780085650556",
         "0.0077310966217281",
         "-0.0084655543249577",
         "0.0096051178587532",
         "-0.0013213344534631",
         "0.0058216285265166",
         "-0.0021046796381057",
         "-0.0087003078397912",
         "0.0265958913337844",
         "-0.0222799833591172",
         "0.0084791430042583",
         "0.0078823729460961",
         "-0.0221584398496265",
         "-0.0261264513282919",
         "0.0038324123429378",
         "0.0128170363444619",
         "0.0110393526890602",
         "0.0031956938611228",
         "-0.0092911472114388",
         "0.0002679490485384",
         "-0.0048219218707448",
         "-0.0110363811689496",
         "-0.0087097972691719",
         "-0.0010983492872914",
         "0.0052227780679208",
         "-0.0008203997742379",
         "0.0098523452983259",
         "0.0726285530086008",
         "-0.0277917932589955",
         "-0.0176715860973653",
         "-0.0224867155911772",
         "-0.0043301810529284",
         "-0.0062516772087419",
         "-0.0486871383353357",
         "0.0178264378336503",
         "0.013559199118988",
         "-0.0086398576748165",
         "-0.0042170461430809",
         "-0.0525127245256845",
         "-0.0563169807768817",
         "-0.0284181229784455",
         "-0.0211245720834951",
         "-0.1241697953739399",
         "-0.0079607413564929",
         "-0.0599924511943555",
         "-0.0536583862907665",
         "-0.00987979609425",
         "0.0672450263492803",
         "0.0756099960840983",
         "-0.0770975245264566",
         "0.1506961258504147",
         "0.0071175114168877",
         "-0.0088339698850888",
         "0.0178253217314419",
         "0.008406271583349",
         "-0.0034734642313267",
         "-0.0278843142476697",
         "-0.0357260389737331",
         "0.0137597267982569",
         "0.0509905444261491",
         "0.0282721639266376",
         "0.0196877882040893",
         "0.0412782106509199",
         "-0.0169436513650361",
         "-0.0299187247304173",
         "0.013744486171636",
         "0.0191799685513058",
         "0.0236859044144854",
         "-0.0342312743382675",
         "0.0157530342203493",
         "0.0038771219474358",
         "-0.0177020227690953",
         "0.0245741848067255",
         "-0.0041572719502543",
         "0.0122028766514179",
         "-0.0114213377100831",
         "-0.0336968525199893",
         "0.0255727678905248",
         "0.0294689081229038",
         "0.0201321390064144",
         "0.0222016983179043",
         "-0.0307692511907504",
         "0.0258324625351342",
         "-0.0409586169111033",
         "-0.0417589459508724",
         "0.0072630978569532",
         "0.0721074968855255",
         "-0.0134516469613057",
         "0.0297490655762133",
         "0.0048149499598324",
         "-0.0053909168849063",
         "-0.0111410479489798",
         "-0.0009136082291886",
         "0.0380982432742045",
         "-0.0358191528043362",
         "0.0121801775673857",
         "-0.0033092913224376",
         "0.0259583443955191",
         "-0.0041188967234241",
         "0.025701652892383",
         "-0.0293779017615108",
         "-0.0210682538215603",
         "0.0051531300146241",
         "-0.0295535844220987",
         "-0.0046613501749677",
         "0.0037464677709284",
         "0.0242611849251348",
         "-0.0057696300789562",
         "-0.0100795645847922",
         "0.0086393139055565",
         "-0.0229428439790738",
         "0.0081403610500443",
         "-0.0745341468725335",
         "-0.0010065625086392",
         "0.0228415255942957",
         "0.0006570385049131",
         "-0.0118149160687817",
         "0.049817270100634",
         "0.0022143934725005",
         "-0.0044190787030763",
         "0.0114140161709608",
         "-0.0103448302287603",
         "-0.0269242622757867",
         "-0.0104167172316456",
         "-0.0019737139959433",
         "0.0266975105340911",
         "0.0028892890454461",
         "0.0627399483733182",
         "-0.0349398209591064",
         "0.0243447863267558",
         "-0.0015236827417828",
         "0.0112908619833431",
         "-0.0138803729405092",
         "0.0244797726647425",
         "-0.0376344635615631",
         "-0.0093109758026769",
         "0.0213032476843637",
         "-0.0064417400579451",
         "-0.043531857767281",
         "-0.0203356902379485",
         "0.0184512476734772",
         "-0.0080879882006245",
         "0.010437183069663",
         "-0.0087153521804161",
         "0.0296320371958904",
         "-0.0113851389459177",
         "0.0089571378700252",
         "0.0218768449504869",
         "-0.0121004073188911",
         "-0.0160176750147625",
         "0.0",
         "-0.0239387665210268",
         "0.0035972301375906",
         "-0.0068427227606798",
         "-0.0236220845043492",
         "0.0151211153871082",
         "0.0086065242789972",
         "-0.0137841757210221",
         "0.0116472403628036",
         "0.0009868569979716",
         "-0.0062438788946819",
         "0.0317460266132816",
         "-0.0301280600237238",
         "-0.0138798362149111",
         "0.0258043242193724",
         "0.0147010599982013",
         "0.0080488490777046",
         "0.0083041561850023",
         "-0.0044348631412013",
         "-0.0028632390348802",
         "0.0067007250258892",
         "-0.0009509634345145",
         "-0.016814717022867",
         "-0.0045176284458265",
         "-0.0599675185615294",
         "0.0010345826947097",
         "0.0223905175120864",
         "-0.0161725042964224",
         "-0.0054793116803071",
         "0.0189392848863021",
         "0.0091246767624193",
         "0.0157401675019275",
         "0.013262157340266",
         "-0.0078099035695938",
         "0.0049195212281727",
         "-0.0081591431411811",
         "0.0003291438014145",
         "0.0009867848664253",
         "0.0029575165761346",
         "0.0039317806817655",
         "-0.0032636253446181",
         "-0.0121151445389842",
         "-0.016572819703884",
         "0.0148298142870595",
         "-0.009963539492037",
         "-0.0030191103997438",
         "-0.0312919753926682",
         "0.0114623281669647",
         "0.0003434146649394",
         "-0.0137315352112474",
         "-0.007309604296442",
         "-0.0287516619160494",
         "-0.0184114566763999",
         "-0.0169180219160584",
         "0.0",
         "0.0228206967983315",
         "0.0424287833284009",
         "-0.0157896732125255",
         "-0.004634342377675",
         "0.1339539708438351",
         "0.0003160178508005",
         "-0.0211557783010403",
         "-0.0151612535159635",
         "-0.0203079715816345",
         "0.006686803054489",
         "-0.0159415982401275",
         "-0.0057373161580144",
         "-0.0159538784362804",
         "0.009313353901883",
         "-0.019822084945491",
         "-0.0073223479788816",
         "-0.0133472702075015",
         "0.0081880733226424",
         "0.0257767508182684",
         "-0.0010328107151797",
         "0.038938742318878",
         "-0.0049750796046789",
         "-0.0056667186247602",
         "0.0207844440356252",
         "0.00689663421612",
         "-0.0045663174412613",
         "-0.0013105668628178",
         "0.0124673251598315",
         "-0.0174984732104878",
         "0.0079155923835139",
         "-0.0189790239839025",
         "0.0150099514616539",
         "0.0072297170288755",
         "0.0013050080471375",
         "-0.0101010092964681",
         "0.0246873130506393",
         "-0.0093156779243442",
         "-0.0107004816290736",
         "0.0426090228883149",
         "-0.0257780486146145",
         "-0.0254920624077958",
         "0.0377483400825446",
         "0.0035097399221724",
         "0.0330683665826174",
         "-0.014158085581256",
         "0.0112394982433632",
         "-0.0262426796759472",
         "-0.0279011131846632",
         "0.0260926047008498",
         "0.0092181939945064",
         "-0.0066142510432786",
         "-0.0047559772516023",
         "0.0347245530180402",
         "0.0274013686497798",
         "-0.0263710279097041",
         "0.0178517674471621",
         "-0.0257031408749112",
         "0.0148977030460231",
         "-0.013455749071409",
         "-0.02479849029211",
         "-0.0200253566768503",
         "0.014920406395144",
         "0.0057526942244237",
         "-0.0162059034304137",
         "0.0151806830525718",
         "-0.0130447043905492",
         "-0.0061249885047127",
         "0.0035678784534758",
         "0.0025856315144452",
         "0.0061250673070247",
         "0.0076897893200895",
         "0.0174882563516198",
         "-0.006562577510946",
         "-0.0138409254360424",
         "-0.0590110769746109",
         "-0.0010170559470262",
         "-0.039701168524071",
         "-0.0038871895325136",
         "0.0173822017131772",
         "-0.0198746888187487",
         "-0.0142296275116683",
         "0.003247913221489",
         "-0.001079074190923",
         "-0.0172848058701952",
         "-0.0040309646735686",
         "-0.005518624525871",
         "0.0099888647860548",
         "0.0014651464291319",
         "0.0065838260525923",
         "0.0065406739836066",
         "0.0075811413241122",
         "0.0",
         "0.006807756826215",
         "-0.0078292783921276",
         "-0.0039453983314452",
         "-0.0248469249430479",
         "0.0073854269045205",
         "-0.0117301232931764",
         "-0.0044511431010954",
         "0.0074516495241114",
         "0.0051773652832756",
         "0.0125093139492269",
         "0.0003632918218392",
         "0.00108983483506",
         "-0.0133064515056102",
         "0.0106658209662684",
         "0.0054584303219407",
         "0.0108577721371674",
         "0.0025063726938829",
         "0.0003571081900768",
         "0.0039272241028209",
         "0.0071123803553738",
         "0.0137709713185747",
         "0.0066180282144341",
         "-0.0224913666003701",
         "0.0010619304258208",
         "0.0367751698937035",
         "0.0177352805640824",
         "0.0",
         "-0.0120643198865598",
         "0.0037313129661653",
         "0.0037175246271758",
         "0.0558924289605298",
         "0.0015942327975813",
         "-0.0226042515655107",
         "0.0029314708092111",
         "0.0178630369258443",
         "0.0102106167329489",
         "-0.0240050402354971",
         "-0.0119740552775627",
         "-0.0117918161471954",
         "0.002983130563952",
         "0.0085922559120272",
         "-0.0062254623709372",
         "0.0013189400418576",
         "-0.0046100083585676",
         "0.0251406580633768",
         "0.0029042752486958",
         "0.005791493798041",
         "-0.005118490586337",
         "0.0032155152007458",
         "-0.0185896626904529",
         "0.0062049708573508",
         "-0.0055177090425092",
         "-0.0029372912020063",
         "-0.018330746771518",
         "0.0010004810067532",
         "0.0",
         "-0.0189874530770679",
         "0.0227505429215291",
         "0.0242363888598562",
         "0.002269061223455",
         "0.0022638451931134",
         "0.0009681180392608",
         "-0.0009671816932164",
         "0.0051629281536533",
         "-0.018619581581396",
         "0.0075239458240721",
         "0.0071427182705556",
         "-0.0067698778884851",
         "0.0113599565399298",
         "0.0057766252852329",
         "-0.0060625756193947",
         "0.0006421492351997",
         "0.0025663996813269",
         "0.016320060968523",
         "0.0022040473820934",
         "-0.0031416926900242",
         "0.0018910026358029",
         "0.0018873566097576",
         "-0.0156985224346771",
         "0.0019138457556331",
         "-0.006049064522058",
         "0.0035232755470946",
         "-0.0143630866543223",
         "-0.0207254353528674",
         "-0.0046295039015924",
         "-0.0222591669125705",
         "0.0132517430887282",
         "0.0358819187272438",
         "0.0019425042479916",
         "0.0045233803539874",
         "-0.0228369090500004",
         "0.0016457402512457",
         "0.0276041493893914",
         "-0.0633192838153742",
         "-0.0017069850368441",
         "-0.0157319342927496",
         "-0.0205003957098748",
         "-0.0070947197278778",
         "-0.0067881786475861",
         "-0.0100719328318599",
         "0.0054506744690094",
         "-0.0079509607720095",
         "0.0054645742935284",
         "0.0047101305531862",
         "-0.0014424292253348",
         "-0.0043338915722981",
         "0.007254356833966",
         "0.0050414507056051",
         "0.0100322363719207",
         "0.0109968675999128",
         "-0.0126316390694655",
         "0.0",
         "0.0046198312874337",
         "-0.0014150494796124",
         "-0.0074387795061355",
         "-0.0042827628347462",
         "0.0132617643263506",
         "-0.003183623571074",
         "-0.0067424099642336",
         "-0.0028581483117967",
         "-0.0085990222162205",
         "-0.0101193403772987",
         "-0.0065717287077595",
         "-0.0124953616335888",
         "-0.0031246406995207",
         "-0.0032121773485425",
         "-0.0104869722986846",
         "0.0227102716414402",
         "-0.0166545212843904",
         "-0.0045163019126118",
         "0.0026465232732799",
         "0.0064102794509135",
         "0.0007492715847587",
         "-0.0022463148056285",
         "-0.001876173984436",
         "0.001127802000824",
         "-0.012391846459833",
         "-0.0212145932446969",
         "-0.0042737919573296",
         "-0.0128755487582014",
         "0.0142293417928411",
         "-0.0307872963340728",
         "0.0048251218834376",
         "0.004802049677772",
         "0.0015929036269946",
         "-0.0111332724692282",
         "0.007639948286753",
         "0.0167596381499612",
         "0.0023549470769959",
         "-0.0125295399235847",
         "0.0190325396220121",
         "0.0031128604481096",
         "-0.0062063064347567",
         "0.0093676455311395",
         "0.0038669534394877",
         "0.0092451456230704",
         "-0.0118322049775015",
         "-0.0046350238491191",
         "-0.0259989878961023",
         "0.0199201010999852",
         "-0.0093749644981728",
         "0.0193216244377258",
         "0.0255319390324668",
         "0.0328179019040837",
         "-0.0124177685898775",
         "-0.015902444879448",
         "0.0",
         "-0.0187899112028689",
         "0.0122557317640834",
         "-0.0090805567563694",
         "0.0084002536714424",
         "-0.0090875246836481",
         "-0.0183415435185576",
         "-0.0054497685850893",
         "-0.0039138720492793",
         "-0.0176815798358965",
         "0.0104000172054614",
         "0.0098969638713217",
         "-0.031752195131111",
         "0.0040486583068142",
         "-0.0181453003682886",
         "0.0180697309849793",
         "0.0",
         "-0.0076642090379717",
         "0.0268292898584401",
         "0.0134599560068287",
         "-0.02148439308654",
         "-0.013173664028298",
         "-0.0040451851411716",
         "-0.0129976448866244",
         "-0.0037038530752983",
         "-0.007021660070369",
         "0.0207985458249653",
         "0.0105950648784145",
         "-0.0225807875771275",
         "0.0309405668570681",
         "0.0188077182127284",
         "0.0023564127005153",
         "0.0023511603724852",
         "0.006645883789327",
         "0.0",
         "0.0046602239196733",
         "0.0088905452755663",
         "0.0111111121515359",
         "-0.0060629414971709",
         "-0.0087686188731127",
         "0.0157693565462964",
         "0.0136311019472725",
         "-0.0455734691895153",
         "-0.0027396243459543",
         "-0.0105964945127968",
         "-0.0023800715756769",
         "-0.0123260016218551",
         "0.0169082714981205",
         "0.0087093320768463",
         "-0.0121663633140834",
         "-0.036154067014543",
         "0.016075719564645",
         "0.0125761208570329",
         "0.0092146798430188",
         "-0.0174671671395467",
         "0.0129291774665727",
         "0.0027922730377636",
         "-0.0023866014348383",
         "-0.0027912567905574",
         "-0.0027988742744347",
         "-0.0400961002700896",
         "0.0129488921899219",
         "0.0185568473203485",
         "0.0020243291534072",
         "-0.0141412816824539",
         "-0.011475581261178",
         "0.0095355892724442",
         "-0.0045174578382144",
         "-0.0028877822070593",
         "-0.0103433917483408",
         "-0.0142139850581405",
         "0.0750635993857975",
         "0.022485182000131",
         "-0.0435957935263029",
         "0.0572811908296464",
         "0.0202214444117982",
         "-0.0220644404168802",
         "0.0103250912605654",
         "-0.0420135955096299",
         "-0.0201500499268405",
         "-0.0322581694206519",
         "-0.0020833721566205",
         "0.0121085611180284",
         "-0.0218646511139265",
         "0.0130746070933323",
         "0.0091590424406204",
         "-0.0057755644141185",
         "0.0352697591961264",
         "0.0080159853444818",
         "-0.0027831966482309",
         "-0.0055823186881678",
         "0.0024059365249033",
         "-0.0179999433001835",
         "0.0012217796330837",
         "-0.0032545009394026",
         "0.0069387446477329",
         "0.01905147695978",
         "-0.0147175051333804",
         "-0.0147912212101171",
         "-0.004917834626519",
         "0.0135913358278525",
         "0.0020316289104338",
         "-0.0089213005948458",
         "0.0040916212000428",
         "0.0048899774978188",
         "-0.0068935926490013",
         "-0.0106167137059397",
         "-0.0144448411209675",
         "0.0004187264882058",
         "0.0330682065642375",
         "0.0085089171895691",
         "0.0466051117760446",
         "-0.0084452688774708",
         "-0.0193573734586103",
         "-0.0039478569927079",
         "0.0055487898541726",
         "0.0342926794734663",
         "-0.006859757801063",
         "0.0011510960823912",
         "0.003449598731616",
         "0.0095492464105622",
         "-0.0136209828501817",
         "-0.0402760109284086",
         "-0.009992074432941",
         "-0.0064593961786008",
         "-0.0089395246598007",
         "0.0463305152678581",
         "0.014106588024797",
         "-0.00309112823159",
         "-0.0073645010327028",
         "-0.0175711736344422",
         "0.0115261714709944",
         "0.0121808156402352",
         "0.0027174554895361",
         "0.0034842269434143",
         "0.006558675873387",
         "-0.0065159399353407",
         "0.019675933345677",
         "-0.0215663173364948",
         "-0.0185614901805963",
         "-0.004728230033701",
         "-0.0059382445780929",
         "0.0051771898077481",
         "-0.0237717039668236",
         "-0.0186689034548103",
         "-0.0272951953349775",
         "-0.0102040848130915",
         "0.0073022328554503",
         "-0.0443496322676237",
         "0.0196342458740486",
         "0.0004376012393996",
         "-0.0021873698232754",
         "0.010521705892738",
         "-0.0026029320593705",
         "0.0134841991690077",
         "0.0",
         "-0.000429254586249",
         "-0.0047229888109808",
         "-0.0099224901976865",
         "0.0026143801984284",
         "-0.0091263644333244",
         "-0.0087718611948298",
         "0.030973423100465",
         "-0.0278970384684682",
         "0.0026490074798806",
         "-0.0013211119893656",
         "-0.0030863851691467",
         "-0.0044227874876712",
         "0.0013327414862547",
         "0.0252882769470808",
         "0.0025962798568481",
         "0.0107898896553992",
         "0.0042699260170941",
         "0.0216835763334966",
         "-0.0091551924658779",
         "-0.0121796925689066",
         "0.0110543559513005",
         "0.0130361355033852",
         "-0.1137400520387278",
         "-0.0187355594726825",
         "-0.007159791514112",
         "-0.0206729871182617",
         "0.030927904307066",
         "0.0290474706588326",
         "-0.0092549026525496",
         "0.0144792958156554",
         "-0.0055249756259347",
         "-0.0134260813216949",
         "-0.0009383358648411",
         "-0.0098636740573251",
         "0.009961935340504",
         "-0.0042273380716951",
         "-0.0231131762301884",
         "-0.001931513282251",
         "0.0053217635967064",
         "-0.0178056074731186",
         "-0.0117589456841373",
         "0.0074367898606211",
         "0.0034449031061247",
         "-0.0112800228660042",
         "0.0014880350840043",
         "0.0059435990771707",
         "0.0009847168266865",
         "0.0570584723435705",
         "0.0134948053999235",
         "-0.0036731328045236",
         "0.0092165172114062",
         "0.0",
         "0.0086758763773253",
         "0.0004525461500832",
         "-0.0108597329095705",
         "-0.0265323412443128",
         "-0.0037594377803803",
         "-0.0047169441606391",
         "-0.016113941447078",
         "-0.0120423556442803",
         "-0.0146269580330765",
         "-0.0059375964447571",
         "0.0089636982081724",
         "-0.0078973477400758",
         "0.0193933421469607",
         "-0.0013377189296674",
         "0.0263800378094758",
         "-0.0147549642566081",
         "0.0178744747670407",
         "-0.017085846341488",
         "0.0014487475471276",
         "-0.0260368446170007",
         "0.0049504983428285",
         "-0.0019703363310737",
         "-0.0256663880282816",
         "-0.0024316520244807",
         "0.0146252280655387",
         "0.0040040310564013",
         "0.0219341623131665",
         "-0.0239024368151123",
         "0.0119940230439434",
         "-0.0074073819355561",
         "0.0049750666236274",
         "-0.0084157927531506",
         "0.0134797337415155",
         "-0.0029555947658296",
         "0.003458506105229",
         "0.0142786707389714",
         "-0.006310736726845",
         "-0.0175867117662165",
         "0.0288413547496961",
         "0.0130499152053098",
         "-0.0047710532092091",
         "-0.0052733295227743",
         "-0.0072288322454524",
         "0.0257279274547854",
         "-0.0004730472347665",
         "0.0075756927215275",
         "-0.00375930914686",
         "0.003301779208253",
         "-0.0051715665271301",
         "0.0094519174201386",
         "0.0060859110330286",
         "0.0004653501188331",
         "0.000930380978908",
         "0.0120817801659618",
         "0.0133147906794333",
         "-0.0176709329537436",
         "-0.0055351491267109",
         "0.0069573619208498",
         "-0.006448657041849",
         "0.0101993923838541",
         "0.0",
         "-0.0160622288024395",
         "0.0181900626160531",
         "0.0082456180604015",
         "-0.0022715573994236",
         "0.0063751308148494",
         "0.0180994479609224",
         "0.0",
         "-0.0177776817354852",
         "-0.0226243928681234",
         "-0.0013890536913366",
         "-0.0069540230470949",
         "0.0214753733911463",
         "0.0031991643691993",
         "0.0072892317282218",
         "-0.0067840718907626",
         "0.0068304098824485",
         "0.0036182969151705",
         "0.0117169865585087",
         "0.020044638688474",
         "0.0096070245452153",
         "0.0034601249711496",
         "0.0073276487598319",
         "0.0119810956316188",
         "-0.0181816697907678",
         "-0.0103360907816654",
         "0.0034813116729253",
         "-0.000867229081767",
         "-0.0104166302135511",
         "-0.0057017520829285",
         "-0.0022056400149765",
         "0.0101679397789224",
         "0.0109410065443733",
         "-0.0099567633453692",
         "-0.0100567906599994",
         "0.0030917720702763",
         "-0.0118889415823117",
         "-0.0031195457490187",
         "-0.0035761332914068",
         "0.0085239906315464",
         "0.0226867003140296",
         "0.033493013144757",
         "-0.0096801865288937",
         "-0.0025500313068832",
         "0.0025565505909277",
         "-0.0203995235954216",
         "-0.0043383446683823",
         "0.0026143700392362",
         "0.0008691135211977",
         "0.0082503105563045",
         "-0.0038762181840068",
         "-0.0012968540962557",
         "0.0056277036130392",
         "0.0421867152729606",
         "0.0070219521408432",
         "0.0032815005108053",
         "-0.0065414350821977",
         "-0.0094649714613037",
         "-0.0145409564690964",
         "0.0096965112295397",
         "0.0075156314238291",
         "0.0095317546778106",
         "-0.00779976122791",
         "0.0099296309130674",
         "-0.0094223192908562",
         "0.0078577235094612",
         "-0.0168238895502016",
         "-0.012938304055193",
         "0.0126850492748449",
         "-0.0154487129133056",
         "-0.0038170390934102",
         "-0.0042571856454968",
         "-0.0068403681163468",
         "0.0038742343693549",
         "0.0098628322849132",
         "-0.0216560275623489",
         "-0.0164930331865982",
         "0.0061783019115104",
         "-0.0061403648834139",
         "-0.0110328514221901",
         "-0.0159027351513889",
         "0.0176870489039195",
         "0.0040107312807864",
         "-0.0044385059556325",
         "0.0057957279010578",
         "0.0115248785649515",
         "0.0311131831276005",
         "0.0161495199724337",
         "-0.0020913187742372",
         "0.0142498286344971",
         "-0.009504038585488",
         "-0.0012517115233997",
         "0.0217210756495767",
         "0.0188062277015488",
         "0.0252809294416682",
         "-0.0023483257052506",
         "-0.000392452642131",
         "0.016091218983949",
         "-0.0046350669142199",
         "0.0201785041574564",
         "-0.0125521970595977",
         "-0.0150231829484314",
         "-0.0031286519091006",
         "-0.0066692989904527",
         "-0.0063191825401189",
         "-0.0007949089320985",
         "0.0155132985706298",
         "-0.0003919334057682",
         "0.0066615556227114",
         "0.0112884345655532",
         "0.0019245954992599",
         "-0.0034576736931311",
         "-0.0115650980681327",
         "-0.0011699938127526",
         "-0.0089808729945394",
         "-0.0307329110355401",
         "-0.0081300441626144",
         "0.0045082260182178",
         "-0.0085680412509848",
         "-0.0106995400738897",
         "-0.0004158190492071",
         "0.0062421169155146",
         "0.0115797642160453",
         "-0.0028617521245668",
         "-0.009840152730949",
         "-0.0086957638838873",
         "-0.0025061523693701",
         "-0.0075376537430016",
         "0.003375511769144",
         "0.0504625457707252",
         "0.0016012736648474",
         "0.0035971546137936",
         "-0.0099562926738909",
         "0.0008045998584775",
         "-0.0076365716137235",
         "-0.0089105471421055",
         "0.0102165942336511",
         "0.0024270743703613",
         "0.0028248952383336",
         "0.0156942407067599",
         "-0.0126783263172952",
         "0.0176564194525483",
         "-0.057570909925988",
         "0.0041840811733211",
         "-0.0066667379175108",
         "-0.0222313921541543",
         "-0.001715993713263",
         "0.0060163019327141",
         "0.0038444408640032",
         "0.0021277018190353",
         "-0.007218702195807",
         "0.0094098131505633",
         "0.0016948038471311",
         "-0.0059221388935792",
         "0.0165958247022355",
         "0.0037671979832745",
         "0.0037531613370389",
         "-0.0016617105276511",
         "-0.0062423202351757",
         "0.00293125863974",
         "-0.0016700365576133",
         "-0.0058553656237011",
         "-0.0029448236610322",
         "-0.0071729109717532",
         "-0.0212495760248777",
         "-0.0238819420975554",
         "0.0022242434714194",
         "-0.005326207146759",
         "-0.0093709366990581",
         "0.0081081815671908",
         "0.0044682547609262",
         "-0.0040033774422069",
         "-0.0120591704226443",
         "-0.0239601637263865",
         "-0.0060212219929447",
         "0.0088535830282951",
         "-0.0120091829950753",
         "0.0",
         "-0.0074802105107596",
         "0.0070654988067484",
         "-0.0074835953570538",
         "-0.0018850054573521",
         "0.0132200732335241",
         "0.0009319620995249",
         "-0.0037243774195004",
         "-0.0051403340886112",
         "-0.0089241650785228",
         "-0.0175357512267106",
         "0.0067535845495521",
         "0.0172495608774911",
         "0.005181496201617",
         "0.000468544124768",
         "-0.0028104058474566",
         "0.003287971074575",
         "-0.0084269277413505",
         "0.0051934972173821",
         "-0.0150303478984351",
         "-0.0076300280401812",
         "0.0105717914406957",
         "-0.0123632338096361",
         "0.0",
         "0.0019258456507751",
         "0.0004805946695782",
         "-0.0312201275956101",
         "0.00694103052009",
         "0.0073855507556499",
         "-0.0248289039506997",
         "-0.0170409417256849",
         "-0.0081582953308763",
         "-0.0074870215394565",
         "-0.0022794232968589",
         "0.0012460873895907",
         "0.0172163533538998",
         "-0.0373163887957754",
         "-0.0010591572672953",
         "0.0036047716431968",
         "0.0031692222639025",
         "-0.0008424688678461",
         "-0.0153878115969098",
         "-0.0143439252864261",
         "-0.0002171881580925",
         "0.0034760307501762",
         "-0.0073609453061892",
         "0.0008724858762101",
         "-0.0135106112030607",
         "-0.0101611935063971",
         "0.0127203553007886",
         "0.0145437695721866",
         "0.0028237113231825",
         "0.0418020628673947",
         "0.0203741487681661",
         "0.0020374802555336",
         "0.0063033955157187",
         "0.0010103003626185",
         "0.0066613388118159",
         "-0.0084219548780114",
         "0.0267948016601691",
         "0.016248136565045",
         "0.0",
         "-0.006782913628028",
         "-0.000487802553159",
         "-0.0048804658105729",
         "0.0024521708390408",
         "0.009784749375775",
         "0.0",
         "-0.0072674074586014",
         "-0.0029283033280936",
         "-0.000489414169386",
         "0.0004896538129002",
         "0.0019578957952526",
         "0.0117244792423325",
         "-0.001931542920306",
         "-0.0077405331411405",
         "0.0029252692145635",
         "0.001944689224365",
         "0.0174672846179573",
         "0.0004768694441186",
         "0.0052430636284668",
         "0.0014225841693702",
         "0.0246210925257066",
         "-0.0346581021096324",
         "0.0019147828108254",
         "0.0019112401272431",
         "0.0162135611000331",
         "0.0051619861869445",
         "0.0028009929995129",
         "-0.0023277358885134",
         "0.0046664477494284",
         "0.0018578638831079"
        ],
        [
         "PSON",
         "-0.0107693232182181",
         "-0.0127528648790473",
         "0.0126024368672097",
         "-0.0115120561829422",
         "-0.0163675897115423",
         "0.0044796279765935",
         "-0.0035040040753472",
         "-0.0329282739208414",
         "0.0221486304377389",
         "-0.088939254162326",
         "0.0447284154401081",
         "0.0",
         "-0.0214067710203179",
         "-0.0006942504769125",
         "0.010423646826817",
         "0.0037827682881008",
         "-0.0068516321863583",
         "0.0127631459232775",
         "-0.0231608476109685",
         "-0.0135984697112592",
         "0.0045952764425829",
         "-0.0028147781552825",
         "0.0084686018653874",
         "0.0164451765246365",
         "0.0030979771301407",
         "0.0027453342951879",
         "-0.0088979348745514",
         "-0.0048342751341781",
         "0.0145730645345849",
         "-0.0485635318460938",
         "0.0248024024261559",
         "0.0031566552618567",
         "0.0027972763317039",
         "0.0062762085924221",
         "0.0117810022403443",
         "-0.0386985960839397",
         "0.0324188198422867",
         "0.0041407900247278",
         "-0.0034364113190782",
         "-0.0182758147160719",
         "-0.0207237894438516",
         "-0.0136294349050299",
         "0.0072725829944899",
         "0.020216583474959",
         "0.0081386005193355",
         "-0.025271831277678",
         "-0.0327693697641905",
         "0.0107968937552747",
         "-0.0069981160044163",
         "-0.0519290037208587",
         "0.0328639968470689",
         "-0.0530303591609675",
         "0.0515999472113297",
         "0.0057056251309308",
         "-0.0162632018875171",
         "-0.0396001339091253",
         "-0.0902721343623497",
         "0.0926290571649828",
         "0.0076519887434551",
         "0.0354512404431364",
         "0.0015443794074565",
         "0.0809560128321182",
         "-0.0146218960998033",
         "-0.0419831913741169",
         "-0.0083112328792424",
         "-0.0899050225733765",
         "0.0018838142320509",
         "0.0413619660479964",
         "0.0190571878677239",
         "0.0275589580297139",
         "0.0321839147740576",
         "-0.0612471595790591",
         "-0.0527876123729356",
         "0.0185764362334321",
         "0.0106558347029817",
         "-0.0618411483438556",
         "-0.0274475752600237",
         "0.0031110323775374",
         "-0.0409834428826665",
         "0.0478169726862196",
         "0.0460757292760158",
         "0.0170706943935643",
         "-0.0472440471279942",
         "-0.0093518732520476",
         "-0.0120747200486839",
         "0.0331111267582395",
         "-0.0716283430146391",
         "0.0417053912556903",
         "0.011788102576663",
         "0.0028579483022281",
         "-0.0574309557709447",
         "-0.0151163619431182",
         "0.0035417714022847",
         "0.0336471358261247",
         "0.0009106655398054",
         "0.0059129327771325",
         "0.0183133940056288",
         "0.0108792832242372",
         "0.0118602420165834",
         "-0.0110701346849916",
         "0.0111940543745894",
         "0.0058606790458142",
         "0.0787655871061729",
         "0.011802482178189",
         "0.0166072966413528",
         "-0.0046673775940918",
         "0.0375145908914629",
         "0.0131825712521964",
         "-0.0111523141707869",
         "0.0052631397576743",
         "-0.0407629173604081",
         "0.1169591757870776",
         "-0.0013962470687556",
         "0.0150297880956977",
         "0.0044767562309011",
         "0.0010282032075623",
         "0.0034246607594548",
         "-0.0191127710639833",
         "0.0041753060833293",
         "-0.0332638807278548",
         "0.0125448152320699",
         "-0.0053095233640119",
         "0.0362988947716433",
         "-0.0113324895759731",
         "-0.0086835782413005",
         "0.0073581217748865",
         "-0.001739131913432",
         "-0.0024391755158774",
         "-0.0048899591110667",
         "-0.0066688845517866",
         "-0.0296818748747572",
         "0.0174797170433806",
         "0.0046532258611311",
         "-0.0146064808162718",
         "-0.0018078867873588",
         "-0.007605748085034",
         "0.0120437604161265",
         "-0.0025242778140232",
         "0.0198843244086368",
         "-0.0003548310858892",
         "-0.0248223968788051",
         "-0.0098183450066015",
         "-0.0594930825624288",
         "0.0605231629059441",
         "-0.0066273540409927",
         "-0.0007412225154521",
         "-0.0152078628547388",
         "0.0203389787595651",
         "0.0077519677121842",
         "0.0274726639936535",
         "0.078431541283918",
         "-0.0244629055493144",
         "0.0315144109158538",
         "0.0229960813631824",
         "0.0144510777571362",
         "-0.0100357228284572",
         "-0.0243046171913852",
         "-0.0032776060528013",
         "-0.0292666283619635",
         "0.0057587209558056",
         "-0.0225664979429106",
         "-0.0037904696912447",
         "0.0134901197403871",
         "-0.028668831514151",
         "0.0038649459929538",
         "-0.0007001188822608",
         "-0.0203151040769323",
         "-0.0286022224423839",
         "-0.0080970125715265",
         "-0.0352505479521316",
         "0.0019232486651123",
         "0.0207292674193599",
         "0.0105303868901462",
         "0.0171192387538059",
         "-0.0197584166973807",
         "-0.0216498400667103",
         "-0.008393815650085",
         "-0.011542873842089",
         "-0.0054497090721491",
         "-0.0125242898915487",
         "-0.0116924071011181",
         "-0.0294767073924567",
         "0.027685921877014",
         "0.0156815805569849",
         "0.0621535496957772",
         "0.0290720025215935",
         "0.0094168993845447",
         "-0.0111230332491718",
         "-0.0036284380145811",
         "-0.002185035416844",
         "0.0189781448378938",
         "-0.0111032226450722",
         "0.0148497557444347",
         "-0.0117773489739511",
         "-0.0162513698197862",
         "0.044787171209875",
         "0.0031621211890244",
         "-0.0021015071395382",
         "-0.009125923155223",
         "-0.0435709628934422",
         "0.0074077309485867",
         "-0.0154414528195115",
         "-0.0145629722199183",
         "-0.0143992675854341",
         "0.001537936752072",
         "-0.0165067583250092",
         "0.0296642988667736",
         "-0.0144049557708247",
         "-0.0307691584567947",
         "-0.0087302345520834",
         "0.0208166411312411",
         "0.0074510348712792",
         "0.0358114904549073",
         "-0.014280450883775",
         "0.0324057465266454",
         "-0.00295433840183",
         "0.0788891379569236",
         "0.0336423389304785",
         "-0.0096313385003522",
         "0.0043595513630168",
         "-0.0130216804946343",
         "0.0389038777886967",
         "0.0107454300087099",
         "0.0051549623636466",
         "0.0240382534519352",
         "-0.0062596706178361",
         "-0.0135430525326983",
         "0.0421452649726958",
         "0.0003064560575336",
         "0.0030626859671716",
         "-0.0076335229827562",
         "-0.0046152323254087",
         "0.0278204498349436",
         "0.0129324567312405",
         "0.004453716077573",
         "0.0029558585468609",
         "-0.0126731831665939",
         "0.0128358542992277",
         "-0.0061891892013573",
         "-0.0142349496055058",
         "-0.0180504990436414",
         "0.0143995969831394",
         "-0.0030202280816158",
         "0.0",
         "0.0381702859818984",
         "-0.0107966146209902",
         "-0.0147494055653485",
         "0.0026947049902215",
         "0.0065689993987212",
         "0.0106794254591817",
         "0.0217198992169558",
         "-0.0120654523803004",
         "-0.0107590311417209",
         "0.0020577251490601",
         "-0.0146672910304467",
         "0.0392975784781424",
         "-0.0223432205663034",
         "-0.0020510036776988",
         "-0.0061654774168108",
         "-0.0082717855637498",
         "0.0050640604603842",
         "0.0071131653776088",
         "-0.002354158687001",
         "-0.0168141438991938",
         "0.0186017946205383",
         "0.0857143345666322",
         "-0.0233316648261697",
         "-0.0069443855092526",
         "0.0041958367065164",
         "0.060445729009031",
         "0.1397424531465789",
         "-0.0781284909218867",
         "0.0157499373874969",
         "-0.0558700823347473",
         "-0.0284149548067713",
         "0.0069760536915128",
         "-0.0181188107366557",
         "-0.0181818814942175",
         "-0.0013819334807395",
         "0.0143924197887337",
         "0.0095498977153936",
         "0.0116214854877998",
         "0.0197702404376634",
         "0.0183390467262369",
         "0.0005145972865545",
         "-0.0251993127253052",
         "-0.0029016746140019",
         "-0.0079364893338345",
         "-0.0162667015584129",
         "0.0249390160780236",
         "-0.0047606503754963",
         "0.0095670075370812",
         "-0.0115820949680639",
         "0.0159787380843121",
         "-0.0031456148428109",
         "0.0289246272462513",
         "-0.020700250654471",
         "-0.008350694902607",
         "0.0642105000799979",
         "-0.0032146841811337",
         "0.016621245413694",
         "-0.0039043640307648",
         "-0.0002449698843469",
         "-0.017152692562777",
         "0.0137123731808095",
         "-0.018199705645816",
         "0.0080159207154126",
         "-0.0106858370881145",
         "-0.0077869620533524",
         "0.0",
         "-0.0050632789987234",
         "-0.01611598690664",
         "-0.0005173826914945",
         "-0.0059522694287131",
         "0.0088517188572636",
         "-0.0043870661168198",
         "-0.0007776041762752",
         "0.0215305105436625",
         "0.0076181497369667",
         "0.0047881727406564",
         "0.0105343023915958",
         "-0.0111690127165936",
         "-0.0052710020056275",
         "0.0103455829689254",
         "0.0199800500084872",
         "0.0",
         "-0.0036727910017817",
         "-0.0304743830310501",
         "0.0012673999384729",
         "0.0050633373435937",
         "0.0088161624797993",
         "0.027465687340068",
         "-0.0068044653041602",
         "0.0127232801848202",
         "0.0091810008486521",
         "-0.0064640352385356",
         "-0.0440963390192253",
         "0.0176456591961744",
         "0.0235322728659497",
         "0.0239593145639849",
         "-0.0047269855913323",
         "-0.0068867657771329",
         "0.0222382122362465",
         "-0.0081871727790777",
         "0.0139150549531776",
         "0.0037217444293207",
         "-0.0127461031470875",
         "-0.0077465416917279",
         "-0.0004731964696131",
         "-0.0089940494196621",
         "0.0105087548516775",
         "-0.0033089548916643",
         "-0.000711260582799",
         "-0.0196963476118733",
         "-0.0096829733534109",
         "0.0303103568362907",
         "-0.0147092608061242",
         "0.0103540481475117",
         "0.0040514487103207",
         "0.0085449703244053",
         "0.0018827699126335",
         "0.0009396517540811",
         "-0.0009387696375445",
         "0.0007047926329579",
         "-0.0011736836715992",
         "0.0126908651500545",
         "0.0018566244950375",
         "0.000231665668372",
         "-0.0238538441899164",
         "0.0116252339562843",
         "0.0007036356442531",
         "-0.0093742812081051",
         "-0.0123018796913151",
         "0.0035928105158098",
         "-0.0054891570684971",
         "-0.0031199178089321",
         "-0.0009628773074144",
         "0.0",
         "0.0",
         "-0.0016867697439321",
         "0.0050688592301819",
         "0.0028818412092581",
         "-0.0294541369675193",
         "0.0133236017830322",
         "0.0038956593710477",
         "0.0033958540426592",
         "-0.0065266817768594",
         "-0.0136252651844875",
         "0.001479867435826",
         "0.0130543004758296",
         "0.0038901995268334",
         "0.0181641098218279",
         "0.0092769421622176",
         "0.0101342797283521",
         "-0.0216985307480961",
         "-0.0016693987301495",
         "0.0026277797107676",
         "0.0052417851648309",
         "0.0303391044667191",
         "-0.0487693952895743",
         "-0.0140265380752928",
         "-0.0358106547854257",
         "0.023912489729033",
         "-0.0079502764120701",
         "-0.0052592740720726",
         "0.0052870802762865",
         "0.0010016244170834",
         "-0.0089285639226223",
         "-0.0098459827745617",
         "-0.0081592031741821",
         "-0.020565455205024",
         "0.0007872584701835",
         "-0.0081298598700827",
         "0.0021151675198138",
         "0.0197890296310789",
         "0.0067269471604192",
         "-0.0025700111980236",
         "-0.0082453993021943",
         "-0.003637229633113",
         "0.0007821264201428",
         "0.0020845445027928",
         "0.0007799688806633",
         "-0.0101324072525885",
         "-0.0015747574470281",
         "-0.0010515476764778",
         "0.0002630028885304",
         "0.0002632551710837",
         "-0.0110468178448386",
         "-0.0164894783261471",
         "-0.0037857481622594",
         "-0.0152009526121551",
         "0.0",
         "-0.0068907477985632",
         "-0.0149874991141037",
         "0.0002816896074866",
         "0.0188732233191897",
         "-0.0190766638647272",
         "-0.007891685669362",
         "-0.0039773600433243",
         "0.0125500168098473",
         "0.0033802698141398",
         "-0.0008421562080144",
         "0.0205113993747463",
         "-0.0115639613055622",
         "0.003064219193728",
         "0.0305469727637932",
         "-0.0072756616130904",
         "0.0048860175213776",
         "0.0056726509216149",
         "-0.0150416331797392",
         "-0.0032725011944529",
         "-0.0027359544477247",
         "-0.1489712672819613",
         "-0.0083815778784872",
         "0.0253575654449325",
         "-0.0104630364023912",
         "0.0067288586561915",
         "-0.0009550210738464",
         "0.0025486383973314",
         "-0.005719761484267",
         "-0.0297219253853014",
         "-0.003952454644763",
         "-0.0039682395387642",
         "0.0242363077527161",
         "-0.0437601960937098",
         "0.0298305420286084",
         "-0.0329164100358387",
         "0.0125936694188808",
         "0.009411662518967",
         "0.0203131614509368",
         "0.0355741923019679",
         "0.0110306210726371",
         "-0.0074812708772483",
         "0.0021985407591018",
         "-0.0128485355512364",
         "-0.0006350314534017",
         "0.000317474917832",
         "0.0003178591444594",
         "-0.0079365841242137",
         "-0.0009601187603276",
         "0.0041640890998837",
         "0.0105263516847862",
         "-0.0369318551592514",
         "0.0072107084416426",
         "-0.03481926502525",
         "-0.0165204121900562",
         "-0.0123418189075639",
         "0.0222145746489732",
         "0.0203735475358228",
         "-0.0116472053598672",
         "-0.0084175899646703",
         "0.0047539245599177",
         "0.0043933690588975",
         "-0.0124495959194727",
         "-0.0064736326304802",
         "-0.0195474408423201",
         "0.0293809111575988",
         "0.0261639417014896",
         "-0.0172185163882057",
         "0.0090971315379748",
         "-0.0076795313936706",
         "0.005047216810901",
         "0.010712914366936",
         "-0.0069559972193412",
         "0.0096732264002616",
         "0.0128841239125703",
         "-0.0195695997106954",
         "0.0169661354023014",
         "-0.009486432345473",
         "-0.0105680612864031",
         "-0.0023364998115446",
         "0.0020075066134288",
         "0.0073456342902737",
         "0.0049717320565656",
         "-0.0032982251337851",
         "0.0191927054195799",
         "0.0266233624562413",
         "0.0436431539614623",
         "0.034848508829584",
         "-0.035139146717064",
         "-0.0910469091668548",
         "0.0333889964484934",
         "-0.011954829110072",
         "0.006213147393048",
         "-0.0149496564232419",
         "0.0148467098970137",
         "0.0042261616085788",
         "-0.0029134304555923",
         "0.0048701369536976",
         "-0.0151860160395799",
         "0.0114829923683215",
         "0.0071360635338315",
         "0.0057970313061332",
         "0.0246556352314515",
         "-0.0018748504400629",
         "-0.0212900023113865",
         "0.0076777119761695",
         "-0.0107937893167521",
         "0.0",
         "-0.0035300483455471",
         "0.0054748647097038",
         "0.0009610414742766",
         "-0.0025600560491195",
         "-0.0375360343931121",
         "0.1209998997127304",
         "-0.0365744735345887",
         "0.0148148574120998",
         "-0.0188564895032604",
         "-0.0313080517780673",
         "-0.0294400581134287",
         "0.0178041423493509",
         "-0.0045351480653861",
         "0.0549951340755752",
         "0.0018506558508395",
         "0.180110757121827",
         "-0.0073049052252516",
         "0.0864651526302338",
         "-0.0009676071774936",
         "-0.019128233171283",
         "-0.0027153630981001",
         "-0.0217821265670044",
         "0.0007591259154318",
         "-0.0144121426089597",
         "-0.0157264198321032",
         "0.025026120373764",
         "0.0045777885027693",
         "-0.0053163771692974",
         "-0.0593025996128593",
         "0.0154220020022071",
         "-0.0127898346617392",
         "0.0140352303015971",
         "0.0173010284993404",
         "0.0138669400827822",
         "-0.0126450277103035",
         "-0.0039205538295121",
         "0.0209917868224713",
         "0.0015420869739251",
         "-0.0025660570638743",
         "-0.0069461390792859",
         "-0.0064768320241348",
         "0.0005215084614329",
         "0.0281470169052107",
         "-0.0078581049698095",
         "0.0058764923841467",
         "-0.0101600978295901",
         "-0.0074416830325129",
         "-0.0033608453464",
         "0.0191958627594241",
         "0.0045812836828231",
         "-0.0053204951290757",
         "-0.0213958946416648",
         "-0.0010411166353475",
         "-0.0130276006803194",
         "-0.0010558776720126",
         "0.0042282977324632",
         "-0.0063158221273412",
         "-0.0153602157125116",
         "0.0123722328024666",
         "0.0074390826681032",
         "0.0047467991259402",
         "-0.0220473166751362",
         "0.018250160500731",
         "0.0005271441400753",
         "-0.0050052710775524",
         "0.0026475839028192",
         "0.0002640189506577",
         "-0.0195353896383709",
         "0.0145395534002807",
         "0.0010616442575086",
         "-0.0074231427792575",
         "0.002938134491371",
         "-0.0021305578040574",
         "0.0010675126352484",
         "-0.0194614524997757",
         "0.0067970795026313",
         "0.00351068205982",
         "-0.0064584271062783",
         "0.017605623900186",
         "-0.0223584197867243",
         "0.0283148509793695",
         "0.0219752293845023",
         "0.0217614910266228",
         "-0.01572004049641",
         "-0.0105615257748665",
         "0.0164019733729809",
         "0.0107581933150262",
         "-0.0007603738795126",
         "-0.0542733775060121",
         "0.005363491795967",
         "-0.008802483896882",
         "0.0056512367180734",
         "-0.0128444316525315",
         "0.0159934972013429",
         "0.0141408087187733",
         "0.0215732688181096",
         "-0.0123615619026975",
         "-0.0007823025080344",
         "-0.0114822483749971",
         "-0.0050158421960707",
         "0.0132661809576537",
         "0.0081172068728654",
         "0.0075323717079487",
         "0.0090230744600858",
         "0.0056208841594604",
         "0.005081417747518",
         "-0.0035389783604642",
         "-0.0111619944473956",
         "0.011031490205025",
         "-0.0284192759914584",
         "-0.0120136495361558",
         "0.1268834471063875",
         "0.02040818958088",
         "0.0087356367673483",
         "0.0091157713611069",
         "0.0009034735108117",
         "-0.0072203680984131",
         "0.0156819435548867",
         "-0.0040277160107946",
         "-0.004419718240475",
         "-0.0051906571892038",
         "-0.0013611196261908",
         "-0.0024989027456298",
         "-0.0059211360836924",
         "0.0018327506909892",
         "0.0052594315626925",
         "-0.0086442111168357",
         "-0.0075722583207463",
         "0.0002313009002308",
         "0.0083217303744111",
         "-0.0048142970832234",
         "-0.0082930459041039",
         "0.0020906698414242",
         "0.0122854622113082",
         "0.0196931537708546",
         "0.0089827292764312",
         "-0.0028933913207775",
         "-0.0022322332324855",
         "0.0093960948364653",
         "0.0148493298242504",
         "0.0065515802064413",
         "0.0021696896319538",
         "-0.0212166994762911",
         "-0.0002211381604221",
         "-0.0061947919024183",
         "-0.0126892429804922",
         "-0.0056368971507256",
         "-0.0079365172789261",
         "-0.016457194292107",
         "-1.972845135067569e-05",
         "-0.0009097976119019",
         "-0.0039544044824966",
         "-0.0207847999169908",
         "0.0336276069380898",
         "0.0189200993768479",
         "0.020606895348042",
         "0.0042156250904086",
         "0.0011047392531318",
         "-0.0019862553983964",
         "0.0134895508315866",
         "-0.0096007138469558",
         "0.0002203957718727",
         "-0.0048458897947831",
         "-0.0039840088124692",
         "-0.0115556971846823",
         "0.0044965167219042",
         "-0.0042524905408893",
         "0.0002247855785808",
         "-0.0029213499337632",
         "0.0874464208645433",
         "-0.0078754479533633",
         "-0.0066849260610624",
         "-0.0021030061357533",
         "0.004004113066335",
         "0.0079766086654364",
         "0.001874097719656",
         "0.0008314870829115",
         "0.0078919939459685",
         "-0.0199876092075445",
         "-0.0035744292990326",
         "0.0008440554276167",
         "-0.0105418271770775",
         "0.0240784321992981",
         "-0.0243445815439088",
         "0.016421405259458",
         "0.0109105584979363",
         "0.0070569911741342",
         "0.0028852980579918",
         "0.0039047335873736",
         "0.0098258824647252",
         "0.0006081924168526",
         "-0.0058751249361863",
         "0.0050947506376293",
         "-0.007502064558359",
         "0.0114402463333251",
         "-0.0062613124202279",
         "0.011382114426661",
         "-0.0518489934854611",
         "0.0082662841597396",
         "-0.0138742484707187",
         "-0.0023449519868428",
         "0.0",
         "-0.0064102547372058",
         "0.0070967526283898",
         "-0.01024978520757",
         "-0.0148868653312557",
         "-0.0002188918880727",
         "0.0092003552805166",
         "-0.0021704990431072",
         "0.0052207679937441",
         "-0.0006492562035026",
         "0.0160242668127412",
         "0.0076726584064037",
         "-0.0084603207070728",
         "0.0",
         "0.0044795799717158",
         "-0.00276060769554",
         "0.006175321356854",
         "0.0099472154408164",
         "-0.0586756762619717",
         "0.0046749699444366",
         "0.0044316184592692",
         "0.0103684726754385",
         "0.010698582885481",
         "0.0127457822294063",
         "-0.0095989417480034",
         "-0.006461338220404",
         "-0.0067201526865717",
         "0.0165866887962027",
         "0.011378229533534",
         "-0.0216514365420187",
         "0.0030375522339129",
         "0.0160070016678501",
         "-0.014690229562833",
         "-0.0028091220256505",
         "0.0062839065387922",
         "0.0034452874207162",
         "-0.0090128604619952",
         "-0.0129926344697924",
         "0.0261079872628275",
         "0.0066280632495712",
         "-0.0146558440598161",
         "-0.0278076516527573",
         "0.00665188274898",
         "0.0004406271555066",
         "-0.0211361492903453",
         "0.0191182226840169",
         "0.007724506268411",
         "0.0083224394547913",
         "-0.0060815695187692",
         "0.0021852695071189",
         "0.0026167119587292",
         "-0.0067420750831719",
         "-0.0054739732856623",
         "-0.0004404330887274",
         "0.0110131229676653",
         "0.0080610427044258",
         "-0.0075643057059997",
         "0.0106707580637825",
         "-0.0060332160474834",
         "-0.0375026594508776",
         "-0.027702674448802",
         "-0.0002316587787146",
         "-0.0002317832088347",
         "0.0050985020403562",
         "-0.0168319102906454",
         "-0.0126640621822096",
         "0.0002374740076938",
         "-0.0111613115721296",
         "0.0062439998559709",
         "-0.0004772880071276",
         "0.0021490039246865",
         "-0.0100071310085076",
         "-0.0077015966961471",
         "-0.0056412943218366",
         "-0.0082946897807473",
         "0.0154981067024295",
         "-0.0007266644739766",
         "-0.0050909424109112",
         "-0.0060916934327475",
         "0.0350577349573622",
         "-0.00876374184225",
         "0.0028674338739327",
         "-0.0069097396077293",
         "0.0107966064585229",
         "-0.0087823188907615",
         "-0.000957822402721",
         "0.0019174814120952",
         "0.0100479132206685",
         "0.0011842874837075",
         "0.0030753462725925",
         "-0.0113206653195101",
         "0.0035782156946673",
         "0.013073465918818",
         "-0.001407778542366",
         "0.0",
         "0.0065789426489228",
         "-0.0025676970047692",
         "0.0379124569838358",
         "-0.1499435606746669",
         "0.1007956199922481",
         "-0.0171084698810931",
         "0.0107870471901971",
         "0.0024253003134482",
         "-0.0355673266992483",
         "0.0173106798302824",
         "0.0145499222494789",
         "-0.003159965888992",
         "0.0017068623430074",
         "0.0080331167723113",
         "0.0067617209811532",
         "-0.0043175475837595",
         "-0.003372752227895",
         "0.0070099530913356",
         "-0.0187229922313777",
         "-0.020303413004204",
         "-0.000998718231559",
         "0.0084978587474597",
         "-0.010904599134009",
         "0.0145327108201609",
         "0.0133365958046829",
         "-0.0031683634824808",
         "0.0004890931919601",
         "0.0065981126889274",
         "-0.0053410351410418",
         "0.0",
         "-0.0026849692692859",
         "0.0044053261728693",
         "0.0021929649998233",
         "0.0029176294670703",
         "0.0072726691376669",
         "-0.011070959925544",
         "0.0043806672565314",
         "-0.0089654015795482",
         "-0.0085574139570714",
         "0.0133168614012351",
         "-0.0063276222257953",
         "0.0137154711046465",
         "0.0024159986273959",
         "-0.0149433392011135",
         "0.0056276544676632",
         "-0.0024331943120526",
         "-0.0031706817788672",
         "0.0244678290509003",
         "-0.0210174618070823",
         "-0.0024396496927012",
         "0.0019565526444371",
         "-0.0004881830053592",
         "0.0315018038639347",
         "0.0004735051771875",
         "-0.0068623227444609",
         "0.0007148633601283",
         "0.0102380618339972",
         "0.0197972994851536",
         "-0.001386560432613",
         "0.0011571538100263",
         "-0.0034675196337747",
         "-0.0018557268184288",
         "0.009063514204153",
         "0.0050667255629477",
         "-0.0036664486680395",
         "-0.0057497015187067",
         "-0.022669357368664",
         "-0.0097041607573826",
         "-0.0083652313204861",
         "0.0110870434496836",
         "0.0054826980204631",
         "0.0106685507387156",
         "-0.0060989667086041",
         "-0.0010975883752478",
         "-0.0163043862470068",
         "-0.0007205689282553",
         "-0.0103365317051087",
         "-0.003157624900738",
         "-0.0014620790041884",
         "0.0026842415754841",
         "-0.0119250528416116",
         "0.0135469003554162",
         "0.0145808161868143",
         "0.0040718772695271",
         "-0.0066794878498558",
         "0.0069643643056387",
         "0.0038160238490569",
         "-0.0033262187256272",
         "0.0009534782379616",
         "0.0135746675420247",
         "0.0011748730245524",
         "0.0098567361110115",
         "0.0051127932637271",
         "0.0194219000359989",
         "0.0",
         "-0.005443333906651",
         "0.0132268022906174",
         "0.0031511053982915",
         "0.0031411386279911",
         "-0.0149855155311497",
         "0.0036331247590266",
         "-0.0101809710197029",
         "-0.0100572316484079",
         "0.0018472162023261",
         "-0.0036875502138576",
         "0.0023132579332381",
         "-0.0053081364770221",
         "0.0071926088497882",
         "0.0002303876856515",
         "-0.0126669978722874",
         "0.0123629298394758",
         "0.0023041263952183",
         "0.0131035252323146",
         "0.0004537361605274",
         "0.0043094387218836",
         "0.0133243568026175",
         "0.0069087431255647",
         "0.0044267646244793",
         "-0.0011018641410056",
         "0.010589065645324",
         "0.0037109328272841",
         "-0.0017398843370305",
         "-0.0108931469282529",
         "-0.0103524485754867",
         "0.0037836830756723",
         "0.0115298814899413",
         "0.0105217519090672",
         "0.0086767097188831",
         "-0.0116128366413184",
         "0.0293733638104429",
         "0.0057069733340748",
         "0.01387140195594",
         "-0.0049751168217423",
         "-0.0072915998856201",
         "0.0010491801262118",
         "0.0111111509339605",
         "0.0087083073100675",
         "0.0036998758780466",
         "-0.0071677217633293",
         "-0.0020626874104157",
         "-0.0033071466549482",
         "-0.0149315407422864",
         "-0.0012631719936503",
         "0.0037942444938539",
         "0.003359927685586",
         "0.0081624385980159",
         "0.0041519870762565",
         "-0.0006202260596811",
         "0.0010342674264303",
         "0.001859909292752",
         "-0.0369223943143479",
         "-0.00685377068543",
         "0.0105671858285705",
         "-0.0187793794262548",
         "0.0152240045478009",
         "0.0059983754767622",
         "-0.0040459984063564",
         "0.0079109683330198",
         "0.0186679000673453",
         "0.0037484163590932",
         "-0.0039419105139381",
         "-0.0043741375911688",
         "-0.0140167233476635",
         "-0.004667884092052",
         "0.0025579883249888",
         "0.0085052618623722",
         "0.002319211771802",
         "0.0058898001553395",
         "0.0075281872908707",
         "-0.0045662190149085",
         "0.0058382215925847",
         "-0.000621834228715"
        ]
       ],
       "shape": {
        "columns": 1007,
        "rows": 5
       }
      },
      "text/html": [
       "<div>\n",
       "<style scoped>\n",
       "    .dataframe tbody tr th:only-of-type {\n",
       "        vertical-align: middle;\n",
       "    }\n",
       "\n",
       "    .dataframe tbody tr th {\n",
       "        vertical-align: top;\n",
       "    }\n",
       "\n",
       "    .dataframe thead th {\n",
       "        text-align: right;\n",
       "    }\n",
       "</style>\n",
       "<table border=\"1\" class=\"dataframe\">\n",
       "  <thead>\n",
       "    <tr style=\"text-align: right;\">\n",
       "      <th></th>\n",
       "      <th>3</th>\n",
       "      <th>4</th>\n",
       "      <th>5</th>\n",
       "      <th>6</th>\n",
       "      <th>7</th>\n",
       "      <th>8</th>\n",
       "      <th>9</th>\n",
       "      <th>10</th>\n",
       "      <th>11</th>\n",
       "      <th>12</th>\n",
       "      <th>...</th>\n",
       "      <th>1000</th>\n",
       "      <th>1001</th>\n",
       "      <th>1002</th>\n",
       "      <th>1003</th>\n",
       "      <th>1004</th>\n",
       "      <th>1005</th>\n",
       "      <th>1006</th>\n",
       "      <th>1007</th>\n",
       "      <th>1008</th>\n",
       "      <th>1009</th>\n",
       "    </tr>\n",
       "  </thead>\n",
       "  <tbody>\n",
       "    <tr>\n",
       "      <th>AAF</th>\n",
       "      <td>-0.003807</td>\n",
       "      <td>-0.000637</td>\n",
       "      <td>0.010835</td>\n",
       "      <td>-0.019546</td>\n",
       "      <td>-0.001929</td>\n",
       "      <td>-0.025129</td>\n",
       "      <td>-0.008592</td>\n",
       "      <td>-0.002000</td>\n",
       "      <td>-0.024716</td>\n",
       "      <td>-0.056849</td>\n",
       "      <td>...</td>\n",
       "      <td>0.045100</td>\n",
       "      <td>0.010788</td>\n",
       "      <td>0.026273</td>\n",
       "      <td>0.020800</td>\n",
       "      <td>0.017241</td>\n",
       "      <td>-0.016179</td>\n",
       "      <td>0.014096</td>\n",
       "      <td>0.002317</td>\n",
       "      <td>-0.003082</td>\n",
       "      <td>0.006182</td>\n",
       "    </tr>\n",
       "    <tr>\n",
       "      <th>KGF</th>\n",
       "      <td>-0.009946</td>\n",
       "      <td>0.002740</td>\n",
       "      <td>0.038251</td>\n",
       "      <td>-0.017544</td>\n",
       "      <td>-0.029018</td>\n",
       "      <td>-0.032644</td>\n",
       "      <td>0.017110</td>\n",
       "      <td>0.021028</td>\n",
       "      <td>-0.020595</td>\n",
       "      <td>-0.019159</td>\n",
       "      <td>...</td>\n",
       "      <td>0.068920</td>\n",
       "      <td>0.002875</td>\n",
       "      <td>-0.021294</td>\n",
       "      <td>0.011297</td>\n",
       "      <td>0.024410</td>\n",
       "      <td>-0.010905</td>\n",
       "      <td>0.007758</td>\n",
       "      <td>0.000000</td>\n",
       "      <td>-0.002836</td>\n",
       "      <td>-0.011377</td>\n",
       "    </tr>\n",
       "    <tr>\n",
       "      <th>DPLM</th>\n",
       "      <td>-0.010774</td>\n",
       "      <td>-0.005940</td>\n",
       "      <td>-0.000996</td>\n",
       "      <td>-0.007976</td>\n",
       "      <td>0.003015</td>\n",
       "      <td>-0.033066</td>\n",
       "      <td>-0.011399</td>\n",
       "      <td>-0.003669</td>\n",
       "      <td>-0.028406</td>\n",
       "      <td>0.028695</td>\n",
       "      <td>...</td>\n",
       "      <td>0.020196</td>\n",
       "      <td>0.007353</td>\n",
       "      <td>-0.011230</td>\n",
       "      <td>0.008518</td>\n",
       "      <td>0.012387</td>\n",
       "      <td>0.002225</td>\n",
       "      <td>-0.006659</td>\n",
       "      <td>0.007821</td>\n",
       "      <td>-0.005543</td>\n",
       "      <td>-0.001672</td>\n",
       "    </tr>\n",
       "    <tr>\n",
       "      <th>SN</th>\n",
       "      <td>0.008463</td>\n",
       "      <td>-0.018950</td>\n",
       "      <td>0.011314</td>\n",
       "      <td>0.000000</td>\n",
       "      <td>0.007913</td>\n",
       "      <td>0.010287</td>\n",
       "      <td>0.001608</td>\n",
       "      <td>0.003478</td>\n",
       "      <td>0.007731</td>\n",
       "      <td>-0.008466</td>\n",
       "      <td>...</td>\n",
       "      <td>0.024621</td>\n",
       "      <td>-0.034658</td>\n",
       "      <td>0.001915</td>\n",
       "      <td>0.001911</td>\n",
       "      <td>0.016214</td>\n",
       "      <td>0.005162</td>\n",
       "      <td>0.002801</td>\n",
       "      <td>-0.002328</td>\n",
       "      <td>0.004666</td>\n",
       "      <td>0.001858</td>\n",
       "    </tr>\n",
       "    <tr>\n",
       "      <th>PSON</th>\n",
       "      <td>-0.010769</td>\n",
       "      <td>-0.012753</td>\n",
       "      <td>0.012602</td>\n",
       "      <td>-0.011512</td>\n",
       "      <td>-0.016368</td>\n",
       "      <td>0.004480</td>\n",
       "      <td>-0.003504</td>\n",
       "      <td>-0.032928</td>\n",
       "      <td>0.022149</td>\n",
       "      <td>-0.088939</td>\n",
       "      <td>...</td>\n",
       "      <td>-0.014017</td>\n",
       "      <td>-0.004668</td>\n",
       "      <td>0.002558</td>\n",
       "      <td>0.008505</td>\n",
       "      <td>0.002319</td>\n",
       "      <td>0.005890</td>\n",
       "      <td>0.007528</td>\n",
       "      <td>-0.004566</td>\n",
       "      <td>0.005838</td>\n",
       "      <td>-0.000622</td>\n",
       "    </tr>\n",
       "  </tbody>\n",
       "</table>\n",
       "<p>5 rows × 1007 columns</p>\n",
       "</div>"
      ],
      "text/plain": [
       "             3         4         5         6         7         8         9  \\\n",
       "AAF  -0.003807 -0.000637  0.010835 -0.019546 -0.001929 -0.025129 -0.008592   \n",
       "KGF  -0.009946  0.002740  0.038251 -0.017544 -0.029018 -0.032644  0.017110   \n",
       "DPLM -0.010774 -0.005940 -0.000996 -0.007976  0.003015 -0.033066 -0.011399   \n",
       "SN    0.008463 -0.018950  0.011314  0.000000  0.007913  0.010287  0.001608   \n",
       "PSON -0.010769 -0.012753  0.012602 -0.011512 -0.016368  0.004480 -0.003504   \n",
       "\n",
       "            10        11        12  ...      1000      1001      1002  \\\n",
       "AAF  -0.002000 -0.024716 -0.056849  ...  0.045100  0.010788  0.026273   \n",
       "KGF   0.021028 -0.020595 -0.019159  ...  0.068920  0.002875 -0.021294   \n",
       "DPLM -0.003669 -0.028406  0.028695  ...  0.020196  0.007353 -0.011230   \n",
       "SN    0.003478  0.007731 -0.008466  ...  0.024621 -0.034658  0.001915   \n",
       "PSON -0.032928  0.022149 -0.088939  ... -0.014017 -0.004668  0.002558   \n",
       "\n",
       "          1003      1004      1005      1006      1007      1008      1009  \n",
       "AAF   0.020800  0.017241 -0.016179  0.014096  0.002317 -0.003082  0.006182  \n",
       "KGF   0.011297  0.024410 -0.010905  0.007758  0.000000 -0.002836 -0.011377  \n",
       "DPLM  0.008518  0.012387  0.002225 -0.006659  0.007821 -0.005543 -0.001672  \n",
       "SN    0.001911  0.016214  0.005162  0.002801 -0.002328  0.004666  0.001858  \n",
       "PSON  0.008505  0.002319  0.005890  0.007528 -0.004566  0.005838 -0.000622  \n",
       "\n",
       "[5 rows x 1007 columns]"
      ]
     },
     "execution_count": 47,
     "metadata": {},
     "output_type": "execute_result"
    }
   ],
   "source": [
    "time_series.head()"
   ]
  },
  {
   "cell_type": "code",
   "execution_count": null,
   "id": "e1359075",
   "metadata": {},
   "outputs": [],
   "source": [
    "# Begin the Train test split stuff\n",
    "\n",
    "#& Imports\n",
    "from sklearn.neighbors import KNeighborsClassifier\n",
    "from sklearn.model_selection import StratifiedKFold\n",
    "from sklearn.metrics import f1_score, recall_score, precision_score, accuracy_score\n",
    "from sklearn.model_selection import train_test_split\n",
    "\n",
    "#// Split the data into train and test sets\n",
    "#// if static is not None:\n",
    "#//     X_train, X_test, y_train, y_test, static_train, static_test = train_test_split(\n",
    "#//                                                                 time_series, labels, static, \n",
    "#//                                                                 test_size=0.2, random_state=42\n",
    "#//                                                                 )\n",
    "#// else:\n",
    "#//     X_train, X_test, y_train, y_test = train_test_split(\n",
    "#//                                                         time_series, labels, \n",
    "#//                                                         test_size=0.2, random_state=42\n",
    "#//                                                         )\n",
    "\n",
    "\n",
    "\n",
    "def get_cross_validation_results(get_predictions_method):\n",
    "    # Set up cross-validation\n",
    "    skf = StratifiedKFold(n_splits=6, shuffle=True, random_state=42)\n",
    "\n",
    "    results = []\n",
    "\n",
    "    for fold, (train_idx, test_idx) in enumerate(skf.split(time_series, labels)):\n",
    "        print(f\"Fold {fold + 1}/{skf.n_splits}: {len(train_idx)} train samples, {len(test_idx)} test samples\")\n",
    "        # Split data\n",
    "        X_train, X_test = time_series[train_idx], time_series[test_idx]\n",
    "        y_train, y_test = labels[train_idx], labels[test_idx]\n",
    "    \n",
    "        if static is not None:\n",
    "            y_pred, prox_train, prox_test = get_predictions_method(X_train, y_train, X_test, static[train_idx], static[test_idx])\n",
    "        else:\n",
    "            y_pred, prox_train, prox_test = get_predictions_method(X_train, y_train, X_test, None, None)\n",
    "        \n",
    "        # RF metrics\n",
    "        rf_f1 = f1_score(y_test, y_pred, average='weighted')\n",
    "        rf_recall = recall_score(y_test, y_pred, average='weighted')\n",
    "        rf_precision = precision_score(y_test, y_pred, average='weighted')\n",
    "        rf_acc = accuracy_score(y_test, y_pred)\n",
    "\n",
    "        #KNN metrics\n",
    "        if prox_train is None or prox_test is None:\n",
    "            acc = None\n",
    "            f1 = None\n",
    "            precision = None\n",
    "            recall = None\n",
    "        else:\n",
    "            knn = KNeighborsClassifier(n_neighbors=4, metric='precomputed')\n",
    "            knn.fit(1 - prox_train, y_train)\n",
    "            y_pred = knn.predict(1- prox_test)\n",
    "\n",
    "            acc = accuracy_score(y_test, y_pred)\n",
    "            f1 = f1_score(y_test, y_pred, average='weighted')\n",
    "            precision = precision_score(y_test, y_pred, average='weighted')\n",
    "            recall = recall_score(y_test, y_pred, average='weighted')\n",
    "            \n",
    "        results.append({\n",
    "            'fold': fold,\n",
    "            'train_idx': train_idx,\n",
    "            'test_idx': test_idx,\n",
    "            'rf_f1': rf_f1,\n",
    "            'rf_recall': rf_recall,\n",
    "            'rf_precision': rf_precision,\n",
    "            'rf_accuracy': rf_acc,\n",
    "            'knn_accuracy': acc,\n",
    "            'knn_f1': f1,\n",
    "            'knn_precision': precision,\n",
    "            'knn_recall': recall\n",
    "        })\n",
    "\n",
    "    # Convert results to DataFrame\n",
    "    results_df = pd.DataFrame(results)\n",
    "    \n",
    "    return results_df._append({\n",
    "        'fold': 'Average',\n",
    "        'rf_f1': results_df['rf_f1'].mean(),\n",
    "        'rf_recall': results_df['rf_recall'].mean(),\n",
    "        'rf_precision': results_df['rf_precision'].mean(),\n",
    "        'rf_accuracy': results_df['rf_accuracy'].mean(),\n",
    "        'knn_accuracy': results_df['knn_accuracy'].mean(),\n",
    "        'knn_f1': results_df['knn_f1'].mean(),\n",
    "        'knn_precision': results_df['knn_precision'].mean(),\n",
    "        'knn_recall': results_df['knn_recall'].mean()\n",
    "    }, ignore_index=True)\n",
    "\n",
    "import matplotlib.pyplot as plt\n",
    "\n",
    "def plot_cv_results(results_df):\n",
    "    \"\"\"\n",
    "    Plots cross-validation metrics for each fold, ignoring the average row.\n",
    "    Args:\n",
    "        results_df (pd.DataFrame): DataFrame returned by get_cross_validation_results\n",
    "    \"\"\"\n",
    "    # Exclude the average row\n",
    "    plot_df = results_df[results_df['fold'] != 'Average']\n",
    "\n",
    "    metrics = [\n",
    "        (\"rf_accuracy\", \"RF Accuracy\"),\n",
    "        (\"rf_f1\", \"RF F1\"),\n",
    "        (\"rf_precision\", \"RF Precision\"),\n",
    "        (\"rf_recall\", \"RF Recall\"),\n",
    "        (\"knn_accuracy\", \"KNN Accuracy\"),\n",
    "        (\"knn_f1\", \"KNN F1\"),\n",
    "        (\"knn_precision\", \"KNN Precision\"),\n",
    "        (\"knn_recall\", \"KNN Recall\"),\n",
    "    ]\n",
    "    plt.figure(figsize=(12, 6))\n",
    "    for metric, label in metrics:\n",
    "        if metric in plot_df.columns:\n",
    "            plt.plot(plot_df[\"fold\"], plot_df[metric], marker='o', label=label)\n",
    "    plt.xlabel(\"Fold\")\n",
    "    plt.ylabel(\"Score\")\n",
    "    plt.ylim(0, 1)\n",
    "    plt.title(\"Cross-Validation Metrics by Fold\")\n",
    "    plt.legend()\n",
    "    plt.grid(True)\n",
    "    plt.show()\n",
    "\n",
    "#& Models Here\n",
    "\n",
    "def get_rocket_pred(X_train, y_train, X_test, static_train, static_test):\n",
    "    rocket = RFGAP_Rocket(prediction_type = \"classification\", rocket = \"Multi\",\n",
    "                         n_kernels=256, prox_method = \"rfgap\")\n",
    "    \n",
    "    rocket.fit(X_train, y_train, static_train, weights = None)\n",
    "    return rocket.predict(X_test, static_test), rocket.get_proximities().toarray(), rocket.get_test_proximities(X_test, static_test).toarray()\n"
   ]
  },
  {
   "cell_type": "code",
   "execution_count": 46,
   "id": "76fbcecb",
   "metadata": {},
   "outputs": [
    {
     "name": "stdout",
     "output_type": "stream",
     "text": [
      "Beggining Rocket Cross Validation Tests...\n",
      "Fold 1/6: 83 train samples, 17 test samples\n"
     ]
    },
    {
     "name": "stderr",
     "output_type": "stream",
     "text": [
      "/yunity/arusty/PF-GAP/.venv/lib/python3.12/site-packages/sklearn/model_selection/_split.py:776: UserWarning: The least populated class in y has only 1 members, which is less than n_splits=6.\n",
      "  warnings.warn(\n"
     ]
    },
    {
     "ename": "AttributeError",
     "evalue": "'DataFrame' object has no attribute 'toarray'",
     "output_type": "error",
     "traceback": [
      "\u001b[0;31m---------------------------------------------------------------------------\u001b[0m",
      "\u001b[0;31mAttributeError\u001b[0m                            Traceback (most recent call last)",
      "\u001b[0;32m/tmp/ipykernel_1201682/3026503651.py\u001b[0m in \u001b[0;36m?\u001b[0;34m()\u001b[0m\n\u001b[1;32m      1\u001b[0m \u001b[0mprint\u001b[0m\u001b[0;34m(\u001b[0m\u001b[0;34m\"Beggining Rocket Cross Validation Tests...\"\u001b[0m\u001b[0;34m)\u001b[0m\u001b[0;34m\u001b[0m\u001b[0;34m\u001b[0m\u001b[0m\n\u001b[0;32m----> 2\u001b[0;31m \u001b[0mrocket_fold\u001b[0m \u001b[0;34m=\u001b[0m \u001b[0mget_cross_validation_results\u001b[0m\u001b[0;34m(\u001b[0m\u001b[0mget_rocket_pred\u001b[0m\u001b[0;34m)\u001b[0m\u001b[0;34m\u001b[0m\u001b[0;34m\u001b[0m\u001b[0m\n\u001b[0m\u001b[1;32m      3\u001b[0m \u001b[0mrocket_fold\u001b[0m\u001b[0;34m.\u001b[0m\u001b[0mto_csv\u001b[0m\u001b[0;34m(\u001b[0m\u001b[0mos\u001b[0m\u001b[0;34m.\u001b[0m\u001b[0mpath\u001b[0m\u001b[0;34m.\u001b[0m\u001b[0mjoin\u001b[0m\u001b[0;34m(\u001b[0m\u001b[0mdata_dir\u001b[0m\u001b[0;34m,\u001b[0m \u001b[0;34m\"rocket_scores.csv\"\u001b[0m\u001b[0;34m)\u001b[0m\u001b[0;34m,\u001b[0m \u001b[0mindex\u001b[0m\u001b[0;34m=\u001b[0m\u001b[0;32mFalse\u001b[0m\u001b[0;34m)\u001b[0m\u001b[0;34m\u001b[0m\u001b[0;34m\u001b[0m\u001b[0m\n\u001b[1;32m      4\u001b[0m \u001b[0mprint\u001b[0m\u001b[0;34m(\u001b[0m\u001b[0;34m\"---- Rocket Cross Validation Finished\"\u001b[0m\u001b[0;34m)\u001b[0m\u001b[0;34m\u001b[0m\u001b[0;34m\u001b[0m\u001b[0m\n\u001b[1;32m      5\u001b[0m \u001b[0mplot_cv_results\u001b[0m\u001b[0;34m(\u001b[0m\u001b[0mrocket_fold\u001b[0m\u001b[0;34m)\u001b[0m\u001b[0;34m\u001b[0m\u001b[0;34m\u001b[0m\u001b[0m\n",
      "\u001b[0;32m/tmp/ipykernel_1201682/1229764654.py\u001b[0m in \u001b[0;36m?\u001b[0;34m(get_predictions_method)\u001b[0m\n\u001b[1;32m     28\u001b[0m \u001b[0;34m\u001b[0m\u001b[0m\n\u001b[1;32m     29\u001b[0m     \u001b[0;32mfor\u001b[0m \u001b[0mfold\u001b[0m\u001b[0;34m,\u001b[0m \u001b[0;34m(\u001b[0m\u001b[0mtrain_idx\u001b[0m\u001b[0;34m,\u001b[0m \u001b[0mtest_idx\u001b[0m\u001b[0;34m)\u001b[0m \u001b[0;32min\u001b[0m \u001b[0menumerate\u001b[0m\u001b[0;34m(\u001b[0m\u001b[0mskf\u001b[0m\u001b[0;34m.\u001b[0m\u001b[0msplit\u001b[0m\u001b[0;34m(\u001b[0m\u001b[0mtime_series\u001b[0m\u001b[0;34m,\u001b[0m \u001b[0mlabels\u001b[0m\u001b[0;34m)\u001b[0m\u001b[0;34m)\u001b[0m\u001b[0;34m:\u001b[0m\u001b[0;34m\u001b[0m\u001b[0;34m\u001b[0m\u001b[0m\n\u001b[1;32m     30\u001b[0m         \u001b[0mprint\u001b[0m\u001b[0;34m(\u001b[0m\u001b[0;34mf\"\u001b[0m\u001b[0;34mFold \u001b[0m\u001b[0;34m{\u001b[0m\u001b[0mfold\u001b[0m \u001b[0;34m+\u001b[0m \u001b[0;36m1\u001b[0m\u001b[0;34m}\u001b[0m\u001b[0;34m/\u001b[0m\u001b[0;34m{\u001b[0m\u001b[0mskf\u001b[0m\u001b[0;34m.\u001b[0m\u001b[0mn_splits\u001b[0m\u001b[0;34m}\u001b[0m\u001b[0;34m: \u001b[0m\u001b[0;34m{\u001b[0m\u001b[0mlen\u001b[0m\u001b[0;34m(\u001b[0m\u001b[0mtrain_idx\u001b[0m\u001b[0;34m)\u001b[0m\u001b[0;34m}\u001b[0m\u001b[0;34m train samples, \u001b[0m\u001b[0;34m{\u001b[0m\u001b[0mlen\u001b[0m\u001b[0;34m(\u001b[0m\u001b[0mtest_idx\u001b[0m\u001b[0;34m)\u001b[0m\u001b[0;34m}\u001b[0m\u001b[0;34m test samples\u001b[0m\u001b[0;34m\"\u001b[0m\u001b[0;34m)\u001b[0m\u001b[0;34m\u001b[0m\u001b[0;34m\u001b[0m\u001b[0m\n\u001b[1;32m     31\u001b[0m         \u001b[0;31m# Split data\u001b[0m\u001b[0;34m\u001b[0m\u001b[0;34m\u001b[0m\u001b[0m\n\u001b[0;32m---> 32\u001b[0;31m         \u001b[0mX_train\u001b[0m\u001b[0;34m,\u001b[0m \u001b[0mX_test\u001b[0m \u001b[0;34m=\u001b[0m \u001b[0mtime_series\u001b[0m\u001b[0;34m.\u001b[0m\u001b[0mtoarray\u001b[0m\u001b[0;34m(\u001b[0m\u001b[0;34m)\u001b[0m\u001b[0;34m[\u001b[0m\u001b[0mtrain_idx\u001b[0m\u001b[0;34m]\u001b[0m\u001b[0;34m,\u001b[0m \u001b[0mtime_series\u001b[0m\u001b[0;34m.\u001b[0m\u001b[0mtoarray\u001b[0m\u001b[0;34m(\u001b[0m\u001b[0;34m)\u001b[0m\u001b[0;34m[\u001b[0m\u001b[0mtest_idx\u001b[0m\u001b[0;34m]\u001b[0m\u001b[0;34m\u001b[0m\u001b[0;34m\u001b[0m\u001b[0m\n\u001b[0m\u001b[1;32m     33\u001b[0m         \u001b[0my_train\u001b[0m\u001b[0;34m,\u001b[0m \u001b[0my_test\u001b[0m \u001b[0;34m=\u001b[0m \u001b[0mlabels\u001b[0m\u001b[0;34m[\u001b[0m\u001b[0mtrain_idx\u001b[0m\u001b[0;34m]\u001b[0m\u001b[0;34m,\u001b[0m \u001b[0mlabels\u001b[0m\u001b[0;34m[\u001b[0m\u001b[0mtest_idx\u001b[0m\u001b[0;34m]\u001b[0m\u001b[0;34m\u001b[0m\u001b[0;34m\u001b[0m\u001b[0m\n\u001b[1;32m     34\u001b[0m \u001b[0;34m\u001b[0m\u001b[0m\n\u001b[1;32m     35\u001b[0m         \u001b[0;32mif\u001b[0m \u001b[0mstatic\u001b[0m \u001b[0;32mis\u001b[0m \u001b[0;32mnot\u001b[0m \u001b[0;32mNone\u001b[0m\u001b[0;34m:\u001b[0m\u001b[0;34m\u001b[0m\u001b[0;34m\u001b[0m\u001b[0m\n",
      "\u001b[0;32m~/PF-GAP/.venv/lib/python3.12/site-packages/pandas/core/generic.py\u001b[0m in \u001b[0;36m?\u001b[0;34m(self, name)\u001b[0m\n\u001b[1;32m   6295\u001b[0m             \u001b[0;32mand\u001b[0m \u001b[0mname\u001b[0m \u001b[0;32mnot\u001b[0m \u001b[0;32min\u001b[0m \u001b[0mself\u001b[0m\u001b[0;34m.\u001b[0m\u001b[0m_accessors\u001b[0m\u001b[0;34m\u001b[0m\u001b[0;34m\u001b[0m\u001b[0m\n\u001b[1;32m   6296\u001b[0m             \u001b[0;32mand\u001b[0m \u001b[0mself\u001b[0m\u001b[0;34m.\u001b[0m\u001b[0m_info_axis\u001b[0m\u001b[0;34m.\u001b[0m\u001b[0m_can_hold_identifiers_and_holds_name\u001b[0m\u001b[0;34m(\u001b[0m\u001b[0mname\u001b[0m\u001b[0;34m)\u001b[0m\u001b[0;34m\u001b[0m\u001b[0;34m\u001b[0m\u001b[0m\n\u001b[1;32m   6297\u001b[0m         \u001b[0;34m)\u001b[0m\u001b[0;34m:\u001b[0m\u001b[0;34m\u001b[0m\u001b[0;34m\u001b[0m\u001b[0m\n\u001b[1;32m   6298\u001b[0m             \u001b[0;32mreturn\u001b[0m \u001b[0mself\u001b[0m\u001b[0;34m[\u001b[0m\u001b[0mname\u001b[0m\u001b[0;34m]\u001b[0m\u001b[0;34m\u001b[0m\u001b[0;34m\u001b[0m\u001b[0m\n\u001b[0;32m-> 6299\u001b[0;31m         \u001b[0;32mreturn\u001b[0m \u001b[0mobject\u001b[0m\u001b[0;34m.\u001b[0m\u001b[0m__getattribute__\u001b[0m\u001b[0;34m(\u001b[0m\u001b[0mself\u001b[0m\u001b[0;34m,\u001b[0m \u001b[0mname\u001b[0m\u001b[0;34m)\u001b[0m\u001b[0;34m\u001b[0m\u001b[0;34m\u001b[0m\u001b[0m\n\u001b[0m",
      "\u001b[0;31mAttributeError\u001b[0m: 'DataFrame' object has no attribute 'toarray'"
     ]
    }
   ],
   "source": [
    "print(\"Beggining Rocket Cross Validation Tests...\")\n",
    "rocket_fold = get_cross_validation_results(get_rocket_pred)\n",
    "rocket_fold.to_csv(os.path.join(data_dir, \"rocket_scores.csv\"), index=False)\n",
    "print(\"---- Rocket Cross Validation Finished\")\n",
    "plot_cv_results(rocket_fold) "
   ]
  },
  {
   "cell_type": "markdown",
   "id": "2b22d28e",
   "metadata": {},
   "source": []
  }
 ],
 "metadata": {
  "kernelspec": {
   "display_name": ".venv",
   "language": "python",
   "name": "python3"
  },
  "language_info": {
   "codemirror_mode": {
    "name": "ipython",
    "version": 3
   },
   "file_extension": ".py",
   "mimetype": "text/x-python",
   "name": "python",
   "nbconvert_exporter": "python",
   "pygments_lexer": "ipython3",
   "version": "3.12.3"
  }
 },
 "nbformat": 4,
 "nbformat_minor": 5
}
