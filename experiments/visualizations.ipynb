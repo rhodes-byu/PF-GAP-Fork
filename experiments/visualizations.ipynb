{
 "cells": [
  {
   "cell_type": "markdown",
   "id": "94d808a4",
   "metadata": {},
   "source": [
    "# General Preparations"
   ]
  },
  {
   "cell_type": "code",
   "execution_count": 7,
   "id": "6acf4679",
   "metadata": {},
   "outputs": [],
   "source": [
    "import sys\n",
    "sys.path.insert(0, '/yunity/arusty/PF-GAP')\n",
    "\n",
    "#Import libraries, MDS from SKlearn, and all the custom files\n",
    "import numpy as np\n",
    "import pandas as pd\n",
    "import matplotlib.pyplot as plt\n",
    "from sklearn.manifold import MDS\n",
    "from Pipeline.functions import *\n",
    "\n",
    "\n",
    "#Data\n",
    "from aeon.datasets import load_gunpoint\n",
    "from aeon.datasets import load_basic_motions\n",
    "\n",
    "\n",
    "#Functions\n",
    "from QGAP.qgap import QGAP\n",
    "from Redcomets.Redcomets import REDCOMETS\n",
    "from RFGAP_Rocket.RFGAP_Rocket import RFGAP_Rocket\n",
    "from RDST.rdst import RDST_GAP"
   ]
  },
  {
   "cell_type": "code",
   "execution_count": 4,
   "id": "02fda32e",
   "metadata": {},
   "outputs": [],
   "source": [
    "# Load Data\n",
    "XTRAIN, YTRAIN = load_gunpoint(split=\"TRAIN\")\n",
    "XTEST, YTEST = load_gunpoint(split=\"TEST\")\n",
    "\n",
    "# XTRAIN, YTRAIN = load_basic_motions(split=\"TRAIN\")\n",
    "# XTEST, YTEST = load_basic_motions(split=\"TEST\")\n",
    "\n",
    "#Generate random static variables to test algorithm\n",
    "XSTATIC = np.random.rand(XTRAIN.shape[0], 45)\n",
    "XSTATIC_TEST = np.random.rand(XTEST.shape[0], 45)\n"
   ]
  },
  {
   "cell_type": "code",
   "execution_count": 8,
   "id": "96a0126f",
   "metadata": {},
   "outputs": [],
   "source": [
    "#Quant\n",
    "qgap = QGAP(matrix_type=\"dense\")\n",
    "quant_prox = data_to_proximities(qgap, XTRAIN, YTRAIN, XTEST, XSTATIC,XSTATIC_TEST)\n",
    "\n",
    "#Redcomets\n",
    "redcomets = REDCOMETS(variant = 3, static = XSTATIC)\n",
    "reddcomets_prox = data_to_proximities(redcomets, XTRAIN, YTRAIN, XTEST, None , None)\n",
    "\n",
    "# Rocket\n",
    "rf_rocket = RFGAP_Rocket(prediction_type = \"classification\", rocket = \"Multi\",\n",
    "                         n_kernels=512) # Rocket Kwargs\n",
    "rocket_prox = data_to_proximities(rf_rocket, XTRAIN, YTRAIN, XTEST, XSTATIC , XSTATIC_TEST)\n",
    "\n",
    "# RDST\n",
    "rdst = RDST_GAP(save_transformed_data = True)\n",
    "rdst_prox = data_to_proximities(rdst, XTRAIN, YTRAIN, None, XSTATIC , None)\n"
   ]
  },
  {
   "cell_type": "markdown",
   "id": "26919d7e",
   "metadata": {},
   "source": [
    "# Building MDS Veiwpoints"
   ]
  },
  {
   "cell_type": "markdown",
   "id": "6ca2909c",
   "metadata": {},
   "source": []
  }
 ],
 "metadata": {
  "kernelspec": {
   "display_name": ".venv",
   "language": "python",
   "name": "python3"
  },
  "language_info": {
   "codemirror_mode": {
    "name": "ipython",
    "version": 3
   },
   "file_extension": ".py",
   "mimetype": "text/x-python",
   "name": "python",
   "nbconvert_exporter": "python",
   "pygments_lexer": "ipython3",
   "version": "3.10.12"
  }
 },
 "nbformat": 4,
 "nbformat_minor": 5
}
