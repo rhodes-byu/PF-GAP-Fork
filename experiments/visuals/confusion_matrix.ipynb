{
 "cells": [
  {
   "cell_type": "markdown",
   "id": "8a95ec3e",
   "metadata": {},
   "source": [
    "# This file is for generating different confusion matricies!"
   ]
  },
  {
   "cell_type": "markdown",
   "id": "b2e5bd60",
   "metadata": {},
   "source": []
  }
 ],
 "metadata": {
  "language_info": {
   "name": "python"
  }
 },
 "nbformat": 4,
 "nbformat_minor": 5
}
