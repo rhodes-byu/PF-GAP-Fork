{
 "cells": [
  {
   "cell_type": "markdown",
   "id": "8a95ec3e",
   "metadata": {},
   "source": [
    "# This file is for generating different confusion matricies!"
   ]
  },
  {
   "cell_type": "code",
   "execution_count": 10,
   "id": "28fec030",
   "metadata": {},
   "outputs": [
    {
     "name": "stdout",
     "output_type": "stream",
     "text": [
      "-- Data Loaded --\n"
     ]
    }
   ],
   "source": [
    "# Import libraries\n",
    "import sys\n",
    "sys.path.insert(0, '/yunity/arusty/PF-GAP/')\n",
    "\n",
    "from experiments.model_helpers import *\n",
    "import pandas as pd\n",
    "\n",
    "\n",
    "#* Load in the data\n",
    "static2024 = pd.read_csv('~/PF-GAP/data/static2024.csv')\n",
    "static2023 = pd.read_csv('~/PF-GAP/data/static2023.csv')\n",
    "static2022 = pd.read_csv('~/PF-GAP/data/static2022.csv')\n",
    "static2025 = pd.read_csv('~/PF-GAP/data/static2025.csv')\n",
    "time_series = np.array(pd.read_csv('~/PF-GAP/data/time_series.csv'))\n",
    "labels = pd.read_csv('~/PF-GAP/data/labels.csv')\n",
    "labels = np.array(labels).flatten()\n",
    "\n",
    "time_series_hourly = pd.read_csv(\"~/PF-GAP/data/HourlyReturnsSingleYear.csv\")\n",
    "labels_hourly = time_series_hourly.pop(\"Sector\").values\n",
    "tickers = time_series_hourly.pop(\"Ticker\").values\n",
    "\n",
    "\n",
    "# Hourly Data\n",
    "static_data = pd.read_csv(\"~/PF-GAP/data/sp500_fundamentals_combined.csv\")\n",
    "static_hourly = static_data[static_data['Year'] == 2024].reset_index(drop=True)\n",
    "static_hourly = static_hourly.set_index('Ticker').reindex(tickers).reset_index().drop(columns=[\"Ticker\", \"Year\"])\n",
    "if static_hourly.isnull().values.any():\n",
    "    static_hourly = static_hourly.fillna(static_hourly.median(numeric_only=True))\n",
    "\n",
    "print(\"-- Data Loaded --\")"
   ]
  },
  {
   "cell_type": "code",
   "execution_count": null,
   "id": "6f6d56aa",
   "metadata": {},
   "outputs": [],
   "source": [
    "# TODO: Build Confusion matrix function\n",
    "\n",
    "\n",
    "# TODO: Get the results to compare the hourly "
   ]
  },
  {
   "cell_type": "markdown",
   "id": "b2e5bd60",
   "metadata": {},
   "source": []
  }
 ],
 "metadata": {
  "kernelspec": {
   "display_name": ".venv",
   "language": "python",
   "name": "python3"
  },
  "language_info": {
   "codemirror_mode": {
    "name": "ipython",
    "version": 3
   },
   "file_extension": ".py",
   "mimetype": "text/x-python",
   "name": "python",
   "nbconvert_exporter": "python",
   "pygments_lexer": "ipython3",
   "version": "3.10.12"
  }
 },
 "nbformat": 4,
 "nbformat_minor": 5
}
