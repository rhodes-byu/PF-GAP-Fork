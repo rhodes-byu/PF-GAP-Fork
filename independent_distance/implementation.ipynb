{
 "cells": [
  {
   "cell_type": "markdown",
   "id": "dcea433f",
   "metadata": {},
   "source": [
    "# Implementing Distance Measures on Their own\n",
    "The purpose is to generate the proximity matrix without using any of the methods but just distance measures\n",
    "\n",
    "- Jake: Yes, this would be separate from the other models and wou be used for comparisons for the portfolio benchmarking.  tslearn has implementations a lot of these distances (https://github.com/tslearn-team/tslearn/tree/main/tslearn/metrics) which we could use or borrow from.  It might be nice to have a wrapper similar to the pairwise_distance function in sklearn, but for the time series metrics."
   ]
  },
  {
   "cell_type": "markdown",
   "id": "3e0cc27f",
   "metadata": {},
   "source": []
  }
 ],
 "metadata": {
  "language_info": {
   "name": "python"
  }
 },
 "nbformat": 4,
 "nbformat_minor": 5
}
