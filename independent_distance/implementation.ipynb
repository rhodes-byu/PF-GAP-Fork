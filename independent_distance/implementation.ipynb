{
 "cells": [
  {
   "cell_type": "markdown",
   "id": "dcea433f",
   "metadata": {},
   "source": [
    "# Implementing Distance Measures on Their own\n",
    "The purpose is to generate the proximity matrix without using any of the methods but just distance measures\n",
    "\n",
    "- Jake: Yes, this would be separate from the other models and wou be used for comparisons for the portfolio benchmarking.  tslearn has implementations a lot of these distances (https://github.com/tslearn-team/tslearn/tree/main/tslearn/metrics) which we could use or borrow from.  It might be nice to have a wrapper similar to the pairwise_distance function in sklearn, but for the time series metrics."
   ]
  },
  {
   "cell_type": "markdown",
   "id": "3e0cc27f",
   "metadata": {},
   "source": [
    "## Demonstration of Distance Matrix Computation\n",
    "Below, we demonstrate how to compute a distance matrix for a list of time series using the helper functions."
   ]
  },
  {
   "cell_type": "code",
   "execution_count": 1,
   "id": "2891afd2",
   "metadata": {},
   "outputs": [
    {
     "name": "stderr",
     "output_type": "stream",
     "text": [
      "/yunity/arusty/PF-GAP/.venv/lib/python3.12/site-packages/tslearn/bases/bases.py:15: UserWarning: h5py not installed, hdf5 features will not be supported.\n",
      "Install h5py to use hdf5 features: http://docs.h5py.org/\n",
      "  warn(h5py_msg)\n"
     ]
    }
   ],
   "source": [
    "# Import necessary libraries\n",
    "import numpy as np\n",
    "from distance_helpers import compute_distance_matrix\n",
    "\n",
    "#Data\n",
    "from aeon.datasets import load_gunpoint\n",
    "from aeon.datasets import load_basic_motions\n",
    "\n",
    "#Adjust the path\n",
    "import sys\n",
    "sys.path.insert(0, '/yunity/arusty/PF-GAP')\n",
    "\n",
    "# Load Data\n",
    "XTRAIN, YTRAIN = load_gunpoint(split=\"TRAIN\")\n",
    "XTEST, YTEST = load_gunpoint(split=\"TEST\")\n",
    "\n",
    "# XTRAIN, YTRAIN = load_basic_motions(split=\"TRAIN\")\n",
    "# XTEST, YTEST = load_basic_motions(split=\"TEST\")\n",
    "\n",
    "#Generate random static variables to test algorithm\n",
    "XSTATIC = np.random.rand(XTRAIN.shape[0], 45)\n",
    "XSTATIC_TEST = np.random.rand(XTEST.shape[0], 45)"
   ]
  },
  {
   "cell_type": "code",
   "execution_count": 4,
   "id": "29a33208",
   "metadata": {},
   "outputs": [
    {
     "name": "stdout",
     "output_type": "stream",
     "text": [
      "Shape (50, 50) Distance Matrix (DTW):\n",
      "[[ 0.          4.62126067  4.84338668 ...  5.19192617  8.12897137\n",
      "  12.07692907]\n",
      " [ 4.62126067  0.          2.49058685 ...  2.77968935  4.19359482\n",
      "  12.15547782]\n",
      " [ 4.84338668  2.49058685  0.         ...  2.85456547  4.11050844\n",
      "  11.19458226]\n",
      " ...\n",
      " [ 5.19192617  2.77968935  2.85456547 ...  0.          4.84733788\n",
      "  12.29014883]\n",
      " [ 8.12897137  4.19359482  4.11050844 ...  4.84733788  0.\n",
      "  11.75686358]\n",
      " [12.07692907 12.15547782 11.19458226 ... 12.29014883 11.75686358\n",
      "   0.        ]]\n"
     ]
    }
   ],
   "source": [
    "# Compute the distance matrix using DTW\n",
    "distance_matrix = compute_distance_matrix(XTRAIN, metric=\"dtw\")\n",
    "print(f\"Shape {distance_matrix.shape} Distance Matrix (DTW):\")\n",
    "print(distance_matrix)"
   ]
  },
  {
   "cell_type": "code",
   "execution_count": 3,
   "id": "f1fe2ed5",
   "metadata": {},
   "outputs": [
    {
     "name": "stdout",
     "output_type": "stream",
     "text": [
      "Distance Matrix (Soft-DTW):\n",
      "[[0.00000000e+00 2.13560502e+01 2.34583945e+01 ... 2.69560974e+01\n",
      "  6.60801756e+01 1.45852216e+02]\n",
      " [2.13560502e+01 5.68434189e-14 6.20302284e+00 ... 7.72667286e+00\n",
      "  1.75862375e+01 1.47755641e+02]\n",
      " [2.34583945e+01 6.20302284e+00 1.13686838e-13 ... 8.14854401e+00\n",
      "  1.68962797e+01 1.25318672e+02]\n",
      " ...\n",
      " [2.69560974e+01 7.72667286e+00 8.14854401e+00 ... 0.00000000e+00\n",
      "  2.34966845e+01 1.51047758e+02]\n",
      " [6.60801756e+01 1.75862375e+01 1.68962797e+01 ... 2.34966845e+01\n",
      "  5.68434189e-14 1.38223841e+02]\n",
      " [1.45852216e+02 1.47755641e+02 1.25318672e+02 ... 1.51047758e+02\n",
      "  1.38223841e+02 1.13686838e-13]]\n"
     ]
    }
   ],
   "source": [
    "# Compute the distance matrix using Soft-DTW\n",
    "soft_dtw_matrix = compute_distance_matrix(XTRAIN, metric=\"soft_dtw\")\n",
    "print(\"Distance Matrix (Soft-DTW):\")\n",
    "print(soft_dtw_matrix)"
   ]
  }
 ],
 "metadata": {
  "kernelspec": {
   "display_name": ".venv",
   "language": "python",
   "name": "python3"
  },
  "language_info": {
   "codemirror_mode": {
    "name": "ipython",
    "version": 3
   },
   "file_extension": ".py",
   "mimetype": "text/x-python",
   "name": "python",
   "nbconvert_exporter": "python",
   "pygments_lexer": "ipython3",
   "version": "3.12.3"
  }
 },
 "nbformat": 4,
 "nbformat_minor": 5
}
